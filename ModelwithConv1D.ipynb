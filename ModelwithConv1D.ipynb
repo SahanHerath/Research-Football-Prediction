{
 "cells": [
  {
   "cell_type": "code",
   "execution_count": 1,
   "metadata": {},
   "outputs": [],
   "source": [
    "import pandas as pd\n",
    "import seaborn as sns\n",
    "import numpy as np\n",
    "from tqdm import tqdm\n",
    "from pylab import rcParams\n",
    "import matplotlib.pyplot as plt\n",
    "from matplotlib import rc\n",
    "from torch import nn, optim\n",
    "import torch.nn.functional as F\n",
    "from sklearn.model_selection import train_test_split\n",
    "from sklearn.metrics import confusion_matrix, classification_report\n",
    "import torch\n",
    "\n",
    "df = pd.read_csv('UpdatedMatches.csv')\n",
    "data = []"
   ]
  },
  {
   "cell_type": "code",
   "execution_count": 2,
   "metadata": {},
   "outputs": [],
   "source": [
    "df['season'].replace({'2008/2009':2008, '2009/2010':2009, '2010/2011':2010, '2011/2012':2011, '2012/2013':2012, '2013/2014':2013, '2014/2015':2014, '2015/2016':2015 },inplace=True)\n",
    "\n",
    "df[\"result\"] = np.nan\n",
    "for index, row in df.iterrows():\n",
    "    if df.loc[index,'home_team_goal'] == df.loc[index,'away_team_goal']:\n",
    "        df.loc[index,'result'] = 1\n",
    "    if df.loc[index,'home_team_goal'] > df.loc[index,'away_team_goal']:\n",
    "        df.loc[index,'result'] = 2\n",
    "    if df.loc[index,'home_team_goal'] < df.loc[index,'away_team_goal']:\n",
    "        df.loc[index,'result'] = 0"
   ]
  },
  {
   "cell_type": "code",
   "execution_count": 3,
   "metadata": {},
   "outputs": [
    {
     "name": "stderr",
     "output_type": "stream",
     "text": [
      "C:\\Users\\herath\\anaconda3\\lib\\site-packages\\seaborn\\_decorators.py:36: FutureWarning: Pass the following variable as a keyword arg: x. From version 0.12, the only valid positional argument will be `data`, and passing other arguments without an explicit keyword will result in an error or misinterpretation.\n",
      "  warnings.warn(\n"
     ]
    },
    {
     "data": {
      "text/plain": [
       "<AxesSubplot:xlabel='result', ylabel='count'>"
      ]
     },
     "execution_count": 3,
     "metadata": {},
     "output_type": "execute_result"
    },
    {
     "data": {
      "image/png": "[encoded data removed]",
      "text/plain": [
       "<Figure size 432x288 with 1 Axes>"
      ]
     },
     "metadata": {
      "needs_background": "light"
     },
     "output_type": "display_data"
    }
   ],
   "source": [
    "sns.countplot(df.result)"
   ]
  },
  {
   "cell_type": "code",
   "execution_count": 4,
   "metadata": {},
   "outputs": [
    {
     "data": {
      "text/plain": [
       "2.0    0.459098\n",
       "0.0    0.288525\n",
       "1.0    0.252377\n",
       "Name: result, dtype: float64"
      ]
     },
     "execution_count": 4,
     "metadata": {},
     "output_type": "execute_result"
    }
   ],
   "source": [
    "df.result.value_counts()/df.shape[0]"
   ]
  },
  {
   "cell_type": "code",
   "execution_count": 5,
   "metadata": {},
   "outputs": [],
   "source": [
    "from tqdm import tqdm\n",
    "\n",
    "def playerfunction( df ):\n",
    "    for index, row in tqdm(df.iterrows()):\n",
    "        overall_rating_home_players = []\n",
    "        overall_rating_home_players.append(df.loc[index,'overall_rating_home_player_1'])\n",
    "        overall_rating_home_players.append(df.loc[index,'overall_rating_home_player_2'])\n",
    "        overall_rating_home_players.append(df.loc[index,'overall_rating_home_player_3'])\n",
    "        overall_rating_home_players.append(df.loc[index,'overall_rating_home_player_4'])\n",
    "        overall_rating_home_players.append(df.loc[index,'overall_rating_home_player_5'])\n",
    "        overall_rating_home_players.append(df.loc[index,'overall_rating_home_player_6'])\n",
    "        overall_rating_home_players.append(df.loc[index,'overall_rating_home_player_7'])\n",
    "        overall_rating_home_players.append(df.loc[index,'overall_rating_home_player_8'])\n",
    "        overall_rating_home_players.append(df.loc[index,'overall_rating_home_player_9'])\n",
    "        overall_rating_home_players.append(df.loc[index,'overall_rating_home_player_10'])\n",
    "        overall_rating_home_players.append(df.loc[index,'overall_rating_home_player_11'])\n",
    "\n",
    "        overall_rating_away_players = []\n",
    "        overall_rating_away_players.append(df.loc[index,'overall_rating_away_player_1'])\n",
    "        overall_rating_away_players.append(df.loc[index,'overall_rating_away_player_2'])\n",
    "        overall_rating_away_players.append(df.loc[index,'overall_rating_away_player_3'])\n",
    "        overall_rating_away_players.append(df.loc[index,'overall_rating_away_player_4'])\n",
    "        overall_rating_away_players.append(df.loc[index,'overall_rating_away_player_5'])\n",
    "        overall_rating_away_players.append(df.loc[index,'overall_rating_away_player_6'])\n",
    "        overall_rating_away_players.append(df.loc[index,'overall_rating_away_player_7'])\n",
    "        overall_rating_away_players.append(df.loc[index,'overall_rating_away_player_8'])\n",
    "        overall_rating_away_players.append(df.loc[index,'overall_rating_away_player_9'])\n",
    "        overall_rating_away_players.append(df.loc[index,'overall_rating_away_player_10'])\n",
    "        overall_rating_away_players.append(df.loc[index,'overall_rating_away_player_11'])\n",
    "\n",
    "        overall_rating_matrix = []\n",
    "        for i in range(11):          \n",
    "            a =[]\n",
    "            for j in range(11):\n",
    "                a.append(overall_rating_home_players[i]-overall_rating_away_players[j])\n",
    "            overall_rating_matrix.append(a)\n",
    "\n",
    "        potential_home_players = []\n",
    "        potential_home_players.append(df.loc[index,'potential_home_player_1'])\n",
    "        potential_home_players.append(df.loc[index,'potential_home_player_2'])\n",
    "        potential_home_players.append(df.loc[index,'potential_home_player_3'])\n",
    "        potential_home_players.append(df.loc[index,'potential_home_player_4'])\n",
    "        potential_home_players.append(df.loc[index,'potential_home_player_5'])\n",
    "        potential_home_players.append(df.loc[index,'potential_home_player_6'])\n",
    "        potential_home_players.append(df.loc[index,'potential_home_player_7'])\n",
    "        potential_home_players.append(df.loc[index,'potential_home_player_8'])\n",
    "        potential_home_players.append(df.loc[index,'potential_home_player_9'])\n",
    "        potential_home_players.append(df.loc[index,'potential_home_player_10'])\n",
    "        potential_home_players.append(df.loc[index,'potential_home_player_11'])\n",
    "\n",
    "        potential_away_players = []\n",
    "        potential_away_players.append(df.loc[index,'potential_away_player_1'])\n",
    "        potential_away_players.append(df.loc[index,'potential_away_player_2'])\n",
    "        potential_away_players.append(df.loc[index,'potential_away_player_3'])\n",
    "        potential_away_players.append(df.loc[index,'potential_away_player_4'])\n",
    "        potential_away_players.append(df.loc[index,'potential_away_player_5'])\n",
    "        potential_away_players.append(df.loc[index,'potential_away_player_6'])\n",
    "        potential_away_players.append(df.loc[index,'potential_away_player_7'])\n",
    "        potential_away_players.append(df.loc[index,'potential_away_player_8'])\n",
    "        potential_away_players.append(df.loc[index,'potential_away_player_9'])\n",
    "        potential_away_players.append(df.loc[index,'potential_away_player_10'])\n",
    "        potential_away_players.append(df.loc[index,'potential_away_player_11'])\n",
    "\n",
    "        potential_matrix = []\n",
    "        for i in range(11):          \n",
    "            b =[]\n",
    "            for j in range(11):\n",
    "                b.append(potential_home_players[i]-potential_away_players[j])\n",
    "            potential_matrix.append(b)\n",
    "\n",
    "        crossing_home_players = []\n",
    "        crossing_home_players.append(df.loc[index,'crossing_home_player_1'])\n",
    "        crossing_home_players.append(df.loc[index,'crossing_home_player_2'])\n",
    "        crossing_home_players.append(df.loc[index,'crossing_home_player_3'])\n",
    "        crossing_home_players.append(df.loc[index,'crossing_home_player_4'])\n",
    "        crossing_home_players.append(df.loc[index,'crossing_home_player_5'])\n",
    "        crossing_home_players.append(df.loc[index,'crossing_home_player_6'])\n",
    "        crossing_home_players.append(df.loc[index,'crossing_home_player_7'])\n",
    "        crossing_home_players.append(df.loc[index,'crossing_home_player_8'])\n",
    "        crossing_home_players.append(df.loc[index,'crossing_home_player_9'])\n",
    "        crossing_home_players.append(df.loc[index,'crossing_home_player_10'])\n",
    "        crossing_home_players.append(df.loc[index,'crossing_home_player_11'])\n",
    "\n",
    "        crossing_away_players = []\n",
    "        crossing_away_players.append(df.loc[index,'crossing_away_player_1'])\n",
    "        crossing_away_players.append(df.loc[index,'crossing_away_player_2'])\n",
    "        crossing_away_players.append(df.loc[index,'crossing_away_player_3'])\n",
    "        crossing_away_players.append(df.loc[index,'crossing_away_player_4'])\n",
    "        crossing_away_players.append(df.loc[index,'crossing_away_player_5'])\n",
    "        crossing_away_players.append(df.loc[index,'crossing_away_player_6'])\n",
    "        crossing_away_players.append(df.loc[index,'crossing_away_player_7'])\n",
    "        crossing_away_players.append(df.loc[index,'crossing_away_player_8'])\n",
    "        crossing_away_players.append(df.loc[index,'crossing_away_player_9'])\n",
    "        crossing_away_players.append(df.loc[index,'crossing_away_player_10'])\n",
    "        crossing_away_players.append(df.loc[index,'crossing_away_player_11'])\n",
    "\n",
    "        crossing_matrix = []\n",
    "        for i in range(11):          \n",
    "            c =[]\n",
    "            for j in range(11):\n",
    "                c.append(crossing_home_players[i]-crossing_away_players[j])\n",
    "            crossing_matrix.append(c)\n",
    "\n",
    "        finishing_home_players = []\n",
    "        finishing_home_players.append(df.loc[index,'finishing_home_player_1'])\n",
    "        finishing_home_players.append(df.loc[index,'finishing_home_player_2'])\n",
    "        finishing_home_players.append(df.loc[index,'finishing_home_player_3'])\n",
    "        finishing_home_players.append(df.loc[index,'finishing_home_player_4'])\n",
    "        finishing_home_players.append(df.loc[index,'finishing_home_player_5'])\n",
    "        finishing_home_players.append(df.loc[index,'finishing_home_player_6'])\n",
    "        finishing_home_players.append(df.loc[index,'finishing_home_player_7'])\n",
    "        finishing_home_players.append(df.loc[index,'finishing_home_player_8'])\n",
    "        finishing_home_players.append(df.loc[index,'finishing_home_player_9'])\n",
    "        finishing_home_players.append(df.loc[index,'finishing_home_player_10'])\n",
    "        finishing_home_players.append(df.loc[index,'finishing_home_player_11'])\n",
    "\n",
    "        finishing_away_players = []\n",
    "        finishing_away_players.append(df.loc[index,'finishing_away_player_1'])\n",
    "        finishing_away_players.append(df.loc[index,'finishing_away_player_2'])\n",
    "        finishing_away_players.append(df.loc[index,'finishing_away_player_3'])\n",
    "        finishing_away_players.append(df.loc[index,'finishing_away_player_4'])\n",
    "        finishing_away_players.append(df.loc[index,'finishing_away_player_5'])\n",
    "        finishing_away_players.append(df.loc[index,'finishing_away_player_6'])\n",
    "        finishing_away_players.append(df.loc[index,'finishing_away_player_7'])\n",
    "        finishing_away_players.append(df.loc[index,'finishing_away_player_8'])\n",
    "        finishing_away_players.append(df.loc[index,'finishing_away_player_9'])\n",
    "        finishing_away_players.append(df.loc[index,'finishing_away_player_10'])\n",
    "        finishing_away_players.append(df.loc[index,'finishing_away_player_11'])\n",
    "\n",
    "        finishing_matrix = []\n",
    "        for i in range(11):          \n",
    "            d =[]\n",
    "            for j in range(11):\n",
    "                d.append(finishing_home_players[i]-finishing_away_players[j])\n",
    "            finishing_matrix.append(d)\n",
    "\n",
    "\n",
    "        heading_accuracy_home_players = []\n",
    "        heading_accuracy_home_players.append(df.loc[index,'heading_accuracy_home_player_1'])\n",
    "        heading_accuracy_home_players.append(df.loc[index,'heading_accuracy_home_player_2'])\n",
    "        heading_accuracy_home_players.append(df.loc[index,'heading_accuracy_home_player_3'])\n",
    "        heading_accuracy_home_players.append(df.loc[index,'heading_accuracy_home_player_4'])\n",
    "        heading_accuracy_home_players.append(df.loc[index,'heading_accuracy_home_player_5'])\n",
    "        heading_accuracy_home_players.append(df.loc[index,'heading_accuracy_home_player_6'])\n",
    "        heading_accuracy_home_players.append(df.loc[index,'heading_accuracy_home_player_7'])\n",
    "        heading_accuracy_home_players.append(df.loc[index,'heading_accuracy_home_player_8'])\n",
    "        heading_accuracy_home_players.append(df.loc[index,'heading_accuracy_home_player_9'])\n",
    "        heading_accuracy_home_players.append(df.loc[index,'heading_accuracy_home_player_10'])\n",
    "        heading_accuracy_home_players.append(df.loc[index,'heading_accuracy_home_player_11'])\n",
    "\n",
    "        heading_accuracy_away_players = []\n",
    "        heading_accuracy_away_players.append(df.loc[index,'heading_accuracy_away_player_1'])\n",
    "        heading_accuracy_away_players.append(df.loc[index,'heading_accuracy_away_player_2'])\n",
    "        heading_accuracy_away_players.append(df.loc[index,'heading_accuracy_away_player_3'])\n",
    "        heading_accuracy_away_players.append(df.loc[index,'heading_accuracy_away_player_4'])\n",
    "        heading_accuracy_away_players.append(df.loc[index,'heading_accuracy_away_player_5'])\n",
    "        heading_accuracy_away_players.append(df.loc[index,'heading_accuracy_away_player_6'])\n",
    "        heading_accuracy_away_players.append(df.loc[index,'heading_accuracy_away_player_7'])\n",
    "        heading_accuracy_away_players.append(df.loc[index,'heading_accuracy_away_player_8'])\n",
    "        heading_accuracy_away_players.append(df.loc[index,'heading_accuracy_away_player_9'])\n",
    "        heading_accuracy_away_players.append(df.loc[index,'heading_accuracy_away_player_10'])\n",
    "        heading_accuracy_away_players.append(df.loc[index,'heading_accuracy_away_player_11'])\n",
    "\n",
    "        heading_accuracy_matrix = []\n",
    "        for i in range(11):          \n",
    "            e =[]\n",
    "            for j in range(11):\n",
    "                e.append(heading_accuracy_home_players[i]-heading_accuracy_away_players[j])\n",
    "            heading_accuracy_matrix.append(e)\n",
    "\n",
    "\n",
    "        dribbling_home_players = []\n",
    "        dribbling_home_players.append(df.loc[index,'dribbling_home_player_1'])\n",
    "        dribbling_home_players.append(df.loc[index,'dribbling_home_player_2'])\n",
    "        dribbling_home_players.append(df.loc[index,'dribbling_home_player_3'])\n",
    "        dribbling_home_players.append(df.loc[index,'dribbling_home_player_4'])\n",
    "        dribbling_home_players.append(df.loc[index,'dribbling_home_player_5'])\n",
    "        dribbling_home_players.append(df.loc[index,'dribbling_home_player_6'])\n",
    "        dribbling_home_players.append(df.loc[index,'dribbling_home_player_7'])\n",
    "        dribbling_home_players.append(df.loc[index,'dribbling_home_player_8'])\n",
    "        dribbling_home_players.append(df.loc[index,'dribbling_home_player_9'])\n",
    "        dribbling_home_players.append(df.loc[index,'dribbling_home_player_10'])\n",
    "        dribbling_home_players.append(df.loc[index,'dribbling_home_player_11'])\n",
    "\n",
    "        dribbling_away_players = []\n",
    "        dribbling_away_players.append(df.loc[index,'dribbling_away_player_1'])\n",
    "        dribbling_away_players.append(df.loc[index,'dribbling_away_player_2'])\n",
    "        dribbling_away_players.append(df.loc[index,'dribbling_away_player_3'])\n",
    "        dribbling_away_players.append(df.loc[index,'dribbling_away_player_4'])\n",
    "        dribbling_away_players.append(df.loc[index,'dribbling_away_player_5'])\n",
    "        dribbling_away_players.append(df.loc[index,'dribbling_away_player_6'])\n",
    "        dribbling_away_players.append(df.loc[index,'dribbling_away_player_7'])\n",
    "        dribbling_away_players.append(df.loc[index,'dribbling_away_player_8'])\n",
    "        dribbling_away_players.append(df.loc[index,'dribbling_away_player_9'])\n",
    "        dribbling_away_players.append(df.loc[index,'dribbling_away_player_10'])\n",
    "        dribbling_away_players.append(df.loc[index,'dribbling_away_player_11'])\n",
    "\n",
    "        dribbling_matrix = []\n",
    "        for i in range(11):          \n",
    "            f =[]\n",
    "            for j in range(11):\n",
    "                f.append(dribbling_home_players[i]-dribbling_away_players[j])\n",
    "            dribbling_matrix.append(f)\n",
    "\n",
    "\n",
    "        free_kick_accuracy_home_players = []\n",
    "        free_kick_accuracy_home_players.append(df.loc[index,'free_kick_accuracy_home_player_1'])\n",
    "        free_kick_accuracy_home_players.append(df.loc[index,'free_kick_accuracy_home_player_2'])\n",
    "        free_kick_accuracy_home_players.append(df.loc[index,'free_kick_accuracy_home_player_3'])\n",
    "        free_kick_accuracy_home_players.append(df.loc[index,'free_kick_accuracy_home_player_4'])\n",
    "        free_kick_accuracy_home_players.append(df.loc[index,'free_kick_accuracy_home_player_5'])\n",
    "        free_kick_accuracy_home_players.append(df.loc[index,'free_kick_accuracy_home_player_6'])\n",
    "        free_kick_accuracy_home_players.append(df.loc[index,'free_kick_accuracy_home_player_7'])\n",
    "        free_kick_accuracy_home_players.append(df.loc[index,'free_kick_accuracy_home_player_8'])\n",
    "        free_kick_accuracy_home_players.append(df.loc[index,'free_kick_accuracy_home_player_9'])\n",
    "        free_kick_accuracy_home_players.append(df.loc[index,'free_kick_accuracy_home_player_10'])\n",
    "        free_kick_accuracy_home_players.append(df.loc[index,'free_kick_accuracy_home_player_11'])\n",
    "\n",
    "        free_kick_accuracy_away_players = []\n",
    "        free_kick_accuracy_away_players.append(df.loc[index,'free_kick_accuracy_away_player_1'])\n",
    "        free_kick_accuracy_away_players.append(df.loc[index,'free_kick_accuracy_away_player_2'])\n",
    "        free_kick_accuracy_away_players.append(df.loc[index,'free_kick_accuracy_away_player_3'])\n",
    "        free_kick_accuracy_away_players.append(df.loc[index,'free_kick_accuracy_away_player_4'])\n",
    "        free_kick_accuracy_away_players.append(df.loc[index,'free_kick_accuracy_away_player_5'])\n",
    "        free_kick_accuracy_away_players.append(df.loc[index,'free_kick_accuracy_away_player_6'])\n",
    "        free_kick_accuracy_away_players.append(df.loc[index,'free_kick_accuracy_away_player_7'])\n",
    "        free_kick_accuracy_away_players.append(df.loc[index,'free_kick_accuracy_away_player_8'])\n",
    "        free_kick_accuracy_away_players.append(df.loc[index,'free_kick_accuracy_away_player_9'])\n",
    "        free_kick_accuracy_away_players.append(df.loc[index,'free_kick_accuracy_away_player_10'])\n",
    "        free_kick_accuracy_away_players.append(df.loc[index,'free_kick_accuracy_away_player_11'])\n",
    "\n",
    "        free_kick_accuracy_matrix = []\n",
    "        for i in range(11):          \n",
    "            g =[]\n",
    "            for j in range(11):\n",
    "                g.append(free_kick_accuracy_home_players[i]-free_kick_accuracy_away_players[j])\n",
    "            free_kick_accuracy_matrix.append(g)\n",
    "\n",
    "        ball_control_home_players = []\n",
    "        ball_control_home_players.append(df.loc[index,'ball_control_home_player_1'])\n",
    "        ball_control_home_players.append(df.loc[index,'ball_control_home_player_2'])\n",
    "        ball_control_home_players.append(df.loc[index,'ball_control_home_player_3'])\n",
    "        ball_control_home_players.append(df.loc[index,'ball_control_home_player_4'])\n",
    "        ball_control_home_players.append(df.loc[index,'ball_control_home_player_5'])\n",
    "        ball_control_home_players.append(df.loc[index,'ball_control_home_player_6'])\n",
    "        ball_control_home_players.append(df.loc[index,'ball_control_home_player_7'])\n",
    "        ball_control_home_players.append(df.loc[index,'ball_control_home_player_8'])\n",
    "        ball_control_home_players.append(df.loc[index,'ball_control_home_player_9'])\n",
    "        ball_control_home_players.append(df.loc[index,'ball_control_home_player_10'])\n",
    "        ball_control_home_players.append(df.loc[index,'ball_control_home_player_11'])\n",
    "\n",
    "\n",
    "        ball_control_away_players = []\n",
    "        ball_control_away_players.append(df.loc[index,'ball_control_away_player_1'])\n",
    "        ball_control_away_players.append(df.loc[index,'ball_control_away_player_2'])\n",
    "        ball_control_away_players.append(df.loc[index,'ball_control_away_player_3'])\n",
    "        ball_control_away_players.append(df.loc[index,'ball_control_away_player_4'])\n",
    "        ball_control_away_players.append(df.loc[index,'ball_control_away_player_5'])\n",
    "        ball_control_away_players.append(df.loc[index,'ball_control_away_player_6'])\n",
    "        ball_control_away_players.append(df.loc[index,'ball_control_away_player_7'])\n",
    "        ball_control_away_players.append(df.loc[index,'ball_control_away_player_8'])\n",
    "        ball_control_away_players.append(df.loc[index,'ball_control_away_player_9'])\n",
    "        ball_control_away_players.append(df.loc[index,'ball_control_away_player_10'])\n",
    "        ball_control_away_players.append(df.loc[index,'ball_control_away_player_11'])\n",
    "\n",
    "\n",
    "        ball_control_matrix = []\n",
    "        for i in range(11):          \n",
    "            h =[]\n",
    "            for j in range(11):\n",
    "                h.append(ball_control_home_players[i]-ball_control_away_players[j])\n",
    "            ball_control_matrix.append(h)\n",
    "\n",
    "        sprint_speed_home_players = []\n",
    "        sprint_speed_home_players.append(df.loc[index,'sprint_speed_home_player_1'])\n",
    "        sprint_speed_home_players.append(df.loc[index,'sprint_speed_home_player_2'])\n",
    "        sprint_speed_home_players.append(df.loc[index,'sprint_speed_home_player_3'])\n",
    "        sprint_speed_home_players.append(df.loc[index,'sprint_speed_home_player_4'])\n",
    "        sprint_speed_home_players.append(df.loc[index,'sprint_speed_home_player_5'])\n",
    "        sprint_speed_home_players.append(df.loc[index,'sprint_speed_home_player_6'])\n",
    "        sprint_speed_home_players.append(df.loc[index,'sprint_speed_home_player_7'])\n",
    "        sprint_speed_home_players.append(df.loc[index,'sprint_speed_home_player_8'])\n",
    "        sprint_speed_home_players.append(df.loc[index,'sprint_speed_home_player_9'])\n",
    "        sprint_speed_home_players.append(df.loc[index,'sprint_speed_home_player_10'])\n",
    "        sprint_speed_home_players.append(df.loc[index,'sprint_speed_home_player_11'])\n",
    "\n",
    "\n",
    "        sprint_speed_away_players = []\n",
    "        sprint_speed_away_players.append(df.loc[index,'sprint_speed_away_player_1'])\n",
    "        sprint_speed_away_players.append(df.loc[index,'sprint_speed_away_player_2'])\n",
    "        sprint_speed_away_players.append(df.loc[index,'sprint_speed_away_player_3'])\n",
    "        sprint_speed_away_players.append(df.loc[index,'sprint_speed_away_player_4'])\n",
    "        sprint_speed_away_players.append(df.loc[index,'sprint_speed_away_player_5'])\n",
    "        sprint_speed_away_players.append(df.loc[index,'sprint_speed_away_player_6'])\n",
    "        sprint_speed_away_players.append(df.loc[index,'sprint_speed_away_player_7'])\n",
    "        sprint_speed_away_players.append(df.loc[index,'sprint_speed_away_player_8'])\n",
    "        sprint_speed_away_players.append(df.loc[index,'sprint_speed_away_player_9'])\n",
    "        sprint_speed_away_players.append(df.loc[index,'sprint_speed_away_player_10'])\n",
    "        sprint_speed_away_players.append(df.loc[index,'sprint_speed_away_player_11'])\n",
    "\n",
    "\n",
    "        sprint_speed_matrix = []\n",
    "        for i in range(11):          \n",
    "            k =[]\n",
    "            for j in range(11):\n",
    "                k.append(sprint_speed_home_players[i]-sprint_speed_away_players[j])\n",
    "            sprint_speed_matrix.append(k)\n",
    "\n",
    "        acceleration_home_players = []\n",
    "        acceleration_home_players.append(df.loc[index,'acceleration_home_player_1'])\n",
    "        acceleration_home_players.append(df.loc[index,'acceleration_home_player_2'])\n",
    "        acceleration_home_players.append(df.loc[index,'acceleration_home_player_3'])\n",
    "        acceleration_home_players.append(df.loc[index,'acceleration_home_player_4'])\n",
    "        acceleration_home_players.append(df.loc[index,'acceleration_home_player_5'])\n",
    "        acceleration_home_players.append(df.loc[index,'acceleration_home_player_6'])\n",
    "        acceleration_home_players.append(df.loc[index,'acceleration_home_player_7'])\n",
    "        acceleration_home_players.append(df.loc[index,'acceleration_home_player_8'])\n",
    "        acceleration_home_players.append(df.loc[index,'acceleration_home_player_9'])\n",
    "        acceleration_home_players.append(df.loc[index,'acceleration_home_player_10'])\n",
    "        acceleration_home_players.append(df.loc[index,'acceleration_home_player_11'])\n",
    "\n",
    "\n",
    "        acceleration_away_players = []\n",
    "        acceleration_away_players.append(df.loc[index,'acceleration_away_player_1'])\n",
    "        acceleration_away_players.append(df.loc[index,'acceleration_away_player_2'])\n",
    "        acceleration_away_players.append(df.loc[index,'acceleration_away_player_3'])\n",
    "        acceleration_away_players.append(df.loc[index,'acceleration_away_player_4'])\n",
    "        acceleration_away_players.append(df.loc[index,'acceleration_away_player_5'])\n",
    "        acceleration_away_players.append(df.loc[index,'acceleration_away_player_6'])\n",
    "        acceleration_away_players.append(df.loc[index,'acceleration_away_player_7'])\n",
    "        acceleration_away_players.append(df.loc[index,'acceleration_away_player_8'])\n",
    "        acceleration_away_players.append(df.loc[index,'acceleration_away_player_9'])\n",
    "        acceleration_away_players.append(df.loc[index,'acceleration_away_player_10'])\n",
    "        acceleration_away_players.append(df.loc[index,'acceleration_away_player_11'])\n",
    "\n",
    "\n",
    "        acceleration_matrix = []\n",
    "        for i in range(11):          \n",
    "            k =[]\n",
    "            for j in range(11):\n",
    "                k.append(acceleration_home_players[i]-acceleration_away_players[j])\n",
    "            acceleration_matrix.append(k)\n",
    "\n",
    "        strength_home_players = []\n",
    "        strength_home_players.append(df.loc[index,'strength_home_player_1'])\n",
    "        strength_home_players.append(df.loc[index,'strength_home_player_2'])\n",
    "        strength_home_players.append(df.loc[index,'strength_home_player_3'])\n",
    "        strength_home_players.append(df.loc[index,'strength_home_player_4'])\n",
    "        strength_home_players.append(df.loc[index,'strength_home_player_5'])\n",
    "        strength_home_players.append(df.loc[index,'strength_home_player_6'])\n",
    "        strength_home_players.append(df.loc[index,'strength_home_player_7'])\n",
    "        strength_home_players.append(df.loc[index,'strength_home_player_8'])\n",
    "        strength_home_players.append(df.loc[index,'strength_home_player_9'])\n",
    "        strength_home_players.append(df.loc[index,'strength_home_player_10'])\n",
    "        strength_home_players.append(df.loc[index,'strength_home_player_11'])\n",
    "\n",
    "\n",
    "        strength_away_players = []\n",
    "        strength_away_players.append(df.loc[index,'strength_away_player_1'])\n",
    "        strength_away_players.append(df.loc[index,'strength_away_player_2'])\n",
    "        strength_away_players.append(df.loc[index,'strength_away_player_3'])\n",
    "        strength_away_players.append(df.loc[index,'strength_away_player_4'])\n",
    "        strength_away_players.append(df.loc[index,'strength_away_player_5'])\n",
    "        strength_away_players.append(df.loc[index,'strength_away_player_6'])\n",
    "        strength_away_players.append(df.loc[index,'strength_away_player_7'])\n",
    "        strength_away_players.append(df.loc[index,'strength_away_player_8'])\n",
    "        strength_away_players.append(df.loc[index,'strength_away_player_9'])\n",
    "        strength_away_players.append(df.loc[index,'strength_away_player_10'])\n",
    "        strength_away_players.append(df.loc[index,'strength_away_player_11'])\n",
    "\n",
    "\n",
    "        strength_matrix = []\n",
    "        for i in range(11):          \n",
    "            k =[]\n",
    "            for j in range(11):\n",
    "                k.append(strength_home_players[i]-strength_away_players[j])\n",
    "            strength_matrix.append(k)\n",
    "\n",
    "        long_shots_home_players = []\n",
    "        long_shots_home_players.append(df.loc[index,'long_shots_home_player_1'])\n",
    "        long_shots_home_players.append(df.loc[index,'long_shots_home_player_2'])\n",
    "        long_shots_home_players.append(df.loc[index,'long_shots_home_player_3'])\n",
    "        long_shots_home_players.append(df.loc[index,'long_shots_home_player_4'])\n",
    "        long_shots_home_players.append(df.loc[index,'long_shots_home_player_5'])\n",
    "        long_shots_home_players.append(df.loc[index,'long_shots_home_player_6'])\n",
    "        long_shots_home_players.append(df.loc[index,'long_shots_home_player_7'])\n",
    "        long_shots_home_players.append(df.loc[index,'long_shots_home_player_8'])\n",
    "        long_shots_home_players.append(df.loc[index,'long_shots_home_player_9'])\n",
    "        long_shots_home_players.append(df.loc[index,'long_shots_home_player_10'])\n",
    "        long_shots_home_players.append(df.loc[index,'long_shots_home_player_11'])\n",
    "\n",
    "\n",
    "        long_shots_away_players = []\n",
    "        long_shots_away_players.append(df.loc[index,'long_shots_away_player_1'])\n",
    "        long_shots_away_players.append(df.loc[index,'long_shots_away_player_2'])\n",
    "        long_shots_away_players.append(df.loc[index,'long_shots_away_player_3'])\n",
    "        long_shots_away_players.append(df.loc[index,'long_shots_away_player_4'])\n",
    "        long_shots_away_players.append(df.loc[index,'long_shots_away_player_5'])\n",
    "        long_shots_away_players.append(df.loc[index,'long_shots_away_player_6'])\n",
    "        long_shots_away_players.append(df.loc[index,'long_shots_away_player_7'])\n",
    "        long_shots_away_players.append(df.loc[index,'long_shots_away_player_8'])\n",
    "        long_shots_away_players.append(df.loc[index,'long_shots_away_player_9'])\n",
    "        long_shots_away_players.append(df.loc[index,'long_shots_away_player_10'])\n",
    "        long_shots_away_players.append(df.loc[index,'long_shots_away_player_11'])\n",
    "\n",
    "\n",
    "        long_shots_matrix = []\n",
    "        for i in range(11):          \n",
    "            k =[]\n",
    "            for j in range(11):\n",
    "                k.append(long_shots_home_players[i]-long_shots_away_players[j])\n",
    "            long_shots_matrix.append(k)\n",
    "\n",
    "\n",
    "        aggression_home_players = []\n",
    "        aggression_home_players.append(df.loc[index,'aggression_home_player_1'])\n",
    "        aggression_home_players.append(df.loc[index,'aggression_home_player_2'])\n",
    "        aggression_home_players.append(df.loc[index,'aggression_home_player_3'])\n",
    "        aggression_home_players.append(df.loc[index,'aggression_home_player_4'])\n",
    "        aggression_home_players.append(df.loc[index,'aggression_home_player_5'])\n",
    "        aggression_home_players.append(df.loc[index,'aggression_home_player_6'])\n",
    "        aggression_home_players.append(df.loc[index,'aggression_home_player_7'])\n",
    "        aggression_home_players.append(df.loc[index,'aggression_home_player_8'])\n",
    "        aggression_home_players.append(df.loc[index,'aggression_home_player_9'])\n",
    "        aggression_home_players.append(df.loc[index,'aggression_home_player_10'])\n",
    "        aggression_home_players.append(df.loc[index,'aggression_home_player_11'])\n",
    "\n",
    "\n",
    "        aggression_away_players = []\n",
    "        aggression_away_players.append(df.loc[index,'aggression_away_player_1'])\n",
    "        aggression_away_players.append(df.loc[index,'aggression_away_player_2'])\n",
    "        aggression_away_players.append(df.loc[index,'aggression_away_player_3'])\n",
    "        aggression_away_players.append(df.loc[index,'aggression_away_player_4'])\n",
    "        aggression_away_players.append(df.loc[index,'aggression_away_player_5'])\n",
    "        aggression_away_players.append(df.loc[index,'aggression_away_player_6'])\n",
    "        aggression_away_players.append(df.loc[index,'aggression_away_player_7'])\n",
    "        aggression_away_players.append(df.loc[index,'aggression_away_player_8'])\n",
    "        aggression_away_players.append(df.loc[index,'aggression_away_player_9'])\n",
    "        aggression_away_players.append(df.loc[index,'aggression_away_player_10'])\n",
    "        aggression_away_players.append(df.loc[index,'aggression_away_player_11'])\n",
    "\n",
    "\n",
    "        aggression_matrix = []\n",
    "        for i in range(11):          \n",
    "            k =[]\n",
    "            for j in range(11):\n",
    "                k.append(aggression_home_players[i]-aggression_away_players[j])\n",
    "            aggression_matrix.append(k)\n",
    "\n",
    "\n",
    "        positioning_home_players = []\n",
    "        positioning_home_players.append(df.loc[index,'positioning_home_player_1'])\n",
    "        positioning_home_players.append(df.loc[index,'positioning_home_player_2'])\n",
    "        positioning_home_players.append(df.loc[index,'positioning_home_player_3'])\n",
    "        positioning_home_players.append(df.loc[index,'positioning_home_player_4'])\n",
    "        positioning_home_players.append(df.loc[index,'positioning_home_player_5'])\n",
    "        positioning_home_players.append(df.loc[index,'positioning_home_player_6'])\n",
    "        positioning_home_players.append(df.loc[index,'positioning_home_player_7'])\n",
    "        positioning_home_players.append(df.loc[index,'positioning_home_player_8'])\n",
    "        positioning_home_players.append(df.loc[index,'positioning_home_player_9'])\n",
    "        positioning_home_players.append(df.loc[index,'positioning_home_player_10'])\n",
    "        positioning_home_players.append(df.loc[index,'positioning_home_player_11'])\n",
    "\n",
    "\n",
    "        positioning_away_players = []\n",
    "        positioning_away_players.append(df.loc[index,'positioning_away_player_1'])\n",
    "        positioning_away_players.append(df.loc[index,'positioning_away_player_2'])\n",
    "        positioning_away_players.append(df.loc[index,'positioning_away_player_3'])\n",
    "        positioning_away_players.append(df.loc[index,'positioning_away_player_4'])\n",
    "        positioning_away_players.append(df.loc[index,'positioning_away_player_5'])\n",
    "        positioning_away_players.append(df.loc[index,'positioning_away_player_6'])\n",
    "        positioning_away_players.append(df.loc[index,'positioning_away_player_7'])\n",
    "        positioning_away_players.append(df.loc[index,'positioning_away_player_8'])\n",
    "        positioning_away_players.append(df.loc[index,'positioning_away_player_9'])\n",
    "        positioning_away_players.append(df.loc[index,'positioning_away_player_10'])\n",
    "        positioning_away_players.append(df.loc[index,'positioning_away_player_11'])\n",
    "\n",
    "\n",
    "        positioning_matrix = []\n",
    "        for i in range(11):          \n",
    "            k =[]\n",
    "            for j in range(11):\n",
    "                k.append(positioning_home_players[i]-positioning_away_players[j])\n",
    "            positioning_matrix.append(k)\n",
    "\n",
    "        interceptions_home_players = []\n",
    "        interceptions_home_players.append(df.loc[index,'interceptions_home_player_1'])\n",
    "        interceptions_home_players.append(df.loc[index,'interceptions_home_player_2'])\n",
    "        interceptions_home_players.append(df.loc[index,'interceptions_home_player_3'])\n",
    "        interceptions_home_players.append(df.loc[index,'interceptions_home_player_4'])\n",
    "        interceptions_home_players.append(df.loc[index,'interceptions_home_player_5'])\n",
    "        interceptions_home_players.append(df.loc[index,'interceptions_home_player_6'])\n",
    "        interceptions_home_players.append(df.loc[index,'interceptions_home_player_7'])\n",
    "        interceptions_home_players.append(df.loc[index,'interceptions_home_player_8'])\n",
    "        interceptions_home_players.append(df.loc[index,'interceptions_home_player_9'])\n",
    "        interceptions_home_players.append(df.loc[index,'interceptions_home_player_10'])\n",
    "        interceptions_home_players.append(df.loc[index,'interceptions_home_player_11'])\n",
    "\n",
    "\n",
    "        interceptions_away_players = []\n",
    "        interceptions_away_players.append(df.loc[index,'interceptions_away_player_1'])\n",
    "        interceptions_away_players.append(df.loc[index,'interceptions_away_player_2'])\n",
    "        interceptions_away_players.append(df.loc[index,'interceptions_away_player_3'])\n",
    "        interceptions_away_players.append(df.loc[index,'interceptions_away_player_4'])\n",
    "        interceptions_away_players.append(df.loc[index,'interceptions_away_player_5'])\n",
    "        interceptions_away_players.append(df.loc[index,'interceptions_away_player_6'])\n",
    "        interceptions_away_players.append(df.loc[index,'interceptions_away_player_7'])\n",
    "        interceptions_away_players.append(df.loc[index,'interceptions_away_player_8'])\n",
    "        interceptions_away_players.append(df.loc[index,'interceptions_away_player_9'])\n",
    "        interceptions_away_players.append(df.loc[index,'interceptions_away_player_10'])\n",
    "        interceptions_away_players.append(df.loc[index,'interceptions_away_player_11'])\n",
    "\n",
    "\n",
    "        interceptions_matrix = []\n",
    "        for i in range(11):          \n",
    "            k =[]\n",
    "            for j in range(11):\n",
    "                k.append(interceptions_home_players[i]-interceptions_away_players[j])\n",
    "            interceptions_matrix.append(k)\n",
    "\n",
    "        penalties_home_players = []\n",
    "        penalties_home_players.append(df.loc[index,'penalties_home_player_1'])\n",
    "        penalties_home_players.append(df.loc[index,'penalties_home_player_2'])\n",
    "        penalties_home_players.append(df.loc[index,'penalties_home_player_3'])\n",
    "        penalties_home_players.append(df.loc[index,'penalties_home_player_4'])\n",
    "        penalties_home_players.append(df.loc[index,'penalties_home_player_5'])\n",
    "        penalties_home_players.append(df.loc[index,'penalties_home_player_6'])\n",
    "        penalties_home_players.append(df.loc[index,'penalties_home_player_7'])\n",
    "        penalties_home_players.append(df.loc[index,'penalties_home_player_8'])\n",
    "        penalties_home_players.append(df.loc[index,'penalties_home_player_9'])\n",
    "        penalties_home_players.append(df.loc[index,'penalties_home_player_10'])\n",
    "        penalties_home_players.append(df.loc[index,'penalties_home_player_11'])\n",
    "\n",
    "\n",
    "        penalties_away_players = []\n",
    "        penalties_away_players.append(df.loc[index,'penalties_away_player_1'])\n",
    "        penalties_away_players.append(df.loc[index,'penalties_away_player_2'])\n",
    "        penalties_away_players.append(df.loc[index,'penalties_away_player_3'])\n",
    "        penalties_away_players.append(df.loc[index,'penalties_away_player_4'])\n",
    "        penalties_away_players.append(df.loc[index,'penalties_away_player_5'])\n",
    "        penalties_away_players.append(df.loc[index,'penalties_away_player_6'])\n",
    "        penalties_away_players.append(df.loc[index,'penalties_away_player_7'])\n",
    "        penalties_away_players.append(df.loc[index,'penalties_away_player_8'])\n",
    "        penalties_away_players.append(df.loc[index,'penalties_away_player_9'])\n",
    "        penalties_away_players.append(df.loc[index,'penalties_away_player_10'])\n",
    "        penalties_away_players.append(df.loc[index,'penalties_away_player_11'])\n",
    "\n",
    "\n",
    "        penalties_matrix = []\n",
    "        for i in range(11):          \n",
    "            k =[]\n",
    "            for j in range(11):\n",
    "                k.append(penalties_home_players[i]-penalties_away_players[j])\n",
    "            penalties_matrix.append(k)\n",
    "\n",
    "        marking_home_players = []\n",
    "        marking_home_players.append(df.loc[index,'marking_home_player_1'])\n",
    "        marking_home_players.append(df.loc[index,'marking_home_player_2'])\n",
    "        marking_home_players.append(df.loc[index,'marking_home_player_3'])\n",
    "        marking_home_players.append(df.loc[index,'marking_home_player_4'])\n",
    "        marking_home_players.append(df.loc[index,'marking_home_player_5'])\n",
    "        marking_home_players.append(df.loc[index,'marking_home_player_6'])\n",
    "        marking_home_players.append(df.loc[index,'marking_home_player_7'])\n",
    "        marking_home_players.append(df.loc[index,'marking_home_player_8'])\n",
    "        marking_home_players.append(df.loc[index,'marking_home_player_9'])\n",
    "        marking_home_players.append(df.loc[index,'marking_home_player_10'])\n",
    "        marking_home_players.append(df.loc[index,'marking_home_player_11'])\n",
    "\n",
    "\n",
    "        marking_away_players = []\n",
    "        marking_away_players.append(df.loc[index,'marking_away_player_1'])\n",
    "        marking_away_players.append(df.loc[index,'marking_away_player_2'])\n",
    "        marking_away_players.append(df.loc[index,'marking_away_player_3'])\n",
    "        marking_away_players.append(df.loc[index,'marking_away_player_4'])\n",
    "        marking_away_players.append(df.loc[index,'marking_away_player_5'])\n",
    "        marking_away_players.append(df.loc[index,'marking_away_player_6'])\n",
    "        marking_away_players.append(df.loc[index,'marking_away_player_7'])\n",
    "        marking_away_players.append(df.loc[index,'marking_away_player_8'])\n",
    "        marking_away_players.append(df.loc[index,'marking_away_player_9'])\n",
    "        marking_away_players.append(df.loc[index,'marking_away_player_10'])\n",
    "        marking_away_players.append(df.loc[index,'marking_away_player_11'])\n",
    "\n",
    "\n",
    "        marking_matrix = []\n",
    "        for i in range(11):          \n",
    "            k =[]\n",
    "            for j in range(11):\n",
    "                k.append(marking_home_players[i]-marking_away_players[j])\n",
    "            marking_matrix.append(k)\n",
    "\n",
    "\n",
    "        stamina_home_players = []\n",
    "        stamina_home_players.append(df.loc[index,'stamina_home_player_1'])\n",
    "        stamina_home_players.append(df.loc[index,'stamina_home_player_2'])\n",
    "        stamina_home_players.append(df.loc[index,'stamina_home_player_3'])\n",
    "        stamina_home_players.append(df.loc[index,'stamina_home_player_4'])\n",
    "        stamina_home_players.append(df.loc[index,'stamina_home_player_5'])\n",
    "        stamina_home_players.append(df.loc[index,'stamina_home_player_6'])\n",
    "        stamina_home_players.append(df.loc[index,'stamina_home_player_7'])\n",
    "        stamina_home_players.append(df.loc[index,'stamina_home_player_8'])\n",
    "        stamina_home_players.append(df.loc[index,'stamina_home_player_9'])\n",
    "        stamina_home_players.append(df.loc[index,'stamina_home_player_10'])\n",
    "        stamina_home_players.append(df.loc[index,'stamina_home_player_11'])\n",
    "\n",
    "\n",
    "        stamina_away_players = []\n",
    "        stamina_away_players.append(df.loc[index,'stamina_away_player_1'])\n",
    "        stamina_away_players.append(df.loc[index,'stamina_away_player_2'])\n",
    "        stamina_away_players.append(df.loc[index,'stamina_away_player_3'])\n",
    "        stamina_away_players.append(df.loc[index,'stamina_away_player_4'])\n",
    "        stamina_away_players.append(df.loc[index,'stamina_away_player_5'])\n",
    "        stamina_away_players.append(df.loc[index,'stamina_away_player_6'])\n",
    "        stamina_away_players.append(df.loc[index,'stamina_away_player_7'])\n",
    "        stamina_away_players.append(df.loc[index,'stamina_away_player_8'])\n",
    "        stamina_away_players.append(df.loc[index,'stamina_away_player_9'])\n",
    "        stamina_away_players.append(df.loc[index,'stamina_away_player_10'])\n",
    "        stamina_away_players.append(df.loc[index,'stamina_away_player_11'])\n",
    "\n",
    "\n",
    "        stamina_matrix = []\n",
    "        for i in range(11):          \n",
    "            k =[]\n",
    "            for j in range(11):\n",
    "                k.append(stamina_home_players[i]-stamina_away_players[j])\n",
    "            stamina_matrix.append(k)\n",
    "\n",
    "\n",
    "        shot_power_home_players = []\n",
    "        shot_power_home_players.append(df.loc[index,'shot_power_home_player_1'])\n",
    "        shot_power_home_players.append(df.loc[index,'shot_power_home_player_2'])\n",
    "        shot_power_home_players.append(df.loc[index,'shot_power_home_player_3'])\n",
    "        shot_power_home_players.append(df.loc[index,'shot_power_home_player_4'])\n",
    "        shot_power_home_players.append(df.loc[index,'shot_power_home_player_5'])\n",
    "        shot_power_home_players.append(df.loc[index,'shot_power_home_player_6'])\n",
    "        shot_power_home_players.append(df.loc[index,'shot_power_home_player_7'])\n",
    "        shot_power_home_players.append(df.loc[index,'shot_power_home_player_8'])\n",
    "        shot_power_home_players.append(df.loc[index,'shot_power_home_player_9'])\n",
    "        shot_power_home_players.append(df.loc[index,'shot_power_home_player_10'])\n",
    "        shot_power_home_players.append(df.loc[index,'shot_power_home_player_11'])\n",
    "\n",
    "\n",
    "        shot_power_away_players = []\n",
    "        shot_power_away_players.append(df.loc[index,'shot_power_away_player_1'])\n",
    "        shot_power_away_players.append(df.loc[index,'shot_power_away_player_2'])\n",
    "        shot_power_away_players.append(df.loc[index,'shot_power_away_player_3'])\n",
    "        shot_power_away_players.append(df.loc[index,'shot_power_away_player_4'])\n",
    "        shot_power_away_players.append(df.loc[index,'shot_power_away_player_5'])\n",
    "        shot_power_away_players.append(df.loc[index,'shot_power_away_player_6'])\n",
    "        shot_power_away_players.append(df.loc[index,'shot_power_away_player_7'])\n",
    "        shot_power_away_players.append(df.loc[index,'shot_power_away_player_8'])\n",
    "        shot_power_away_players.append(df.loc[index,'shot_power_away_player_9'])\n",
    "        shot_power_away_players.append(df.loc[index,'shot_power_away_player_10'])\n",
    "        shot_power_away_players.append(df.loc[index,'shot_power_away_player_11'])\n",
    "\n",
    "\n",
    "        shot_power_matrix = []\n",
    "        for i in range(11):          \n",
    "            k =[]\n",
    "            for j in range(11):\n",
    "                k.append(shot_power_home_players[i]-shot_power_away_players[j])\n",
    "            shot_power_matrix.append(k)\n",
    "\n",
    "        player_attributes_3D = []\n",
    "        player_attributes_3D.append(overall_rating_matrix)\n",
    "        player_attributes_3D.append(potential_matrix)\n",
    "        player_attributes_3D.append(crossing_matrix)\n",
    "        player_attributes_3D.append(finishing_matrix)\n",
    "        player_attributes_3D.append(heading_accuracy_matrix)\n",
    "        player_attributes_3D.append(dribbling_matrix)\n",
    "        player_attributes_3D.append(free_kick_accuracy_matrix)\n",
    "        player_attributes_3D.append(ball_control_matrix)\n",
    "        player_attributes_3D.append(sprint_speed_matrix)\n",
    "        player_attributes_3D.append(acceleration_matrix)\n",
    "        player_attributes_3D.append(strength_matrix)\n",
    "        player_attributes_3D.append(long_shots_matrix)\n",
    "        player_attributes_3D.append(aggression_matrix)\n",
    "        player_attributes_3D.append(positioning_matrix)\n",
    "        player_attributes_3D.append(interceptions_matrix)\n",
    "        player_attributes_3D.append(penalties_matrix)\n",
    "        player_attributes_3D.append(marking_matrix)\n",
    "        player_attributes_3D.append(stamina_matrix)\n",
    "        player_attributes_3D.append(shot_power_matrix)\n",
    "\n",
    "        data.append(player_attributes_3D)\n"
   ]
  },
  {
   "cell_type": "code",
   "execution_count": 6,
   "metadata": {},
   "outputs": [],
   "source": [
    "def teamfunction( df ):\n",
    "    for index, row in tqdm(df.iterrows()):\n",
    "        \n",
    "        home_team = []\n",
    "        home_team.append(df.loc[index,'buildUpPlaySpeed_home_team'])\n",
    "        home_team.append(df.loc[index,'buildUpPlayDribbling_home_team'])\n",
    "        home_team.append(df.loc[index,'buildUpPlayPassing_home_team'])\n",
    "        home_team.append(df.loc[index,'chanceCreationPassing_home_team'])\n",
    "        home_team.append(df.loc[index,'chanceCreationCrossing_home_team'])\n",
    "        home_team.append(df.loc[index,'chanceCreationShooting_home_team'])\n",
    "        home_team.append(df.loc[index,'defencePressure_home_team'])\n",
    "        home_team.append(df.loc[index,'defenceAggression_home_team'])\n",
    "        home_team.append(df.loc[index,'defenceTeamWidth_home_team'])\n",
    "\n",
    "\n",
    "        away_team = []\n",
    "        away_team.append(df.loc[index,'buildUpPlaySpeed_away_team'])\n",
    "        away_team.append(df.loc[index,'buildUpPlayDribbling_away_team'])\n",
    "        away_team.append(df.loc[index,'buildUpPlayPassing_away_team'])\n",
    "        away_team.append(df.loc[index,'chanceCreationPassing_away_team'])\n",
    "        away_team.append(df.loc[index,'chanceCreationCrossing_away_team'])\n",
    "        away_team.append(df.loc[index,'chanceCreationShooting_away_team'])\n",
    "        away_team.append(df.loc[index,'defencePressure_away_team'])\n",
    "        away_team.append(df.loc[index,'defenceAggression_away_team'])\n",
    "        away_team.append(df.loc[index,'defenceTeamWidth_away_team'])\n",
    "\n",
    "\n",
    "        team_matrix = []\n",
    "        for i in range(9):          \n",
    "            m =[]\n",
    "            for j in range(9):\n",
    "                m.append(home_team[i]-away_team[j])\n",
    "            team_matrix.append(m)\n",
    "\n",
    "        team_details.append(team_matrix)"
   ]
  },
  {
   "cell_type": "code",
   "execution_count": 7,
   "metadata": {},
   "outputs": [],
   "source": [
    "mod = nn.Sequential(\n",
    "    nn.Conv2d(in_channels=19, out_channels=1, kernel_size=1, stride=1)\n",
    ")"
   ]
  },
  {
   "cell_type": "code",
   "execution_count": 8,
   "metadata": {},
   "outputs": [],
   "source": [
    "X = df.drop(['result','date', 'home_team_goal','away_team_goal'], axis=1)\n",
    "y = df[['result']]\n",
    "RANDOM_SEED =42\n",
    "np.random.seed(RANDOM_SEED)\n",
    "torch.manual_seed(RANDOM_SEED)\n",
    "\n",
    "X_train, X_test, y_train, y_test =\\\n",
    "    train_test_split(X, y, test_size=0.2, random_state=RANDOM_SEED)"
   ]
  },
  {
   "cell_type": "code",
   "execution_count": 9,
   "metadata": {},
   "outputs": [
    {
     "data": {
      "text/plain": [
       "2.0    0.458637\n",
       "0.0    0.290715\n",
       "1.0    0.250647\n",
       "Name: result, dtype: float64"
      ]
     },
     "execution_count": 9,
     "metadata": {},
     "output_type": "execute_result"
    }
   ],
   "source": [
    "y_train.result.value_counts()/y_train.shape[0]"
   ]
  },
  {
   "cell_type": "code",
   "execution_count": 10,
   "metadata": {},
   "outputs": [
    {
     "name": "stderr",
     "output_type": "stream",
     "text": [
      "16996it [06:26, 43.92it/s]\n"
     ]
    }
   ],
   "source": [
    "data = []\n",
    "playerfunction( X_train )\n",
    "player_train_data = data\n",
    "Player_Train = torch.Tensor(np.array(player_train_data))"
   ]
  },
  {
   "cell_type": "code",
   "execution_count": 11,
   "metadata": {},
   "outputs": [],
   "source": [
    "Player_Train = mod(Player_Train.view(Player_Train.shape[0],19,-1,1))\n"
   ]
  },
  {
   "cell_type": "code",
   "execution_count": 13,
   "metadata": {},
   "outputs": [
    {
     "data": {
      "text/plain": [
       "torch.Size([16996, 1, 121, 1])"
      ]
     },
     "execution_count": 13,
     "metadata": {},
     "output_type": "execute_result"
    }
   ],
   "source": [
    "Player_Train.size()"
   ]
  },
  {
   "cell_type": "code",
   "execution_count": 14,
   "metadata": {},
   "outputs": [
    {
     "data": {
      "text/plain": [
       "torch.Size([16996, 1, 121])"
      ]
     },
     "execution_count": 14,
     "metadata": {},
     "output_type": "execute_result"
    }
   ],
   "source": [
    "Player_Train = torch.flatten(Player_Train, start_dim=2)\n",
    "Player_Train.size()"
   ]
  },
  {
   "cell_type": "code",
   "execution_count": 15,
   "metadata": {},
   "outputs": [
    {
     "name": "stderr",
     "output_type": "stream",
     "text": [
      "4250it [02:13, 31.81it/s]\n"
     ]
    }
   ],
   "source": [
    "data = []\n",
    "playerfunction( X_test )\n",
    "player_test_data = data\n",
    "Player_Test = torch.Tensor(np.array(player_test_data))"
   ]
  },
  {
   "cell_type": "code",
   "execution_count": 16,
   "metadata": {},
   "outputs": [
    {
     "data": {
      "text/plain": [
       "torch.Size([4250, 1, 121, 1])"
      ]
     },
     "execution_count": 16,
     "metadata": {},
     "output_type": "execute_result"
    }
   ],
   "source": [
    "Player_Test = mod(Player_Test.view(Player_Test.shape[0],19,-1,1))\n",
    "Player_Test.size()"
   ]
  },
  {
   "cell_type": "code",
   "execution_count": 17,
   "metadata": {},
   "outputs": [
    {
     "data": {
      "text/plain": [
       "torch.Size([4250, 1, 121])"
      ]
     },
     "execution_count": 17,
     "metadata": {},
     "output_type": "execute_result"
    }
   ],
   "source": [
    "Player_Test = torch.flatten(Player_Test, start_dim=2)\n",
    "Player_Test.size()"
   ]
  },
  {
   "cell_type": "code",
   "execution_count": 18,
   "metadata": {},
   "outputs": [
    {
     "name": "stderr",
     "output_type": "stream",
     "text": [
      "16996it [00:25, 668.93it/s]\n"
     ]
    }
   ],
   "source": [
    "team_details = []\n",
    "teamfunction( X_train )\n",
    "team_train_data = team_details\n",
    "Team_Train = torch.Tensor(np.array(team_train_data))"
   ]
  },
  {
   "cell_type": "code",
   "execution_count": 19,
   "metadata": {},
   "outputs": [
    {
     "data": {
      "text/plain": [
       "torch.Size([16996, 9, 9])"
      ]
     },
     "execution_count": 19,
     "metadata": {},
     "output_type": "execute_result"
    }
   ],
   "source": [
    "Team_Train.size()"
   ]
  },
  {
   "cell_type": "code",
   "execution_count": 20,
   "metadata": {},
   "outputs": [
    {
     "name": "stderr",
     "output_type": "stream",
     "text": [
      "4250it [00:06, 642.33it/s]\n"
     ]
    }
   ],
   "source": [
    "team_details = []\n",
    "teamfunction( X_test )\n",
    "team_test_data = team_details\n",
    "Team_Test = torch.Tensor(np.array(team_test_data))"
   ]
  },
  {
   "cell_type": "code",
   "execution_count": 21,
   "metadata": {},
   "outputs": [
    {
     "data": {
      "text/plain": [
       "torch.Size([4250, 9, 9])"
      ]
     },
     "execution_count": 21,
     "metadata": {},
     "output_type": "execute_result"
    }
   ],
   "source": [
    "Team_Test.size()"
   ]
  },
  {
   "cell_type": "code",
   "execution_count": 22,
   "metadata": {},
   "outputs": [],
   "source": [
    "y_train = torch.squeeze(torch.LongTensor(np.array(y_train)))"
   ]
  },
  {
   "cell_type": "code",
   "execution_count": 23,
   "metadata": {},
   "outputs": [
    {
     "data": {
      "text/plain": [
       "torch.Size([16996])"
      ]
     },
     "execution_count": 23,
     "metadata": {},
     "output_type": "execute_result"
    }
   ],
   "source": [
    "y_train.size()"
   ]
  },
  {
   "cell_type": "code",
   "execution_count": 24,
   "metadata": {},
   "outputs": [],
   "source": [
    "y_test = torch.squeeze(torch.LongTensor(np.array(y_test)))"
   ]
  },
  {
   "cell_type": "code",
   "execution_count": 25,
   "metadata": {},
   "outputs": [
    {
     "data": {
      "text/plain": [
       "torch.Size([4250])"
      ]
     },
     "execution_count": 25,
     "metadata": {},
     "output_type": "execute_result"
    }
   ],
   "source": [
    "y_test.size()"
   ]
  },
  {
   "cell_type": "code",
   "execution_count": 26,
   "metadata": {},
   "outputs": [],
   "source": [
    "Team_Train = torch.flatten(Team_Train, start_dim=1)\n",
    "Team_Test = torch.flatten(Team_Test, start_dim=1)"
   ]
  },
  {
   "cell_type": "code",
   "execution_count": 27,
   "metadata": {},
   "outputs": [
    {
     "data": {
      "text/plain": [
       "torch.Size([16996, 81])"
      ]
     },
     "execution_count": 27,
     "metadata": {},
     "output_type": "execute_result"
    }
   ],
   "source": [
    "Team_Train.size()"
   ]
  },
  {
   "cell_type": "code",
   "execution_count": 28,
   "metadata": {},
   "outputs": [
    {
     "data": {
      "text/plain": [
       "torch.Size([16996, 1, 81])"
      ]
     },
     "execution_count": 28,
     "metadata": {},
     "output_type": "execute_result"
    }
   ],
   "source": [
    "Team_Train = Team_Train.unsqueeze(1)\n",
    "Team_Train.size()"
   ]
  },
  {
   "cell_type": "code",
   "execution_count": 29,
   "metadata": {},
   "outputs": [
    {
     "data": {
      "text/plain": [
       "torch.Size([4250, 1, 81])"
      ]
     },
     "execution_count": 29,
     "metadata": {},
     "output_type": "execute_result"
    }
   ],
   "source": [
    "Team_Test = Team_Test.unsqueeze(1)\n",
    "Team_Test.size()"
   ]
  },
  {
   "cell_type": "code",
   "execution_count": 30,
   "metadata": {},
   "outputs": [
    {
     "data": {
      "text/plain": [
       "torch.Size([16996, 1, 202])"
      ]
     },
     "execution_count": 30,
     "metadata": {},
     "output_type": "execute_result"
    }
   ],
   "source": [
    "X_Train_Data = torch.cat((Player_Train, Team_Train ), 2)\n",
    "X_Train_Data.size()"
   ]
  },
  {
   "cell_type": "code",
   "execution_count": 31,
   "metadata": {},
   "outputs": [
    {
     "data": {
      "text/plain": [
       "torch.Size([4250, 1, 202])"
      ]
     },
     "execution_count": 31,
     "metadata": {},
     "output_type": "execute_result"
    }
   ],
   "source": [
    "X_Test_Data = torch.cat((Player_Test, Team_Test), 2)\n",
    "X_Test_Data.size()"
   ]
  },
  {
   "cell_type": "code",
   "execution_count": 66,
   "metadata": {},
   "outputs": [],
   "source": [
    "import torch.utils.data as data_utils\n",
    "\n",
    "train = data_utils.TensorDataset(X_Train_Data, y_train)\n",
    "train_loader = data_utils.DataLoader(train, batch_size=128, shuffle=True)\n",
    "\n",
    "\n",
    "test = data_utils.TensorDataset(X_Test_Data, y_test)\n",
    "test_loader = data_utils.DataLoader(test, batch_size=128, shuffle=True)"
   ]
  },
  {
   "cell_type": "code",
   "execution_count": 69,
   "metadata": {},
   "outputs": [],
   "source": [
    "import torch\n",
    "from torch import nn\n",
    "from torch import optim\n",
    "import torch.nn.functional as F\n",
    "\n",
    "class Network(nn.Module):\n",
    "\n",
    "    def __init__(self):\n",
    "        super(Network, self).__init__()\n",
    "        # Convolutional Neural Network Layer \n",
    "        self.convolutaional_neural_network_layers = nn.Sequential(\n",
    "                # Here we are defining our 2D convolutional layers\n",
    "                # We can calculate the output size of each convolutional layer using the following formular\n",
    "                # outputOfEachConvLayer = [(in_channel + 2*padding - kernel_size) / stride] + 1\n",
    "                # We have in_channels=1 because our input is a grayscale image\n",
    "                nn.Conv1d(in_channels=1, out_channels=4, kernel_size=20, padding=0, stride=1), # (N, 1, 28, 28) \n",
    "                nn.ReLU(),\n",
    "                nn.MaxPool1d(kernel_size=2),\n",
    "          \n",
    "                # output of our second conv layer\n",
    "                nn.Conv1d(in_channels=4, out_channels=8, kernel_size=20, padding=0, stride=1),\n",
    "                nn.ReLU(),\n",
    "                nn.MaxPool1d(kernel_size=2),\n",
    "                # After the second convolutional layer the output of this layer is:\n",
    "                # [(82 + 2*1 - 2)/1] + 1 = 83. \n",
    "                nn.Conv1d(in_channels=8, out_channels=16, kernel_size=20, padding=0, stride=1),\n",
    "                nn.ReLU(),\n",
    "                nn.MaxPool1d(kernel_size=2),\n",
    "        )\n",
    "\n",
    "        # Linear layer\n",
    "        self.linear_layers = nn.Sequential(\n",
    "                # We have the output_channel=24 of our second conv layer, and 3*3 is derived by the formular \n",
    "                # which is the output of each convolutional layer\n",
    "                nn.Linear(in_features=16*8, out_features=64),          \n",
    "                nn.ReLU(),\n",
    "                nn.Linear(in_features=64, out_features=32),\n",
    "                nn.ReLU(),\n",
    "                nn.Linear(in_features=32, out_features=16),\n",
    "                nn.ReLU(),\n",
    "                nn.Linear(in_features=16, out_features=3) # The output is 10 which should match the size of our class\n",
    "        )\n",
    "\n",
    "    # Defining the forward pass \n",
    "    def forward(self, x):\n",
    "        x = self.convolutaional_neural_network_layers(x)\n",
    "        # After we get the output of our convolutional layer we must flatten it or rearrange the output into a vector\n",
    "        x = x.view(x.size(0), -1)\n",
    "        # Then pass it through the linear layer\n",
    "        x = self.linear_layers(x)\n",
    "        return x"
   ]
  },
  {
   "cell_type": "code",
   "execution_count": 70,
   "metadata": {},
   "outputs": [],
   "source": [
    "#Doing it on GPU\n",
    "device = torch.device(\"cuda:0\" if torch.cuda.is_available() else \"cpu\")\n",
    "\n",
    "net = Network()\n",
    "net.to(device)\n",
    "\n",
    "#Training\n",
    "optimizer = optim.SGD(net.parameters(), lr=0.005)\n",
    "criterion = nn.CrossEntropyLoss()\n",
    "\n",
    "\n",
    "X_Train_Data = X_Train_Data.to(device)\n",
    "X_Test_Data = X_Test_Data.to(device)\n",
    "\n",
    "y_train = y_train.to(device)\n",
    "y_test = y_test.to(device)\n",
    "\n",
    "criterion = criterion.to(device)"
   ]
  },
  {
   "cell_type": "code",
   "execution_count": 71,
   "metadata": {},
   "outputs": [
    {
     "name": "stdout",
     "output_type": "stream",
     "text": [
      "Epoch: 0/100   Training loss: 1.1016   Testing loss: 1.0705   Train accuracy: 0.3471   Test accuracy: 0.4609  \n",
      "Epoch: 1/100   Training loss: 1.0662   Testing loss: 1.0629   Train accuracy: 0.4586   Test accuracy: 0.4609  \n",
      "Epoch: 2/100   Training loss: 1.0615   Testing loss: 1.0572   Train accuracy: 0.4586   Test accuracy: 0.4609  \n",
      "Epoch: 3/100   Training loss: 1.0581   Testing loss: 1.0544   Train accuracy: 0.4587   Test accuracy: 0.4612  \n",
      "Epoch: 4/100   Training loss: 1.0542   Testing loss: 1.0499   Train accuracy: 0.4589   Test accuracy: 0.4616  \n",
      "Epoch: 5/100   Training loss: 1.0493   Testing loss: 1.0448   Train accuracy: 0.4598   Test accuracy: 0.4635  \n",
      "Epoch: 6/100   Training loss: 1.0443   Testing loss: 1.0430   Train accuracy: 0.4646   Test accuracy: 0.4741  \n",
      "Epoch: 7/100   Training loss: 1.0393   Testing loss: 1.0351   Train accuracy: 0.4717   Test accuracy: 0.4739  \n",
      "Epoch: 8/100   Training loss: 1.0354   Testing loss: 1.0350   Train accuracy: 0.4788   Test accuracy: 0.4835  \n",
      "Epoch: 9/100   Training loss: 1.0320   Testing loss: 1.0290   Train accuracy: 0.4833   Test accuracy: 0.4878  \n",
      "Epoch: 10/100   Training loss: 1.0292   Testing loss: 1.0283   Train accuracy: 0.4875   Test accuracy: 0.4913  \n",
      "Epoch: 11/100   Training loss: 1.0266   Testing loss: 1.0267   Train accuracy: 0.4909   Test accuracy: 0.4925  \n",
      "Epoch: 12/100   Training loss: 1.0249   Testing loss: 1.0224   Train accuracy: 0.4918   Test accuracy: 0.4967  \n",
      "Epoch: 13/100   Training loss: 1.0233   Testing loss: 1.0180   Train accuracy: 0.4943   Test accuracy: 0.4979  \n",
      "Epoch: 14/100   Training loss: 1.0220   Testing loss: 1.0197   Train accuracy: 0.4944   Test accuracy: 0.4986  \n",
      "Epoch: 15/100   Training loss: 1.0208   Testing loss: 1.0210   Train accuracy: 0.4939   Test accuracy: 0.4965  \n",
      "Epoch: 16/100   Training loss: 1.0199   Testing loss: 1.0158   Train accuracy: 0.4951   Test accuracy: 0.4981  \n",
      "Epoch: 17/100   Training loss: 1.0187   Testing loss: 1.0196   Train accuracy: 0.4950   Test accuracy: 0.4991  \n",
      "Epoch: 18/100   Training loss: 1.0178   Testing loss: 1.0183   Train accuracy: 0.4965   Test accuracy: 0.5002  \n",
      "Epoch: 19/100   Training loss: 1.0168   Testing loss: 1.0166   Train accuracy: 0.4974   Test accuracy: 0.5012  \n",
      "Epoch: 20/100   Training loss: 1.0162   Testing loss: 1.0168   Train accuracy: 0.4981   Test accuracy: 0.4981  \n",
      "Epoch: 21/100   Training loss: 1.0156   Testing loss: 1.0179   Train accuracy: 0.4996   Test accuracy: 0.5002  \n",
      "Epoch: 22/100   Training loss: 1.0151   Testing loss: 1.0163   Train accuracy: 0.4984   Test accuracy: 0.5007  \n",
      "Epoch: 23/100   Training loss: 1.0143   Testing loss: 1.0162   Train accuracy: 0.5002   Test accuracy: 0.5012  \n",
      "Epoch: 24/100   Training loss: 1.0138   Testing loss: 1.0138   Train accuracy: 0.5010   Test accuracy: 0.5012  \n",
      "Epoch: 25/100   Training loss: 1.0131   Testing loss: 1.0141   Train accuracy: 0.5007   Test accuracy: 0.5012  \n",
      "Epoch: 26/100   Training loss: 1.0127   Testing loss: 1.0136   Train accuracy: 0.5031   Test accuracy: 0.5031  \n",
      "Epoch: 27/100   Training loss: 1.0122   Testing loss: 1.0127   Train accuracy: 0.5016   Test accuracy: 0.5012  \n",
      "Epoch: 28/100   Training loss: 1.0119   Testing loss: 1.0231   Train accuracy: 0.5031   Test accuracy: 0.4854  \n",
      "Epoch: 29/100   Training loss: 1.0113   Testing loss: 1.0135   Train accuracy: 0.5048   Test accuracy: 0.5047  \n",
      "Epoch: 30/100   Training loss: 1.0108   Testing loss: 1.0146   Train accuracy: 0.5032   Test accuracy: 0.5024  \n",
      "Epoch: 31/100   Training loss: 1.0107   Testing loss: 1.0137   Train accuracy: 0.5047   Test accuracy: 0.5042  \n",
      "Epoch: 32/100   Training loss: 1.0101   Testing loss: 1.0129   Train accuracy: 0.5036   Test accuracy: 0.5033  \n",
      "Epoch: 33/100   Training loss: 1.0093   Testing loss: 1.0148   Train accuracy: 0.5061   Test accuracy: 0.5061  \n",
      "Epoch: 34/100   Training loss: 1.0091   Testing loss: 1.0126   Train accuracy: 0.5045   Test accuracy: 0.5021  \n",
      "Epoch: 35/100   Training loss: 1.0087   Testing loss: 1.0134   Train accuracy: 0.5069   Test accuracy: 0.5071  \n",
      "Epoch: 36/100   Training loss: 1.0080   Testing loss: 1.0140   Train accuracy: 0.5066   Test accuracy: 0.5024  \n",
      "Epoch: 37/100   Training loss: 1.0075   Testing loss: 1.0142   Train accuracy: 0.5069   Test accuracy: 0.5047  \n",
      "Epoch: 38/100   Training loss: 1.0073   Testing loss: 1.0116   Train accuracy: 0.5066   Test accuracy: 0.5028  \n",
      "Epoch: 39/100   Training loss: 1.0070   Testing loss: 1.0177   Train accuracy: 0.5086   Test accuracy: 0.4955  \n",
      "Epoch: 40/100   Training loss: 1.0068   Testing loss: 1.0110   Train accuracy: 0.5062   Test accuracy: 0.5052  \n",
      "Epoch: 41/100   Training loss: 1.0064   Testing loss: 1.0118   Train accuracy: 0.5092   Test accuracy: 0.5073  \n",
      "Epoch: 42/100   Training loss: 1.0058   Testing loss: 1.0115   Train accuracy: 0.5092   Test accuracy: 0.5049  \n",
      "Epoch: 43/100   Training loss: 1.0053   Testing loss: 1.0120   Train accuracy: 0.5094   Test accuracy: 0.5064  \n",
      "Epoch: 44/100   Training loss: 1.0051   Testing loss: 1.0133   Train accuracy: 0.5082   Test accuracy: 0.5080  \n",
      "Epoch: 45/100   Training loss: 1.0052   Testing loss: 1.0098   Train accuracy: 0.5114   Test accuracy: 0.5054  \n",
      "Epoch: 46/100   Training loss: 1.0046   Testing loss: 1.0134   Train accuracy: 0.5092   Test accuracy: 0.5042  \n",
      "Epoch: 47/100   Training loss: 1.0036   Testing loss: 1.0128   Train accuracy: 0.5108   Test accuracy: 0.5068  \n",
      "Epoch: 48/100   Training loss: 1.0036   Testing loss: 1.0112   Train accuracy: 0.5108   Test accuracy: 0.5064  \n",
      "Epoch: 49/100   Training loss: 1.0033   Testing loss: 1.0091   Train accuracy: 0.5112   Test accuracy: 0.5068  \n",
      "Epoch: 50/100   Training loss: 1.0029   Testing loss: 1.0112   Train accuracy: 0.5138   Test accuracy: 0.5019  \n",
      "Epoch: 51/100   Training loss: 1.0023   Testing loss: 1.0109   Train accuracy: 0.5121   Test accuracy: 0.5012  \n",
      "Epoch: 52/100   Training loss: 1.0023   Testing loss: 1.0118   Train accuracy: 0.5112   Test accuracy: 0.5052  \n",
      "Epoch: 53/100   Training loss: 1.0017   Testing loss: 1.0134   Train accuracy: 0.5135   Test accuracy: 0.5019  \n",
      "Epoch: 54/100   Training loss: 1.0014   Testing loss: 1.0155   Train accuracy: 0.5137   Test accuracy: 0.5045  \n",
      "Epoch: 55/100   Training loss: 1.0011   Testing loss: 1.0116   Train accuracy: 0.5140   Test accuracy: 0.5040  \n",
      "Epoch: 56/100   Training loss: 1.0003   Testing loss: 1.0117   Train accuracy: 0.5134   Test accuracy: 0.5026  \n",
      "Epoch: 57/100   Training loss: 0.9997   Testing loss: 1.0104   Train accuracy: 0.5136   Test accuracy: 0.5035  \n",
      "Epoch: 58/100   Training loss: 1.0000   Testing loss: 1.0127   Train accuracy: 0.5143   Test accuracy: 0.4934  \n",
      "Epoch: 59/100   Training loss: 0.9988   Testing loss: 1.0128   Train accuracy: 0.5134   Test accuracy: 0.4995  \n",
      "Epoch: 60/100   Training loss: 0.9987   Testing loss: 1.0106   Train accuracy: 0.5156   Test accuracy: 0.5080  \n",
      "Epoch: 61/100   Training loss: 0.9985   Testing loss: 1.0090   Train accuracy: 0.5146   Test accuracy: 0.5005  \n",
      "Epoch: 62/100   Training loss: 0.9978   Testing loss: 1.0183   Train accuracy: 0.5184   Test accuracy: 0.4932  \n",
      "Epoch: 63/100   Training loss: 0.9979   Testing loss: 1.0119   Train accuracy: 0.5169   Test accuracy: 0.5059  \n",
      "Epoch: 64/100   Training loss: 0.9967   Testing loss: 1.0118   Train accuracy: 0.5182   Test accuracy: 0.5078  \n",
      "Epoch: 65/100   Training loss: 0.9961   Testing loss: 1.0139   Train accuracy: 0.5200   Test accuracy: 0.4984  \n",
      "Epoch: 66/100   Training loss: 0.9966   Testing loss: 1.0092   Train accuracy: 0.5164   Test accuracy: 0.5031  \n",
      "Epoch: 67/100   Training loss: 0.9965   Testing loss: 1.0112   Train accuracy: 0.5189   Test accuracy: 0.5024  \n",
      "Epoch: 68/100   Training loss: 0.9947   Testing loss: 1.0100   Train accuracy: 0.5205   Test accuracy: 0.5054  \n",
      "Epoch: 69/100   Training loss: 0.9944   Testing loss: 1.0167   Train accuracy: 0.5195   Test accuracy: 0.4958  \n",
      "Epoch: 70/100   Training loss: 0.9942   Testing loss: 1.0127   Train accuracy: 0.5192   Test accuracy: 0.4993  \n",
      "Epoch: 71/100   Training loss: 0.9944   Testing loss: 1.0117   Train accuracy: 0.5205   Test accuracy: 0.5024  \n",
      "Epoch: 72/100   Training loss: 0.9932   Testing loss: 1.0150   Train accuracy: 0.5215   Test accuracy: 0.5024  \n",
      "Epoch: 73/100   Training loss: 0.9938   Testing loss: 1.0131   Train accuracy: 0.5204   Test accuracy: 0.5052  \n"
     ]
    },
    {
     "name": "stdout",
     "output_type": "stream",
     "text": [
      "Epoch: 74/100   Training loss: 0.9932   Testing loss: 1.0150   Train accuracy: 0.5222   Test accuracy: 0.4953  \n",
      "Epoch: 75/100   Training loss: 0.9919   Testing loss: 1.0189   Train accuracy: 0.5228   Test accuracy: 0.5038  \n",
      "Epoch: 76/100   Training loss: 0.9914   Testing loss: 1.0142   Train accuracy: 0.5212   Test accuracy: 0.5042  \n",
      "Epoch: 77/100   Training loss: 0.9906   Testing loss: 1.0158   Train accuracy: 0.5238   Test accuracy: 0.5049  \n",
      "Epoch: 78/100   Training loss: 0.9910   Testing loss: 1.0113   Train accuracy: 0.5225   Test accuracy: 0.4995  \n",
      "Epoch: 79/100   Training loss: 0.9904   Testing loss: 1.0151   Train accuracy: 0.5218   Test accuracy: 0.5035  \n",
      "Epoch: 80/100   Training loss: 0.9897   Testing loss: 1.0124   Train accuracy: 0.5241   Test accuracy: 0.5040  \n",
      "Epoch: 81/100   Training loss: 0.9889   Testing loss: 1.0124   Train accuracy: 0.5235   Test accuracy: 0.4955  \n",
      "Epoch: 82/100   Training loss: 0.9889   Testing loss: 1.0165   Train accuracy: 0.5236   Test accuracy: 0.5038  \n",
      "Epoch: 83/100   Training loss: 0.9873   Testing loss: 1.0220   Train accuracy: 0.5235   Test accuracy: 0.5052  \n",
      "Epoch: 84/100   Training loss: 0.9860   Testing loss: 1.0218   Train accuracy: 0.5275   Test accuracy: 0.5035  \n",
      "Epoch: 85/100   Training loss: 0.9862   Testing loss: 1.0132   Train accuracy: 0.5269   Test accuracy: 0.5012  \n",
      "Epoch: 86/100   Training loss: 0.9870   Testing loss: 1.0280   Train accuracy: 0.5243   Test accuracy: 0.4991  \n",
      "Epoch: 87/100   Training loss: 0.9853   Testing loss: 1.0192   Train accuracy: 0.5270   Test accuracy: 0.4922  \n",
      "Epoch: 88/100   Training loss: 0.9861   Testing loss: 1.0206   Train accuracy: 0.5256   Test accuracy: 0.4932  \n",
      "Epoch: 89/100   Training loss: 0.9844   Testing loss: 1.0223   Train accuracy: 0.5262   Test accuracy: 0.5009  \n",
      "Epoch: 90/100   Training loss: 0.9842   Testing loss: 1.0177   Train accuracy: 0.5292   Test accuracy: 0.5038  \n",
      "Epoch: 91/100   Training loss: 0.9834   Testing loss: 1.0184   Train accuracy: 0.5301   Test accuracy: 0.5024  \n",
      "Epoch: 92/100   Training loss: 0.9817   Testing loss: 1.0173   Train accuracy: 0.5286   Test accuracy: 0.5007  \n",
      "Epoch: 93/100   Training loss: 0.9831   Testing loss: 1.0247   Train accuracy: 0.5287   Test accuracy: 0.4861  \n",
      "Epoch: 94/100   Training loss: 0.9823   Testing loss: 1.0233   Train accuracy: 0.5293   Test accuracy: 0.5009  \n",
      "Epoch: 95/100   Training loss: 0.9820   Testing loss: 1.0209   Train accuracy: 0.5294   Test accuracy: 0.5012  \n",
      "Epoch: 96/100   Training loss: 0.9809   Testing loss: 1.0309   Train accuracy: 0.5294   Test accuracy: 0.4814  \n",
      "Epoch: 97/100   Training loss: 0.9803   Testing loss: 1.0271   Train accuracy: 0.5317   Test accuracy: 0.4849  \n",
      "Epoch: 98/100   Training loss: 0.9788   Testing loss: 1.0545   Train accuracy: 0.5321   Test accuracy: 0.4661  \n",
      "Epoch: 99/100   Training loss: 0.9790   Testing loss: 1.0170   Train accuracy: 0.5303   Test accuracy: 0.4991  \n"
     ]
    }
   ],
   "source": [
    "epochs = 100\n",
    "train_loss, val_loss = [], []\n",
    "accuracy_total_train, accuracy_total_val = [], []\n",
    "\n",
    "for epoch in range(epochs):\n",
    "   \n",
    "    total_train_loss = 0\n",
    "    total_val_loss = 0\n",
    "\n",
    "    net.train()\n",
    "    \n",
    "    total = 0\n",
    "    # training our model\n",
    "    for idx, (x, y) in enumerate(train_loader):\n",
    "\n",
    "        optimizer.zero_grad()\n",
    "\n",
    "        pred = net(x)\n",
    "        loss = criterion(pred, y)\n",
    "        total_train_loss += loss.item()\n",
    "        loss.backward(retain_graph=True)\n",
    "        optimizer.step()\n",
    "\n",
    "        pred = torch.nn.functional.softmax(pred, dim=1)\n",
    "        for i, p in enumerate(pred):\n",
    "            if y[i] == torch.max(p.data, 0)[1]:\n",
    "                total = total + 1\n",
    "                \n",
    "    accuracy_train = total / len(X_Train_Data)\n",
    "    accuracy_total_train.append(accuracy_train)\n",
    "\n",
    "    total_train_loss = total_train_loss / (idx + 1)\n",
    "    train_loss.append(total_train_loss)\n",
    "    \n",
    "    # validating our model\n",
    "    net.eval()\n",
    "    total = 0\n",
    "    for idx, (x, y) in enumerate(test_loader):\n",
    "        pred = net(x)\n",
    "        loss = criterion(pred, y)\n",
    "        total_val_loss += loss.item()\n",
    "\n",
    "        pred = torch.nn.functional.softmax(pred, dim=1)\n",
    "        for i, p in enumerate(pred):\n",
    "            if y[i] == torch.max(p.data, 0)[1]:\n",
    "                total = total + 1\n",
    "\n",
    "    accuracy_val = total / len(X_Test_Data)\n",
    "    accuracy_total_val.append(accuracy_val)\n",
    "\n",
    "    total_val_loss = total_val_loss / (idx + 1)\n",
    "    val_loss.append(total_val_loss)\n",
    "\n",
    "    if epoch % 1 == 0:\n",
    "          print(\"Epoch: {}/{}  \".format(epoch, epochs),\n",
    "            \"Training loss: {:.4f}  \".format(total_train_loss),\n",
    "            \"Testing loss: {:.4f}  \".format(total_val_loss),\n",
    "            \"Train accuracy: {:.4f}  \".format(accuracy_train),\n",
    "            \"Test accuracy: {:.4f}  \".format(accuracy_val))"
   ]
  },
  {
   "cell_type": "code",
   "execution_count": 72,
   "metadata": {},
   "outputs": [
    {
     "data": {
      "image/png": "[encoded data removed]",
      "text/plain": [
       "<Figure size 432x288 with 1 Axes>"
      ]
     },
     "metadata": {
      "needs_background": "light"
     },
     "output_type": "display_data"
    }
   ],
   "source": [
    "plt.plot(train_loss, label='Training loss')\n",
    "plt.plot(val_loss, label='Test loss')\n",
    "plt.legend()\n",
    "plt.grid()"
   ]
  },
  {
   "cell_type": "code",
   "execution_count": 73,
   "metadata": {},
   "outputs": [
    {
     "data": {
      "image/png": "[encoded data removed]",
      "text/plain": [
       "<Figure size 432x288 with 1 Axes>"
      ]
     },
     "metadata": {
      "needs_background": "light"
     },
     "output_type": "display_data"
    }
   ],
   "source": [
    "plt.plot(accuracy_total_train, label='Training Accuracy')\n",
    "plt.plot(accuracy_total_val, label='Test Accuracy')\n",
    "plt.legend()\n",
    "plt.grid()"
   ]
  },
  {
   "cell_type": "code",
   "execution_count": 47,
   "metadata": {},
   "outputs": [],
   "source": [
    "#saving the model\n",
    "\n",
    "MODEL_PATH = 'model.pth'\n",
    "torch.save(net, MODEL_PATH)"
   ]
  },
  {
   "cell_type": "code",
   "execution_count": 48,
   "metadata": {},
   "outputs": [],
   "source": [
    "net = torch.load(MODEL_PATH)"
   ]
  },
  {
   "cell_type": "code",
   "execution_count": 49,
   "metadata": {},
   "outputs": [],
   "source": [
    "#Evaluation\n",
    "classes = ['Loss','Draw','Win']\n",
    "predict_list = []\n",
    "y_pred = net(X_Test_Data)\n",
    "\n",
    "for i, p in enumerate(y_pred):\n",
    "    y_pred = torch.max(p.data, 0)[1]\n",
    "    predict_list.append(y_pred)\n",
    "stacked_tensor = torch.stack(predict_list)\n",
    "y_test = y_test.cpu()"
   ]
  },
  {
   "cell_type": "code",
   "execution_count": 50,
   "metadata": {},
   "outputs": [
    {
     "name": "stdout",
     "output_type": "stream",
     "text": [
      "              precision    recall  f1-score   support\n",
      "\n",
      "        Loss       0.40      0.53      0.46      1189\n",
      "        Draw       0.50      0.00      0.00      1102\n",
      "         Win       0.53      0.73      0.62      1959\n",
      "\n",
      "    accuracy                           0.49      4250\n",
      "   macro avg       0.48      0.42      0.36      4250\n",
      "weighted avg       0.49      0.49      0.41      4250\n",
      "\n"
     ]
    }
   ],
   "source": [
    "print(classification_report(y_test, stacked_tensor, target_names=classes))"
   ]
  },
  {
   "cell_type": "code",
   "execution_count": 51,
   "metadata": {},
   "outputs": [
    {
     "data": {
      "text/plain": [
       "Text(0.5, 15.0, 'Predicted label')"
      ]
     },
     "execution_count": 51,
     "metadata": {},
     "output_type": "execute_result"
    },
    {
     "data": {
      "image/png": "[encoded data removed]",
      "text/plain": [
       "<Figure size 432x288 with 2 Axes>"
      ]
     },
     "metadata": {
      "needs_background": "light"
     },
     "output_type": "display_data"
    }
   ],
   "source": [
    "cm = confusion_matrix(y_test, stacked_tensor)\n",
    "df_cm = pd.DataFrame(cm, index=classes, columns=classes)\n",
    "hmap = sns.heatmap(df_cm, annot=True, fmt=\"d\")\n",
    "hmap.yaxis.set_ticklabels(hmap.yaxis.get_ticklabels(), rotation=0, ha='right')\n",
    "hmap.xaxis.set_ticklabels(hmap.xaxis.get_ticklabels(), rotation=0, ha='right')\n",
    "plt.ylabel('True label')\n",
    "plt.xlabel('Predicted label')"
   ]
  },
  {
   "cell_type": "code",
   "execution_count": 52,
   "metadata": {},
   "outputs": [
    {
     "name": "stdout",
     "output_type": "stream",
     "text": [
      "Accuracy of the network on the 4250 matches: 48 %\n"
     ]
    }
   ],
   "source": [
    "correct = 0\n",
    "total = 0\n",
    "\n",
    "with torch.no_grad():\n",
    "    for i, (x, y) in enumerate(test_loader):\n",
    "        outputs = net(x)\n",
    "        _, predicted = torch.max(outputs.data, 1)\n",
    "        total += y.size(0)\n",
    "        correct += (predicted == y).sum().item()\n",
    "\n",
    "print('Accuracy of the network on the 4250 matches: %d %%' % (\n",
    "    100 * correct / total))"
   ]
  },
  {
   "cell_type": "code",
   "execution_count": null,
   "metadata": {},
   "outputs": [],
   "source": []
  }
 ],
 "metadata": {
  "kernelspec": {
   "display_name": "Python 3",
   "language": "python",
   "name": "python3"
  },
  "language_info": {
   "codemirror_mode": {
    "name": "ipython",
    "version": 3
   },
   "file_extension": ".py",
   "mimetype": "text/x-python",
   "name": "python",
   "nbconvert_exporter": "python",
   "pygments_lexer": "ipython3",
   "version": "3.8.5"
  }
 },
 "nbformat": 4,
 "nbformat_minor": 4
}
