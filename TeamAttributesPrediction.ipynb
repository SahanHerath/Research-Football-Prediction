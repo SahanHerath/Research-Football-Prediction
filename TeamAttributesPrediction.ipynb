{
 "cells": [
  {
   "cell_type": "code",
   "execution_count": 1,
   "metadata": {},
   "outputs": [],
   "source": [
    "import pandas as pd\n",
    "import seaborn as sns\n",
    "import numpy as np\n",
    "from tqdm import tqdm\n",
    "from pylab import rcParams\n",
    "import matplotlib.pyplot as plt\n",
    "from matplotlib import rc\n",
    "from torch import nn, optim\n",
    "import torch.nn.functional as F\n",
    "from sklearn.model_selection import train_test_split\n",
    "from sklearn.metrics import confusion_matrix, classification_report\n",
    "import torch\n",
    "\n",
    "df = pd.read_csv('UpdatedMatches.csv')\n",
    "data = []"
   ]
  },
  {
   "cell_type": "code",
   "execution_count": 2,
   "metadata": {},
   "outputs": [
    {
     "name": "stderr",
     "output_type": "stream",
     "text": [
      "C:\\Users\\herath\\anaconda3\\lib\\site-packages\\seaborn\\_decorators.py:36: FutureWarning: Pass the following variable as a keyword arg: x. From version 0.12, the only valid positional argument will be `data`, and passing other arguments without an explicit keyword will result in an error or misinterpretation.\n",
      "  warnings.warn(\n"
     ]
    },
    {
     "data": {
      "text/plain": [
       "<AxesSubplot:xlabel='result', ylabel='count'>"
      ]
     },
     "execution_count": 2,
     "metadata": {},
     "output_type": "execute_result"
    },
    {
     "data": {
      "image/png": "[encoded data removed]",
      "text/plain": [
       "<Figure size 432x288 with 1 Axes>"
      ]
     },
     "metadata": {
      "needs_background": "light"
     },
     "output_type": "display_data"
    }
   ],
   "source": [
    "df['season'].replace({'2008/2009':2008, '2009/2010':2009, '2010/2011':2010, '2011/2012':2011, '2012/2013':2012, '2013/2014':2013, '2014/2015':2014, '2015/2016':2015 },inplace=True)\n",
    "\n",
    "df[\"result\"] = np.nan\n",
    "for index, row in df.iterrows():\n",
    "    if df.loc[index,'home_team_goal'] == df.loc[index,'away_team_goal']:\n",
    "        df.loc[index,'result'] = 1\n",
    "    if df.loc[index,'home_team_goal'] > df.loc[index,'away_team_goal']:\n",
    "        df.loc[index,'result'] = 2\n",
    "    if df.loc[index,'home_team_goal'] < df.loc[index,'away_team_goal']:\n",
    "        df.loc[index,'result'] = 0\n",
    "        \n",
    "sns.countplot(df.result)\n"
   ]
  },
  {
   "cell_type": "code",
   "execution_count": 3,
   "metadata": {},
   "outputs": [
    {
     "data": {
      "text/plain": [
       "2.0    0.459098\n",
       "0.0    0.288525\n",
       "1.0    0.252377\n",
       "Name: result, dtype: float64"
      ]
     },
     "execution_count": 3,
     "metadata": {},
     "output_type": "execute_result"
    }
   ],
   "source": [
    "df.result.value_counts()/df.shape[0]"
   ]
  },
  {
   "cell_type": "code",
   "execution_count": 7,
   "metadata": {},
   "outputs": [],
   "source": [
    "from tqdm import tqdm\n",
    "\n",
    "def teamfunction( df ):\n",
    "    for index, row in tqdm(df.iterrows()):\n",
    "        \n",
    "        home_team = []\n",
    "        home_team.append(df.loc[index,'buildUpPlaySpeed_home_team'])\n",
    "        home_team.append(df.loc[index,'buildUpPlayDribbling_home_team'])\n",
    "        home_team.append(df.loc[index,'buildUpPlayPassing_home_team'])\n",
    "        home_team.append(df.loc[index,'chanceCreationPassing_home_team'])\n",
    "        home_team.append(df.loc[index,'chanceCreationCrossing_home_team'])\n",
    "        home_team.append(df.loc[index,'chanceCreationShooting_home_team'])\n",
    "        home_team.append(df.loc[index,'defencePressure_home_team'])\n",
    "        home_team.append(df.loc[index,'defenceAggression_home_team'])\n",
    "        home_team.append(df.loc[index,'defenceTeamWidth_home_team'])\n",
    "\n",
    "\n",
    "        away_team = []\n",
    "        away_team.append(df.loc[index,'buildUpPlaySpeed_away_team'])\n",
    "        away_team.append(df.loc[index,'buildUpPlayDribbling_away_team'])\n",
    "        away_team.append(df.loc[index,'buildUpPlayPassing_away_team'])\n",
    "        away_team.append(df.loc[index,'chanceCreationPassing_away_team'])\n",
    "        away_team.append(df.loc[index,'chanceCreationCrossing_away_team'])\n",
    "        away_team.append(df.loc[index,'chanceCreationShooting_away_team'])\n",
    "        away_team.append(df.loc[index,'defencePressure_away_team'])\n",
    "        away_team.append(df.loc[index,'defenceAggression_away_team'])\n",
    "        away_team.append(df.loc[index,'defenceTeamWidth_away_team'])\n",
    "\n",
    "\n",
    "        team_matrix = []\n",
    "        for i in range(9):          \n",
    "            m =[]\n",
    "            for j in range(9):\n",
    "                m.append(home_team[i]-away_team[j])\n",
    "            team_matrix.append(m)\n",
    "\n",
    "        team_details.append(team_matrix)\n"
   ]
  },
  {
   "cell_type": "code",
   "execution_count": 5,
   "metadata": {},
   "outputs": [],
   "source": [
    "X = df.drop(['result','date', 'home_team_goal','away_team_goal'], axis=1)\n",
    "y = df[['result']]\n",
    "RANDOM_SEED =42\n",
    "np.random.seed(RANDOM_SEED)\n",
    "torch.manual_seed(RANDOM_SEED)\n",
    "\n",
    "X_train, X_test, y_train, y_test =\\\n",
    "    train_test_split(X, y, test_size=0.2, random_state=RANDOM_SEED)"
   ]
  },
  {
   "cell_type": "code",
   "execution_count": 6,
   "metadata": {},
   "outputs": [
    {
     "data": {
      "text/plain": [
       "2.0    0.458637\n",
       "0.0    0.290715\n",
       "1.0    0.250647\n",
       "Name: result, dtype: float64"
      ]
     },
     "execution_count": 6,
     "metadata": {},
     "output_type": "execute_result"
    }
   ],
   "source": [
    "y_train.result.value_counts()/y_train.shape[0]"
   ]
  },
  {
   "cell_type": "code",
   "execution_count": 8,
   "metadata": {},
   "outputs": [
    {
     "name": "stderr",
     "output_type": "stream",
     "text": [
      "16996it [00:18, 931.55it/s] \n"
     ]
    }
   ],
   "source": [
    "team_details = []\n",
    "teamfunction( X_train )\n",
    "team_train_data = team_details\n",
    "Team_Train = torch.Tensor(np.array(team_train_data))"
   ]
  },
  {
   "cell_type": "code",
   "execution_count": 9,
   "metadata": {},
   "outputs": [
    {
     "data": {
      "text/plain": [
       "torch.Size([16996, 9, 9])"
      ]
     },
     "execution_count": 9,
     "metadata": {},
     "output_type": "execute_result"
    }
   ],
   "source": [
    "Team_Train.size()"
   ]
  },
  {
   "cell_type": "code",
   "execution_count": 10,
   "metadata": {},
   "outputs": [
    {
     "data": {
      "text/plain": [
       "'torch.FloatTensor'"
      ]
     },
     "execution_count": 10,
     "metadata": {},
     "output_type": "execute_result"
    }
   ],
   "source": [
    "Team_Train.type()"
   ]
  },
  {
   "cell_type": "code",
   "execution_count": 11,
   "metadata": {},
   "outputs": [
    {
     "name": "stderr",
     "output_type": "stream",
     "text": [
      "4250it [00:04, 865.17it/s]\n"
     ]
    }
   ],
   "source": [
    "team_details = []\n",
    "teamfunction( X_test )\n",
    "team_test_data = team_details\n",
    "Team_Test = torch.Tensor(np.array(team_test_data))"
   ]
  },
  {
   "cell_type": "code",
   "execution_count": 12,
   "metadata": {},
   "outputs": [
    {
     "data": {
      "text/plain": [
       "torch.Size([4250, 9, 9])"
      ]
     },
     "execution_count": 12,
     "metadata": {},
     "output_type": "execute_result"
    }
   ],
   "source": [
    "Team_Test.size()"
   ]
  },
  {
   "cell_type": "code",
   "execution_count": 13,
   "metadata": {},
   "outputs": [
    {
     "data": {
      "text/plain": [
       "'torch.FloatTensor'"
      ]
     },
     "execution_count": 13,
     "metadata": {},
     "output_type": "execute_result"
    }
   ],
   "source": [
    "Team_Test.type()"
   ]
  },
  {
   "cell_type": "code",
   "execution_count": 14,
   "metadata": {},
   "outputs": [],
   "source": [
    "y_train = torch.squeeze(torch.LongTensor(np.array(y_train)))"
   ]
  },
  {
   "cell_type": "code",
   "execution_count": 15,
   "metadata": {},
   "outputs": [
    {
     "data": {
      "text/plain": [
       "torch.Size([16996])"
      ]
     },
     "execution_count": 15,
     "metadata": {},
     "output_type": "execute_result"
    }
   ],
   "source": [
    "y_train.size()"
   ]
  },
  {
   "cell_type": "code",
   "execution_count": 16,
   "metadata": {},
   "outputs": [
    {
     "data": {
      "text/plain": [
       "'torch.LongTensor'"
      ]
     },
     "execution_count": 16,
     "metadata": {},
     "output_type": "execute_result"
    }
   ],
   "source": [
    "y_train.type()"
   ]
  },
  {
   "cell_type": "code",
   "execution_count": 17,
   "metadata": {},
   "outputs": [],
   "source": [
    "y_test = torch.squeeze(torch.LongTensor(np.array(y_test)))"
   ]
  },
  {
   "cell_type": "code",
   "execution_count": 19,
   "metadata": {},
   "outputs": [
    {
     "data": {
      "text/plain": [
       "torch.Size([4250])"
      ]
     },
     "execution_count": 19,
     "metadata": {},
     "output_type": "execute_result"
    }
   ],
   "source": [
    "y_test.size()"
   ]
  },
  {
   "cell_type": "code",
   "execution_count": 20,
   "metadata": {},
   "outputs": [
    {
     "data": {
      "text/plain": [
       "'torch.LongTensor'"
      ]
     },
     "execution_count": 20,
     "metadata": {},
     "output_type": "execute_result"
    }
   ],
   "source": [
    "y_test.type()"
   ]
  },
  {
   "cell_type": "code",
   "execution_count": 26,
   "metadata": {},
   "outputs": [],
   "source": [
    "Team_Train = torch.flatten(Team_Train, start_dim=1)\n",
    "Team_Test = torch.flatten(Team_Test, start_dim=1)"
   ]
  },
  {
   "cell_type": "code",
   "execution_count": 27,
   "metadata": {},
   "outputs": [
    {
     "data": {
      "text/plain": [
       "torch.Size([16996, 81])"
      ]
     },
     "execution_count": 27,
     "metadata": {},
     "output_type": "execute_result"
    }
   ],
   "source": [
    "Team_Train.size()"
   ]
  },
  {
   "cell_type": "code",
   "execution_count": 35,
   "metadata": {},
   "outputs": [
    {
     "data": {
      "text/plain": [
       "torch.Size([4250, 81])"
      ]
     },
     "execution_count": 35,
     "metadata": {},
     "output_type": "execute_result"
    }
   ],
   "source": [
    "Team_Test.size()"
   ]
  },
  {
   "cell_type": "code",
   "execution_count": 36,
   "metadata": {},
   "outputs": [],
   "source": [
    "import torch.utils.data as data_utils\n",
    "\n",
    "train = data_utils.TensorDataset(Team_Train, y_train)\n",
    "train_loader = data_utils.DataLoader(train, batch_size=50, shuffle=True)\n",
    "\n",
    "test = data_utils.TensorDataset(Team_Test, y_test)\n",
    "test_loader = data_utils.DataLoader(test, batch_size=50, shuffle=True)"
   ]
  },
  {
   "cell_type": "code",
   "execution_count": 37,
   "metadata": {},
   "outputs": [],
   "source": [
    "import torch\n",
    "from torch import nn, optim\n",
    "import torch.nn.functional as F\n",
    "\n",
    "#building neural network\n",
    "class Net(nn.Module):\n",
    "    def __init__(self):\n",
    "        super(Net, self).__init__()\n",
    "        self.fc1 = nn.Linear(81,27)\n",
    "        self.fc2 = nn.Linear(27,9)\n",
    "        self.fc3 = nn.Linear(9,3)\n",
    "    \n",
    "    def forward(self, x):\n",
    "        x = F.relu(self.fc1(x))\n",
    "        x = F.relu(self.fc2(x))\n",
    "        return F.softmax(self.fc3(x), dim = 1)"
   ]
  },
  {
   "cell_type": "code",
   "execution_count": 38,
   "metadata": {},
   "outputs": [],
   "source": [
    "model = Net()"
   ]
  },
  {
   "cell_type": "code",
   "execution_count": 39,
   "metadata": {},
   "outputs": [],
   "source": [
    "#Doing it on GPU\n",
    "device = torch.device(\"cuda:0\" if torch.cuda.is_available() else \"cpu\")\n",
    "\n",
    "Team_Train = Team_Train.to(device)\n",
    "Team_Test = Team_Test.to(device)\n",
    "\n",
    "y_train = y_train.to(device)\n",
    "y_test = y_test.to(device)\n",
    "\n",
    "model = model.to(device)\n",
    "criterion = criterion.to(device)"
   ]
  },
  {
   "cell_type": "code",
   "execution_count": 40,
   "metadata": {},
   "outputs": [],
   "source": [
    "optimizer = optim.SGD(model.parameters(), lr=0.001)\n",
    "criterion = nn.CrossEntropyLoss()"
   ]
  },
  {
   "cell_type": "code",
   "execution_count": 43,
   "metadata": {},
   "outputs": [
    {
     "name": "stdout",
     "output_type": "stream",
     "text": [
      "Epoch: 0/100   Training loss: 7.7094   Testing loss: 1.7942   Train accuracy: 0.4769   Test accuracy: 0.4593  \n",
      "Epoch: 1/100   Training loss: 7.7082   Testing loss: 1.7947   Train accuracy: 0.4773   Test accuracy: 0.4584  \n",
      "Epoch: 2/100   Training loss: 7.7069   Testing loss: 1.7947   Train accuracy: 0.4776   Test accuracy: 0.4591  \n",
      "Epoch: 3/100   Training loss: 7.7064   Testing loss: 1.7948   Train accuracy: 0.4779   Test accuracy: 0.4569  \n",
      "Epoch: 4/100   Training loss: 7.7056   Testing loss: 1.7951   Train accuracy: 0.4775   Test accuracy: 0.4560  \n",
      "Epoch: 5/100   Training loss: 7.7039   Testing loss: 1.7936   Train accuracy: 0.4796   Test accuracy: 0.4600  \n",
      "Epoch: 6/100   Training loss: 7.7033   Testing loss: 1.7943   Train accuracy: 0.4789   Test accuracy: 0.4595  \n",
      "Epoch: 7/100   Training loss: 7.7020   Testing loss: 1.7942   Train accuracy: 0.4789   Test accuracy: 0.4591  \n",
      "Epoch: 8/100   Training loss: 7.7015   Testing loss: 1.7944   Train accuracy: 0.4792   Test accuracy: 0.4558  \n",
      "Epoch: 9/100   Training loss: 7.7002   Testing loss: 1.7935   Train accuracy: 0.4798   Test accuracy: 0.4600  \n",
      "Epoch: 10/100   Training loss: 7.6998   Testing loss: 1.7937   Train accuracy: 0.4794   Test accuracy: 0.4593  \n",
      "Epoch: 11/100   Training loss: 7.6985   Testing loss: 1.7937   Train accuracy: 0.4793   Test accuracy: 0.4588  \n",
      "Epoch: 12/100   Training loss: 7.6980   Testing loss: 1.7940   Train accuracy: 0.4793   Test accuracy: 0.4588  \n",
      "Epoch: 13/100   Training loss: 7.6968   Testing loss: 1.7933   Train accuracy: 0.4799   Test accuracy: 0.4600  \n",
      "Epoch: 14/100   Training loss: 7.6949   Testing loss: 1.7937   Train accuracy: 0.4809   Test accuracy: 0.4581  \n",
      "Epoch: 15/100   Training loss: 7.6950   Testing loss: 1.7940   Train accuracy: 0.4805   Test accuracy: 0.4591  \n",
      "Epoch: 16/100   Training loss: 7.6942   Testing loss: 1.7938   Train accuracy: 0.4807   Test accuracy: 0.4579  \n",
      "Epoch: 17/100   Training loss: 7.6934   Testing loss: 1.7934   Train accuracy: 0.4815   Test accuracy: 0.4586  \n",
      "Epoch: 18/100   Training loss: 7.6920   Testing loss: 1.7932   Train accuracy: 0.4799   Test accuracy: 0.4579  \n",
      "Epoch: 19/100   Training loss: 7.6914   Testing loss: 1.7929   Train accuracy: 0.4806   Test accuracy: 0.4593  \n",
      "Epoch: 20/100   Training loss: 7.6907   Testing loss: 1.7929   Train accuracy: 0.4805   Test accuracy: 0.4598  \n",
      "Epoch: 21/100   Training loss: 7.6897   Testing loss: 1.7936   Train accuracy: 0.4821   Test accuracy: 0.4588  \n",
      "Epoch: 22/100   Training loss: 7.6891   Testing loss: 1.7938   Train accuracy: 0.4807   Test accuracy: 0.4607  \n",
      "Epoch: 23/100   Training loss: 7.6882   Testing loss: 1.7931   Train accuracy: 0.4819   Test accuracy: 0.4588  \n",
      "Epoch: 24/100   Training loss: 7.6873   Testing loss: 1.7933   Train accuracy: 0.4822   Test accuracy: 0.4588  \n",
      "Epoch: 25/100   Training loss: 7.6857   Testing loss: 1.7945   Train accuracy: 0.4822   Test accuracy: 0.4591  \n",
      "Epoch: 26/100   Training loss: 7.6857   Testing loss: 1.7942   Train accuracy: 0.4829   Test accuracy: 0.4593  \n",
      "Epoch: 27/100   Training loss: 7.6850   Testing loss: 1.7931   Train accuracy: 0.4831   Test accuracy: 0.4586  \n",
      "Epoch: 28/100   Training loss: 7.6836   Testing loss: 1.7924   Train accuracy: 0.4821   Test accuracy: 0.4624  \n",
      "Epoch: 29/100   Training loss: 7.6834   Testing loss: 1.7932   Train accuracy: 0.4835   Test accuracy: 0.4586  \n",
      "Epoch: 30/100   Training loss: 7.6820   Testing loss: 1.7941   Train accuracy: 0.4840   Test accuracy: 0.4600  \n",
      "Epoch: 31/100   Training loss: 7.6818   Testing loss: 1.7928   Train accuracy: 0.4846   Test accuracy: 0.4598  \n",
      "Epoch: 32/100   Training loss: 7.6806   Testing loss: 1.7921   Train accuracy: 0.4838   Test accuracy: 0.4633  \n",
      "Epoch: 33/100   Training loss: 7.6798   Testing loss: 1.7930   Train accuracy: 0.4836   Test accuracy: 0.4591  \n",
      "Epoch: 34/100   Training loss: 7.6793   Testing loss: 1.7933   Train accuracy: 0.4845   Test accuracy: 0.4607  \n",
      "Epoch: 35/100   Training loss: 7.6784   Testing loss: 1.7928   Train accuracy: 0.4844   Test accuracy: 0.4614  \n",
      "Epoch: 36/100   Training loss: 7.6776   Testing loss: 1.7928   Train accuracy: 0.4843   Test accuracy: 0.4616  \n",
      "Epoch: 37/100   Training loss: 7.6769   Testing loss: 1.7926   Train accuracy: 0.4852   Test accuracy: 0.4614  \n",
      "Epoch: 38/100   Training loss: 7.6758   Testing loss: 1.7932   Train accuracy: 0.4852   Test accuracy: 0.4616  \n",
      "Epoch: 39/100   Training loss: 7.6752   Testing loss: 1.7926   Train accuracy: 0.4848   Test accuracy: 0.4614  \n",
      "Epoch: 40/100   Training loss: 7.6741   Testing loss: 1.7924   Train accuracy: 0.4846   Test accuracy: 0.4607  \n",
      "Epoch: 41/100   Training loss: 7.6738   Testing loss: 1.7937   Train accuracy: 0.4858   Test accuracy: 0.4614  \n",
      "Epoch: 42/100   Training loss: 7.6727   Testing loss: 1.7924   Train accuracy: 0.4856   Test accuracy: 0.4621  \n",
      "Epoch: 43/100   Training loss: 7.6720   Testing loss: 1.7926   Train accuracy: 0.4859   Test accuracy: 0.4633  \n",
      "Epoch: 44/100   Training loss: 7.6711   Testing loss: 1.7937   Train accuracy: 0.4865   Test accuracy: 0.4619  \n",
      "Epoch: 45/100   Training loss: 7.6711   Testing loss: 1.7928   Train accuracy: 0.4863   Test accuracy: 0.4616  \n",
      "Epoch: 46/100   Training loss: 7.6699   Testing loss: 1.7923   Train accuracy: 0.4872   Test accuracy: 0.4624  \n",
      "Epoch: 47/100   Training loss: 7.6695   Testing loss: 1.7927   Train accuracy: 0.4863   Test accuracy: 0.4614  \n",
      "Epoch: 48/100   Training loss: 7.6689   Testing loss: 1.7924   Train accuracy: 0.4856   Test accuracy: 0.4624  \n",
      "Epoch: 49/100   Training loss: 7.6677   Testing loss: 1.7923   Train accuracy: 0.4862   Test accuracy: 0.4624  \n",
      "Epoch: 50/100   Training loss: 7.6670   Testing loss: 1.7921   Train accuracy: 0.4866   Test accuracy: 0.4621  \n",
      "Epoch: 51/100   Training loss: 7.6665   Testing loss: 1.7928   Train accuracy: 0.4879   Test accuracy: 0.4591  \n",
      "Epoch: 52/100   Training loss: 7.6655   Testing loss: 1.7927   Train accuracy: 0.4868   Test accuracy: 0.4605  \n",
      "Epoch: 53/100   Training loss: 7.6649   Testing loss: 1.7920   Train accuracy: 0.4871   Test accuracy: 0.4607  \n",
      "Epoch: 54/100   Training loss: 7.6644   Testing loss: 1.7923   Train accuracy: 0.4876   Test accuracy: 0.4612  \n",
      "Epoch: 55/100   Training loss: 7.6636   Testing loss: 1.7921   Train accuracy: 0.4872   Test accuracy: 0.4626  \n",
      "Epoch: 56/100   Training loss: 7.6629   Testing loss: 1.7925   Train accuracy: 0.4871   Test accuracy: 0.4598  \n",
      "Epoch: 57/100   Training loss: 7.6619   Testing loss: 1.7916   Train accuracy: 0.4874   Test accuracy: 0.4612  \n",
      "Epoch: 58/100   Training loss: 7.6612   Testing loss: 1.7930   Train accuracy: 0.4872   Test accuracy: 0.4602  \n",
      "Epoch: 59/100   Training loss: 7.6610   Testing loss: 1.7921   Train accuracy: 0.4884   Test accuracy: 0.4616  \n",
      "Epoch: 60/100   Training loss: 7.6598   Testing loss: 1.7926   Train accuracy: 0.4886   Test accuracy: 0.4595  \n",
      "Epoch: 61/100   Training loss: 7.6595   Testing loss: 1.7925   Train accuracy: 0.4876   Test accuracy: 0.4591  \n",
      "Epoch: 62/100   Training loss: 7.6586   Testing loss: 1.7919   Train accuracy: 0.4885   Test accuracy: 0.4614  \n",
      "Epoch: 63/100   Training loss: 7.6581   Testing loss: 1.7921   Train accuracy: 0.4880   Test accuracy: 0.4600  \n",
      "Epoch: 64/100   Training loss: 7.6573   Testing loss: 1.7919   Train accuracy: 0.4887   Test accuracy: 0.4614  \n",
      "Epoch: 65/100   Training loss: 7.6570   Testing loss: 1.7922   Train accuracy: 0.4885   Test accuracy: 0.4602  \n",
      "Epoch: 66/100   Training loss: 7.6558   Testing loss: 1.7927   Train accuracy: 0.4885   Test accuracy: 0.4602  \n",
      "Epoch: 67/100   Training loss: 7.6550   Testing loss: 1.7922   Train accuracy: 0.4890   Test accuracy: 0.4616  \n",
      "Epoch: 68/100   Training loss: 7.6543   Testing loss: 1.7920   Train accuracy: 0.4892   Test accuracy: 0.4624  \n",
      "Epoch: 69/100   Training loss: 7.6542   Testing loss: 1.7920   Train accuracy: 0.4879   Test accuracy: 0.4616  \n",
      "Epoch: 70/100   Training loss: 7.6526   Testing loss: 1.7916   Train accuracy: 0.4891   Test accuracy: 0.4609  \n",
      "Epoch: 71/100   Training loss: 7.6525   Testing loss: 1.7916   Train accuracy: 0.4895   Test accuracy: 0.4616  \n",
      "Epoch: 72/100   Training loss: 7.6518   Testing loss: 1.7911   Train accuracy: 0.4897   Test accuracy: 0.4626  \n",
      "Epoch: 73/100   Training loss: 7.6517   Testing loss: 1.7921   Train accuracy: 0.4907   Test accuracy: 0.4607  \n"
     ]
    },
    {
     "name": "stdout",
     "output_type": "stream",
     "text": [
      "Epoch: 74/100   Training loss: 7.6509   Testing loss: 1.7918   Train accuracy: 0.4887   Test accuracy: 0.4621  \n",
      "Epoch: 75/100   Training loss: 7.6505   Testing loss: 1.7915   Train accuracy: 0.4901   Test accuracy: 0.4616  \n",
      "Epoch: 76/100   Training loss: 7.6492   Testing loss: 1.7919   Train accuracy: 0.4896   Test accuracy: 0.4612  \n",
      "Epoch: 77/100   Training loss: 7.6492   Testing loss: 1.7922   Train accuracy: 0.4904   Test accuracy: 0.4616  \n",
      "Epoch: 78/100   Training loss: 7.6482   Testing loss: 1.7915   Train accuracy: 0.4888   Test accuracy: 0.4612  \n",
      "Epoch: 79/100   Training loss: 7.6480   Testing loss: 1.7918   Train accuracy: 0.4889   Test accuracy: 0.4621  \n",
      "Epoch: 80/100   Training loss: 7.6474   Testing loss: 1.7910   Train accuracy: 0.4902   Test accuracy: 0.4633  \n",
      "Epoch: 81/100   Training loss: 7.6456   Testing loss: 1.7930   Train accuracy: 0.4889   Test accuracy: 0.4609  \n",
      "Epoch: 82/100   Training loss: 7.6462   Testing loss: 1.7914   Train accuracy: 0.4892   Test accuracy: 0.4614  \n",
      "Epoch: 83/100   Training loss: 7.6450   Testing loss: 1.7910   Train accuracy: 0.4899   Test accuracy: 0.4628  \n",
      "Epoch: 84/100   Training loss: 7.6446   Testing loss: 1.7921   Train accuracy: 0.4902   Test accuracy: 0.4605  \n",
      "Epoch: 85/100   Training loss: 7.6445   Testing loss: 1.7912   Train accuracy: 0.4902   Test accuracy: 0.4614  \n",
      "Epoch: 86/100   Training loss: 7.6443   Testing loss: 1.7914   Train accuracy: 0.4895   Test accuracy: 0.4614  \n",
      "Epoch: 87/100   Training loss: 7.6433   Testing loss: 1.7911   Train accuracy: 0.4896   Test accuracy: 0.4614  \n",
      "Epoch: 88/100   Training loss: 7.6431   Testing loss: 1.7912   Train accuracy: 0.4907   Test accuracy: 0.4628  \n",
      "Epoch: 89/100   Training loss: 7.6420   Testing loss: 1.7911   Train accuracy: 0.4896   Test accuracy: 0.4640  \n",
      "Epoch: 90/100   Training loss: 7.6420   Testing loss: 1.7917   Train accuracy: 0.4899   Test accuracy: 0.4595  \n",
      "Epoch: 91/100   Training loss: 7.6409   Testing loss: 1.7908   Train accuracy: 0.4900   Test accuracy: 0.4638  \n",
      "Epoch: 92/100   Training loss: 7.6403   Testing loss: 1.7905   Train accuracy: 0.4908   Test accuracy: 0.4621  \n",
      "Epoch: 93/100   Training loss: 7.6407   Testing loss: 1.7919   Train accuracy: 0.4911   Test accuracy: 0.4607  \n",
      "Epoch: 94/100   Training loss: 7.6400   Testing loss: 1.7921   Train accuracy: 0.4896   Test accuracy: 0.4607  \n",
      "Epoch: 95/100   Training loss: 7.6390   Testing loss: 1.7917   Train accuracy: 0.4912   Test accuracy: 0.4635  \n",
      "Epoch: 96/100   Training loss: 7.6386   Testing loss: 1.7919   Train accuracy: 0.4901   Test accuracy: 0.4612  \n",
      "Epoch: 97/100   Training loss: 7.6382   Testing loss: 1.7906   Train accuracy: 0.4901   Test accuracy: 0.4659  \n",
      "Epoch: 98/100   Training loss: 7.6384   Testing loss: 1.7911   Train accuracy: 0.4911   Test accuracy: 0.4640  \n",
      "Epoch: 99/100   Training loss: 7.6371   Testing loss: 1.7904   Train accuracy: 0.4914   Test accuracy: 0.4661  \n"
     ]
    }
   ],
   "source": [
    "epochs = 100\n",
    "train_loss, val_loss = [], []\n",
    "accuracy_total_train, accuracy_total_val = [], []\n",
    "\n",
    "for epoch in range(epochs):\n",
    "   \n",
    "    total_train_loss = 0\n",
    "    total_val_loss = 0\n",
    "\n",
    "    model.train()\n",
    "    \n",
    "    total = 0\n",
    "    # training our model\n",
    "    for i, (x, y) in enumerate(train_loader):\n",
    "\n",
    "        # zero the parameter gradients\n",
    "        optimizer.zero_grad()\n",
    "        \n",
    "        # forward + backward + optimize\n",
    "        y_pred = model(x)\n",
    "        loss = criterion(y_pred, y)\n",
    "        loss.backward(retain_graph=True)        \n",
    "        optimizer.step()\n",
    "        total_train_loss += loss.item()\n",
    "\n",
    "        for i, p in enumerate(y_pred):\n",
    "            if y[i] == torch.max(p.data, 0)[1]:\n",
    "                total = total + 1\n",
    "                \n",
    "    accuracy_train = total / len(train)\n",
    "    accuracy_total_train.append(accuracy_train)\n",
    "\n",
    "    total_train_loss = total_train_loss / (i + 1)\n",
    "    train_loss.append(total_train_loss)\n",
    "    \n",
    "    # validating our model\n",
    "    model.eval()\n",
    "    total = 0\n",
    "    for i, (x, y) in enumerate(test_loader):\n",
    "\n",
    "        y_pred = model(x)\n",
    "        loss = criterion(y_pred, y)                \n",
    "        total_val_loss += loss.item()\n",
    "        \n",
    "        for i, p in enumerate(y_pred):\n",
    "            if y[i] == torch.max(p.data, 0)[1]:\n",
    "                total = total + 1\n",
    "\n",
    "    accuracy_val = total / len(test)\n",
    "    accuracy_total_val.append(accuracy_val)\n",
    "\n",
    "    total_val_loss = total_val_loss / (i + 1)\n",
    "    val_loss.append(total_val_loss)\n",
    "    \n",
    "    if epoch % 1 == 0:\n",
    "        print(\"Epoch: {}/{}  \".format(epoch, epochs),\n",
    "            \"Training loss: {:.4f}  \".format(total_train_loss),\n",
    "            \"Testing loss: {:.4f}  \".format(total_val_loss),\n",
    "            \"Train accuracy: {:.4f}  \".format(accuracy_train),\n",
    "            \"Test accuracy: {:.4f}  \".format(accuracy_val))"
   ]
  },
  {
   "cell_type": "code",
   "execution_count": 44,
   "metadata": {},
   "outputs": [
    {
     "data": {
      "image/png": "[encoded data removed]",
      "text/plain": [
       "<Figure size 432x288 with 1 Axes>"
      ]
     },
     "metadata": {
      "needs_background": "light"
     },
     "output_type": "display_data"
    }
   ],
   "source": [
    "plt.plot(train_loss, label='Training loss')\n",
    "plt.plot(val_loss, label='Test loss')\n",
    "plt.legend()\n",
    "plt.grid()"
   ]
  },
  {
   "cell_type": "code",
   "execution_count": 45,
   "metadata": {},
   "outputs": [
    {
     "data": {
      "image/png": "[encoded data removed]",
      "text/plain": [
       "<Figure size 432x288 with 1 Axes>"
      ]
     },
     "metadata": {
      "needs_background": "light"
     },
     "output_type": "display_data"
    }
   ],
   "source": [
    "plt.plot(accuracy_total_train, label='Training Accuracy')\n",
    "plt.plot(accuracy_total_val, label='Test Accuracy')\n",
    "plt.legend()\n",
    "plt.grid()"
   ]
  },
  {
   "cell_type": "code",
   "execution_count": 46,
   "metadata": {},
   "outputs": [],
   "source": [
    "#saving the model\n",
    "\n",
    "MODEL_PATH = 'teammodel.pth'\n",
    "torch.save(model, MODEL_PATH)"
   ]
  },
  {
   "cell_type": "code",
   "execution_count": 47,
   "metadata": {},
   "outputs": [],
   "source": [
    "model = torch.load(MODEL_PATH)"
   ]
  },
  {
   "cell_type": "code",
   "execution_count": 49,
   "metadata": {},
   "outputs": [],
   "source": [
    "#Evaluation\n",
    "classes = ['Loss','Draw','Win']\n",
    "predict_list = []\n",
    "y_pred = model(Team_Test)\n",
    "\n",
    "for i, p in enumerate(y_pred):\n",
    "    y_pred = torch.max(p.data, 0)[1]\n",
    "    predict_list.append(y_pred)\n",
    "stacked_tensor = torch.stack(predict_list)\n",
    "y_test = y_test.cpu()"
   ]
  },
  {
   "cell_type": "code",
   "execution_count": 50,
   "metadata": {},
   "outputs": [
    {
     "name": "stdout",
     "output_type": "stream",
     "text": [
      "              precision    recall  f1-score   support\n",
      "\n",
      "        Loss       0.39      0.24      0.30      1189\n",
      "        Draw       0.25      0.01      0.02      1102\n",
      "         Win       0.48      0.86      0.62      1959\n",
      "\n",
      "    accuracy                           0.47      4250\n",
      "   macro avg       0.38      0.37      0.31      4250\n",
      "weighted avg       0.40      0.47      0.37      4250\n",
      "\n"
     ]
    }
   ],
   "source": [
    "print(classification_report(y_test, stacked_tensor, target_names=classes))"
   ]
  },
  {
   "cell_type": "code",
   "execution_count": 51,
   "metadata": {},
   "outputs": [
    {
     "data": {
      "text/plain": [
       "Text(0.5, 15.0, 'Predicted label')"
      ]
     },
     "execution_count": 51,
     "metadata": {},
     "output_type": "execute_result"
    },
    {
     "data": {
      "image/png": "[encoded data removed]",
      "text/plain": [
       "<Figure size 432x288 with 2 Axes>"
      ]
     },
     "metadata": {
      "needs_background": "light"
     },
     "output_type": "display_data"
    }
   ],
   "source": [
    "cm = confusion_matrix(y_test, stacked_tensor)\n",
    "df_cm = pd.DataFrame(cm, index=classes, columns=classes)\n",
    "hmap = sns.heatmap(df_cm, annot=True, fmt=\"d\")\n",
    "hmap.yaxis.set_ticklabels(hmap.yaxis.get_ticklabels(), rotation=0, ha='right')\n",
    "hmap.xaxis.set_ticklabels(hmap.xaxis.get_ticklabels(), rotation=0, ha='right')\n",
    "plt.ylabel('True label')\n",
    "plt.xlabel('Predicted label')"
   ]
  },
  {
   "cell_type": "code",
   "execution_count": null,
   "metadata": {},
   "outputs": [],
   "source": []
  }
 ],
 "metadata": {
  "kernelspec": {
   "display_name": "Python 3",
   "language": "python",
   "name": "python3"
  },
  "language_info": {
   "codemirror_mode": {
    "name": "ipython",
    "version": 3
   },
   "file_extension": ".py",
   "mimetype": "text/x-python",
   "name": "python",
   "nbconvert_exporter": "python",
   "pygments_lexer": "ipython3",
   "version": "3.8.5"
  }
 },
 "nbformat": 4,
 "nbformat_minor": 4
}
