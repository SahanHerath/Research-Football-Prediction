{
 "cells": [
  {
   "cell_type": "code",
   "execution_count": 4,
   "metadata": {},
   "outputs": [],
   "source": [
    "import pandas as pd\n",
    "import seaborn as sns\n",
    "import numpy as np\n",
    "from tqdm import tqdm\n",
    "from pylab import rcParams\n",
    "import matplotlib.pyplot as plt\n",
    "from matplotlib import rc\n",
    "from torch import nn, optim\n",
    "import torch.nn.functional as F\n",
    "from sklearn.model_selection import train_test_split\n",
    "from sklearn.metrics import confusion_matrix, classification_report\n",
    "import torch\n",
    "\n",
    "df = pd.read_csv('UpdatedMatches.csv')\n",
    "data = []"
   ]
  },
  {
   "cell_type": "code",
   "execution_count": 5,
   "metadata": {},
   "outputs": [
    {
     "name": "stderr",
     "output_type": "stream",
     "text": [
      "C:\\Users\\herath\\anaconda3\\lib\\site-packages\\seaborn\\_decorators.py:36: FutureWarning: Pass the following variable as a keyword arg: x. From version 0.12, the only valid positional argument will be `data`, and passing other arguments without an explicit keyword will result in an error or misinterpretation.\n",
      "  warnings.warn(\n"
     ]
    },
    {
     "data": {
      "text/plain": [
       "<AxesSubplot:xlabel='result', ylabel='count'>"
      ]
     },
     "execution_count": 5,
     "metadata": {},
     "output_type": "execute_result"
    },
    {
     "data": {
      "image/png": "[encoded data removed]",
      "text/plain": [
       "<Figure size 432x288 with 1 Axes>"
      ]
     },
     "metadata": {
      "needs_background": "light"
     },
     "output_type": "display_data"
    }
   ],
   "source": [
    "df['season'].replace({'2008/2009':2008, '2009/2010':2009, '2010/2011':2010, '2011/2012':2011, '2012/2013':2012, '2013/2014':2013, '2014/2015':2014, '2015/2016':2015 },inplace=True)\n",
    "\n",
    "df[\"result\"] = np.nan\n",
    "for index, row in df.iterrows():\n",
    "    if df.loc[index,'home_team_goal'] == df.loc[index,'away_team_goal']:\n",
    "        df.loc[index,'result'] = 1\n",
    "    if df.loc[index,'home_team_goal'] > df.loc[index,'away_team_goal']:\n",
    "        df.loc[index,'result'] = 2\n",
    "    if df.loc[index,'home_team_goal'] < df.loc[index,'away_team_goal']:\n",
    "        df.loc[index,'result'] = 0\n",
    "        \n",
    "sns.countplot(df.result)\n"
   ]
  },
  {
   "cell_type": "code",
   "execution_count": 6,
   "metadata": {},
   "outputs": [
    {
     "data": {
      "text/plain": [
       "2.0    0.459098\n",
       "0.0    0.288525\n",
       "1.0    0.252377\n",
       "Name: result, dtype: float64"
      ]
     },
     "execution_count": 6,
     "metadata": {},
     "output_type": "execute_result"
    }
   ],
   "source": [
    "df.result.value_counts()/df.shape[0]"
   ]
  },
  {
   "cell_type": "code",
   "execution_count": 7,
   "metadata": {},
   "outputs": [],
   "source": [
    "from tqdm import tqdm\n",
    "\n",
    "def teamfunction( df ):\n",
    "    for index, row in tqdm(df.iterrows()):\n",
    "        \n",
    "        home_team = []\n",
    "        home_team.append(df.loc[index,'buildUpPlaySpeed_home_team'])\n",
    "        home_team.append(df.loc[index,'buildUpPlayDribbling_home_team'])\n",
    "        home_team.append(df.loc[index,'buildUpPlayPassing_home_team'])\n",
    "        home_team.append(df.loc[index,'chanceCreationPassing_home_team'])\n",
    "        home_team.append(df.loc[index,'chanceCreationCrossing_home_team'])\n",
    "        home_team.append(df.loc[index,'chanceCreationShooting_home_team'])\n",
    "        home_team.append(df.loc[index,'defencePressure_home_team'])\n",
    "        home_team.append(df.loc[index,'defenceAggression_home_team'])\n",
    "        home_team.append(df.loc[index,'defenceTeamWidth_home_team'])\n",
    "\n",
    "\n",
    "        away_team = []\n",
    "        away_team.append(df.loc[index,'buildUpPlaySpeed_away_team'])\n",
    "        away_team.append(df.loc[index,'buildUpPlayDribbling_away_team'])\n",
    "        away_team.append(df.loc[index,'buildUpPlayPassing_away_team'])\n",
    "        away_team.append(df.loc[index,'chanceCreationPassing_away_team'])\n",
    "        away_team.append(df.loc[index,'chanceCreationCrossing_away_team'])\n",
    "        away_team.append(df.loc[index,'chanceCreationShooting_away_team'])\n",
    "        away_team.append(df.loc[index,'defencePressure_away_team'])\n",
    "        away_team.append(df.loc[index,'defenceAggression_away_team'])\n",
    "        away_team.append(df.loc[index,'defenceTeamWidth_away_team'])\n",
    "\n",
    "\n",
    "        team_matrix = []\n",
    "        for i in range(9):          \n",
    "            m =[]\n",
    "            for j in range(9):\n",
    "                m.append(home_team[i]-away_team[j])\n",
    "            team_matrix.append(m)\n",
    "\n",
    "        team_details.append(team_matrix)\n"
   ]
  },
  {
   "cell_type": "code",
   "execution_count": 8,
   "metadata": {},
   "outputs": [],
   "source": [
    "X = df.drop(['result','date', 'home_team_goal','away_team_goal'], axis=1)\n",
    "y = df[['result']]\n",
    "RANDOM_SEED =42\n",
    "np.random.seed(RANDOM_SEED)\n",
    "torch.manual_seed(RANDOM_SEED)\n",
    "\n",
    "X_train, X_test, y_train, y_test =\\\n",
    "    train_test_split(X, y, test_size=0.2, random_state=RANDOM_SEED)"
   ]
  },
  {
   "cell_type": "code",
   "execution_count": 9,
   "metadata": {},
   "outputs": [
    {
     "data": {
      "text/plain": [
       "2.0    0.458637\n",
       "0.0    0.290715\n",
       "1.0    0.250647\n",
       "Name: result, dtype: float64"
      ]
     },
     "execution_count": 9,
     "metadata": {},
     "output_type": "execute_result"
    }
   ],
   "source": [
    "y_train.result.value_counts()/y_train.shape[0]"
   ]
  },
  {
   "cell_type": "code",
   "execution_count": 10,
   "metadata": {},
   "outputs": [
    {
     "name": "stderr",
     "output_type": "stream",
     "text": [
      "16996it [00:23, 731.80it/s]\n"
     ]
    }
   ],
   "source": [
    "team_details = []\n",
    "teamfunction( X_train )\n",
    "team_train_data = team_details\n",
    "Team_Train = torch.Tensor(np.array(team_train_data))"
   ]
  },
  {
   "cell_type": "code",
   "execution_count": 11,
   "metadata": {},
   "outputs": [
    {
     "data": {
      "text/plain": [
       "torch.Size([16996, 9, 9])"
      ]
     },
     "execution_count": 11,
     "metadata": {},
     "output_type": "execute_result"
    }
   ],
   "source": [
    "Team_Train.size()"
   ]
  },
  {
   "cell_type": "code",
   "execution_count": 12,
   "metadata": {},
   "outputs": [
    {
     "data": {
      "text/plain": [
       "'torch.FloatTensor'"
      ]
     },
     "execution_count": 12,
     "metadata": {},
     "output_type": "execute_result"
    }
   ],
   "source": [
    "Team_Train.type()"
   ]
  },
  {
   "cell_type": "code",
   "execution_count": 13,
   "metadata": {},
   "outputs": [
    {
     "name": "stderr",
     "output_type": "stream",
     "text": [
      "4250it [00:07, 591.23it/s]\n"
     ]
    }
   ],
   "source": [
    "team_details = []\n",
    "teamfunction( X_test )\n",
    "team_test_data = team_details\n",
    "Team_Test = torch.Tensor(np.array(team_test_data))"
   ]
  },
  {
   "cell_type": "code",
   "execution_count": 14,
   "metadata": {},
   "outputs": [
    {
     "data": {
      "text/plain": [
       "torch.Size([4250, 9, 9])"
      ]
     },
     "execution_count": 14,
     "metadata": {},
     "output_type": "execute_result"
    }
   ],
   "source": [
    "Team_Test.size()"
   ]
  },
  {
   "cell_type": "code",
   "execution_count": 15,
   "metadata": {},
   "outputs": [
    {
     "data": {
      "text/plain": [
       "'torch.FloatTensor'"
      ]
     },
     "execution_count": 15,
     "metadata": {},
     "output_type": "execute_result"
    }
   ],
   "source": [
    "Team_Test.type()"
   ]
  },
  {
   "cell_type": "code",
   "execution_count": 16,
   "metadata": {},
   "outputs": [],
   "source": [
    "y_train = torch.squeeze(torch.LongTensor(np.array(y_train)))"
   ]
  },
  {
   "cell_type": "code",
   "execution_count": 17,
   "metadata": {},
   "outputs": [
    {
     "data": {
      "text/plain": [
       "torch.Size([16996])"
      ]
     },
     "execution_count": 17,
     "metadata": {},
     "output_type": "execute_result"
    }
   ],
   "source": [
    "y_train.size()"
   ]
  },
  {
   "cell_type": "code",
   "execution_count": 18,
   "metadata": {},
   "outputs": [
    {
     "data": {
      "text/plain": [
       "'torch.LongTensor'"
      ]
     },
     "execution_count": 18,
     "metadata": {},
     "output_type": "execute_result"
    }
   ],
   "source": [
    "y_train.type()"
   ]
  },
  {
   "cell_type": "code",
   "execution_count": 19,
   "metadata": {},
   "outputs": [],
   "source": [
    "y_test = torch.squeeze(torch.LongTensor(np.array(y_test)))"
   ]
  },
  {
   "cell_type": "code",
   "execution_count": 20,
   "metadata": {},
   "outputs": [
    {
     "data": {
      "text/plain": [
       "torch.Size([4250])"
      ]
     },
     "execution_count": 20,
     "metadata": {},
     "output_type": "execute_result"
    }
   ],
   "source": [
    "y_test.size()"
   ]
  },
  {
   "cell_type": "code",
   "execution_count": 21,
   "metadata": {},
   "outputs": [
    {
     "data": {
      "text/plain": [
       "'torch.LongTensor'"
      ]
     },
     "execution_count": 21,
     "metadata": {},
     "output_type": "execute_result"
    }
   ],
   "source": [
    "y_test.type()"
   ]
  },
  {
   "cell_type": "code",
   "execution_count": 22,
   "metadata": {},
   "outputs": [],
   "source": [
    "Team_Train = torch.flatten(Team_Train, start_dim=1)\n",
    "Team_Test = torch.flatten(Team_Test, start_dim=1)"
   ]
  },
  {
   "cell_type": "code",
   "execution_count": 23,
   "metadata": {},
   "outputs": [
    {
     "data": {
      "text/plain": [
       "torch.Size([16996, 81])"
      ]
     },
     "execution_count": 23,
     "metadata": {},
     "output_type": "execute_result"
    }
   ],
   "source": [
    "Team_Train.size()"
   ]
  },
  {
   "cell_type": "code",
   "execution_count": 24,
   "metadata": {},
   "outputs": [
    {
     "data": {
      "text/plain": [
       "torch.Size([4250, 81])"
      ]
     },
     "execution_count": 24,
     "metadata": {},
     "output_type": "execute_result"
    }
   ],
   "source": [
    "Team_Test.size()"
   ]
  },
  {
   "cell_type": "code",
   "execution_count": 25,
   "metadata": {},
   "outputs": [],
   "source": [
    "import torch.utils.data as data_utils\n",
    "\n",
    "train = data_utils.TensorDataset(Team_Train, y_train)\n",
    "train_loader = data_utils.DataLoader(train, batch_size=128, shuffle=True)\n",
    "\n",
    "test = data_utils.TensorDataset(Team_Test, y_test)\n",
    "test_loader = data_utils.DataLoader(test, batch_size=128, shuffle=True)"
   ]
  },
  {
   "cell_type": "code",
   "execution_count": 26,
   "metadata": {},
   "outputs": [],
   "source": [
    "import torch\n",
    "from torch import nn, optim\n",
    "import torch.nn.functional as F\n",
    "\n",
    "#building neural network\n",
    "class Net(nn.Module):\n",
    "    def __init__(self):\n",
    "        super(Net, self).__init__()\n",
    "        self.fc1 = nn.Linear(81,27)\n",
    "        self.fc2 = nn.Linear(27,9)\n",
    "        self.fc3 = nn.Linear(9,3)\n",
    "        self.dropout = nn.Dropout(0.5)\n",
    "    \n",
    "    def forward(self, x):\n",
    "        x = F.relu(self.fc1(x))\n",
    "        x = self.dropout(x)\n",
    "        x = F.relu(self.fc2(x))\n",
    "        x = F.relu(self.fc3(x))\n",
    "        return x"
   ]
  },
  {
   "cell_type": "code",
   "execution_count": 27,
   "metadata": {},
   "outputs": [],
   "source": [
    "model = Net()"
   ]
  },
  {
   "cell_type": "code",
   "execution_count": 28,
   "metadata": {},
   "outputs": [],
   "source": [
    "optimizer = optim.SGD(model.parameters(), lr=0.001)\n",
    "criterion = nn.CrossEntropyLoss()"
   ]
  },
  {
   "cell_type": "code",
   "execution_count": 29,
   "metadata": {},
   "outputs": [],
   "source": [
    "#Doing it on GPU\n",
    "device = torch.device(\"cuda:0\" if torch.cuda.is_available() else \"cpu\")\n",
    "\n",
    "Team_Train = Team_Train.to(device)\n",
    "Team_Test = Team_Test.to(device)\n",
    "\n",
    "y_train = y_train.to(device)\n",
    "y_test = y_test.to(device)\n",
    "\n",
    "model = model.to(device)\n",
    "criterion = criterion.to(device)"
   ]
  },
  {
   "cell_type": "code",
   "execution_count": 30,
   "metadata": {},
   "outputs": [
    {
     "name": "stdout",
     "output_type": "stream",
     "text": [
      "Epoch: 0/200   Training loss: 1.1814   Testing loss: 1.0883   Train accuracy: 0.3853   Test accuracy: 0.4078  \n",
      "Epoch: 1/200   Training loss: 1.1153   Testing loss: 1.0838   Train accuracy: 0.3804   Test accuracy: 0.4212  \n",
      "Epoch: 2/200   Training loss: 1.0991   Testing loss: 1.0786   Train accuracy: 0.3950   Test accuracy: 0.4313  \n",
      "Epoch: 3/200   Training loss: 1.0929   Testing loss: 1.0753   Train accuracy: 0.4057   Test accuracy: 0.4386  \n",
      "Epoch: 4/200   Training loss: 1.0866   Testing loss: 1.0725   Train accuracy: 0.4112   Test accuracy: 0.4440  \n",
      "Epoch: 5/200   Training loss: 1.0865   Testing loss: 1.0705   Train accuracy: 0.4193   Test accuracy: 0.4438  \n",
      "Epoch: 6/200   Training loss: 1.0845   Testing loss: 1.0701   Train accuracy: 0.4205   Test accuracy: 0.4494  \n",
      "Epoch: 7/200   Training loss: 1.0823   Testing loss: 1.0680   Train accuracy: 0.4245   Test accuracy: 0.4520  \n",
      "Epoch: 8/200   Training loss: 1.0815   Testing loss: 1.0672   Train accuracy: 0.4232   Test accuracy: 0.4529  \n",
      "Epoch: 9/200   Training loss: 1.0800   Testing loss: 1.0661   Train accuracy: 0.4319   Test accuracy: 0.4558  \n",
      "Epoch: 10/200   Training loss: 1.0802   Testing loss: 1.0663   Train accuracy: 0.4266   Test accuracy: 0.4544  \n",
      "Epoch: 11/200   Training loss: 1.0803   Testing loss: 1.0642   Train accuracy: 0.4320   Test accuracy: 0.4572  \n",
      "Epoch: 12/200   Training loss: 1.0785   Testing loss: 1.0658   Train accuracy: 0.4297   Test accuracy: 0.4574  \n",
      "Epoch: 13/200   Training loss: 1.0758   Testing loss: 1.0639   Train accuracy: 0.4370   Test accuracy: 0.4595  \n",
      "Epoch: 14/200   Training loss: 1.0761   Testing loss: 1.0648   Train accuracy: 0.4361   Test accuracy: 0.4600  \n",
      "Epoch: 15/200   Training loss: 1.0757   Testing loss: 1.0649   Train accuracy: 0.4370   Test accuracy: 0.4593  \n",
      "Epoch: 16/200   Training loss: 1.0764   Testing loss: 1.0641   Train accuracy: 0.4336   Test accuracy: 0.4598  \n",
      "Epoch: 17/200   Training loss: 1.0748   Testing loss: 1.0642   Train accuracy: 0.4408   Test accuracy: 0.4600  \n",
      "Epoch: 18/200   Training loss: 1.0707   Testing loss: 1.0607   Train accuracy: 0.4465   Test accuracy: 0.4607  \n",
      "Epoch: 19/200   Training loss: 1.0737   Testing loss: 1.0627   Train accuracy: 0.4459   Test accuracy: 0.4607  \n",
      "Epoch: 20/200   Training loss: 1.0726   Testing loss: 1.0640   Train accuracy: 0.4504   Test accuracy: 0.4607  \n",
      "Epoch: 21/200   Training loss: 1.0721   Testing loss: 1.0627   Train accuracy: 0.4453   Test accuracy: 0.4609  \n",
      "Epoch: 22/200   Training loss: 1.0713   Testing loss: 1.0628   Train accuracy: 0.4453   Test accuracy: 0.4612  \n",
      "Epoch: 23/200   Training loss: 1.0710   Testing loss: 1.0615   Train accuracy: 0.4467   Test accuracy: 0.4609  \n",
      "Epoch: 24/200   Training loss: 1.0689   Testing loss: 1.0612   Train accuracy: 0.4502   Test accuracy: 0.4619  \n",
      "Epoch: 25/200   Training loss: 1.0706   Testing loss: 1.0597   Train accuracy: 0.4459   Test accuracy: 0.4612  \n",
      "Epoch: 26/200   Training loss: 1.0703   Testing loss: 1.0631   Train accuracy: 0.4506   Test accuracy: 0.4616  \n",
      "Epoch: 27/200   Training loss: 1.0703   Testing loss: 1.0619   Train accuracy: 0.4527   Test accuracy: 0.4614  \n",
      "Epoch: 28/200   Training loss: 1.0690   Testing loss: 1.0626   Train accuracy: 0.4525   Test accuracy: 0.4612  \n",
      "Epoch: 29/200   Training loss: 1.0706   Testing loss: 1.0622   Train accuracy: 0.4512   Test accuracy: 0.4612  \n",
      "Epoch: 30/200   Training loss: 1.0694   Testing loss: 1.0610   Train accuracy: 0.4530   Test accuracy: 0.4616  \n",
      "Epoch: 31/200   Training loss: 1.0704   Testing loss: 1.0617   Train accuracy: 0.4529   Test accuracy: 0.4612  \n",
      "Epoch: 32/200   Training loss: 1.0681   Testing loss: 1.0601   Train accuracy: 0.4499   Test accuracy: 0.4607  \n",
      "Epoch: 33/200   Training loss: 1.0700   Testing loss: 1.0613   Train accuracy: 0.4518   Test accuracy: 0.4607  \n",
      "Epoch: 34/200   Training loss: 1.0683   Testing loss: 1.0614   Train accuracy: 0.4540   Test accuracy: 0.4605  \n",
      "Epoch: 35/200   Training loss: 1.0681   Testing loss: 1.0612   Train accuracy: 0.4532   Test accuracy: 0.4607  \n",
      "Epoch: 36/200   Training loss: 1.0676   Testing loss: 1.0611   Train accuracy: 0.4538   Test accuracy: 0.4609  \n",
      "Epoch: 37/200   Training loss: 1.0672   Testing loss: 1.0613   Train accuracy: 0.4573   Test accuracy: 0.4605  \n",
      "Epoch: 38/200   Training loss: 1.0668   Testing loss: 1.0605   Train accuracy: 0.4543   Test accuracy: 0.4605  \n",
      "Epoch: 39/200   Training loss: 1.0666   Testing loss: 1.0583   Train accuracy: 0.4548   Test accuracy: 0.4605  \n",
      "Epoch: 40/200   Training loss: 1.0662   Testing loss: 1.0585   Train accuracy: 0.4549   Test accuracy: 0.4609  \n",
      "Epoch: 41/200   Training loss: 1.0649   Testing loss: 1.0627   Train accuracy: 0.4538   Test accuracy: 0.4609  \n",
      "Epoch: 42/200   Training loss: 1.0658   Testing loss: 1.0574   Train accuracy: 0.4562   Test accuracy: 0.4609  \n",
      "Epoch: 43/200   Training loss: 1.0649   Testing loss: 1.0596   Train accuracy: 0.4532   Test accuracy: 0.4612  \n",
      "Epoch: 44/200   Training loss: 1.0645   Testing loss: 1.0589   Train accuracy: 0.4545   Test accuracy: 0.4609  \n",
      "Epoch: 45/200   Training loss: 1.0656   Testing loss: 1.0625   Train accuracy: 0.4542   Test accuracy: 0.4612  \n",
      "Epoch: 46/200   Training loss: 1.0649   Testing loss: 1.0595   Train accuracy: 0.4549   Test accuracy: 0.4609  \n",
      "Epoch: 47/200   Training loss: 1.0662   Testing loss: 1.0590   Train accuracy: 0.4550   Test accuracy: 0.4609  \n",
      "Epoch: 48/200   Training loss: 1.0621   Testing loss: 1.0600   Train accuracy: 0.4589   Test accuracy: 0.4607  \n",
      "Epoch: 49/200   Training loss: 1.0657   Testing loss: 1.0597   Train accuracy: 0.4571   Test accuracy: 0.4607  \n",
      "Epoch: 50/200   Training loss: 1.0655   Testing loss: 1.0591   Train accuracy: 0.4553   Test accuracy: 0.4607  \n",
      "Epoch: 51/200   Training loss: 1.0646   Testing loss: 1.0593   Train accuracy: 0.4585   Test accuracy: 0.4607  \n",
      "Epoch: 52/200   Training loss: 1.0634   Testing loss: 1.0571   Train accuracy: 0.4559   Test accuracy: 0.4602  \n",
      "Epoch: 53/200   Training loss: 1.0643   Testing loss: 1.0585   Train accuracy: 0.4567   Test accuracy: 0.4605  \n",
      "Epoch: 54/200   Training loss: 1.0630   Testing loss: 1.0605   Train accuracy: 0.4563   Test accuracy: 0.4607  \n",
      "Epoch: 55/200   Training loss: 1.0641   Testing loss: 1.0602   Train accuracy: 0.4573   Test accuracy: 0.4602  \n",
      "Epoch: 56/200   Training loss: 1.0643   Testing loss: 1.0597   Train accuracy: 0.4573   Test accuracy: 0.4605  \n",
      "Epoch: 57/200   Training loss: 1.0641   Testing loss: 1.0601   Train accuracy: 0.4560   Test accuracy: 0.4605  \n",
      "Epoch: 58/200   Training loss: 1.0633   Testing loss: 1.0587   Train accuracy: 0.4571   Test accuracy: 0.4605  \n",
      "Epoch: 59/200   Training loss: 1.0643   Testing loss: 1.0585   Train accuracy: 0.4566   Test accuracy: 0.4602  \n",
      "Epoch: 60/200   Training loss: 1.0632   Testing loss: 1.0594   Train accuracy: 0.4587   Test accuracy: 0.4605  \n",
      "Epoch: 61/200   Training loss: 1.0634   Testing loss: 1.0587   Train accuracy: 0.4563   Test accuracy: 0.4605  \n",
      "Epoch: 62/200   Training loss: 1.0625   Testing loss: 1.0590   Train accuracy: 0.4572   Test accuracy: 0.4605  \n",
      "Epoch: 63/200   Training loss: 1.0629   Testing loss: 1.0586   Train accuracy: 0.4585   Test accuracy: 0.4602  \n",
      "Epoch: 64/200   Training loss: 1.0616   Testing loss: 1.0579   Train accuracy: 0.4592   Test accuracy: 0.4605  \n",
      "Epoch: 65/200   Training loss: 1.0617   Testing loss: 1.0607   Train accuracy: 0.4574   Test accuracy: 0.4605  \n",
      "Epoch: 66/200   Training loss: 1.0632   Testing loss: 1.0578   Train accuracy: 0.4570   Test accuracy: 0.4605  \n",
      "Epoch: 67/200   Training loss: 1.0616   Testing loss: 1.0595   Train accuracy: 0.4581   Test accuracy: 0.4605  \n",
      "Epoch: 68/200   Training loss: 1.0627   Testing loss: 1.0600   Train accuracy: 0.4574   Test accuracy: 0.4605  \n",
      "Epoch: 69/200   Training loss: 1.0629   Testing loss: 1.0590   Train accuracy: 0.4569   Test accuracy: 0.4605  \n",
      "Epoch: 70/200   Training loss: 1.0622   Testing loss: 1.0586   Train accuracy: 0.4584   Test accuracy: 0.4605  \n",
      "Epoch: 71/200   Training loss: 1.0605   Testing loss: 1.0576   Train accuracy: 0.4585   Test accuracy: 0.4605  \n",
      "Epoch: 72/200   Training loss: 1.0620   Testing loss: 1.0603   Train accuracy: 0.4576   Test accuracy: 0.4605  \n",
      "Epoch: 73/200   Training loss: 1.0606   Testing loss: 1.0587   Train accuracy: 0.4583   Test accuracy: 0.4605  \n"
     ]
    },
    {
     "name": "stdout",
     "output_type": "stream",
     "text": [
      "Epoch: 74/200   Training loss: 1.0613   Testing loss: 1.0577   Train accuracy: 0.4586   Test accuracy: 0.4605  \n",
      "Epoch: 75/200   Training loss: 1.0622   Testing loss: 1.0603   Train accuracy: 0.4593   Test accuracy: 0.4605  \n",
      "Epoch: 76/200   Training loss: 1.0616   Testing loss: 1.0590   Train accuracy: 0.4600   Test accuracy: 0.4605  \n",
      "Epoch: 77/200   Training loss: 1.0611   Testing loss: 1.0603   Train accuracy: 0.4580   Test accuracy: 0.4605  \n",
      "Epoch: 78/200   Training loss: 1.0620   Testing loss: 1.0601   Train accuracy: 0.4563   Test accuracy: 0.4605  \n",
      "Epoch: 79/200   Training loss: 1.0615   Testing loss: 1.0591   Train accuracy: 0.4585   Test accuracy: 0.4605  \n",
      "Epoch: 80/200   Training loss: 1.0622   Testing loss: 1.0587   Train accuracy: 0.4565   Test accuracy: 0.4605  \n",
      "Epoch: 81/200   Training loss: 1.0629   Testing loss: 1.0590   Train accuracy: 0.4567   Test accuracy: 0.4605  \n",
      "Epoch: 82/200   Training loss: 1.0617   Testing loss: 1.0581   Train accuracy: 0.4570   Test accuracy: 0.4605  \n",
      "Epoch: 83/200   Training loss: 1.0626   Testing loss: 1.0583   Train accuracy: 0.4580   Test accuracy: 0.4605  \n",
      "Epoch: 84/200   Training loss: 1.0610   Testing loss: 1.0577   Train accuracy: 0.4578   Test accuracy: 0.4605  \n",
      "Epoch: 85/200   Training loss: 1.0624   Testing loss: 1.0582   Train accuracy: 0.4583   Test accuracy: 0.4605  \n",
      "Epoch: 86/200   Training loss: 1.0606   Testing loss: 1.0591   Train accuracy: 0.4589   Test accuracy: 0.4605  \n",
      "Epoch: 87/200   Training loss: 1.0612   Testing loss: 1.0573   Train accuracy: 0.4581   Test accuracy: 0.4605  \n",
      "Epoch: 88/200   Training loss: 1.0610   Testing loss: 1.0584   Train accuracy: 0.4575   Test accuracy: 0.4605  \n",
      "Epoch: 89/200   Training loss: 1.0612   Testing loss: 1.0591   Train accuracy: 0.4573   Test accuracy: 0.4605  \n",
      "Epoch: 90/200   Training loss: 1.0617   Testing loss: 1.0592   Train accuracy: 0.4572   Test accuracy: 0.4605  \n",
      "Epoch: 91/200   Training loss: 1.0613   Testing loss: 1.0589   Train accuracy: 0.4590   Test accuracy: 0.4605  \n",
      "Epoch: 92/200   Training loss: 1.0609   Testing loss: 1.0570   Train accuracy: 0.4575   Test accuracy: 0.4605  \n",
      "Epoch: 93/200   Training loss: 1.0610   Testing loss: 1.0595   Train accuracy: 0.4583   Test accuracy: 0.4607  \n",
      "Epoch: 94/200   Training loss: 1.0611   Testing loss: 1.0591   Train accuracy: 0.4567   Test accuracy: 0.4607  \n",
      "Epoch: 95/200   Training loss: 1.0624   Testing loss: 1.0599   Train accuracy: 0.4586   Test accuracy: 0.4607  \n",
      "Epoch: 96/200   Training loss: 1.0608   Testing loss: 1.0603   Train accuracy: 0.4589   Test accuracy: 0.4607  \n",
      "Epoch: 97/200   Training loss: 1.0612   Testing loss: 1.0593   Train accuracy: 0.4575   Test accuracy: 0.4607  \n",
      "Epoch: 98/200   Training loss: 1.0616   Testing loss: 1.0583   Train accuracy: 0.4582   Test accuracy: 0.4607  \n",
      "Epoch: 99/200   Training loss: 1.0613   Testing loss: 1.0580   Train accuracy: 0.4572   Test accuracy: 0.4607  \n",
      "Epoch: 100/200   Training loss: 1.0602   Testing loss: 1.0580   Train accuracy: 0.4585   Test accuracy: 0.4607  \n",
      "Epoch: 101/200   Training loss: 1.0598   Testing loss: 1.0573   Train accuracy: 0.4570   Test accuracy: 0.4607  \n",
      "Epoch: 102/200   Training loss: 1.0600   Testing loss: 1.0582   Train accuracy: 0.4596   Test accuracy: 0.4607  \n",
      "Epoch: 103/200   Training loss: 1.0602   Testing loss: 1.0589   Train accuracy: 0.4589   Test accuracy: 0.4607  \n",
      "Epoch: 104/200   Training loss: 1.0597   Testing loss: 1.0577   Train accuracy: 0.4592   Test accuracy: 0.4607  \n",
      "Epoch: 105/200   Training loss: 1.0594   Testing loss: 1.0600   Train accuracy: 0.4596   Test accuracy: 0.4607  \n",
      "Epoch: 106/200   Training loss: 1.0610   Testing loss: 1.0580   Train accuracy: 0.4574   Test accuracy: 0.4607  \n",
      "Epoch: 107/200   Training loss: 1.0610   Testing loss: 1.0577   Train accuracy: 0.4582   Test accuracy: 0.4607  \n",
      "Epoch: 108/200   Training loss: 1.0604   Testing loss: 1.0588   Train accuracy: 0.4582   Test accuracy: 0.4607  \n",
      "Epoch: 109/200   Training loss: 1.0611   Testing loss: 1.0600   Train accuracy: 0.4586   Test accuracy: 0.4607  \n",
      "Epoch: 110/200   Training loss: 1.0598   Testing loss: 1.0587   Train accuracy: 0.4587   Test accuracy: 0.4607  \n",
      "Epoch: 111/200   Training loss: 1.0606   Testing loss: 1.0578   Train accuracy: 0.4580   Test accuracy: 0.4607  \n",
      "Epoch: 112/200   Training loss: 1.0602   Testing loss: 1.0586   Train accuracy: 0.4592   Test accuracy: 0.4607  \n",
      "Epoch: 113/200   Training loss: 1.0605   Testing loss: 1.0558   Train accuracy: 0.4580   Test accuracy: 0.4607  \n",
      "Epoch: 114/200   Training loss: 1.0591   Testing loss: 1.0580   Train accuracy: 0.4598   Test accuracy: 0.4607  \n",
      "Epoch: 115/200   Training loss: 1.0596   Testing loss: 1.0591   Train accuracy: 0.4585   Test accuracy: 0.4607  \n",
      "Epoch: 116/200   Training loss: 1.0603   Testing loss: 1.0580   Train accuracy: 0.4588   Test accuracy: 0.4607  \n",
      "Epoch: 117/200   Training loss: 1.0589   Testing loss: 1.0594   Train accuracy: 0.4583   Test accuracy: 0.4607  \n",
      "Epoch: 118/200   Training loss: 1.0605   Testing loss: 1.0591   Train accuracy: 0.4579   Test accuracy: 0.4607  \n",
      "Epoch: 119/200   Training loss: 1.0600   Testing loss: 1.0564   Train accuracy: 0.4579   Test accuracy: 0.4607  \n",
      "Epoch: 120/200   Training loss: 1.0603   Testing loss: 1.0599   Train accuracy: 0.4582   Test accuracy: 0.4607  \n",
      "Epoch: 121/200   Training loss: 1.0601   Testing loss: 1.0581   Train accuracy: 0.4583   Test accuracy: 0.4607  \n",
      "Epoch: 122/200   Training loss: 1.0595   Testing loss: 1.0572   Train accuracy: 0.4586   Test accuracy: 0.4607  \n",
      "Epoch: 123/200   Training loss: 1.0586   Testing loss: 1.0587   Train accuracy: 0.4582   Test accuracy: 0.4607  \n",
      "Epoch: 124/200   Training loss: 1.0613   Testing loss: 1.0574   Train accuracy: 0.4588   Test accuracy: 0.4607  \n",
      "Epoch: 125/200   Training loss: 1.0604   Testing loss: 1.0575   Train accuracy: 0.4587   Test accuracy: 0.4607  \n",
      "Epoch: 126/200   Training loss: 1.0606   Testing loss: 1.0574   Train accuracy: 0.4583   Test accuracy: 0.4607  \n",
      "Epoch: 127/200   Training loss: 1.0586   Testing loss: 1.0580   Train accuracy: 0.4580   Test accuracy: 0.4607  \n",
      "Epoch: 128/200   Training loss: 1.0600   Testing loss: 1.0584   Train accuracy: 0.4590   Test accuracy: 0.4607  \n",
      "Epoch: 129/200   Training loss: 1.0585   Testing loss: 1.0568   Train accuracy: 0.4586   Test accuracy: 0.4607  \n",
      "Epoch: 130/200   Training loss: 1.0588   Testing loss: 1.0586   Train accuracy: 0.4592   Test accuracy: 0.4607  \n",
      "Epoch: 131/200   Training loss: 1.0589   Testing loss: 1.0552   Train accuracy: 0.4577   Test accuracy: 0.4607  \n",
      "Epoch: 132/200   Training loss: 1.0577   Testing loss: 1.0573   Train accuracy: 0.4587   Test accuracy: 0.4607  \n",
      "Epoch: 133/200   Training loss: 1.0601   Testing loss: 1.0594   Train accuracy: 0.4579   Test accuracy: 0.4607  \n",
      "Epoch: 134/200   Training loss: 1.0597   Testing loss: 1.0576   Train accuracy: 0.4580   Test accuracy: 0.4607  \n",
      "Epoch: 135/200   Training loss: 1.0596   Testing loss: 1.0587   Train accuracy: 0.4593   Test accuracy: 0.4607  \n",
      "Epoch: 136/200   Training loss: 1.0600   Testing loss: 1.0573   Train accuracy: 0.4588   Test accuracy: 0.4607  \n",
      "Epoch: 137/200   Training loss: 1.0581   Testing loss: 1.0595   Train accuracy: 0.4586   Test accuracy: 0.4607  \n",
      "Epoch: 138/200   Training loss: 1.0596   Testing loss: 1.0592   Train accuracy: 0.4588   Test accuracy: 0.4607  \n",
      "Epoch: 139/200   Training loss: 1.0602   Testing loss: 1.0577   Train accuracy: 0.4582   Test accuracy: 0.4607  \n",
      "Epoch: 140/200   Training loss: 1.0588   Testing loss: 1.0568   Train accuracy: 0.4593   Test accuracy: 0.4607  \n",
      "Epoch: 141/200   Training loss: 1.0589   Testing loss: 1.0566   Train accuracy: 0.4582   Test accuracy: 0.4607  \n",
      "Epoch: 142/200   Training loss: 1.0590   Testing loss: 1.0558   Train accuracy: 0.4584   Test accuracy: 0.4607  \n",
      "Epoch: 143/200   Training loss: 1.0590   Testing loss: 1.0586   Train accuracy: 0.4590   Test accuracy: 0.4607  \n",
      "Epoch: 144/200   Training loss: 1.0585   Testing loss: 1.0579   Train accuracy: 0.4582   Test accuracy: 0.4607  \n",
      "Epoch: 145/200   Training loss: 1.0594   Testing loss: 1.0585   Train accuracy: 0.4583   Test accuracy: 0.4607  \n",
      "Epoch: 146/200   Training loss: 1.0591   Testing loss: 1.0594   Train accuracy: 0.4600   Test accuracy: 0.4607  \n"
     ]
    },
    {
     "name": "stdout",
     "output_type": "stream",
     "text": [
      "Epoch: 147/200   Training loss: 1.0587   Testing loss: 1.0574   Train accuracy: 0.4587   Test accuracy: 0.4607  \n",
      "Epoch: 148/200   Training loss: 1.0585   Testing loss: 1.0577   Train accuracy: 0.4576   Test accuracy: 0.4607  \n",
      "Epoch: 149/200   Training loss: 1.0598   Testing loss: 1.0582   Train accuracy: 0.4588   Test accuracy: 0.4607  \n",
      "Epoch: 150/200   Training loss: 1.0584   Testing loss: 1.0566   Train accuracy: 0.4587   Test accuracy: 0.4607  \n",
      "Epoch: 151/200   Training loss: 1.0587   Testing loss: 1.0591   Train accuracy: 0.4579   Test accuracy: 0.4607  \n",
      "Epoch: 152/200   Training loss: 1.0574   Testing loss: 1.0572   Train accuracy: 0.4590   Test accuracy: 0.4607  \n",
      "Epoch: 153/200   Training loss: 1.0587   Testing loss: 1.0587   Train accuracy: 0.4589   Test accuracy: 0.4607  \n",
      "Epoch: 154/200   Training loss: 1.0586   Testing loss: 1.0576   Train accuracy: 0.4605   Test accuracy: 0.4607  \n",
      "Epoch: 155/200   Training loss: 1.0571   Testing loss: 1.0581   Train accuracy: 0.4597   Test accuracy: 0.4607  \n",
      "Epoch: 156/200   Training loss: 1.0579   Testing loss: 1.0578   Train accuracy: 0.4596   Test accuracy: 0.4607  \n",
      "Epoch: 157/200   Training loss: 1.0578   Testing loss: 1.0567   Train accuracy: 0.4592   Test accuracy: 0.4607  \n",
      "Epoch: 158/200   Training loss: 1.0582   Testing loss: 1.0556   Train accuracy: 0.4593   Test accuracy: 0.4607  \n",
      "Epoch: 159/200   Training loss: 1.0597   Testing loss: 1.0577   Train accuracy: 0.4571   Test accuracy: 0.4607  \n",
      "Epoch: 160/200   Training loss: 1.0586   Testing loss: 1.0577   Train accuracy: 0.4588   Test accuracy: 0.4607  \n",
      "Epoch: 161/200   Training loss: 1.0587   Testing loss: 1.0576   Train accuracy: 0.4580   Test accuracy: 0.4607  \n",
      "Epoch: 162/200   Training loss: 1.0584   Testing loss: 1.0576   Train accuracy: 0.4593   Test accuracy: 0.4607  \n",
      "Epoch: 163/200   Training loss: 1.0585   Testing loss: 1.0590   Train accuracy: 0.4590   Test accuracy: 0.4607  \n",
      "Epoch: 164/200   Training loss: 1.0599   Testing loss: 1.0576   Train accuracy: 0.4586   Test accuracy: 0.4607  \n",
      "Epoch: 165/200   Training loss: 1.0580   Testing loss: 1.0571   Train accuracy: 0.4586   Test accuracy: 0.4607  \n",
      "Epoch: 166/200   Training loss: 1.0586   Testing loss: 1.0569   Train accuracy: 0.4585   Test accuracy: 0.4607  \n",
      "Epoch: 167/200   Training loss: 1.0580   Testing loss: 1.0567   Train accuracy: 0.4584   Test accuracy: 0.4609  \n",
      "Epoch: 168/200   Training loss: 1.0583   Testing loss: 1.0591   Train accuracy: 0.4594   Test accuracy: 0.4609  \n",
      "Epoch: 169/200   Training loss: 1.0586   Testing loss: 1.0591   Train accuracy: 0.4589   Test accuracy: 0.4609  \n",
      "Epoch: 170/200   Training loss: 1.0580   Testing loss: 1.0580   Train accuracy: 0.4589   Test accuracy: 0.4609  \n",
      "Epoch: 171/200   Training loss: 1.0584   Testing loss: 1.0577   Train accuracy: 0.4583   Test accuracy: 0.4609  \n",
      "Epoch: 172/200   Training loss: 1.0587   Testing loss: 1.0561   Train accuracy: 0.4595   Test accuracy: 0.4609  \n",
      "Epoch: 173/200   Training loss: 1.0578   Testing loss: 1.0581   Train accuracy: 0.4583   Test accuracy: 0.4609  \n",
      "Epoch: 174/200   Training loss: 1.0590   Testing loss: 1.0576   Train accuracy: 0.4593   Test accuracy: 0.4609  \n",
      "Epoch: 175/200   Training loss: 1.0576   Testing loss: 1.0568   Train accuracy: 0.4587   Test accuracy: 0.4609  \n",
      "Epoch: 176/200   Training loss: 1.0578   Testing loss: 1.0574   Train accuracy: 0.4595   Test accuracy: 0.4609  \n",
      "Epoch: 177/200   Training loss: 1.0587   Testing loss: 1.0593   Train accuracy: 0.4579   Test accuracy: 0.4609  \n",
      "Epoch: 178/200   Training loss: 1.0583   Testing loss: 1.0575   Train accuracy: 0.4594   Test accuracy: 0.4609  \n",
      "Epoch: 179/200   Training loss: 1.0577   Testing loss: 1.0572   Train accuracy: 0.4586   Test accuracy: 0.4609  \n",
      "Epoch: 180/200   Training loss: 1.0574   Testing loss: 1.0566   Train accuracy: 0.4593   Test accuracy: 0.4609  \n",
      "Epoch: 181/200   Training loss: 1.0583   Testing loss: 1.0574   Train accuracy: 0.4589   Test accuracy: 0.4609  \n",
      "Epoch: 182/200   Training loss: 1.0580   Testing loss: 1.0565   Train accuracy: 0.4589   Test accuracy: 0.4609  \n",
      "Epoch: 183/200   Training loss: 1.0576   Testing loss: 1.0562   Train accuracy: 0.4583   Test accuracy: 0.4609  \n",
      "Epoch: 184/200   Training loss: 1.0580   Testing loss: 1.0590   Train accuracy: 0.4584   Test accuracy: 0.4609  \n",
      "Epoch: 185/200   Training loss: 1.0568   Testing loss: 1.0570   Train accuracy: 0.4590   Test accuracy: 0.4609  \n",
      "Epoch: 186/200   Training loss: 1.0588   Testing loss: 1.0565   Train accuracy: 0.4595   Test accuracy: 0.4609  \n",
      "Epoch: 187/200   Training loss: 1.0578   Testing loss: 1.0585   Train accuracy: 0.4597   Test accuracy: 0.4609  \n",
      "Epoch: 188/200   Training loss: 1.0582   Testing loss: 1.0563   Train accuracy: 0.4600   Test accuracy: 0.4609  \n",
      "Epoch: 189/200   Training loss: 1.0571   Testing loss: 1.0581   Train accuracy: 0.4588   Test accuracy: 0.4609  \n",
      "Epoch: 190/200   Training loss: 1.0589   Testing loss: 1.0576   Train accuracy: 0.4588   Test accuracy: 0.4609  \n",
      "Epoch: 191/200   Training loss: 1.0577   Testing loss: 1.0579   Train accuracy: 0.4598   Test accuracy: 0.4609  \n",
      "Epoch: 192/200   Training loss: 1.0584   Testing loss: 1.0586   Train accuracy: 0.4584   Test accuracy: 0.4609  \n",
      "Epoch: 193/200   Training loss: 1.0582   Testing loss: 1.0564   Train accuracy: 0.4592   Test accuracy: 0.4609  \n",
      "Epoch: 194/200   Training loss: 1.0584   Testing loss: 1.0591   Train accuracy: 0.4588   Test accuracy: 0.4609  \n",
      "Epoch: 195/200   Training loss: 1.0577   Testing loss: 1.0572   Train accuracy: 0.4590   Test accuracy: 0.4609  \n",
      "Epoch: 196/200   Training loss: 1.0601   Testing loss: 1.0563   Train accuracy: 0.4580   Test accuracy: 0.4609  \n",
      "Epoch: 197/200   Training loss: 1.0579   Testing loss: 1.0577   Train accuracy: 0.4594   Test accuracy: 0.4609  \n",
      "Epoch: 198/200   Training loss: 1.0576   Testing loss: 1.0564   Train accuracy: 0.4585   Test accuracy: 0.4609  \n",
      "Epoch: 199/200   Training loss: 1.0579   Testing loss: 1.0572   Train accuracy: 0.4589   Test accuracy: 0.4609  \n"
     ]
    }
   ],
   "source": [
    "epochs = 200\n",
    "train_loss, val_loss = [], []\n",
    "accuracy_total_train, accuracy_total_val = [], []\n",
    "\n",
    "for epoch in range(epochs):\n",
    "   \n",
    "    total_train_loss = 0\n",
    "    total_val_loss = 0\n",
    "\n",
    "    model.train()\n",
    "    \n",
    "    total = 0\n",
    "    # training our model\n",
    "    for idx, (x, y) in enumerate(train_loader):\n",
    "\n",
    "        optimizer.zero_grad()\n",
    "        pred = model(x)\n",
    "        loss = criterion(pred, y)\n",
    "        total_train_loss += loss.item()\n",
    "        loss.backward()\n",
    "        optimizer.step()\n",
    "\n",
    "        pred = torch.nn.functional.softmax(pred, dim=1)\n",
    "        for i, p in enumerate(pred):\n",
    "            if y[i] == torch.max(p.data, 0)[1]:\n",
    "                total = total + 1\n",
    "                \n",
    "    accuracy_train = total / len(Team_Train)\n",
    "    accuracy_total_train.append(accuracy_train)\n",
    "\n",
    "    total_train_loss = total_train_loss / (idx + 1)\n",
    "    train_loss.append(total_train_loss)\n",
    "    \n",
    "    # validating our model\n",
    "    model.eval()\n",
    "    total = 0\n",
    "    for idx, (x, y) in enumerate(test_loader):\n",
    "        pred = model(x)\n",
    "        loss = criterion(pred, y)\n",
    "        total_val_loss += loss.item()\n",
    "\n",
    "        pred = torch.nn.functional.softmax(pred, dim=1)\n",
    "        for i, p in enumerate(pred):\n",
    "            if y[i] == torch.max(p.data, 0)[1]:\n",
    "                total = total + 1\n",
    "\n",
    "    accuracy_val = total / len(Team_Test)\n",
    "    accuracy_total_val.append(accuracy_val)\n",
    "\n",
    "    total_val_loss = total_val_loss / (idx + 1)\n",
    "    val_loss.append(total_val_loss)\n",
    "\n",
    "    if epoch % 1 == 0:\n",
    "        print(\"Epoch: {}/{}  \".format(epoch, epochs),\n",
    "            \"Training loss: {:.4f}  \".format(total_train_loss),\n",
    "            \"Testing loss: {:.4f}  \".format(total_val_loss),\n",
    "            \"Train accuracy: {:.4f}  \".format(accuracy_train),\n",
    "            \"Test accuracy: {:.4f}  \".format(accuracy_val))"
   ]
  },
  {
   "cell_type": "code",
   "execution_count": null,
   "metadata": {},
   "outputs": [],
   "source": []
  },
  {
   "cell_type": "code",
   "execution_count": 31,
   "metadata": {},
   "outputs": [
    {
     "data": {
      "image/png": "[encoded data removed]",
      "text/plain": [
       "<Figure size 432x288 with 1 Axes>"
      ]
     },
     "metadata": {
      "needs_background": "light"
     },
     "output_type": "display_data"
    }
   ],
   "source": [
    "plt.plot(train_loss, label='Training loss')\n",
    "plt.plot(val_loss, label='Test loss')\n",
    "plt.legend()\n",
    "plt.grid()"
   ]
  },
  {
   "cell_type": "code",
   "execution_count": 32,
   "metadata": {},
   "outputs": [
    {
     "data": {
      "image/png": "[encoded data removed]",
      "text/plain": [
       "<Figure size 432x288 with 1 Axes>"
      ]
     },
     "metadata": {
      "needs_background": "light"
     },
     "output_type": "display_data"
    }
   ],
   "source": [
    "plt.plot(accuracy_total_train, label='Training Accuracy')\n",
    "plt.plot(accuracy_total_val, label='Test Accuracy')\n",
    "plt.legend()\n",
    "plt.grid()"
   ]
  },
  {
   "cell_type": "code",
   "execution_count": 33,
   "metadata": {},
   "outputs": [],
   "source": [
    "#saving the model\n",
    "\n",
    "MODEL_PATH = 'teammodel.pth'\n",
    "torch.save(model, MODEL_PATH)"
   ]
  },
  {
   "cell_type": "code",
   "execution_count": 34,
   "metadata": {},
   "outputs": [],
   "source": [
    "model = torch.load(MODEL_PATH)"
   ]
  },
  {
   "cell_type": "code",
   "execution_count": 35,
   "metadata": {},
   "outputs": [],
   "source": [
    "#Evaluation\n",
    "classes = ['Loss','Draw','Win']\n",
    "predict_list = []\n",
    "y_pred = model(Team_Test)\n",
    "\n",
    "for i, p in enumerate(y_pred):\n",
    "    y_pred = torch.max(p.data, 0)[1]\n",
    "    predict_list.append(y_pred)\n",
    "stacked_tensor = torch.stack(predict_list)\n",
    "y_test = y_test.cpu()"
   ]
  },
  {
   "cell_type": "code",
   "execution_count": 36,
   "metadata": {},
   "outputs": [
    {
     "name": "stdout",
     "output_type": "stream",
     "text": [
      "              precision    recall  f1-score   support\n",
      "\n",
      "        Loss       0.50      0.00      0.00      1189\n",
      "        Draw       0.00      0.00      0.00      1102\n",
      "         Win       0.46      1.00      0.63      1959\n",
      "\n",
      "    accuracy                           0.46      4250\n",
      "   macro avg       0.32      0.33      0.21      4250\n",
      "weighted avg       0.35      0.46      0.29      4250\n",
      "\n"
     ]
    },
    {
     "name": "stderr",
     "output_type": "stream",
     "text": [
      "C:\\Users\\herath\\anaconda3\\lib\\site-packages\\sklearn\\metrics\\_classification.py:1221: UndefinedMetricWarning: Precision and F-score are ill-defined and being set to 0.0 in labels with no predicted samples. Use `zero_division` parameter to control this behavior.\n",
      "  _warn_prf(average, modifier, msg_start, len(result))\n"
     ]
    }
   ],
   "source": [
    "print(classification_report(y_test, stacked_tensor, target_names=classes))"
   ]
  },
  {
   "cell_type": "code",
   "execution_count": 37,
   "metadata": {},
   "outputs": [
    {
     "data": {
      "text/plain": [
       "Text(0.5, 15.0, 'Predicted label')"
      ]
     },
     "execution_count": 37,
     "metadata": {},
     "output_type": "execute_result"
    },
    {
     "data": {
      "image/png": "[encoded data removed]",
      "text/plain": [
       "<Figure size 432x288 with 2 Axes>"
      ]
     },
     "metadata": {
      "needs_background": "light"
     },
     "output_type": "display_data"
    }
   ],
   "source": [
    "cm = confusion_matrix(y_test, stacked_tensor)\n",
    "df_cm = pd.DataFrame(cm, index=classes, columns=classes)\n",
    "hmap = sns.heatmap(df_cm, annot=True, fmt=\"d\")\n",
    "hmap.yaxis.set_ticklabels(hmap.yaxis.get_ticklabels(), rotation=0, ha='right')\n",
    "hmap.xaxis.set_ticklabels(hmap.xaxis.get_ticklabels(), rotation=0, ha='right')\n",
    "plt.ylabel('True label')\n",
    "plt.xlabel('Predicted label')"
   ]
  },
  {
   "cell_type": "code",
   "execution_count": 130,
   "metadata": {},
   "outputs": [
    {
     "name": "stdout",
     "output_type": "stream",
     "text": [
      "Accuracy of the network on the 4250 matches: 46 %\n"
     ]
    }
   ],
   "source": [
    "correct = 0\n",
    "total = 0\n",
    "\n",
    "with torch.no_grad():\n",
    "    for i, (x, y) in enumerate(test_loader):\n",
    "        outputs = model(x)\n",
    "        _, predicted = torch.max(outputs.data, 1)\n",
    "        total += y.size(0)\n",
    "        correct += (predicted == y).sum().item()\n",
    "\n",
    "print('Accuracy of the network on the 4250 matches: %d %%' % (\n",
    "    100 * correct / total))"
   ]
  },
  {
   "cell_type": "code",
   "execution_count": 38,
   "metadata": {},
   "outputs": [
    {
     "data": {
      "text/plain": [
       "torch.Size([16996, 1, 81])"
      ]
     },
     "execution_count": 38,
     "metadata": {},
     "output_type": "execute_result"
    }
   ],
   "source": [
    "Team_Train1 = Team_Train.unsqueeze(1)\n",
    "Team_Train1.size()"
   ]
  },
  {
   "cell_type": "code",
   "execution_count": 39,
   "metadata": {},
   "outputs": [
    {
     "data": {
      "text/plain": [
       "torch.Size([4250, 1, 81])"
      ]
     },
     "execution_count": 39,
     "metadata": {},
     "output_type": "execute_result"
    }
   ],
   "source": [
    "Team_Test1 = Team_Test.unsqueeze(1)\n",
    "Team_Test1.size()"
   ]
  },
  {
   "cell_type": "code",
   "execution_count": 48,
   "metadata": {},
   "outputs": [],
   "source": [
    "import torch.utils.data as data_utils\n",
    "\n",
    "train1 = data_utils.TensorDataset(Team_Train1, y_train)\n",
    "train_loader1 = data_utils.DataLoader(train1, batch_size=128, shuffle=True)\n",
    "\n",
    "\n",
    "test1 = data_utils.TensorDataset(Team_Test1, y_test)\n",
    "test_loader1 = data_utils.DataLoader(test1, batch_size=128, shuffle=True)"
   ]
  },
  {
   "cell_type": "code",
   "execution_count": 47,
   "metadata": {},
   "outputs": [],
   "source": [
    "import torch\n",
    "from torch import nn\n",
    "from torch import optim\n",
    "import torch.nn.functional as F\n",
    "\n",
    "class Network(nn.Module):\n",
    "\n",
    "    def __init__(self):\n",
    "        super(Network, self).__init__()\n",
    "        # Convolutional Neural Network Layer \n",
    "        self.convolutaional_neural_network_layers = nn.Sequential(\n",
    "                # Here we are defining our 2D convolutional layers\n",
    "                # We can calculate the output size of each convolutional layer using the following formular\n",
    "                # outputOfEachConvLayer = [(in_channel + 2*padding - kernel_size) / stride] + 1\n",
    "                # We have in_channels=1 because our input is a grayscale image\n",
    "                nn.Conv1d(in_channels=1, out_channels=4, kernel_size=3, padding=0, stride=1), # (N, 1, 28, 28) \n",
    "                nn.ReLU(),\n",
    "                nn.MaxPool1d(kernel_size=2),\n",
    "          \n",
    "                # output of our second conv layer\n",
    "                nn.Conv1d(in_channels=4, out_channels=8, kernel_size=3, padding=0, stride=1),\n",
    "                nn.ReLU(),\n",
    "                nn.MaxPool1d(kernel_size=2),\n",
    "                nn.Conv1d(in_channels=8, out_channels=16, kernel_size=3, padding=0, stride=1),\n",
    "                nn.ReLU(),\n",
    "                nn.MaxPool1d(kernel_size=2)\n",
    "        )\n",
    "\n",
    "        # Linear layer\n",
    "        self.linear_layers = nn.Sequential(\n",
    "                # We have the output_channel=24 of our second conv layer, and 3*3 is derived by the formular \n",
    "                # which is the output of each convolutional layer\n",
    "                nn.Linear(in_features=16*8, out_features=81),          \n",
    "                nn.ReLU(),\n",
    "                nn.Linear(in_features=81, out_features=27),\n",
    "                nn.ReLU(),\n",
    "                nn.Linear(in_features=27, out_features=9),\n",
    "                nn.ReLU(),\n",
    "                nn.Linear(in_features=9, out_features=3) # The output is 3 which should match the size of our class\n",
    "        )\n",
    "\n",
    "    # Defining the forward pass \n",
    "    def forward(self, x):\n",
    "        x = self.convolutaional_neural_network_layers(x)\n",
    "        # After we get the output of our convolutional layer we must flatten it or rearrange the output into a vector\n",
    "        x = x.view(x.size(0), -1)\n",
    "        # Then pass it through the linear layer\n",
    "        x = self.linear_layers(x)\n",
    "        return x"
   ]
  },
  {
   "cell_type": "code",
   "execution_count": 49,
   "metadata": {},
   "outputs": [],
   "source": [
    "#Doing it on GPU\n",
    "device = torch.device(\"cuda:0\" if torch.cuda.is_available() else \"cpu\")\n",
    "\n",
    "net = Network()\n",
    "net.to(device)\n",
    "\n",
    "#Training\n",
    "optimizer1 = optim.SGD(net.parameters(), lr=0.005)\n",
    "criterion1 = nn.CrossEntropyLoss()\n"
   ]
  },
  {
   "cell_type": "code",
   "execution_count": 50,
   "metadata": {},
   "outputs": [
    {
     "name": "stdout",
     "output_type": "stream",
     "text": [
      "Epoch: 0/100   Training loss: 1.1004   Testing loss: 1.0831   Train accuracy: 0.3079   Test accuracy: 0.4136  \n",
      "Epoch: 1/100   Training loss: 1.0718   Testing loss: 1.0671   Train accuracy: 0.4517   Test accuracy: 0.4609  \n",
      "Epoch: 2/100   Training loss: 1.0645   Testing loss: 1.0629   Train accuracy: 0.4586   Test accuracy: 0.4609  \n",
      "Epoch: 3/100   Training loss: 1.0634   Testing loss: 1.0632   Train accuracy: 0.4586   Test accuracy: 0.4609  \n",
      "Epoch: 4/100   Training loss: 1.0630   Testing loss: 1.0622   Train accuracy: 0.4586   Test accuracy: 0.4609  \n",
      "Epoch: 5/100   Training loss: 1.0627   Testing loss: 1.0619   Train accuracy: 0.4586   Test accuracy: 0.4609  \n",
      "Epoch: 6/100   Training loss: 1.0623   Testing loss: 1.0627   Train accuracy: 0.4586   Test accuracy: 0.4609  \n",
      "Epoch: 7/100   Training loss: 1.0620   Testing loss: 1.0620   Train accuracy: 0.4586   Test accuracy: 0.4609  \n",
      "Epoch: 8/100   Training loss: 1.0617   Testing loss: 1.0628   Train accuracy: 0.4586   Test accuracy: 0.4609  \n",
      "Epoch: 9/100   Training loss: 1.0614   Testing loss: 1.0619   Train accuracy: 0.4586   Test accuracy: 0.4609  \n",
      "Epoch: 10/100   Training loss: 1.0612   Testing loss: 1.0623   Train accuracy: 0.4586   Test accuracy: 0.4609  \n",
      "Epoch: 11/100   Training loss: 1.0608   Testing loss: 1.0634   Train accuracy: 0.4586   Test accuracy: 0.4609  \n",
      "Epoch: 12/100   Training loss: 1.0606   Testing loss: 1.0599   Train accuracy: 0.4586   Test accuracy: 0.4609  \n",
      "Epoch: 13/100   Training loss: 1.0603   Testing loss: 1.0604   Train accuracy: 0.4586   Test accuracy: 0.4609  \n",
      "Epoch: 14/100   Training loss: 1.0600   Testing loss: 1.0629   Train accuracy: 0.4586   Test accuracy: 0.4609  \n",
      "Epoch: 15/100   Training loss: 1.0597   Testing loss: 1.0600   Train accuracy: 0.4586   Test accuracy: 0.4609  \n",
      "Epoch: 16/100   Training loss: 1.0593   Testing loss: 1.0616   Train accuracy: 0.4586   Test accuracy: 0.4609  \n",
      "Epoch: 17/100   Training loss: 1.0592   Testing loss: 1.0603   Train accuracy: 0.4586   Test accuracy: 0.4609  \n",
      "Epoch: 18/100   Training loss: 1.0588   Testing loss: 1.0590   Train accuracy: 0.4586   Test accuracy: 0.4609  \n",
      "Epoch: 19/100   Training loss: 1.0585   Testing loss: 1.0616   Train accuracy: 0.4586   Test accuracy: 0.4609  \n",
      "Epoch: 20/100   Training loss: 1.0582   Testing loss: 1.0601   Train accuracy: 0.4585   Test accuracy: 0.4607  \n",
      "Epoch: 21/100   Training loss: 1.0578   Testing loss: 1.0578   Train accuracy: 0.4583   Test accuracy: 0.4607  \n",
      "Epoch: 22/100   Training loss: 1.0576   Testing loss: 1.0592   Train accuracy: 0.4583   Test accuracy: 0.4607  \n",
      "Epoch: 23/100   Training loss: 1.0573   Testing loss: 1.0582   Train accuracy: 0.4583   Test accuracy: 0.4609  \n",
      "Epoch: 24/100   Training loss: 1.0569   Testing loss: 1.0595   Train accuracy: 0.4584   Test accuracy: 0.4612  \n",
      "Epoch: 25/100   Training loss: 1.0567   Testing loss: 1.0583   Train accuracy: 0.4588   Test accuracy: 0.4605  \n",
      "Epoch: 26/100   Training loss: 1.0563   Testing loss: 1.0594   Train accuracy: 0.4592   Test accuracy: 0.4595  \n",
      "Epoch: 27/100   Training loss: 1.0560   Testing loss: 1.0561   Train accuracy: 0.4600   Test accuracy: 0.4598  \n",
      "Epoch: 28/100   Training loss: 1.0558   Testing loss: 1.0614   Train accuracy: 0.4594   Test accuracy: 0.4595  \n",
      "Epoch: 29/100   Training loss: 1.0555   Testing loss: 1.0597   Train accuracy: 0.4610   Test accuracy: 0.4588  \n",
      "Epoch: 30/100   Training loss: 1.0553   Testing loss: 1.0561   Train accuracy: 0.4602   Test accuracy: 0.4595  \n",
      "Epoch: 31/100   Training loss: 1.0551   Testing loss: 1.0592   Train accuracy: 0.4602   Test accuracy: 0.4598  \n",
      "Epoch: 32/100   Training loss: 1.0549   Testing loss: 1.0566   Train accuracy: 0.4612   Test accuracy: 0.4595  \n",
      "Epoch: 33/100   Training loss: 1.0546   Testing loss: 1.0591   Train accuracy: 0.4610   Test accuracy: 0.4619  \n",
      "Epoch: 34/100   Training loss: 1.0544   Testing loss: 1.0572   Train accuracy: 0.4613   Test accuracy: 0.4628  \n",
      "Epoch: 35/100   Training loss: 1.0541   Testing loss: 1.0586   Train accuracy: 0.4618   Test accuracy: 0.4621  \n",
      "Epoch: 36/100   Training loss: 1.0540   Testing loss: 1.0592   Train accuracy: 0.4619   Test accuracy: 0.4626  \n",
      "Epoch: 37/100   Training loss: 1.0538   Testing loss: 1.0564   Train accuracy: 0.4623   Test accuracy: 0.4628  \n",
      "Epoch: 38/100   Training loss: 1.0536   Testing loss: 1.0605   Train accuracy: 0.4617   Test accuracy: 0.4619  \n",
      "Epoch: 39/100   Training loss: 1.0534   Testing loss: 1.0572   Train accuracy: 0.4635   Test accuracy: 0.4621  \n",
      "Epoch: 40/100   Training loss: 1.0532   Testing loss: 1.0570   Train accuracy: 0.4635   Test accuracy: 0.4626  \n",
      "Epoch: 41/100   Training loss: 1.0532   Testing loss: 1.0587   Train accuracy: 0.4635   Test accuracy: 0.4628  \n",
      "Epoch: 42/100   Training loss: 1.0528   Testing loss: 1.0577   Train accuracy: 0.4647   Test accuracy: 0.4635  \n",
      "Epoch: 43/100   Training loss: 1.0529   Testing loss: 1.0608   Train accuracy: 0.4636   Test accuracy: 0.4645  \n",
      "Epoch: 44/100   Training loss: 1.0525   Testing loss: 1.0574   Train accuracy: 0.4645   Test accuracy: 0.4628  \n",
      "Epoch: 45/100   Training loss: 1.0525   Testing loss: 1.0557   Train accuracy: 0.4641   Test accuracy: 0.4635  \n",
      "Epoch: 46/100   Training loss: 1.0523   Testing loss: 1.0592   Train accuracy: 0.4642   Test accuracy: 0.4626  \n",
      "Epoch: 47/100   Training loss: 1.0521   Testing loss: 1.0558   Train accuracy: 0.4649   Test accuracy: 0.4633  \n",
      "Epoch: 48/100   Training loss: 1.0521   Testing loss: 1.0578   Train accuracy: 0.4641   Test accuracy: 0.4624  \n",
      "Epoch: 49/100   Training loss: 1.0519   Testing loss: 1.0584   Train accuracy: 0.4653   Test accuracy: 0.4635  \n",
      "Epoch: 50/100   Training loss: 1.0518   Testing loss: 1.0562   Train accuracy: 0.4648   Test accuracy: 0.4638  \n",
      "Epoch: 51/100   Training loss: 1.0515   Testing loss: 1.0558   Train accuracy: 0.4644   Test accuracy: 0.4647  \n",
      "Epoch: 52/100   Training loss: 1.0515   Testing loss: 1.0593   Train accuracy: 0.4645   Test accuracy: 0.4652  \n",
      "Epoch: 53/100   Training loss: 1.0513   Testing loss: 1.0575   Train accuracy: 0.4656   Test accuracy: 0.4640  \n",
      "Epoch: 54/100   Training loss: 1.0512   Testing loss: 1.0558   Train accuracy: 0.4634   Test accuracy: 0.4621  \n",
      "Epoch: 55/100   Training loss: 1.0511   Testing loss: 1.0560   Train accuracy: 0.4653   Test accuracy: 0.4624  \n",
      "Epoch: 56/100   Training loss: 1.0509   Testing loss: 1.0564   Train accuracy: 0.4653   Test accuracy: 0.4631  \n",
      "Epoch: 57/100   Training loss: 1.0509   Testing loss: 1.0588   Train accuracy: 0.4653   Test accuracy: 0.4645  \n",
      "Epoch: 58/100   Training loss: 1.0506   Testing loss: 1.0573   Train accuracy: 0.4669   Test accuracy: 0.4638  \n",
      "Epoch: 59/100   Training loss: 1.0506   Testing loss: 1.0600   Train accuracy: 0.4655   Test accuracy: 0.4654  \n",
      "Epoch: 60/100   Training loss: 1.0503   Testing loss: 1.0558   Train accuracy: 0.4669   Test accuracy: 0.4621  \n",
      "Epoch: 61/100   Training loss: 1.0503   Testing loss: 1.0577   Train accuracy: 0.4664   Test accuracy: 0.4647  \n",
      "Epoch: 62/100   Training loss: 1.0502   Testing loss: 1.0560   Train accuracy: 0.4668   Test accuracy: 0.4645  \n",
      "Epoch: 63/100   Training loss: 1.0501   Testing loss: 1.0559   Train accuracy: 0.4666   Test accuracy: 0.4635  \n",
      "Epoch: 64/100   Training loss: 1.0497   Testing loss: 1.0573   Train accuracy: 0.4675   Test accuracy: 0.4631  \n",
      "Epoch: 65/100   Training loss: 1.0498   Testing loss: 1.0592   Train accuracy: 0.4688   Test accuracy: 0.4626  \n",
      "Epoch: 66/100   Training loss: 1.0497   Testing loss: 1.0579   Train accuracy: 0.4678   Test accuracy: 0.4633  \n",
      "Epoch: 67/100   Training loss: 1.0495   Testing loss: 1.0544   Train accuracy: 0.4684   Test accuracy: 0.4631  \n",
      "Epoch: 68/100   Training loss: 1.0495   Testing loss: 1.0590   Train accuracy: 0.4678   Test accuracy: 0.4624  \n",
      "Epoch: 69/100   Training loss: 1.0493   Testing loss: 1.0562   Train accuracy: 0.4683   Test accuracy: 0.4635  \n",
      "Epoch: 70/100   Training loss: 1.0491   Testing loss: 1.0565   Train accuracy: 0.4698   Test accuracy: 0.4659  \n",
      "Epoch: 71/100   Training loss: 1.0491   Testing loss: 1.0567   Train accuracy: 0.4676   Test accuracy: 0.4654  \n",
      "Epoch: 72/100   Training loss: 1.0489   Testing loss: 1.0558   Train accuracy: 0.4693   Test accuracy: 0.4633  \n",
      "Epoch: 73/100   Training loss: 1.0489   Testing loss: 1.0599   Train accuracy: 0.4686   Test accuracy: 0.4569  \n"
     ]
    },
    {
     "name": "stdout",
     "output_type": "stream",
     "text": [
      "Epoch: 74/100   Training loss: 1.0486   Testing loss: 1.0571   Train accuracy: 0.4698   Test accuracy: 0.4647  \n",
      "Epoch: 75/100   Training loss: 1.0485   Testing loss: 1.0587   Train accuracy: 0.4691   Test accuracy: 0.4621  \n",
      "Epoch: 76/100   Training loss: 1.0483   Testing loss: 1.0548   Train accuracy: 0.4688   Test accuracy: 0.4652  \n",
      "Epoch: 77/100   Training loss: 1.0482   Testing loss: 1.0582   Train accuracy: 0.4697   Test accuracy: 0.4631  \n",
      "Epoch: 78/100   Training loss: 1.0481   Testing loss: 1.0556   Train accuracy: 0.4686   Test accuracy: 0.4591  \n",
      "Epoch: 79/100   Training loss: 1.0480   Testing loss: 1.0572   Train accuracy: 0.4697   Test accuracy: 0.4647  \n",
      "Epoch: 80/100   Training loss: 1.0480   Testing loss: 1.0577   Train accuracy: 0.4698   Test accuracy: 0.4645  \n",
      "Epoch: 81/100   Training loss: 1.0475   Testing loss: 1.0607   Train accuracy: 0.4720   Test accuracy: 0.4534  \n",
      "Epoch: 82/100   Training loss: 1.0476   Testing loss: 1.0583   Train accuracy: 0.4699   Test accuracy: 0.4645  \n",
      "Epoch: 83/100   Training loss: 1.0474   Testing loss: 1.0543   Train accuracy: 0.4698   Test accuracy: 0.4624  \n",
      "Epoch: 84/100   Training loss: 1.0473   Testing loss: 1.0551   Train accuracy: 0.4706   Test accuracy: 0.4600  \n",
      "Epoch: 85/100   Training loss: 1.0472   Testing loss: 1.0569   Train accuracy: 0.4715   Test accuracy: 0.4579  \n",
      "Epoch: 86/100   Training loss: 1.0469   Testing loss: 1.0552   Train accuracy: 0.4718   Test accuracy: 0.4609  \n",
      "Epoch: 87/100   Training loss: 1.0468   Testing loss: 1.0578   Train accuracy: 0.4715   Test accuracy: 0.4666  \n",
      "Epoch: 88/100   Training loss: 1.0467   Testing loss: 1.0587   Train accuracy: 0.4724   Test accuracy: 0.4584  \n",
      "Epoch: 89/100   Training loss: 1.0466   Testing loss: 1.0561   Train accuracy: 0.4718   Test accuracy: 0.4673  \n",
      "Epoch: 90/100   Training loss: 1.0463   Testing loss: 1.0551   Train accuracy: 0.4721   Test accuracy: 0.4621  \n",
      "Epoch: 91/100   Training loss: 1.0461   Testing loss: 1.0586   Train accuracy: 0.4721   Test accuracy: 0.4574  \n",
      "Epoch: 92/100   Training loss: 1.0459   Testing loss: 1.0584   Train accuracy: 0.4718   Test accuracy: 0.4673  \n",
      "Epoch: 93/100   Training loss: 1.0458   Testing loss: 1.0590   Train accuracy: 0.4721   Test accuracy: 0.4602  \n",
      "Epoch: 94/100   Training loss: 1.0459   Testing loss: 1.0571   Train accuracy: 0.4715   Test accuracy: 0.4586  \n",
      "Epoch: 95/100   Training loss: 1.0455   Testing loss: 1.0579   Train accuracy: 0.4731   Test accuracy: 0.4588  \n",
      "Epoch: 96/100   Training loss: 1.0454   Testing loss: 1.0547   Train accuracy: 0.4736   Test accuracy: 0.4600  \n",
      "Epoch: 97/100   Training loss: 1.0453   Testing loss: 1.0582   Train accuracy: 0.4723   Test accuracy: 0.4591  \n",
      "Epoch: 98/100   Training loss: 1.0449   Testing loss: 1.0572   Train accuracy: 0.4721   Test accuracy: 0.4614  \n",
      "Epoch: 99/100   Training loss: 1.0447   Testing loss: 1.0558   Train accuracy: 0.4743   Test accuracy: 0.4609  \n"
     ]
    }
   ],
   "source": [
    "epochs = 100\n",
    "train_loss, val_loss = [], []\n",
    "accuracy_total_train, accuracy_total_val = [], []\n",
    "\n",
    "for epoch in range(epochs):\n",
    "   \n",
    "    total_train_loss = 0\n",
    "    total_val_loss = 0\n",
    "\n",
    "    net.train()\n",
    "    \n",
    "    total = 0\n",
    "    # training our model\n",
    "    for idx, (x, y) in enumerate(train_loader1):\n",
    "\n",
    "        optimizer1.zero_grad()\n",
    "\n",
    "        pred = net(x)\n",
    "        loss = criterion1(pred, y)\n",
    "        total_train_loss += loss.item()\n",
    "        loss.backward(retain_graph=True)\n",
    "        optimizer1.step()\n",
    "\n",
    "        pred = torch.nn.functional.softmax(pred, dim=1)\n",
    "        for i, p in enumerate(pred):\n",
    "            if y[i] == torch.max(p.data, 0)[1]:\n",
    "                total = total + 1\n",
    "                \n",
    "    accuracy_train = total / len(Team_Train1)\n",
    "    accuracy_total_train.append(accuracy_train)\n",
    "\n",
    "    total_train_loss = total_train_loss / (idx + 1)\n",
    "    train_loss.append(total_train_loss)\n",
    "    \n",
    "    # validating our model\n",
    "    net.eval()\n",
    "    total = 0\n",
    "    for idx, (x, y) in enumerate(test_loader1):\n",
    "        pred = net(x)\n",
    "        loss = criterion1(pred, y)\n",
    "        total_val_loss += loss.item()\n",
    "\n",
    "        pred = torch.nn.functional.softmax(pred, dim=1)\n",
    "        for i, p in enumerate(pred):\n",
    "            if y[i] == torch.max(p.data, 0)[1]:\n",
    "                total = total + 1\n",
    "\n",
    "    accuracy_val = total / len(Team_Test1)\n",
    "    accuracy_total_val.append(accuracy_val)\n",
    "\n",
    "    total_val_loss = total_val_loss / (idx + 1)\n",
    "    val_loss.append(total_val_loss)\n",
    "\n",
    "    if epoch % 1 == 0:\n",
    "          print(\"Epoch: {}/{}  \".format(epoch, epochs),\n",
    "            \"Training loss: {:.4f}  \".format(total_train_loss),\n",
    "            \"Testing loss: {:.4f}  \".format(total_val_loss),\n",
    "            \"Train accuracy: {:.4f}  \".format(accuracy_train),\n",
    "            \"Test accuracy: {:.4f}  \".format(accuracy_val))"
   ]
  },
  {
   "cell_type": "code",
   "execution_count": 51,
   "metadata": {},
   "outputs": [
    {
     "data": {
      "image/png": "[encoded data removed]",
      "text/plain": [
       "<Figure size 432x288 with 1 Axes>"
      ]
     },
     "metadata": {
      "needs_background": "light"
     },
     "output_type": "display_data"
    }
   ],
   "source": [
    "plt.plot(train_loss, label='Training loss')\n",
    "plt.plot(val_loss, label='Test loss')\n",
    "plt.legend()\n",
    "plt.grid()"
   ]
  },
  {
   "cell_type": "code",
   "execution_count": 52,
   "metadata": {},
   "outputs": [
    {
     "data": {
      "image/png": "[encoded data removed]",
      "text/plain": [
       "<Figure size 432x288 with 1 Axes>"
      ]
     },
     "metadata": {
      "needs_background": "light"
     },
     "output_type": "display_data"
    }
   ],
   "source": [
    "plt.plot(accuracy_total_train, label='Training Accuracy')\n",
    "plt.plot(accuracy_total_val, label='Test Accuracy')\n",
    "plt.legend()\n",
    "plt.grid()"
   ]
  },
  {
   "cell_type": "code",
   "execution_count": 53,
   "metadata": {},
   "outputs": [],
   "source": [
    "#saving the model\n",
    "\n",
    "MODEL_PATH = 'teamConmodel.pth'\n",
    "torch.save(net, MODEL_PATH)"
   ]
  },
  {
   "cell_type": "code",
   "execution_count": 54,
   "metadata": {},
   "outputs": [],
   "source": [
    "net = torch.load(MODEL_PATH)"
   ]
  },
  {
   "cell_type": "code",
   "execution_count": 55,
   "metadata": {},
   "outputs": [
    {
     "name": "stdout",
     "output_type": "stream",
     "text": [
      "              precision    recall  f1-score   support\n",
      "\n",
      "        Loss       0.37      0.20      0.26      1189\n",
      "        Draw       0.00      0.00      0.00      1102\n",
      "         Win       0.48      0.88      0.62      1959\n",
      "\n",
      "    accuracy                           0.46      4250\n",
      "   macro avg       0.28      0.36      0.29      4250\n",
      "weighted avg       0.32      0.46      0.36      4250\n",
      "\n"
     ]
    }
   ],
   "source": [
    "#Evaluation\n",
    "classes = ['Loss','Draw','Win']\n",
    "predict_list = []\n",
    "y_pred = net(Team_Test1)\n",
    "\n",
    "for i, p in enumerate(y_pred):\n",
    "    y_pred = torch.max(p.data, 0)[1]\n",
    "    predict_list.append(y_pred)\n",
    "stacked_tensor = torch.stack(predict_list)\n",
    "y_test = y_test.cpu()\n",
    "\n",
    "print(classification_report(y_test, stacked_tensor, target_names=classes))"
   ]
  },
  {
   "cell_type": "code",
   "execution_count": 56,
   "metadata": {},
   "outputs": [
    {
     "data": {
      "text/plain": [
       "Text(0.5, 15.0, 'Predicted label')"
      ]
     },
     "execution_count": 56,
     "metadata": {},
     "output_type": "execute_result"
    },
    {
     "data": {
      "image/png": "[encoded data removed]",
      "text/plain": [
       "<Figure size 432x288 with 2 Axes>"
      ]
     },
     "metadata": {
      "needs_background": "light"
     },
     "output_type": "display_data"
    }
   ],
   "source": [
    "cm = confusion_matrix(y_test, stacked_tensor)\n",
    "df_cm = pd.DataFrame(cm, index=classes, columns=classes)\n",
    "hmap = sns.heatmap(df_cm, annot=True, fmt=\"d\")\n",
    "hmap.yaxis.set_ticklabels(hmap.yaxis.get_ticklabels(), rotation=0, ha='right')\n",
    "hmap.xaxis.set_ticklabels(hmap.xaxis.get_ticklabels(), rotation=0, ha='right')\n",
    "plt.ylabel('True label')\n",
    "plt.xlabel('Predicted label')"
   ]
  },
  {
   "cell_type": "code",
   "execution_count": 57,
   "metadata": {},
   "outputs": [
    {
     "name": "stdout",
     "output_type": "stream",
     "text": [
      "Accuracy of the network on the 4250 matches: 46 %\n"
     ]
    }
   ],
   "source": [
    "correct = 0\n",
    "total = 0\n",
    "\n",
    "with torch.no_grad():\n",
    "    for i, (x, y) in enumerate(test_loader1):\n",
    "        outputs = net(x)\n",
    "        _, predicted = torch.max(outputs.data, 1)\n",
    "        total += y.size(0)\n",
    "        correct += (predicted == y).sum().item()\n",
    "\n",
    "print('Accuracy of the network on the 4250 matches: %d %%' % (\n",
    "    100 * correct / total))"
   ]
  },
  {
   "cell_type": "code",
   "execution_count": 1,
   "metadata": {},
   "outputs": [
    {
     "ename": "NameError",
     "evalue": "name 'Team_Train' is not defined",
     "output_type": "error",
     "traceback": [
      "\u001b[1;31m---------------------------------------------------------------------------\u001b[0m",
      "\u001b[1;31mNameError\u001b[0m                                 Traceback (most recent call last)",
      "\u001b[1;32m<ipython-input-1-7cfb54a7472c>\u001b[0m in \u001b[0;36m<module>\u001b[1;34m\u001b[0m\n\u001b[1;32m----> 1\u001b[1;33m \u001b[0mTeam_Train\u001b[0m\u001b[1;33m\u001b[0m\u001b[1;33m\u001b[0m\u001b[0m\n\u001b[0m",
      "\u001b[1;31mNameError\u001b[0m: name 'Team_Train' is not defined"
     ]
    }
   ],
   "source": [
    "Team_Train"
   ]
  },
  {
   "cell_type": "code",
   "execution_count": null,
   "metadata": {},
   "outputs": [],
   "source": []
  }
 ],
 "metadata": {
  "kernelspec": {
   "display_name": "Python 3",
   "language": "python",
   "name": "python3"
  },
  "language_info": {
   "codemirror_mode": {
    "name": "ipython",
    "version": 3
   },
   "file_extension": ".py",
   "mimetype": "text/x-python",
   "name": "python",
   "nbconvert_exporter": "python",
   "pygments_lexer": "ipython3",
   "version": "3.8.5"
  }
 },
 "nbformat": 4,
 "nbformat_minor": 4
}
