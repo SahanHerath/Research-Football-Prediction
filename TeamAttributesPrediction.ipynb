{
 "cells": [
  {
   "cell_type": "code",
   "execution_count": 1,
   "metadata": {},
   "outputs": [],
   "source": [
    "import pandas as pd\n",
    "import seaborn as sns\n",
    "import numpy as np\n",
    "from tqdm import tqdm\n",
    "from pylab import rcParams\n",
    "import matplotlib.pyplot as plt\n",
    "from matplotlib import rc\n",
    "from torch import nn, optim\n",
    "import torch.nn.functional as F\n",
    "from sklearn.model_selection import train_test_split\n",
    "from sklearn.metrics import confusion_matrix, classification_report\n",
    "import torch\n",
    "\n",
    "df = pd.read_csv('UpdatedMatches.csv')\n",
    "data = []"
   ]
  },
  {
   "cell_type": "code",
   "execution_count": 2,
   "metadata": {},
   "outputs": [
    {
     "name": "stderr",
     "output_type": "stream",
     "text": [
      "C:\\Users\\herath\\anaconda3\\lib\\site-packages\\seaborn\\_decorators.py:36: FutureWarning: Pass the following variable as a keyword arg: x. From version 0.12, the only valid positional argument will be `data`, and passing other arguments without an explicit keyword will result in an error or misinterpretation.\n",
      "  warnings.warn(\n"
     ]
    },
    {
     "data": {
      "text/plain": [
       "<AxesSubplot:xlabel='result', ylabel='count'>"
      ]
     },
     "execution_count": 2,
     "metadata": {},
     "output_type": "execute_result"
    },
    {
     "data": {
      "image/png": "[encoded data removed]",
      "text/plain": [
       "<Figure size 432x288 with 1 Axes>"
      ]
     },
     "metadata": {
      "needs_background": "light"
     },
     "output_type": "display_data"
    }
   ],
   "source": [
    "df['season'].replace({'2008/2009':2008, '2009/2010':2009, '2010/2011':2010, '2011/2012':2011, '2012/2013':2012, '2013/2014':2013, '2014/2015':2014, '2015/2016':2015 },inplace=True)\n",
    "\n",
    "df[\"result\"] = np.nan\n",
    "for index, row in df.iterrows():\n",
    "    if df.loc[index,'home_team_goal'] == df.loc[index,'away_team_goal']:\n",
    "        df.loc[index,'result'] = 1\n",
    "    if df.loc[index,'home_team_goal'] > df.loc[index,'away_team_goal']:\n",
    "        df.loc[index,'result'] = 2\n",
    "    if df.loc[index,'home_team_goal'] < df.loc[index,'away_team_goal']:\n",
    "        df.loc[index,'result'] = 0\n",
    "        \n",
    "sns.countplot(df.result)\n"
   ]
  },
  {
   "cell_type": "code",
   "execution_count": 3,
   "metadata": {},
   "outputs": [
    {
     "data": {
      "text/plain": [
       "2.0    0.459098\n",
       "0.0    0.288525\n",
       "1.0    0.252377\n",
       "Name: result, dtype: float64"
      ]
     },
     "execution_count": 3,
     "metadata": {},
     "output_type": "execute_result"
    }
   ],
   "source": [
    "df.result.value_counts()/df.shape[0]"
   ]
  },
  {
   "cell_type": "code",
   "execution_count": 4,
   "metadata": {},
   "outputs": [],
   "source": [
    "from tqdm import tqdm\n",
    "\n",
    "def teamfunction( df ):\n",
    "    for index, row in tqdm(df.iterrows()):\n",
    "        \n",
    "        home_team = []\n",
    "        home_team.append(df.loc[index,'buildUpPlaySpeed_home_team'])\n",
    "        home_team.append(df.loc[index,'buildUpPlayDribbling_home_team'])\n",
    "        home_team.append(df.loc[index,'buildUpPlayPassing_home_team'])\n",
    "        home_team.append(df.loc[index,'chanceCreationPassing_home_team'])\n",
    "        home_team.append(df.loc[index,'chanceCreationCrossing_home_team'])\n",
    "        home_team.append(df.loc[index,'chanceCreationShooting_home_team'])\n",
    "        home_team.append(df.loc[index,'defencePressure_home_team'])\n",
    "        home_team.append(df.loc[index,'defenceAggression_home_team'])\n",
    "        home_team.append(df.loc[index,'defenceTeamWidth_home_team'])\n",
    "\n",
    "\n",
    "        away_team = []\n",
    "        away_team.append(df.loc[index,'buildUpPlaySpeed_away_team'])\n",
    "        away_team.append(df.loc[index,'buildUpPlayDribbling_away_team'])\n",
    "        away_team.append(df.loc[index,'buildUpPlayPassing_away_team'])\n",
    "        away_team.append(df.loc[index,'chanceCreationPassing_away_team'])\n",
    "        away_team.append(df.loc[index,'chanceCreationCrossing_away_team'])\n",
    "        away_team.append(df.loc[index,'chanceCreationShooting_away_team'])\n",
    "        away_team.append(df.loc[index,'defencePressure_away_team'])\n",
    "        away_team.append(df.loc[index,'defenceAggression_away_team'])\n",
    "        away_team.append(df.loc[index,'defenceTeamWidth_away_team'])\n",
    "\n",
    "\n",
    "        team_matrix = []\n",
    "        for i in range(9):          \n",
    "            m =[]\n",
    "            for j in range(9):\n",
    "                m.append(home_team[i]-away_team[j])\n",
    "            team_matrix.append(m)\n",
    "\n",
    "        team_details.append(team_matrix)\n"
   ]
  },
  {
   "cell_type": "code",
   "execution_count": 5,
   "metadata": {},
   "outputs": [],
   "source": [
    "X = df.drop(['result','date', 'home_team_goal','away_team_goal'], axis=1)\n",
    "y = df[['result']]\n",
    "RANDOM_SEED =42\n",
    "np.random.seed(RANDOM_SEED)\n",
    "torch.manual_seed(RANDOM_SEED)\n",
    "\n",
    "X_train, X_test, y_train, y_test =\\\n",
    "    train_test_split(X, y, test_size=0.2, random_state=RANDOM_SEED)"
   ]
  },
  {
   "cell_type": "code",
   "execution_count": 6,
   "metadata": {},
   "outputs": [
    {
     "data": {
      "text/plain": [
       "2.0    0.458637\n",
       "0.0    0.290715\n",
       "1.0    0.250647\n",
       "Name: result, dtype: float64"
      ]
     },
     "execution_count": 6,
     "metadata": {},
     "output_type": "execute_result"
    }
   ],
   "source": [
    "y_train.result.value_counts()/y_train.shape[0]"
   ]
  },
  {
   "cell_type": "code",
   "execution_count": 7,
   "metadata": {},
   "outputs": [
    {
     "data": {
      "text/plain": [
       "2.0    7795\n",
       "0.0    4941\n",
       "1.0    4260\n",
       "Name: result, dtype: int64"
      ]
     },
     "execution_count": 7,
     "metadata": {},
     "output_type": "execute_result"
    }
   ],
   "source": [
    "y_train.result.value_counts()"
   ]
  },
  {
   "cell_type": "code",
   "execution_count": 8,
   "metadata": {},
   "outputs": [
    {
     "name": "stderr",
     "output_type": "stream",
     "text": [
      "16996it [00:24, 706.97it/s]\n"
     ]
    }
   ],
   "source": [
    "team_details = []\n",
    "teamfunction( X_train )\n",
    "team_train_data = team_details\n",
    "Team_Train = torch.Tensor(np.array(team_train_data))"
   ]
  },
  {
   "cell_type": "code",
   "execution_count": 9,
   "metadata": {},
   "outputs": [
    {
     "data": {
      "text/plain": [
       "torch.Size([16996, 9, 9])"
      ]
     },
     "execution_count": 9,
     "metadata": {},
     "output_type": "execute_result"
    }
   ],
   "source": [
    "Team_Train.size()"
   ]
  },
  {
   "cell_type": "code",
   "execution_count": 10,
   "metadata": {},
   "outputs": [
    {
     "data": {
      "text/plain": [
       "'torch.FloatTensor'"
      ]
     },
     "execution_count": 10,
     "metadata": {},
     "output_type": "execute_result"
    }
   ],
   "source": [
    "Team_Train.type()"
   ]
  },
  {
   "cell_type": "code",
   "execution_count": 11,
   "metadata": {},
   "outputs": [
    {
     "name": "stderr",
     "output_type": "stream",
     "text": [
      "4250it [00:06, 649.20it/s]\n"
     ]
    }
   ],
   "source": [
    "team_details = []\n",
    "teamfunction( X_test )\n",
    "team_test_data = team_details\n",
    "Team_Test = torch.Tensor(np.array(team_test_data))"
   ]
  },
  {
   "cell_type": "code",
   "execution_count": 12,
   "metadata": {},
   "outputs": [
    {
     "data": {
      "text/plain": [
       "torch.Size([4250, 9, 9])"
      ]
     },
     "execution_count": 12,
     "metadata": {},
     "output_type": "execute_result"
    }
   ],
   "source": [
    "Team_Test.size()"
   ]
  },
  {
   "cell_type": "code",
   "execution_count": 13,
   "metadata": {},
   "outputs": [
    {
     "data": {
      "text/plain": [
       "'torch.FloatTensor'"
      ]
     },
     "execution_count": 13,
     "metadata": {},
     "output_type": "execute_result"
    }
   ],
   "source": [
    "Team_Test.type()"
   ]
  },
  {
   "cell_type": "code",
   "execution_count": 14,
   "metadata": {},
   "outputs": [],
   "source": [
    "y_train = torch.squeeze(torch.LongTensor(np.array(y_train)))"
   ]
  },
  {
   "cell_type": "code",
   "execution_count": 15,
   "metadata": {},
   "outputs": [
    {
     "data": {
      "text/plain": [
       "torch.Size([16996])"
      ]
     },
     "execution_count": 15,
     "metadata": {},
     "output_type": "execute_result"
    }
   ],
   "source": [
    "y_train.size()"
   ]
  },
  {
   "cell_type": "code",
   "execution_count": 16,
   "metadata": {},
   "outputs": [
    {
     "data": {
      "text/plain": [
       "'torch.LongTensor'"
      ]
     },
     "execution_count": 16,
     "metadata": {},
     "output_type": "execute_result"
    }
   ],
   "source": [
    "y_train.type()"
   ]
  },
  {
   "cell_type": "code",
   "execution_count": 17,
   "metadata": {},
   "outputs": [],
   "source": [
    "y_test = torch.squeeze(torch.LongTensor(np.array(y_test)))"
   ]
  },
  {
   "cell_type": "code",
   "execution_count": 18,
   "metadata": {},
   "outputs": [
    {
     "data": {
      "text/plain": [
       "torch.Size([4250])"
      ]
     },
     "execution_count": 18,
     "metadata": {},
     "output_type": "execute_result"
    }
   ],
   "source": [
    "y_test.size()"
   ]
  },
  {
   "cell_type": "code",
   "execution_count": 19,
   "metadata": {},
   "outputs": [
    {
     "data": {
      "text/plain": [
       "'torch.LongTensor'"
      ]
     },
     "execution_count": 19,
     "metadata": {},
     "output_type": "execute_result"
    }
   ],
   "source": [
    "y_test.type()"
   ]
  },
  {
   "cell_type": "code",
   "execution_count": 35,
   "metadata": {},
   "outputs": [],
   "source": [
    "Team_Train = torch.flatten(Team_Train, start_dim=1)\n",
    "Team_Test = torch.flatten(Team_Test, start_dim=1)"
   ]
  },
  {
   "cell_type": "code",
   "execution_count": 36,
   "metadata": {},
   "outputs": [
    {
     "data": {
      "text/plain": [
       "torch.Size([16996, 81])"
      ]
     },
     "execution_count": 36,
     "metadata": {},
     "output_type": "execute_result"
    }
   ],
   "source": [
    "Team_Train.size()"
   ]
  },
  {
   "cell_type": "code",
   "execution_count": 37,
   "metadata": {},
   "outputs": [
    {
     "data": {
      "text/plain": [
       "torch.Size([4250, 81])"
      ]
     },
     "execution_count": 37,
     "metadata": {},
     "output_type": "execute_result"
    }
   ],
   "source": [
    "Team_Test.size()"
   ]
  },
  {
   "cell_type": "code",
   "execution_count": 71,
   "metadata": {},
   "outputs": [],
   "source": [
    "import torch.utils.data as data_utils\n",
    "\n",
    "train = data_utils.TensorDataset(Team_Train, y_train)\n",
    "train_loader = data_utils.DataLoader(train, batch_size=128, shuffle=True)\n",
    "\n",
    "test = data_utils.TensorDataset(Team_Test, y_test)\n",
    "test_loader = data_utils.DataLoader(test, batch_size=128, shuffle=True)"
   ]
  },
  {
   "cell_type": "code",
   "execution_count": 72,
   "metadata": {},
   "outputs": [],
   "source": [
    "import torch\n",
    "from torch import nn, optim\n",
    "import torch.nn.functional as F\n",
    "\n",
    "#building neural network\n",
    "class Net(nn.Module):\n",
    "    def __init__(self):\n",
    "        super(Net, self).__init__()\n",
    "        self.fc1 = nn.Linear(81,64)\n",
    "        self.fc2 = nn.Linear(64,64)\n",
    "        self.fc3 = nn.Linear(64,64)\n",
    "        self.fc4 = nn.Linear(64,3)\n",
    "        self.dropout = nn.Dropout(0.5)\n",
    "    \n",
    "    def forward(self, x):\n",
    "        x = F.relu(self.fc1(x))\n",
    "        x = self.dropout(x)\n",
    "        x = F.relu(self.fc2(x))\n",
    "        x = F.relu(self.fc3(x))\n",
    "        x = F.relu(self.fc4(x))\n",
    "        return x"
   ]
  },
  {
   "cell_type": "code",
   "execution_count": 73,
   "metadata": {},
   "outputs": [],
   "source": [
    "model = Net()"
   ]
  },
  {
   "cell_type": "code",
   "execution_count": 74,
   "metadata": {},
   "outputs": [],
   "source": [
    "weights = [1/4941, 1/4260, 1/7795 ]\n",
    "optimizer = optim.SGD(model.parameters(), lr=0.001)\n",
    "class_weights = torch.FloatTensor(weights)\n",
    "criterion = nn.CrossEntropyLoss(weight=class_weights)"
   ]
  },
  {
   "cell_type": "code",
   "execution_count": 75,
   "metadata": {},
   "outputs": [],
   "source": [
    "#Doing it on GPU\n",
    "device = torch.device(\"cuda:0\" if torch.cuda.is_available() else \"cpu\")\n",
    "\n",
    "Team_Train = Team_Train.to(device)\n",
    "Team_Test = Team_Test.to(device)\n",
    "\n",
    "y_train = y_train.to(device)\n",
    "y_test = y_test.to(device)\n",
    "\n",
    "model = model.to(device)\n",
    "criterion = criterion.to(device)"
   ]
  },
  {
   "cell_type": "code",
   "execution_count": 76,
   "metadata": {},
   "outputs": [
    {
     "name": "stdout",
     "output_type": "stream",
     "text": [
      "Epoch: 0/1000   Training loss: 1.1113   Testing loss: 1.0996   Train accuracy: 0.3066   Test accuracy: 0.3059  \n",
      "Epoch: 1/1000   Training loss: 1.1041   Testing loss: 1.0991   Train accuracy: 0.3114   Test accuracy: 0.2986  \n",
      "Epoch: 2/1000   Training loss: 1.1013   Testing loss: 1.0991   Train accuracy: 0.3049   Test accuracy: 0.2894  \n",
      "Epoch: 3/1000   Training loss: 1.1004   Testing loss: 1.0989   Train accuracy: 0.3051   Test accuracy: 0.2849  \n",
      "Epoch: 4/1000   Training loss: 1.0992   Testing loss: 1.0988   Train accuracy: 0.3042   Test accuracy: 0.2847  \n",
      "Epoch: 5/1000   Training loss: 1.0998   Testing loss: 1.0988   Train accuracy: 0.2962   Test accuracy: 0.2849  \n",
      "Epoch: 6/1000   Training loss: 1.0989   Testing loss: 1.0987   Train accuracy: 0.3032   Test accuracy: 0.2854  \n",
      "Epoch: 7/1000   Training loss: 1.0988   Testing loss: 1.0988   Train accuracy: 0.3008   Test accuracy: 0.2852  \n",
      "Epoch: 8/1000   Training loss: 1.0993   Testing loss: 1.0987   Train accuracy: 0.2998   Test accuracy: 0.2852  \n",
      "Epoch: 9/1000   Training loss: 1.0991   Testing loss: 1.0987   Train accuracy: 0.2997   Test accuracy: 0.2847  \n",
      "Epoch: 10/1000   Training loss: 1.0986   Testing loss: 1.0987   Train accuracy: 0.3008   Test accuracy: 0.2845  \n",
      "Epoch: 11/1000   Training loss: 1.0989   Testing loss: 1.0987   Train accuracy: 0.3015   Test accuracy: 0.2840  \n",
      "Epoch: 12/1000   Training loss: 1.0990   Testing loss: 1.0987   Train accuracy: 0.2967   Test accuracy: 0.2831  \n",
      "Epoch: 13/1000   Training loss: 1.0991   Testing loss: 1.0987   Train accuracy: 0.2973   Test accuracy: 0.2816  \n",
      "Epoch: 14/1000   Training loss: 1.0986   Testing loss: 1.0987   Train accuracy: 0.2979   Test accuracy: 0.2819  \n",
      "Epoch: 15/1000   Training loss: 1.0986   Testing loss: 1.0987   Train accuracy: 0.2975   Test accuracy: 0.2809  \n",
      "Epoch: 16/1000   Training loss: 1.0987   Testing loss: 1.0987   Train accuracy: 0.3000   Test accuracy: 0.2816  \n",
      "Epoch: 17/1000   Training loss: 1.0987   Testing loss: 1.0987   Train accuracy: 0.2973   Test accuracy: 0.2814  \n",
      "Epoch: 18/1000   Training loss: 1.0987   Testing loss: 1.0987   Train accuracy: 0.2975   Test accuracy: 0.2812  \n",
      "Epoch: 19/1000   Training loss: 1.0989   Testing loss: 1.0987   Train accuracy: 0.2967   Test accuracy: 0.2812  \n",
      "Epoch: 20/1000   Training loss: 1.0987   Testing loss: 1.0986   Train accuracy: 0.2948   Test accuracy: 0.2812  \n",
      "Epoch: 21/1000   Training loss: 1.0986   Testing loss: 1.0987   Train accuracy: 0.2951   Test accuracy: 0.2814  \n",
      "Epoch: 22/1000   Training loss: 1.0987   Testing loss: 1.0987   Train accuracy: 0.2964   Test accuracy: 0.2814  \n",
      "Epoch: 23/1000   Training loss: 1.0987   Testing loss: 1.0986   Train accuracy: 0.2956   Test accuracy: 0.2814  \n",
      "Epoch: 24/1000   Training loss: 1.0985   Testing loss: 1.0986   Train accuracy: 0.2954   Test accuracy: 0.2819  \n",
      "Epoch: 25/1000   Training loss: 1.0985   Testing loss: 1.0986   Train accuracy: 0.2965   Test accuracy: 0.2824  \n",
      "Epoch: 26/1000   Training loss: 1.0986   Testing loss: 1.0986   Train accuracy: 0.2968   Test accuracy: 0.2824  \n",
      "Epoch: 27/1000   Training loss: 1.0989   Testing loss: 1.0986   Train accuracy: 0.2951   Test accuracy: 0.2819  \n",
      "Epoch: 28/1000   Training loss: 1.0986   Testing loss: 1.0986   Train accuracy: 0.2972   Test accuracy: 0.2821  \n",
      "Epoch: 29/1000   Training loss: 1.0988   Testing loss: 1.0986   Train accuracy: 0.2952   Test accuracy: 0.2819  \n",
      "Epoch: 30/1000   Training loss: 1.0991   Testing loss: 1.0986   Train accuracy: 0.2937   Test accuracy: 0.2816  \n",
      "Epoch: 31/1000   Training loss: 1.0986   Testing loss: 1.0987   Train accuracy: 0.2959   Test accuracy: 0.2814  \n",
      "Epoch: 32/1000   Training loss: 1.0989   Testing loss: 1.0986   Train accuracy: 0.2950   Test accuracy: 0.2816  \n",
      "Epoch: 33/1000   Training loss: 1.0988   Testing loss: 1.0986   Train accuracy: 0.2941   Test accuracy: 0.2812  \n",
      "Epoch: 34/1000   Training loss: 1.0987   Testing loss: 1.0986   Train accuracy: 0.2962   Test accuracy: 0.2812  \n",
      "Epoch: 35/1000   Training loss: 1.0988   Testing loss: 1.0986   Train accuracy: 0.2946   Test accuracy: 0.2812  \n",
      "Epoch: 36/1000   Training loss: 1.0986   Testing loss: 1.0986   Train accuracy: 0.2963   Test accuracy: 0.2814  \n",
      "Epoch: 37/1000   Training loss: 1.0987   Testing loss: 1.0986   Train accuracy: 0.2943   Test accuracy: 0.2816  \n",
      "Epoch: 38/1000   Training loss: 1.0986   Testing loss: 1.0986   Train accuracy: 0.2942   Test accuracy: 0.2819  \n",
      "Epoch: 39/1000   Training loss: 1.0986   Testing loss: 1.0986   Train accuracy: 0.2963   Test accuracy: 0.2819  \n",
      "Epoch: 40/1000   Training loss: 1.0988   Testing loss: 1.0986   Train accuracy: 0.2941   Test accuracy: 0.2819  \n",
      "Epoch: 41/1000   Training loss: 1.0986   Testing loss: 1.0986   Train accuracy: 0.2949   Test accuracy: 0.2812  \n",
      "Epoch: 42/1000   Training loss: 1.0986   Testing loss: 1.0986   Train accuracy: 0.2948   Test accuracy: 0.2809  \n",
      "Epoch: 43/1000   Training loss: 1.0985   Testing loss: 1.0986   Train accuracy: 0.2979   Test accuracy: 0.2814  \n",
      "Epoch: 44/1000   Training loss: 1.0986   Testing loss: 1.0986   Train accuracy: 0.2949   Test accuracy: 0.2819  \n",
      "Epoch: 45/1000   Training loss: 1.0982   Testing loss: 1.0986   Train accuracy: 0.2989   Test accuracy: 0.2819  \n",
      "Epoch: 46/1000   Training loss: 1.0984   Testing loss: 1.0986   Train accuracy: 0.2962   Test accuracy: 0.2819  \n",
      "Epoch: 47/1000   Training loss: 1.0986   Testing loss: 1.0986   Train accuracy: 0.2980   Test accuracy: 0.2819  \n",
      "Epoch: 48/1000   Training loss: 1.0987   Testing loss: 1.0986   Train accuracy: 0.2947   Test accuracy: 0.2819  \n",
      "Epoch: 49/1000   Training loss: 1.0988   Testing loss: 1.0986   Train accuracy: 0.2951   Test accuracy: 0.2816  \n",
      "Epoch: 50/1000   Training loss: 1.0987   Testing loss: 1.0986   Train accuracy: 0.2958   Test accuracy: 0.2816  \n",
      "Epoch: 51/1000   Training loss: 1.0984   Testing loss: 1.0985   Train accuracy: 0.2978   Test accuracy: 0.2816  \n",
      "Epoch: 52/1000   Training loss: 1.0986   Testing loss: 1.0986   Train accuracy: 0.2981   Test accuracy: 0.2816  \n",
      "Epoch: 53/1000   Training loss: 1.0985   Testing loss: 1.0985   Train accuracy: 0.2958   Test accuracy: 0.2816  \n",
      "Epoch: 54/1000   Training loss: 1.0988   Testing loss: 1.0986   Train accuracy: 0.2954   Test accuracy: 0.2814  \n",
      "Epoch: 55/1000   Training loss: 1.0985   Testing loss: 1.0986   Train accuracy: 0.2971   Test accuracy: 0.2816  \n",
      "Epoch: 56/1000   Training loss: 1.0986   Testing loss: 1.0986   Train accuracy: 0.2955   Test accuracy: 0.2814  \n",
      "Epoch: 57/1000   Training loss: 1.0986   Testing loss: 1.0986   Train accuracy: 0.2968   Test accuracy: 0.2816  \n",
      "Epoch: 58/1000   Training loss: 1.0986   Testing loss: 1.0985   Train accuracy: 0.2951   Test accuracy: 0.2814  \n",
      "Epoch: 59/1000   Training loss: 1.0987   Testing loss: 1.0985   Train accuracy: 0.2948   Test accuracy: 0.2814  \n",
      "Epoch: 60/1000   Training loss: 1.0986   Testing loss: 1.0985   Train accuracy: 0.2974   Test accuracy: 0.2812  \n",
      "Epoch: 61/1000   Training loss: 1.0985   Testing loss: 1.0985   Train accuracy: 0.2976   Test accuracy: 0.2807  \n",
      "Epoch: 62/1000   Training loss: 1.0986   Testing loss: 1.0986   Train accuracy: 0.2985   Test accuracy: 0.2807  \n",
      "Epoch: 63/1000   Training loss: 1.0986   Testing loss: 1.0985   Train accuracy: 0.2965   Test accuracy: 0.2807  \n",
      "Epoch: 64/1000   Training loss: 1.0986   Testing loss: 1.0985   Train accuracy: 0.2961   Test accuracy: 0.2807  \n",
      "Epoch: 65/1000   Training loss: 1.0985   Testing loss: 1.0985   Train accuracy: 0.2967   Test accuracy: 0.2809  \n",
      "Epoch: 66/1000   Training loss: 1.0986   Testing loss: 1.0985   Train accuracy: 0.2974   Test accuracy: 0.2814  \n",
      "Epoch: 67/1000   Training loss: 1.0988   Testing loss: 1.0985   Train accuracy: 0.2972   Test accuracy: 0.2814  \n",
      "Epoch: 68/1000   Training loss: 1.0985   Testing loss: 1.0985   Train accuracy: 0.2976   Test accuracy: 0.2814  \n",
      "Epoch: 69/1000   Training loss: 1.0985   Testing loss: 1.0985   Train accuracy: 0.2972   Test accuracy: 0.2814  \n",
      "Epoch: 70/1000   Training loss: 1.0987   Testing loss: 1.0985   Train accuracy: 0.2982   Test accuracy: 0.2814  \n",
      "Epoch: 71/1000   Training loss: 1.0984   Testing loss: 1.0985   Train accuracy: 0.2993   Test accuracy: 0.2812  \n",
      "Epoch: 72/1000   Training loss: 1.0982   Testing loss: 1.0985   Train accuracy: 0.3011   Test accuracy: 0.2809  \n"
     ]
    },
    {
     "name": "stdout",
     "output_type": "stream",
     "text": [
      "Epoch: 73/1000   Training loss: 1.0987   Testing loss: 1.0985   Train accuracy: 0.2971   Test accuracy: 0.2809  \n",
      "Epoch: 74/1000   Training loss: 1.0985   Testing loss: 1.0985   Train accuracy: 0.2982   Test accuracy: 0.2809  \n",
      "Epoch: 75/1000   Training loss: 1.0986   Testing loss: 1.0985   Train accuracy: 0.2956   Test accuracy: 0.2809  \n",
      "Epoch: 76/1000   Training loss: 1.0987   Testing loss: 1.0985   Train accuracy: 0.2968   Test accuracy: 0.2807  \n",
      "Epoch: 77/1000   Training loss: 1.0984   Testing loss: 1.0985   Train accuracy: 0.2988   Test accuracy: 0.2807  \n",
      "Epoch: 78/1000   Training loss: 1.0984   Testing loss: 1.0985   Train accuracy: 0.2997   Test accuracy: 0.2812  \n",
      "Epoch: 79/1000   Training loss: 1.0985   Testing loss: 1.0985   Train accuracy: 0.2978   Test accuracy: 0.2809  \n",
      "Epoch: 80/1000   Training loss: 1.0986   Testing loss: 1.0986   Train accuracy: 0.3007   Test accuracy: 0.2814  \n",
      "Epoch: 81/1000   Training loss: 1.0987   Testing loss: 1.0985   Train accuracy: 0.2984   Test accuracy: 0.2816  \n",
      "Epoch: 82/1000   Training loss: 1.0987   Testing loss: 1.0986   Train accuracy: 0.2974   Test accuracy: 0.2814  \n",
      "Epoch: 83/1000   Training loss: 1.0984   Testing loss: 1.0985   Train accuracy: 0.2988   Test accuracy: 0.2824  \n",
      "Epoch: 84/1000   Training loss: 1.0986   Testing loss: 1.0985   Train accuracy: 0.2977   Test accuracy: 0.2821  \n",
      "Epoch: 85/1000   Training loss: 1.0982   Testing loss: 1.0985   Train accuracy: 0.3011   Test accuracy: 0.2833  \n",
      "Epoch: 86/1000   Training loss: 1.0985   Testing loss: 1.0986   Train accuracy: 0.2996   Test accuracy: 0.2831  \n",
      "Epoch: 87/1000   Training loss: 1.0985   Testing loss: 1.0986   Train accuracy: 0.3004   Test accuracy: 0.2831  \n",
      "Epoch: 88/1000   Training loss: 1.0983   Testing loss: 1.0985   Train accuracy: 0.2998   Test accuracy: 0.2831  \n",
      "Epoch: 89/1000   Training loss: 1.0986   Testing loss: 1.0985   Train accuracy: 0.2990   Test accuracy: 0.2831  \n",
      "Epoch: 90/1000   Training loss: 1.0985   Testing loss: 1.0985   Train accuracy: 0.3004   Test accuracy: 0.2835  \n",
      "Epoch: 91/1000   Training loss: 1.0983   Testing loss: 1.0985   Train accuracy: 0.3027   Test accuracy: 0.2845  \n",
      "Epoch: 92/1000   Training loss: 1.0983   Testing loss: 1.0985   Train accuracy: 0.3052   Test accuracy: 0.2856  \n",
      "Epoch: 93/1000   Training loss: 1.0985   Testing loss: 1.0985   Train accuracy: 0.3033   Test accuracy: 0.2856  \n",
      "Epoch: 94/1000   Training loss: 1.0984   Testing loss: 1.0985   Train accuracy: 0.3022   Test accuracy: 0.2852  \n",
      "Epoch: 95/1000   Training loss: 1.0987   Testing loss: 1.0984   Train accuracy: 0.3013   Test accuracy: 0.2852  \n",
      "Epoch: 96/1000   Training loss: 1.0983   Testing loss: 1.0985   Train accuracy: 0.3026   Test accuracy: 0.2849  \n",
      "Epoch: 97/1000   Training loss: 1.0984   Testing loss: 1.0985   Train accuracy: 0.3026   Test accuracy: 0.2849  \n",
      "Epoch: 98/1000   Training loss: 1.0985   Testing loss: 1.0985   Train accuracy: 0.3017   Test accuracy: 0.2849  \n",
      "Epoch: 99/1000   Training loss: 1.0986   Testing loss: 1.0985   Train accuracy: 0.3040   Test accuracy: 0.2852  \n",
      "Epoch: 100/1000   Training loss: 1.0982   Testing loss: 1.0985   Train accuracy: 0.3028   Test accuracy: 0.2856  \n",
      "Epoch: 101/1000   Training loss: 1.0986   Testing loss: 1.0986   Train accuracy: 0.3011   Test accuracy: 0.2856  \n",
      "Epoch: 102/1000   Training loss: 1.0985   Testing loss: 1.0986   Train accuracy: 0.3014   Test accuracy: 0.2856  \n",
      "Epoch: 103/1000   Training loss: 1.0978   Testing loss: 1.0985   Train accuracy: 0.3055   Test accuracy: 0.2856  \n",
      "Epoch: 104/1000   Training loss: 1.0991   Testing loss: 1.0985   Train accuracy: 0.2992   Test accuracy: 0.2849  \n",
      "Epoch: 105/1000   Training loss: 1.0987   Testing loss: 1.0985   Train accuracy: 0.2991   Test accuracy: 0.2842  \n",
      "Epoch: 106/1000   Training loss: 1.0985   Testing loss: 1.0985   Train accuracy: 0.3010   Test accuracy: 0.2842  \n",
      "Epoch: 107/1000   Training loss: 1.0982   Testing loss: 1.0985   Train accuracy: 0.3020   Test accuracy: 0.2847  \n",
      "Epoch: 108/1000   Training loss: 1.0986   Testing loss: 1.0985   Train accuracy: 0.2992   Test accuracy: 0.2838  \n",
      "Epoch: 109/1000   Training loss: 1.0984   Testing loss: 1.0985   Train accuracy: 0.2996   Test accuracy: 0.2840  \n",
      "Epoch: 110/1000   Training loss: 1.0987   Testing loss: 1.0986   Train accuracy: 0.3008   Test accuracy: 0.2833  \n",
      "Epoch: 111/1000   Training loss: 1.0985   Testing loss: 1.0985   Train accuracy: 0.3020   Test accuracy: 0.2845  \n",
      "Epoch: 112/1000   Training loss: 1.0982   Testing loss: 1.0985   Train accuracy: 0.3018   Test accuracy: 0.2852  \n",
      "Epoch: 113/1000   Training loss: 1.0987   Testing loss: 1.0985   Train accuracy: 0.3003   Test accuracy: 0.2852  \n",
      "Epoch: 114/1000   Training loss: 1.0985   Testing loss: 1.0984   Train accuracy: 0.3027   Test accuracy: 0.2852  \n",
      "Epoch: 115/1000   Training loss: 1.0983   Testing loss: 1.0985   Train accuracy: 0.3027   Test accuracy: 0.2864  \n",
      "Epoch: 116/1000   Training loss: 1.0984   Testing loss: 1.0984   Train accuracy: 0.3015   Test accuracy: 0.2856  \n",
      "Epoch: 117/1000   Training loss: 1.0984   Testing loss: 1.0985   Train accuracy: 0.3020   Test accuracy: 0.2856  \n",
      "Epoch: 118/1000   Training loss: 1.0985   Testing loss: 1.0985   Train accuracy: 0.3018   Test accuracy: 0.2856  \n",
      "Epoch: 119/1000   Training loss: 1.0981   Testing loss: 1.0985   Train accuracy: 0.3024   Test accuracy: 0.2854  \n",
      "Epoch: 120/1000   Training loss: 1.0985   Testing loss: 1.0985   Train accuracy: 0.3037   Test accuracy: 0.2854  \n",
      "Epoch: 121/1000   Training loss: 1.0984   Testing loss: 1.0985   Train accuracy: 0.3010   Test accuracy: 0.2854  \n",
      "Epoch: 122/1000   Training loss: 1.0986   Testing loss: 1.0985   Train accuracy: 0.3006   Test accuracy: 0.2856  \n",
      "Epoch: 123/1000   Training loss: 1.0982   Testing loss: 1.0985   Train accuracy: 0.3018   Test accuracy: 0.2849  \n",
      "Epoch: 124/1000   Training loss: 1.0986   Testing loss: 1.0985   Train accuracy: 0.3011   Test accuracy: 0.2852  \n",
      "Epoch: 125/1000   Training loss: 1.0986   Testing loss: 1.0985   Train accuracy: 0.3008   Test accuracy: 0.2854  \n",
      "Epoch: 126/1000   Training loss: 1.0986   Testing loss: 1.0985   Train accuracy: 0.3001   Test accuracy: 0.2854  \n",
      "Epoch: 127/1000   Training loss: 1.0980   Testing loss: 1.0985   Train accuracy: 0.3034   Test accuracy: 0.2854  \n",
      "Epoch: 128/1000   Training loss: 1.0983   Testing loss: 1.0985   Train accuracy: 0.3012   Test accuracy: 0.2852  \n",
      "Epoch: 129/1000   Training loss: 1.0983   Testing loss: 1.0985   Train accuracy: 0.3011   Test accuracy: 0.2856  \n",
      "Epoch: 130/1000   Training loss: 1.0983   Testing loss: 1.0985   Train accuracy: 0.3013   Test accuracy: 0.2866  \n",
      "Epoch: 131/1000   Training loss: 1.0985   Testing loss: 1.0985   Train accuracy: 0.2991   Test accuracy: 0.2854  \n",
      "Epoch: 132/1000   Training loss: 1.0983   Testing loss: 1.0985   Train accuracy: 0.3027   Test accuracy: 0.2868  \n",
      "Epoch: 133/1000   Training loss: 1.0985   Testing loss: 1.0984   Train accuracy: 0.3021   Test accuracy: 0.2868  \n",
      "Epoch: 134/1000   Training loss: 1.0984   Testing loss: 1.0984   Train accuracy: 0.3034   Test accuracy: 0.2868  \n",
      "Epoch: 135/1000   Training loss: 1.0979   Testing loss: 1.0984   Train accuracy: 0.3064   Test accuracy: 0.2887  \n",
      "Epoch: 136/1000   Training loss: 1.0985   Testing loss: 1.0985   Train accuracy: 0.3014   Test accuracy: 0.2878  \n",
      "Epoch: 137/1000   Training loss: 1.0982   Testing loss: 1.0984   Train accuracy: 0.3022   Test accuracy: 0.2878  \n",
      "Epoch: 138/1000   Training loss: 1.0980   Testing loss: 1.0984   Train accuracy: 0.3073   Test accuracy: 0.2889  \n",
      "Epoch: 139/1000   Training loss: 1.0983   Testing loss: 1.0983   Train accuracy: 0.3025   Test accuracy: 0.2892  \n",
      "Epoch: 140/1000   Training loss: 1.0988   Testing loss: 1.0985   Train accuracy: 0.3029   Test accuracy: 0.2892  \n",
      "Epoch: 141/1000   Training loss: 1.0981   Testing loss: 1.0984   Train accuracy: 0.3038   Test accuracy: 0.2892  \n",
      "Epoch: 142/1000   Training loss: 1.0981   Testing loss: 1.0983   Train accuracy: 0.3067   Test accuracy: 0.2892  \n",
      "Epoch: 143/1000   Training loss: 1.0987   Testing loss: 1.0985   Train accuracy: 0.3043   Test accuracy: 0.2892  \n",
      "Epoch: 144/1000   Training loss: 1.0985   Testing loss: 1.0984   Train accuracy: 0.3037   Test accuracy: 0.2889  \n",
      "Epoch: 145/1000   Training loss: 1.0986   Testing loss: 1.0985   Train accuracy: 0.3036   Test accuracy: 0.2892  \n"
     ]
    },
    {
     "name": "stdout",
     "output_type": "stream",
     "text": [
      "Epoch: 146/1000   Training loss: 1.0982   Testing loss: 1.0984   Train accuracy: 0.3044   Test accuracy: 0.2887  \n",
      "Epoch: 147/1000   Training loss: 1.0982   Testing loss: 1.0983   Train accuracy: 0.3034   Test accuracy: 0.2887  \n",
      "Epoch: 148/1000   Training loss: 1.0983   Testing loss: 1.0986   Train accuracy: 0.3055   Test accuracy: 0.2878  \n",
      "Epoch: 149/1000   Training loss: 1.0985   Testing loss: 1.0986   Train accuracy: 0.3043   Test accuracy: 0.2889  \n",
      "Epoch: 150/1000   Training loss: 1.0980   Testing loss: 1.0984   Train accuracy: 0.3060   Test accuracy: 0.2894  \n",
      "Epoch: 151/1000   Training loss: 1.0985   Testing loss: 1.0983   Train accuracy: 0.3037   Test accuracy: 0.2899  \n",
      "Epoch: 152/1000   Training loss: 1.0984   Testing loss: 1.0984   Train accuracy: 0.3024   Test accuracy: 0.2889  \n",
      "Epoch: 153/1000   Training loss: 1.0986   Testing loss: 1.0984   Train accuracy: 0.3027   Test accuracy: 0.2887  \n",
      "Epoch: 154/1000   Training loss: 1.0981   Testing loss: 1.0984   Train accuracy: 0.3042   Test accuracy: 0.2894  \n",
      "Epoch: 155/1000   Training loss: 1.0981   Testing loss: 1.0984   Train accuracy: 0.3055   Test accuracy: 0.2899  \n",
      "Epoch: 156/1000   Training loss: 1.0985   Testing loss: 1.0984   Train accuracy: 0.3082   Test accuracy: 0.2896  \n",
      "Epoch: 157/1000   Training loss: 1.0984   Testing loss: 1.0985   Train accuracy: 0.3061   Test accuracy: 0.2896  \n",
      "Epoch: 158/1000   Training loss: 1.0981   Testing loss: 1.0984   Train accuracy: 0.3056   Test accuracy: 0.2904  \n",
      "Epoch: 159/1000   Training loss: 1.0983   Testing loss: 1.0985   Train accuracy: 0.3034   Test accuracy: 0.2896  \n",
      "Epoch: 160/1000   Training loss: 1.0982   Testing loss: 1.0984   Train accuracy: 0.3064   Test accuracy: 0.2899  \n",
      "Epoch: 161/1000   Training loss: 1.0982   Testing loss: 1.0985   Train accuracy: 0.3044   Test accuracy: 0.2896  \n",
      "Epoch: 162/1000   Training loss: 1.0981   Testing loss: 1.0984   Train accuracy: 0.3071   Test accuracy: 0.2901  \n",
      "Epoch: 163/1000   Training loss: 1.0982   Testing loss: 1.0984   Train accuracy: 0.3068   Test accuracy: 0.2906  \n",
      "Epoch: 164/1000   Training loss: 1.0976   Testing loss: 1.0985   Train accuracy: 0.3102   Test accuracy: 0.2906  \n",
      "Epoch: 165/1000   Training loss: 1.0983   Testing loss: 1.0985   Train accuracy: 0.3081   Test accuracy: 0.2899  \n",
      "Epoch: 166/1000   Training loss: 1.0981   Testing loss: 1.0984   Train accuracy: 0.3076   Test accuracy: 0.2901  \n",
      "Epoch: 167/1000   Training loss: 1.0981   Testing loss: 1.0984   Train accuracy: 0.3101   Test accuracy: 0.2896  \n",
      "Epoch: 168/1000   Training loss: 1.0984   Testing loss: 1.0984   Train accuracy: 0.3068   Test accuracy: 0.2901  \n",
      "Epoch: 169/1000   Training loss: 1.0986   Testing loss: 1.0984   Train accuracy: 0.3080   Test accuracy: 0.2901  \n",
      "Epoch: 170/1000   Training loss: 1.0985   Testing loss: 1.0984   Train accuracy: 0.3061   Test accuracy: 0.2896  \n",
      "Epoch: 171/1000   Training loss: 1.0983   Testing loss: 1.0984   Train accuracy: 0.3087   Test accuracy: 0.2904  \n",
      "Epoch: 172/1000   Training loss: 1.0980   Testing loss: 1.0984   Train accuracy: 0.3080   Test accuracy: 0.2904  \n",
      "Epoch: 173/1000   Training loss: 1.0982   Testing loss: 1.0984   Train accuracy: 0.3080   Test accuracy: 0.2906  \n",
      "Epoch: 174/1000   Training loss: 1.0977   Testing loss: 1.0984   Train accuracy: 0.3091   Test accuracy: 0.2904  \n",
      "Epoch: 175/1000   Training loss: 1.0985   Testing loss: 1.0982   Train accuracy: 0.3078   Test accuracy: 0.2904  \n",
      "Epoch: 176/1000   Training loss: 1.0982   Testing loss: 1.0984   Train accuracy: 0.3097   Test accuracy: 0.2904  \n",
      "Epoch: 177/1000   Training loss: 1.0981   Testing loss: 1.0985   Train accuracy: 0.3082   Test accuracy: 0.2899  \n",
      "Epoch: 178/1000   Training loss: 1.0980   Testing loss: 1.0980   Train accuracy: 0.3084   Test accuracy: 0.2896  \n",
      "Epoch: 179/1000   Training loss: 1.0981   Testing loss: 1.0984   Train accuracy: 0.3084   Test accuracy: 0.2908  \n",
      "Epoch: 180/1000   Training loss: 1.0985   Testing loss: 1.0983   Train accuracy: 0.3070   Test accuracy: 0.2906  \n",
      "Epoch: 181/1000   Training loss: 1.0984   Testing loss: 1.0985   Train accuracy: 0.3057   Test accuracy: 0.2911  \n",
      "Epoch: 182/1000   Training loss: 1.0982   Testing loss: 1.0982   Train accuracy: 0.3094   Test accuracy: 0.2908  \n",
      "Epoch: 183/1000   Training loss: 1.0984   Testing loss: 1.0985   Train accuracy: 0.3081   Test accuracy: 0.2908  \n",
      "Epoch: 184/1000   Training loss: 1.0984   Testing loss: 1.0985   Train accuracy: 0.3051   Test accuracy: 0.2904  \n",
      "Epoch: 185/1000   Training loss: 1.0981   Testing loss: 1.0984   Train accuracy: 0.3093   Test accuracy: 0.2913  \n",
      "Epoch: 186/1000   Training loss: 1.0984   Testing loss: 1.0983   Train accuracy: 0.3062   Test accuracy: 0.2904  \n",
      "Epoch: 187/1000   Training loss: 1.0984   Testing loss: 1.0983   Train accuracy: 0.3058   Test accuracy: 0.2901  \n",
      "Epoch: 188/1000   Training loss: 1.0978   Testing loss: 1.0984   Train accuracy: 0.3091   Test accuracy: 0.2911  \n",
      "Epoch: 189/1000   Training loss: 1.0983   Testing loss: 1.0983   Train accuracy: 0.3072   Test accuracy: 0.2899  \n",
      "Epoch: 190/1000   Training loss: 1.0983   Testing loss: 1.0985   Train accuracy: 0.3078   Test accuracy: 0.2901  \n",
      "Epoch: 191/1000   Training loss: 1.0986   Testing loss: 1.0984   Train accuracy: 0.3068   Test accuracy: 0.2908  \n",
      "Epoch: 192/1000   Training loss: 1.0980   Testing loss: 1.0982   Train accuracy: 0.3072   Test accuracy: 0.2904  \n",
      "Epoch: 193/1000   Training loss: 1.0982   Testing loss: 1.0984   Train accuracy: 0.3061   Test accuracy: 0.2908  \n",
      "Epoch: 194/1000   Training loss: 1.0979   Testing loss: 1.0986   Train accuracy: 0.3073   Test accuracy: 0.2911  \n",
      "Epoch: 195/1000   Training loss: 1.0980   Testing loss: 1.0983   Train accuracy: 0.3080   Test accuracy: 0.2911  \n",
      "Epoch: 196/1000   Training loss: 1.0980   Testing loss: 1.0984   Train accuracy: 0.3094   Test accuracy: 0.2915  \n",
      "Epoch: 197/1000   Training loss: 1.0977   Testing loss: 1.0984   Train accuracy: 0.3107   Test accuracy: 0.2922  \n",
      "Epoch: 198/1000   Training loss: 1.0983   Testing loss: 1.0983   Train accuracy: 0.3092   Test accuracy: 0.2922  \n",
      "Epoch: 199/1000   Training loss: 1.0979   Testing loss: 1.0983   Train accuracy: 0.3078   Test accuracy: 0.2918  \n",
      "Epoch: 200/1000   Training loss: 1.0984   Testing loss: 1.0982   Train accuracy: 0.3067   Test accuracy: 0.2920  \n",
      "Epoch: 201/1000   Training loss: 1.0979   Testing loss: 1.0983   Train accuracy: 0.3092   Test accuracy: 0.2922  \n",
      "Epoch: 202/1000   Training loss: 1.0982   Testing loss: 1.0983   Train accuracy: 0.3102   Test accuracy: 0.2925  \n",
      "Epoch: 203/1000   Training loss: 1.0979   Testing loss: 1.0983   Train accuracy: 0.3110   Test accuracy: 0.2929  \n",
      "Epoch: 204/1000   Training loss: 1.0980   Testing loss: 1.0982   Train accuracy: 0.3095   Test accuracy: 0.2927  \n",
      "Epoch: 205/1000   Training loss: 1.0982   Testing loss: 1.0981   Train accuracy: 0.3090   Test accuracy: 0.2932  \n",
      "Epoch: 206/1000   Training loss: 1.0976   Testing loss: 1.0986   Train accuracy: 0.3115   Test accuracy: 0.2936  \n",
      "Epoch: 207/1000   Training loss: 1.0979   Testing loss: 1.0981   Train accuracy: 0.3105   Test accuracy: 0.2936  \n",
      "Epoch: 208/1000   Training loss: 1.0980   Testing loss: 1.0981   Train accuracy: 0.3096   Test accuracy: 0.2941  \n",
      "Epoch: 209/1000   Training loss: 1.0984   Testing loss: 1.0984   Train accuracy: 0.3077   Test accuracy: 0.2939  \n",
      "Epoch: 210/1000   Training loss: 1.0984   Testing loss: 1.0986   Train accuracy: 0.3079   Test accuracy: 0.2927  \n",
      "Epoch: 211/1000   Training loss: 1.0979   Testing loss: 1.0981   Train accuracy: 0.3108   Test accuracy: 0.2939  \n",
      "Epoch: 212/1000   Training loss: 1.0980   Testing loss: 1.0983   Train accuracy: 0.3114   Test accuracy: 0.2939  \n",
      "Epoch: 213/1000   Training loss: 1.0984   Testing loss: 1.0982   Train accuracy: 0.3080   Test accuracy: 0.2946  \n",
      "Epoch: 214/1000   Training loss: 1.0978   Testing loss: 1.0981   Train accuracy: 0.3107   Test accuracy: 0.2946  \n",
      "Epoch: 215/1000   Training loss: 1.0982   Testing loss: 1.0981   Train accuracy: 0.3105   Test accuracy: 0.2941  \n",
      "Epoch: 216/1000   Training loss: 1.0982   Testing loss: 1.0983   Train accuracy: 0.3066   Test accuracy: 0.2941  \n",
      "Epoch: 217/1000   Training loss: 1.0979   Testing loss: 1.0983   Train accuracy: 0.3091   Test accuracy: 0.2946  \n"
     ]
    },
    {
     "name": "stdout",
     "output_type": "stream",
     "text": [
      "Epoch: 218/1000   Training loss: 1.0981   Testing loss: 1.0982   Train accuracy: 0.3087   Test accuracy: 0.2951  \n",
      "Epoch: 219/1000   Training loss: 1.0978   Testing loss: 1.0983   Train accuracy: 0.3107   Test accuracy: 0.2955  \n",
      "Epoch: 220/1000   Training loss: 1.0983   Testing loss: 1.0982   Train accuracy: 0.3084   Test accuracy: 0.2948  \n",
      "Epoch: 221/1000   Training loss: 1.0979   Testing loss: 1.0981   Train accuracy: 0.3098   Test accuracy: 0.2953  \n",
      "Epoch: 222/1000   Training loss: 1.0981   Testing loss: 1.0983   Train accuracy: 0.3097   Test accuracy: 0.2951  \n",
      "Epoch: 223/1000   Training loss: 1.0979   Testing loss: 1.0983   Train accuracy: 0.3110   Test accuracy: 0.2955  \n",
      "Epoch: 224/1000   Training loss: 1.0982   Testing loss: 1.0982   Train accuracy: 0.3105   Test accuracy: 0.2953  \n",
      "Epoch: 225/1000   Training loss: 1.0981   Testing loss: 1.0980   Train accuracy: 0.3090   Test accuracy: 0.2953  \n",
      "Epoch: 226/1000   Training loss: 1.0984   Testing loss: 1.0983   Train accuracy: 0.3077   Test accuracy: 0.2941  \n",
      "Epoch: 227/1000   Training loss: 1.0980   Testing loss: 1.0983   Train accuracy: 0.3072   Test accuracy: 0.2939  \n",
      "Epoch: 228/1000   Training loss: 1.0983   Testing loss: 1.0984   Train accuracy: 0.3080   Test accuracy: 0.2939  \n",
      "Epoch: 229/1000   Training loss: 1.0982   Testing loss: 1.0982   Train accuracy: 0.3088   Test accuracy: 0.2951  \n",
      "Epoch: 230/1000   Training loss: 1.0975   Testing loss: 1.0983   Train accuracy: 0.3098   Test accuracy: 0.2962  \n",
      "Epoch: 231/1000   Training loss: 1.0981   Testing loss: 1.0984   Train accuracy: 0.3111   Test accuracy: 0.2967  \n",
      "Epoch: 232/1000   Training loss: 1.0981   Testing loss: 1.0982   Train accuracy: 0.3105   Test accuracy: 0.2967  \n",
      "Epoch: 233/1000   Training loss: 1.0973   Testing loss: 1.0981   Train accuracy: 0.3113   Test accuracy: 0.2972  \n",
      "Epoch: 234/1000   Training loss: 1.0980   Testing loss: 1.0984   Train accuracy: 0.3135   Test accuracy: 0.2984  \n",
      "Epoch: 235/1000   Training loss: 1.0985   Testing loss: 1.0982   Train accuracy: 0.3095   Test accuracy: 0.2972  \n",
      "Epoch: 236/1000   Training loss: 1.0983   Testing loss: 1.0983   Train accuracy: 0.3121   Test accuracy: 0.2976  \n",
      "Epoch: 237/1000   Training loss: 1.0977   Testing loss: 1.0982   Train accuracy: 0.3123   Test accuracy: 0.2981  \n",
      "Epoch: 238/1000   Training loss: 1.0979   Testing loss: 1.0981   Train accuracy: 0.3135   Test accuracy: 0.3000  \n",
      "Epoch: 239/1000   Training loss: 1.0978   Testing loss: 1.0982   Train accuracy: 0.3102   Test accuracy: 0.2991  \n",
      "Epoch: 240/1000   Training loss: 1.0976   Testing loss: 1.0982   Train accuracy: 0.3118   Test accuracy: 0.2991  \n",
      "Epoch: 241/1000   Training loss: 1.0980   Testing loss: 1.0981   Train accuracy: 0.3134   Test accuracy: 0.3000  \n",
      "Epoch: 242/1000   Training loss: 1.0975   Testing loss: 1.0981   Train accuracy: 0.3144   Test accuracy: 0.3002  \n",
      "Epoch: 243/1000   Training loss: 1.0981   Testing loss: 1.0981   Train accuracy: 0.3120   Test accuracy: 0.2995  \n",
      "Epoch: 244/1000   Training loss: 1.0980   Testing loss: 1.0979   Train accuracy: 0.3135   Test accuracy: 0.2998  \n",
      "Epoch: 245/1000   Training loss: 1.0981   Testing loss: 1.0981   Train accuracy: 0.3131   Test accuracy: 0.2998  \n",
      "Epoch: 246/1000   Training loss: 1.0980   Testing loss: 1.0978   Train accuracy: 0.3130   Test accuracy: 0.2988  \n",
      "Epoch: 247/1000   Training loss: 1.0978   Testing loss: 1.0980   Train accuracy: 0.3112   Test accuracy: 0.2998  \n",
      "Epoch: 248/1000   Training loss: 1.0984   Testing loss: 1.0979   Train accuracy: 0.3100   Test accuracy: 0.2993  \n",
      "Epoch: 249/1000   Training loss: 1.0980   Testing loss: 1.0982   Train accuracy: 0.3114   Test accuracy: 0.2986  \n",
      "Epoch: 250/1000   Training loss: 1.0979   Testing loss: 1.0985   Train accuracy: 0.3102   Test accuracy: 0.2981  \n",
      "Epoch: 251/1000   Training loss: 1.0984   Testing loss: 1.0982   Train accuracy: 0.3090   Test accuracy: 0.2962  \n",
      "Epoch: 252/1000   Training loss: 1.0981   Testing loss: 1.0979   Train accuracy: 0.3102   Test accuracy: 0.2979  \n",
      "Epoch: 253/1000   Training loss: 1.0976   Testing loss: 1.0979   Train accuracy: 0.3128   Test accuracy: 0.3005  \n",
      "Epoch: 254/1000   Training loss: 1.0978   Testing loss: 1.0982   Train accuracy: 0.3100   Test accuracy: 0.2991  \n",
      "Epoch: 255/1000   Training loss: 1.0979   Testing loss: 1.0983   Train accuracy: 0.3124   Test accuracy: 0.3000  \n",
      "Epoch: 256/1000   Training loss: 1.0986   Testing loss: 1.0980   Train accuracy: 0.3071   Test accuracy: 0.2981  \n",
      "Epoch: 257/1000   Training loss: 1.0976   Testing loss: 1.0982   Train accuracy: 0.3131   Test accuracy: 0.2986  \n",
      "Epoch: 258/1000   Training loss: 1.0973   Testing loss: 1.0981   Train accuracy: 0.3132   Test accuracy: 0.3005  \n",
      "Epoch: 259/1000   Training loss: 1.0978   Testing loss: 1.0981   Train accuracy: 0.3126   Test accuracy: 0.3019  \n",
      "Epoch: 260/1000   Training loss: 1.0983   Testing loss: 1.0983   Train accuracy: 0.3116   Test accuracy: 0.3005  \n",
      "Epoch: 261/1000   Training loss: 1.0978   Testing loss: 1.0981   Train accuracy: 0.3145   Test accuracy: 0.3016  \n",
      "Epoch: 262/1000   Training loss: 1.0976   Testing loss: 1.0978   Train accuracy: 0.3115   Test accuracy: 0.3016  \n",
      "Epoch: 263/1000   Training loss: 1.0980   Testing loss: 1.0980   Train accuracy: 0.3133   Test accuracy: 0.3019  \n",
      "Epoch: 264/1000   Training loss: 1.0979   Testing loss: 1.0981   Train accuracy: 0.3132   Test accuracy: 0.3016  \n",
      "Epoch: 265/1000   Training loss: 1.0982   Testing loss: 1.0981   Train accuracy: 0.3114   Test accuracy: 0.3019  \n",
      "Epoch: 266/1000   Training loss: 1.0978   Testing loss: 1.0979   Train accuracy: 0.3138   Test accuracy: 0.3016  \n",
      "Epoch: 267/1000   Training loss: 1.0982   Testing loss: 1.0981   Train accuracy: 0.3123   Test accuracy: 0.3012  \n",
      "Epoch: 268/1000   Training loss: 1.0981   Testing loss: 1.0980   Train accuracy: 0.3094   Test accuracy: 0.3007  \n",
      "Epoch: 269/1000   Training loss: 1.0983   Testing loss: 1.0981   Train accuracy: 0.3116   Test accuracy: 0.3016  \n",
      "Epoch: 270/1000   Training loss: 1.0984   Testing loss: 1.0980   Train accuracy: 0.3101   Test accuracy: 0.2995  \n",
      "Epoch: 271/1000   Training loss: 1.0978   Testing loss: 1.0985   Train accuracy: 0.3100   Test accuracy: 0.2972  \n",
      "Epoch: 272/1000   Training loss: 1.0981   Testing loss: 1.0981   Train accuracy: 0.3094   Test accuracy: 0.2972  \n",
      "Epoch: 273/1000   Training loss: 1.0980   Testing loss: 1.0983   Train accuracy: 0.3096   Test accuracy: 0.2974  \n",
      "Epoch: 274/1000   Training loss: 1.0978   Testing loss: 1.0979   Train accuracy: 0.3089   Test accuracy: 0.2976  \n",
      "Epoch: 275/1000   Training loss: 1.0975   Testing loss: 1.0981   Train accuracy: 0.3108   Test accuracy: 0.2986  \n",
      "Epoch: 276/1000   Training loss: 1.0976   Testing loss: 1.0981   Train accuracy: 0.3117   Test accuracy: 0.3002  \n",
      "Epoch: 277/1000   Training loss: 1.0978   Testing loss: 1.0978   Train accuracy: 0.3150   Test accuracy: 0.3005  \n",
      "Epoch: 278/1000   Training loss: 1.0978   Testing loss: 1.0981   Train accuracy: 0.3139   Test accuracy: 0.3005  \n",
      "Epoch: 279/1000   Training loss: 1.0978   Testing loss: 1.0978   Train accuracy: 0.3143   Test accuracy: 0.3016  \n",
      "Epoch: 280/1000   Training loss: 1.0981   Testing loss: 1.0981   Train accuracy: 0.3146   Test accuracy: 0.3005  \n",
      "Epoch: 281/1000   Training loss: 1.0977   Testing loss: 1.0980   Train accuracy: 0.3131   Test accuracy: 0.3002  \n",
      "Epoch: 282/1000   Training loss: 1.0981   Testing loss: 1.0980   Train accuracy: 0.3122   Test accuracy: 0.3005  \n",
      "Epoch: 283/1000   Training loss: 1.0981   Testing loss: 1.0982   Train accuracy: 0.3131   Test accuracy: 0.3005  \n",
      "Epoch: 284/1000   Training loss: 1.0980   Testing loss: 1.0980   Train accuracy: 0.3127   Test accuracy: 0.3002  \n",
      "Epoch: 285/1000   Training loss: 1.0972   Testing loss: 1.0979   Train accuracy: 0.3141   Test accuracy: 0.3019  \n",
      "Epoch: 286/1000   Training loss: 1.0971   Testing loss: 1.0980   Train accuracy: 0.3141   Test accuracy: 0.3033  \n",
      "Epoch: 287/1000   Training loss: 1.0978   Testing loss: 1.0980   Train accuracy: 0.3116   Test accuracy: 0.3019  \n",
      "Epoch: 288/1000   Training loss: 1.0979   Testing loss: 1.0979   Train accuracy: 0.3151   Test accuracy: 0.3012  \n",
      "Epoch: 289/1000   Training loss: 1.0983   Testing loss: 1.0980   Train accuracy: 0.3131   Test accuracy: 0.3007  \n"
     ]
    },
    {
     "name": "stdout",
     "output_type": "stream",
     "text": [
      "Epoch: 290/1000   Training loss: 1.0982   Testing loss: 1.0981   Train accuracy: 0.3124   Test accuracy: 0.3002  \n",
      "Epoch: 291/1000   Training loss: 1.0977   Testing loss: 1.0980   Train accuracy: 0.3122   Test accuracy: 0.3007  \n",
      "Epoch: 292/1000   Training loss: 1.0978   Testing loss: 1.0981   Train accuracy: 0.3145   Test accuracy: 0.3009  \n",
      "Epoch: 293/1000   Training loss: 1.0979   Testing loss: 1.0983   Train accuracy: 0.3133   Test accuracy: 0.3005  \n",
      "Epoch: 294/1000   Training loss: 1.0974   Testing loss: 1.0980   Train accuracy: 0.3150   Test accuracy: 0.3016  \n",
      "Epoch: 295/1000   Training loss: 1.0977   Testing loss: 1.0976   Train accuracy: 0.3134   Test accuracy: 0.3012  \n",
      "Epoch: 296/1000   Training loss: 1.0978   Testing loss: 1.0985   Train accuracy: 0.3116   Test accuracy: 0.3012  \n",
      "Epoch: 297/1000   Training loss: 1.0985   Testing loss: 1.0980   Train accuracy: 0.3106   Test accuracy: 0.3009  \n",
      "Epoch: 298/1000   Training loss: 1.0978   Testing loss: 1.0980   Train accuracy: 0.3127   Test accuracy: 0.3007  \n",
      "Epoch: 299/1000   Training loss: 1.0979   Testing loss: 1.0980   Train accuracy: 0.3127   Test accuracy: 0.3009  \n",
      "Epoch: 300/1000   Training loss: 1.0979   Testing loss: 1.0981   Train accuracy: 0.3102   Test accuracy: 0.3005  \n",
      "Epoch: 301/1000   Training loss: 1.0978   Testing loss: 1.0977   Train accuracy: 0.3138   Test accuracy: 0.3012  \n",
      "Epoch: 302/1000   Training loss: 1.0981   Testing loss: 1.0980   Train accuracy: 0.3137   Test accuracy: 0.3021  \n",
      "Epoch: 303/1000   Training loss: 1.0984   Testing loss: 1.0978   Train accuracy: 0.3110   Test accuracy: 0.3005  \n",
      "Epoch: 304/1000   Training loss: 1.0980   Testing loss: 1.0981   Train accuracy: 0.3112   Test accuracy: 0.3005  \n",
      "Epoch: 305/1000   Training loss: 1.0975   Testing loss: 1.0978   Train accuracy: 0.3138   Test accuracy: 0.3014  \n",
      "Epoch: 306/1000   Training loss: 1.0977   Testing loss: 1.0982   Train accuracy: 0.3138   Test accuracy: 0.3012  \n",
      "Epoch: 307/1000   Training loss: 1.0974   Testing loss: 1.0980   Train accuracy: 0.3160   Test accuracy: 0.3021  \n",
      "Epoch: 308/1000   Training loss: 1.0977   Testing loss: 1.0979   Train accuracy: 0.3153   Test accuracy: 0.3026  \n",
      "Epoch: 309/1000   Training loss: 1.0983   Testing loss: 1.0979   Train accuracy: 0.3138   Test accuracy: 0.3024  \n",
      "Epoch: 310/1000   Training loss: 1.0977   Testing loss: 1.0979   Train accuracy: 0.3150   Test accuracy: 0.3033  \n",
      "Epoch: 311/1000   Training loss: 1.0975   Testing loss: 1.0979   Train accuracy: 0.3170   Test accuracy: 0.3031  \n",
      "Epoch: 312/1000   Training loss: 1.0972   Testing loss: 1.0980   Train accuracy: 0.3175   Test accuracy: 0.3033  \n",
      "Epoch: 313/1000   Training loss: 1.0982   Testing loss: 1.0980   Train accuracy: 0.3152   Test accuracy: 0.3024  \n",
      "Epoch: 314/1000   Training loss: 1.0973   Testing loss: 1.0976   Train accuracy: 0.3189   Test accuracy: 0.3040  \n",
      "Epoch: 315/1000   Training loss: 1.0973   Testing loss: 1.0978   Train accuracy: 0.3151   Test accuracy: 0.3040  \n",
      "Epoch: 316/1000   Training loss: 1.0980   Testing loss: 1.0975   Train accuracy: 0.3159   Test accuracy: 0.3035  \n",
      "Epoch: 317/1000   Training loss: 1.0976   Testing loss: 1.0978   Train accuracy: 0.3161   Test accuracy: 0.3038  \n",
      "Epoch: 318/1000   Training loss: 1.0979   Testing loss: 1.0973   Train accuracy: 0.3198   Test accuracy: 0.3042  \n",
      "Epoch: 319/1000   Training loss: 1.0980   Testing loss: 1.0976   Train accuracy: 0.3176   Test accuracy: 0.3038  \n",
      "Epoch: 320/1000   Training loss: 1.0976   Testing loss: 1.0977   Train accuracy: 0.3171   Test accuracy: 0.3045  \n",
      "Epoch: 321/1000   Training loss: 1.0975   Testing loss: 1.0977   Train accuracy: 0.3197   Test accuracy: 0.3035  \n",
      "Epoch: 322/1000   Training loss: 1.0974   Testing loss: 1.0976   Train accuracy: 0.3178   Test accuracy: 0.3049  \n",
      "Epoch: 323/1000   Training loss: 1.0982   Testing loss: 1.0976   Train accuracy: 0.3158   Test accuracy: 0.3038  \n",
      "Epoch: 324/1000   Training loss: 1.0977   Testing loss: 1.0980   Train accuracy: 0.3161   Test accuracy: 0.3042  \n",
      "Epoch: 325/1000   Training loss: 1.0977   Testing loss: 1.0977   Train accuracy: 0.3184   Test accuracy: 0.3038  \n",
      "Epoch: 326/1000   Training loss: 1.0976   Testing loss: 1.0975   Train accuracy: 0.3162   Test accuracy: 0.3042  \n",
      "Epoch: 327/1000   Training loss: 1.0976   Testing loss: 1.0982   Train accuracy: 0.3167   Test accuracy: 0.3049  \n",
      "Epoch: 328/1000   Training loss: 1.0975   Testing loss: 1.0977   Train accuracy: 0.3207   Test accuracy: 0.3056  \n",
      "Epoch: 329/1000   Training loss: 1.0973   Testing loss: 1.0973   Train accuracy: 0.3214   Test accuracy: 0.3064  \n",
      "Epoch: 330/1000   Training loss: 1.0974   Testing loss: 1.0976   Train accuracy: 0.3202   Test accuracy: 0.3061  \n",
      "Epoch: 331/1000   Training loss: 1.0968   Testing loss: 1.0971   Train accuracy: 0.3260   Test accuracy: 0.3078  \n",
      "Epoch: 332/1000   Training loss: 1.0973   Testing loss: 1.0975   Train accuracy: 0.3239   Test accuracy: 0.3078  \n",
      "Epoch: 333/1000   Training loss: 1.0974   Testing loss: 1.0974   Train accuracy: 0.3253   Test accuracy: 0.3089  \n",
      "Epoch: 334/1000   Training loss: 1.0985   Testing loss: 1.0980   Train accuracy: 0.3210   Test accuracy: 0.3066  \n",
      "Epoch: 335/1000   Training loss: 1.0977   Testing loss: 1.0978   Train accuracy: 0.3223   Test accuracy: 0.3066  \n",
      "Epoch: 336/1000   Training loss: 1.0971   Testing loss: 1.0972   Train accuracy: 0.3237   Test accuracy: 0.3075  \n",
      "Epoch: 337/1000   Training loss: 1.0977   Testing loss: 1.0975   Train accuracy: 0.3221   Test accuracy: 0.3073  \n",
      "Epoch: 338/1000   Training loss: 1.0972   Testing loss: 1.0974   Train accuracy: 0.3210   Test accuracy: 0.3078  \n",
      "Epoch: 339/1000   Training loss: 1.0980   Testing loss: 1.0976   Train accuracy: 0.3174   Test accuracy: 0.3066  \n",
      "Epoch: 340/1000   Training loss: 1.0970   Testing loss: 1.0971   Train accuracy: 0.3236   Test accuracy: 0.3075  \n",
      "Epoch: 341/1000   Training loss: 1.0981   Testing loss: 1.0974   Train accuracy: 0.3199   Test accuracy: 0.3064  \n",
      "Epoch: 342/1000   Training loss: 1.0977   Testing loss: 1.0975   Train accuracy: 0.3211   Test accuracy: 0.3071  \n",
      "Epoch: 343/1000   Training loss: 1.0975   Testing loss: 1.0974   Train accuracy: 0.3211   Test accuracy: 0.3073  \n",
      "Epoch: 344/1000   Training loss: 1.0980   Testing loss: 1.0974   Train accuracy: 0.3223   Test accuracy: 0.3082  \n",
      "Epoch: 345/1000   Training loss: 1.0977   Testing loss: 1.0975   Train accuracy: 0.3181   Test accuracy: 0.3068  \n",
      "Epoch: 346/1000   Training loss: 1.0975   Testing loss: 1.0974   Train accuracy: 0.3200   Test accuracy: 0.3064  \n",
      "Epoch: 347/1000   Training loss: 1.0974   Testing loss: 1.0972   Train accuracy: 0.3181   Test accuracy: 0.3078  \n",
      "Epoch: 348/1000   Training loss: 1.0980   Testing loss: 1.0976   Train accuracy: 0.3175   Test accuracy: 0.3078  \n",
      "Epoch: 349/1000   Training loss: 1.0976   Testing loss: 1.0974   Train accuracy: 0.3197   Test accuracy: 0.3078  \n",
      "Epoch: 350/1000   Training loss: 1.0978   Testing loss: 1.0974   Train accuracy: 0.3195   Test accuracy: 0.3082  \n",
      "Epoch: 351/1000   Training loss: 1.0972   Testing loss: 1.0975   Train accuracy: 0.3213   Test accuracy: 0.3080  \n",
      "Epoch: 352/1000   Training loss: 1.0976   Testing loss: 1.0971   Train accuracy: 0.3209   Test accuracy: 0.3080  \n",
      "Epoch: 353/1000   Training loss: 1.0974   Testing loss: 1.0974   Train accuracy: 0.3203   Test accuracy: 0.3087  \n",
      "Epoch: 354/1000   Training loss: 1.0980   Testing loss: 1.0974   Train accuracy: 0.3191   Test accuracy: 0.3089  \n",
      "Epoch: 355/1000   Training loss: 1.0971   Testing loss: 1.0972   Train accuracy: 0.3237   Test accuracy: 0.3085  \n",
      "Epoch: 356/1000   Training loss: 1.0968   Testing loss: 1.0973   Train accuracy: 0.3232   Test accuracy: 0.3089  \n",
      "Epoch: 357/1000   Training loss: 1.0980   Testing loss: 1.0973   Train accuracy: 0.3213   Test accuracy: 0.3101  \n",
      "Epoch: 358/1000   Training loss: 1.0977   Testing loss: 1.0972   Train accuracy: 0.3194   Test accuracy: 0.3099  \n",
      "Epoch: 359/1000   Training loss: 1.0973   Testing loss: 1.0970   Train accuracy: 0.3213   Test accuracy: 0.3111  \n",
      "Epoch: 360/1000   Training loss: 1.0976   Testing loss: 1.0973   Train accuracy: 0.3227   Test accuracy: 0.3106  \n",
      "Epoch: 361/1000   Training loss: 1.0978   Testing loss: 1.0972   Train accuracy: 0.3214   Test accuracy: 0.3106  \n"
     ]
    },
    {
     "name": "stdout",
     "output_type": "stream",
     "text": [
      "Epoch: 362/1000   Training loss: 1.0969   Testing loss: 1.0974   Train accuracy: 0.3262   Test accuracy: 0.3099  \n",
      "Epoch: 363/1000   Training loss: 1.0973   Testing loss: 1.0968   Train accuracy: 0.3254   Test accuracy: 0.3094  \n",
      "Epoch: 364/1000   Training loss: 1.0973   Testing loss: 1.0970   Train accuracy: 0.3234   Test accuracy: 0.3099  \n",
      "Epoch: 365/1000   Training loss: 1.0972   Testing loss: 1.0971   Train accuracy: 0.3246   Test accuracy: 0.3101  \n",
      "Epoch: 366/1000   Training loss: 1.0979   Testing loss: 1.0972   Train accuracy: 0.3232   Test accuracy: 0.3104  \n",
      "Epoch: 367/1000   Training loss: 1.0974   Testing loss: 1.0969   Train accuracy: 0.3249   Test accuracy: 0.3104  \n",
      "Epoch: 368/1000   Training loss: 1.0972   Testing loss: 1.0970   Train accuracy: 0.3210   Test accuracy: 0.3108  \n",
      "Epoch: 369/1000   Training loss: 1.0974   Testing loss: 1.0968   Train accuracy: 0.3261   Test accuracy: 0.3108  \n",
      "Epoch: 370/1000   Training loss: 1.0973   Testing loss: 1.0968   Train accuracy: 0.3243   Test accuracy: 0.3106  \n",
      "Epoch: 371/1000   Training loss: 1.0971   Testing loss: 1.0972   Train accuracy: 0.3244   Test accuracy: 0.3104  \n",
      "Epoch: 372/1000   Training loss: 1.0971   Testing loss: 1.0972   Train accuracy: 0.3261   Test accuracy: 0.3111  \n",
      "Epoch: 373/1000   Training loss: 1.0977   Testing loss: 1.0966   Train accuracy: 0.3268   Test accuracy: 0.3118  \n",
      "Epoch: 374/1000   Training loss: 1.0978   Testing loss: 1.0970   Train accuracy: 0.3230   Test accuracy: 0.3113  \n",
      "Epoch: 375/1000   Training loss: 1.0974   Testing loss: 1.0972   Train accuracy: 0.3244   Test accuracy: 0.3108  \n",
      "Epoch: 376/1000   Training loss: 1.0973   Testing loss: 1.0968   Train accuracy: 0.3228   Test accuracy: 0.3122  \n",
      "Epoch: 377/1000   Training loss: 1.0978   Testing loss: 1.0972   Train accuracy: 0.3249   Test accuracy: 0.3120  \n",
      "Epoch: 378/1000   Training loss: 1.0968   Testing loss: 1.0969   Train accuracy: 0.3264   Test accuracy: 0.3132  \n",
      "Epoch: 379/1000   Training loss: 1.0972   Testing loss: 1.0970   Train accuracy: 0.3286   Test accuracy: 0.3139  \n",
      "Epoch: 380/1000   Training loss: 1.0974   Testing loss: 1.0967   Train accuracy: 0.3278   Test accuracy: 0.3134  \n",
      "Epoch: 381/1000   Training loss: 1.0975   Testing loss: 1.0963   Train accuracy: 0.3287   Test accuracy: 0.3134  \n",
      "Epoch: 382/1000   Training loss: 1.0971   Testing loss: 1.0972   Train accuracy: 0.3244   Test accuracy: 0.3127  \n",
      "Epoch: 383/1000   Training loss: 1.0969   Testing loss: 1.0968   Train accuracy: 0.3296   Test accuracy: 0.3151  \n",
      "Epoch: 384/1000   Training loss: 1.0973   Testing loss: 1.0966   Train accuracy: 0.3303   Test accuracy: 0.3162  \n",
      "Epoch: 385/1000   Training loss: 1.0974   Testing loss: 1.0966   Train accuracy: 0.3283   Test accuracy: 0.3148  \n",
      "Epoch: 386/1000   Training loss: 1.0976   Testing loss: 1.0968   Train accuracy: 0.3280   Test accuracy: 0.3144  \n",
      "Epoch: 387/1000   Training loss: 1.0976   Testing loss: 1.0968   Train accuracy: 0.3257   Test accuracy: 0.3134  \n",
      "Epoch: 388/1000   Training loss: 1.0971   Testing loss: 1.0967   Train accuracy: 0.3261   Test accuracy: 0.3136  \n",
      "Epoch: 389/1000   Training loss: 1.0964   Testing loss: 1.0964   Train accuracy: 0.3291   Test accuracy: 0.3144  \n",
      "Epoch: 390/1000   Training loss: 1.0969   Testing loss: 1.0967   Train accuracy: 0.3293   Test accuracy: 0.3141  \n",
      "Epoch: 391/1000   Training loss: 1.0970   Testing loss: 1.0966   Train accuracy: 0.3324   Test accuracy: 0.3153  \n",
      "Epoch: 392/1000   Training loss: 1.0973   Testing loss: 1.0968   Train accuracy: 0.3324   Test accuracy: 0.3160  \n",
      "Epoch: 393/1000   Training loss: 1.0974   Testing loss: 1.0973   Train accuracy: 0.3309   Test accuracy: 0.3155  \n",
      "Epoch: 394/1000   Training loss: 1.0975   Testing loss: 1.0970   Train accuracy: 0.3293   Test accuracy: 0.3158  \n",
      "Epoch: 395/1000   Training loss: 1.0972   Testing loss: 1.0963   Train accuracy: 0.3305   Test accuracy: 0.3162  \n",
      "Epoch: 396/1000   Training loss: 1.0970   Testing loss: 1.0964   Train accuracy: 0.3328   Test accuracy: 0.3174  \n",
      "Epoch: 397/1000   Training loss: 1.0976   Testing loss: 1.0964   Train accuracy: 0.3291   Test accuracy: 0.3160  \n",
      "Epoch: 398/1000   Training loss: 1.0970   Testing loss: 1.0969   Train accuracy: 0.3340   Test accuracy: 0.3160  \n",
      "Epoch: 399/1000   Training loss: 1.0971   Testing loss: 1.0964   Train accuracy: 0.3321   Test accuracy: 0.3160  \n",
      "Epoch: 400/1000   Training loss: 1.0970   Testing loss: 1.0968   Train accuracy: 0.3346   Test accuracy: 0.3174  \n",
      "Epoch: 401/1000   Training loss: 1.0968   Testing loss: 1.0966   Train accuracy: 0.3311   Test accuracy: 0.3174  \n",
      "Epoch: 402/1000   Training loss: 1.0970   Testing loss: 1.0968   Train accuracy: 0.3363   Test accuracy: 0.3179  \n",
      "Epoch: 403/1000   Training loss: 1.0970   Testing loss: 1.0966   Train accuracy: 0.3308   Test accuracy: 0.3184  \n",
      "Epoch: 404/1000   Training loss: 1.0972   Testing loss: 1.0968   Train accuracy: 0.3354   Test accuracy: 0.3205  \n",
      "Epoch: 405/1000   Training loss: 1.0974   Testing loss: 1.0966   Train accuracy: 0.3360   Test accuracy: 0.3200  \n",
      "Epoch: 406/1000   Training loss: 1.0970   Testing loss: 1.0968   Train accuracy: 0.3320   Test accuracy: 0.3195  \n",
      "Epoch: 407/1000   Training loss: 1.0966   Testing loss: 1.0960   Train accuracy: 0.3363   Test accuracy: 0.3224  \n",
      "Epoch: 408/1000   Training loss: 1.0966   Testing loss: 1.0965   Train accuracy: 0.3377   Test accuracy: 0.3221  \n",
      "Epoch: 409/1000   Training loss: 1.0975   Testing loss: 1.0962   Train accuracy: 0.3392   Test accuracy: 0.3219  \n",
      "Epoch: 410/1000   Training loss: 1.0977   Testing loss: 1.0965   Train accuracy: 0.3351   Test accuracy: 0.3193  \n",
      "Epoch: 411/1000   Training loss: 1.0975   Testing loss: 1.0964   Train accuracy: 0.3325   Test accuracy: 0.3193  \n",
      "Epoch: 412/1000   Training loss: 1.0973   Testing loss: 1.0966   Train accuracy: 0.3360   Test accuracy: 0.3198  \n",
      "Epoch: 413/1000   Training loss: 1.0968   Testing loss: 1.0963   Train accuracy: 0.3350   Test accuracy: 0.3216  \n",
      "Epoch: 414/1000   Training loss: 1.0969   Testing loss: 1.0962   Train accuracy: 0.3342   Test accuracy: 0.3226  \n",
      "Epoch: 415/1000   Training loss: 1.0972   Testing loss: 1.0963   Train accuracy: 0.3345   Test accuracy: 0.3221  \n",
      "Epoch: 416/1000   Training loss: 1.0968   Testing loss: 1.0964   Train accuracy: 0.3339   Test accuracy: 0.3224  \n",
      "Epoch: 417/1000   Training loss: 1.0971   Testing loss: 1.0964   Train accuracy: 0.3351   Test accuracy: 0.3216  \n",
      "Epoch: 418/1000   Training loss: 1.0975   Testing loss: 1.0961   Train accuracy: 0.3313   Test accuracy: 0.3207  \n",
      "Epoch: 419/1000   Training loss: 1.0968   Testing loss: 1.0964   Train accuracy: 0.3331   Test accuracy: 0.3219  \n",
      "Epoch: 420/1000   Training loss: 1.0969   Testing loss: 1.0963   Train accuracy: 0.3333   Test accuracy: 0.3224  \n",
      "Epoch: 421/1000   Training loss: 1.0972   Testing loss: 1.0961   Train accuracy: 0.3332   Test accuracy: 0.3209  \n",
      "Epoch: 422/1000   Training loss: 1.0975   Testing loss: 1.0964   Train accuracy: 0.3320   Test accuracy: 0.3207  \n",
      "Epoch: 423/1000   Training loss: 1.0964   Testing loss: 1.0962   Train accuracy: 0.3355   Test accuracy: 0.3226  \n",
      "Epoch: 424/1000   Training loss: 1.0972   Testing loss: 1.0962   Train accuracy: 0.3357   Test accuracy: 0.3226  \n",
      "Epoch: 425/1000   Training loss: 1.0968   Testing loss: 1.0962   Train accuracy: 0.3338   Test accuracy: 0.3231  \n",
      "Epoch: 426/1000   Training loss: 1.0966   Testing loss: 1.0955   Train accuracy: 0.3361   Test accuracy: 0.3242  \n",
      "Epoch: 427/1000   Training loss: 1.0966   Testing loss: 1.0957   Train accuracy: 0.3402   Test accuracy: 0.3261  \n",
      "Epoch: 428/1000   Training loss: 1.0973   Testing loss: 1.0959   Train accuracy: 0.3383   Test accuracy: 0.3264  \n",
      "Epoch: 429/1000   Training loss: 1.0976   Testing loss: 1.0962   Train accuracy: 0.3333   Test accuracy: 0.3242  \n",
      "Epoch: 430/1000   Training loss: 1.0973   Testing loss: 1.0958   Train accuracy: 0.3328   Test accuracy: 0.3226  \n",
      "Epoch: 431/1000   Training loss: 1.0968   Testing loss: 1.0962   Train accuracy: 0.3340   Test accuracy: 0.3238  \n",
      "Epoch: 432/1000   Training loss: 1.0962   Testing loss: 1.0962   Train accuracy: 0.3414   Test accuracy: 0.3282  \n",
      "Epoch: 433/1000   Training loss: 1.0968   Testing loss: 1.0960   Train accuracy: 0.3365   Test accuracy: 0.3296  \n"
     ]
    },
    {
     "name": "stdout",
     "output_type": "stream",
     "text": [
      "Epoch: 434/1000   Training loss: 1.0969   Testing loss: 1.0959   Train accuracy: 0.3341   Test accuracy: 0.3280  \n",
      "Epoch: 435/1000   Training loss: 1.0962   Testing loss: 1.0960   Train accuracy: 0.3395   Test accuracy: 0.3287  \n",
      "Epoch: 436/1000   Training loss: 1.0971   Testing loss: 1.0958   Train accuracy: 0.3410   Test accuracy: 0.3280  \n",
      "Epoch: 437/1000   Training loss: 1.0963   Testing loss: 1.0960   Train accuracy: 0.3423   Test accuracy: 0.3294  \n",
      "Epoch: 438/1000   Training loss: 1.0965   Testing loss: 1.0959   Train accuracy: 0.3415   Test accuracy: 0.3313  \n",
      "Epoch: 439/1000   Training loss: 1.0965   Testing loss: 1.0954   Train accuracy: 0.3444   Test accuracy: 0.3334  \n",
      "Epoch: 440/1000   Training loss: 1.0973   Testing loss: 1.0957   Train accuracy: 0.3410   Test accuracy: 0.3320  \n",
      "Epoch: 441/1000   Training loss: 1.0970   Testing loss: 1.0957   Train accuracy: 0.3391   Test accuracy: 0.3296  \n",
      "Epoch: 442/1000   Training loss: 1.0967   Testing loss: 1.0960   Train accuracy: 0.3393   Test accuracy: 0.3294  \n",
      "Epoch: 443/1000   Training loss: 1.0969   Testing loss: 1.0958   Train accuracy: 0.3366   Test accuracy: 0.3273  \n",
      "Epoch: 444/1000   Training loss: 1.0970   Testing loss: 1.0958   Train accuracy: 0.3376   Test accuracy: 0.3271  \n",
      "Epoch: 445/1000   Training loss: 1.0966   Testing loss: 1.0956   Train accuracy: 0.3396   Test accuracy: 0.3301  \n",
      "Epoch: 446/1000   Training loss: 1.0970   Testing loss: 1.0960   Train accuracy: 0.3355   Test accuracy: 0.3282  \n",
      "Epoch: 447/1000   Training loss: 1.0967   Testing loss: 1.0960   Train accuracy: 0.3377   Test accuracy: 0.3271  \n",
      "Epoch: 448/1000   Training loss: 1.0973   Testing loss: 1.0961   Train accuracy: 0.3347   Test accuracy: 0.3261  \n",
      "Epoch: 449/1000   Training loss: 1.0963   Testing loss: 1.0957   Train accuracy: 0.3380   Test accuracy: 0.3261  \n",
      "Epoch: 450/1000   Training loss: 1.0964   Testing loss: 1.0960   Train accuracy: 0.3397   Test accuracy: 0.3308  \n",
      "Epoch: 451/1000   Training loss: 1.0972   Testing loss: 1.0958   Train accuracy: 0.3388   Test accuracy: 0.3313  \n",
      "Epoch: 452/1000   Training loss: 1.0969   Testing loss: 1.0955   Train accuracy: 0.3421   Test accuracy: 0.3322  \n",
      "Epoch: 453/1000   Training loss: 1.0965   Testing loss: 1.0957   Train accuracy: 0.3390   Test accuracy: 0.3318  \n",
      "Epoch: 454/1000   Training loss: 1.0964   Testing loss: 1.0963   Train accuracy: 0.3410   Test accuracy: 0.3329  \n",
      "Epoch: 455/1000   Training loss: 1.0964   Testing loss: 1.0955   Train accuracy: 0.3429   Test accuracy: 0.3329  \n",
      "Epoch: 456/1000   Training loss: 1.0968   Testing loss: 1.0955   Train accuracy: 0.3411   Test accuracy: 0.3329  \n",
      "Epoch: 457/1000   Training loss: 1.0962   Testing loss: 1.0955   Train accuracy: 0.3421   Test accuracy: 0.3336  \n",
      "Epoch: 458/1000   Training loss: 1.0973   Testing loss: 1.0959   Train accuracy: 0.3450   Test accuracy: 0.3332  \n",
      "Epoch: 459/1000   Training loss: 1.0955   Testing loss: 1.0955   Train accuracy: 0.3471   Test accuracy: 0.3334  \n",
      "Epoch: 460/1000   Training loss: 1.0968   Testing loss: 1.0958   Train accuracy: 0.3427   Test accuracy: 0.3327  \n",
      "Epoch: 461/1000   Training loss: 1.0973   Testing loss: 1.0955   Train accuracy: 0.3388   Test accuracy: 0.3325  \n",
      "Epoch: 462/1000   Training loss: 1.0968   Testing loss: 1.0956   Train accuracy: 0.3353   Test accuracy: 0.3289  \n",
      "Epoch: 463/1000   Training loss: 1.0960   Testing loss: 1.0955   Train accuracy: 0.3433   Test accuracy: 0.3325  \n",
      "Epoch: 464/1000   Training loss: 1.0967   Testing loss: 1.0955   Train accuracy: 0.3451   Test accuracy: 0.3339  \n",
      "Epoch: 465/1000   Training loss: 1.0968   Testing loss: 1.0957   Train accuracy: 0.3380   Test accuracy: 0.3322  \n",
      "Epoch: 466/1000   Training loss: 1.0969   Testing loss: 1.0957   Train accuracy: 0.3409   Test accuracy: 0.3313  \n",
      "Epoch: 467/1000   Training loss: 1.0960   Testing loss: 1.0951   Train accuracy: 0.3475   Test accuracy: 0.3360  \n",
      "Epoch: 468/1000   Training loss: 1.0955   Testing loss: 1.0953   Train accuracy: 0.3466   Test accuracy: 0.3384  \n",
      "Epoch: 469/1000   Training loss: 1.0971   Testing loss: 1.0956   Train accuracy: 0.3432   Test accuracy: 0.3365  \n",
      "Epoch: 470/1000   Training loss: 1.0971   Testing loss: 1.0957   Train accuracy: 0.3395   Test accuracy: 0.3339  \n",
      "Epoch: 471/1000   Training loss: 1.0966   Testing loss: 1.0955   Train accuracy: 0.3443   Test accuracy: 0.3346  \n",
      "Epoch: 472/1000   Training loss: 1.0970   Testing loss: 1.0954   Train accuracy: 0.3448   Test accuracy: 0.3355  \n",
      "Epoch: 473/1000   Training loss: 1.0970   Testing loss: 1.0955   Train accuracy: 0.3432   Test accuracy: 0.3353  \n",
      "Epoch: 474/1000   Training loss: 1.0970   Testing loss: 1.0956   Train accuracy: 0.3444   Test accuracy: 0.3360  \n",
      "Epoch: 475/1000   Training loss: 1.0969   Testing loss: 1.0955   Train accuracy: 0.3455   Test accuracy: 0.3358  \n",
      "Epoch: 476/1000   Training loss: 1.0966   Testing loss: 1.0948   Train accuracy: 0.3478   Test accuracy: 0.3379  \n",
      "Epoch: 477/1000   Training loss: 1.0974   Testing loss: 1.0952   Train accuracy: 0.3450   Test accuracy: 0.3353  \n",
      "Epoch: 478/1000   Training loss: 1.0956   Testing loss: 1.0948   Train accuracy: 0.3464   Test accuracy: 0.3379  \n",
      "Epoch: 479/1000   Training loss: 1.0966   Testing loss: 1.0950   Train accuracy: 0.3440   Test accuracy: 0.3374  \n",
      "Epoch: 480/1000   Training loss: 1.0965   Testing loss: 1.0950   Train accuracy: 0.3398   Test accuracy: 0.3365  \n",
      "Epoch: 481/1000   Training loss: 1.0971   Testing loss: 1.0954   Train accuracy: 0.3458   Test accuracy: 0.3346  \n",
      "Epoch: 482/1000   Training loss: 1.0963   Testing loss: 1.0949   Train accuracy: 0.3505   Test accuracy: 0.3358  \n",
      "Epoch: 483/1000   Training loss: 1.0958   Testing loss: 1.0954   Train accuracy: 0.3484   Test accuracy: 0.3379  \n",
      "Epoch: 484/1000   Training loss: 1.0963   Testing loss: 1.0951   Train accuracy: 0.3507   Test accuracy: 0.3393  \n",
      "Epoch: 485/1000   Training loss: 1.0968   Testing loss: 1.0950   Train accuracy: 0.3444   Test accuracy: 0.3386  \n",
      "Epoch: 486/1000   Training loss: 1.0967   Testing loss: 1.0948   Train accuracy: 0.3467   Test accuracy: 0.3395  \n",
      "Epoch: 487/1000   Training loss: 1.0962   Testing loss: 1.0948   Train accuracy: 0.3477   Test accuracy: 0.3388  \n",
      "Epoch: 488/1000   Training loss: 1.0966   Testing loss: 1.0948   Train accuracy: 0.3453   Test accuracy: 0.3395  \n",
      "Epoch: 489/1000   Training loss: 1.0966   Testing loss: 1.0949   Train accuracy: 0.3471   Test accuracy: 0.3393  \n",
      "Epoch: 490/1000   Training loss: 1.0965   Testing loss: 1.0951   Train accuracy: 0.3494   Test accuracy: 0.3398  \n",
      "Epoch: 491/1000   Training loss: 1.0970   Testing loss: 1.0958   Train accuracy: 0.3456   Test accuracy: 0.3388  \n",
      "Epoch: 492/1000   Training loss: 1.0958   Testing loss: 1.0950   Train accuracy: 0.3490   Test accuracy: 0.3391  \n",
      "Epoch: 493/1000   Training loss: 1.0962   Testing loss: 1.0951   Train accuracy: 0.3452   Test accuracy: 0.3398  \n",
      "Epoch: 494/1000   Training loss: 1.0964   Testing loss: 1.0949   Train accuracy: 0.3474   Test accuracy: 0.3384  \n",
      "Epoch: 495/1000   Training loss: 1.0958   Testing loss: 1.0954   Train accuracy: 0.3521   Test accuracy: 0.3424  \n",
      "Epoch: 496/1000   Training loss: 1.0957   Testing loss: 1.0950   Train accuracy: 0.3533   Test accuracy: 0.3431  \n",
      "Epoch: 497/1000   Training loss: 1.0961   Testing loss: 1.0946   Train accuracy: 0.3546   Test accuracy: 0.3433  \n",
      "Epoch: 498/1000   Training loss: 1.0966   Testing loss: 1.0952   Train accuracy: 0.3478   Test accuracy: 0.3419  \n",
      "Epoch: 499/1000   Training loss: 1.0964   Testing loss: 1.0947   Train accuracy: 0.3497   Test accuracy: 0.3431  \n",
      "Epoch: 500/1000   Training loss: 1.0966   Testing loss: 1.0948   Train accuracy: 0.3518   Test accuracy: 0.3431  \n",
      "Epoch: 501/1000   Training loss: 1.0964   Testing loss: 1.0949   Train accuracy: 0.3528   Test accuracy: 0.3442  \n",
      "Epoch: 502/1000   Training loss: 1.0959   Testing loss: 1.0948   Train accuracy: 0.3504   Test accuracy: 0.3445  \n",
      "Epoch: 503/1000   Training loss: 1.0963   Testing loss: 1.0948   Train accuracy: 0.3511   Test accuracy: 0.3435  \n",
      "Epoch: 504/1000   Training loss: 1.0966   Testing loss: 1.0945   Train accuracy: 0.3546   Test accuracy: 0.3449  \n",
      "Epoch: 505/1000   Training loss: 1.0958   Testing loss: 1.0946   Train accuracy: 0.3524   Test accuracy: 0.3442  \n"
     ]
    },
    {
     "name": "stdout",
     "output_type": "stream",
     "text": [
      "Epoch: 506/1000   Training loss: 1.0971   Testing loss: 1.0950   Train accuracy: 0.3485   Test accuracy: 0.3433  \n",
      "Epoch: 507/1000   Training loss: 1.0961   Testing loss: 1.0948   Train accuracy: 0.3523   Test accuracy: 0.3440  \n",
      "Epoch: 508/1000   Training loss: 1.0959   Testing loss: 1.0944   Train accuracy: 0.3512   Test accuracy: 0.3442  \n",
      "Epoch: 509/1000   Training loss: 1.0969   Testing loss: 1.0950   Train accuracy: 0.3438   Test accuracy: 0.3433  \n",
      "Epoch: 510/1000   Training loss: 1.0958   Testing loss: 1.0949   Train accuracy: 0.3523   Test accuracy: 0.3456  \n",
      "Epoch: 511/1000   Training loss: 1.0968   Testing loss: 1.0951   Train accuracy: 0.3510   Test accuracy: 0.3459  \n",
      "Epoch: 512/1000   Training loss: 1.0962   Testing loss: 1.0949   Train accuracy: 0.3496   Test accuracy: 0.3452  \n",
      "Epoch: 513/1000   Training loss: 1.0969   Testing loss: 1.0948   Train accuracy: 0.3468   Test accuracy: 0.3447  \n",
      "Epoch: 514/1000   Training loss: 1.0966   Testing loss: 1.0949   Train accuracy: 0.3433   Test accuracy: 0.3424  \n",
      "Epoch: 515/1000   Training loss: 1.0961   Testing loss: 1.0947   Train accuracy: 0.3488   Test accuracy: 0.3431  \n",
      "Epoch: 516/1000   Training loss: 1.0954   Testing loss: 1.0943   Train accuracy: 0.3478   Test accuracy: 0.3454  \n",
      "Epoch: 517/1000   Training loss: 1.0963   Testing loss: 1.0948   Train accuracy: 0.3501   Test accuracy: 0.3456  \n",
      "Epoch: 518/1000   Training loss: 1.0965   Testing loss: 1.0945   Train accuracy: 0.3488   Test accuracy: 0.3442  \n",
      "Epoch: 519/1000   Training loss: 1.0955   Testing loss: 1.0949   Train accuracy: 0.3538   Test accuracy: 0.3459  \n",
      "Epoch: 520/1000   Training loss: 1.0959   Testing loss: 1.0947   Train accuracy: 0.3555   Test accuracy: 0.3492  \n",
      "Epoch: 521/1000   Training loss: 1.0959   Testing loss: 1.0944   Train accuracy: 0.3571   Test accuracy: 0.3501  \n",
      "Epoch: 522/1000   Training loss: 1.0965   Testing loss: 1.0946   Train accuracy: 0.3570   Test accuracy: 0.3499  \n",
      "Epoch: 523/1000   Training loss: 1.0957   Testing loss: 1.0942   Train accuracy: 0.3560   Test accuracy: 0.3499  \n",
      "Epoch: 524/1000   Training loss: 1.0964   Testing loss: 1.0946   Train accuracy: 0.3557   Test accuracy: 0.3489  \n",
      "Epoch: 525/1000   Training loss: 1.0964   Testing loss: 1.0944   Train accuracy: 0.3500   Test accuracy: 0.3447  \n",
      "Epoch: 526/1000   Training loss: 1.0964   Testing loss: 1.0946   Train accuracy: 0.3484   Test accuracy: 0.3447  \n",
      "Epoch: 527/1000   Training loss: 1.0965   Testing loss: 1.0946   Train accuracy: 0.3487   Test accuracy: 0.3440  \n",
      "Epoch: 528/1000   Training loss: 1.0961   Testing loss: 1.0956   Train accuracy: 0.3515   Test accuracy: 0.3440  \n",
      "Epoch: 529/1000   Training loss: 1.0959   Testing loss: 1.0944   Train accuracy: 0.3578   Test accuracy: 0.3482  \n",
      "Epoch: 530/1000   Training loss: 1.0955   Testing loss: 1.0946   Train accuracy: 0.3513   Test accuracy: 0.3485  \n",
      "Epoch: 531/1000   Training loss: 1.0966   Testing loss: 1.0946   Train accuracy: 0.3515   Test accuracy: 0.3466  \n",
      "Epoch: 532/1000   Training loss: 1.0958   Testing loss: 1.0943   Train accuracy: 0.3556   Test accuracy: 0.3480  \n",
      "Epoch: 533/1000   Training loss: 1.0966   Testing loss: 1.0944   Train accuracy: 0.3537   Test accuracy: 0.3489  \n",
      "Epoch: 534/1000   Training loss: 1.0964   Testing loss: 1.0947   Train accuracy: 0.3524   Test accuracy: 0.3485  \n",
      "Epoch: 535/1000   Training loss: 1.0963   Testing loss: 1.0947   Train accuracy: 0.3490   Test accuracy: 0.3447  \n",
      "Epoch: 536/1000   Training loss: 1.0959   Testing loss: 1.0948   Train accuracy: 0.3522   Test accuracy: 0.3489  \n",
      "Epoch: 537/1000   Training loss: 1.0968   Testing loss: 1.0943   Train accuracy: 0.3499   Test accuracy: 0.3471  \n",
      "Epoch: 538/1000   Training loss: 1.0964   Testing loss: 1.0941   Train accuracy: 0.3500   Test accuracy: 0.3492  \n",
      "Epoch: 539/1000   Training loss: 1.0958   Testing loss: 1.0935   Train accuracy: 0.3575   Test accuracy: 0.3511  \n",
      "Epoch: 540/1000   Training loss: 1.0965   Testing loss: 1.0946   Train accuracy: 0.3524   Test accuracy: 0.3506  \n",
      "Epoch: 541/1000   Training loss: 1.0967   Testing loss: 1.0946   Train accuracy: 0.3510   Test accuracy: 0.3496  \n",
      "Epoch: 542/1000   Training loss: 1.0962   Testing loss: 1.0944   Train accuracy: 0.3590   Test accuracy: 0.3506  \n",
      "Epoch: 543/1000   Training loss: 1.0959   Testing loss: 1.0946   Train accuracy: 0.3633   Test accuracy: 0.3532  \n",
      "Epoch: 544/1000   Training loss: 1.0968   Testing loss: 1.0939   Train accuracy: 0.3544   Test accuracy: 0.3536  \n",
      "Epoch: 545/1000   Training loss: 1.0964   Testing loss: 1.0940   Train accuracy: 0.3577   Test accuracy: 0.3536  \n",
      "Epoch: 546/1000   Training loss: 1.0962   Testing loss: 1.0941   Train accuracy: 0.3542   Test accuracy: 0.3518  \n",
      "Epoch: 547/1000   Training loss: 1.0966   Testing loss: 1.0945   Train accuracy: 0.3546   Test accuracy: 0.3536  \n",
      "Epoch: 548/1000   Training loss: 1.0963   Testing loss: 1.0942   Train accuracy: 0.3565   Test accuracy: 0.3529  \n",
      "Epoch: 549/1000   Training loss: 1.0958   Testing loss: 1.0944   Train accuracy: 0.3566   Test accuracy: 0.3539  \n",
      "Epoch: 550/1000   Training loss: 1.0956   Testing loss: 1.0942   Train accuracy: 0.3579   Test accuracy: 0.3548  \n",
      "Epoch: 551/1000   Training loss: 1.0953   Testing loss: 1.0945   Train accuracy: 0.3636   Test accuracy: 0.3565  \n",
      "Epoch: 552/1000   Training loss: 1.0961   Testing loss: 1.0941   Train accuracy: 0.3618   Test accuracy: 0.3579  \n",
      "Epoch: 553/1000   Training loss: 1.0964   Testing loss: 1.0941   Train accuracy: 0.3611   Test accuracy: 0.3584  \n",
      "Epoch: 554/1000   Training loss: 1.0967   Testing loss: 1.0943   Train accuracy: 0.3596   Test accuracy: 0.3567  \n",
      "Epoch: 555/1000   Training loss: 1.0954   Testing loss: 1.0940   Train accuracy: 0.3661   Test accuracy: 0.3591  \n",
      "Epoch: 556/1000   Training loss: 1.0964   Testing loss: 1.0940   Train accuracy: 0.3641   Test accuracy: 0.3598  \n",
      "Epoch: 557/1000   Training loss: 1.0958   Testing loss: 1.0941   Train accuracy: 0.3608   Test accuracy: 0.3581  \n",
      "Epoch: 558/1000   Training loss: 1.0961   Testing loss: 1.0941   Train accuracy: 0.3617   Test accuracy: 0.3586  \n",
      "Epoch: 559/1000   Training loss: 1.0969   Testing loss: 1.0941   Train accuracy: 0.3541   Test accuracy: 0.3574  \n",
      "Epoch: 560/1000   Training loss: 1.0961   Testing loss: 1.0939   Train accuracy: 0.3625   Test accuracy: 0.3579  \n",
      "Epoch: 561/1000   Training loss: 1.0960   Testing loss: 1.0939   Train accuracy: 0.3580   Test accuracy: 0.3558  \n",
      "Epoch: 562/1000   Training loss: 1.0953   Testing loss: 1.0940   Train accuracy: 0.3635   Test accuracy: 0.3609  \n",
      "Epoch: 563/1000   Training loss: 1.0956   Testing loss: 1.0943   Train accuracy: 0.3607   Test accuracy: 0.3581  \n",
      "Epoch: 564/1000   Training loss: 1.0968   Testing loss: 1.0940   Train accuracy: 0.3591   Test accuracy: 0.3567  \n",
      "Epoch: 565/1000   Training loss: 1.0964   Testing loss: 1.0943   Train accuracy: 0.3584   Test accuracy: 0.3555  \n",
      "Epoch: 566/1000   Training loss: 1.0959   Testing loss: 1.0944   Train accuracy: 0.3588   Test accuracy: 0.3572  \n",
      "Epoch: 567/1000   Training loss: 1.0960   Testing loss: 1.0941   Train accuracy: 0.3573   Test accuracy: 0.3562  \n",
      "Epoch: 568/1000   Training loss: 1.0960   Testing loss: 1.0940   Train accuracy: 0.3614   Test accuracy: 0.3595  \n",
      "Epoch: 569/1000   Training loss: 1.0946   Testing loss: 1.0943   Train accuracy: 0.3662   Test accuracy: 0.3602  \n",
      "Epoch: 570/1000   Training loss: 1.0955   Testing loss: 1.0938   Train accuracy: 0.3672   Test accuracy: 0.3612  \n",
      "Epoch: 571/1000   Training loss: 1.0949   Testing loss: 1.0937   Train accuracy: 0.3693   Test accuracy: 0.3624  \n",
      "Epoch: 572/1000   Training loss: 1.0954   Testing loss: 1.0938   Train accuracy: 0.3707   Test accuracy: 0.3624  \n",
      "Epoch: 573/1000   Training loss: 1.0952   Testing loss: 1.0939   Train accuracy: 0.3650   Test accuracy: 0.3621  \n",
      "Epoch: 574/1000   Training loss: 1.0954   Testing loss: 1.0938   Train accuracy: 0.3675   Test accuracy: 0.3600  \n",
      "Epoch: 575/1000   Training loss: 1.0955   Testing loss: 1.0939   Train accuracy: 0.3613   Test accuracy: 0.3591  \n",
      "Epoch: 576/1000   Training loss: 1.0956   Testing loss: 1.0937   Train accuracy: 0.3666   Test accuracy: 0.3584  \n",
      "Epoch: 577/1000   Training loss: 1.0952   Testing loss: 1.0944   Train accuracy: 0.3687   Test accuracy: 0.3635  \n"
     ]
    },
    {
     "name": "stdout",
     "output_type": "stream",
     "text": [
      "Epoch: 578/1000   Training loss: 1.0958   Testing loss: 1.0937   Train accuracy: 0.3676   Test accuracy: 0.3626  \n",
      "Epoch: 579/1000   Training loss: 1.0951   Testing loss: 1.0934   Train accuracy: 0.3702   Test accuracy: 0.3633  \n",
      "Epoch: 580/1000   Training loss: 1.0956   Testing loss: 1.0944   Train accuracy: 0.3677   Test accuracy: 0.3614  \n",
      "Epoch: 581/1000   Training loss: 1.0949   Testing loss: 1.0939   Train accuracy: 0.3637   Test accuracy: 0.3605  \n",
      "Epoch: 582/1000   Training loss: 1.0957   Testing loss: 1.0935   Train accuracy: 0.3621   Test accuracy: 0.3607  \n",
      "Epoch: 583/1000   Training loss: 1.0955   Testing loss: 1.0937   Train accuracy: 0.3638   Test accuracy: 0.3616  \n",
      "Epoch: 584/1000   Training loss: 1.0951   Testing loss: 1.0935   Train accuracy: 0.3675   Test accuracy: 0.3628  \n",
      "Epoch: 585/1000   Training loss: 1.0953   Testing loss: 1.0933   Train accuracy: 0.3677   Test accuracy: 0.3626  \n",
      "Epoch: 586/1000   Training loss: 1.0960   Testing loss: 1.0937   Train accuracy: 0.3631   Test accuracy: 0.3614  \n",
      "Epoch: 587/1000   Training loss: 1.0947   Testing loss: 1.0938   Train accuracy: 0.3679   Test accuracy: 0.3626  \n",
      "Epoch: 588/1000   Training loss: 1.0950   Testing loss: 1.0938   Train accuracy: 0.3643   Test accuracy: 0.3619  \n",
      "Epoch: 589/1000   Training loss: 1.0960   Testing loss: 1.0939   Train accuracy: 0.3620   Test accuracy: 0.3605  \n",
      "Epoch: 590/1000   Training loss: 1.0965   Testing loss: 1.0941   Train accuracy: 0.3557   Test accuracy: 0.3576  \n",
      "Epoch: 591/1000   Training loss: 1.0959   Testing loss: 1.0944   Train accuracy: 0.3621   Test accuracy: 0.3609  \n",
      "Epoch: 592/1000   Training loss: 1.0954   Testing loss: 1.0941   Train accuracy: 0.3662   Test accuracy: 0.3598  \n",
      "Epoch: 593/1000   Training loss: 1.0955   Testing loss: 1.0936   Train accuracy: 0.3621   Test accuracy: 0.3624  \n",
      "Epoch: 594/1000   Training loss: 1.0963   Testing loss: 1.0945   Train accuracy: 0.3630   Test accuracy: 0.3633  \n",
      "Epoch: 595/1000   Training loss: 1.0954   Testing loss: 1.0938   Train accuracy: 0.3661   Test accuracy: 0.3626  \n",
      "Epoch: 596/1000   Training loss: 1.0952   Testing loss: 1.0940   Train accuracy: 0.3683   Test accuracy: 0.3628  \n",
      "Epoch: 597/1000   Training loss: 1.0951   Testing loss: 1.0938   Train accuracy: 0.3670   Test accuracy: 0.3635  \n",
      "Epoch: 598/1000   Training loss: 1.0948   Testing loss: 1.0937   Train accuracy: 0.3743   Test accuracy: 0.3675  \n",
      "Epoch: 599/1000   Training loss: 1.0956   Testing loss: 1.0934   Train accuracy: 0.3703   Test accuracy: 0.3656  \n",
      "Epoch: 600/1000   Training loss: 1.0950   Testing loss: 1.0940   Train accuracy: 0.3753   Test accuracy: 0.3687  \n",
      "Epoch: 601/1000   Training loss: 1.0948   Testing loss: 1.0934   Train accuracy: 0.3773   Test accuracy: 0.3675  \n",
      "Epoch: 602/1000   Training loss: 1.0951   Testing loss: 1.0932   Train accuracy: 0.3727   Test accuracy: 0.3649  \n",
      "Epoch: 603/1000   Training loss: 1.0958   Testing loss: 1.0935   Train accuracy: 0.3703   Test accuracy: 0.3640  \n",
      "Epoch: 604/1000   Training loss: 1.0954   Testing loss: 1.0937   Train accuracy: 0.3687   Test accuracy: 0.3633  \n",
      "Epoch: 605/1000   Training loss: 1.0954   Testing loss: 1.0934   Train accuracy: 0.3640   Test accuracy: 0.3642  \n",
      "Epoch: 606/1000   Training loss: 1.0954   Testing loss: 1.0940   Train accuracy: 0.3726   Test accuracy: 0.3638  \n",
      "Epoch: 607/1000   Training loss: 1.0960   Testing loss: 1.0942   Train accuracy: 0.3604   Test accuracy: 0.3614  \n",
      "Epoch: 608/1000   Training loss: 1.0960   Testing loss: 1.0936   Train accuracy: 0.3631   Test accuracy: 0.3612  \n",
      "Epoch: 609/1000   Training loss: 1.0958   Testing loss: 1.0936   Train accuracy: 0.3669   Test accuracy: 0.3626  \n",
      "Epoch: 610/1000   Training loss: 1.0949   Testing loss: 1.0938   Train accuracy: 0.3691   Test accuracy: 0.3656  \n",
      "Epoch: 611/1000   Training loss: 1.0957   Testing loss: 1.0940   Train accuracy: 0.3689   Test accuracy: 0.3654  \n",
      "Epoch: 612/1000   Training loss: 1.0957   Testing loss: 1.0931   Train accuracy: 0.3625   Test accuracy: 0.3649  \n",
      "Epoch: 613/1000   Training loss: 1.0954   Testing loss: 1.0937   Train accuracy: 0.3678   Test accuracy: 0.3652  \n",
      "Epoch: 614/1000   Training loss: 1.0947   Testing loss: 1.0934   Train accuracy: 0.3730   Test accuracy: 0.3678  \n",
      "Epoch: 615/1000   Training loss: 1.0955   Testing loss: 1.0941   Train accuracy: 0.3692   Test accuracy: 0.3673  \n",
      "Epoch: 616/1000   Training loss: 1.0940   Testing loss: 1.0935   Train accuracy: 0.3724   Test accuracy: 0.3687  \n",
      "Epoch: 617/1000   Training loss: 1.0953   Testing loss: 1.0940   Train accuracy: 0.3739   Test accuracy: 0.3687  \n",
      "Epoch: 618/1000   Training loss: 1.0957   Testing loss: 1.0934   Train accuracy: 0.3711   Test accuracy: 0.3685  \n",
      "Epoch: 619/1000   Training loss: 1.0956   Testing loss: 1.0930   Train accuracy: 0.3722   Test accuracy: 0.3692  \n",
      "Epoch: 620/1000   Training loss: 1.0954   Testing loss: 1.0931   Train accuracy: 0.3771   Test accuracy: 0.3687  \n",
      "Epoch: 621/1000   Training loss: 1.0958   Testing loss: 1.0927   Train accuracy: 0.3729   Test accuracy: 0.3692  \n",
      "Epoch: 622/1000   Training loss: 1.0955   Testing loss: 1.0934   Train accuracy: 0.3737   Test accuracy: 0.3701  \n",
      "Epoch: 623/1000   Training loss: 1.0956   Testing loss: 1.0938   Train accuracy: 0.3704   Test accuracy: 0.3682  \n",
      "Epoch: 624/1000   Training loss: 1.0958   Testing loss: 1.0935   Train accuracy: 0.3694   Test accuracy: 0.3694  \n",
      "Epoch: 625/1000   Training loss: 1.0964   Testing loss: 1.0937   Train accuracy: 0.3697   Test accuracy: 0.3689  \n",
      "Epoch: 626/1000   Training loss: 1.0956   Testing loss: 1.0937   Train accuracy: 0.3710   Test accuracy: 0.3687  \n",
      "Epoch: 627/1000   Training loss: 1.0953   Testing loss: 1.0939   Train accuracy: 0.3696   Test accuracy: 0.3687  \n",
      "Epoch: 628/1000   Training loss: 1.0958   Testing loss: 1.0931   Train accuracy: 0.3719   Test accuracy: 0.3699  \n",
      "Epoch: 629/1000   Training loss: 1.0952   Testing loss: 1.0930   Train accuracy: 0.3746   Test accuracy: 0.3699  \n",
      "Epoch: 630/1000   Training loss: 1.0960   Testing loss: 1.0939   Train accuracy: 0.3676   Test accuracy: 0.3692  \n",
      "Epoch: 631/1000   Training loss: 1.0951   Testing loss: 1.0934   Train accuracy: 0.3760   Test accuracy: 0.3694  \n",
      "Epoch: 632/1000   Training loss: 1.0962   Testing loss: 1.0935   Train accuracy: 0.3666   Test accuracy: 0.3675  \n",
      "Epoch: 633/1000   Training loss: 1.0951   Testing loss: 1.0942   Train accuracy: 0.3691   Test accuracy: 0.3685  \n",
      "Epoch: 634/1000   Training loss: 1.0957   Testing loss: 1.0935   Train accuracy: 0.3697   Test accuracy: 0.3682  \n",
      "Epoch: 635/1000   Training loss: 1.0953   Testing loss: 1.0937   Train accuracy: 0.3764   Test accuracy: 0.3687  \n",
      "Epoch: 636/1000   Training loss: 1.0950   Testing loss: 1.0932   Train accuracy: 0.3661   Test accuracy: 0.3687  \n",
      "Epoch: 637/1000   Training loss: 1.0952   Testing loss: 1.0936   Train accuracy: 0.3708   Test accuracy: 0.3701  \n",
      "Epoch: 638/1000   Training loss: 1.0951   Testing loss: 1.0934   Train accuracy: 0.3773   Test accuracy: 0.3696  \n",
      "Epoch: 639/1000   Training loss: 1.0950   Testing loss: 1.0935   Train accuracy: 0.3754   Test accuracy: 0.3696  \n",
      "Epoch: 640/1000   Training loss: 1.0952   Testing loss: 1.0933   Train accuracy: 0.3700   Test accuracy: 0.3701  \n",
      "Epoch: 641/1000   Training loss: 1.0958   Testing loss: 1.0934   Train accuracy: 0.3657   Test accuracy: 0.3682  \n",
      "Epoch: 642/1000   Training loss: 1.0958   Testing loss: 1.0935   Train accuracy: 0.3691   Test accuracy: 0.3666  \n",
      "Epoch: 643/1000   Training loss: 1.0958   Testing loss: 1.0940   Train accuracy: 0.3638   Test accuracy: 0.3666  \n",
      "Epoch: 644/1000   Training loss: 1.0944   Testing loss: 1.0931   Train accuracy: 0.3774   Test accuracy: 0.3696  \n",
      "Epoch: 645/1000   Training loss: 1.0946   Testing loss: 1.0924   Train accuracy: 0.3816   Test accuracy: 0.3718  \n",
      "Epoch: 646/1000   Training loss: 1.0949   Testing loss: 1.0932   Train accuracy: 0.3743   Test accuracy: 0.3689  \n",
      "Epoch: 647/1000   Training loss: 1.0945   Testing loss: 1.0931   Train accuracy: 0.3796   Test accuracy: 0.3696  \n",
      "Epoch: 648/1000   Training loss: 1.0947   Testing loss: 1.0939   Train accuracy: 0.3767   Test accuracy: 0.3694  \n",
      "Epoch: 649/1000   Training loss: 1.0945   Testing loss: 1.0930   Train accuracy: 0.3793   Test accuracy: 0.3715  \n"
     ]
    },
    {
     "name": "stdout",
     "output_type": "stream",
     "text": [
      "Epoch: 650/1000   Training loss: 1.0955   Testing loss: 1.0934   Train accuracy: 0.3759   Test accuracy: 0.3722  \n",
      "Epoch: 651/1000   Training loss: 1.0954   Testing loss: 1.0936   Train accuracy: 0.3753   Test accuracy: 0.3722  \n",
      "Epoch: 652/1000   Training loss: 1.0950   Testing loss: 1.0931   Train accuracy: 0.3780   Test accuracy: 0.3720  \n",
      "Epoch: 653/1000   Training loss: 1.0950   Testing loss: 1.0935   Train accuracy: 0.3800   Test accuracy: 0.3718  \n",
      "Epoch: 654/1000   Training loss: 1.0949   Testing loss: 1.0932   Train accuracy: 0.3766   Test accuracy: 0.3708  \n",
      "Epoch: 655/1000   Training loss: 1.0945   Testing loss: 1.0936   Train accuracy: 0.3820   Test accuracy: 0.3729  \n",
      "Epoch: 656/1000   Training loss: 1.0949   Testing loss: 1.0932   Train accuracy: 0.3797   Test accuracy: 0.3725  \n",
      "Epoch: 657/1000   Training loss: 1.0951   Testing loss: 1.0933   Train accuracy: 0.3829   Test accuracy: 0.3732  \n",
      "Epoch: 658/1000   Training loss: 1.0957   Testing loss: 1.0932   Train accuracy: 0.3755   Test accuracy: 0.3713  \n",
      "Epoch: 659/1000   Training loss: 1.0946   Testing loss: 1.0932   Train accuracy: 0.3741   Test accuracy: 0.3699  \n",
      "Epoch: 660/1000   Training loss: 1.0944   Testing loss: 1.0933   Train accuracy: 0.3801   Test accuracy: 0.3722  \n",
      "Epoch: 661/1000   Training loss: 1.0952   Testing loss: 1.0938   Train accuracy: 0.3767   Test accuracy: 0.3711  \n",
      "Epoch: 662/1000   Training loss: 1.0952   Testing loss: 1.0937   Train accuracy: 0.3796   Test accuracy: 0.3713  \n",
      "Epoch: 663/1000   Training loss: 1.0953   Testing loss: 1.0936   Train accuracy: 0.3774   Test accuracy: 0.3729  \n",
      "Epoch: 664/1000   Training loss: 1.0955   Testing loss: 1.0936   Train accuracy: 0.3747   Test accuracy: 0.3725  \n",
      "Epoch: 665/1000   Training loss: 1.0948   Testing loss: 1.0934   Train accuracy: 0.3780   Test accuracy: 0.3729  \n",
      "Epoch: 666/1000   Training loss: 1.0947   Testing loss: 1.0936   Train accuracy: 0.3834   Test accuracy: 0.3725  \n",
      "Epoch: 667/1000   Training loss: 1.0957   Testing loss: 1.0934   Train accuracy: 0.3788   Test accuracy: 0.3720  \n",
      "Epoch: 668/1000   Training loss: 1.0945   Testing loss: 1.0930   Train accuracy: 0.3841   Test accuracy: 0.3741  \n",
      "Epoch: 669/1000   Training loss: 1.0946   Testing loss: 1.0937   Train accuracy: 0.3809   Test accuracy: 0.3746  \n",
      "Epoch: 670/1000   Training loss: 1.0938   Testing loss: 1.0935   Train accuracy: 0.3839   Test accuracy: 0.3760  \n",
      "Epoch: 671/1000   Training loss: 1.0945   Testing loss: 1.0933   Train accuracy: 0.3825   Test accuracy: 0.3758  \n",
      "Epoch: 672/1000   Training loss: 1.0945   Testing loss: 1.0933   Train accuracy: 0.3824   Test accuracy: 0.3748  \n",
      "Epoch: 673/1000   Training loss: 1.0942   Testing loss: 1.0930   Train accuracy: 0.3794   Test accuracy: 0.3725  \n",
      "Epoch: 674/1000   Training loss: 1.0947   Testing loss: 1.0932   Train accuracy: 0.3763   Test accuracy: 0.3711  \n",
      "Epoch: 675/1000   Training loss: 1.0946   Testing loss: 1.0937   Train accuracy: 0.3776   Test accuracy: 0.3722  \n",
      "Epoch: 676/1000   Training loss: 1.0951   Testing loss: 1.0933   Train accuracy: 0.3774   Test accuracy: 0.3722  \n",
      "Epoch: 677/1000   Training loss: 1.0949   Testing loss: 1.0935   Train accuracy: 0.3795   Test accuracy: 0.3729  \n",
      "Epoch: 678/1000   Training loss: 1.0953   Testing loss: 1.0934   Train accuracy: 0.3791   Test accuracy: 0.3725  \n",
      "Epoch: 679/1000   Training loss: 1.0947   Testing loss: 1.0935   Train accuracy: 0.3753   Test accuracy: 0.3722  \n",
      "Epoch: 680/1000   Training loss: 1.0943   Testing loss: 1.0932   Train accuracy: 0.3810   Test accuracy: 0.3751  \n",
      "Epoch: 681/1000   Training loss: 1.0950   Testing loss: 1.0937   Train accuracy: 0.3844   Test accuracy: 0.3760  \n",
      "Epoch: 682/1000   Training loss: 1.0949   Testing loss: 1.0939   Train accuracy: 0.3793   Test accuracy: 0.3744  \n",
      "Epoch: 683/1000   Training loss: 1.0937   Testing loss: 1.0927   Train accuracy: 0.3861   Test accuracy: 0.3755  \n",
      "Epoch: 684/1000   Training loss: 1.0944   Testing loss: 1.0933   Train accuracy: 0.3887   Test accuracy: 0.3776  \n",
      "Epoch: 685/1000   Training loss: 1.0953   Testing loss: 1.0936   Train accuracy: 0.3850   Test accuracy: 0.3732  \n",
      "Epoch: 686/1000   Training loss: 1.0950   Testing loss: 1.0934   Train accuracy: 0.3813   Test accuracy: 0.3739  \n",
      "Epoch: 687/1000   Training loss: 1.0952   Testing loss: 1.0936   Train accuracy: 0.3767   Test accuracy: 0.3734  \n",
      "Epoch: 688/1000   Training loss: 1.0944   Testing loss: 1.0934   Train accuracy: 0.3841   Test accuracy: 0.3779  \n",
      "Epoch: 689/1000   Training loss: 1.0949   Testing loss: 1.0937   Train accuracy: 0.3860   Test accuracy: 0.3729  \n",
      "Epoch: 690/1000   Training loss: 1.0948   Testing loss: 1.0935   Train accuracy: 0.3810   Test accuracy: 0.3744  \n",
      "Epoch: 691/1000   Training loss: 1.0942   Testing loss: 1.0933   Train accuracy: 0.3820   Test accuracy: 0.3755  \n",
      "Epoch: 692/1000   Training loss: 1.0943   Testing loss: 1.0936   Train accuracy: 0.3879   Test accuracy: 0.3774  \n",
      "Epoch: 693/1000   Training loss: 1.0952   Testing loss: 1.0934   Train accuracy: 0.3800   Test accuracy: 0.3753  \n",
      "Epoch: 694/1000   Training loss: 1.0941   Testing loss: 1.0934   Train accuracy: 0.3827   Test accuracy: 0.3760  \n",
      "Epoch: 695/1000   Training loss: 1.0936   Testing loss: 1.0939   Train accuracy: 0.3918   Test accuracy: 0.3786  \n",
      "Epoch: 696/1000   Training loss: 1.0950   Testing loss: 1.0931   Train accuracy: 0.3869   Test accuracy: 0.3765  \n",
      "Epoch: 697/1000   Training loss: 1.0941   Testing loss: 1.0933   Train accuracy: 0.3864   Test accuracy: 0.3762  \n",
      "Epoch: 698/1000   Training loss: 1.0948   Testing loss: 1.0930   Train accuracy: 0.3846   Test accuracy: 0.3774  \n",
      "Epoch: 699/1000   Training loss: 1.0948   Testing loss: 1.0930   Train accuracy: 0.3855   Test accuracy: 0.3772  \n",
      "Epoch: 700/1000   Training loss: 1.0945   Testing loss: 1.0935   Train accuracy: 0.3864   Test accuracy: 0.3786  \n",
      "Epoch: 701/1000   Training loss: 1.0952   Testing loss: 1.0933   Train accuracy: 0.3782   Test accuracy: 0.3736  \n",
      "Epoch: 702/1000   Training loss: 1.0953   Testing loss: 1.0928   Train accuracy: 0.3833   Test accuracy: 0.3746  \n",
      "Epoch: 703/1000   Training loss: 1.0945   Testing loss: 1.0930   Train accuracy: 0.3857   Test accuracy: 0.3793  \n",
      "Epoch: 704/1000   Training loss: 1.0944   Testing loss: 1.0932   Train accuracy: 0.3828   Test accuracy: 0.3774  \n",
      "Epoch: 705/1000   Training loss: 1.0954   Testing loss: 1.0937   Train accuracy: 0.3799   Test accuracy: 0.3746  \n",
      "Epoch: 706/1000   Training loss: 1.0948   Testing loss: 1.0935   Train accuracy: 0.3765   Test accuracy: 0.3748  \n",
      "Epoch: 707/1000   Training loss: 1.0941   Testing loss: 1.0930   Train accuracy: 0.3801   Test accuracy: 0.3741  \n",
      "Epoch: 708/1000   Training loss: 1.0945   Testing loss: 1.0937   Train accuracy: 0.3849   Test accuracy: 0.3753  \n",
      "Epoch: 709/1000   Training loss: 1.0944   Testing loss: 1.0931   Train accuracy: 0.3814   Test accuracy: 0.3762  \n",
      "Epoch: 710/1000   Training loss: 1.0956   Testing loss: 1.0934   Train accuracy: 0.3804   Test accuracy: 0.3748  \n",
      "Epoch: 711/1000   Training loss: 1.0954   Testing loss: 1.0937   Train accuracy: 0.3816   Test accuracy: 0.3732  \n",
      "Epoch: 712/1000   Training loss: 1.0946   Testing loss: 1.0933   Train accuracy: 0.3864   Test accuracy: 0.3769  \n",
      "Epoch: 713/1000   Training loss: 1.0945   Testing loss: 1.0933   Train accuracy: 0.3800   Test accuracy: 0.3762  \n",
      "Epoch: 714/1000   Training loss: 1.0947   Testing loss: 1.0938   Train accuracy: 0.3810   Test accuracy: 0.3781  \n",
      "Epoch: 715/1000   Training loss: 1.0938   Testing loss: 1.0934   Train accuracy: 0.3846   Test accuracy: 0.3781  \n",
      "Epoch: 716/1000   Training loss: 1.0940   Testing loss: 1.0933   Train accuracy: 0.3893   Test accuracy: 0.3814  \n",
      "Epoch: 717/1000   Training loss: 1.0937   Testing loss: 1.0930   Train accuracy: 0.3891   Test accuracy: 0.3824  \n",
      "Epoch: 718/1000   Training loss: 1.0945   Testing loss: 1.0932   Train accuracy: 0.3874   Test accuracy: 0.3795  \n",
      "Epoch: 719/1000   Training loss: 1.0946   Testing loss: 1.0931   Train accuracy: 0.3800   Test accuracy: 0.3774  \n",
      "Epoch: 720/1000   Training loss: 1.0945   Testing loss: 1.0930   Train accuracy: 0.3807   Test accuracy: 0.3774  \n",
      "Epoch: 721/1000   Training loss: 1.0946   Testing loss: 1.0935   Train accuracy: 0.3834   Test accuracy: 0.3739  \n"
     ]
    },
    {
     "name": "stdout",
     "output_type": "stream",
     "text": [
      "Epoch: 722/1000   Training loss: 1.0936   Testing loss: 1.0933   Train accuracy: 0.3830   Test accuracy: 0.3784  \n",
      "Epoch: 723/1000   Training loss: 1.0944   Testing loss: 1.0937   Train accuracy: 0.3849   Test accuracy: 0.3821  \n",
      "Epoch: 724/1000   Training loss: 1.0947   Testing loss: 1.0937   Train accuracy: 0.3863   Test accuracy: 0.3776  \n",
      "Epoch: 725/1000   Training loss: 1.0946   Testing loss: 1.0934   Train accuracy: 0.3811   Test accuracy: 0.3765  \n",
      "Epoch: 726/1000   Training loss: 1.0946   Testing loss: 1.0929   Train accuracy: 0.3836   Test accuracy: 0.3781  \n",
      "Epoch: 727/1000   Training loss: 1.0941   Testing loss: 1.0936   Train accuracy: 0.3867   Test accuracy: 0.3779  \n",
      "Epoch: 728/1000   Training loss: 1.0946   Testing loss: 1.0932   Train accuracy: 0.3904   Test accuracy: 0.3784  \n",
      "Epoch: 729/1000   Training loss: 1.0948   Testing loss: 1.0933   Train accuracy: 0.3920   Test accuracy: 0.3842  \n",
      "Epoch: 730/1000   Training loss: 1.0945   Testing loss: 1.0928   Train accuracy: 0.3870   Test accuracy: 0.3791  \n",
      "Epoch: 731/1000   Training loss: 1.0946   Testing loss: 1.0939   Train accuracy: 0.3844   Test accuracy: 0.3779  \n",
      "Epoch: 732/1000   Training loss: 1.0939   Testing loss: 1.0937   Train accuracy: 0.3853   Test accuracy: 0.3805  \n",
      "Epoch: 733/1000   Training loss: 1.0947   Testing loss: 1.0936   Train accuracy: 0.3828   Test accuracy: 0.3762  \n",
      "Epoch: 734/1000   Training loss: 1.0945   Testing loss: 1.0931   Train accuracy: 0.3850   Test accuracy: 0.3819  \n",
      "Epoch: 735/1000   Training loss: 1.0941   Testing loss: 1.0931   Train accuracy: 0.3915   Test accuracy: 0.3852  \n",
      "Epoch: 736/1000   Training loss: 1.0943   Testing loss: 1.0929   Train accuracy: 0.3887   Test accuracy: 0.3849  \n",
      "Epoch: 737/1000   Training loss: 1.0942   Testing loss: 1.0927   Train accuracy: 0.3926   Test accuracy: 0.3840  \n",
      "Epoch: 738/1000   Training loss: 1.0939   Testing loss: 1.0933   Train accuracy: 0.3911   Test accuracy: 0.3821  \n",
      "Epoch: 739/1000   Training loss: 1.0940   Testing loss: 1.0935   Train accuracy: 0.3912   Test accuracy: 0.3842  \n",
      "Epoch: 740/1000   Training loss: 1.0938   Testing loss: 1.0932   Train accuracy: 0.3912   Test accuracy: 0.3845  \n",
      "Epoch: 741/1000   Training loss: 1.0946   Testing loss: 1.0931   Train accuracy: 0.3900   Test accuracy: 0.3847  \n",
      "Epoch: 742/1000   Training loss: 1.0943   Testing loss: 1.0934   Train accuracy: 0.3904   Test accuracy: 0.3838  \n",
      "Epoch: 743/1000   Training loss: 1.0940   Testing loss: 1.0922   Train accuracy: 0.3894   Test accuracy: 0.3864  \n",
      "Epoch: 744/1000   Training loss: 1.0947   Testing loss: 1.0926   Train accuracy: 0.3924   Test accuracy: 0.3864  \n",
      "Epoch: 745/1000   Training loss: 1.0936   Testing loss: 1.0932   Train accuracy: 0.3947   Test accuracy: 0.3880  \n",
      "Epoch: 746/1000   Training loss: 1.0945   Testing loss: 1.0934   Train accuracy: 0.3942   Test accuracy: 0.3875  \n",
      "Epoch: 747/1000   Training loss: 1.0944   Testing loss: 1.0933   Train accuracy: 0.3886   Test accuracy: 0.3871  \n",
      "Epoch: 748/1000   Training loss: 1.0936   Testing loss: 1.0936   Train accuracy: 0.3979   Test accuracy: 0.3878  \n",
      "Epoch: 749/1000   Training loss: 1.0941   Testing loss: 1.0936   Train accuracy: 0.3954   Test accuracy: 0.3885  \n",
      "Epoch: 750/1000   Training loss: 1.0933   Testing loss: 1.0930   Train accuracy: 0.3952   Test accuracy: 0.3904  \n",
      "Epoch: 751/1000   Training loss: 1.0946   Testing loss: 1.0942   Train accuracy: 0.3929   Test accuracy: 0.3868  \n",
      "Epoch: 752/1000   Training loss: 1.0927   Testing loss: 1.0924   Train accuracy: 0.3967   Test accuracy: 0.3887  \n",
      "Epoch: 753/1000   Training loss: 1.0943   Testing loss: 1.0928   Train accuracy: 0.3940   Test accuracy: 0.3887  \n",
      "Epoch: 754/1000   Training loss: 1.0942   Testing loss: 1.0932   Train accuracy: 0.3902   Test accuracy: 0.3873  \n",
      "Epoch: 755/1000   Training loss: 1.0936   Testing loss: 1.0933   Train accuracy: 0.3970   Test accuracy: 0.3887  \n",
      "Epoch: 756/1000   Training loss: 1.0945   Testing loss: 1.0919   Train accuracy: 0.3962   Test accuracy: 0.3868  \n",
      "Epoch: 757/1000   Training loss: 1.0945   Testing loss: 1.0930   Train accuracy: 0.3907   Test accuracy: 0.3847  \n",
      "Epoch: 758/1000   Training loss: 1.0943   Testing loss: 1.0934   Train accuracy: 0.3918   Test accuracy: 0.3828  \n",
      "Epoch: 759/1000   Training loss: 1.0942   Testing loss: 1.0934   Train accuracy: 0.3873   Test accuracy: 0.3812  \n",
      "Epoch: 760/1000   Training loss: 1.0936   Testing loss: 1.0937   Train accuracy: 0.3964   Test accuracy: 0.3871  \n",
      "Epoch: 761/1000   Training loss: 1.0940   Testing loss: 1.0935   Train accuracy: 0.3962   Test accuracy: 0.3864  \n",
      "Epoch: 762/1000   Training loss: 1.0943   Testing loss: 1.0935   Train accuracy: 0.3930   Test accuracy: 0.3887  \n",
      "Epoch: 763/1000   Training loss: 1.0941   Testing loss: 1.0932   Train accuracy: 0.3915   Test accuracy: 0.3866  \n",
      "Epoch: 764/1000   Training loss: 1.0942   Testing loss: 1.0931   Train accuracy: 0.3903   Test accuracy: 0.3838  \n",
      "Epoch: 765/1000   Training loss: 1.0936   Testing loss: 1.0941   Train accuracy: 0.3884   Test accuracy: 0.3871  \n",
      "Epoch: 766/1000   Training loss: 1.0938   Testing loss: 1.0933   Train accuracy: 0.3915   Test accuracy: 0.3861  \n",
      "Epoch: 767/1000   Training loss: 1.0939   Testing loss: 1.0934   Train accuracy: 0.3922   Test accuracy: 0.3868  \n",
      "Epoch: 768/1000   Training loss: 1.0933   Testing loss: 1.0930   Train accuracy: 0.3920   Test accuracy: 0.3915  \n",
      "Epoch: 769/1000   Training loss: 1.0937   Testing loss: 1.0935   Train accuracy: 0.3967   Test accuracy: 0.3864  \n",
      "Epoch: 770/1000   Training loss: 1.0935   Testing loss: 1.0938   Train accuracy: 0.3909   Test accuracy: 0.3864  \n",
      "Epoch: 771/1000   Training loss: 1.0932   Testing loss: 1.0937   Train accuracy: 0.3947   Test accuracy: 0.3901  \n",
      "Epoch: 772/1000   Training loss: 1.0939   Testing loss: 1.0931   Train accuracy: 0.3933   Test accuracy: 0.3941  \n",
      "Epoch: 773/1000   Training loss: 1.0941   Testing loss: 1.0934   Train accuracy: 0.3922   Test accuracy: 0.3845  \n",
      "Epoch: 774/1000   Training loss: 1.0940   Testing loss: 1.0934   Train accuracy: 0.3867   Test accuracy: 0.3821  \n",
      "Epoch: 775/1000   Training loss: 1.0945   Testing loss: 1.0933   Train accuracy: 0.3918   Test accuracy: 0.3856  \n",
      "Epoch: 776/1000   Training loss: 1.0944   Testing loss: 1.0936   Train accuracy: 0.3972   Test accuracy: 0.3873  \n",
      "Epoch: 777/1000   Training loss: 1.0929   Testing loss: 1.0934   Train accuracy: 0.3940   Test accuracy: 0.3932  \n",
      "Epoch: 778/1000   Training loss: 1.0935   Testing loss: 1.0933   Train accuracy: 0.3968   Test accuracy: 0.3955  \n",
      "Epoch: 779/1000   Training loss: 1.0935   Testing loss: 1.0928   Train accuracy: 0.3952   Test accuracy: 0.3960  \n",
      "Epoch: 780/1000   Training loss: 1.0936   Testing loss: 1.0929   Train accuracy: 0.3973   Test accuracy: 0.3993  \n",
      "Epoch: 781/1000   Training loss: 1.0943   Testing loss: 1.0927   Train accuracy: 0.4012   Test accuracy: 0.4009  \n",
      "Epoch: 782/1000   Training loss: 1.0934   Testing loss: 1.0926   Train accuracy: 0.3967   Test accuracy: 0.3962  \n",
      "Epoch: 783/1000   Training loss: 1.0946   Testing loss: 1.0933   Train accuracy: 0.3911   Test accuracy: 0.3929  \n",
      "Epoch: 784/1000   Training loss: 1.0942   Testing loss: 1.0931   Train accuracy: 0.3933   Test accuracy: 0.3941  \n",
      "Epoch: 785/1000   Training loss: 1.0940   Testing loss: 1.0932   Train accuracy: 0.3923   Test accuracy: 0.3944  \n",
      "Epoch: 786/1000   Training loss: 1.0932   Testing loss: 1.0934   Train accuracy: 0.3924   Test accuracy: 0.3951  \n",
      "Epoch: 787/1000   Training loss: 1.0945   Testing loss: 1.0928   Train accuracy: 0.3922   Test accuracy: 0.3967  \n",
      "Epoch: 788/1000   Training loss: 1.0925   Testing loss: 1.0938   Train accuracy: 0.3981   Test accuracy: 0.3953  \n",
      "Epoch: 789/1000   Training loss: 1.0935   Testing loss: 1.0934   Train accuracy: 0.3963   Test accuracy: 0.3951  \n",
      "Epoch: 790/1000   Training loss: 1.0938   Testing loss: 1.0933   Train accuracy: 0.3968   Test accuracy: 0.3951  \n",
      "Epoch: 791/1000   Training loss: 1.0938   Testing loss: 1.0929   Train accuracy: 0.3966   Test accuracy: 0.3948  \n",
      "Epoch: 792/1000   Training loss: 1.0938   Testing loss: 1.0933   Train accuracy: 0.3863   Test accuracy: 0.3833  \n",
      "Epoch: 793/1000   Training loss: 1.0936   Testing loss: 1.0931   Train accuracy: 0.3900   Test accuracy: 0.3939  \n"
     ]
    },
    {
     "name": "stdout",
     "output_type": "stream",
     "text": [
      "Epoch: 794/1000   Training loss: 1.0944   Testing loss: 1.0930   Train accuracy: 0.3912   Test accuracy: 0.3915  \n",
      "Epoch: 795/1000   Training loss: 1.0933   Testing loss: 1.0933   Train accuracy: 0.3909   Test accuracy: 0.3920  \n",
      "Epoch: 796/1000   Training loss: 1.0946   Testing loss: 1.0933   Train accuracy: 0.3899   Test accuracy: 0.3920  \n",
      "Epoch: 797/1000   Training loss: 1.0938   Testing loss: 1.0928   Train accuracy: 0.3899   Test accuracy: 0.3911  \n",
      "Epoch: 798/1000   Training loss: 1.0934   Testing loss: 1.0937   Train accuracy: 0.3930   Test accuracy: 0.3936  \n",
      "Epoch: 799/1000   Training loss: 1.0951   Testing loss: 1.0932   Train accuracy: 0.3864   Test accuracy: 0.3882  \n",
      "Epoch: 800/1000   Training loss: 1.0939   Testing loss: 1.0933   Train accuracy: 0.3884   Test accuracy: 0.3871  \n",
      "Epoch: 801/1000   Training loss: 1.0936   Testing loss: 1.0928   Train accuracy: 0.3904   Test accuracy: 0.3856  \n",
      "Epoch: 802/1000   Training loss: 1.0943   Testing loss: 1.0929   Train accuracy: 0.3886   Test accuracy: 0.3922  \n",
      "Epoch: 803/1000   Training loss: 1.0946   Testing loss: 1.0934   Train accuracy: 0.3893   Test accuracy: 0.3889  \n",
      "Epoch: 804/1000   Training loss: 1.0936   Testing loss: 1.0935   Train accuracy: 0.3928   Test accuracy: 0.3939  \n",
      "Epoch: 805/1000   Training loss: 1.0934   Testing loss: 1.0929   Train accuracy: 0.3986   Test accuracy: 0.3981  \n",
      "Epoch: 806/1000   Training loss: 1.0932   Testing loss: 1.0932   Train accuracy: 0.3963   Test accuracy: 0.3995  \n",
      "Epoch: 807/1000   Training loss: 1.0934   Testing loss: 1.0934   Train accuracy: 0.4007   Test accuracy: 0.3986  \n",
      "Epoch: 808/1000   Training loss: 1.0929   Testing loss: 1.0930   Train accuracy: 0.4019   Test accuracy: 0.4005  \n",
      "Epoch: 809/1000   Training loss: 1.0927   Testing loss: 1.0925   Train accuracy: 0.4039   Test accuracy: 0.4031  \n",
      "Epoch: 810/1000   Training loss: 1.0943   Testing loss: 1.0926   Train accuracy: 0.3954   Test accuracy: 0.3974  \n",
      "Epoch: 811/1000   Training loss: 1.0932   Testing loss: 1.0925   Train accuracy: 0.3992   Test accuracy: 0.3984  \n",
      "Epoch: 812/1000   Training loss: 1.0938   Testing loss: 1.0933   Train accuracy: 0.3979   Test accuracy: 0.3958  \n",
      "Epoch: 813/1000   Training loss: 1.0939   Testing loss: 1.0930   Train accuracy: 0.4021   Test accuracy: 0.4000  \n",
      "Epoch: 814/1000   Training loss: 1.0928   Testing loss: 1.0917   Train accuracy: 0.4036   Test accuracy: 0.4009  \n",
      "Epoch: 815/1000   Training loss: 1.0943   Testing loss: 1.0927   Train accuracy: 0.4013   Test accuracy: 0.3991  \n",
      "Epoch: 816/1000   Training loss: 1.0919   Testing loss: 1.0930   Train accuracy: 0.4030   Test accuracy: 0.3998  \n",
      "Epoch: 817/1000   Training loss: 1.0942   Testing loss: 1.0934   Train accuracy: 0.3997   Test accuracy: 0.3981  \n",
      "Epoch: 818/1000   Training loss: 1.0926   Testing loss: 1.0930   Train accuracy: 0.3999   Test accuracy: 0.3998  \n",
      "Epoch: 819/1000   Training loss: 1.0946   Testing loss: 1.0926   Train accuracy: 0.3969   Test accuracy: 0.3972  \n",
      "Epoch: 820/1000   Training loss: 1.0931   Testing loss: 1.0930   Train accuracy: 0.4062   Test accuracy: 0.4019  \n",
      "Epoch: 821/1000   Training loss: 1.0939   Testing loss: 1.0930   Train accuracy: 0.4002   Test accuracy: 0.4007  \n",
      "Epoch: 822/1000   Training loss: 1.0935   Testing loss: 1.0932   Train accuracy: 0.4037   Test accuracy: 0.4035  \n",
      "Epoch: 823/1000   Training loss: 1.0942   Testing loss: 1.0926   Train accuracy: 0.3994   Test accuracy: 0.4007  \n",
      "Epoch: 824/1000   Training loss: 1.0943   Testing loss: 1.0924   Train accuracy: 0.3859   Test accuracy: 0.3953  \n",
      "Epoch: 825/1000   Training loss: 1.0939   Testing loss: 1.0931   Train accuracy: 0.3870   Test accuracy: 0.3953  \n",
      "Epoch: 826/1000   Training loss: 1.0937   Testing loss: 1.0930   Train accuracy: 0.3969   Test accuracy: 0.4012  \n",
      "Epoch: 827/1000   Training loss: 1.0930   Testing loss: 1.0929   Train accuracy: 0.3990   Test accuracy: 0.4012  \n",
      "Epoch: 828/1000   Training loss: 1.0932   Testing loss: 1.0932   Train accuracy: 0.3990   Test accuracy: 0.4035  \n",
      "Epoch: 829/1000   Training loss: 1.0923   Testing loss: 1.0928   Train accuracy: 0.4024   Test accuracy: 0.4059  \n",
      "Epoch: 830/1000   Training loss: 1.0935   Testing loss: 1.0933   Train accuracy: 0.3960   Test accuracy: 0.4042  \n",
      "Epoch: 831/1000   Training loss: 1.0942   Testing loss: 1.0926   Train accuracy: 0.3987   Test accuracy: 0.4042  \n",
      "Epoch: 832/1000   Training loss: 1.0929   Testing loss: 1.0930   Train accuracy: 0.3984   Test accuracy: 0.4042  \n",
      "Epoch: 833/1000   Training loss: 1.0927   Testing loss: 1.0930   Train accuracy: 0.4034   Test accuracy: 0.4024  \n",
      "Epoch: 834/1000   Training loss: 1.0932   Testing loss: 1.0930   Train accuracy: 0.4045   Test accuracy: 0.4056  \n",
      "Epoch: 835/1000   Training loss: 1.0939   Testing loss: 1.0925   Train accuracy: 0.3992   Test accuracy: 0.4024  \n",
      "Epoch: 836/1000   Training loss: 1.0935   Testing loss: 1.0921   Train accuracy: 0.3997   Test accuracy: 0.4038  \n",
      "Epoch: 837/1000   Training loss: 1.0933   Testing loss: 1.0932   Train accuracy: 0.3961   Test accuracy: 0.4005  \n",
      "Epoch: 838/1000   Training loss: 1.0937   Testing loss: 1.0929   Train accuracy: 0.4028   Test accuracy: 0.4047  \n",
      "Epoch: 839/1000   Training loss: 1.0932   Testing loss: 1.0936   Train accuracy: 0.4011   Test accuracy: 0.4049  \n",
      "Epoch: 840/1000   Training loss: 1.0938   Testing loss: 1.0930   Train accuracy: 0.3999   Test accuracy: 0.4040  \n",
      "Epoch: 841/1000   Training loss: 1.0938   Testing loss: 1.0934   Train accuracy: 0.3986   Test accuracy: 0.4038  \n",
      "Epoch: 842/1000   Training loss: 1.0931   Testing loss: 1.0928   Train accuracy: 0.4024   Test accuracy: 0.4031  \n",
      "Epoch: 843/1000   Training loss: 1.0946   Testing loss: 1.0928   Train accuracy: 0.3966   Test accuracy: 0.3993  \n",
      "Epoch: 844/1000   Training loss: 1.0941   Testing loss: 1.0928   Train accuracy: 0.4005   Test accuracy: 0.4028  \n",
      "Epoch: 845/1000   Training loss: 1.0941   Testing loss: 1.0924   Train accuracy: 0.3964   Test accuracy: 0.3993  \n",
      "Epoch: 846/1000   Training loss: 1.0943   Testing loss: 1.0927   Train accuracy: 0.3927   Test accuracy: 0.3993  \n",
      "Epoch: 847/1000   Training loss: 1.0919   Testing loss: 1.0923   Train accuracy: 0.4021   Test accuracy: 0.4024  \n",
      "Epoch: 848/1000   Training loss: 1.0936   Testing loss: 1.0930   Train accuracy: 0.4053   Test accuracy: 0.4033  \n",
      "Epoch: 849/1000   Training loss: 1.0934   Testing loss: 1.0932   Train accuracy: 0.3993   Test accuracy: 0.4031  \n",
      "Epoch: 850/1000   Training loss: 1.0938   Testing loss: 1.0930   Train accuracy: 0.4072   Test accuracy: 0.4021  \n",
      "Epoch: 851/1000   Training loss: 1.0938   Testing loss: 1.0929   Train accuracy: 0.4044   Test accuracy: 0.4049  \n",
      "Epoch: 852/1000   Training loss: 1.0935   Testing loss: 1.0928   Train accuracy: 0.4043   Test accuracy: 0.4052  \n",
      "Epoch: 853/1000   Training loss: 1.0933   Testing loss: 1.0927   Train accuracy: 0.4049   Test accuracy: 0.4061  \n",
      "Epoch: 854/1000   Training loss: 1.0928   Testing loss: 1.0925   Train accuracy: 0.4042   Test accuracy: 0.4031  \n",
      "Epoch: 855/1000   Training loss: 1.0937   Testing loss: 1.0930   Train accuracy: 0.3989   Test accuracy: 0.4033  \n",
      "Epoch: 856/1000   Training loss: 1.0934   Testing loss: 1.0927   Train accuracy: 0.4046   Test accuracy: 0.4061  \n",
      "Epoch: 857/1000   Training loss: 1.0930   Testing loss: 1.0917   Train accuracy: 0.4024   Test accuracy: 0.4056  \n",
      "Epoch: 858/1000   Training loss: 1.0935   Testing loss: 1.0928   Train accuracy: 0.4032   Test accuracy: 0.4059  \n",
      "Epoch: 859/1000   Training loss: 1.0930   Testing loss: 1.0927   Train accuracy: 0.3993   Test accuracy: 0.4009  \n",
      "Epoch: 860/1000   Training loss: 1.0935   Testing loss: 1.0927   Train accuracy: 0.3983   Test accuracy: 0.4026  \n",
      "Epoch: 861/1000   Training loss: 1.0934   Testing loss: 1.0921   Train accuracy: 0.4004   Test accuracy: 0.3995  \n",
      "Epoch: 862/1000   Training loss: 1.0923   Testing loss: 1.0927   Train accuracy: 0.4049   Test accuracy: 0.4042  \n",
      "Epoch: 863/1000   Training loss: 1.0940   Testing loss: 1.0935   Train accuracy: 0.3959   Test accuracy: 0.4007  \n",
      "Epoch: 864/1000   Training loss: 1.0932   Testing loss: 1.0928   Train accuracy: 0.3997   Test accuracy: 0.4021  \n",
      "Epoch: 865/1000   Training loss: 1.0926   Testing loss: 1.0923   Train accuracy: 0.4070   Test accuracy: 0.4049  \n"
     ]
    },
    {
     "name": "stdout",
     "output_type": "stream",
     "text": [
      "Epoch: 866/1000   Training loss: 1.0939   Testing loss: 1.0924   Train accuracy: 0.4047   Test accuracy: 0.4042  \n",
      "Epoch: 867/1000   Training loss: 1.0930   Testing loss: 1.0930   Train accuracy: 0.3987   Test accuracy: 0.4026  \n",
      "Epoch: 868/1000   Training loss: 1.0941   Testing loss: 1.0927   Train accuracy: 0.3983   Test accuracy: 0.3998  \n",
      "Epoch: 869/1000   Training loss: 1.0930   Testing loss: 1.0929   Train accuracy: 0.3967   Test accuracy: 0.3998  \n",
      "Epoch: 870/1000   Training loss: 1.0933   Testing loss: 1.0927   Train accuracy: 0.3994   Test accuracy: 0.4005  \n",
      "Epoch: 871/1000   Training loss: 1.0930   Testing loss: 1.0920   Train accuracy: 0.3980   Test accuracy: 0.4045  \n",
      "Epoch: 872/1000   Training loss: 1.0924   Testing loss: 1.0929   Train accuracy: 0.4057   Test accuracy: 0.4066  \n",
      "Epoch: 873/1000   Training loss: 1.0925   Testing loss: 1.0920   Train accuracy: 0.4067   Test accuracy: 0.4054  \n",
      "Epoch: 874/1000   Training loss: 1.0945   Testing loss: 1.0922   Train accuracy: 0.3999   Test accuracy: 0.4007  \n",
      "Epoch: 875/1000   Training loss: 1.0925   Testing loss: 1.0922   Train accuracy: 0.4009   Test accuracy: 0.4026  \n",
      "Epoch: 876/1000   Training loss: 1.0934   Testing loss: 1.0926   Train accuracy: 0.3997   Test accuracy: 0.4000  \n",
      "Epoch: 877/1000   Training loss: 1.0929   Testing loss: 1.0926   Train accuracy: 0.4016   Test accuracy: 0.4054  \n",
      "Epoch: 878/1000   Training loss: 1.0921   Testing loss: 1.0922   Train accuracy: 0.4044   Test accuracy: 0.4052  \n",
      "Epoch: 879/1000   Training loss: 1.0937   Testing loss: 1.0920   Train accuracy: 0.4007   Test accuracy: 0.3998  \n",
      "Epoch: 880/1000   Training loss: 1.0934   Testing loss: 1.0923   Train accuracy: 0.4030   Test accuracy: 0.3984  \n",
      "Epoch: 881/1000   Training loss: 1.0931   Testing loss: 1.0918   Train accuracy: 0.4055   Test accuracy: 0.4028  \n",
      "Epoch: 882/1000   Training loss: 1.0925   Testing loss: 1.0922   Train accuracy: 0.4053   Test accuracy: 0.4035  \n",
      "Epoch: 883/1000   Training loss: 1.0933   Testing loss: 1.0925   Train accuracy: 0.4016   Test accuracy: 0.4040  \n",
      "Epoch: 884/1000   Training loss: 1.0930   Testing loss: 1.0922   Train accuracy: 0.4028   Test accuracy: 0.4026  \n",
      "Epoch: 885/1000   Training loss: 1.0931   Testing loss: 1.0929   Train accuracy: 0.4060   Test accuracy: 0.4059  \n",
      "Epoch: 886/1000   Training loss: 1.0930   Testing loss: 1.0928   Train accuracy: 0.4039   Test accuracy: 0.4068  \n",
      "Epoch: 887/1000   Training loss: 1.0925   Testing loss: 1.0923   Train accuracy: 0.4022   Test accuracy: 0.4054  \n",
      "Epoch: 888/1000   Training loss: 1.0932   Testing loss: 1.0926   Train accuracy: 0.4002   Test accuracy: 0.4016  \n",
      "Epoch: 889/1000   Training loss: 1.0931   Testing loss: 1.0920   Train accuracy: 0.4001   Test accuracy: 0.4033  \n",
      "Epoch: 890/1000   Training loss: 1.0933   Testing loss: 1.0926   Train accuracy: 0.4005   Test accuracy: 0.4019  \n",
      "Epoch: 891/1000   Training loss: 1.0929   Testing loss: 1.0922   Train accuracy: 0.3971   Test accuracy: 0.3974  \n",
      "Epoch: 892/1000   Training loss: 1.0925   Testing loss: 1.0934   Train accuracy: 0.4004   Test accuracy: 0.3974  \n",
      "Epoch: 893/1000   Training loss: 1.0924   Testing loss: 1.0924   Train accuracy: 0.4009   Test accuracy: 0.4000  \n",
      "Epoch: 894/1000   Training loss: 1.0928   Testing loss: 1.0930   Train accuracy: 0.4029   Test accuracy: 0.3979  \n",
      "Epoch: 895/1000   Training loss: 1.0933   Testing loss: 1.0933   Train accuracy: 0.3993   Test accuracy: 0.3984  \n",
      "Epoch: 896/1000   Training loss: 1.0934   Testing loss: 1.0927   Train accuracy: 0.3976   Test accuracy: 0.3967  \n",
      "Epoch: 897/1000   Training loss: 1.0924   Testing loss: 1.0931   Train accuracy: 0.4023   Test accuracy: 0.4031  \n",
      "Epoch: 898/1000   Training loss: 1.0930   Testing loss: 1.0934   Train accuracy: 0.4089   Test accuracy: 0.4045  \n",
      "Epoch: 899/1000   Training loss: 1.0927   Testing loss: 1.0925   Train accuracy: 0.4040   Test accuracy: 0.4040  \n",
      "Epoch: 900/1000   Training loss: 1.0927   Testing loss: 1.0921   Train accuracy: 0.4047   Test accuracy: 0.4054  \n",
      "Epoch: 901/1000   Training loss: 1.0937   Testing loss: 1.0933   Train accuracy: 0.4026   Test accuracy: 0.4012  \n",
      "Epoch: 902/1000   Training loss: 1.0927   Testing loss: 1.0930   Train accuracy: 0.4020   Test accuracy: 0.4028  \n",
      "Epoch: 903/1000   Training loss: 1.0927   Testing loss: 1.0924   Train accuracy: 0.4023   Test accuracy: 0.4059  \n",
      "Epoch: 904/1000   Training loss: 1.0932   Testing loss: 1.0926   Train accuracy: 0.4026   Test accuracy: 0.4005  \n",
      "Epoch: 905/1000   Training loss: 1.0934   Testing loss: 1.0926   Train accuracy: 0.4016   Test accuracy: 0.3995  \n",
      "Epoch: 906/1000   Training loss: 1.0932   Testing loss: 1.0922   Train accuracy: 0.3999   Test accuracy: 0.4054  \n",
      "Epoch: 907/1000   Training loss: 1.0934   Testing loss: 1.0927   Train accuracy: 0.4036   Test accuracy: 0.4035  \n",
      "Epoch: 908/1000   Training loss: 1.0927   Testing loss: 1.0931   Train accuracy: 0.4036   Test accuracy: 0.4040  \n",
      "Epoch: 909/1000   Training loss: 1.0920   Testing loss: 1.0921   Train accuracy: 0.4067   Test accuracy: 0.4052  \n",
      "Epoch: 910/1000   Training loss: 1.0931   Testing loss: 1.0921   Train accuracy: 0.4043   Test accuracy: 0.4047  \n",
      "Epoch: 911/1000   Training loss: 1.0924   Testing loss: 1.0919   Train accuracy: 0.4039   Test accuracy: 0.4052  \n",
      "Epoch: 912/1000   Training loss: 1.0933   Testing loss: 1.0926   Train accuracy: 0.4016   Test accuracy: 0.4054  \n",
      "Epoch: 913/1000   Training loss: 1.0924   Testing loss: 1.0928   Train accuracy: 0.4083   Test accuracy: 0.4033  \n",
      "Epoch: 914/1000   Training loss: 1.0927   Testing loss: 1.0926   Train accuracy: 0.4039   Test accuracy: 0.4028  \n",
      "Epoch: 915/1000   Training loss: 1.0919   Testing loss: 1.0919   Train accuracy: 0.4109   Test accuracy: 0.4038  \n",
      "Epoch: 916/1000   Training loss: 1.0924   Testing loss: 1.0915   Train accuracy: 0.4026   Test accuracy: 0.4033  \n",
      "Epoch: 917/1000   Training loss: 1.0929   Testing loss: 1.0913   Train accuracy: 0.4014   Test accuracy: 0.4024  \n",
      "Epoch: 918/1000   Training loss: 1.0927   Testing loss: 1.0924   Train accuracy: 0.4072   Test accuracy: 0.4016  \n",
      "Epoch: 919/1000   Training loss: 1.0927   Testing loss: 1.0927   Train accuracy: 0.4018   Test accuracy: 0.4012  \n",
      "Epoch: 920/1000   Training loss: 1.0929   Testing loss: 1.0923   Train accuracy: 0.4017   Test accuracy: 0.4016  \n",
      "Epoch: 921/1000   Training loss: 1.0925   Testing loss: 1.0927   Train accuracy: 0.4066   Test accuracy: 0.4000  \n",
      "Epoch: 922/1000   Training loss: 1.0931   Testing loss: 1.0930   Train accuracy: 0.4027   Test accuracy: 0.3986  \n",
      "Epoch: 923/1000   Training loss: 1.0928   Testing loss: 1.0928   Train accuracy: 0.3994   Test accuracy: 0.3991  \n",
      "Epoch: 924/1000   Training loss: 1.0919   Testing loss: 1.0921   Train accuracy: 0.3997   Test accuracy: 0.3981  \n",
      "Epoch: 925/1000   Training loss: 1.0915   Testing loss: 1.0930   Train accuracy: 0.3970   Test accuracy: 0.4002  \n",
      "Epoch: 926/1000   Training loss: 1.0920   Testing loss: 1.0927   Train accuracy: 0.4066   Test accuracy: 0.4016  \n",
      "Epoch: 927/1000   Training loss: 1.0931   Testing loss: 1.0931   Train accuracy: 0.4034   Test accuracy: 0.3993  \n",
      "Epoch: 928/1000   Training loss: 1.0923   Testing loss: 1.0920   Train accuracy: 0.4052   Test accuracy: 0.3976  \n",
      "Epoch: 929/1000   Training loss: 1.0926   Testing loss: 1.0927   Train accuracy: 0.4038   Test accuracy: 0.3969  \n",
      "Epoch: 930/1000   Training loss: 1.0926   Testing loss: 1.0922   Train accuracy: 0.4057   Test accuracy: 0.4019  \n",
      "Epoch: 931/1000   Training loss: 1.0917   Testing loss: 1.0930   Train accuracy: 0.4053   Test accuracy: 0.3993  \n",
      "Epoch: 932/1000   Training loss: 1.0931   Testing loss: 1.0924   Train accuracy: 0.4027   Test accuracy: 0.4012  \n",
      "Epoch: 933/1000   Training loss: 1.0926   Testing loss: 1.0925   Train accuracy: 0.4062   Test accuracy: 0.4016  \n",
      "Epoch: 934/1000   Training loss: 1.0946   Testing loss: 1.0922   Train accuracy: 0.4003   Test accuracy: 0.3998  \n",
      "Epoch: 935/1000   Training loss: 1.0933   Testing loss: 1.0925   Train accuracy: 0.3990   Test accuracy: 0.3986  \n",
      "Epoch: 936/1000   Training loss: 1.0921   Testing loss: 1.0920   Train accuracy: 0.4024   Test accuracy: 0.4002  \n",
      "Epoch: 937/1000   Training loss: 1.0941   Testing loss: 1.0924   Train accuracy: 0.3987   Test accuracy: 0.4000  \n"
     ]
    },
    {
     "name": "stdout",
     "output_type": "stream",
     "text": [
      "Epoch: 938/1000   Training loss: 1.0929   Testing loss: 1.0928   Train accuracy: 0.4005   Test accuracy: 0.3991  \n",
      "Epoch: 939/1000   Training loss: 1.0925   Testing loss: 1.0932   Train accuracy: 0.4009   Test accuracy: 0.4005  \n",
      "Epoch: 940/1000   Training loss: 1.0925   Testing loss: 1.0924   Train accuracy: 0.4027   Test accuracy: 0.3969  \n",
      "Epoch: 941/1000   Training loss: 1.0924   Testing loss: 1.0927   Train accuracy: 0.4044   Test accuracy: 0.3998  \n",
      "Epoch: 942/1000   Training loss: 1.0931   Testing loss: 1.0922   Train accuracy: 0.3997   Test accuracy: 0.3993  \n",
      "Epoch: 943/1000   Training loss: 1.0924   Testing loss: 1.0926   Train accuracy: 0.4016   Test accuracy: 0.3991  \n",
      "Epoch: 944/1000   Training loss: 1.0929   Testing loss: 1.0932   Train accuracy: 0.4043   Test accuracy: 0.3986  \n",
      "Epoch: 945/1000   Training loss: 1.0920   Testing loss: 1.0931   Train accuracy: 0.4040   Test accuracy: 0.3986  \n",
      "Epoch: 946/1000   Training loss: 1.0925   Testing loss: 1.0928   Train accuracy: 0.4059   Test accuracy: 0.3986  \n",
      "Epoch: 947/1000   Training loss: 1.0924   Testing loss: 1.0929   Train accuracy: 0.4098   Test accuracy: 0.3998  \n",
      "Epoch: 948/1000   Training loss: 1.0924   Testing loss: 1.0931   Train accuracy: 0.4054   Test accuracy: 0.4005  \n",
      "Epoch: 949/1000   Training loss: 1.0925   Testing loss: 1.0927   Train accuracy: 0.4034   Test accuracy: 0.3981  \n",
      "Epoch: 950/1000   Training loss: 1.0910   Testing loss: 1.0931   Train accuracy: 0.4020   Test accuracy: 0.4009  \n",
      "Epoch: 951/1000   Training loss: 1.0924   Testing loss: 1.0927   Train accuracy: 0.3982   Test accuracy: 0.3984  \n",
      "Epoch: 952/1000   Training loss: 1.0908   Testing loss: 1.0926   Train accuracy: 0.4042   Test accuracy: 0.3998  \n",
      "Epoch: 953/1000   Training loss: 1.0919   Testing loss: 1.0925   Train accuracy: 0.4000   Test accuracy: 0.3991  \n",
      "Epoch: 954/1000   Training loss: 1.0919   Testing loss: 1.0923   Train accuracy: 0.4017   Test accuracy: 0.3976  \n",
      "Epoch: 955/1000   Training loss: 1.0920   Testing loss: 1.0933   Train accuracy: 0.4030   Test accuracy: 0.3981  \n",
      "Epoch: 956/1000   Training loss: 1.0938   Testing loss: 1.0933   Train accuracy: 0.4040   Test accuracy: 0.4000  \n",
      "Epoch: 957/1000   Training loss: 1.0925   Testing loss: 1.0922   Train accuracy: 0.4033   Test accuracy: 0.4009  \n",
      "Epoch: 958/1000   Training loss: 1.0921   Testing loss: 1.0927   Train accuracy: 0.4052   Test accuracy: 0.4009  \n",
      "Epoch: 959/1000   Training loss: 1.0913   Testing loss: 1.0931   Train accuracy: 0.4042   Test accuracy: 0.4007  \n",
      "Epoch: 960/1000   Training loss: 1.0931   Testing loss: 1.0932   Train accuracy: 0.4063   Test accuracy: 0.3988  \n",
      "Epoch: 961/1000   Training loss: 1.0922   Testing loss: 1.0929   Train accuracy: 0.4092   Test accuracy: 0.4005  \n",
      "Epoch: 962/1000   Training loss: 1.0918   Testing loss: 1.0927   Train accuracy: 0.4148   Test accuracy: 0.4019  \n",
      "Epoch: 963/1000   Training loss: 1.0922   Testing loss: 1.0928   Train accuracy: 0.4067   Test accuracy: 0.4009  \n",
      "Epoch: 964/1000   Training loss: 1.0915   Testing loss: 1.0925   Train accuracy: 0.4104   Test accuracy: 0.4012  \n",
      "Epoch: 965/1000   Training loss: 1.0921   Testing loss: 1.0923   Train accuracy: 0.4047   Test accuracy: 0.4007  \n",
      "Epoch: 966/1000   Training loss: 1.0916   Testing loss: 1.0927   Train accuracy: 0.4060   Test accuracy: 0.4000  \n",
      "Epoch: 967/1000   Training loss: 1.0923   Testing loss: 1.0924   Train accuracy: 0.4052   Test accuracy: 0.3995  \n",
      "Epoch: 968/1000   Training loss: 1.0932   Testing loss: 1.0928   Train accuracy: 0.3996   Test accuracy: 0.3993  \n",
      "Epoch: 969/1000   Training loss: 1.0920   Testing loss: 1.0922   Train accuracy: 0.4037   Test accuracy: 0.3993  \n",
      "Epoch: 970/1000   Training loss: 1.0922   Testing loss: 1.0926   Train accuracy: 0.4077   Test accuracy: 0.3991  \n",
      "Epoch: 971/1000   Training loss: 1.0925   Testing loss: 1.0929   Train accuracy: 0.4014   Test accuracy: 0.3998  \n",
      "Epoch: 972/1000   Training loss: 1.0919   Testing loss: 1.0923   Train accuracy: 0.4060   Test accuracy: 0.3986  \n",
      "Epoch: 973/1000   Training loss: 1.0914   Testing loss: 1.0932   Train accuracy: 0.4099   Test accuracy: 0.4007  \n",
      "Epoch: 974/1000   Training loss: 1.0915   Testing loss: 1.0926   Train accuracy: 0.4036   Test accuracy: 0.4000  \n",
      "Epoch: 975/1000   Training loss: 1.0916   Testing loss: 1.0927   Train accuracy: 0.4052   Test accuracy: 0.4007  \n",
      "Epoch: 976/1000   Training loss: 1.0919   Testing loss: 1.0926   Train accuracy: 0.4039   Test accuracy: 0.3993  \n",
      "Epoch: 977/1000   Training loss: 1.0923   Testing loss: 1.0927   Train accuracy: 0.4006   Test accuracy: 0.3991  \n",
      "Epoch: 978/1000   Training loss: 1.0929   Testing loss: 1.0931   Train accuracy: 0.3947   Test accuracy: 0.3951  \n",
      "Epoch: 979/1000   Training loss: 1.0921   Testing loss: 1.0930   Train accuracy: 0.4010   Test accuracy: 0.3958  \n",
      "Epoch: 980/1000   Training loss: 1.0918   Testing loss: 1.0916   Train accuracy: 0.4084   Test accuracy: 0.4000  \n",
      "Epoch: 981/1000   Training loss: 1.0926   Testing loss: 1.0925   Train accuracy: 0.4048   Test accuracy: 0.4000  \n",
      "Epoch: 982/1000   Training loss: 1.0920   Testing loss: 1.0923   Train accuracy: 0.4041   Test accuracy: 0.3998  \n",
      "Epoch: 983/1000   Training loss: 1.0912   Testing loss: 1.0924   Train accuracy: 0.4045   Test accuracy: 0.4000  \n",
      "Epoch: 984/1000   Training loss: 1.0916   Testing loss: 1.0933   Train accuracy: 0.4072   Test accuracy: 0.4007  \n",
      "Epoch: 985/1000   Training loss: 1.0921   Testing loss: 1.0928   Train accuracy: 0.4025   Test accuracy: 0.4009  \n",
      "Epoch: 986/1000   Training loss: 1.0915   Testing loss: 1.0921   Train accuracy: 0.4013   Test accuracy: 0.3993  \n",
      "Epoch: 987/1000   Training loss: 1.0919   Testing loss: 1.0930   Train accuracy: 0.4042   Test accuracy: 0.3976  \n",
      "Epoch: 988/1000   Training loss: 1.0916   Testing loss: 1.0927   Train accuracy: 0.4052   Test accuracy: 0.4014  \n",
      "Epoch: 989/1000   Training loss: 1.0920   Testing loss: 1.0935   Train accuracy: 0.4018   Test accuracy: 0.3991  \n",
      "Epoch: 990/1000   Training loss: 1.0915   Testing loss: 1.0932   Train accuracy: 0.4066   Test accuracy: 0.3998  \n",
      "Epoch: 991/1000   Training loss: 1.0911   Testing loss: 1.0931   Train accuracy: 0.4070   Test accuracy: 0.4007  \n",
      "Epoch: 992/1000   Training loss: 1.0912   Testing loss: 1.0927   Train accuracy: 0.4122   Test accuracy: 0.4016  \n",
      "Epoch: 993/1000   Training loss: 1.0917   Testing loss: 1.0927   Train accuracy: 0.4066   Test accuracy: 0.4024  \n",
      "Epoch: 994/1000   Training loss: 1.0918   Testing loss: 1.0924   Train accuracy: 0.4093   Test accuracy: 0.4016  \n",
      "Epoch: 995/1000   Training loss: 1.0924   Testing loss: 1.0933   Train accuracy: 0.4078   Test accuracy: 0.4002  \n",
      "Epoch: 996/1000   Training loss: 1.0926   Testing loss: 1.0928   Train accuracy: 0.4025   Test accuracy: 0.3993  \n",
      "Epoch: 997/1000   Training loss: 1.0920   Testing loss: 1.0925   Train accuracy: 0.4076   Test accuracy: 0.4000  \n",
      "Epoch: 998/1000   Training loss: 1.0923   Testing loss: 1.0914   Train accuracy: 0.4059   Test accuracy: 0.3984  \n",
      "Epoch: 999/1000   Training loss: 1.0920   Testing loss: 1.0926   Train accuracy: 0.4023   Test accuracy: 0.3969  \n"
     ]
    }
   ],
   "source": [
    "epochs = 1000\n",
    "train_loss, val_loss = [], []\n",
    "accuracy_total_train, accuracy_total_val = [], []\n",
    "\n",
    "for epoch in range(epochs):\n",
    "   \n",
    "    total_train_loss = 0\n",
    "    total_val_loss = 0\n",
    "\n",
    "    model.train()\n",
    "    \n",
    "    total = 0\n",
    "    # training our model\n",
    "    for idx, (x, y) in enumerate(train_loader):\n",
    "\n",
    "        optimizer.zero_grad()\n",
    "        pred = model(x)\n",
    "        loss = criterion(pred, y)\n",
    "        total_train_loss += loss.item()\n",
    "        loss.backward()\n",
    "        optimizer.step()\n",
    "\n",
    "        pred = torch.nn.functional.softmax(pred, dim=1)\n",
    "        for i, p in enumerate(pred):\n",
    "            if y[i] == torch.max(p.data, 0)[1]:\n",
    "                total = total + 1\n",
    "                \n",
    "    accuracy_train = total / len(Team_Train)\n",
    "    accuracy_total_train.append(accuracy_train)\n",
    "\n",
    "    total_train_loss = total_train_loss / (idx + 1)\n",
    "    train_loss.append(total_train_loss)\n",
    "    \n",
    "    # validating our model\n",
    "    model.eval()\n",
    "    total = 0\n",
    "    for idx, (x, y) in enumerate(test_loader):\n",
    "        pred = model(x)\n",
    "        loss = criterion(pred, y)\n",
    "        total_val_loss += loss.item()\n",
    "\n",
    "        pred = torch.nn.functional.softmax(pred, dim=1)\n",
    "        for i, p in enumerate(pred):\n",
    "            if y[i] == torch.max(p.data, 0)[1]:\n",
    "                total = total + 1\n",
    "\n",
    "    accuracy_val = total / len(Team_Test)\n",
    "    accuracy_total_val.append(accuracy_val)\n",
    "\n",
    "    total_val_loss = total_val_loss / (idx + 1)\n",
    "    val_loss.append(total_val_loss)\n",
    "\n",
    "    if epoch % 1 == 0:\n",
    "        print(\"Epoch: {}/{}  \".format(epoch, epochs),\n",
    "            \"Training loss: {:.4f}  \".format(total_train_loss),\n",
    "            \"Testing loss: {:.4f}  \".format(total_val_loss),\n",
    "            \"Train accuracy: {:.4f}  \".format(accuracy_train),\n",
    "            \"Test accuracy: {:.4f}  \".format(accuracy_val))"
   ]
  },
  {
   "cell_type": "code",
   "execution_count": null,
   "metadata": {},
   "outputs": [],
   "source": []
  },
  {
   "cell_type": "code",
   "execution_count": 77,
   "metadata": {},
   "outputs": [
    {
     "data": {
      "image/png": "[encoded data removed]",
      "text/plain": [
       "<Figure size 432x288 with 1 Axes>"
      ]
     },
     "metadata": {
      "needs_background": "light"
     },
     "output_type": "display_data"
    }
   ],
   "source": [
    "plt.plot(train_loss, label='Training loss')\n",
    "plt.plot(val_loss, label='Test loss')\n",
    "plt.legend()\n",
    "plt.grid()"
   ]
  },
  {
   "cell_type": "code",
   "execution_count": 78,
   "metadata": {},
   "outputs": [
    {
     "data": {
      "image/png": "[encoded data removed]",
      "text/plain": [
       "<Figure size 432x288 with 1 Axes>"
      ]
     },
     "metadata": {
      "needs_background": "light"
     },
     "output_type": "display_data"
    }
   ],
   "source": [
    "plt.plot(accuracy_total_train, label='Training Accuracy')\n",
    "plt.plot(accuracy_total_val, label='Test Accuracy')\n",
    "plt.legend()\n",
    "plt.grid()"
   ]
  },
  {
   "cell_type": "code",
   "execution_count": 79,
   "metadata": {},
   "outputs": [],
   "source": [
    "#saving the model\n",
    "\n",
    "MODEL_PATH = 'teammodel.pth'\n",
    "torch.save(model, MODEL_PATH)"
   ]
  },
  {
   "cell_type": "code",
   "execution_count": 80,
   "metadata": {},
   "outputs": [],
   "source": [
    "model = torch.load(MODEL_PATH)"
   ]
  },
  {
   "cell_type": "code",
   "execution_count": 81,
   "metadata": {},
   "outputs": [],
   "source": [
    "#Evaluation\n",
    "classes = ['Loss','Draw','Win']\n",
    "predict_list = []\n",
    "y_pred = model(Team_Test)\n",
    "\n",
    "for i, p in enumerate(y_pred):\n",
    "    y_pred = torch.max(p.data, 0)[1]\n",
    "    predict_list.append(y_pred)\n",
    "stacked_tensor = torch.stack(predict_list)\n",
    "y_test = y_test.cpu()"
   ]
  },
  {
   "cell_type": "code",
   "execution_count": 82,
   "metadata": {},
   "outputs": [
    {
     "name": "stdout",
     "output_type": "stream",
     "text": [
      "              precision    recall  f1-score   support\n",
      "\n",
      "        Loss       0.32      0.67      0.44      1189\n",
      "        Draw       0.24      0.05      0.08      1102\n",
      "         Win       0.54      0.43      0.48      1959\n",
      "\n",
      "    accuracy                           0.40      4250\n",
      "   macro avg       0.37      0.38      0.33      4250\n",
      "weighted avg       0.40      0.40      0.36      4250\n",
      "\n"
     ]
    }
   ],
   "source": [
    "print(classification_report(y_test, stacked_tensor, target_names=classes))"
   ]
  },
  {
   "cell_type": "code",
   "execution_count": 83,
   "metadata": {},
   "outputs": [
    {
     "data": {
      "text/plain": [
       "Text(0.5, 15.0, 'Predicted label')"
      ]
     },
     "execution_count": 83,
     "metadata": {},
     "output_type": "execute_result"
    },
    {
     "data": {
      "image/png": "[encoded data removed]",
      "text/plain": [
       "<Figure size 432x288 with 2 Axes>"
      ]
     },
     "metadata": {
      "needs_background": "light"
     },
     "output_type": "display_data"
    }
   ],
   "source": [
    "cm = confusion_matrix(y_test, stacked_tensor)\n",
    "df_cm = pd.DataFrame(cm, index=classes, columns=classes)\n",
    "hmap = sns.heatmap(df_cm, annot=True, fmt=\"d\")\n",
    "hmap.yaxis.set_ticklabels(hmap.yaxis.get_ticklabels(), rotation=0, ha='right')\n",
    "hmap.xaxis.set_ticklabels(hmap.xaxis.get_ticklabels(), rotation=0, ha='right')\n",
    "plt.ylabel('True label')\n",
    "plt.xlabel('Predicted label')"
   ]
  },
  {
   "cell_type": "code",
   "execution_count": 84,
   "metadata": {},
   "outputs": [
    {
     "name": "stdout",
     "output_type": "stream",
     "text": [
      "Accuracy of the network on the 4250 matches: 39 %\n"
     ]
    }
   ],
   "source": [
    "correct = 0\n",
    "total = 0\n",
    "\n",
    "with torch.no_grad():\n",
    "    for i, (x, y) in enumerate(test_loader):\n",
    "        outputs = model(x)\n",
    "        _, predicted = torch.max(outputs.data, 1)\n",
    "        total += y.size(0)\n",
    "        correct += (predicted == y).sum().item()\n",
    "\n",
    "print('Accuracy of the network on the 4250 matches: %d %%' % (\n",
    "    100 * correct / total))"
   ]
  },
  {
   "cell_type": "code",
   "execution_count": 85,
   "metadata": {},
   "outputs": [
    {
     "data": {
      "text/plain": [
       "torch.Size([16996, 1, 81])"
      ]
     },
     "execution_count": 85,
     "metadata": {},
     "output_type": "execute_result"
    }
   ],
   "source": [
    "Team_Train1 = Team_Train.unsqueeze(1)\n",
    "Team_Train1.size()"
   ]
  },
  {
   "cell_type": "code",
   "execution_count": 86,
   "metadata": {},
   "outputs": [
    {
     "data": {
      "text/plain": [
       "torch.Size([4250, 1, 81])"
      ]
     },
     "execution_count": 86,
     "metadata": {},
     "output_type": "execute_result"
    }
   ],
   "source": [
    "Team_Test1 = Team_Test.unsqueeze(1)\n",
    "Team_Test1.size()"
   ]
  },
  {
   "cell_type": "code",
   "execution_count": 142,
   "metadata": {},
   "outputs": [],
   "source": [
    "import torch.utils.data as data_utils\n",
    "\n",
    "train1 = data_utils.TensorDataset(Team_Train1, y_train)\n",
    "train_loader1 = data_utils.DataLoader(train1, batch_size=128, shuffle=True)\n",
    "\n",
    "\n",
    "test1 = data_utils.TensorDataset(Team_Test1, y_test)\n",
    "test_loader1 = data_utils.DataLoader(test1, batch_size=128, shuffle=True)"
   ]
  },
  {
   "cell_type": "code",
   "execution_count": 143,
   "metadata": {},
   "outputs": [],
   "source": [
    "import torch\n",
    "from torch import nn\n",
    "from torch import optim\n",
    "import torch.nn.functional as F\n",
    "\n",
    "class Network(nn.Module):\n",
    "\n",
    "    def __init__(self):\n",
    "        super(Network, self).__init__()\n",
    "        # Convolutional Neural Network Layer \n",
    "        self.convolutaional_neural_network_layers = nn.Sequential(\n",
    "                # Here we are defining our 2D convolutional layers\n",
    "                # We can calculate the output size of each convolutional layer using the following formular\n",
    "                # outputOfEachConvLayer = [(in_channel + 2*padding - kernel_size) / stride] + 1\n",
    "                nn.Conv1d(in_channels=1, out_channels=16, kernel_size=1, stride=1), # (N, 1, 9, 9) \n",
    "                nn.ReLU(),\n",
    "                # output of our second conv layer\n",
    "                nn.Conv1d(in_channels=16, out_channels=64, kernel_size=1, stride=1),\n",
    "                nn.ReLU(), \n",
    "                nn.Conv1d(in_channels=64, out_channels=64, kernel_size=1, stride=1),\n",
    "                nn.ReLU(),\n",
    "                nn.AvgPool2d(kernel_size=8) \n",
    "                \n",
    "        )\n",
    "        # Linear layer\n",
    "        self.linear_layers = nn.Sequential(\n",
    "                # We have the output_channel=24 of our second conv layer, and 3*3 is derived by the formular \n",
    "                # which is the output of each convolutional layer\n",
    "                nn.Linear(in_features=80, out_features=64),          \n",
    "                nn.ReLU(),\n",
    "                nn.Linear(in_features=64, out_features=64),\n",
    "                nn.ReLU(),\n",
    "                nn.Linear(in_features=64, out_features=64),\n",
    "                nn.ReLU(),\n",
    "                nn.Linear(in_features=64, out_features=3) # The output is 3 which should match the size of our class\n",
    "        )\n",
    "\n",
    "    # Defining the forward pass \n",
    "    def forward(self, x):\n",
    "        x = self.convolutaional_neural_network_layers(x)\n",
    "        # After we get the output of our convolutional layer we must flatten it or rearrange the output into a vector\n",
    "        x = x.view(x.size(0), -1)\n",
    "        # Then pass it through the linear layer\n",
    "        x = self.linear_layers(x)\n",
    "        return x"
   ]
  },
  {
   "cell_type": "code",
   "execution_count": 144,
   "metadata": {},
   "outputs": [],
   "source": [
    "#Doing it on GPU\n",
    "device = torch.device(\"cuda:0\" if torch.cuda.is_available() else \"cpu\")\n",
    "\n",
    "net = Network()\n",
    "net.to(device)\n",
    "\n",
    "#Training\n",
    "optimizer1 = optim.SGD(net.parameters(), lr=0.005)\n",
    "criterion1 = nn.CrossEntropyLoss()\n"
   ]
  },
  {
   "cell_type": "code",
   "execution_count": 145,
   "metadata": {},
   "outputs": [
    {
     "name": "stdout",
     "output_type": "stream",
     "text": [
      "Epoch: 0/100   Training loss: 1.0817   Testing loss: 1.0767   Train accuracy: 0.4071   Test accuracy: 0.4609  \n",
      "Epoch: 1/100   Training loss: 1.0704   Testing loss: 1.0696   Train accuracy: 0.4586   Test accuracy: 0.4609  \n",
      "Epoch: 2/100   Training loss: 1.0658   Testing loss: 1.0634   Train accuracy: 0.4586   Test accuracy: 0.4609  \n",
      "Epoch: 3/100   Training loss: 1.0642   Testing loss: 1.0660   Train accuracy: 0.4586   Test accuracy: 0.4609  \n",
      "Epoch: 4/100   Training loss: 1.0637   Testing loss: 1.0627   Train accuracy: 0.4586   Test accuracy: 0.4609  \n",
      "Epoch: 5/100   Training loss: 1.0634   Testing loss: 1.0646   Train accuracy: 0.4586   Test accuracy: 0.4609  \n",
      "Epoch: 6/100   Training loss: 1.0633   Testing loss: 1.0641   Train accuracy: 0.4586   Test accuracy: 0.4609  \n",
      "Epoch: 7/100   Training loss: 1.0633   Testing loss: 1.0642   Train accuracy: 0.4586   Test accuracy: 0.4609  \n",
      "Epoch: 8/100   Training loss: 1.0631   Testing loss: 1.0616   Train accuracy: 0.4586   Test accuracy: 0.4609  \n",
      "Epoch: 9/100   Training loss: 1.0630   Testing loss: 1.0605   Train accuracy: 0.4586   Test accuracy: 0.4609  \n",
      "Epoch: 10/100   Training loss: 1.0630   Testing loss: 1.0618   Train accuracy: 0.4586   Test accuracy: 0.4609  \n",
      "Epoch: 11/100   Training loss: 1.0629   Testing loss: 1.0653   Train accuracy: 0.4586   Test accuracy: 0.4609  \n",
      "Epoch: 12/100   Training loss: 1.0628   Testing loss: 1.0630   Train accuracy: 0.4586   Test accuracy: 0.4609  \n",
      "Epoch: 13/100   Training loss: 1.0629   Testing loss: 1.0609   Train accuracy: 0.4586   Test accuracy: 0.4609  \n",
      "Epoch: 14/100   Training loss: 1.0627   Testing loss: 1.0607   Train accuracy: 0.4586   Test accuracy: 0.4609  \n",
      "Epoch: 15/100   Training loss: 1.0626   Testing loss: 1.0616   Train accuracy: 0.4586   Test accuracy: 0.4609  \n",
      "Epoch: 16/100   Training loss: 1.0626   Testing loss: 1.0616   Train accuracy: 0.4586   Test accuracy: 0.4609  \n",
      "Epoch: 17/100   Training loss: 1.0625   Testing loss: 1.0608   Train accuracy: 0.4586   Test accuracy: 0.4609  \n",
      "Epoch: 18/100   Training loss: 1.0625   Testing loss: 1.0631   Train accuracy: 0.4586   Test accuracy: 0.4609  \n",
      "Epoch: 19/100   Training loss: 1.0624   Testing loss: 1.0620   Train accuracy: 0.4586   Test accuracy: 0.4609  \n",
      "Epoch: 20/100   Training loss: 1.0624   Testing loss: 1.0626   Train accuracy: 0.4586   Test accuracy: 0.4609  \n",
      "Epoch: 21/100   Training loss: 1.0622   Testing loss: 1.0612   Train accuracy: 0.4586   Test accuracy: 0.4609  \n",
      "Epoch: 22/100   Training loss: 1.0621   Testing loss: 1.0652   Train accuracy: 0.4586   Test accuracy: 0.4609  \n",
      "Epoch: 23/100   Training loss: 1.0621   Testing loss: 1.0605   Train accuracy: 0.4586   Test accuracy: 0.4609  \n",
      "Epoch: 24/100   Training loss: 1.0620   Testing loss: 1.0627   Train accuracy: 0.4586   Test accuracy: 0.4609  \n",
      "Epoch: 25/100   Training loss: 1.0620   Testing loss: 1.0625   Train accuracy: 0.4586   Test accuracy: 0.4609  \n",
      "Epoch: 26/100   Training loss: 1.0618   Testing loss: 1.0619   Train accuracy: 0.4586   Test accuracy: 0.4609  \n",
      "Epoch: 27/100   Training loss: 1.0618   Testing loss: 1.0617   Train accuracy: 0.4586   Test accuracy: 0.4609  \n",
      "Epoch: 28/100   Training loss: 1.0616   Testing loss: 1.0626   Train accuracy: 0.4586   Test accuracy: 0.4609  \n",
      "Epoch: 29/100   Training loss: 1.0617   Testing loss: 1.0642   Train accuracy: 0.4586   Test accuracy: 0.4609  \n",
      "Epoch: 30/100   Training loss: 1.0614   Testing loss: 1.0630   Train accuracy: 0.4586   Test accuracy: 0.4609  \n",
      "Epoch: 31/100   Training loss: 1.0614   Testing loss: 1.0629   Train accuracy: 0.4586   Test accuracy: 0.4609  \n",
      "Epoch: 32/100   Training loss: 1.0612   Testing loss: 1.0606   Train accuracy: 0.4586   Test accuracy: 0.4609  \n",
      "Epoch: 33/100   Training loss: 1.0612   Testing loss: 1.0631   Train accuracy: 0.4586   Test accuracy: 0.4609  \n",
      "Epoch: 34/100   Training loss: 1.0610   Testing loss: 1.0608   Train accuracy: 0.4586   Test accuracy: 0.4609  \n",
      "Epoch: 35/100   Training loss: 1.0609   Testing loss: 1.0633   Train accuracy: 0.4586   Test accuracy: 0.4609  \n",
      "Epoch: 36/100   Training loss: 1.0609   Testing loss: 1.0599   Train accuracy: 0.4586   Test accuracy: 0.4609  \n",
      "Epoch: 37/100   Training loss: 1.0607   Testing loss: 1.0593   Train accuracy: 0.4586   Test accuracy: 0.4609  \n",
      "Epoch: 38/100   Training loss: 1.0607   Testing loss: 1.0601   Train accuracy: 0.4586   Test accuracy: 0.4609  \n",
      "Epoch: 39/100   Training loss: 1.0606   Testing loss: 1.0591   Train accuracy: 0.4586   Test accuracy: 0.4609  \n",
      "Epoch: 40/100   Training loss: 1.0604   Testing loss: 1.0604   Train accuracy: 0.4586   Test accuracy: 0.4609  \n",
      "Epoch: 41/100   Training loss: 1.0603   Testing loss: 1.0604   Train accuracy: 0.4586   Test accuracy: 0.4609  \n",
      "Epoch: 42/100   Training loss: 1.0602   Testing loss: 1.0606   Train accuracy: 0.4586   Test accuracy: 0.4609  \n",
      "Epoch: 43/100   Training loss: 1.0601   Testing loss: 1.0599   Train accuracy: 0.4586   Test accuracy: 0.4609  \n",
      "Epoch: 44/100   Training loss: 1.0600   Testing loss: 1.0598   Train accuracy: 0.4586   Test accuracy: 0.4609  \n",
      "Epoch: 45/100   Training loss: 1.0599   Testing loss: 1.0586   Train accuracy: 0.4586   Test accuracy: 0.4609  \n",
      "Epoch: 46/100   Training loss: 1.0598   Testing loss: 1.0633   Train accuracy: 0.4586   Test accuracy: 0.4609  \n",
      "Epoch: 47/100   Training loss: 1.0597   Testing loss: 1.0591   Train accuracy: 0.4586   Test accuracy: 0.4609  \n",
      "Epoch: 48/100   Training loss: 1.0595   Testing loss: 1.0594   Train accuracy: 0.4586   Test accuracy: 0.4609  \n",
      "Epoch: 49/100   Training loss: 1.0595   Testing loss: 1.0617   Train accuracy: 0.4586   Test accuracy: 0.4609  \n",
      "Epoch: 50/100   Training loss: 1.0593   Testing loss: 1.0595   Train accuracy: 0.4586   Test accuracy: 0.4609  \n",
      "Epoch: 51/100   Training loss: 1.0592   Testing loss: 1.0590   Train accuracy: 0.4586   Test accuracy: 0.4609  \n",
      "Epoch: 52/100   Training loss: 1.0591   Testing loss: 1.0613   Train accuracy: 0.4586   Test accuracy: 0.4609  \n",
      "Epoch: 53/100   Training loss: 1.0590   Testing loss: 1.0596   Train accuracy: 0.4586   Test accuracy: 0.4609  \n",
      "Epoch: 54/100   Training loss: 1.0588   Testing loss: 1.0603   Train accuracy: 0.4586   Test accuracy: 0.4609  \n",
      "Epoch: 55/100   Training loss: 1.0588   Testing loss: 1.0619   Train accuracy: 0.4586   Test accuracy: 0.4609  \n",
      "Epoch: 56/100   Training loss: 1.0586   Testing loss: 1.0606   Train accuracy: 0.4586   Test accuracy: 0.4609  \n",
      "Epoch: 57/100   Training loss: 1.0584   Testing loss: 1.0571   Train accuracy: 0.4586   Test accuracy: 0.4609  \n",
      "Epoch: 58/100   Training loss: 1.0583   Testing loss: 1.0605   Train accuracy: 0.4586   Test accuracy: 0.4609  \n",
      "Epoch: 59/100   Training loss: 1.0583   Testing loss: 1.0560   Train accuracy: 0.4586   Test accuracy: 0.4609  \n",
      "Epoch: 60/100   Training loss: 1.0582   Testing loss: 1.0588   Train accuracy: 0.4586   Test accuracy: 0.4609  \n",
      "Epoch: 61/100   Training loss: 1.0581   Testing loss: 1.0582   Train accuracy: 0.4586   Test accuracy: 0.4609  \n",
      "Epoch: 62/100   Training loss: 1.0579   Testing loss: 1.0583   Train accuracy: 0.4586   Test accuracy: 0.4609  \n",
      "Epoch: 63/100   Training loss: 1.0580   Testing loss: 1.0588   Train accuracy: 0.4586   Test accuracy: 0.4609  \n",
      "Epoch: 64/100   Training loss: 1.0579   Testing loss: 1.0569   Train accuracy: 0.4586   Test accuracy: 0.4609  \n",
      "Epoch: 65/100   Training loss: 1.0577   Testing loss: 1.0574   Train accuracy: 0.4586   Test accuracy: 0.4609  \n",
      "Epoch: 66/100   Training loss: 1.0575   Testing loss: 1.0600   Train accuracy: 0.4586   Test accuracy: 0.4609  \n",
      "Epoch: 67/100   Training loss: 1.0573   Testing loss: 1.0576   Train accuracy: 0.4586   Test accuracy: 0.4609  \n",
      "Epoch: 68/100   Training loss: 1.0574   Testing loss: 1.0593   Train accuracy: 0.4586   Test accuracy: 0.4609  \n",
      "Epoch: 69/100   Training loss: 1.0573   Testing loss: 1.0559   Train accuracy: 0.4586   Test accuracy: 0.4609  \n",
      "Epoch: 70/100   Training loss: 1.0571   Testing loss: 1.0583   Train accuracy: 0.4586   Test accuracy: 0.4609  \n",
      "Epoch: 71/100   Training loss: 1.0570   Testing loss: 1.0596   Train accuracy: 0.4586   Test accuracy: 0.4609  \n",
      "Epoch: 72/100   Training loss: 1.0569   Testing loss: 1.0573   Train accuracy: 0.4586   Test accuracy: 0.4609  \n",
      "Epoch: 73/100   Training loss: 1.0568   Testing loss: 1.0589   Train accuracy: 0.4586   Test accuracy: 0.4609  \n"
     ]
    },
    {
     "name": "stdout",
     "output_type": "stream",
     "text": [
      "Epoch: 74/100   Training loss: 1.0568   Testing loss: 1.0576   Train accuracy: 0.4586   Test accuracy: 0.4609  \n",
      "Epoch: 75/100   Training loss: 1.0566   Testing loss: 1.0590   Train accuracy: 0.4586   Test accuracy: 0.4609  \n",
      "Epoch: 76/100   Training loss: 1.0565   Testing loss: 1.0583   Train accuracy: 0.4586   Test accuracy: 0.4609  \n",
      "Epoch: 77/100   Training loss: 1.0565   Testing loss: 1.0568   Train accuracy: 0.4586   Test accuracy: 0.4609  \n",
      "Epoch: 78/100   Training loss: 1.0564   Testing loss: 1.0601   Train accuracy: 0.4586   Test accuracy: 0.4609  \n",
      "Epoch: 79/100   Training loss: 1.0563   Testing loss: 1.0596   Train accuracy: 0.4586   Test accuracy: 0.4609  \n",
      "Epoch: 80/100   Training loss: 1.0562   Testing loss: 1.0579   Train accuracy: 0.4586   Test accuracy: 0.4609  \n",
      "Epoch: 81/100   Training loss: 1.0561   Testing loss: 1.0600   Train accuracy: 0.4586   Test accuracy: 0.4609  \n",
      "Epoch: 82/100   Training loss: 1.0560   Testing loss: 1.0584   Train accuracy: 0.4586   Test accuracy: 0.4609  \n",
      "Epoch: 83/100   Training loss: 1.0559   Testing loss: 1.0592   Train accuracy: 0.4586   Test accuracy: 0.4612  \n",
      "Epoch: 84/100   Training loss: 1.0559   Testing loss: 1.0557   Train accuracy: 0.4586   Test accuracy: 0.4612  \n",
      "Epoch: 85/100   Training loss: 1.0559   Testing loss: 1.0561   Train accuracy: 0.4585   Test accuracy: 0.4612  \n",
      "Epoch: 86/100   Training loss: 1.0557   Testing loss: 1.0564   Train accuracy: 0.4585   Test accuracy: 0.4612  \n",
      "Epoch: 87/100   Training loss: 1.0556   Testing loss: 1.0567   Train accuracy: 0.4586   Test accuracy: 0.4612  \n",
      "Epoch: 88/100   Training loss: 1.0557   Testing loss: 1.0574   Train accuracy: 0.4586   Test accuracy: 0.4614  \n",
      "Epoch: 89/100   Training loss: 1.0555   Testing loss: 1.0576   Train accuracy: 0.4585   Test accuracy: 0.4614  \n",
      "Epoch: 90/100   Training loss: 1.0554   Testing loss: 1.0590   Train accuracy: 0.4586   Test accuracy: 0.4614  \n",
      "Epoch: 91/100   Training loss: 1.0554   Testing loss: 1.0577   Train accuracy: 0.4588   Test accuracy: 0.4614  \n",
      "Epoch: 92/100   Training loss: 1.0554   Testing loss: 1.0576   Train accuracy: 0.4588   Test accuracy: 0.4614  \n",
      "Epoch: 93/100   Training loss: 1.0552   Testing loss: 1.0575   Train accuracy: 0.4587   Test accuracy: 0.4619  \n",
      "Epoch: 94/100   Training loss: 1.0552   Testing loss: 1.0577   Train accuracy: 0.4586   Test accuracy: 0.4612  \n",
      "Epoch: 95/100   Training loss: 1.0551   Testing loss: 1.0563   Train accuracy: 0.4584   Test accuracy: 0.4616  \n",
      "Epoch: 96/100   Training loss: 1.0551   Testing loss: 1.0562   Train accuracy: 0.4585   Test accuracy: 0.4609  \n",
      "Epoch: 97/100   Training loss: 1.0550   Testing loss: 1.0568   Train accuracy: 0.4584   Test accuracy: 0.4609  \n",
      "Epoch: 98/100   Training loss: 1.0550   Testing loss: 1.0582   Train accuracy: 0.4586   Test accuracy: 0.4614  \n",
      "Epoch: 99/100   Training loss: 1.0549   Testing loss: 1.0569   Train accuracy: 0.4580   Test accuracy: 0.4595  \n"
     ]
    }
   ],
   "source": [
    "epochs = 100\n",
    "train_loss, val_loss = [], []\n",
    "accuracy_total_train, accuracy_total_val = [], []\n",
    "\n",
    "for epoch in range(epochs):\n",
    "   \n",
    "    total_train_loss = 0\n",
    "    total_val_loss = 0\n",
    "\n",
    "    net.train()\n",
    "    \n",
    "    total = 0\n",
    "    # training our model\n",
    "    for idx, (x, y) in enumerate(train_loader1):\n",
    "\n",
    "        optimizer1.zero_grad()\n",
    "\n",
    "        pred = net(x)\n",
    "        loss = criterion1(pred, y)\n",
    "        total_train_loss += loss.item()\n",
    "        loss.backward(retain_graph=True)\n",
    "        optimizer1.step()\n",
    "\n",
    "        pred = torch.nn.functional.softmax(pred, dim=1)\n",
    "        for i, p in enumerate(pred):\n",
    "            if y[i] == torch.max(p.data, 0)[1]:\n",
    "                total = total + 1\n",
    "                \n",
    "    accuracy_train = total / len(Team_Train1)\n",
    "    accuracy_total_train.append(accuracy_train)\n",
    "\n",
    "    total_train_loss = total_train_loss / (idx + 1)\n",
    "    train_loss.append(total_train_loss)\n",
    "    \n",
    "    # validating our model\n",
    "    net.eval()\n",
    "    total = 0\n",
    "    for idx, (x, y) in enumerate(test_loader1):\n",
    "        pred = net(x)\n",
    "        loss = criterion1(pred, y)\n",
    "        total_val_loss += loss.item()\n",
    "\n",
    "        pred = torch.nn.functional.softmax(pred, dim=1)\n",
    "        for i, p in enumerate(pred):\n",
    "            if y[i] == torch.max(p.data, 0)[1]:\n",
    "                total = total + 1\n",
    "\n",
    "    accuracy_val = total / len(Team_Test1)\n",
    "    accuracy_total_val.append(accuracy_val)\n",
    "\n",
    "    total_val_loss = total_val_loss / (idx + 1)\n",
    "    val_loss.append(total_val_loss)\n",
    "\n",
    "    if epoch % 1 == 0:\n",
    "          print(\"Epoch: {}/{}  \".format(epoch, epochs),\n",
    "            \"Training loss: {:.4f}  \".format(total_train_loss),\n",
    "            \"Testing loss: {:.4f}  \".format(total_val_loss),\n",
    "            \"Train accuracy: {:.4f}  \".format(accuracy_train),\n",
    "            \"Test accuracy: {:.4f}  \".format(accuracy_val))"
   ]
  },
  {
   "cell_type": "code",
   "execution_count": 51,
   "metadata": {},
   "outputs": [
    {
     "data": {
      "image/png": "[encoded data removed]",
      "text/plain": [
       "<Figure size 432x288 with 1 Axes>"
      ]
     },
     "metadata": {
      "needs_background": "light"
     },
     "output_type": "display_data"
    }
   ],
   "source": [
    "plt.plot(train_loss, label='Training loss')\n",
    "plt.plot(val_loss, label='Test loss')\n",
    "plt.legend()\n",
    "plt.grid()"
   ]
  },
  {
   "cell_type": "code",
   "execution_count": 52,
   "metadata": {},
   "outputs": [
    {
     "data": {
      "image/png": "[encoded data removed]",
      "text/plain": [
       "<Figure size 432x288 with 1 Axes>"
      ]
     },
     "metadata": {
      "needs_background": "light"
     },
     "output_type": "display_data"
    }
   ],
   "source": [
    "plt.plot(accuracy_total_train, label='Training Accuracy')\n",
    "plt.plot(accuracy_total_val, label='Test Accuracy')\n",
    "plt.legend()\n",
    "plt.grid()"
   ]
  },
  {
   "cell_type": "code",
   "execution_count": 53,
   "metadata": {},
   "outputs": [],
   "source": [
    "#saving the model\n",
    "\n",
    "MODEL_PATH = 'teamConmodel.pth'\n",
    "torch.save(net, MODEL_PATH)"
   ]
  },
  {
   "cell_type": "code",
   "execution_count": 54,
   "metadata": {},
   "outputs": [],
   "source": [
    "net = torch.load(MODEL_PATH)"
   ]
  },
  {
   "cell_type": "code",
   "execution_count": 55,
   "metadata": {},
   "outputs": [
    {
     "name": "stdout",
     "output_type": "stream",
     "text": [
      "              precision    recall  f1-score   support\n",
      "\n",
      "        Loss       0.37      0.20      0.26      1189\n",
      "        Draw       0.00      0.00      0.00      1102\n",
      "         Win       0.48      0.88      0.62      1959\n",
      "\n",
      "    accuracy                           0.46      4250\n",
      "   macro avg       0.28      0.36      0.29      4250\n",
      "weighted avg       0.32      0.46      0.36      4250\n",
      "\n"
     ]
    }
   ],
   "source": [
    "#Evaluation\n",
    "classes = ['Loss','Draw','Win']\n",
    "predict_list = []\n",
    "y_pred = net(Team_Test1)\n",
    "\n",
    "for i, p in enumerate(y_pred):\n",
    "    y_pred = torch.max(p.data, 0)[1]\n",
    "    predict_list.append(y_pred)\n",
    "stacked_tensor = torch.stack(predict_list)\n",
    "y_test = y_test.cpu()\n",
    "\n",
    "print(classification_report(y_test, stacked_tensor, target_names=classes))"
   ]
  },
  {
   "cell_type": "code",
   "execution_count": 56,
   "metadata": {},
   "outputs": [
    {
     "data": {
      "text/plain": [
       "Text(0.5, 15.0, 'Predicted label')"
      ]
     },
     "execution_count": 56,
     "metadata": {},
     "output_type": "execute_result"
    },
    {
     "data": {
      "image/png": "[encoded data removed]",
      "text/plain": [
       "<Figure size 432x288 with 2 Axes>"
      ]
     },
     "metadata": {
      "needs_background": "light"
     },
     "output_type": "display_data"
    }
   ],
   "source": [
    "cm = confusion_matrix(y_test, stacked_tensor)\n",
    "df_cm = pd.DataFrame(cm, index=classes, columns=classes)\n",
    "hmap = sns.heatmap(df_cm, annot=True, fmt=\"d\")\n",
    "hmap.yaxis.set_ticklabels(hmap.yaxis.get_ticklabels(), rotation=0, ha='right')\n",
    "hmap.xaxis.set_ticklabels(hmap.xaxis.get_ticklabels(), rotation=0, ha='right')\n",
    "plt.ylabel('True label')\n",
    "plt.xlabel('Predicted label')"
   ]
  },
  {
   "cell_type": "code",
   "execution_count": 57,
   "metadata": {},
   "outputs": [
    {
     "name": "stdout",
     "output_type": "stream",
     "text": [
      "Accuracy of the network on the 4250 matches: 46 %\n"
     ]
    }
   ],
   "source": [
    "correct = 0\n",
    "total = 0\n",
    "\n",
    "with torch.no_grad():\n",
    "    for i, (x, y) in enumerate(test_loader1):\n",
    "        outputs = net(x)\n",
    "        _, predicted = torch.max(outputs.data, 1)\n",
    "        total += y.size(0)\n",
    "        correct += (predicted == y).sum().item()\n",
    "\n",
    "print('Accuracy of the network on the 4250 matches: %d %%' % (\n",
    "    100 * correct / total))"
   ]
  },
  {
   "cell_type": "code",
   "execution_count": 1,
   "metadata": {},
   "outputs": [
    {
     "ename": "NameError",
     "evalue": "name 'Team_Train' is not defined",
     "output_type": "error",
     "traceback": [
      "\u001b[1;31m---------------------------------------------------------------------------\u001b[0m",
      "\u001b[1;31mNameError\u001b[0m                                 Traceback (most recent call last)",
      "\u001b[1;32m<ipython-input-1-7cfb54a7472c>\u001b[0m in \u001b[0;36m<module>\u001b[1;34m\u001b[0m\n\u001b[1;32m----> 1\u001b[1;33m \u001b[0mTeam_Train\u001b[0m\u001b[1;33m\u001b[0m\u001b[1;33m\u001b[0m\u001b[0m\n\u001b[0m",
      "\u001b[1;31mNameError\u001b[0m: name 'Team_Train' is not defined"
     ]
    }
   ],
   "source": [
    "Team_Train"
   ]
  },
  {
   "cell_type": "code",
   "execution_count": null,
   "metadata": {},
   "outputs": [],
   "source": []
  }
 ],
 "metadata": {
  "kernelspec": {
   "display_name": "Python 3",
   "language": "python",
   "name": "python3"
  },
  "language_info": {
   "codemirror_mode": {
    "name": "ipython",
    "version": 3
   },
   "file_extension": ".py",
   "mimetype": "text/x-python",
   "name": "python",
   "nbconvert_exporter": "python",
   "pygments_lexer": "ipython3",
   "version": "3.8.5"
  }
 },
 "nbformat": 4,
 "nbformat_minor": 4
}
