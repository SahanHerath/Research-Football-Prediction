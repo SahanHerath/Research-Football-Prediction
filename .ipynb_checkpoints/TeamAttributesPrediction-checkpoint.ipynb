{
 "cells": [
  {
   "cell_type": "code",
   "execution_count": 88,
   "metadata": {},
   "outputs": [],
   "source": [
    "import pandas as pd\n",
    "import seaborn as sns\n",
    "import numpy as np\n",
    "from tqdm import tqdm\n",
    "from pylab import rcParams\n",
    "import matplotlib.pyplot as plt\n",
    "from matplotlib import rc\n",
    "from torch import nn, optim\n",
    "import torch.nn.functional as F\n",
    "from sklearn.model_selection import train_test_split\n",
    "from sklearn.metrics import confusion_matrix, classification_report\n",
    "import torch\n",
    "\n",
    "df = pd.read_csv('UpdatedMatches.csv')\n",
    "data = []"
   ]
  },
  {
   "cell_type": "code",
   "execution_count": 89,
   "metadata": {},
   "outputs": [
    {
     "name": "stderr",
     "output_type": "stream",
     "text": [
      "C:\\Users\\herath\\anaconda3\\lib\\site-packages\\seaborn\\_decorators.py:36: FutureWarning: Pass the following variable as a keyword arg: x. From version 0.12, the only valid positional argument will be `data`, and passing other arguments without an explicit keyword will result in an error or misinterpretation.\n",
      "  warnings.warn(\n"
     ]
    },
    {
     "data": {
      "text/plain": [
       "<AxesSubplot:xlabel='result', ylabel='count'>"
      ]
     },
     "execution_count": 89,
     "metadata": {},
     "output_type": "execute_result"
    },
    {
     "data": {
      "image/png": "[encoded data removed]",
      "text/plain": [
       "<Figure size 432x288 with 1 Axes>"
      ]
     },
     "metadata": {
      "needs_background": "light"
     },
     "output_type": "display_data"
    }
   ],
   "source": [
    "df['season'].replace({'2008/2009':2008, '2009/2010':2009, '2010/2011':2010, '2011/2012':2011, '2012/2013':2012, '2013/2014':2013, '2014/2015':2014, '2015/2016':2015 },inplace=True)\n",
    "\n",
    "df[\"result\"] = np.nan\n",
    "for index, row in df.iterrows():\n",
    "    if df.loc[index,'home_team_goal'] == df.loc[index,'away_team_goal']:\n",
    "        df.loc[index,'result'] = 1\n",
    "    if df.loc[index,'home_team_goal'] > df.loc[index,'away_team_goal']:\n",
    "        df.loc[index,'result'] = 2\n",
    "    if df.loc[index,'home_team_goal'] < df.loc[index,'away_team_goal']:\n",
    "        df.loc[index,'result'] = 0\n",
    "        \n",
    "sns.countplot(df.result)\n"
   ]
  },
  {
   "cell_type": "code",
   "execution_count": 90,
   "metadata": {},
   "outputs": [
    {
     "data": {
      "text/plain": [
       "2.0    0.459098\n",
       "0.0    0.288525\n",
       "1.0    0.252377\n",
       "Name: result, dtype: float64"
      ]
     },
     "execution_count": 90,
     "metadata": {},
     "output_type": "execute_result"
    }
   ],
   "source": [
    "df.result.value_counts()/df.shape[0]"
   ]
  },
  {
   "cell_type": "code",
   "execution_count": 91,
   "metadata": {},
   "outputs": [],
   "source": [
    "from tqdm import tqdm\n",
    "\n",
    "def teamfunction( df ):\n",
    "    for index, row in tqdm(df.iterrows()):\n",
    "        \n",
    "        home_team = []\n",
    "        home_team.append(df.loc[index,'buildUpPlaySpeed_home_team'])\n",
    "        home_team.append(df.loc[index,'buildUpPlayDribbling_home_team'])\n",
    "        home_team.append(df.loc[index,'buildUpPlayPassing_home_team'])\n",
    "        home_team.append(df.loc[index,'chanceCreationPassing_home_team'])\n",
    "        home_team.append(df.loc[index,'chanceCreationCrossing_home_team'])\n",
    "        home_team.append(df.loc[index,'chanceCreationShooting_home_team'])\n",
    "        home_team.append(df.loc[index,'defencePressure_home_team'])\n",
    "        home_team.append(df.loc[index,'defenceAggression_home_team'])\n",
    "        home_team.append(df.loc[index,'defenceTeamWidth_home_team'])\n",
    "\n",
    "\n",
    "        away_team = []\n",
    "        away_team.append(df.loc[index,'buildUpPlaySpeed_away_team'])\n",
    "        away_team.append(df.loc[index,'buildUpPlayDribbling_away_team'])\n",
    "        away_team.append(df.loc[index,'buildUpPlayPassing_away_team'])\n",
    "        away_team.append(df.loc[index,'chanceCreationPassing_away_team'])\n",
    "        away_team.append(df.loc[index,'chanceCreationCrossing_away_team'])\n",
    "        away_team.append(df.loc[index,'chanceCreationShooting_away_team'])\n",
    "        away_team.append(df.loc[index,'defencePressure_away_team'])\n",
    "        away_team.append(df.loc[index,'defenceAggression_away_team'])\n",
    "        away_team.append(df.loc[index,'defenceTeamWidth_away_team'])\n",
    "\n",
    "\n",
    "        team_matrix = []\n",
    "        for i in range(9):          \n",
    "            m =[]\n",
    "            for j in range(9):\n",
    "                m.append(home_team[i]-away_team[j])\n",
    "            team_matrix.append(m)\n",
    "\n",
    "        team_details.append(team_matrix)\n"
   ]
  },
  {
   "cell_type": "code",
   "execution_count": 92,
   "metadata": {},
   "outputs": [],
   "source": [
    "X = df.drop(['result','date', 'home_team_goal','away_team_goal'], axis=1)\n",
    "y = df[['result']]\n",
    "RANDOM_SEED =42\n",
    "np.random.seed(RANDOM_SEED)\n",
    "torch.manual_seed(RANDOM_SEED)\n",
    "\n",
    "X_train, X_test, y_train, y_test =\\\n",
    "    train_test_split(X, y, test_size=0.2, random_state=RANDOM_SEED)"
   ]
  },
  {
   "cell_type": "code",
   "execution_count": 93,
   "metadata": {},
   "outputs": [
    {
     "data": {
      "text/plain": [
       "2.0    0.458637\n",
       "0.0    0.290715\n",
       "1.0    0.250647\n",
       "Name: result, dtype: float64"
      ]
     },
     "execution_count": 93,
     "metadata": {},
     "output_type": "execute_result"
    }
   ],
   "source": [
    "y_train.result.value_counts()/y_train.shape[0]"
   ]
  },
  {
   "cell_type": "code",
   "execution_count": 94,
   "metadata": {},
   "outputs": [
    {
     "name": "stderr",
     "output_type": "stream",
     "text": [
      "16996it [00:53, 319.74it/s]\n"
     ]
    }
   ],
   "source": [
    "team_details = []\n",
    "teamfunction( X_train )\n",
    "team_train_data = team_details\n",
    "Team_Train = torch.Tensor(np.array(team_train_data))"
   ]
  },
  {
   "cell_type": "code",
   "execution_count": 95,
   "metadata": {},
   "outputs": [
    {
     "data": {
      "text/plain": [
       "torch.Size([16996, 9, 9])"
      ]
     },
     "execution_count": 95,
     "metadata": {},
     "output_type": "execute_result"
    }
   ],
   "source": [
    "Team_Train.size()"
   ]
  },
  {
   "cell_type": "code",
   "execution_count": 96,
   "metadata": {},
   "outputs": [
    {
     "data": {
      "text/plain": [
       "'torch.FloatTensor'"
      ]
     },
     "execution_count": 96,
     "metadata": {},
     "output_type": "execute_result"
    }
   ],
   "source": [
    "Team_Train.type()"
   ]
  },
  {
   "cell_type": "code",
   "execution_count": 97,
   "metadata": {},
   "outputs": [
    {
     "name": "stderr",
     "output_type": "stream",
     "text": [
      "4250it [00:05, 723.10it/s]\n"
     ]
    }
   ],
   "source": [
    "team_details = []\n",
    "teamfunction( X_test )\n",
    "team_test_data = team_details\n",
    "Team_Test = torch.Tensor(np.array(team_test_data))"
   ]
  },
  {
   "cell_type": "code",
   "execution_count": 98,
   "metadata": {},
   "outputs": [
    {
     "data": {
      "text/plain": [
       "torch.Size([4250, 9, 9])"
      ]
     },
     "execution_count": 98,
     "metadata": {},
     "output_type": "execute_result"
    }
   ],
   "source": [
    "Team_Test.size()"
   ]
  },
  {
   "cell_type": "code",
   "execution_count": 99,
   "metadata": {},
   "outputs": [
    {
     "data": {
      "text/plain": [
       "'torch.FloatTensor'"
      ]
     },
     "execution_count": 99,
     "metadata": {},
     "output_type": "execute_result"
    }
   ],
   "source": [
    "Team_Test.type()"
   ]
  },
  {
   "cell_type": "code",
   "execution_count": 100,
   "metadata": {},
   "outputs": [],
   "source": [
    "y_train = torch.squeeze(torch.LongTensor(np.array(y_train)))"
   ]
  },
  {
   "cell_type": "code",
   "execution_count": 101,
   "metadata": {},
   "outputs": [
    {
     "data": {
      "text/plain": [
       "torch.Size([16996])"
      ]
     },
     "execution_count": 101,
     "metadata": {},
     "output_type": "execute_result"
    }
   ],
   "source": [
    "y_train.size()"
   ]
  },
  {
   "cell_type": "code",
   "execution_count": 102,
   "metadata": {},
   "outputs": [
    {
     "data": {
      "text/plain": [
       "'torch.LongTensor'"
      ]
     },
     "execution_count": 102,
     "metadata": {},
     "output_type": "execute_result"
    }
   ],
   "source": [
    "y_train.type()"
   ]
  },
  {
   "cell_type": "code",
   "execution_count": 103,
   "metadata": {},
   "outputs": [],
   "source": [
    "y_test = torch.squeeze(torch.LongTensor(np.array(y_test)))"
   ]
  },
  {
   "cell_type": "code",
   "execution_count": 104,
   "metadata": {},
   "outputs": [
    {
     "data": {
      "text/plain": [
       "torch.Size([4250])"
      ]
     },
     "execution_count": 104,
     "metadata": {},
     "output_type": "execute_result"
    }
   ],
   "source": [
    "y_test.size()"
   ]
  },
  {
   "cell_type": "code",
   "execution_count": 105,
   "metadata": {},
   "outputs": [
    {
     "data": {
      "text/plain": [
       "'torch.LongTensor'"
      ]
     },
     "execution_count": 105,
     "metadata": {},
     "output_type": "execute_result"
    }
   ],
   "source": [
    "y_test.type()"
   ]
  },
  {
   "cell_type": "code",
   "execution_count": 106,
   "metadata": {},
   "outputs": [],
   "source": [
    "Team_Train = torch.flatten(Team_Train, start_dim=1)\n",
    "Team_Test = torch.flatten(Team_Test, start_dim=1)"
   ]
  },
  {
   "cell_type": "code",
   "execution_count": 107,
   "metadata": {},
   "outputs": [
    {
     "data": {
      "text/plain": [
       "torch.Size([16996, 81])"
      ]
     },
     "execution_count": 107,
     "metadata": {},
     "output_type": "execute_result"
    }
   ],
   "source": [
    "Team_Train.size()"
   ]
  },
  {
   "cell_type": "code",
   "execution_count": 108,
   "metadata": {},
   "outputs": [
    {
     "data": {
      "text/plain": [
       "torch.Size([4250, 81])"
      ]
     },
     "execution_count": 108,
     "metadata": {},
     "output_type": "execute_result"
    }
   ],
   "source": [
    "Team_Test.size()"
   ]
  },
  {
   "cell_type": "code",
   "execution_count": 117,
   "metadata": {},
   "outputs": [],
   "source": [
    "import torch.utils.data as data_utils\n",
    "\n",
    "train = data_utils.TensorDataset(Team_Train, y_train)\n",
    "train_loader = data_utils.DataLoader(train, batch_size=256, shuffle=True)\n",
    "\n",
    "test = data_utils.TensorDataset(Team_Test, y_test)\n",
    "test_loader = data_utils.DataLoader(test, batch_size=256, shuffle=True)"
   ]
  },
  {
   "cell_type": "code",
   "execution_count": 118,
   "metadata": {},
   "outputs": [],
   "source": [
    "import torch\n",
    "from torch import nn, optim\n",
    "import torch.nn.functional as F\n",
    "\n",
    "#building neural network\n",
    "class Net(nn.Module):\n",
    "    def __init__(self):\n",
    "        super(Net, self).__init__()\n",
    "        self.fc1 = nn.Linear(81,27)\n",
    "        self.fc2 = nn.Linear(27,9)\n",
    "        self.fc3 = nn.Linear(9,3)\n",
    "    \n",
    "    def forward(self, x):\n",
    "        x = F.relu(self.fc1(x))\n",
    "        x = F.relu(self.fc2(x))\n",
    "        x = F.relu(self.fc3(x))\n",
    "        return x"
   ]
  },
  {
   "cell_type": "code",
   "execution_count": 119,
   "metadata": {},
   "outputs": [],
   "source": [
    "model = Net()"
   ]
  },
  {
   "cell_type": "code",
   "execution_count": 120,
   "metadata": {},
   "outputs": [],
   "source": [
    "optimizer = optim.SGD(model.parameters(), lr=0.001)\n",
    "criterion = nn.CrossEntropyLoss()"
   ]
  },
  {
   "cell_type": "code",
   "execution_count": 121,
   "metadata": {},
   "outputs": [],
   "source": [
    "#Doing it on GPU\n",
    "device = torch.device(\"cuda:0\" if torch.cuda.is_available() else \"cpu\")\n",
    "\n",
    "Team_Train = Team_Train.to(device)\n",
    "Team_Test = Team_Test.to(device)\n",
    "\n",
    "y_train = y_train.to(device)\n",
    "y_test = y_test.to(device)\n",
    "\n",
    "model = model.to(device)\n",
    "criterion = criterion.to(device)"
   ]
  },
  {
   "cell_type": "code",
   "execution_count": 122,
   "metadata": {},
   "outputs": [
    {
     "name": "stdout",
     "output_type": "stream",
     "text": [
      "Epoch: 0/200   Training loss: 1.1666   Testing loss: 1.1247   Train accuracy: 0.4068   Test accuracy: 0.4094  \n",
      "Epoch: 1/200   Training loss: 1.1145   Testing loss: 1.1007   Train accuracy: 0.4073   Test accuracy: 0.4113  \n",
      "Epoch: 2/200   Training loss: 1.0988   Testing loss: 1.0918   Train accuracy: 0.4113   Test accuracy: 0.4122  \n",
      "Epoch: 3/200   Training loss: 1.0913   Testing loss: 1.0894   Train accuracy: 0.4112   Test accuracy: 0.4118  \n",
      "Epoch: 4/200   Training loss: 1.0871   Testing loss: 1.0874   Train accuracy: 0.4122   Test accuracy: 0.4155  \n",
      "Epoch: 5/200   Training loss: 1.0838   Testing loss: 1.0840   Train accuracy: 0.4161   Test accuracy: 0.4209  \n",
      "Epoch: 6/200   Training loss: 1.0815   Testing loss: 1.0813   Train accuracy: 0.4211   Test accuracy: 0.4273  \n",
      "Epoch: 7/200   Training loss: 1.0795   Testing loss: 1.0804   Train accuracy: 0.4237   Test accuracy: 0.4304  \n",
      "Epoch: 8/200   Training loss: 1.0776   Testing loss: 1.0786   Train accuracy: 0.4283   Test accuracy: 0.4329  \n",
      "Epoch: 9/200   Training loss: 1.0757   Testing loss: 1.0774   Train accuracy: 0.4299   Test accuracy: 0.4339  \n",
      "Epoch: 10/200   Training loss: 1.0748   Testing loss: 1.0772   Train accuracy: 0.4320   Test accuracy: 0.4358  \n",
      "Epoch: 11/200   Training loss: 1.0733   Testing loss: 1.0758   Train accuracy: 0.4329   Test accuracy: 0.4360  \n",
      "Epoch: 12/200   Training loss: 1.0726   Testing loss: 1.0751   Train accuracy: 0.4345   Test accuracy: 0.4376  \n",
      "Epoch: 13/200   Training loss: 1.0710   Testing loss: 1.0745   Train accuracy: 0.4369   Test accuracy: 0.4369  \n",
      "Epoch: 14/200   Training loss: 1.0707   Testing loss: 1.0722   Train accuracy: 0.4387   Test accuracy: 0.4388  \n",
      "Epoch: 15/200   Training loss: 1.0694   Testing loss: 1.0728   Train accuracy: 0.4406   Test accuracy: 0.4395  \n",
      "Epoch: 16/200   Training loss: 1.0690   Testing loss: 1.0725   Train accuracy: 0.4420   Test accuracy: 0.4395  \n",
      "Epoch: 17/200   Training loss: 1.0685   Testing loss: 1.0713   Train accuracy: 0.4421   Test accuracy: 0.4400  \n",
      "Epoch: 18/200   Training loss: 1.0680   Testing loss: 1.0718   Train accuracy: 0.4432   Test accuracy: 0.4419  \n",
      "Epoch: 19/200   Training loss: 1.0677   Testing loss: 1.0700   Train accuracy: 0.4438   Test accuracy: 0.4426  \n",
      "Epoch: 20/200   Training loss: 1.0668   Testing loss: 1.0710   Train accuracy: 0.4439   Test accuracy: 0.4419  \n",
      "Epoch: 21/200   Training loss: 1.0661   Testing loss: 1.0690   Train accuracy: 0.4439   Test accuracy: 0.4433  \n",
      "Epoch: 22/200   Training loss: 1.0663   Testing loss: 1.0695   Train accuracy: 0.4449   Test accuracy: 0.4428  \n",
      "Epoch: 23/200   Training loss: 1.0660   Testing loss: 1.0695   Train accuracy: 0.4468   Test accuracy: 0.4442  \n",
      "Epoch: 24/200   Training loss: 1.0655   Testing loss: 1.0689   Train accuracy: 0.4475   Test accuracy: 0.4464  \n",
      "Epoch: 25/200   Training loss: 1.0648   Testing loss: 1.0686   Train accuracy: 0.4478   Test accuracy: 0.4459  \n",
      "Epoch: 26/200   Training loss: 1.0645   Testing loss: 1.0682   Train accuracy: 0.4488   Test accuracy: 0.4456  \n",
      "Epoch: 27/200   Training loss: 1.0648   Testing loss: 1.0684   Train accuracy: 0.4493   Test accuracy: 0.4471  \n",
      "Epoch: 28/200   Training loss: 1.0638   Testing loss: 1.0680   Train accuracy: 0.4500   Test accuracy: 0.4475  \n",
      "Epoch: 29/200   Training loss: 1.0637   Testing loss: 1.0682   Train accuracy: 0.4503   Test accuracy: 0.4487  \n",
      "Epoch: 30/200   Training loss: 1.0629   Testing loss: 1.0682   Train accuracy: 0.4516   Test accuracy: 0.4506  \n",
      "Epoch: 31/200   Training loss: 1.0630   Testing loss: 1.0676   Train accuracy: 0.4518   Test accuracy: 0.4541  \n",
      "Epoch: 32/200   Training loss: 1.0628   Testing loss: 1.0674   Train accuracy: 0.4520   Test accuracy: 0.4553  \n",
      "Epoch: 33/200   Training loss: 1.0624   Testing loss: 1.0674   Train accuracy: 0.4523   Test accuracy: 0.4558  \n",
      "Epoch: 34/200   Training loss: 1.0620   Testing loss: 1.0674   Train accuracy: 0.4528   Test accuracy: 0.4565  \n",
      "Epoch: 35/200   Training loss: 1.0621   Testing loss: 1.0663   Train accuracy: 0.4527   Test accuracy: 0.4560  \n",
      "Epoch: 36/200   Training loss: 1.0621   Testing loss: 1.0663   Train accuracy: 0.4528   Test accuracy: 0.4551  \n",
      "Epoch: 37/200   Training loss: 1.0612   Testing loss: 1.0667   Train accuracy: 0.4535   Test accuracy: 0.4553  \n",
      "Epoch: 38/200   Training loss: 1.0612   Testing loss: 1.0657   Train accuracy: 0.4533   Test accuracy: 0.4565  \n",
      "Epoch: 39/200   Training loss: 1.0615   Testing loss: 1.0661   Train accuracy: 0.4538   Test accuracy: 0.4553  \n",
      "Epoch: 40/200   Training loss: 1.0610   Testing loss: 1.0655   Train accuracy: 0.4543   Test accuracy: 0.4555  \n",
      "Epoch: 41/200   Training loss: 1.0611   Testing loss: 1.0659   Train accuracy: 0.4549   Test accuracy: 0.4565  \n",
      "Epoch: 42/200   Training loss: 1.0603   Testing loss: 1.0656   Train accuracy: 0.4551   Test accuracy: 0.4562  \n",
      "Epoch: 43/200   Training loss: 1.0604   Testing loss: 1.0659   Train accuracy: 0.4547   Test accuracy: 0.4565  \n",
      "Epoch: 44/200   Training loss: 1.0602   Testing loss: 1.0654   Train accuracy: 0.4552   Test accuracy: 0.4562  \n",
      "Epoch: 45/200   Training loss: 1.0598   Testing loss: 1.0654   Train accuracy: 0.4550   Test accuracy: 0.4560  \n",
      "Epoch: 46/200   Training loss: 1.0600   Testing loss: 1.0649   Train accuracy: 0.4551   Test accuracy: 0.4567  \n",
      "Epoch: 47/200   Training loss: 1.0601   Testing loss: 1.0652   Train accuracy: 0.4560   Test accuracy: 0.4569  \n",
      "Epoch: 48/200   Training loss: 1.0596   Testing loss: 1.0650   Train accuracy: 0.4558   Test accuracy: 0.4576  \n",
      "Epoch: 49/200   Training loss: 1.0588   Testing loss: 1.0647   Train accuracy: 0.4561   Test accuracy: 0.4567  \n",
      "Epoch: 50/200   Training loss: 1.0589   Testing loss: 1.0651   Train accuracy: 0.4562   Test accuracy: 0.4576  \n",
      "Epoch: 51/200   Training loss: 1.0587   Testing loss: 1.0648   Train accuracy: 0.4557   Test accuracy: 0.4576  \n",
      "Epoch: 52/200   Training loss: 1.0580   Testing loss: 1.0650   Train accuracy: 0.4562   Test accuracy: 0.4598  \n",
      "Epoch: 53/200   Training loss: 1.0584   Testing loss: 1.0647   Train accuracy: 0.4563   Test accuracy: 0.4588  \n",
      "Epoch: 54/200   Training loss: 1.0584   Testing loss: 1.0642   Train accuracy: 0.4563   Test accuracy: 0.4595  \n",
      "Epoch: 55/200   Training loss: 1.0581   Testing loss: 1.0642   Train accuracy: 0.4570   Test accuracy: 0.4595  \n",
      "Epoch: 56/200   Training loss: 1.0581   Testing loss: 1.0637   Train accuracy: 0.4578   Test accuracy: 0.4593  \n",
      "Epoch: 57/200   Training loss: 1.0572   Testing loss: 1.0633   Train accuracy: 0.4579   Test accuracy: 0.4598  \n",
      "Epoch: 58/200   Training loss: 1.0578   Testing loss: 1.0629   Train accuracy: 0.4586   Test accuracy: 0.4595  \n",
      "Epoch: 59/200   Training loss: 1.0577   Testing loss: 1.0635   Train accuracy: 0.4586   Test accuracy: 0.4595  \n",
      "Epoch: 60/200   Training loss: 1.0572   Testing loss: 1.0644   Train accuracy: 0.4592   Test accuracy: 0.4602  \n",
      "Epoch: 61/200   Training loss: 1.0571   Testing loss: 1.0637   Train accuracy: 0.4591   Test accuracy: 0.4612  \n",
      "Epoch: 62/200   Training loss: 1.0571   Testing loss: 1.0640   Train accuracy: 0.4598   Test accuracy: 0.4598  \n",
      "Epoch: 63/200   Training loss: 1.0568   Testing loss: 1.0635   Train accuracy: 0.4595   Test accuracy: 0.4614  \n",
      "Epoch: 64/200   Training loss: 1.0568   Testing loss: 1.0632   Train accuracy: 0.4595   Test accuracy: 0.4612  \n",
      "Epoch: 65/200   Training loss: 1.0566   Testing loss: 1.0631   Train accuracy: 0.4600   Test accuracy: 0.4616  \n",
      "Epoch: 66/200   Training loss: 1.0569   Testing loss: 1.0646   Train accuracy: 0.4605   Test accuracy: 0.4612  \n",
      "Epoch: 67/200   Training loss: 1.0564   Testing loss: 1.0644   Train accuracy: 0.4602   Test accuracy: 0.4614  \n",
      "Epoch: 68/200   Training loss: 1.0563   Testing loss: 1.0632   Train accuracy: 0.4608   Test accuracy: 0.4621  \n",
      "Epoch: 69/200   Training loss: 1.0567   Testing loss: 1.0632   Train accuracy: 0.4610   Test accuracy: 0.4626  \n",
      "Epoch: 70/200   Training loss: 1.0562   Testing loss: 1.0634   Train accuracy: 0.4609   Test accuracy: 0.4628  \n",
      "Epoch: 71/200   Training loss: 1.0563   Testing loss: 1.0633   Train accuracy: 0.4614   Test accuracy: 0.4628  \n",
      "Epoch: 72/200   Training loss: 1.0556   Testing loss: 1.0638   Train accuracy: 0.4612   Test accuracy: 0.4628  \n",
      "Epoch: 73/200   Training loss: 1.0559   Testing loss: 1.0628   Train accuracy: 0.4612   Test accuracy: 0.4628  \n"
     ]
    },
    {
     "name": "stdout",
     "output_type": "stream",
     "text": [
      "Epoch: 74/200   Training loss: 1.0554   Testing loss: 1.0619   Train accuracy: 0.4613   Test accuracy: 0.4624  \n",
      "Epoch: 75/200   Training loss: 1.0552   Testing loss: 1.0618   Train accuracy: 0.4618   Test accuracy: 0.4631  \n",
      "Epoch: 76/200   Training loss: 1.0554   Testing loss: 1.0634   Train accuracy: 0.4621   Test accuracy: 0.4638  \n",
      "Epoch: 77/200   Training loss: 1.0554   Testing loss: 1.0621   Train accuracy: 0.4619   Test accuracy: 0.4638  \n",
      "Epoch: 78/200   Training loss: 1.0553   Testing loss: 1.0618   Train accuracy: 0.4620   Test accuracy: 0.4635  \n",
      "Epoch: 79/200   Training loss: 1.0547   Testing loss: 1.0630   Train accuracy: 0.4622   Test accuracy: 0.4642  \n",
      "Epoch: 80/200   Training loss: 1.0554   Testing loss: 1.0619   Train accuracy: 0.4615   Test accuracy: 0.4633  \n",
      "Epoch: 81/200   Training loss: 1.0546   Testing loss: 1.0618   Train accuracy: 0.4623   Test accuracy: 0.4635  \n",
      "Epoch: 82/200   Training loss: 1.0548   Testing loss: 1.0618   Train accuracy: 0.4625   Test accuracy: 0.4635  \n",
      "Epoch: 83/200   Training loss: 1.0543   Testing loss: 1.0623   Train accuracy: 0.4624   Test accuracy: 0.4640  \n",
      "Epoch: 84/200   Training loss: 1.0545   Testing loss: 1.0614   Train accuracy: 0.4629   Test accuracy: 0.4638  \n",
      "Epoch: 85/200   Training loss: 1.0545   Testing loss: 1.0626   Train accuracy: 0.4627   Test accuracy: 0.4642  \n",
      "Epoch: 86/200   Training loss: 1.0542   Testing loss: 1.0626   Train accuracy: 0.4632   Test accuracy: 0.4645  \n",
      "Epoch: 87/200   Training loss: 1.0540   Testing loss: 1.0620   Train accuracy: 0.4635   Test accuracy: 0.4656  \n",
      "Epoch: 88/200   Training loss: 1.0544   Testing loss: 1.0604   Train accuracy: 0.4629   Test accuracy: 0.4656  \n",
      "Epoch: 89/200   Training loss: 1.0541   Testing loss: 1.0611   Train accuracy: 0.4630   Test accuracy: 0.4659  \n",
      "Epoch: 90/200   Training loss: 1.0541   Testing loss: 1.0612   Train accuracy: 0.4635   Test accuracy: 0.4656  \n",
      "Epoch: 91/200   Training loss: 1.0536   Testing loss: 1.0622   Train accuracy: 0.4635   Test accuracy: 0.4659  \n",
      "Epoch: 92/200   Training loss: 1.0536   Testing loss: 1.0613   Train accuracy: 0.4635   Test accuracy: 0.4664  \n",
      "Epoch: 93/200   Training loss: 1.0537   Testing loss: 1.0615   Train accuracy: 0.4639   Test accuracy: 0.4659  \n",
      "Epoch: 94/200   Training loss: 1.0538   Testing loss: 1.0617   Train accuracy: 0.4641   Test accuracy: 0.4654  \n",
      "Epoch: 95/200   Training loss: 1.0538   Testing loss: 1.0624   Train accuracy: 0.4641   Test accuracy: 0.4654  \n",
      "Epoch: 96/200   Training loss: 1.0537   Testing loss: 1.0621   Train accuracy: 0.4641   Test accuracy: 0.4647  \n",
      "Epoch: 97/200   Training loss: 1.0535   Testing loss: 1.0614   Train accuracy: 0.4642   Test accuracy: 0.4642  \n",
      "Epoch: 98/200   Training loss: 1.0529   Testing loss: 1.0609   Train accuracy: 0.4641   Test accuracy: 0.4645  \n",
      "Epoch: 99/200   Training loss: 1.0535   Testing loss: 1.0612   Train accuracy: 0.4643   Test accuracy: 0.4633  \n",
      "Epoch: 100/200   Training loss: 1.0537   Testing loss: 1.0613   Train accuracy: 0.4646   Test accuracy: 0.4635  \n",
      "Epoch: 101/200   Training loss: 1.0533   Testing loss: 1.0612   Train accuracy: 0.4653   Test accuracy: 0.4645  \n",
      "Epoch: 102/200   Training loss: 1.0528   Testing loss: 1.0605   Train accuracy: 0.4645   Test accuracy: 0.4635  \n",
      "Epoch: 103/200   Training loss: 1.0527   Testing loss: 1.0599   Train accuracy: 0.4650   Test accuracy: 0.4649  \n",
      "Epoch: 104/200   Training loss: 1.0532   Testing loss: 1.0605   Train accuracy: 0.4652   Test accuracy: 0.4645  \n",
      "Epoch: 105/200   Training loss: 1.0531   Testing loss: 1.0607   Train accuracy: 0.4643   Test accuracy: 0.4640  \n",
      "Epoch: 106/200   Training loss: 1.0525   Testing loss: 1.0611   Train accuracy: 0.4651   Test accuracy: 0.4645  \n",
      "Epoch: 107/200   Training loss: 1.0522   Testing loss: 1.0611   Train accuracy: 0.4649   Test accuracy: 0.4640  \n",
      "Epoch: 108/200   Training loss: 1.0523   Testing loss: 1.0609   Train accuracy: 0.4650   Test accuracy: 0.4633  \n",
      "Epoch: 109/200   Training loss: 1.0528   Testing loss: 1.0611   Train accuracy: 0.4648   Test accuracy: 0.4640  \n",
      "Epoch: 110/200   Training loss: 1.0529   Testing loss: 1.0605   Train accuracy: 0.4656   Test accuracy: 0.4638  \n",
      "Epoch: 111/200   Training loss: 1.0520   Testing loss: 1.0606   Train accuracy: 0.4654   Test accuracy: 0.4642  \n",
      "Epoch: 112/200   Training loss: 1.0528   Testing loss: 1.0605   Train accuracy: 0.4656   Test accuracy: 0.4635  \n",
      "Epoch: 113/200   Training loss: 1.0521   Testing loss: 1.0610   Train accuracy: 0.4659   Test accuracy: 0.4640  \n",
      "Epoch: 114/200   Training loss: 1.0525   Testing loss: 1.0599   Train accuracy: 0.4665   Test accuracy: 0.4649  \n",
      "Epoch: 115/200   Training loss: 1.0517   Testing loss: 1.0603   Train accuracy: 0.4652   Test accuracy: 0.4640  \n",
      "Epoch: 116/200   Training loss: 1.0512   Testing loss: 1.0607   Train accuracy: 0.4659   Test accuracy: 0.4659  \n",
      "Epoch: 117/200   Training loss: 1.0518   Testing loss: 1.0603   Train accuracy: 0.4652   Test accuracy: 0.4652  \n",
      "Epoch: 118/200   Training loss: 1.0516   Testing loss: 1.0596   Train accuracy: 0.4656   Test accuracy: 0.4652  \n",
      "Epoch: 119/200   Training loss: 1.0522   Testing loss: 1.0594   Train accuracy: 0.4651   Test accuracy: 0.4645  \n",
      "Epoch: 120/200   Training loss: 1.0514   Testing loss: 1.0600   Train accuracy: 0.4656   Test accuracy: 0.4633  \n",
      "Epoch: 121/200   Training loss: 1.0516   Testing loss: 1.0592   Train accuracy: 0.4655   Test accuracy: 0.4631  \n",
      "Epoch: 122/200   Training loss: 1.0509   Testing loss: 1.0603   Train accuracy: 0.4671   Test accuracy: 0.4645  \n",
      "Epoch: 123/200   Training loss: 1.0516   Testing loss: 1.0601   Train accuracy: 0.4662   Test accuracy: 0.4645  \n",
      "Epoch: 124/200   Training loss: 1.0514   Testing loss: 1.0591   Train accuracy: 0.4666   Test accuracy: 0.4649  \n",
      "Epoch: 125/200   Training loss: 1.0511   Testing loss: 1.0595   Train accuracy: 0.4668   Test accuracy: 0.4649  \n",
      "Epoch: 126/200   Training loss: 1.0511   Testing loss: 1.0598   Train accuracy: 0.4665   Test accuracy: 0.4654  \n",
      "Epoch: 127/200   Training loss: 1.0513   Testing loss: 1.0601   Train accuracy: 0.4668   Test accuracy: 0.4659  \n",
      "Epoch: 128/200   Training loss: 1.0507   Testing loss: 1.0607   Train accuracy: 0.4672   Test accuracy: 0.4652  \n",
      "Epoch: 129/200   Training loss: 1.0508   Testing loss: 1.0594   Train accuracy: 0.4672   Test accuracy: 0.4647  \n",
      "Epoch: 130/200   Training loss: 1.0509   Testing loss: 1.0595   Train accuracy: 0.4666   Test accuracy: 0.4652  \n",
      "Epoch: 131/200   Training loss: 1.0508   Testing loss: 1.0598   Train accuracy: 0.4675   Test accuracy: 0.4649  \n",
      "Epoch: 132/200   Training loss: 1.0505   Testing loss: 1.0601   Train accuracy: 0.4674   Test accuracy: 0.4649  \n",
      "Epoch: 133/200   Training loss: 1.0512   Testing loss: 1.0608   Train accuracy: 0.4663   Test accuracy: 0.4656  \n",
      "Epoch: 134/200   Training loss: 1.0501   Testing loss: 1.0596   Train accuracy: 0.4676   Test accuracy: 0.4649  \n",
      "Epoch: 135/200   Training loss: 1.0499   Testing loss: 1.0589   Train accuracy: 0.4676   Test accuracy: 0.4659  \n",
      "Epoch: 136/200   Training loss: 1.0510   Testing loss: 1.0601   Train accuracy: 0.4673   Test accuracy: 0.4664  \n",
      "Epoch: 137/200   Training loss: 1.0502   Testing loss: 1.0602   Train accuracy: 0.4683   Test accuracy: 0.4656  \n",
      "Epoch: 138/200   Training loss: 1.0501   Testing loss: 1.0597   Train accuracy: 0.4676   Test accuracy: 0.4654  \n",
      "Epoch: 139/200   Training loss: 1.0506   Testing loss: 1.0593   Train accuracy: 0.4675   Test accuracy: 0.4659  \n",
      "Epoch: 140/200   Training loss: 1.0502   Testing loss: 1.0592   Train accuracy: 0.4675   Test accuracy: 0.4659  \n",
      "Epoch: 141/200   Training loss: 1.0505   Testing loss: 1.0597   Train accuracy: 0.4680   Test accuracy: 0.4664  \n",
      "Epoch: 142/200   Training loss: 1.0504   Testing loss: 1.0590   Train accuracy: 0.4675   Test accuracy: 0.4666  \n",
      "Epoch: 143/200   Training loss: 1.0501   Testing loss: 1.0601   Train accuracy: 0.4677   Test accuracy: 0.4664  \n",
      "Epoch: 144/200   Training loss: 1.0504   Testing loss: 1.0584   Train accuracy: 0.4681   Test accuracy: 0.4668  \n",
      "Epoch: 145/200   Training loss: 1.0507   Testing loss: 1.0587   Train accuracy: 0.4685   Test accuracy: 0.4671  \n",
      "Epoch: 146/200   Training loss: 1.0498   Testing loss: 1.0588   Train accuracy: 0.4685   Test accuracy: 0.4673  \n"
     ]
    },
    {
     "name": "stdout",
     "output_type": "stream",
     "text": [
      "Epoch: 147/200   Training loss: 1.0496   Testing loss: 1.0586   Train accuracy: 0.4679   Test accuracy: 0.4673  \n",
      "Epoch: 148/200   Training loss: 1.0496   Testing loss: 1.0587   Train accuracy: 0.4675   Test accuracy: 0.4673  \n",
      "Epoch: 149/200   Training loss: 1.0500   Testing loss: 1.0592   Train accuracy: 0.4683   Test accuracy: 0.4673  \n",
      "Epoch: 150/200   Training loss: 1.0494   Testing loss: 1.0586   Train accuracy: 0.4688   Test accuracy: 0.4666  \n",
      "Epoch: 151/200   Training loss: 1.0496   Testing loss: 1.0590   Train accuracy: 0.4677   Test accuracy: 0.4666  \n",
      "Epoch: 152/200   Training loss: 1.0497   Testing loss: 1.0587   Train accuracy: 0.4683   Test accuracy: 0.4666  \n",
      "Epoch: 153/200   Training loss: 1.0494   Testing loss: 1.0591   Train accuracy: 0.4677   Test accuracy: 0.4666  \n",
      "Epoch: 154/200   Training loss: 1.0495   Testing loss: 1.0588   Train accuracy: 0.4681   Test accuracy: 0.4664  \n",
      "Epoch: 155/200   Training loss: 1.0495   Testing loss: 1.0589   Train accuracy: 0.4685   Test accuracy: 0.4666  \n",
      "Epoch: 156/200   Training loss: 1.0498   Testing loss: 1.0596   Train accuracy: 0.4688   Test accuracy: 0.4661  \n",
      "Epoch: 157/200   Training loss: 1.0493   Testing loss: 1.0593   Train accuracy: 0.4686   Test accuracy: 0.4671  \n",
      "Epoch: 158/200   Training loss: 1.0486   Testing loss: 1.0590   Train accuracy: 0.4686   Test accuracy: 0.4664  \n",
      "Epoch: 159/200   Training loss: 1.0494   Testing loss: 1.0588   Train accuracy: 0.4688   Test accuracy: 0.4666  \n",
      "Epoch: 160/200   Training loss: 1.0489   Testing loss: 1.0592   Train accuracy: 0.4690   Test accuracy: 0.4661  \n",
      "Epoch: 161/200   Training loss: 1.0492   Testing loss: 1.0588   Train accuracy: 0.4679   Test accuracy: 0.4666  \n",
      "Epoch: 162/200   Training loss: 1.0485   Testing loss: 1.0594   Train accuracy: 0.4688   Test accuracy: 0.4666  \n",
      "Epoch: 163/200   Training loss: 1.0492   Testing loss: 1.0593   Train accuracy: 0.4682   Test accuracy: 0.4668  \n",
      "Epoch: 164/200   Training loss: 1.0489   Testing loss: 1.0592   Train accuracy: 0.4682   Test accuracy: 0.4678  \n",
      "Epoch: 165/200   Training loss: 1.0491   Testing loss: 1.0593   Train accuracy: 0.4691   Test accuracy: 0.4682  \n",
      "Epoch: 166/200   Training loss: 1.0490   Testing loss: 1.0587   Train accuracy: 0.4689   Test accuracy: 0.4675  \n",
      "Epoch: 167/200   Training loss: 1.0488   Testing loss: 1.0580   Train accuracy: 0.4691   Test accuracy: 0.4671  \n",
      "Epoch: 168/200   Training loss: 1.0488   Testing loss: 1.0588   Train accuracy: 0.4691   Test accuracy: 0.4673  \n",
      "Epoch: 169/200   Training loss: 1.0484   Testing loss: 1.0585   Train accuracy: 0.4694   Test accuracy: 0.4671  \n",
      "Epoch: 170/200   Training loss: 1.0479   Testing loss: 1.0592   Train accuracy: 0.4690   Test accuracy: 0.4668  \n",
      "Epoch: 171/200   Training loss: 1.0482   Testing loss: 1.0587   Train accuracy: 0.4697   Test accuracy: 0.4666  \n",
      "Epoch: 172/200   Training loss: 1.0484   Testing loss: 1.0578   Train accuracy: 0.4691   Test accuracy: 0.4671  \n",
      "Epoch: 173/200   Training loss: 1.0480   Testing loss: 1.0593   Train accuracy: 0.4703   Test accuracy: 0.4671  \n",
      "Epoch: 174/200   Training loss: 1.0481   Testing loss: 1.0588   Train accuracy: 0.4694   Test accuracy: 0.4673  \n",
      "Epoch: 175/200   Training loss: 1.0482   Testing loss: 1.0595   Train accuracy: 0.4692   Test accuracy: 0.4668  \n",
      "Epoch: 176/200   Training loss: 1.0478   Testing loss: 1.0586   Train accuracy: 0.4701   Test accuracy: 0.4668  \n",
      "Epoch: 177/200   Training loss: 1.0484   Testing loss: 1.0584   Train accuracy: 0.4701   Test accuracy: 0.4673  \n",
      "Epoch: 178/200   Training loss: 1.0478   Testing loss: 1.0592   Train accuracy: 0.4696   Test accuracy: 0.4673  \n",
      "Epoch: 179/200   Training loss: 1.0475   Testing loss: 1.0585   Train accuracy: 0.4702   Test accuracy: 0.4675  \n",
      "Epoch: 180/200   Training loss: 1.0480   Testing loss: 1.0592   Train accuracy: 0.4700   Test accuracy: 0.4668  \n",
      "Epoch: 181/200   Training loss: 1.0477   Testing loss: 1.0575   Train accuracy: 0.4706   Test accuracy: 0.4675  \n",
      "Epoch: 182/200   Training loss: 1.0477   Testing loss: 1.0593   Train accuracy: 0.4705   Test accuracy: 0.4675  \n",
      "Epoch: 183/200   Training loss: 1.0472   Testing loss: 1.0591   Train accuracy: 0.4706   Test accuracy: 0.4673  \n",
      "Epoch: 184/200   Training loss: 1.0477   Testing loss: 1.0588   Train accuracy: 0.4705   Test accuracy: 0.4680  \n",
      "Epoch: 185/200   Training loss: 1.0480   Testing loss: 1.0584   Train accuracy: 0.4705   Test accuracy: 0.4675  \n",
      "Epoch: 186/200   Training loss: 1.0477   Testing loss: 1.0581   Train accuracy: 0.4711   Test accuracy: 0.4675  \n",
      "Epoch: 187/200   Training loss: 1.0475   Testing loss: 1.0587   Train accuracy: 0.4713   Test accuracy: 0.4682  \n",
      "Epoch: 188/200   Training loss: 1.0472   Testing loss: 1.0584   Train accuracy: 0.4712   Test accuracy: 0.4687  \n",
      "Epoch: 189/200   Training loss: 1.0476   Testing loss: 1.0585   Train accuracy: 0.4708   Test accuracy: 0.4678  \n",
      "Epoch: 190/200   Training loss: 1.0471   Testing loss: 1.0590   Train accuracy: 0.4713   Test accuracy: 0.4687  \n",
      "Epoch: 191/200   Training loss: 1.0471   Testing loss: 1.0579   Train accuracy: 0.4714   Test accuracy: 0.4685  \n",
      "Epoch: 192/200   Training loss: 1.0473   Testing loss: 1.0580   Train accuracy: 0.4716   Test accuracy: 0.4682  \n",
      "Epoch: 193/200   Training loss: 1.0474   Testing loss: 1.0576   Train accuracy: 0.4713   Test accuracy: 0.4682  \n",
      "Epoch: 194/200   Training loss: 1.0466   Testing loss: 1.0585   Train accuracy: 0.4719   Test accuracy: 0.4687  \n",
      "Epoch: 195/200   Training loss: 1.0468   Testing loss: 1.0583   Train accuracy: 0.4717   Test accuracy: 0.4694  \n",
      "Epoch: 196/200   Training loss: 1.0473   Testing loss: 1.0583   Train accuracy: 0.4719   Test accuracy: 0.4696  \n",
      "Epoch: 197/200   Training loss: 1.0473   Testing loss: 1.0587   Train accuracy: 0.4718   Test accuracy: 0.4689  \n",
      "Epoch: 198/200   Training loss: 1.0468   Testing loss: 1.0593   Train accuracy: 0.4719   Test accuracy: 0.4689  \n",
      "Epoch: 199/200   Training loss: 1.0471   Testing loss: 1.0578   Train accuracy: 0.4718   Test accuracy: 0.4682  \n"
     ]
    }
   ],
   "source": [
    "epochs = 200\n",
    "train_loss, val_loss = [], []\n",
    "accuracy_total_train, accuracy_total_val = [], []\n",
    "\n",
    "for epoch in range(epochs):\n",
    "   \n",
    "    total_train_loss = 0\n",
    "    total_val_loss = 0\n",
    "\n",
    "    model.train()\n",
    "    \n",
    "    total = 0\n",
    "    # training our model\n",
    "    for idx, (x, y) in enumerate(train_loader):\n",
    "\n",
    "        optimizer.zero_grad()\n",
    "        pred = model(x)\n",
    "        loss = criterion(pred, y)\n",
    "        total_train_loss += loss.item()\n",
    "        loss.backward()\n",
    "        optimizer.step()\n",
    "\n",
    "        pred = torch.nn.functional.softmax(pred, dim=1)\n",
    "        for i, p in enumerate(pred):\n",
    "            if y[i] == torch.max(p.data, 0)[1]:\n",
    "                total = total + 1\n",
    "                \n",
    "    accuracy_train = total / len(Team_Train)\n",
    "    accuracy_total_train.append(accuracy_train)\n",
    "\n",
    "    total_train_loss = total_train_loss / (idx + 1)\n",
    "    train_loss.append(total_train_loss)\n",
    "    \n",
    "    # validating our model\n",
    "    model.eval()\n",
    "    total = 0\n",
    "    for idx, (x, y) in enumerate(test_loader):\n",
    "        pred = model(x)\n",
    "        loss = criterion(pred, y)\n",
    "        total_val_loss += loss.item()\n",
    "\n",
    "        pred = torch.nn.functional.softmax(pred, dim=1)\n",
    "        for i, p in enumerate(pred):\n",
    "            if y[i] == torch.max(p.data, 0)[1]:\n",
    "                total = total + 1\n",
    "\n",
    "    accuracy_val = total / len(Team_Test)\n",
    "    accuracy_total_val.append(accuracy_val)\n",
    "\n",
    "    total_val_loss = total_val_loss / (idx + 1)\n",
    "    val_loss.append(total_val_loss)\n",
    "\n",
    "    if epoch % 1 == 0:\n",
    "        print(\"Epoch: {}/{}  \".format(epoch, epochs),\n",
    "            \"Training loss: {:.4f}  \".format(total_train_loss),\n",
    "            \"Testing loss: {:.4f}  \".format(total_val_loss),\n",
    "            \"Train accuracy: {:.4f}  \".format(accuracy_train),\n",
    "            \"Test accuracy: {:.4f}  \".format(accuracy_val))"
   ]
  },
  {
   "cell_type": "code",
   "execution_count": null,
   "metadata": {},
   "outputs": [],
   "source": []
  },
  {
   "cell_type": "code",
   "execution_count": 123,
   "metadata": {},
   "outputs": [
    {
     "data": {
      "image/png": "[encoded data removed]",
      "text/plain": [
       "<Figure size 432x288 with 1 Axes>"
      ]
     },
     "metadata": {
      "needs_background": "light"
     },
     "output_type": "display_data"
    }
   ],
   "source": [
    "plt.plot(train_loss, label='Training loss')\n",
    "plt.plot(val_loss, label='Test loss')\n",
    "plt.legend()\n",
    "plt.grid()"
   ]
  },
  {
   "cell_type": "code",
   "execution_count": 124,
   "metadata": {},
   "outputs": [
    {
     "data": {
      "image/png": "[encoded data removed]",
      "text/plain": [
       "<Figure size 432x288 with 1 Axes>"
      ]
     },
     "metadata": {
      "needs_background": "light"
     },
     "output_type": "display_data"
    }
   ],
   "source": [
    "plt.plot(accuracy_total_train, label='Training Accuracy')\n",
    "plt.plot(accuracy_total_val, label='Test Accuracy')\n",
    "plt.legend()\n",
    "plt.grid()"
   ]
  },
  {
   "cell_type": "code",
   "execution_count": 125,
   "metadata": {},
   "outputs": [],
   "source": [
    "#saving the model\n",
    "\n",
    "MODEL_PATH = 'teammodel.pth'\n",
    "torch.save(model, MODEL_PATH)"
   ]
  },
  {
   "cell_type": "code",
   "execution_count": 126,
   "metadata": {},
   "outputs": [],
   "source": [
    "model = torch.load(MODEL_PATH)"
   ]
  },
  {
   "cell_type": "code",
   "execution_count": 127,
   "metadata": {},
   "outputs": [],
   "source": [
    "#Evaluation\n",
    "classes = ['Loss','Draw','Win']\n",
    "predict_list = []\n",
    "y_pred = model(Team_Test)\n",
    "\n",
    "for i, p in enumerate(y_pred):\n",
    "    y_pred = torch.max(p.data, 0)[1]\n",
    "    predict_list.append(y_pred)\n",
    "stacked_tensor = torch.stack(predict_list)\n",
    "y_test = y_test.cpu()"
   ]
  },
  {
   "cell_type": "code",
   "execution_count": 128,
   "metadata": {},
   "outputs": [
    {
     "name": "stdout",
     "output_type": "stream",
     "text": [
      "              precision    recall  f1-score   support\n",
      "\n",
      "        Loss       0.40      0.21      0.27      1189\n",
      "        Draw       0.00      0.00      0.00      1102\n",
      "         Win       0.48      0.89      0.62      1959\n",
      "\n",
      "    accuracy                           0.47      4250\n",
      "   macro avg       0.29      0.37      0.30      4250\n",
      "weighted avg       0.33      0.47      0.36      4250\n",
      "\n"
     ]
    },
    {
     "name": "stderr",
     "output_type": "stream",
     "text": [
      "C:\\Users\\herath\\anaconda3\\lib\\site-packages\\sklearn\\metrics\\_classification.py:1221: UndefinedMetricWarning: Precision and F-score are ill-defined and being set to 0.0 in labels with no predicted samples. Use `zero_division` parameter to control this behavior.\n",
      "  _warn_prf(average, modifier, msg_start, len(result))\n"
     ]
    }
   ],
   "source": [
    "print(classification_report(y_test, stacked_tensor, target_names=classes))"
   ]
  },
  {
   "cell_type": "code",
   "execution_count": 129,
   "metadata": {},
   "outputs": [
    {
     "data": {
      "text/plain": [
       "Text(0.5, 15.0, 'Predicted label')"
      ]
     },
     "execution_count": 129,
     "metadata": {},
     "output_type": "execute_result"
    },
    {
     "data": {
      "image/png": "[encoded data removed]",
      "text/plain": [
       "<Figure size 432x288 with 2 Axes>"
      ]
     },
     "metadata": {
      "needs_background": "light"
     },
     "output_type": "display_data"
    }
   ],
   "source": [
    "cm = confusion_matrix(y_test, stacked_tensor)\n",
    "df_cm = pd.DataFrame(cm, index=classes, columns=classes)\n",
    "hmap = sns.heatmap(df_cm, annot=True, fmt=\"d\")\n",
    "hmap.yaxis.set_ticklabels(hmap.yaxis.get_ticklabels(), rotation=0, ha='right')\n",
    "hmap.xaxis.set_ticklabels(hmap.xaxis.get_ticklabels(), rotation=0, ha='right')\n",
    "plt.ylabel('True label')\n",
    "plt.xlabel('Predicted label')"
   ]
  },
  {
   "cell_type": "code",
   "execution_count": 130,
   "metadata": {},
   "outputs": [
    {
     "name": "stdout",
     "output_type": "stream",
     "text": [
      "Accuracy of the network on the 4250 matches: 46 %\n"
     ]
    }
   ],
   "source": [
    "correct = 0\n",
    "total = 0\n",
    "\n",
    "with torch.no_grad():\n",
    "    for i, (x, y) in enumerate(test_loader):\n",
    "        outputs = model(x)\n",
    "        _, predicted = torch.max(outputs.data, 1)\n",
    "        total += y.size(0)\n",
    "        correct += (predicted == y).sum().item()\n",
    "\n",
    "print('Accuracy of the network on the 4250 matches: %d %%' % (\n",
    "    100 * correct / total))"
   ]
  },
  {
   "cell_type": "code",
   "execution_count": 131,
   "metadata": {},
   "outputs": [
    {
     "data": {
      "text/plain": [
       "torch.Size([16996, 1, 81])"
      ]
     },
     "execution_count": 131,
     "metadata": {},
     "output_type": "execute_result"
    }
   ],
   "source": [
    "Team_Train1 = Team_Train.unsqueeze(1)\n",
    "Team_Train1.size()"
   ]
  },
  {
   "cell_type": "code",
   "execution_count": 132,
   "metadata": {},
   "outputs": [
    {
     "data": {
      "text/plain": [
       "torch.Size([4250, 1, 81])"
      ]
     },
     "execution_count": 132,
     "metadata": {},
     "output_type": "execute_result"
    }
   ],
   "source": [
    "Team_Test1 = Team_Test.unsqueeze(1)\n",
    "Team_Test1.size()"
   ]
  },
  {
   "cell_type": "code",
   "execution_count": 153,
   "metadata": {},
   "outputs": [],
   "source": [
    "import torch.utils.data as data_utils\n",
    "\n",
    "train1 = data_utils.TensorDataset(Team_Train1, y_train)\n",
    "train_loader1 = data_utils.DataLoader(train1, batch_size=128, shuffle=True)\n",
    "\n",
    "\n",
    "test1 = data_utils.TensorDataset(Team_Test1, y_test)\n",
    "test_loader1 = data_utils.DataLoader(test1, batch_size=128, shuffle=True)"
   ]
  },
  {
   "cell_type": "code",
   "execution_count": 165,
   "metadata": {},
   "outputs": [],
   "source": [
    "import torch\n",
    "from torch import nn\n",
    "from torch import optim\n",
    "import torch.nn.functional as F\n",
    "\n",
    "class Network(nn.Module):\n",
    "\n",
    "    def __init__(self):\n",
    "        super(Network, self).__init__()\n",
    "        # Convolutional Neural Network Layer \n",
    "        self.convolutaional_neural_network_layers = nn.Sequential(\n",
    "                # Here we are defining our 2D convolutional layers\n",
    "                # We can calculate the output size of each convolutional layer using the following formular\n",
    "                # outputOfEachConvLayer = [(in_channel + 2*padding - kernel_size) / stride] + 1\n",
    "                # We have in_channels=1 because our input is a grayscale image\n",
    "                nn.Conv1d(in_channels=1, out_channels=4, kernel_size=3, padding=0, stride=1), # (N, 1, 28, 28) \n",
    "                nn.ReLU(),\n",
    "          \n",
    "                # output of our second conv layer\n",
    "                nn.Conv1d(in_channels=4, out_channels=8, kernel_size=3, padding=0, stride=1),\n",
    "                nn.ReLU(), \n",
    "                nn.Conv1d(in_channels=8, out_channels=16, kernel_size=3, padding=0, stride=1),\n",
    "                nn.ReLU()\n",
    "        )\n",
    "\n",
    "        # Linear layer\n",
    "        self.linear_layers = nn.Sequential(\n",
    "                # We have the output_channel=24 of our second conv layer, and 3*3 is derived by the formular \n",
    "                # which is the output of each convolutional layer\n",
    "                nn.Linear(in_features=16*75, out_features=300),          \n",
    "                nn.ReLU(),\n",
    "                nn.Dropout(p=0.25),\n",
    "                nn.Linear(in_features=300, out_features=30),\n",
    "                nn.ReLU(),\n",
    "                nn.Dropout(p=0.25),\n",
    "                nn.Linear(in_features=30, out_features=3) # The output is 3 which should match the size of our class\n",
    "        )\n",
    "\n",
    "    # Defining the forward pass \n",
    "    def forward(self, x):\n",
    "        x = self.convolutaional_neural_network_layers(x)\n",
    "        # After we get the output of our convolutional layer we must flatten it or rearrange the output into a vector\n",
    "        x = x.view(x.size(0), -1)\n",
    "        # Then pass it through the linear layer\n",
    "        x = self.linear_layers(x)\n",
    "        return x"
   ]
  },
  {
   "cell_type": "code",
   "execution_count": 166,
   "metadata": {},
   "outputs": [],
   "source": [
    "#Doing it on GPU\n",
    "device = torch.device(\"cuda:0\" if torch.cuda.is_available() else \"cpu\")\n",
    "\n",
    "net = Network()\n",
    "net.to(device)\n",
    "\n",
    "#Training\n",
    "optimizer1 = optim.SGD(net.parameters(), lr=0.005)\n",
    "criterion1 = nn.CrossEntropyLoss()\n"
   ]
  },
  {
   "cell_type": "code",
   "execution_count": 167,
   "metadata": {},
   "outputs": [
    {
     "name": "stdout",
     "output_type": "stream",
     "text": [
      "Epoch: 0/1000   Training loss: 1.0703   Testing loss: 1.0673   Train accuracy: 0.4532   Test accuracy: 0.4602  \n",
      "Epoch: 1/1000   Training loss: 1.0644   Testing loss: 1.0653   Train accuracy: 0.4585   Test accuracy: 0.4607  \n",
      "Epoch: 2/1000   Training loss: 1.0611   Testing loss: 1.0649   Train accuracy: 0.4593   Test accuracy: 0.4616  \n",
      "Epoch: 3/1000   Training loss: 1.0592   Testing loss: 1.0619   Train accuracy: 0.4602   Test accuracy: 0.4605  \n",
      "Epoch: 4/1000   Training loss: 1.0583   Testing loss: 1.0624   Train accuracy: 0.4609   Test accuracy: 0.4595  \n",
      "Epoch: 5/1000   Training loss: 1.0569   Testing loss: 1.0568   Train accuracy: 0.4626   Test accuracy: 0.4598  \n",
      "Epoch: 6/1000   Training loss: 1.0566   Testing loss: 1.0600   Train accuracy: 0.4623   Test accuracy: 0.4628  \n",
      "Epoch: 7/1000   Training loss: 1.0554   Testing loss: 1.0581   Train accuracy: 0.4633   Test accuracy: 0.4614  \n",
      "Epoch: 8/1000   Training loss: 1.0542   Testing loss: 1.0601   Train accuracy: 0.4662   Test accuracy: 0.4647  \n",
      "Epoch: 9/1000   Training loss: 1.0531   Testing loss: 1.0614   Train accuracy: 0.4668   Test accuracy: 0.4642  \n",
      "Epoch: 10/1000   Training loss: 1.0523   Testing loss: 1.0599   Train accuracy: 0.4667   Test accuracy: 0.4626  \n",
      "Epoch: 11/1000   Training loss: 1.0527   Testing loss: 1.0567   Train accuracy: 0.4681   Test accuracy: 0.4652  \n",
      "Epoch: 12/1000   Training loss: 1.0546   Testing loss: 1.0600   Train accuracy: 0.4674   Test accuracy: 0.4621  \n",
      "Epoch: 13/1000   Training loss: 1.0530   Testing loss: 1.0604   Train accuracy: 0.4667   Test accuracy: 0.4616  \n",
      "Epoch: 14/1000   Training loss: 1.0507   Testing loss: 1.0609   Train accuracy: 0.4678   Test accuracy: 0.4635  \n",
      "Epoch: 15/1000   Training loss: 1.0506   Testing loss: 1.0583   Train accuracy: 0.4683   Test accuracy: 0.4659  \n",
      "Epoch: 16/1000   Training loss: 1.0497   Testing loss: 1.0617   Train accuracy: 0.4686   Test accuracy: 0.4649  \n",
      "Epoch: 17/1000   Training loss: 1.0499   Testing loss: 1.0605   Train accuracy: 0.4683   Test accuracy: 0.4635  \n",
      "Epoch: 18/1000   Training loss: 1.0493   Testing loss: 1.0552   Train accuracy: 0.4679   Test accuracy: 0.4664  \n",
      "Epoch: 19/1000   Training loss: 1.0489   Testing loss: 1.0550   Train accuracy: 0.4688   Test accuracy: 0.4675  \n",
      "Epoch: 20/1000   Training loss: 1.0487   Testing loss: 1.0598   Train accuracy: 0.4694   Test accuracy: 0.4647  \n",
      "Epoch: 21/1000   Training loss: 1.0499   Testing loss: 1.0537   Train accuracy: 0.4697   Test accuracy: 0.4649  \n",
      "Epoch: 22/1000   Training loss: 1.0483   Testing loss: 1.0559   Train accuracy: 0.4701   Test accuracy: 0.4668  \n",
      "Epoch: 23/1000   Training loss: 1.0480   Testing loss: 1.0555   Train accuracy: 0.4706   Test accuracy: 0.4656  \n",
      "Epoch: 24/1000   Training loss: 1.0481   Testing loss: 1.0583   Train accuracy: 0.4704   Test accuracy: 0.4659  \n",
      "Epoch: 25/1000   Training loss: 1.0462   Testing loss: 1.0560   Train accuracy: 0.4699   Test accuracy: 0.4682  \n",
      "Epoch: 26/1000   Training loss: 1.0482   Testing loss: 1.0547   Train accuracy: 0.4699   Test accuracy: 0.4628  \n",
      "Epoch: 27/1000   Training loss: 1.0479   Testing loss: 1.0550   Train accuracy: 0.4709   Test accuracy: 0.4656  \n",
      "Epoch: 28/1000   Training loss: 1.0454   Testing loss: 1.0588   Train accuracy: 0.4701   Test accuracy: 0.4671  \n",
      "Epoch: 29/1000   Training loss: 1.0461   Testing loss: 1.0574   Train accuracy: 0.4709   Test accuracy: 0.4649  \n",
      "Epoch: 30/1000   Training loss: 1.0468   Testing loss: 1.0602   Train accuracy: 0.4711   Test accuracy: 0.4581  \n",
      "Epoch: 31/1000   Training loss: 1.0459   Testing loss: 1.0558   Train accuracy: 0.4707   Test accuracy: 0.4638  \n",
      "Epoch: 32/1000   Training loss: 1.0448   Testing loss: 1.0588   Train accuracy: 0.4725   Test accuracy: 0.4591  \n",
      "Epoch: 33/1000   Training loss: 1.0457   Testing loss: 1.0573   Train accuracy: 0.4706   Test accuracy: 0.4633  \n",
      "Epoch: 34/1000   Training loss: 1.0447   Testing loss: 1.0570   Train accuracy: 0.4719   Test accuracy: 0.4572  \n",
      "Epoch: 35/1000   Training loss: 1.0438   Testing loss: 1.0528   Train accuracy: 0.4722   Test accuracy: 0.4675  \n",
      "Epoch: 36/1000   Training loss: 1.0455   Testing loss: 1.0590   Train accuracy: 0.4716   Test accuracy: 0.4558  \n",
      "Epoch: 37/1000   Training loss: 1.0439   Testing loss: 1.0593   Train accuracy: 0.4725   Test accuracy: 0.4638  \n",
      "Epoch: 38/1000   Training loss: 1.0425   Testing loss: 1.0523   Train accuracy: 0.4739   Test accuracy: 0.4666  \n",
      "Epoch: 39/1000   Training loss: 1.0428   Testing loss: 1.0571   Train accuracy: 0.4730   Test accuracy: 0.4649  \n",
      "Epoch: 40/1000   Training loss: 1.0431   Testing loss: 1.0571   Train accuracy: 0.4739   Test accuracy: 0.4548  \n",
      "Epoch: 41/1000   Training loss: 1.0447   Testing loss: 1.0556   Train accuracy: 0.4718   Test accuracy: 0.4647  \n",
      "Epoch: 42/1000   Training loss: 1.0420   Testing loss: 1.0539   Train accuracy: 0.4734   Test accuracy: 0.4659  \n",
      "Epoch: 43/1000   Training loss: 1.0411   Testing loss: 1.0534   Train accuracy: 0.4741   Test accuracy: 0.4680  \n",
      "Epoch: 44/1000   Training loss: 1.0402   Testing loss: 1.0609   Train accuracy: 0.4745   Test accuracy: 0.4661  \n",
      "Epoch: 45/1000   Training loss: 1.0410   Testing loss: 1.0510   Train accuracy: 0.4745   Test accuracy: 0.4687  \n",
      "Epoch: 46/1000   Training loss: 1.0409   Testing loss: 1.0547   Train accuracy: 0.4761   Test accuracy: 0.4666  \n",
      "Epoch: 47/1000   Training loss: 1.0417   Testing loss: 1.0535   Train accuracy: 0.4766   Test accuracy: 0.4638  \n",
      "Epoch: 48/1000   Training loss: 1.0402   Testing loss: 1.0529   Train accuracy: 0.4766   Test accuracy: 0.4649  \n",
      "Epoch: 49/1000   Training loss: 1.0413   Testing loss: 1.0529   Train accuracy: 0.4756   Test accuracy: 0.4673  \n",
      "Epoch: 50/1000   Training loss: 1.0404   Testing loss: 1.0545   Train accuracy: 0.4755   Test accuracy: 0.4616  \n",
      "Epoch: 51/1000   Training loss: 1.0383   Testing loss: 1.0573   Train accuracy: 0.4773   Test accuracy: 0.4659  \n",
      "Epoch: 52/1000   Training loss: 1.0383   Testing loss: 1.0532   Train accuracy: 0.4766   Test accuracy: 0.4645  \n",
      "Epoch: 53/1000   Training loss: 1.0385   Testing loss: 1.0507   Train accuracy: 0.4759   Test accuracy: 0.4671  \n",
      "Epoch: 54/1000   Training loss: 1.0379   Testing loss: 1.0529   Train accuracy: 0.4777   Test accuracy: 0.4673  \n",
      "Epoch: 55/1000   Training loss: 1.0369   Testing loss: 1.0571   Train accuracy: 0.4780   Test accuracy: 0.4586  \n",
      "Epoch: 56/1000   Training loss: 1.0364   Testing loss: 1.0481   Train accuracy: 0.4787   Test accuracy: 0.4682  \n",
      "Epoch: 57/1000   Training loss: 1.0375   Testing loss: 1.0635   Train accuracy: 0.4788   Test accuracy: 0.4478  \n",
      "Epoch: 58/1000   Training loss: 1.0379   Testing loss: 1.0554   Train accuracy: 0.4792   Test accuracy: 0.4616  \n",
      "Epoch: 59/1000   Training loss: 1.0354   Testing loss: 1.0539   Train accuracy: 0.4794   Test accuracy: 0.4638  \n",
      "Epoch: 60/1000   Training loss: 1.0374   Testing loss: 1.0587   Train accuracy: 0.4809   Test accuracy: 0.4551  \n",
      "Epoch: 61/1000   Training loss: 1.0368   Testing loss: 1.0501   Train accuracy: 0.4801   Test accuracy: 0.4642  \n",
      "Epoch: 62/1000   Training loss: 1.0345   Testing loss: 1.0541   Train accuracy: 0.4803   Test accuracy: 0.4631  \n",
      "Epoch: 63/1000   Training loss: 1.0342   Testing loss: 1.0498   Train accuracy: 0.4811   Test accuracy: 0.4682  \n",
      "Epoch: 64/1000   Training loss: 1.0338   Testing loss: 1.0531   Train accuracy: 0.4798   Test accuracy: 0.4673  \n",
      "Epoch: 65/1000   Training loss: 1.0344   Testing loss: 1.0497   Train accuracy: 0.4823   Test accuracy: 0.4678  \n",
      "Epoch: 66/1000   Training loss: 1.0338   Testing loss: 1.0586   Train accuracy: 0.4818   Test accuracy: 0.4614  \n",
      "Epoch: 67/1000   Training loss: 1.0336   Testing loss: 1.0525   Train accuracy: 0.4836   Test accuracy: 0.4680  \n",
      "Epoch: 68/1000   Training loss: 1.0327   Testing loss: 1.0593   Train accuracy: 0.4819   Test accuracy: 0.4591  \n",
      "Epoch: 69/1000   Training loss: 1.0331   Testing loss: 1.0541   Train accuracy: 0.4818   Test accuracy: 0.4621  \n",
      "Epoch: 70/1000   Training loss: 1.0310   Testing loss: 1.0526   Train accuracy: 0.4832   Test accuracy: 0.4602  \n",
      "Epoch: 71/1000   Training loss: 1.0323   Testing loss: 1.0697   Train accuracy: 0.4828   Test accuracy: 0.4374  \n",
      "Epoch: 72/1000   Training loss: 1.0300   Testing loss: 1.0572   Train accuracy: 0.4825   Test accuracy: 0.4685  \n"
     ]
    },
    {
     "name": "stdout",
     "output_type": "stream",
     "text": [
      "Epoch: 73/1000   Training loss: 1.0316   Testing loss: 1.0525   Train accuracy: 0.4855   Test accuracy: 0.4642  \n",
      "Epoch: 74/1000   Training loss: 1.0291   Testing loss: 1.0515   Train accuracy: 0.4827   Test accuracy: 0.4640  \n",
      "Epoch: 75/1000   Training loss: 1.0307   Testing loss: 1.0482   Train accuracy: 0.4854   Test accuracy: 0.4706  \n",
      "Epoch: 76/1000   Training loss: 1.0292   Testing loss: 1.0546   Train accuracy: 0.4835   Test accuracy: 0.4654  \n",
      "Epoch: 77/1000   Training loss: 1.0297   Testing loss: 1.0548   Train accuracy: 0.4848   Test accuracy: 0.4678  \n",
      "Epoch: 78/1000   Training loss: 1.0284   Testing loss: 1.0496   Train accuracy: 0.4854   Test accuracy: 0.4645  \n",
      "Epoch: 79/1000   Training loss: 1.0287   Testing loss: 1.0730   Train accuracy: 0.4848   Test accuracy: 0.4266  \n",
      "Epoch: 80/1000   Training loss: 1.0273   Testing loss: 1.0515   Train accuracy: 0.4866   Test accuracy: 0.4659  \n",
      "Epoch: 81/1000   Training loss: 1.0266   Testing loss: 1.0600   Train accuracy: 0.4875   Test accuracy: 0.4668  \n",
      "Epoch: 82/1000   Training loss: 1.0293   Testing loss: 1.0545   Train accuracy: 0.4874   Test accuracy: 0.4593  \n",
      "Epoch: 83/1000   Training loss: 1.0280   Testing loss: 1.0674   Train accuracy: 0.4862   Test accuracy: 0.4369  \n",
      "Epoch: 84/1000   Training loss: 1.0271   Testing loss: 1.0516   Train accuracy: 0.4859   Test accuracy: 0.4664  \n",
      "Epoch: 85/1000   Training loss: 1.0261   Testing loss: 1.0469   Train accuracy: 0.4868   Test accuracy: 0.4687  \n",
      "Epoch: 86/1000   Training loss: 1.0261   Testing loss: 1.0525   Train accuracy: 0.4875   Test accuracy: 0.4685  \n",
      "Epoch: 87/1000   Training loss: 1.0242   Testing loss: 1.0606   Train accuracy: 0.4901   Test accuracy: 0.4678  \n",
      "Epoch: 88/1000   Training loss: 1.0260   Testing loss: 1.0468   Train accuracy: 0.4871   Test accuracy: 0.4687  \n",
      "Epoch: 89/1000   Training loss: 1.0257   Testing loss: 1.0666   Train accuracy: 0.4842   Test accuracy: 0.4656  \n",
      "Epoch: 90/1000   Training loss: 1.0250   Testing loss: 1.0615   Train accuracy: 0.4881   Test accuracy: 0.4536  \n",
      "Epoch: 91/1000   Training loss: 1.0237   Testing loss: 1.0487   Train accuracy: 0.4872   Test accuracy: 0.4701  \n",
      "Epoch: 92/1000   Training loss: 1.0238   Testing loss: 1.0661   Train accuracy: 0.4854   Test accuracy: 0.4675  \n",
      "Epoch: 93/1000   Training loss: 1.0233   Testing loss: 1.0952   Train accuracy: 0.4881   Test accuracy: 0.4007  \n",
      "Epoch: 94/1000   Training loss: 1.0235   Testing loss: 1.0502   Train accuracy: 0.4897   Test accuracy: 0.4687  \n",
      "Epoch: 95/1000   Training loss: 1.0218   Testing loss: 1.0535   Train accuracy: 0.4893   Test accuracy: 0.4694  \n",
      "Epoch: 96/1000   Training loss: 1.0238   Testing loss: 1.0697   Train accuracy: 0.4875   Test accuracy: 0.4381  \n",
      "Epoch: 97/1000   Training loss: 1.0209   Testing loss: 1.0758   Train accuracy: 0.4898   Test accuracy: 0.4668  \n",
      "Epoch: 98/1000   Training loss: 1.0248   Testing loss: 1.0441   Train accuracy: 0.4886   Test accuracy: 0.4642  \n",
      "Epoch: 99/1000   Training loss: 1.0209   Testing loss: 1.0722   Train accuracy: 0.4903   Test accuracy: 0.4369  \n",
      "Epoch: 100/1000   Training loss: 1.0223   Testing loss: 1.0676   Train accuracy: 0.4890   Test accuracy: 0.4381  \n",
      "Epoch: 101/1000   Training loss: 1.0224   Testing loss: 1.0540   Train accuracy: 0.4893   Test accuracy: 0.4532  \n",
      "Epoch: 102/1000   Training loss: 1.0230   Testing loss: 1.0505   Train accuracy: 0.4878   Test accuracy: 0.4645  \n",
      "Epoch: 103/1000   Training loss: 1.0225   Testing loss: 1.0486   Train accuracy: 0.4898   Test accuracy: 0.4678  \n",
      "Epoch: 104/1000   Training loss: 1.0197   Testing loss: 1.0733   Train accuracy: 0.4925   Test accuracy: 0.4216  \n",
      "Epoch: 105/1000   Training loss: 1.0196   Testing loss: 1.0539   Train accuracy: 0.4933   Test accuracy: 0.4638  \n",
      "Epoch: 106/1000   Training loss: 1.0178   Testing loss: 1.0709   Train accuracy: 0.4952   Test accuracy: 0.4268  \n",
      "Epoch: 107/1000   Training loss: 1.0223   Testing loss: 1.0513   Train accuracy: 0.4879   Test accuracy: 0.4678  \n",
      "Epoch: 108/1000   Training loss: 1.0181   Testing loss: 1.0547   Train accuracy: 0.4915   Test accuracy: 0.4701  \n",
      "Epoch: 109/1000   Training loss: 1.0182   Testing loss: 1.0584   Train accuracy: 0.4927   Test accuracy: 0.4673  \n",
      "Epoch: 110/1000   Training loss: 1.0191   Testing loss: 1.0522   Train accuracy: 0.4907   Test accuracy: 0.4725  \n",
      "Epoch: 111/1000   Training loss: 1.0211   Testing loss: 1.0693   Train accuracy: 0.4898   Test accuracy: 0.4369  \n",
      "Epoch: 112/1000   Training loss: 1.0133   Testing loss: 1.1038   Train accuracy: 0.4953   Test accuracy: 0.4673  \n",
      "Epoch: 113/1000   Training loss: 1.0175   Testing loss: 1.1455   Train accuracy: 0.4922   Test accuracy: 0.3720  \n",
      "Epoch: 114/1000   Training loss: 1.0189   Testing loss: 1.0522   Train accuracy: 0.4895   Test accuracy: 0.4671  \n",
      "Epoch: 115/1000   Training loss: 1.0223   Testing loss: 1.0616   Train accuracy: 0.4865   Test accuracy: 0.4546  \n",
      "Epoch: 116/1000   Training loss: 1.0126   Testing loss: 1.0593   Train accuracy: 0.4974   Test accuracy: 0.4675  \n",
      "Epoch: 117/1000   Training loss: 1.0166   Testing loss: 1.0513   Train accuracy: 0.4919   Test accuracy: 0.4689  \n",
      "Epoch: 118/1000   Training loss: 1.0120   Testing loss: 1.0621   Train accuracy: 0.4939   Test accuracy: 0.4673  \n",
      "Epoch: 119/1000   Training loss: 1.0163   Testing loss: 1.0682   Train accuracy: 0.4930   Test accuracy: 0.4682  \n",
      "Epoch: 120/1000   Training loss: 1.0127   Testing loss: 1.0506   Train accuracy: 0.4962   Test accuracy: 0.4696  \n",
      "Epoch: 121/1000   Training loss: 1.0099   Testing loss: 1.0513   Train accuracy: 0.4981   Test accuracy: 0.4711  \n",
      "Epoch: 122/1000   Training loss: 1.0121   Testing loss: 1.0486   Train accuracy: 0.4964   Test accuracy: 0.4734  \n",
      "Epoch: 123/1000   Training loss: 1.0140   Testing loss: 1.0550   Train accuracy: 0.4932   Test accuracy: 0.4696  \n",
      "Epoch: 124/1000   Training loss: 1.0161   Testing loss: 1.1106   Train accuracy: 0.4925   Test accuracy: 0.4031  \n",
      "Epoch: 125/1000   Training loss: 1.0154   Testing loss: 1.0503   Train accuracy: 0.4956   Test accuracy: 0.4682  \n",
      "Epoch: 126/1000   Training loss: 1.0109   Testing loss: 1.0557   Train accuracy: 0.4968   Test accuracy: 0.4671  \n",
      "Epoch: 127/1000   Training loss: 1.0113   Testing loss: 1.0578   Train accuracy: 0.4979   Test accuracy: 0.4751  \n",
      "Epoch: 128/1000   Training loss: 1.0110   Testing loss: 1.0592   Train accuracy: 0.4969   Test accuracy: 0.4725  \n",
      "Epoch: 129/1000   Training loss: 1.0096   Testing loss: 1.0481   Train accuracy: 0.4994   Test accuracy: 0.4720  \n",
      "Epoch: 130/1000   Training loss: 1.0123   Testing loss: 1.0520   Train accuracy: 0.4961   Test accuracy: 0.4654  \n",
      "Epoch: 131/1000   Training loss: 1.0103   Testing loss: 1.0710   Train accuracy: 0.5022   Test accuracy: 0.4431  \n",
      "Epoch: 132/1000   Training loss: 1.0072   Testing loss: 1.0735   Train accuracy: 0.5001   Test accuracy: 0.4391  \n",
      "Epoch: 133/1000   Training loss: 1.0116   Testing loss: 1.1388   Train accuracy: 0.4975   Test accuracy: 0.3687  \n",
      "Epoch: 134/1000   Training loss: 1.0097   Testing loss: 1.0725   Train accuracy: 0.4988   Test accuracy: 0.4311  \n",
      "Epoch: 135/1000   Training loss: 1.0146   Testing loss: 1.0516   Train accuracy: 0.4952   Test accuracy: 0.4718  \n",
      "Epoch: 136/1000   Training loss: 1.0095   Testing loss: 1.0930   Train accuracy: 0.4965   Test accuracy: 0.4666  \n",
      "Epoch: 137/1000   Training loss: 1.0086   Testing loss: 1.0954   Train accuracy: 0.5024   Test accuracy: 0.4071  \n",
      "Epoch: 138/1000   Training loss: 1.0131   Testing loss: 1.0581   Train accuracy: 0.4936   Test accuracy: 0.4541  \n",
      "Epoch: 139/1000   Training loss: 1.0119   Testing loss: 1.0498   Train accuracy: 0.4948   Test accuracy: 0.4621  \n",
      "Epoch: 140/1000   Training loss: 1.0030   Testing loss: 1.0507   Train accuracy: 0.5027   Test accuracy: 0.4673  \n",
      "Epoch: 141/1000   Training loss: 1.0024   Testing loss: 1.0517   Train accuracy: 0.5038   Test accuracy: 0.4704  \n",
      "Epoch: 142/1000   Training loss: 1.0092   Testing loss: 1.0536   Train accuracy: 0.4974   Test accuracy: 0.4744  \n",
      "Epoch: 143/1000   Training loss: 1.0069   Testing loss: 1.0811   Train accuracy: 0.5016   Test accuracy: 0.4431  \n",
      "Epoch: 144/1000   Training loss: 1.0017   Testing loss: 1.1134   Train accuracy: 0.5042   Test accuracy: 0.4031  \n",
      "Epoch: 145/1000   Training loss: 1.0098   Testing loss: 1.0824   Train accuracy: 0.4942   Test accuracy: 0.4191  \n"
     ]
    },
    {
     "name": "stdout",
     "output_type": "stream",
     "text": [
      "Epoch: 146/1000   Training loss: 1.0049   Testing loss: 1.0668   Train accuracy: 0.5035   Test accuracy: 0.4739  \n",
      "Epoch: 147/1000   Training loss: 1.0052   Testing loss: 1.0705   Train accuracy: 0.5020   Test accuracy: 0.4732  \n",
      "Epoch: 148/1000   Training loss: 1.0041   Testing loss: 1.0641   Train accuracy: 0.5011   Test accuracy: 0.4727  \n",
      "Epoch: 149/1000   Training loss: 1.0005   Testing loss: 1.0583   Train accuracy: 0.5057   Test accuracy: 0.4654  \n",
      "Epoch: 150/1000   Training loss: 1.0024   Testing loss: 1.0561   Train accuracy: 0.5070   Test accuracy: 0.4696  \n",
      "Epoch: 151/1000   Training loss: 1.0013   Testing loss: 1.0546   Train accuracy: 0.5055   Test accuracy: 0.4729  \n",
      "Epoch: 152/1000   Training loss: 1.0035   Testing loss: 1.0582   Train accuracy: 0.5053   Test accuracy: 0.4607  \n",
      "Epoch: 153/1000   Training loss: 0.9967   Testing loss: 1.0574   Train accuracy: 0.5111   Test accuracy: 0.4746  \n",
      "Epoch: 154/1000   Training loss: 1.0001   Testing loss: 1.0521   Train accuracy: 0.5004   Test accuracy: 0.4692  \n",
      "Epoch: 155/1000   Training loss: 0.9968   Testing loss: 1.0575   Train accuracy: 0.5095   Test accuracy: 0.4704  \n",
      "Epoch: 156/1000   Training loss: 0.9987   Testing loss: 1.0549   Train accuracy: 0.5046   Test accuracy: 0.4631  \n",
      "Epoch: 157/1000   Training loss: 0.9965   Testing loss: 1.0656   Train accuracy: 0.5088   Test accuracy: 0.4621  \n",
      "Epoch: 158/1000   Training loss: 1.0001   Testing loss: 1.0571   Train accuracy: 0.5068   Test accuracy: 0.4628  \n",
      "Epoch: 159/1000   Training loss: 0.9981   Testing loss: 1.0618   Train accuracy: 0.5088   Test accuracy: 0.4701  \n",
      "Epoch: 160/1000   Training loss: 1.0022   Testing loss: 1.0618   Train accuracy: 0.5026   Test accuracy: 0.4600  \n",
      "Epoch: 161/1000   Training loss: 0.9936   Testing loss: 1.0654   Train accuracy: 0.5099   Test accuracy: 0.4689  \n",
      "Epoch: 162/1000   Training loss: 0.9939   Testing loss: 1.0561   Train accuracy: 0.5134   Test accuracy: 0.4605  \n",
      "Epoch: 163/1000   Training loss: 0.9997   Testing loss: 1.0551   Train accuracy: 0.5057   Test accuracy: 0.4619  \n",
      "Epoch: 164/1000   Training loss: 0.9914   Testing loss: 1.0606   Train accuracy: 0.5166   Test accuracy: 0.4678  \n",
      "Epoch: 165/1000   Training loss: 0.9998   Testing loss: 1.0584   Train accuracy: 0.5039   Test accuracy: 0.4722  \n",
      "Epoch: 166/1000   Training loss: 0.9915   Testing loss: 1.0725   Train accuracy: 0.5122   Test accuracy: 0.4442  \n",
      "Epoch: 167/1000   Training loss: 0.9915   Testing loss: 1.0537   Train accuracy: 0.5135   Test accuracy: 0.4689  \n",
      "Epoch: 168/1000   Training loss: 0.9966   Testing loss: 1.1189   Train accuracy: 0.5106   Test accuracy: 0.3824  \n",
      "Epoch: 169/1000   Training loss: 0.9957   Testing loss: 1.0779   Train accuracy: 0.5100   Test accuracy: 0.4259  \n",
      "Epoch: 170/1000   Training loss: 0.9933   Testing loss: 1.0659   Train accuracy: 0.5129   Test accuracy: 0.4555  \n",
      "Epoch: 171/1000   Training loss: 0.9910   Testing loss: 1.0913   Train accuracy: 0.5148   Test accuracy: 0.4511  \n",
      "Epoch: 172/1000   Training loss: 0.9922   Testing loss: 1.1024   Train accuracy: 0.5132   Test accuracy: 0.4659  \n",
      "Epoch: 173/1000   Training loss: 0.9946   Testing loss: 1.0595   Train accuracy: 0.5078   Test accuracy: 0.4609  \n",
      "Epoch: 174/1000   Training loss: 0.9866   Testing loss: 1.0548   Train accuracy: 0.5188   Test accuracy: 0.4678  \n",
      "Epoch: 175/1000   Training loss: 0.9965   Testing loss: 1.0862   Train accuracy: 0.5077   Test accuracy: 0.4136  \n",
      "Epoch: 176/1000   Training loss: 0.9942   Testing loss: 1.0586   Train accuracy: 0.5092   Test accuracy: 0.4687  \n",
      "Epoch: 177/1000   Training loss: 0.9844   Testing loss: 1.0617   Train accuracy: 0.5219   Test accuracy: 0.4621  \n",
      "Epoch: 178/1000   Training loss: 0.9891   Testing loss: 1.0741   Train accuracy: 0.5163   Test accuracy: 0.4612  \n",
      "Epoch: 179/1000   Training loss: 0.9901   Testing loss: 1.1134   Train accuracy: 0.5147   Test accuracy: 0.4685  \n",
      "Epoch: 180/1000   Training loss: 0.9858   Testing loss: 1.0954   Train accuracy: 0.5196   Test accuracy: 0.4675  \n",
      "Epoch: 181/1000   Training loss: 0.9851   Testing loss: 1.1178   Train accuracy: 0.5213   Test accuracy: 0.4049  \n",
      "Epoch: 182/1000   Training loss: 0.9844   Testing loss: 1.0605   Train accuracy: 0.5171   Test accuracy: 0.4659  \n",
      "Epoch: 183/1000   Training loss: 0.9838   Testing loss: 1.1336   Train accuracy: 0.5210   Test accuracy: 0.4040  \n",
      "Epoch: 184/1000   Training loss: 0.9843   Testing loss: 1.0576   Train accuracy: 0.5209   Test accuracy: 0.4736  \n",
      "Epoch: 185/1000   Training loss: 0.9847   Testing loss: 1.0719   Train accuracy: 0.5192   Test accuracy: 0.4722  \n",
      "Epoch: 186/1000   Training loss: 0.9872   Testing loss: 1.0655   Train accuracy: 0.5178   Test accuracy: 0.4628  \n",
      "Epoch: 187/1000   Training loss: 0.9847   Testing loss: 1.1623   Train accuracy: 0.5215   Test accuracy: 0.3885  \n",
      "Epoch: 188/1000   Training loss: 0.9868   Testing loss: 1.0757   Train accuracy: 0.5188   Test accuracy: 0.4734  \n",
      "Epoch: 189/1000   Training loss: 0.9813   Testing loss: 1.1571   Train accuracy: 0.5222   Test accuracy: 0.4722  \n",
      "Epoch: 190/1000   Training loss: 0.9845   Testing loss: 1.0963   Train accuracy: 0.5201   Test accuracy: 0.4680  \n",
      "Epoch: 191/1000   Training loss: 0.9804   Testing loss: 1.0877   Train accuracy: 0.5224   Test accuracy: 0.4776  \n",
      "Epoch: 192/1000   Training loss: 0.9851   Testing loss: 1.0643   Train accuracy: 0.5169   Test accuracy: 0.4748  \n",
      "Epoch: 193/1000   Training loss: 0.9815   Testing loss: 1.0733   Train accuracy: 0.5197   Test accuracy: 0.4489  \n",
      "Epoch: 194/1000   Training loss: 0.9771   Testing loss: 1.0677   Train accuracy: 0.5263   Test accuracy: 0.4602  \n",
      "Epoch: 195/1000   Training loss: 0.9897   Testing loss: 1.0666   Train accuracy: 0.5152   Test accuracy: 0.4494  \n",
      "Epoch: 196/1000   Training loss: 0.9752   Testing loss: 1.0628   Train accuracy: 0.5267   Test accuracy: 0.4664  \n",
      "Epoch: 197/1000   Training loss: 0.9731   Testing loss: 1.1071   Train accuracy: 0.5282   Test accuracy: 0.4647  \n",
      "Epoch: 198/1000   Training loss: 0.9839   Testing loss: 1.0999   Train accuracy: 0.5168   Test accuracy: 0.4736  \n",
      "Epoch: 199/1000   Training loss: 0.9772   Testing loss: 1.2025   Train accuracy: 0.5264   Test accuracy: 0.3475  \n",
      "Epoch: 200/1000   Training loss: 0.9745   Testing loss: 1.1417   Train accuracy: 0.5293   Test accuracy: 0.4040  \n",
      "Epoch: 201/1000   Training loss: 0.9705   Testing loss: 1.0622   Train accuracy: 0.5296   Test accuracy: 0.4671  \n",
      "Epoch: 202/1000   Training loss: 0.9751   Testing loss: 1.1045   Train accuracy: 0.5267   Test accuracy: 0.4480  \n",
      "Epoch: 203/1000   Training loss: 0.9791   Testing loss: 1.1125   Train accuracy: 0.5247   Test accuracy: 0.4144  \n",
      "Epoch: 204/1000   Training loss: 0.9744   Testing loss: 1.0820   Train accuracy: 0.5240   Test accuracy: 0.4426  \n",
      "Epoch: 205/1000   Training loss: 0.9792   Testing loss: 1.0545   Train accuracy: 0.5250   Test accuracy: 0.4675  \n",
      "Epoch: 206/1000   Training loss: 0.9668   Testing loss: 1.0767   Train accuracy: 0.5342   Test accuracy: 0.4706  \n",
      "Epoch: 207/1000   Training loss: 0.9732   Testing loss: 1.0769   Train accuracy: 0.5292   Test accuracy: 0.4595  \n",
      "Epoch: 208/1000   Training loss: 0.9769   Testing loss: 1.1024   Train accuracy: 0.5279   Test accuracy: 0.4108  \n",
      "Epoch: 209/1000   Training loss: 0.9700   Testing loss: 1.1724   Train accuracy: 0.5330   Test accuracy: 0.3861  \n",
      "Epoch: 210/1000   Training loss: 0.9663   Testing loss: 1.0631   Train accuracy: 0.5355   Test accuracy: 0.4715  \n",
      "Epoch: 211/1000   Training loss: 0.9710   Testing loss: 1.0852   Train accuracy: 0.5288   Test accuracy: 0.4325  \n",
      "Epoch: 212/1000   Training loss: 0.9702   Testing loss: 1.0958   Train accuracy: 0.5294   Test accuracy: 0.4584  \n",
      "Epoch: 213/1000   Training loss: 0.9756   Testing loss: 1.1265   Train accuracy: 0.5251   Test accuracy: 0.4162  \n",
      "Epoch: 214/1000   Training loss: 0.9637   Testing loss: 1.1150   Train accuracy: 0.5345   Test accuracy: 0.4520  \n",
      "Epoch: 215/1000   Training loss: 0.9737   Testing loss: 1.0646   Train accuracy: 0.5289   Test accuracy: 0.4619  \n",
      "Epoch: 216/1000   Training loss: 0.9628   Testing loss: 1.2296   Train accuracy: 0.5382   Test accuracy: 0.3315  \n",
      "Epoch: 217/1000   Training loss: 0.9804   Testing loss: 1.0583   Train accuracy: 0.5217   Test accuracy: 0.4553  \n"
     ]
    },
    {
     "name": "stdout",
     "output_type": "stream",
     "text": [
      "Epoch: 218/1000   Training loss: 0.9610   Testing loss: 1.1327   Train accuracy: 0.5366   Test accuracy: 0.4744  \n",
      "Epoch: 219/1000   Training loss: 0.9613   Testing loss: 1.0857   Train accuracy: 0.5391   Test accuracy: 0.4419  \n",
      "Epoch: 220/1000   Training loss: 0.9599   Testing loss: 1.1049   Train accuracy: 0.5388   Test accuracy: 0.4134  \n",
      "Epoch: 221/1000   Training loss: 0.9754   Testing loss: 1.0733   Train accuracy: 0.5241   Test accuracy: 0.4619  \n",
      "Epoch: 222/1000   Training loss: 0.9664   Testing loss: 1.0959   Train accuracy: 0.5316   Test accuracy: 0.4736  \n",
      "Epoch: 223/1000   Training loss: 0.9594   Testing loss: 1.1477   Train accuracy: 0.5378   Test accuracy: 0.4715  \n",
      "Epoch: 224/1000   Training loss: 0.9625   Testing loss: 1.0939   Train accuracy: 0.5392   Test accuracy: 0.4202  \n",
      "Epoch: 225/1000   Training loss: 0.9620   Testing loss: 1.0704   Train accuracy: 0.5331   Test accuracy: 0.4593  \n",
      "Epoch: 226/1000   Training loss: 0.9582   Testing loss: 1.0876   Train accuracy: 0.5399   Test accuracy: 0.4372  \n",
      "Epoch: 227/1000   Training loss: 0.9601   Testing loss: 1.0892   Train accuracy: 0.5348   Test accuracy: 0.4680  \n",
      "Epoch: 228/1000   Training loss: 0.9642   Testing loss: 1.1890   Train accuracy: 0.5381   Test accuracy: 0.4614  \n",
      "Epoch: 229/1000   Training loss: 0.9674   Testing loss: 1.1041   Train accuracy: 0.5348   Test accuracy: 0.4209  \n",
      "Epoch: 230/1000   Training loss: 0.9631   Testing loss: 1.0914   Train accuracy: 0.5378   Test accuracy: 0.4355  \n",
      "Epoch: 231/1000   Training loss: 0.9560   Testing loss: 1.1081   Train accuracy: 0.5467   Test accuracy: 0.4715  \n",
      "Epoch: 232/1000   Training loss: 0.9504   Testing loss: 1.1829   Train accuracy: 0.5479   Test accuracy: 0.4678  \n",
      "Epoch: 233/1000   Training loss: 0.9657   Testing loss: 1.4179   Train accuracy: 0.5397   Test accuracy: 0.2927  \n",
      "Epoch: 234/1000   Training loss: 0.9678   Testing loss: 1.1793   Train accuracy: 0.5328   Test accuracy: 0.4699  \n",
      "Epoch: 235/1000   Training loss: 0.9561   Testing loss: 1.1257   Train accuracy: 0.5422   Test accuracy: 0.4581  \n",
      "Epoch: 236/1000   Training loss: 0.9482   Testing loss: 1.0739   Train accuracy: 0.5438   Test accuracy: 0.4614  \n",
      "Epoch: 237/1000   Training loss: 0.9524   Testing loss: 1.1161   Train accuracy: 0.5391   Test accuracy: 0.4699  \n",
      "Epoch: 238/1000   Training loss: 0.9471   Testing loss: 1.1441   Train accuracy: 0.5459   Test accuracy: 0.4685  \n",
      "Epoch: 239/1000   Training loss: 0.9630   Testing loss: 1.1639   Train accuracy: 0.5334   Test accuracy: 0.3694  \n",
      "Epoch: 240/1000   Training loss: 0.9507   Testing loss: 1.2128   Train accuracy: 0.5455   Test accuracy: 0.3699  \n",
      "Epoch: 241/1000   Training loss: 0.9539   Testing loss: 1.0883   Train accuracy: 0.5424   Test accuracy: 0.4652  \n",
      "Epoch: 242/1000   Training loss: 0.9588   Testing loss: 1.0778   Train accuracy: 0.5384   Test accuracy: 0.4656  \n",
      "Epoch: 243/1000   Training loss: 0.9463   Testing loss: 1.0705   Train accuracy: 0.5479   Test accuracy: 0.4576  \n",
      "Epoch: 244/1000   Training loss: 0.9394   Testing loss: 1.0838   Train accuracy: 0.5542   Test accuracy: 0.4553  \n",
      "Epoch: 245/1000   Training loss: 0.9547   Testing loss: 1.1222   Train accuracy: 0.5390   Test accuracy: 0.4122  \n",
      "Epoch: 246/1000   Training loss: 0.9466   Testing loss: 1.1830   Train accuracy: 0.5458   Test accuracy: 0.4671  \n",
      "Epoch: 247/1000   Training loss: 0.9539   Testing loss: 1.0873   Train accuracy: 0.5440   Test accuracy: 0.4621  \n",
      "Epoch: 248/1000   Training loss: 0.9453   Testing loss: 1.0765   Train accuracy: 0.5471   Test accuracy: 0.4640  \n",
      "Epoch: 249/1000   Training loss: 0.9445   Testing loss: 1.0769   Train accuracy: 0.5492   Test accuracy: 0.4680  \n",
      "Epoch: 250/1000   Training loss: 0.9447   Testing loss: 1.1534   Train accuracy: 0.5488   Test accuracy: 0.4374  \n",
      "Epoch: 251/1000   Training loss: 0.9470   Testing loss: 1.1545   Train accuracy: 0.5470   Test accuracy: 0.4144  \n",
      "Epoch: 252/1000   Training loss: 0.9467   Testing loss: 1.0867   Train accuracy: 0.5472   Test accuracy: 0.4456  \n",
      "Epoch: 253/1000   Training loss: 0.9279   Testing loss: 1.1733   Train accuracy: 0.5580   Test accuracy: 0.4706  \n",
      "Epoch: 254/1000   Training loss: 0.9523   Testing loss: 1.2880   Train accuracy: 0.5455   Test accuracy: 0.4682  \n",
      "Epoch: 255/1000   Training loss: 0.9416   Testing loss: 1.0926   Train accuracy: 0.5541   Test accuracy: 0.4715  \n",
      "Epoch: 256/1000   Training loss: 0.9470   Testing loss: 1.2336   Train accuracy: 0.5485   Test accuracy: 0.3534  \n",
      "Epoch: 257/1000   Training loss: 0.9489   Testing loss: 1.1432   Train accuracy: 0.5424   Test accuracy: 0.3991  \n",
      "Epoch: 258/1000   Training loss: 0.9404   Testing loss: 1.1161   Train accuracy: 0.5509   Test accuracy: 0.4565  \n",
      "Epoch: 259/1000   Training loss: 0.9329   Testing loss: 1.0994   Train accuracy: 0.5514   Test accuracy: 0.4605  \n",
      "Epoch: 260/1000   Training loss: 0.9396   Testing loss: 1.1351   Train accuracy: 0.5511   Test accuracy: 0.4522  \n",
      "Epoch: 261/1000   Training loss: 0.9389   Testing loss: 1.0827   Train accuracy: 0.5520   Test accuracy: 0.4548  \n",
      "Epoch: 262/1000   Training loss: 0.9415   Testing loss: 1.1310   Train accuracy: 0.5487   Test accuracy: 0.4755  \n",
      "Epoch: 263/1000   Training loss: 0.9302   Testing loss: 1.1891   Train accuracy: 0.5607   Test accuracy: 0.4169  \n",
      "Epoch: 264/1000   Training loss: 0.9448   Testing loss: 1.0959   Train accuracy: 0.5477   Test accuracy: 0.4687  \n",
      "Epoch: 265/1000   Training loss: 0.9332   Testing loss: 1.1009   Train accuracy: 0.5543   Test accuracy: 0.4673  \n",
      "Epoch: 266/1000   Training loss: 0.9339   Testing loss: 1.0989   Train accuracy: 0.5543   Test accuracy: 0.4713  \n",
      "Epoch: 267/1000   Training loss: 0.9297   Testing loss: 1.1199   Train accuracy: 0.5560   Test accuracy: 0.4367  \n",
      "Epoch: 268/1000   Training loss: 0.9362   Testing loss: 1.1322   Train accuracy: 0.5544   Test accuracy: 0.4581  \n",
      "Epoch: 269/1000   Training loss: 0.9306   Testing loss: 1.1187   Train accuracy: 0.5597   Test accuracy: 0.4242  \n",
      "Epoch: 270/1000   Training loss: 0.9259   Testing loss: 1.1069   Train accuracy: 0.5587   Test accuracy: 0.4647  \n",
      "Epoch: 271/1000   Training loss: 0.9292   Testing loss: 1.1500   Train accuracy: 0.5608   Test accuracy: 0.4075  \n",
      "Epoch: 272/1000   Training loss: 0.9301   Testing loss: 1.1305   Train accuracy: 0.5549   Test accuracy: 0.4694  \n",
      "Epoch: 273/1000   Training loss: 0.9339   Testing loss: 1.2140   Train accuracy: 0.5509   Test accuracy: 0.3765  \n",
      "Epoch: 274/1000   Training loss: 0.9293   Testing loss: 1.1266   Train accuracy: 0.5635   Test accuracy: 0.4438  \n",
      "Epoch: 275/1000   Training loss: 0.9298   Testing loss: 1.2050   Train accuracy: 0.5592   Test accuracy: 0.3647  \n",
      "Epoch: 276/1000   Training loss: 0.9267   Testing loss: 1.1469   Train accuracy: 0.5617   Test accuracy: 0.4016  \n",
      "Epoch: 277/1000   Training loss: 0.9178   Testing loss: 1.1674   Train accuracy: 0.5697   Test accuracy: 0.4708  \n",
      "Epoch: 278/1000   Training loss: 0.9261   Testing loss: 1.1018   Train accuracy: 0.5592   Test accuracy: 0.4581  \n",
      "Epoch: 279/1000   Training loss: 0.9319   Testing loss: 1.1236   Train accuracy: 0.5542   Test accuracy: 0.4654  \n",
      "Epoch: 280/1000   Training loss: 0.9173   Testing loss: 1.1146   Train accuracy: 0.5649   Test accuracy: 0.4609  \n",
      "Epoch: 281/1000   Training loss: 0.9308   Testing loss: 1.0989   Train accuracy: 0.5550   Test accuracy: 0.4405  \n",
      "Epoch: 282/1000   Training loss: 0.9185   Testing loss: 1.1266   Train accuracy: 0.5660   Test accuracy: 0.4675  \n",
      "Epoch: 283/1000   Training loss: 0.9167   Testing loss: 1.1802   Train accuracy: 0.5683   Test accuracy: 0.4153  \n",
      "Epoch: 284/1000   Training loss: 0.9266   Testing loss: 1.1098   Train accuracy: 0.5600   Test accuracy: 0.4621  \n",
      "Epoch: 285/1000   Training loss: 0.9255   Testing loss: 1.1030   Train accuracy: 0.5571   Test accuracy: 0.4421  \n",
      "Epoch: 286/1000   Training loss: 0.9167   Testing loss: 1.1462   Train accuracy: 0.5627   Test accuracy: 0.4626  \n",
      "Epoch: 287/1000   Training loss: 0.9092   Testing loss: 1.1732   Train accuracy: 0.5746   Test accuracy: 0.4527  \n",
      "Epoch: 288/1000   Training loss: 0.9191   Testing loss: 1.1138   Train accuracy: 0.5651   Test accuracy: 0.4358  \n",
      "Epoch: 289/1000   Training loss: 0.9135   Testing loss: 1.1462   Train accuracy: 0.5681   Test accuracy: 0.4504  \n"
     ]
    },
    {
     "name": "stdout",
     "output_type": "stream",
     "text": [
      "Epoch: 290/1000   Training loss: 0.9210   Testing loss: 1.1942   Train accuracy: 0.5637   Test accuracy: 0.4402  \n",
      "Epoch: 291/1000   Training loss: 0.9250   Testing loss: 1.1510   Train accuracy: 0.5606   Test accuracy: 0.4167  \n",
      "Epoch: 292/1000   Training loss: 0.9281   Testing loss: 1.1490   Train accuracy: 0.5597   Test accuracy: 0.4560  \n",
      "Epoch: 293/1000   Training loss: 0.9118   Testing loss: 1.2085   Train accuracy: 0.5678   Test accuracy: 0.4666  \n",
      "Epoch: 294/1000   Training loss: 0.9196   Testing loss: 1.1228   Train accuracy: 0.5657   Test accuracy: 0.4369  \n",
      "Epoch: 295/1000   Training loss: 0.9031   Testing loss: 1.1103   Train accuracy: 0.5718   Test accuracy: 0.4428  \n",
      "Epoch: 296/1000   Training loss: 0.9234   Testing loss: 1.1141   Train accuracy: 0.5620   Test accuracy: 0.4473  \n",
      "Epoch: 297/1000   Training loss: 0.9082   Testing loss: 1.2145   Train accuracy: 0.5677   Test accuracy: 0.3656  \n",
      "Epoch: 298/1000   Training loss: 0.9112   Testing loss: 1.1752   Train accuracy: 0.5707   Test accuracy: 0.3986  \n",
      "Epoch: 299/1000   Training loss: 0.9075   Testing loss: 1.2001   Train accuracy: 0.5690   Test accuracy: 0.3776  \n",
      "Epoch: 300/1000   Training loss: 0.9095   Testing loss: 1.2214   Train accuracy: 0.5727   Test accuracy: 0.4696  \n",
      "Epoch: 301/1000   Training loss: 0.9087   Testing loss: 1.1582   Train accuracy: 0.5695   Test accuracy: 0.4447  \n",
      "Epoch: 302/1000   Training loss: 0.8918   Testing loss: 1.1383   Train accuracy: 0.5828   Test accuracy: 0.4621  \n",
      "Epoch: 303/1000   Training loss: 0.8976   Testing loss: 1.1848   Train accuracy: 0.5816   Test accuracy: 0.4579  \n",
      "Epoch: 304/1000   Training loss: 0.9066   Testing loss: 1.1479   Train accuracy: 0.5728   Test accuracy: 0.4118  \n",
      "Epoch: 305/1000   Training loss: 0.9078   Testing loss: 1.1727   Train accuracy: 0.5708   Test accuracy: 0.4591  \n",
      "Epoch: 306/1000   Training loss: 0.9052   Testing loss: 1.1466   Train accuracy: 0.5709   Test accuracy: 0.4513  \n",
      "Epoch: 307/1000   Training loss: 0.9008   Testing loss: 1.1156   Train accuracy: 0.5738   Test accuracy: 0.4586  \n",
      "Epoch: 308/1000   Training loss: 0.8998   Testing loss: 1.1785   Train accuracy: 0.5780   Test accuracy: 0.4395  \n",
      "Epoch: 309/1000   Training loss: 0.8998   Testing loss: 1.1966   Train accuracy: 0.5738   Test accuracy: 0.4362  \n",
      "Epoch: 310/1000   Training loss: 0.8927   Testing loss: 1.2169   Train accuracy: 0.5817   Test accuracy: 0.4348  \n",
      "Epoch: 311/1000   Training loss: 0.9139   Testing loss: 1.1767   Train accuracy: 0.5691   Test accuracy: 0.3953  \n",
      "Epoch: 312/1000   Training loss: 0.8882   Testing loss: 1.1408   Train accuracy: 0.5855   Test accuracy: 0.4612  \n",
      "Epoch: 313/1000   Training loss: 0.8951   Testing loss: 1.1214   Train accuracy: 0.5798   Test accuracy: 0.4551  \n",
      "Epoch: 314/1000   Training loss: 0.8891   Testing loss: 1.1521   Train accuracy: 0.5844   Test accuracy: 0.4082  \n",
      "Epoch: 315/1000   Training loss: 0.8914   Testing loss: 1.1485   Train accuracy: 0.5838   Test accuracy: 0.4647  \n",
      "Epoch: 316/1000   Training loss: 0.8963   Testing loss: 1.1679   Train accuracy: 0.5796   Test accuracy: 0.4718  \n",
      "Epoch: 317/1000   Training loss: 0.8952   Testing loss: 1.1224   Train accuracy: 0.5786   Test accuracy: 0.4398  \n",
      "Epoch: 318/1000   Training loss: 0.8833   Testing loss: 1.1491   Train accuracy: 0.5901   Test accuracy: 0.4275  \n",
      "Epoch: 319/1000   Training loss: 0.8951   Testing loss: 1.1981   Train accuracy: 0.5837   Test accuracy: 0.3901  \n",
      "Epoch: 320/1000   Training loss: 0.8915   Testing loss: 1.1479   Train accuracy: 0.5788   Test accuracy: 0.4527  \n",
      "Epoch: 321/1000   Training loss: 0.8814   Testing loss: 1.1549   Train accuracy: 0.5865   Test accuracy: 0.4659  \n",
      "Epoch: 322/1000   Training loss: 0.8931   Testing loss: 1.1256   Train accuracy: 0.5811   Test accuracy: 0.4464  \n",
      "Epoch: 323/1000   Training loss: 0.8873   Testing loss: 1.1646   Train accuracy: 0.5843   Test accuracy: 0.4209  \n",
      "Epoch: 324/1000   Training loss: 0.8878   Testing loss: 1.1676   Train accuracy: 0.5837   Test accuracy: 0.4254  \n",
      "Epoch: 325/1000   Training loss: 0.8804   Testing loss: 1.1479   Train accuracy: 0.5891   Test accuracy: 0.4501  \n",
      "Epoch: 326/1000   Training loss: 0.8860   Testing loss: 1.1810   Train accuracy: 0.5823   Test accuracy: 0.4238  \n",
      "Epoch: 327/1000   Training loss: 0.8681   Testing loss: 1.1662   Train accuracy: 0.5977   Test accuracy: 0.4318  \n",
      "Epoch: 328/1000   Training loss: 0.9010   Testing loss: 1.2138   Train accuracy: 0.5741   Test accuracy: 0.4732  \n",
      "Epoch: 329/1000   Training loss: 0.8745   Testing loss: 1.1593   Train accuracy: 0.5917   Test accuracy: 0.4501  \n",
      "Epoch: 330/1000   Training loss: 0.8895   Testing loss: 1.1643   Train accuracy: 0.5847   Test accuracy: 0.4551  \n",
      "Epoch: 331/1000   Training loss: 0.8758   Testing loss: 1.2404   Train accuracy: 0.5892   Test accuracy: 0.4282  \n",
      "Epoch: 332/1000   Training loss: 0.8815   Testing loss: 1.1441   Train accuracy: 0.5835   Test accuracy: 0.4360  \n",
      "Epoch: 333/1000   Training loss: 0.8769   Testing loss: 1.1451   Train accuracy: 0.5900   Test accuracy: 0.4614  \n",
      "Epoch: 334/1000   Training loss: 0.8729   Testing loss: 1.2067   Train accuracy: 0.5950   Test accuracy: 0.4652  \n",
      "Epoch: 335/1000   Training loss: 0.8873   Testing loss: 1.1583   Train accuracy: 0.5855   Test accuracy: 0.4581  \n",
      "Epoch: 336/1000   Training loss: 0.8691   Testing loss: 1.1728   Train accuracy: 0.5953   Test accuracy: 0.4598  \n",
      "Epoch: 337/1000   Training loss: 0.8798   Testing loss: 1.1722   Train accuracy: 0.5935   Test accuracy: 0.4501  \n",
      "Epoch: 338/1000   Training loss: 0.8696   Testing loss: 1.1784   Train accuracy: 0.5954   Test accuracy: 0.3927  \n",
      "Epoch: 339/1000   Training loss: 0.8719   Testing loss: 1.2282   Train accuracy: 0.5932   Test accuracy: 0.4038  \n",
      "Epoch: 340/1000   Training loss: 0.8725   Testing loss: 1.1482   Train accuracy: 0.5984   Test accuracy: 0.4511  \n",
      "Epoch: 341/1000   Training loss: 0.8627   Testing loss: 1.1457   Train accuracy: 0.5952   Test accuracy: 0.4534  \n",
      "Epoch: 342/1000   Training loss: 0.8627   Testing loss: 1.1642   Train accuracy: 0.5971   Test accuracy: 0.4607  \n",
      "Epoch: 343/1000   Training loss: 0.8654   Testing loss: 1.2186   Train accuracy: 0.5993   Test accuracy: 0.4541  \n",
      "Epoch: 344/1000   Training loss: 0.8701   Testing loss: 1.1596   Train accuracy: 0.5909   Test accuracy: 0.4384  \n",
      "Epoch: 345/1000   Training loss: 0.8586   Testing loss: 1.2915   Train accuracy: 0.5997   Test accuracy: 0.3802  \n",
      "Epoch: 346/1000   Training loss: 0.8731   Testing loss: 1.2242   Train accuracy: 0.5981   Test accuracy: 0.3892  \n",
      "Epoch: 347/1000   Training loss: 0.8606   Testing loss: 1.1729   Train accuracy: 0.6010   Test accuracy: 0.4567  \n",
      "Epoch: 348/1000   Training loss: 0.8621   Testing loss: 1.1767   Train accuracy: 0.5950   Test accuracy: 0.4678  \n",
      "Epoch: 349/1000   Training loss: 0.8527   Testing loss: 1.3954   Train accuracy: 0.6051   Test accuracy: 0.4704  \n",
      "Epoch: 350/1000   Training loss: 0.8605   Testing loss: 1.2205   Train accuracy: 0.6030   Test accuracy: 0.3875  \n",
      "Epoch: 351/1000   Training loss: 0.8658   Testing loss: 1.1981   Train accuracy: 0.5982   Test accuracy: 0.4200  \n",
      "Epoch: 352/1000   Training loss: 0.8540   Testing loss: 1.1673   Train accuracy: 0.6025   Test accuracy: 0.4508  \n",
      "Epoch: 353/1000   Training loss: 0.8635   Testing loss: 1.2351   Train accuracy: 0.6005   Test accuracy: 0.3840  \n",
      "Epoch: 354/1000   Training loss: 0.8490   Testing loss: 1.1932   Train accuracy: 0.6112   Test accuracy: 0.4614  \n",
      "Epoch: 355/1000   Training loss: 0.8538   Testing loss: 1.1879   Train accuracy: 0.6024   Test accuracy: 0.4296  \n",
      "Epoch: 356/1000   Training loss: 0.8637   Testing loss: 1.2484   Train accuracy: 0.5986   Test accuracy: 0.3981  \n",
      "Epoch: 357/1000   Training loss: 0.8525   Testing loss: 1.2514   Train accuracy: 0.6032   Test accuracy: 0.4532  \n",
      "Epoch: 358/1000   Training loss: 0.8555   Testing loss: 1.2992   Train accuracy: 0.5976   Test accuracy: 0.4459  \n",
      "Epoch: 359/1000   Training loss: 0.8751   Testing loss: 1.2149   Train accuracy: 0.5904   Test accuracy: 0.4136  \n",
      "Epoch: 360/1000   Training loss: 0.8454   Testing loss: 1.2362   Train accuracy: 0.6098   Test accuracy: 0.4612  \n",
      "Epoch: 361/1000   Training loss: 0.8451   Testing loss: 1.1791   Train accuracy: 0.6096   Test accuracy: 0.4558  \n"
     ]
    },
    {
     "name": "stdout",
     "output_type": "stream",
     "text": [
      "Epoch: 362/1000   Training loss: 0.8507   Testing loss: 1.3073   Train accuracy: 0.6052   Test accuracy: 0.4398  \n",
      "Epoch: 363/1000   Training loss: 0.8478   Testing loss: 1.3141   Train accuracy: 0.6131   Test accuracy: 0.3711  \n",
      "Epoch: 364/1000   Training loss: 0.8505   Testing loss: 1.2255   Train accuracy: 0.6095   Test accuracy: 0.4513  \n",
      "Epoch: 365/1000   Training loss: 0.8440   Testing loss: 1.2629   Train accuracy: 0.6110   Test accuracy: 0.3791  \n",
      "Epoch: 366/1000   Training loss: 0.8482   Testing loss: 1.3264   Train accuracy: 0.6090   Test accuracy: 0.3518  \n",
      "Epoch: 367/1000   Training loss: 0.8523   Testing loss: 1.2532   Train accuracy: 0.6093   Test accuracy: 0.4089  \n",
      "Epoch: 368/1000   Training loss: 0.8323   Testing loss: 1.1942   Train accuracy: 0.6227   Test accuracy: 0.4346  \n",
      "Epoch: 369/1000   Training loss: 0.8416   Testing loss: 1.2833   Train accuracy: 0.6145   Test accuracy: 0.3880  \n",
      "Epoch: 370/1000   Training loss: 0.8448   Testing loss: 1.2191   Train accuracy: 0.6066   Test accuracy: 0.4504  \n",
      "Epoch: 371/1000   Training loss: 0.8362   Testing loss: 1.1964   Train accuracy: 0.6153   Test accuracy: 0.4127  \n",
      "Epoch: 372/1000   Training loss: 0.8376   Testing loss: 1.2859   Train accuracy: 0.6140   Test accuracy: 0.4645  \n",
      "Epoch: 373/1000   Training loss: 0.8484   Testing loss: 1.2465   Train accuracy: 0.6058   Test accuracy: 0.4605  \n",
      "Epoch: 374/1000   Training loss: 0.8264   Testing loss: 1.2060   Train accuracy: 0.6209   Test accuracy: 0.4118  \n",
      "Epoch: 375/1000   Training loss: 0.8476   Testing loss: 1.2101   Train accuracy: 0.6070   Test accuracy: 0.4551  \n",
      "Epoch: 376/1000   Training loss: 0.8288   Testing loss: 1.3299   Train accuracy: 0.6216   Test accuracy: 0.3847  \n",
      "Epoch: 377/1000   Training loss: 0.8356   Testing loss: 1.2452   Train accuracy: 0.6140   Test accuracy: 0.4308  \n",
      "Epoch: 378/1000   Training loss: 0.8388   Testing loss: 1.3837   Train accuracy: 0.6214   Test accuracy: 0.3405  \n",
      "Epoch: 379/1000   Training loss: 0.8167   Testing loss: 1.2084   Train accuracy: 0.6258   Test accuracy: 0.4216  \n",
      "Epoch: 380/1000   Training loss: 0.8377   Testing loss: 1.1991   Train accuracy: 0.6113   Test accuracy: 0.4511  \n",
      "Epoch: 381/1000   Training loss: 0.8134   Testing loss: 1.2066   Train accuracy: 0.6265   Test accuracy: 0.4148  \n",
      "Epoch: 382/1000   Training loss: 0.8299   Testing loss: 1.2344   Train accuracy: 0.6183   Test accuracy: 0.4104  \n",
      "Epoch: 383/1000   Training loss: 0.8376   Testing loss: 1.2923   Train accuracy: 0.6154   Test accuracy: 0.3969  \n",
      "Epoch: 384/1000   Training loss: 0.8174   Testing loss: 1.3984   Train accuracy: 0.6295   Test accuracy: 0.4574  \n",
      "Epoch: 385/1000   Training loss: 0.8320   Testing loss: 1.2533   Train accuracy: 0.6186   Test accuracy: 0.4191  \n",
      "Epoch: 386/1000   Training loss: 0.8190   Testing loss: 1.2252   Train accuracy: 0.6256   Test accuracy: 0.4221  \n",
      "Epoch: 387/1000   Training loss: 0.8387   Testing loss: 1.3321   Train accuracy: 0.6129   Test accuracy: 0.4431  \n",
      "Epoch: 388/1000   Training loss: 0.8110   Testing loss: 1.4094   Train accuracy: 0.6294   Test accuracy: 0.4668  \n",
      "Epoch: 389/1000   Training loss: 0.8269   Testing loss: 1.2735   Train accuracy: 0.6204   Test accuracy: 0.4513  \n",
      "Epoch: 390/1000   Training loss: 0.8108   Testing loss: 1.2676   Train accuracy: 0.6308   Test accuracy: 0.4551  \n",
      "Epoch: 391/1000   Training loss: 0.8242   Testing loss: 1.2934   Train accuracy: 0.6234   Test accuracy: 0.4155  \n",
      "Epoch: 392/1000   Training loss: 0.8204   Testing loss: 1.2217   Train accuracy: 0.6217   Test accuracy: 0.4440  \n",
      "Epoch: 393/1000   Training loss: 0.7866   Testing loss: 1.2912   Train accuracy: 0.6444   Test accuracy: 0.4031  \n",
      "Epoch: 394/1000   Training loss: 0.8236   Testing loss: 1.2512   Train accuracy: 0.6205   Test accuracy: 0.4379  \n",
      "Epoch: 395/1000   Training loss: 0.8133   Testing loss: 1.3235   Train accuracy: 0.6267   Test accuracy: 0.4289  \n",
      "Epoch: 396/1000   Training loss: 0.8051   Testing loss: 1.3550   Train accuracy: 0.6309   Test accuracy: 0.4664  \n",
      "Epoch: 397/1000   Training loss: 0.8132   Testing loss: 1.3231   Train accuracy: 0.6256   Test accuracy: 0.4480  \n",
      "Epoch: 398/1000   Training loss: 0.8162   Testing loss: 1.2329   Train accuracy: 0.6224   Test accuracy: 0.4235  \n",
      "Epoch: 399/1000   Training loss: 0.8158   Testing loss: 1.2514   Train accuracy: 0.6268   Test accuracy: 0.3892  \n",
      "Epoch: 400/1000   Training loss: 0.8011   Testing loss: 1.3981   Train accuracy: 0.6354   Test accuracy: 0.4449  \n",
      "Epoch: 401/1000   Training loss: 0.8104   Testing loss: 1.3569   Train accuracy: 0.6331   Test accuracy: 0.4332  \n",
      "Epoch: 402/1000   Training loss: 0.8015   Testing loss: 1.2467   Train accuracy: 0.6373   Test accuracy: 0.4365  \n",
      "Epoch: 403/1000   Training loss: 0.7933   Testing loss: 1.2936   Train accuracy: 0.6416   Test accuracy: 0.3944  \n",
      "Epoch: 404/1000   Training loss: 0.8006   Testing loss: 1.3339   Train accuracy: 0.6326   Test accuracy: 0.4464  \n",
      "Epoch: 405/1000   Training loss: 0.7930   Testing loss: 1.3872   Train accuracy: 0.6428   Test accuracy: 0.4367  \n",
      "Epoch: 406/1000   Training loss: 0.8164   Testing loss: 1.2215   Train accuracy: 0.6256   Test accuracy: 0.4268  \n",
      "Epoch: 407/1000   Training loss: 0.7879   Testing loss: 1.2383   Train accuracy: 0.6403   Test accuracy: 0.4141  \n",
      "Epoch: 408/1000   Training loss: 0.7959   Testing loss: 1.3824   Train accuracy: 0.6386   Test accuracy: 0.3708  \n",
      "Epoch: 409/1000   Training loss: 0.8026   Testing loss: 1.3371   Train accuracy: 0.6371   Test accuracy: 0.3875  \n",
      "Epoch: 410/1000   Training loss: 0.7937   Testing loss: 1.4996   Train accuracy: 0.6413   Test accuracy: 0.4631  \n",
      "Epoch: 411/1000   Training loss: 0.7992   Testing loss: 1.2758   Train accuracy: 0.6409   Test accuracy: 0.4080  \n",
      "Epoch: 412/1000   Training loss: 0.7802   Testing loss: 1.2994   Train accuracy: 0.6461   Test accuracy: 0.4424  \n",
      "Epoch: 413/1000   Training loss: 0.7879   Testing loss: 1.3607   Train accuracy: 0.6439   Test accuracy: 0.4642  \n",
      "Epoch: 414/1000   Training loss: 0.7969   Testing loss: 1.5314   Train accuracy: 0.6389   Test accuracy: 0.4362  \n",
      "Epoch: 415/1000   Training loss: 0.8083   Testing loss: 1.2536   Train accuracy: 0.6346   Test accuracy: 0.4454  \n",
      "Epoch: 416/1000   Training loss: 0.7962   Testing loss: 1.2334   Train accuracy: 0.6357   Test accuracy: 0.4369  \n",
      "Epoch: 417/1000   Training loss: 0.7917   Testing loss: 1.2701   Train accuracy: 0.6382   Test accuracy: 0.4376  \n",
      "Epoch: 418/1000   Training loss: 0.7802   Testing loss: 1.2945   Train accuracy: 0.6455   Test accuracy: 0.4301  \n",
      "Epoch: 419/1000   Training loss: 0.7843   Testing loss: 1.3082   Train accuracy: 0.6453   Test accuracy: 0.4200  \n",
      "Epoch: 420/1000   Training loss: 0.7828   Testing loss: 1.2445   Train accuracy: 0.6440   Test accuracy: 0.4400  \n",
      "Epoch: 421/1000   Training loss: 0.7788   Testing loss: 1.3397   Train accuracy: 0.6454   Test accuracy: 0.4184  \n",
      "Epoch: 422/1000   Training loss: 0.7871   Testing loss: 1.2861   Train accuracy: 0.6440   Test accuracy: 0.4534  \n",
      "Epoch: 423/1000   Training loss: 0.7761   Testing loss: 1.6459   Train accuracy: 0.6511   Test accuracy: 0.4699  \n",
      "Epoch: 424/1000   Training loss: 0.7830   Testing loss: 1.2806   Train accuracy: 0.6498   Test accuracy: 0.4473  \n",
      "Epoch: 425/1000   Training loss: 0.7822   Testing loss: 1.4394   Train accuracy: 0.6422   Test accuracy: 0.3986  \n",
      "Epoch: 426/1000   Training loss: 0.7696   Testing loss: 1.4097   Train accuracy: 0.6504   Test accuracy: 0.4468  \n",
      "Epoch: 427/1000   Training loss: 0.7626   Testing loss: 1.3279   Train accuracy: 0.6549   Test accuracy: 0.4466  \n",
      "Epoch: 428/1000   Training loss: 0.7554   Testing loss: 1.4354   Train accuracy: 0.6622   Test accuracy: 0.4631  \n",
      "Epoch: 429/1000   Training loss: 0.7872   Testing loss: 1.3697   Train accuracy: 0.6442   Test accuracy: 0.4024  \n",
      "Epoch: 430/1000   Training loss: 0.7772   Testing loss: 1.2878   Train accuracy: 0.6509   Test accuracy: 0.4212  \n",
      "Epoch: 431/1000   Training loss: 0.7740   Testing loss: 1.3047   Train accuracy: 0.6518   Test accuracy: 0.3991  \n",
      "Epoch: 432/1000   Training loss: 0.7610   Testing loss: 1.3038   Train accuracy: 0.6590   Test accuracy: 0.4151  \n",
      "Epoch: 433/1000   Training loss: 0.7674   Testing loss: 1.3030   Train accuracy: 0.6540   Test accuracy: 0.4118  \n"
     ]
    },
    {
     "name": "stdout",
     "output_type": "stream",
     "text": [
      "Epoch: 434/1000   Training loss: 0.7603   Testing loss: 1.4726   Train accuracy: 0.6570   Test accuracy: 0.3506  \n",
      "Epoch: 435/1000   Training loss: 0.7621   Testing loss: 1.3972   Train accuracy: 0.6539   Test accuracy: 0.4567  \n",
      "Epoch: 436/1000   Training loss: 0.7700   Testing loss: 1.4095   Train accuracy: 0.6579   Test accuracy: 0.4508  \n",
      "Epoch: 437/1000   Training loss: 0.7735   Testing loss: 1.3757   Train accuracy: 0.6532   Test accuracy: 0.3769  \n",
      "Epoch: 438/1000   Training loss: 0.7614   Testing loss: 1.4479   Train accuracy: 0.6566   Test accuracy: 0.4028  \n",
      "Epoch: 439/1000   Training loss: 0.7740   Testing loss: 1.3551   Train accuracy: 0.6524   Test accuracy: 0.4132  \n",
      "Epoch: 440/1000   Training loss: 0.7606   Testing loss: 1.2973   Train accuracy: 0.6561   Test accuracy: 0.4489  \n",
      "Epoch: 441/1000   Training loss: 0.7493   Testing loss: 1.4123   Train accuracy: 0.6668   Test accuracy: 0.4565  \n",
      "Epoch: 442/1000   Training loss: 0.7675   Testing loss: 1.3754   Train accuracy: 0.6499   Test accuracy: 0.4332  \n",
      "Epoch: 443/1000   Training loss: 0.7549   Testing loss: 1.3249   Train accuracy: 0.6576   Test accuracy: 0.4358  \n",
      "Epoch: 444/1000   Training loss: 0.7452   Testing loss: 1.4298   Train accuracy: 0.6619   Test accuracy: 0.3753  \n",
      "Epoch: 445/1000   Training loss: 0.7663   Testing loss: 1.2926   Train accuracy: 0.6577   Test accuracy: 0.4108  \n",
      "Epoch: 446/1000   Training loss: 0.7580   Testing loss: 1.3361   Train accuracy: 0.6604   Test accuracy: 0.4056  \n",
      "Epoch: 447/1000   Training loss: 0.7497   Testing loss: 1.3118   Train accuracy: 0.6584   Test accuracy: 0.4346  \n",
      "Epoch: 448/1000   Training loss: 0.7382   Testing loss: 1.4385   Train accuracy: 0.6705   Test accuracy: 0.4487  \n",
      "Epoch: 449/1000   Training loss: 0.7343   Testing loss: 1.3542   Train accuracy: 0.6684   Test accuracy: 0.3967  \n",
      "Epoch: 450/1000   Training loss: 0.7510   Testing loss: 1.4143   Train accuracy: 0.6641   Test accuracy: 0.4322  \n",
      "Epoch: 451/1000   Training loss: 0.7407   Testing loss: 1.3198   Train accuracy: 0.6671   Test accuracy: 0.4264  \n",
      "Epoch: 452/1000   Training loss: 0.7357   Testing loss: 1.4524   Train accuracy: 0.6732   Test accuracy: 0.4480  \n",
      "Epoch: 453/1000   Training loss: 0.7494   Testing loss: 1.4089   Train accuracy: 0.6603   Test accuracy: 0.4478  \n",
      "Epoch: 454/1000   Training loss: 0.7382   Testing loss: 1.3837   Train accuracy: 0.6696   Test accuracy: 0.3866  \n",
      "Epoch: 455/1000   Training loss: 0.7287   Testing loss: 1.3311   Train accuracy: 0.6751   Test accuracy: 0.4308  \n",
      "Epoch: 456/1000   Training loss: 0.7429   Testing loss: 1.4369   Train accuracy: 0.6645   Test accuracy: 0.4424  \n",
      "Epoch: 457/1000   Training loss: 0.7480   Testing loss: 1.5024   Train accuracy: 0.6619   Test accuracy: 0.3656  \n",
      "Epoch: 458/1000   Training loss: 0.7393   Testing loss: 1.3847   Train accuracy: 0.6719   Test accuracy: 0.4348  \n",
      "Epoch: 459/1000   Training loss: 0.7389   Testing loss: 1.3654   Train accuracy: 0.6690   Test accuracy: 0.3974  \n",
      "Epoch: 460/1000   Training loss: 0.7334   Testing loss: 1.4171   Train accuracy: 0.6725   Test accuracy: 0.3807  \n",
      "Epoch: 461/1000   Training loss: 0.7309   Testing loss: 1.4066   Train accuracy: 0.6692   Test accuracy: 0.4268  \n",
      "Epoch: 462/1000   Training loss: 0.7639   Testing loss: 1.3513   Train accuracy: 0.6523   Test accuracy: 0.4226  \n",
      "Epoch: 463/1000   Training loss: 0.7033   Testing loss: 1.4621   Train accuracy: 0.6888   Test accuracy: 0.3732  \n",
      "Epoch: 464/1000   Training loss: 0.7244   Testing loss: 1.4160   Train accuracy: 0.6752   Test accuracy: 0.3904  \n",
      "Epoch: 465/1000   Training loss: 0.7214   Testing loss: 1.3663   Train accuracy: 0.6766   Test accuracy: 0.4278  \n",
      "Epoch: 466/1000   Training loss: 0.7244   Testing loss: 1.5612   Train accuracy: 0.6786   Test accuracy: 0.3579  \n",
      "Epoch: 467/1000   Training loss: 0.7287   Testing loss: 1.4013   Train accuracy: 0.6735   Test accuracy: 0.3849  \n",
      "Epoch: 468/1000   Training loss: 0.7236   Testing loss: 1.3902   Train accuracy: 0.6769   Test accuracy: 0.4466  \n",
      "Epoch: 469/1000   Training loss: 0.7081   Testing loss: 1.4519   Train accuracy: 0.6861   Test accuracy: 0.3708  \n",
      "Epoch: 470/1000   Training loss: 0.7278   Testing loss: 1.4560   Train accuracy: 0.6736   Test accuracy: 0.4169  \n",
      "Epoch: 471/1000   Training loss: 0.7132   Testing loss: 1.4589   Train accuracy: 0.6786   Test accuracy: 0.3713  \n",
      "Epoch: 472/1000   Training loss: 0.7295   Testing loss: 1.3646   Train accuracy: 0.6752   Test accuracy: 0.4332  \n",
      "Epoch: 473/1000   Training loss: 0.7162   Testing loss: 1.3917   Train accuracy: 0.6804   Test accuracy: 0.4104  \n",
      "Epoch: 474/1000   Training loss: 0.7022   Testing loss: 1.3923   Train accuracy: 0.6887   Test accuracy: 0.4188  \n",
      "Epoch: 475/1000   Training loss: 0.7134   Testing loss: 1.7725   Train accuracy: 0.6844   Test accuracy: 0.3967  \n",
      "Epoch: 476/1000   Training loss: 0.7188   Testing loss: 1.4244   Train accuracy: 0.6809   Test accuracy: 0.3864  \n",
      "Epoch: 477/1000   Training loss: 0.7114   Testing loss: 1.4648   Train accuracy: 0.6795   Test accuracy: 0.4459  \n",
      "Epoch: 478/1000   Training loss: 0.7054   Testing loss: 1.6140   Train accuracy: 0.6864   Test accuracy: 0.3409  \n",
      "Epoch: 479/1000   Training loss: 0.7144   Testing loss: 1.4718   Train accuracy: 0.6819   Test accuracy: 0.4073  \n",
      "Epoch: 480/1000   Training loss: 0.7128   Testing loss: 1.5040   Train accuracy: 0.6876   Test accuracy: 0.4424  \n",
      "Epoch: 481/1000   Training loss: 0.7209   Testing loss: 1.4044   Train accuracy: 0.6732   Test accuracy: 0.4139  \n",
      "Epoch: 482/1000   Training loss: 0.6967   Testing loss: 1.5362   Train accuracy: 0.6879   Test accuracy: 0.3746  \n",
      "Epoch: 483/1000   Training loss: 0.6999   Testing loss: 1.4736   Train accuracy: 0.6853   Test accuracy: 0.3715  \n",
      "Epoch: 484/1000   Training loss: 0.6995   Testing loss: 1.3839   Train accuracy: 0.6911   Test accuracy: 0.4285  \n",
      "Epoch: 485/1000   Training loss: 0.6979   Testing loss: 1.4493   Train accuracy: 0.6859   Test accuracy: 0.4198  \n",
      "Epoch: 486/1000   Training loss: 0.7030   Testing loss: 1.5151   Train accuracy: 0.6873   Test accuracy: 0.4508  \n",
      "Epoch: 487/1000   Training loss: 0.7042   Testing loss: 1.5103   Train accuracy: 0.6873   Test accuracy: 0.4496  \n",
      "Epoch: 488/1000   Training loss: 0.6910   Testing loss: 1.4318   Train accuracy: 0.6958   Test accuracy: 0.3953  \n",
      "Epoch: 489/1000   Training loss: 0.6885   Testing loss: 1.4632   Train accuracy: 0.6929   Test accuracy: 0.3984  \n",
      "Epoch: 490/1000   Training loss: 0.6998   Testing loss: 1.4931   Train accuracy: 0.6900   Test accuracy: 0.4299  \n",
      "Epoch: 491/1000   Training loss: 0.6938   Testing loss: 1.4728   Train accuracy: 0.6958   Test accuracy: 0.4494  \n",
      "Epoch: 492/1000   Training loss: 0.6840   Testing loss: 1.4790   Train accuracy: 0.6934   Test accuracy: 0.3849  \n",
      "Epoch: 493/1000   Training loss: 0.6654   Testing loss: 1.5382   Train accuracy: 0.7079   Test accuracy: 0.4496  \n",
      "Epoch: 494/1000   Training loss: 0.7141   Testing loss: 1.5461   Train accuracy: 0.6841   Test accuracy: 0.4391  \n",
      "Epoch: 495/1000   Training loss: 0.6581   Testing loss: 1.5742   Train accuracy: 0.7122   Test accuracy: 0.3866  \n",
      "Epoch: 496/1000   Training loss: 0.6859   Testing loss: 1.4465   Train accuracy: 0.6955   Test accuracy: 0.4120  \n",
      "Epoch: 497/1000   Training loss: 0.6997   Testing loss: 1.8149   Train accuracy: 0.6933   Test accuracy: 0.3421  \n",
      "Epoch: 498/1000   Training loss: 0.6967   Testing loss: 1.6245   Train accuracy: 0.6935   Test accuracy: 0.4245  \n",
      "Epoch: 499/1000   Training loss: 0.6910   Testing loss: 1.4860   Train accuracy: 0.6945   Test accuracy: 0.4056  \n",
      "Epoch: 500/1000   Training loss: 0.6863   Testing loss: 1.5358   Train accuracy: 0.6945   Test accuracy: 0.4365  \n",
      "Epoch: 501/1000   Training loss: 0.6791   Testing loss: 1.4876   Train accuracy: 0.7033   Test accuracy: 0.3736  \n",
      "Epoch: 502/1000   Training loss: 0.6710   Testing loss: 1.7541   Train accuracy: 0.7072   Test accuracy: 0.3341  \n",
      "Epoch: 503/1000   Training loss: 0.6849   Testing loss: 1.4491   Train accuracy: 0.6979   Test accuracy: 0.4282  \n",
      "Epoch: 504/1000   Training loss: 0.6797   Testing loss: 1.4840   Train accuracy: 0.6989   Test accuracy: 0.4073  \n",
      "Epoch: 505/1000   Training loss: 0.6574   Testing loss: 1.4732   Train accuracy: 0.7089   Test accuracy: 0.4456  \n"
     ]
    },
    {
     "name": "stdout",
     "output_type": "stream",
     "text": [
      "Epoch: 506/1000   Training loss: 0.6719   Testing loss: 1.4923   Train accuracy: 0.7067   Test accuracy: 0.3976  \n",
      "Epoch: 507/1000   Training loss: 0.6761   Testing loss: 1.4526   Train accuracy: 0.7006   Test accuracy: 0.4195  \n",
      "Epoch: 508/1000   Training loss: 0.6776   Testing loss: 1.4753   Train accuracy: 0.6993   Test accuracy: 0.4007  \n",
      "Epoch: 509/1000   Training loss: 0.6757   Testing loss: 1.5005   Train accuracy: 0.6989   Test accuracy: 0.4045  \n",
      "Epoch: 510/1000   Training loss: 0.6643   Testing loss: 1.6253   Train accuracy: 0.7093   Test accuracy: 0.3760  \n",
      "Epoch: 511/1000   Training loss: 0.6706   Testing loss: 1.6679   Train accuracy: 0.7026   Test accuracy: 0.4532  \n",
      "Epoch: 512/1000   Training loss: 0.6715   Testing loss: 1.5304   Train accuracy: 0.7013   Test accuracy: 0.4136  \n",
      "Epoch: 513/1000   Training loss: 0.6671   Testing loss: 1.5402   Train accuracy: 0.7046   Test accuracy: 0.4440  \n",
      "Epoch: 514/1000   Training loss: 0.6602   Testing loss: 1.7772   Train accuracy: 0.7083   Test accuracy: 0.4485  \n",
      "Epoch: 515/1000   Training loss: 0.6682   Testing loss: 1.5839   Train accuracy: 0.7056   Test accuracy: 0.4480  \n",
      "Epoch: 516/1000   Training loss: 0.6514   Testing loss: 1.5688   Train accuracy: 0.7089   Test accuracy: 0.4214  \n",
      "Epoch: 517/1000   Training loss: 0.6566   Testing loss: 1.6507   Train accuracy: 0.7127   Test accuracy: 0.4381  \n",
      "Epoch: 518/1000   Training loss: 0.6695   Testing loss: 1.5310   Train accuracy: 0.7070   Test accuracy: 0.4066  \n",
      "Epoch: 519/1000   Training loss: 0.6605   Testing loss: 1.5331   Train accuracy: 0.7044   Test accuracy: 0.4005  \n",
      "Epoch: 520/1000   Training loss: 0.6578   Testing loss: 1.4726   Train accuracy: 0.7117   Test accuracy: 0.4200  \n",
      "Epoch: 521/1000   Training loss: 0.6334   Testing loss: 1.8230   Train accuracy: 0.7226   Test accuracy: 0.3746  \n",
      "Epoch: 522/1000   Training loss: 0.6480   Testing loss: 1.5736   Train accuracy: 0.7149   Test accuracy: 0.3856  \n",
      "Epoch: 523/1000   Training loss: 0.6658   Testing loss: 1.5360   Train accuracy: 0.7037   Test accuracy: 0.3955  \n",
      "Epoch: 524/1000   Training loss: 0.6409   Testing loss: 1.5650   Train accuracy: 0.7205   Test accuracy: 0.4101  \n",
      "Epoch: 525/1000   Training loss: 0.6411   Testing loss: 2.1174   Train accuracy: 0.7196   Test accuracy: 0.3304  \n",
      "Epoch: 526/1000   Training loss: 0.6756   Testing loss: 1.6485   Train accuracy: 0.7027   Test accuracy: 0.4358  \n",
      "Epoch: 527/1000   Training loss: 0.6709   Testing loss: 1.5194   Train accuracy: 0.7026   Test accuracy: 0.4000  \n",
      "Epoch: 528/1000   Training loss: 0.6278   Testing loss: 1.6800   Train accuracy: 0.7236   Test accuracy: 0.4372  \n",
      "Epoch: 529/1000   Training loss: 0.6231   Testing loss: 1.6105   Train accuracy: 0.7287   Test accuracy: 0.3722  \n",
      "Epoch: 530/1000   Training loss: 0.6417   Testing loss: 1.5996   Train accuracy: 0.7123   Test accuracy: 0.4398  \n",
      "Epoch: 531/1000   Training loss: 0.6476   Testing loss: 1.5803   Train accuracy: 0.7164   Test accuracy: 0.4369  \n",
      "Epoch: 532/1000   Training loss: 0.6329   Testing loss: 1.6068   Train accuracy: 0.7224   Test accuracy: 0.3913  \n",
      "Epoch: 533/1000   Training loss: 0.6424   Testing loss: 1.6499   Train accuracy: 0.7180   Test accuracy: 0.4492  \n",
      "Epoch: 534/1000   Training loss: 0.6528   Testing loss: 1.7366   Train accuracy: 0.7152   Test accuracy: 0.4494  \n",
      "Epoch: 535/1000   Training loss: 0.6384   Testing loss: 1.5839   Train accuracy: 0.7221   Test accuracy: 0.4007  \n",
      "Epoch: 536/1000   Training loss: 0.6140   Testing loss: 1.7621   Train accuracy: 0.7339   Test accuracy: 0.3769  \n",
      "Epoch: 537/1000   Training loss: 0.6465   Testing loss: 1.7992   Train accuracy: 0.7192   Test accuracy: 0.3849  \n",
      "Epoch: 538/1000   Training loss: 0.6266   Testing loss: 1.6025   Train accuracy: 0.7281   Test accuracy: 0.4376  \n",
      "Epoch: 539/1000   Training loss: 0.6402   Testing loss: 1.9112   Train accuracy: 0.7195   Test accuracy: 0.3508  \n",
      "Epoch: 540/1000   Training loss: 0.6465   Testing loss: 1.5322   Train accuracy: 0.7126   Test accuracy: 0.4111  \n",
      "Epoch: 541/1000   Training loss: 0.6076   Testing loss: 1.6866   Train accuracy: 0.7308   Test accuracy: 0.4478  \n",
      "Epoch: 542/1000   Training loss: 0.6083   Testing loss: 1.6536   Train accuracy: 0.7370   Test accuracy: 0.4059  \n",
      "Epoch: 543/1000   Training loss: 0.6181   Testing loss: 1.5940   Train accuracy: 0.7313   Test accuracy: 0.4238  \n",
      "Epoch: 544/1000   Training loss: 0.6268   Testing loss: 1.7010   Train accuracy: 0.7236   Test accuracy: 0.4169  \n",
      "Epoch: 545/1000   Training loss: 0.6378   Testing loss: 1.6919   Train accuracy: 0.7199   Test accuracy: 0.3913  \n",
      "Epoch: 546/1000   Training loss: 0.6366   Testing loss: 1.5575   Train accuracy: 0.7208   Test accuracy: 0.4268  \n",
      "Epoch: 547/1000   Training loss: 0.6125   Testing loss: 1.6151   Train accuracy: 0.7292   Test accuracy: 0.4282  \n",
      "Epoch: 548/1000   Training loss: 0.6059   Testing loss: 1.9246   Train accuracy: 0.7346   Test accuracy: 0.3694  \n",
      "Epoch: 549/1000   Training loss: 0.6469   Testing loss: 1.5830   Train accuracy: 0.7148   Test accuracy: 0.4233  \n",
      "Epoch: 550/1000   Training loss: 0.6135   Testing loss: 1.5999   Train accuracy: 0.7302   Test accuracy: 0.3969  \n",
      "Epoch: 551/1000   Training loss: 0.6177   Testing loss: 1.6889   Train accuracy: 0.7267   Test accuracy: 0.4014  \n",
      "Epoch: 552/1000   Training loss: 0.5791   Testing loss: 1.6384   Train accuracy: 0.7492   Test accuracy: 0.4162  \n",
      "Epoch: 553/1000   Training loss: 0.6095   Testing loss: 1.6385   Train accuracy: 0.7299   Test accuracy: 0.4346  \n",
      "Epoch: 554/1000   Training loss: 0.6347   Testing loss: 1.8491   Train accuracy: 0.7232   Test accuracy: 0.4619  \n",
      "Epoch: 555/1000   Training loss: 0.5893   Testing loss: 1.8385   Train accuracy: 0.7470   Test accuracy: 0.3452  \n",
      "Epoch: 556/1000   Training loss: 0.6140   Testing loss: 1.7007   Train accuracy: 0.7334   Test accuracy: 0.4344  \n",
      "Epoch: 557/1000   Training loss: 0.6028   Testing loss: 1.6206   Train accuracy: 0.7342   Test accuracy: 0.4089  \n",
      "Epoch: 558/1000   Training loss: 0.5967   Testing loss: 1.7399   Train accuracy: 0.7379   Test accuracy: 0.4421  \n",
      "Epoch: 559/1000   Training loss: 0.5906   Testing loss: 1.6795   Train accuracy: 0.7455   Test accuracy: 0.4075  \n",
      "Epoch: 560/1000   Training loss: 0.6257   Testing loss: 1.7277   Train accuracy: 0.7252   Test accuracy: 0.4416  \n",
      "Epoch: 561/1000   Training loss: 0.5872   Testing loss: 1.6575   Train accuracy: 0.7465   Test accuracy: 0.3960  \n",
      "Epoch: 562/1000   Training loss: 0.6062   Testing loss: 1.8125   Train accuracy: 0.7361   Test accuracy: 0.3868  \n",
      "Epoch: 563/1000   Training loss: 0.5896   Testing loss: 1.6541   Train accuracy: 0.7443   Test accuracy: 0.4129  \n",
      "Epoch: 564/1000   Training loss: 0.6143   Testing loss: 1.7050   Train accuracy: 0.7321   Test accuracy: 0.4388  \n",
      "Epoch: 565/1000   Training loss: 0.5722   Testing loss: 1.8046   Train accuracy: 0.7494   Test accuracy: 0.4402  \n",
      "Epoch: 566/1000   Training loss: 0.6127   Testing loss: 1.6609   Train accuracy: 0.7271   Test accuracy: 0.4019  \n",
      "Epoch: 567/1000   Training loss: 0.5764   Testing loss: 1.8925   Train accuracy: 0.7505   Test accuracy: 0.4151  \n",
      "Epoch: 568/1000   Training loss: 0.6202   Testing loss: 1.6394   Train accuracy: 0.7297   Test accuracy: 0.4278  \n",
      "Epoch: 569/1000   Training loss: 0.6234   Testing loss: 1.7501   Train accuracy: 0.7267   Test accuracy: 0.4376  \n",
      "Epoch: 570/1000   Training loss: 0.5602   Testing loss: 1.7432   Train accuracy: 0.7550   Test accuracy: 0.4412  \n",
      "Epoch: 571/1000   Training loss: 0.5980   Testing loss: 1.8144   Train accuracy: 0.7396   Test accuracy: 0.3668  \n",
      "Epoch: 572/1000   Training loss: 0.6155   Testing loss: 1.8810   Train accuracy: 0.7265   Test accuracy: 0.4047  \n",
      "Epoch: 573/1000   Training loss: 0.6081   Testing loss: 1.7469   Train accuracy: 0.7339   Test accuracy: 0.3934  \n",
      "Epoch: 574/1000   Training loss: 0.5717   Testing loss: 2.0104   Train accuracy: 0.7522   Test accuracy: 0.3482  \n",
      "Epoch: 575/1000   Training loss: 0.6007   Testing loss: 1.6867   Train accuracy: 0.7423   Test accuracy: 0.3929  \n",
      "Epoch: 576/1000   Training loss: 0.5579   Testing loss: 1.7315   Train accuracy: 0.7549   Test accuracy: 0.4318  \n",
      "Epoch: 577/1000   Training loss: 0.5674   Testing loss: 1.7815   Train accuracy: 0.7486   Test accuracy: 0.3915  \n"
     ]
    },
    {
     "name": "stdout",
     "output_type": "stream",
     "text": [
      "Epoch: 578/1000   Training loss: 0.5787   Testing loss: 1.9467   Train accuracy: 0.7490   Test accuracy: 0.4384  \n",
      "Epoch: 579/1000   Training loss: 0.5884   Testing loss: 1.7833   Train accuracy: 0.7439   Test accuracy: 0.4012  \n",
      "Epoch: 580/1000   Training loss: 0.5600   Testing loss: 2.2364   Train accuracy: 0.7601   Test accuracy: 0.3400  \n",
      "Epoch: 581/1000   Training loss: 0.6038   Testing loss: 1.7353   Train accuracy: 0.7384   Test accuracy: 0.4165  \n",
      "Epoch: 582/1000   Training loss: 0.5761   Testing loss: 1.8988   Train accuracy: 0.7512   Test accuracy: 0.4325  \n",
      "Epoch: 583/1000   Training loss: 0.5707   Testing loss: 1.7137   Train accuracy: 0.7509   Test accuracy: 0.4005  \n",
      "Epoch: 584/1000   Training loss: 0.5907   Testing loss: 1.7158   Train accuracy: 0.7405   Test accuracy: 0.4191  \n",
      "Epoch: 585/1000   Training loss: 0.5559   Testing loss: 1.7956   Train accuracy: 0.7577   Test accuracy: 0.4287  \n",
      "Epoch: 586/1000   Training loss: 0.5671   Testing loss: 1.7127   Train accuracy: 0.7544   Test accuracy: 0.4172  \n",
      "Epoch: 587/1000   Training loss: 0.5510   Testing loss: 2.0353   Train accuracy: 0.7616   Test accuracy: 0.3600  \n",
      "Epoch: 588/1000   Training loss: 0.6040   Testing loss: 1.7386   Train accuracy: 0.7368   Test accuracy: 0.4296  \n",
      "Epoch: 589/1000   Training loss: 0.5647   Testing loss: 1.7906   Train accuracy: 0.7521   Test accuracy: 0.3918  \n",
      "Epoch: 590/1000   Training loss: 0.5469   Testing loss: 1.8571   Train accuracy: 0.7616   Test accuracy: 0.3939  \n",
      "Epoch: 591/1000   Training loss: 0.5785   Testing loss: 1.7804   Train accuracy: 0.7462   Test accuracy: 0.4064  \n",
      "Epoch: 592/1000   Training loss: 0.5618   Testing loss: 1.7630   Train accuracy: 0.7578   Test accuracy: 0.4087  \n",
      "Epoch: 593/1000   Training loss: 0.5800   Testing loss: 1.8139   Train accuracy: 0.7472   Test accuracy: 0.4056  \n",
      "Epoch: 594/1000   Training loss: 0.5707   Testing loss: 1.7976   Train accuracy: 0.7493   Test accuracy: 0.4235  \n",
      "Epoch: 595/1000   Training loss: 0.5551   Testing loss: 1.7661   Train accuracy: 0.7571   Test accuracy: 0.4085  \n",
      "Epoch: 596/1000   Training loss: 0.5414   Testing loss: 1.8234   Train accuracy: 0.7595   Test accuracy: 0.3852  \n",
      "Epoch: 597/1000   Training loss: 0.5851   Testing loss: 1.8239   Train accuracy: 0.7439   Test accuracy: 0.3805  \n",
      "Epoch: 598/1000   Training loss: 0.5642   Testing loss: 1.9225   Train accuracy: 0.7544   Test accuracy: 0.3925  \n",
      "Epoch: 599/1000   Training loss: 0.5754   Testing loss: 1.8307   Train accuracy: 0.7485   Test accuracy: 0.3932  \n",
      "Epoch: 600/1000   Training loss: 0.5409   Testing loss: 1.7739   Train accuracy: 0.7645   Test accuracy: 0.3887  \n",
      "Epoch: 601/1000   Training loss: 0.5283   Testing loss: 1.8871   Train accuracy: 0.7693   Test accuracy: 0.4087  \n",
      "Epoch: 602/1000   Training loss: 0.5215   Testing loss: 1.8858   Train accuracy: 0.7704   Test accuracy: 0.4320  \n",
      "Epoch: 603/1000   Training loss: 0.5697   Testing loss: 1.8222   Train accuracy: 0.7518   Test accuracy: 0.4122  \n",
      "Epoch: 604/1000   Training loss: 0.5638   Testing loss: 1.9868   Train accuracy: 0.7555   Test accuracy: 0.4219  \n",
      "Epoch: 605/1000   Training loss: 0.5367   Testing loss: 1.9337   Train accuracy: 0.7681   Test accuracy: 0.4146  \n",
      "Epoch: 606/1000   Training loss: 0.5449   Testing loss: 1.8693   Train accuracy: 0.7674   Test accuracy: 0.3955  \n",
      "Epoch: 607/1000   Training loss: 0.5657   Testing loss: 1.9168   Train accuracy: 0.7566   Test accuracy: 0.3828  \n",
      "Epoch: 608/1000   Training loss: 0.5619   Testing loss: 1.8737   Train accuracy: 0.7562   Test accuracy: 0.4268  \n",
      "Epoch: 609/1000   Training loss: 0.4895   Testing loss: 1.9220   Train accuracy: 0.7887   Test accuracy: 0.4195  \n",
      "Epoch: 610/1000   Training loss: 0.5800   Testing loss: 1.7905   Train accuracy: 0.7464   Test accuracy: 0.3969  \n",
      "Epoch: 611/1000   Training loss: 0.5271   Testing loss: 1.9489   Train accuracy: 0.7721   Test accuracy: 0.4252  \n",
      "Epoch: 612/1000   Training loss: 0.5742   Testing loss: 1.9358   Train accuracy: 0.7508   Test accuracy: 0.4252  \n",
      "Epoch: 613/1000   Training loss: 0.5146   Testing loss: 1.9371   Train accuracy: 0.7785   Test accuracy: 0.4198  \n",
      "Epoch: 614/1000   Training loss: 0.5781   Testing loss: 1.9184   Train accuracy: 0.7478   Test accuracy: 0.4231  \n",
      "Epoch: 615/1000   Training loss: 0.5338   Testing loss: 1.8106   Train accuracy: 0.7686   Test accuracy: 0.4049  \n",
      "Epoch: 616/1000   Training loss: 0.5303   Testing loss: 2.0185   Train accuracy: 0.7692   Test accuracy: 0.4374  \n",
      "Epoch: 617/1000   Training loss: 0.5181   Testing loss: 1.8611   Train accuracy: 0.7764   Test accuracy: 0.4040  \n",
      "Epoch: 618/1000   Training loss: 0.5226   Testing loss: 2.1824   Train accuracy: 0.7749   Test accuracy: 0.4471  \n",
      "Epoch: 619/1000   Training loss: 0.5498   Testing loss: 1.9990   Train accuracy: 0.7612   Test accuracy: 0.3652  \n",
      "Epoch: 620/1000   Training loss: 0.5351   Testing loss: 1.8456   Train accuracy: 0.7681   Test accuracy: 0.3873  \n",
      "Epoch: 621/1000   Training loss: 0.5395   Testing loss: 2.0115   Train accuracy: 0.7649   Test accuracy: 0.4289  \n",
      "Epoch: 622/1000   Training loss: 0.5319   Testing loss: 1.9652   Train accuracy: 0.7662   Test accuracy: 0.4282  \n",
      "Epoch: 623/1000   Training loss: 0.5456   Testing loss: 1.8891   Train accuracy: 0.7664   Test accuracy: 0.3887  \n",
      "Epoch: 624/1000   Training loss: 0.5467   Testing loss: 1.8434   Train accuracy: 0.7645   Test accuracy: 0.4188  \n",
      "Epoch: 625/1000   Training loss: 0.5138   Testing loss: 1.9990   Train accuracy: 0.7753   Test accuracy: 0.3939  \n",
      "Epoch: 626/1000   Training loss: 0.5211   Testing loss: 1.8957   Train accuracy: 0.7727   Test accuracy: 0.4273  \n",
      "Epoch: 627/1000   Training loss: 0.5112   Testing loss: 1.9009   Train accuracy: 0.7763   Test accuracy: 0.3936  \n",
      "Epoch: 628/1000   Training loss: 0.5034   Testing loss: 2.0618   Train accuracy: 0.7817   Test accuracy: 0.3981  \n",
      "Epoch: 629/1000   Training loss: 0.5570   Testing loss: 1.9703   Train accuracy: 0.7579   Test accuracy: 0.4360  \n",
      "Epoch: 630/1000   Training loss: 0.5019   Testing loss: 2.0043   Train accuracy: 0.7802   Test accuracy: 0.3711  \n",
      "Epoch: 631/1000   Training loss: 0.5417   Testing loss: 1.9009   Train accuracy: 0.7683   Test accuracy: 0.4033  \n",
      "Epoch: 632/1000   Training loss: 0.5260   Testing loss: 1.9892   Train accuracy: 0.7724   Test accuracy: 0.4261  \n",
      "Epoch: 633/1000   Training loss: 0.5138   Testing loss: 1.8841   Train accuracy: 0.7752   Test accuracy: 0.4104  \n",
      "Epoch: 634/1000   Training loss: 0.5300   Testing loss: 1.9494   Train accuracy: 0.7741   Test accuracy: 0.3981  \n",
      "Epoch: 635/1000   Training loss: 0.5335   Testing loss: 2.0638   Train accuracy: 0.7658   Test accuracy: 0.4405  \n",
      "Epoch: 636/1000   Training loss: 0.5094   Testing loss: 2.0373   Train accuracy: 0.7766   Test accuracy: 0.4254  \n",
      "Epoch: 637/1000   Training loss: 0.4834   Testing loss: 2.0495   Train accuracy: 0.7853   Test accuracy: 0.4172  \n",
      "Epoch: 638/1000   Training loss: 0.5047   Testing loss: 2.0201   Train accuracy: 0.7834   Test accuracy: 0.3951  \n",
      "Epoch: 639/1000   Training loss: 0.5109   Testing loss: 2.0919   Train accuracy: 0.7775   Test accuracy: 0.4419  \n",
      "Epoch: 640/1000   Training loss: 0.5722   Testing loss: 1.9403   Train accuracy: 0.7519   Test accuracy: 0.4202  \n",
      "Epoch: 641/1000   Training loss: 0.5049   Testing loss: 2.0837   Train accuracy: 0.7781   Test accuracy: 0.4304  \n",
      "Epoch: 642/1000   Training loss: 0.5187   Testing loss: 2.0777   Train accuracy: 0.7761   Test accuracy: 0.4336  \n",
      "Epoch: 643/1000   Training loss: 0.4746   Testing loss: 2.0232   Train accuracy: 0.7918   Test accuracy: 0.4153  \n",
      "Epoch: 644/1000   Training loss: 0.5117   Testing loss: 1.9832   Train accuracy: 0.7783   Test accuracy: 0.4329  \n",
      "Epoch: 645/1000   Training loss: 0.5074   Testing loss: 1.9827   Train accuracy: 0.7816   Test accuracy: 0.4059  \n",
      "Epoch: 646/1000   Training loss: 0.5098   Testing loss: 1.9738   Train accuracy: 0.7755   Test accuracy: 0.4280  \n",
      "Epoch: 647/1000   Training loss: 0.4798   Testing loss: 2.0709   Train accuracy: 0.7894   Test accuracy: 0.4228  \n",
      "Epoch: 648/1000   Training loss: 0.4934   Testing loss: 2.0118   Train accuracy: 0.7806   Test accuracy: 0.4195  \n",
      "Epoch: 649/1000   Training loss: 0.4829   Testing loss: 2.3230   Train accuracy: 0.7877   Test accuracy: 0.4113  \n"
     ]
    },
    {
     "name": "stdout",
     "output_type": "stream",
     "text": [
      "Epoch: 650/1000   Training loss: 0.5230   Testing loss: 1.9897   Train accuracy: 0.7785   Test accuracy: 0.4266  \n",
      "Epoch: 651/1000   Training loss: 0.5144   Testing loss: 1.9909   Train accuracy: 0.7765   Test accuracy: 0.4089  \n",
      "Epoch: 652/1000   Training loss: 0.4747   Testing loss: 2.0931   Train accuracy: 0.7911   Test accuracy: 0.4426  \n",
      "Epoch: 653/1000   Training loss: 0.4766   Testing loss: 2.0116   Train accuracy: 0.7895   Test accuracy: 0.3882  \n",
      "Epoch: 654/1000   Training loss: 0.5191   Testing loss: 2.0615   Train accuracy: 0.7730   Test accuracy: 0.4016  \n",
      "Epoch: 655/1000   Training loss: 0.5168   Testing loss: 2.0561   Train accuracy: 0.7724   Test accuracy: 0.4061  \n",
      "Epoch: 656/1000   Training loss: 0.4651   Testing loss: 2.1437   Train accuracy: 0.7947   Test accuracy: 0.3991  \n",
      "Epoch: 657/1000   Training loss: 0.4975   Testing loss: 2.1731   Train accuracy: 0.7820   Test accuracy: 0.4052  \n",
      "Epoch: 658/1000   Training loss: 0.5185   Testing loss: 2.0046   Train accuracy: 0.7747   Test accuracy: 0.4231  \n",
      "Epoch: 659/1000   Training loss: 0.4771   Testing loss: 2.0800   Train accuracy: 0.7938   Test accuracy: 0.3849  \n",
      "Epoch: 660/1000   Training loss: 0.4752   Testing loss: 2.0619   Train accuracy: 0.7917   Test accuracy: 0.4456  \n",
      "Epoch: 661/1000   Training loss: 0.4972   Testing loss: 2.0054   Train accuracy: 0.7841   Test accuracy: 0.4214  \n",
      "Epoch: 662/1000   Training loss: 0.4487   Testing loss: 2.0703   Train accuracy: 0.7978   Test accuracy: 0.4212  \n",
      "Epoch: 663/1000   Training loss: 0.4796   Testing loss: 2.0804   Train accuracy: 0.7919   Test accuracy: 0.3915  \n",
      "Epoch: 664/1000   Training loss: 0.5054   Testing loss: 2.0053   Train accuracy: 0.7796   Test accuracy: 0.4181  \n",
      "Epoch: 665/1000   Training loss: 0.4763   Testing loss: 2.2906   Train accuracy: 0.7931   Test accuracy: 0.4268  \n",
      "Epoch: 666/1000   Training loss: 0.4926   Testing loss: 2.0500   Train accuracy: 0.7852   Test accuracy: 0.4021  \n",
      "Epoch: 667/1000   Training loss: 0.4633   Testing loss: 2.2090   Train accuracy: 0.7971   Test accuracy: 0.3967  \n",
      "Epoch: 668/1000   Training loss: 0.5106   Testing loss: 2.1108   Train accuracy: 0.7777   Test accuracy: 0.3814  \n",
      "Epoch: 669/1000   Training loss: 0.4798   Testing loss: 2.1002   Train accuracy: 0.7919   Test accuracy: 0.4233  \n",
      "Epoch: 670/1000   Training loss: 0.4608   Testing loss: 2.1187   Train accuracy: 0.7990   Test accuracy: 0.4355  \n",
      "Epoch: 671/1000   Training loss: 0.4792   Testing loss: 2.1746   Train accuracy: 0.7925   Test accuracy: 0.4176  \n",
      "Epoch: 672/1000   Training loss: 0.4971   Testing loss: 2.0784   Train accuracy: 0.7855   Test accuracy: 0.4155  \n",
      "Epoch: 673/1000   Training loss: 0.4685   Testing loss: 2.1547   Train accuracy: 0.7982   Test accuracy: 0.3760  \n",
      "Epoch: 674/1000   Training loss: 0.5163   Testing loss: 2.0767   Train accuracy: 0.7756   Test accuracy: 0.4320  \n",
      "Epoch: 675/1000   Training loss: 0.4577   Testing loss: 2.0966   Train accuracy: 0.7973   Test accuracy: 0.4191  \n",
      "Epoch: 676/1000   Training loss: 0.4781   Testing loss: 2.0897   Train accuracy: 0.7915   Test accuracy: 0.4228  \n",
      "Epoch: 677/1000   Training loss: 0.4705   Testing loss: 2.2594   Train accuracy: 0.7955   Test accuracy: 0.4433  \n",
      "Epoch: 678/1000   Training loss: 0.4880   Testing loss: 2.1604   Train accuracy: 0.7852   Test accuracy: 0.4184  \n",
      "Epoch: 679/1000   Training loss: 0.4469   Testing loss: 2.1945   Train accuracy: 0.8005   Test accuracy: 0.4360  \n",
      "Epoch: 680/1000   Training loss: 0.4685   Testing loss: 2.1545   Train accuracy: 0.7963   Test accuracy: 0.3962  \n",
      "Epoch: 681/1000   Training loss: 0.4721   Testing loss: 2.0724   Train accuracy: 0.7904   Test accuracy: 0.4278  \n",
      "Epoch: 682/1000   Training loss: 0.4601   Testing loss: 2.1351   Train accuracy: 0.7967   Test accuracy: 0.3859  \n",
      "Epoch: 683/1000   Training loss: 0.4822   Testing loss: 2.4370   Train accuracy: 0.7915   Test accuracy: 0.4167  \n",
      "Epoch: 684/1000   Training loss: 0.4712   Testing loss: 2.1732   Train accuracy: 0.7955   Test accuracy: 0.4136  \n",
      "Epoch: 685/1000   Training loss: 0.4969   Testing loss: 2.1555   Train accuracy: 0.7845   Test accuracy: 0.4038  \n",
      "Epoch: 686/1000   Training loss: 0.4464   Testing loss: 2.0827   Train accuracy: 0.7996   Test accuracy: 0.4155  \n",
      "Epoch: 687/1000   Training loss: 0.4194   Testing loss: 2.1375   Train accuracy: 0.8078   Test accuracy: 0.4075  \n",
      "Epoch: 688/1000   Training loss: 0.4966   Testing loss: 2.2097   Train accuracy: 0.7815   Test accuracy: 0.4282  \n",
      "Epoch: 689/1000   Training loss: 0.4653   Testing loss: 2.2348   Train accuracy: 0.7982   Test accuracy: 0.3819  \n",
      "Epoch: 690/1000   Training loss: 0.4708   Testing loss: 2.2106   Train accuracy: 0.7935   Test accuracy: 0.4334  \n",
      "Epoch: 691/1000   Training loss: 0.4669   Testing loss: 2.4494   Train accuracy: 0.7994   Test accuracy: 0.3468  \n",
      "Epoch: 692/1000   Training loss: 0.4659   Testing loss: 2.1173   Train accuracy: 0.7938   Test accuracy: 0.4028  \n",
      "Epoch: 693/1000   Training loss: 0.4497   Testing loss: 2.1015   Train accuracy: 0.7994   Test accuracy: 0.4059  \n",
      "Epoch: 694/1000   Training loss: 0.4581   Testing loss: 2.1247   Train accuracy: 0.7978   Test accuracy: 0.4176  \n",
      "Epoch: 695/1000   Training loss: 0.4438   Testing loss: 2.3118   Train accuracy: 0.8020   Test accuracy: 0.4113  \n",
      "Epoch: 696/1000   Training loss: 0.4548   Testing loss: 2.1926   Train accuracy: 0.8008   Test accuracy: 0.4256  \n",
      "Epoch: 697/1000   Training loss: 0.4604   Testing loss: 2.2219   Train accuracy: 0.8005   Test accuracy: 0.4247  \n",
      "Epoch: 698/1000   Training loss: 0.4648   Testing loss: 2.1110   Train accuracy: 0.7973   Test accuracy: 0.4160  \n",
      "Epoch: 699/1000   Training loss: 0.4463   Testing loss: 2.1634   Train accuracy: 0.8044   Test accuracy: 0.4061  \n",
      "Epoch: 700/1000   Training loss: 0.4421   Testing loss: 2.1222   Train accuracy: 0.8050   Test accuracy: 0.4181  \n",
      "Epoch: 701/1000   Training loss: 0.4549   Testing loss: 2.1873   Train accuracy: 0.7986   Test accuracy: 0.3993  \n",
      "Epoch: 702/1000   Training loss: 0.4311   Testing loss: 2.1510   Train accuracy: 0.8084   Test accuracy: 0.3991  \n",
      "Epoch: 703/1000   Training loss: 0.4868   Testing loss: 2.1888   Train accuracy: 0.7910   Test accuracy: 0.4153  \n",
      "Epoch: 704/1000   Training loss: 0.4387   Testing loss: 2.2057   Train accuracy: 0.8052   Test accuracy: 0.4191  \n",
      "Epoch: 705/1000   Training loss: 0.4969   Testing loss: 2.1297   Train accuracy: 0.7861   Test accuracy: 0.4073  \n",
      "Epoch: 706/1000   Training loss: 0.4257   Testing loss: 2.1769   Train accuracy: 0.8114   Test accuracy: 0.4165  \n",
      "Epoch: 707/1000   Training loss: 0.4312   Testing loss: 2.2785   Train accuracy: 0.8113   Test accuracy: 0.4325  \n",
      "Epoch: 708/1000   Training loss: 0.4443   Testing loss: 2.4123   Train accuracy: 0.8038   Test accuracy: 0.4381  \n",
      "Epoch: 709/1000   Training loss: 0.4629   Testing loss: 2.1853   Train accuracy: 0.8004   Test accuracy: 0.4186  \n",
      "Epoch: 710/1000   Training loss: 0.4450   Testing loss: 2.1910   Train accuracy: 0.8040   Test accuracy: 0.4212  \n",
      "Epoch: 711/1000   Training loss: 0.4374   Testing loss: 2.1692   Train accuracy: 0.8056   Test accuracy: 0.4148  \n",
      "Epoch: 712/1000   Training loss: 0.4232   Testing loss: 2.3801   Train accuracy: 0.8095   Test accuracy: 0.4339  \n",
      "Epoch: 713/1000   Training loss: 0.4696   Testing loss: 2.1542   Train accuracy: 0.7958   Test accuracy: 0.4080  \n",
      "Epoch: 714/1000   Training loss: 0.4334   Testing loss: 2.2121   Train accuracy: 0.8096   Test accuracy: 0.4188  \n",
      "Epoch: 715/1000   Training loss: 0.4428   Testing loss: 2.2205   Train accuracy: 0.8065   Test accuracy: 0.4035  \n",
      "Epoch: 716/1000   Training loss: 0.4291   Testing loss: 2.2937   Train accuracy: 0.8107   Test accuracy: 0.3882  \n",
      "Epoch: 717/1000   Training loss: 0.4207   Testing loss: 2.2385   Train accuracy: 0.8148   Test accuracy: 0.4136  \n",
      "Epoch: 718/1000   Training loss: 0.4613   Testing loss: 2.2667   Train accuracy: 0.7958   Test accuracy: 0.4252  \n",
      "Epoch: 719/1000   Training loss: 0.4516   Testing loss: 2.2085   Train accuracy: 0.8023   Test accuracy: 0.3991  \n",
      "Epoch: 720/1000   Training loss: 0.4322   Testing loss: 2.1931   Train accuracy: 0.8108   Test accuracy: 0.3873  \n",
      "Epoch: 721/1000   Training loss: 0.4538   Testing loss: 2.2303   Train accuracy: 0.8001   Test accuracy: 0.4075  \n"
     ]
    },
    {
     "name": "stdout",
     "output_type": "stream",
     "text": [
      "Epoch: 722/1000   Training loss: 0.4168   Testing loss: 2.1857   Train accuracy: 0.8107   Test accuracy: 0.4080  \n",
      "Epoch: 723/1000   Training loss: 0.4404   Testing loss: 2.2232   Train accuracy: 0.8067   Test accuracy: 0.4092  \n",
      "Epoch: 724/1000   Training loss: 0.4435   Testing loss: 2.4997   Train accuracy: 0.8035   Test accuracy: 0.4449  \n",
      "Epoch: 725/1000   Training loss: 0.4250   Testing loss: 2.2779   Train accuracy: 0.8111   Test accuracy: 0.4212  \n",
      "Epoch: 726/1000   Training loss: 0.4206   Testing loss: 2.3605   Train accuracy: 0.8128   Test accuracy: 0.4115  \n",
      "Epoch: 727/1000   Training loss: 0.4380   Testing loss: 2.3715   Train accuracy: 0.8085   Test accuracy: 0.4318  \n",
      "Epoch: 728/1000   Training loss: 0.4254   Testing loss: 2.2422   Train accuracy: 0.8115   Test accuracy: 0.4045  \n",
      "Epoch: 729/1000   Training loss: 0.4336   Testing loss: 2.2190   Train accuracy: 0.8090   Test accuracy: 0.4139  \n",
      "Epoch: 730/1000   Training loss: 0.4166   Testing loss: 2.2994   Train accuracy: 0.8140   Test accuracy: 0.4104  \n",
      "Epoch: 731/1000   Training loss: 0.4270   Testing loss: 2.4107   Train accuracy: 0.8134   Test accuracy: 0.3685  \n",
      "Epoch: 732/1000   Training loss: 0.4874   Testing loss: 2.2985   Train accuracy: 0.7862   Test accuracy: 0.3934  \n",
      "Epoch: 733/1000   Training loss: 0.4137   Testing loss: 2.6723   Train accuracy: 0.8165   Test accuracy: 0.4299  \n",
      "Epoch: 734/1000   Training loss: 0.4797   Testing loss: 2.2464   Train accuracy: 0.7927   Test accuracy: 0.4068  \n",
      "Epoch: 735/1000   Training loss: 0.4326   Testing loss: 2.4211   Train accuracy: 0.8093   Test accuracy: 0.4353  \n",
      "Epoch: 736/1000   Training loss: 0.4199   Testing loss: 2.4599   Train accuracy: 0.8133   Test accuracy: 0.3798  \n",
      "Epoch: 737/1000   Training loss: 0.4528   Testing loss: 2.2734   Train accuracy: 0.8036   Test accuracy: 0.3739  \n",
      "Epoch: 738/1000   Training loss: 0.4186   Testing loss: 2.3956   Train accuracy: 0.8141   Test accuracy: 0.3826  \n",
      "Epoch: 739/1000   Training loss: 0.4208   Testing loss: 2.4703   Train accuracy: 0.8126   Test accuracy: 0.4035  \n",
      "Epoch: 740/1000   Training loss: 0.4441   Testing loss: 2.2739   Train accuracy: 0.8070   Test accuracy: 0.4016  \n",
      "Epoch: 741/1000   Training loss: 0.4135   Testing loss: 2.2510   Train accuracy: 0.8168   Test accuracy: 0.4118  \n",
      "Epoch: 742/1000   Training loss: 0.4039   Testing loss: 2.3039   Train accuracy: 0.8197   Test accuracy: 0.4162  \n",
      "Epoch: 743/1000   Training loss: 0.4262   Testing loss: 2.5938   Train accuracy: 0.8118   Test accuracy: 0.4447  \n",
      "Epoch: 744/1000   Training loss: 0.4394   Testing loss: 2.2705   Train accuracy: 0.8087   Test accuracy: 0.4179  \n",
      "Epoch: 745/1000   Training loss: 0.4003   Testing loss: 2.2616   Train accuracy: 0.8204   Test accuracy: 0.4026  \n",
      "Epoch: 746/1000   Training loss: 0.4069   Testing loss: 2.3395   Train accuracy: 0.8204   Test accuracy: 0.3904  \n",
      "Epoch: 747/1000   Training loss: 0.4060   Testing loss: 2.2868   Train accuracy: 0.8150   Test accuracy: 0.4049  \n",
      "Epoch: 748/1000   Training loss: 0.4490   Testing loss: 2.2648   Train accuracy: 0.8004   Test accuracy: 0.4078  \n",
      "Epoch: 749/1000   Training loss: 0.3974   Testing loss: 2.4340   Train accuracy: 0.8214   Test accuracy: 0.4334  \n",
      "Epoch: 750/1000   Training loss: 0.4516   Testing loss: 2.3718   Train accuracy: 0.8034   Test accuracy: 0.3786  \n",
      "Epoch: 751/1000   Training loss: 0.4122   Testing loss: 2.6108   Train accuracy: 0.8193   Test accuracy: 0.3572  \n",
      "Epoch: 752/1000   Training loss: 0.4313   Testing loss: 2.3208   Train accuracy: 0.8081   Test accuracy: 0.4240  \n",
      "Epoch: 753/1000   Training loss: 0.4183   Testing loss: 2.3645   Train accuracy: 0.8157   Test accuracy: 0.4216  \n",
      "Epoch: 754/1000   Training loss: 0.4189   Testing loss: 2.3011   Train accuracy: 0.8081   Test accuracy: 0.4188  \n",
      "Epoch: 755/1000   Training loss: 0.4416   Testing loss: 2.2475   Train accuracy: 0.8068   Test accuracy: 0.4146  \n",
      "Epoch: 756/1000   Training loss: 0.3935   Testing loss: 2.2883   Train accuracy: 0.8211   Test accuracy: 0.4115  \n",
      "Epoch: 757/1000   Training loss: 0.3970   Testing loss: 2.5915   Train accuracy: 0.8231   Test accuracy: 0.3746  \n",
      "Epoch: 758/1000   Training loss: 0.4362   Testing loss: 2.4635   Train accuracy: 0.8072   Test accuracy: 0.4193  \n",
      "Epoch: 759/1000   Training loss: 0.4145   Testing loss: 2.4236   Train accuracy: 0.8171   Test accuracy: 0.4136  \n",
      "Epoch: 760/1000   Training loss: 0.4039   Testing loss: 2.3116   Train accuracy: 0.8163   Test accuracy: 0.3944  \n",
      "Epoch: 761/1000   Training loss: 0.3888   Testing loss: 2.4210   Train accuracy: 0.8234   Test accuracy: 0.3915  \n",
      "Epoch: 762/1000   Training loss: 0.4563   Testing loss: 2.3144   Train accuracy: 0.8047   Test accuracy: 0.3953  \n",
      "Epoch: 763/1000   Training loss: 0.3905   Testing loss: 2.5888   Train accuracy: 0.8221   Test accuracy: 0.4384  \n",
      "Epoch: 764/1000   Training loss: 0.4097   Testing loss: 2.4126   Train accuracy: 0.8197   Test accuracy: 0.4160  \n",
      "Epoch: 765/1000   Training loss: 0.4211   Testing loss: 2.3453   Train accuracy: 0.8130   Test accuracy: 0.3908  \n",
      "Epoch: 766/1000   Training loss: 0.4090   Testing loss: 2.5264   Train accuracy: 0.8160   Test accuracy: 0.4240  \n",
      "Epoch: 767/1000   Training loss: 0.4005   Testing loss: 2.4845   Train accuracy: 0.8197   Test accuracy: 0.3885  \n"
     ]
    },
    {
     "ename": "KeyboardInterrupt",
     "evalue": "",
     "output_type": "error",
     "traceback": [
      "\u001b[1;31m---------------------------------------------------------------------------\u001b[0m",
      "\u001b[1;31mKeyboardInterrupt\u001b[0m                         Traceback (most recent call last)",
      "\u001b[1;32m<ipython-input-167-7d48e6bccf71>\u001b[0m in \u001b[0;36m<module>\u001b[1;34m\u001b[0m\n\u001b[0;32m     19\u001b[0m         \u001b[0mloss\u001b[0m \u001b[1;33m=\u001b[0m \u001b[0mcriterion1\u001b[0m\u001b[1;33m(\u001b[0m\u001b[0mpred\u001b[0m\u001b[1;33m,\u001b[0m \u001b[0my\u001b[0m\u001b[1;33m)\u001b[0m\u001b[1;33m\u001b[0m\u001b[1;33m\u001b[0m\u001b[0m\n\u001b[0;32m     20\u001b[0m         \u001b[0mtotal_train_loss\u001b[0m \u001b[1;33m+=\u001b[0m \u001b[0mloss\u001b[0m\u001b[1;33m.\u001b[0m\u001b[0mitem\u001b[0m\u001b[1;33m(\u001b[0m\u001b[1;33m)\u001b[0m\u001b[1;33m\u001b[0m\u001b[1;33m\u001b[0m\u001b[0m\n\u001b[1;32m---> 21\u001b[1;33m         \u001b[0mloss\u001b[0m\u001b[1;33m.\u001b[0m\u001b[0mbackward\u001b[0m\u001b[1;33m(\u001b[0m\u001b[0mretain_graph\u001b[0m\u001b[1;33m=\u001b[0m\u001b[1;32mTrue\u001b[0m\u001b[1;33m)\u001b[0m\u001b[1;33m\u001b[0m\u001b[1;33m\u001b[0m\u001b[0m\n\u001b[0m\u001b[0;32m     22\u001b[0m         \u001b[0moptimizer1\u001b[0m\u001b[1;33m.\u001b[0m\u001b[0mstep\u001b[0m\u001b[1;33m(\u001b[0m\u001b[1;33m)\u001b[0m\u001b[1;33m\u001b[0m\u001b[1;33m\u001b[0m\u001b[0m\n\u001b[0;32m     23\u001b[0m \u001b[1;33m\u001b[0m\u001b[0m\n",
      "\u001b[1;32m~\\anaconda3\\lib\\site-packages\\torch\\tensor.py\u001b[0m in \u001b[0;36mbackward\u001b[1;34m(self, gradient, retain_graph, create_graph, inputs)\u001b[0m\n\u001b[0;32m    243\u001b[0m                 \u001b[0mcreate_graph\u001b[0m\u001b[1;33m=\u001b[0m\u001b[0mcreate_graph\u001b[0m\u001b[1;33m,\u001b[0m\u001b[1;33m\u001b[0m\u001b[1;33m\u001b[0m\u001b[0m\n\u001b[0;32m    244\u001b[0m                 inputs=inputs)\n\u001b[1;32m--> 245\u001b[1;33m         \u001b[0mtorch\u001b[0m\u001b[1;33m.\u001b[0m\u001b[0mautograd\u001b[0m\u001b[1;33m.\u001b[0m\u001b[0mbackward\u001b[0m\u001b[1;33m(\u001b[0m\u001b[0mself\u001b[0m\u001b[1;33m,\u001b[0m \u001b[0mgradient\u001b[0m\u001b[1;33m,\u001b[0m \u001b[0mretain_graph\u001b[0m\u001b[1;33m,\u001b[0m \u001b[0mcreate_graph\u001b[0m\u001b[1;33m,\u001b[0m \u001b[0minputs\u001b[0m\u001b[1;33m=\u001b[0m\u001b[0minputs\u001b[0m\u001b[1;33m)\u001b[0m\u001b[1;33m\u001b[0m\u001b[1;33m\u001b[0m\u001b[0m\n\u001b[0m\u001b[0;32m    246\u001b[0m \u001b[1;33m\u001b[0m\u001b[0m\n\u001b[0;32m    247\u001b[0m     \u001b[1;32mdef\u001b[0m \u001b[0mregister_hook\u001b[0m\u001b[1;33m(\u001b[0m\u001b[0mself\u001b[0m\u001b[1;33m,\u001b[0m \u001b[0mhook\u001b[0m\u001b[1;33m)\u001b[0m\u001b[1;33m:\u001b[0m\u001b[1;33m\u001b[0m\u001b[1;33m\u001b[0m\u001b[0m\n",
      "\u001b[1;32m~\\anaconda3\\lib\\site-packages\\torch\\autograd\\__init__.py\u001b[0m in \u001b[0;36mbackward\u001b[1;34m(tensors, grad_tensors, retain_graph, create_graph, grad_variables, inputs)\u001b[0m\n\u001b[0;32m    143\u001b[0m         \u001b[0mretain_graph\u001b[0m \u001b[1;33m=\u001b[0m \u001b[0mcreate_graph\u001b[0m\u001b[1;33m\u001b[0m\u001b[1;33m\u001b[0m\u001b[0m\n\u001b[0;32m    144\u001b[0m \u001b[1;33m\u001b[0m\u001b[0m\n\u001b[1;32m--> 145\u001b[1;33m     Variable._execution_engine.run_backward(\n\u001b[0m\u001b[0;32m    146\u001b[0m         \u001b[0mtensors\u001b[0m\u001b[1;33m,\u001b[0m \u001b[0mgrad_tensors_\u001b[0m\u001b[1;33m,\u001b[0m \u001b[0mretain_graph\u001b[0m\u001b[1;33m,\u001b[0m \u001b[0mcreate_graph\u001b[0m\u001b[1;33m,\u001b[0m \u001b[0minputs\u001b[0m\u001b[1;33m,\u001b[0m\u001b[1;33m\u001b[0m\u001b[1;33m\u001b[0m\u001b[0m\n\u001b[0;32m    147\u001b[0m         allow_unreachable=True, accumulate_grad=True)  # allow_unreachable flag\n",
      "\u001b[1;31mKeyboardInterrupt\u001b[0m: "
     ]
    }
   ],
   "source": [
    "epochs = 1000\n",
    "train_loss, val_loss = [], []\n",
    "accuracy_total_train, accuracy_total_val = [], []\n",
    "\n",
    "for epoch in range(epochs):\n",
    "   \n",
    "    total_train_loss = 0\n",
    "    total_val_loss = 0\n",
    "\n",
    "    net.train()\n",
    "    \n",
    "    total = 0\n",
    "    # training our model\n",
    "    for idx, (x, y) in enumerate(train_loader1):\n",
    "\n",
    "        optimizer1.zero_grad()\n",
    "\n",
    "        pred = net(x)\n",
    "        loss = criterion1(pred, y)\n",
    "        total_train_loss += loss.item()\n",
    "        loss.backward(retain_graph=True)\n",
    "        optimizer1.step()\n",
    "\n",
    "        pred = torch.nn.functional.softmax(pred, dim=1)\n",
    "        for i, p in enumerate(pred):\n",
    "            if y[i] == torch.max(p.data, 0)[1]:\n",
    "                total = total + 1\n",
    "                \n",
    "    accuracy_train = total / len(Team_Train1)\n",
    "    accuracy_total_train.append(accuracy_train)\n",
    "\n",
    "    total_train_loss = total_train_loss / (idx + 1)\n",
    "    train_loss.append(total_train_loss)\n",
    "    \n",
    "    # validating our model\n",
    "    net.eval()\n",
    "    total = 0\n",
    "    for idx, (x, y) in enumerate(test_loader1):\n",
    "        pred = net(x)\n",
    "        loss = criterion1(pred, y)\n",
    "        total_val_loss += loss.item()\n",
    "\n",
    "        pred = torch.nn.functional.softmax(pred, dim=1)\n",
    "        for i, p in enumerate(pred):\n",
    "            if y[i] == torch.max(p.data, 0)[1]:\n",
    "                total = total + 1\n",
    "\n",
    "    accuracy_val = total / len(Team_Test1)\n",
    "    accuracy_total_val.append(accuracy_val)\n",
    "\n",
    "    total_val_loss = total_val_loss / (idx + 1)\n",
    "    val_loss.append(total_val_loss)\n",
    "\n",
    "    if epoch % 1 == 0:\n",
    "          print(\"Epoch: {}/{}  \".format(epoch, epochs),\n",
    "            \"Training loss: {:.4f}  \".format(total_train_loss),\n",
    "            \"Testing loss: {:.4f}  \".format(total_val_loss),\n",
    "            \"Train accuracy: {:.4f}  \".format(accuracy_train),\n",
    "            \"Test accuracy: {:.4f}  \".format(accuracy_val))"
   ]
  },
  {
   "cell_type": "code",
   "execution_count": 145,
   "metadata": {},
   "outputs": [
    {
     "data": {
      "image/png": "[encoded data removed]",
      "text/plain": [
       "<Figure size 432x288 with 1 Axes>"
      ]
     },
     "metadata": {
      "needs_background": "light"
     },
     "output_type": "display_data"
    }
   ],
   "source": [
    "plt.plot(train_loss, label='Training loss')\n",
    "plt.plot(val_loss, label='Test loss')\n",
    "plt.legend()\n",
    "plt.grid()"
   ]
  },
  {
   "cell_type": "code",
   "execution_count": 146,
   "metadata": {},
   "outputs": [
    {
     "data": {
      "image/png": "[encoded data removed]",
      "text/plain": [
       "<Figure size 432x288 with 1 Axes>"
      ]
     },
     "metadata": {
      "needs_background": "light"
     },
     "output_type": "display_data"
    }
   ],
   "source": [
    "plt.plot(accuracy_total_train, label='Training Accuracy')\n",
    "plt.plot(accuracy_total_val, label='Test Accuracy')\n",
    "plt.legend()\n",
    "plt.grid()"
   ]
  },
  {
   "cell_type": "code",
   "execution_count": null,
   "metadata": {},
   "outputs": [],
   "source": []
  }
 ],
 "metadata": {
  "kernelspec": {
   "display_name": "Python 3",
   "language": "python",
   "name": "python3"
  }
 },
 "nbformat": 4,
 "nbformat_minor": 4
}
