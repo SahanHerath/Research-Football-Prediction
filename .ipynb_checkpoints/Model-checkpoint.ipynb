{
 "cells": [
  {
   "cell_type": "code",
   "execution_count": 1,
   "metadata": {},
   "outputs": [],
   "source": [
    "import pandas as pd\n",
    "import seaborn as sns\n",
    "import numpy as np\n",
    "from tqdm import tqdm\n",
    "from pylab import rcParams\n",
    "import matplotlib.pyplot as plt\n",
    "from matplotlib import rc\n",
    "from torch import nn, optim\n",
    "import torch.nn.functional as F\n",
    "from sklearn.model_selection import train_test_split\n",
    "from sklearn.metrics import confusion_matrix, classification_report\n",
    "import torch\n",
    "\n",
    "df = pd.read_csv('UpdatedMatches.csv')\n",
    "data = []"
   ]
  },
  {
   "cell_type": "code",
   "execution_count": 2,
   "metadata": {},
   "outputs": [],
   "source": [
    "df['season'].replace({'2008/2009':2008, '2009/2010':2009, '2010/2011':2010, '2011/2012':2011, '2012/2013':2012, '2013/2014':2013, '2014/2015':2014, '2015/2016':2015 },inplace=True)"
   ]
  },
  {
   "cell_type": "code",
   "execution_count": 3,
   "metadata": {},
   "outputs": [],
   "source": [
    "df[\"result\"] = np.nan\n",
    "for index, row in df.iterrows():\n",
    "    if df.loc[index,'home_team_goal'] == df.loc[index,'away_team_goal']:\n",
    "        df.loc[index,'result'] = 1\n",
    "    if df.loc[index,'home_team_goal'] > df.loc[index,'away_team_goal']:\n",
    "        df.loc[index,'result'] = 2\n",
    "    if df.loc[index,'home_team_goal'] < df.loc[index,'away_team_goal']:\n",
    "        df.loc[index,'result'] = 0\n",
    "          "
   ]
  },
  {
   "cell_type": "code",
   "execution_count": 4,
   "metadata": {},
   "outputs": [
    {
     "name": "stderr",
     "output_type": "stream",
     "text": [
      "C:\\Users\\herath\\anaconda3\\lib\\site-packages\\seaborn\\_decorators.py:36: FutureWarning: Pass the following variable as a keyword arg: x. From version 0.12, the only valid positional argument will be `data`, and passing other arguments without an explicit keyword will result in an error or misinterpretation.\n",
      "  warnings.warn(\n"
     ]
    },
    {
     "data": {
      "text/plain": [
       "<AxesSubplot:xlabel='result', ylabel='count'>"
      ]
     },
     "execution_count": 4,
     "metadata": {},
     "output_type": "execute_result"
    },
    {
     "data": {
      "image/png": "[encoded data removed]",
      "text/plain": [
       "<Figure size 432x288 with 1 Axes>"
      ]
     },
     "metadata": {
      "needs_background": "light"
     },
     "output_type": "display_data"
    }
   ],
   "source": [
    "sns.countplot(df.result)"
   ]
  },
  {
   "cell_type": "code",
   "execution_count": 6,
   "metadata": {},
   "outputs": [
    {
     "data": {
      "text/plain": [
       "2.0    0.459098\n",
       "0.0    0.288525\n",
       "1.0    0.252377\n",
       "Name: result, dtype: float64"
      ]
     },
     "execution_count": 6,
     "metadata": {},
     "output_type": "execute_result"
    }
   ],
   "source": [
    "df.result.value_counts()/df.shape[0]"
   ]
  },
  {
   "cell_type": "code",
   "execution_count": 14,
   "metadata": {},
   "outputs": [],
   "source": [
    "from tqdm import tqdm\n",
    "\n",
    "def playerfunction( df ):\n",
    "    for index, row in tqdm(df.iterrows()):\n",
    "        overall_rating_home_players = []\n",
    "        overall_rating_home_players.append(df.loc[index,'overall_rating_home_player_1'])\n",
    "        overall_rating_home_players.append(df.loc[index,'overall_rating_home_player_2'])\n",
    "        overall_rating_home_players.append(df.loc[index,'overall_rating_home_player_3'])\n",
    "        overall_rating_home_players.append(df.loc[index,'overall_rating_home_player_4'])\n",
    "        overall_rating_home_players.append(df.loc[index,'overall_rating_home_player_5'])\n",
    "        overall_rating_home_players.append(df.loc[index,'overall_rating_home_player_6'])\n",
    "        overall_rating_home_players.append(df.loc[index,'overall_rating_home_player_7'])\n",
    "        overall_rating_home_players.append(df.loc[index,'overall_rating_home_player_8'])\n",
    "        overall_rating_home_players.append(df.loc[index,'overall_rating_home_player_9'])\n",
    "        overall_rating_home_players.append(df.loc[index,'overall_rating_home_player_10'])\n",
    "        overall_rating_home_players.append(df.loc[index,'overall_rating_home_player_11'])\n",
    "\n",
    "        overall_rating_away_players = []\n",
    "        overall_rating_away_players.append(df.loc[index,'overall_rating_away_player_1'])\n",
    "        overall_rating_away_players.append(df.loc[index,'overall_rating_away_player_2'])\n",
    "        overall_rating_away_players.append(df.loc[index,'overall_rating_away_player_3'])\n",
    "        overall_rating_away_players.append(df.loc[index,'overall_rating_away_player_4'])\n",
    "        overall_rating_away_players.append(df.loc[index,'overall_rating_away_player_5'])\n",
    "        overall_rating_away_players.append(df.loc[index,'overall_rating_away_player_6'])\n",
    "        overall_rating_away_players.append(df.loc[index,'overall_rating_away_player_7'])\n",
    "        overall_rating_away_players.append(df.loc[index,'overall_rating_away_player_8'])\n",
    "        overall_rating_away_players.append(df.loc[index,'overall_rating_away_player_9'])\n",
    "        overall_rating_away_players.append(df.loc[index,'overall_rating_away_player_10'])\n",
    "        overall_rating_away_players.append(df.loc[index,'overall_rating_away_player_11'])\n",
    "\n",
    "        overall_rating_matrix = []\n",
    "        for i in range(11):          \n",
    "            a =[]\n",
    "            for j in range(11):\n",
    "                a.append(overall_rating_home_players[i]-overall_rating_away_players[j])\n",
    "            overall_rating_matrix.append(a)\n",
    "\n",
    "        potential_home_players = []\n",
    "        potential_home_players.append(df.loc[index,'potential_home_player_1'])\n",
    "        potential_home_players.append(df.loc[index,'potential_home_player_2'])\n",
    "        potential_home_players.append(df.loc[index,'potential_home_player_3'])\n",
    "        potential_home_players.append(df.loc[index,'potential_home_player_4'])\n",
    "        potential_home_players.append(df.loc[index,'potential_home_player_5'])\n",
    "        potential_home_players.append(df.loc[index,'potential_home_player_6'])\n",
    "        potential_home_players.append(df.loc[index,'potential_home_player_7'])\n",
    "        potential_home_players.append(df.loc[index,'potential_home_player_8'])\n",
    "        potential_home_players.append(df.loc[index,'potential_home_player_9'])\n",
    "        potential_home_players.append(df.loc[index,'potential_home_player_10'])\n",
    "        potential_home_players.append(df.loc[index,'potential_home_player_11'])\n",
    "\n",
    "        potential_away_players = []\n",
    "        potential_away_players.append(df.loc[index,'potential_away_player_1'])\n",
    "        potential_away_players.append(df.loc[index,'potential_away_player_2'])\n",
    "        potential_away_players.append(df.loc[index,'potential_away_player_3'])\n",
    "        potential_away_players.append(df.loc[index,'potential_away_player_4'])\n",
    "        potential_away_players.append(df.loc[index,'potential_away_player_5'])\n",
    "        potential_away_players.append(df.loc[index,'potential_away_player_6'])\n",
    "        potential_away_players.append(df.loc[index,'potential_away_player_7'])\n",
    "        potential_away_players.append(df.loc[index,'potential_away_player_8'])\n",
    "        potential_away_players.append(df.loc[index,'potential_away_player_9'])\n",
    "        potential_away_players.append(df.loc[index,'potential_away_player_10'])\n",
    "        potential_away_players.append(df.loc[index,'potential_away_player_11'])\n",
    "\n",
    "        potential_matrix = []\n",
    "        for i in range(11):          \n",
    "            b =[]\n",
    "            for j in range(11):\n",
    "                b.append(potential_home_players[i]-potential_away_players[j])\n",
    "            potential_matrix.append(b)\n",
    "\n",
    "        crossing_home_players = []\n",
    "        crossing_home_players.append(df.loc[index,'crossing_home_player_1'])\n",
    "        crossing_home_players.append(df.loc[index,'crossing_home_player_2'])\n",
    "        crossing_home_players.append(df.loc[index,'crossing_home_player_3'])\n",
    "        crossing_home_players.append(df.loc[index,'crossing_home_player_4'])\n",
    "        crossing_home_players.append(df.loc[index,'crossing_home_player_5'])\n",
    "        crossing_home_players.append(df.loc[index,'crossing_home_player_6'])\n",
    "        crossing_home_players.append(df.loc[index,'crossing_home_player_7'])\n",
    "        crossing_home_players.append(df.loc[index,'crossing_home_player_8'])\n",
    "        crossing_home_players.append(df.loc[index,'crossing_home_player_9'])\n",
    "        crossing_home_players.append(df.loc[index,'crossing_home_player_10'])\n",
    "        crossing_home_players.append(df.loc[index,'crossing_home_player_11'])\n",
    "\n",
    "        crossing_away_players = []\n",
    "        crossing_away_players.append(df.loc[index,'crossing_away_player_1'])\n",
    "        crossing_away_players.append(df.loc[index,'crossing_away_player_2'])\n",
    "        crossing_away_players.append(df.loc[index,'crossing_away_player_3'])\n",
    "        crossing_away_players.append(df.loc[index,'crossing_away_player_4'])\n",
    "        crossing_away_players.append(df.loc[index,'crossing_away_player_5'])\n",
    "        crossing_away_players.append(df.loc[index,'crossing_away_player_6'])\n",
    "        crossing_away_players.append(df.loc[index,'crossing_away_player_7'])\n",
    "        crossing_away_players.append(df.loc[index,'crossing_away_player_8'])\n",
    "        crossing_away_players.append(df.loc[index,'crossing_away_player_9'])\n",
    "        crossing_away_players.append(df.loc[index,'crossing_away_player_10'])\n",
    "        crossing_away_players.append(df.loc[index,'crossing_away_player_11'])\n",
    "\n",
    "        crossing_matrix = []\n",
    "        for i in range(11):          \n",
    "            c =[]\n",
    "            for j in range(11):\n",
    "                c.append(crossing_home_players[i]-crossing_away_players[j])\n",
    "            crossing_matrix.append(c)\n",
    "\n",
    "        finishing_home_players = []\n",
    "        finishing_home_players.append(df.loc[index,'finishing_home_player_1'])\n",
    "        finishing_home_players.append(df.loc[index,'finishing_home_player_2'])\n",
    "        finishing_home_players.append(df.loc[index,'finishing_home_player_3'])\n",
    "        finishing_home_players.append(df.loc[index,'finishing_home_player_4'])\n",
    "        finishing_home_players.append(df.loc[index,'finishing_home_player_5'])\n",
    "        finishing_home_players.append(df.loc[index,'finishing_home_player_6'])\n",
    "        finishing_home_players.append(df.loc[index,'finishing_home_player_7'])\n",
    "        finishing_home_players.append(df.loc[index,'finishing_home_player_8'])\n",
    "        finishing_home_players.append(df.loc[index,'finishing_home_player_9'])\n",
    "        finishing_home_players.append(df.loc[index,'finishing_home_player_10'])\n",
    "        finishing_home_players.append(df.loc[index,'finishing_home_player_11'])\n",
    "\n",
    "        finishing_away_players = []\n",
    "        finishing_away_players.append(df.loc[index,'finishing_away_player_1'])\n",
    "        finishing_away_players.append(df.loc[index,'finishing_away_player_2'])\n",
    "        finishing_away_players.append(df.loc[index,'finishing_away_player_3'])\n",
    "        finishing_away_players.append(df.loc[index,'finishing_away_player_4'])\n",
    "        finishing_away_players.append(df.loc[index,'finishing_away_player_5'])\n",
    "        finishing_away_players.append(df.loc[index,'finishing_away_player_6'])\n",
    "        finishing_away_players.append(df.loc[index,'finishing_away_player_7'])\n",
    "        finishing_away_players.append(df.loc[index,'finishing_away_player_8'])\n",
    "        finishing_away_players.append(df.loc[index,'finishing_away_player_9'])\n",
    "        finishing_away_players.append(df.loc[index,'finishing_away_player_10'])\n",
    "        finishing_away_players.append(df.loc[index,'finishing_away_player_11'])\n",
    "\n",
    "        finishing_matrix = []\n",
    "        for i in range(11):          \n",
    "            d =[]\n",
    "            for j in range(11):\n",
    "                d.append(finishing_home_players[i]-finishing_away_players[j])\n",
    "            finishing_matrix.append(d)\n",
    "\n",
    "\n",
    "        heading_accuracy_home_players = []\n",
    "        heading_accuracy_home_players.append(df.loc[index,'heading_accuracy_home_player_1'])\n",
    "        heading_accuracy_home_players.append(df.loc[index,'heading_accuracy_home_player_2'])\n",
    "        heading_accuracy_home_players.append(df.loc[index,'heading_accuracy_home_player_3'])\n",
    "        heading_accuracy_home_players.append(df.loc[index,'heading_accuracy_home_player_4'])\n",
    "        heading_accuracy_home_players.append(df.loc[index,'heading_accuracy_home_player_5'])\n",
    "        heading_accuracy_home_players.append(df.loc[index,'heading_accuracy_home_player_6'])\n",
    "        heading_accuracy_home_players.append(df.loc[index,'heading_accuracy_home_player_7'])\n",
    "        heading_accuracy_home_players.append(df.loc[index,'heading_accuracy_home_player_8'])\n",
    "        heading_accuracy_home_players.append(df.loc[index,'heading_accuracy_home_player_9'])\n",
    "        heading_accuracy_home_players.append(df.loc[index,'heading_accuracy_home_player_10'])\n",
    "        heading_accuracy_home_players.append(df.loc[index,'heading_accuracy_home_player_11'])\n",
    "\n",
    "        heading_accuracy_away_players = []\n",
    "        heading_accuracy_away_players.append(df.loc[index,'heading_accuracy_away_player_1'])\n",
    "        heading_accuracy_away_players.append(df.loc[index,'heading_accuracy_away_player_2'])\n",
    "        heading_accuracy_away_players.append(df.loc[index,'heading_accuracy_away_player_3'])\n",
    "        heading_accuracy_away_players.append(df.loc[index,'heading_accuracy_away_player_4'])\n",
    "        heading_accuracy_away_players.append(df.loc[index,'heading_accuracy_away_player_5'])\n",
    "        heading_accuracy_away_players.append(df.loc[index,'heading_accuracy_away_player_6'])\n",
    "        heading_accuracy_away_players.append(df.loc[index,'heading_accuracy_away_player_7'])\n",
    "        heading_accuracy_away_players.append(df.loc[index,'heading_accuracy_away_player_8'])\n",
    "        heading_accuracy_away_players.append(df.loc[index,'heading_accuracy_away_player_9'])\n",
    "        heading_accuracy_away_players.append(df.loc[index,'heading_accuracy_away_player_10'])\n",
    "        heading_accuracy_away_players.append(df.loc[index,'heading_accuracy_away_player_11'])\n",
    "\n",
    "        heading_accuracy_matrix = []\n",
    "        for i in range(11):          \n",
    "            e =[]\n",
    "            for j in range(11):\n",
    "                e.append(heading_accuracy_home_players[i]-heading_accuracy_away_players[j])\n",
    "            heading_accuracy_matrix.append(e)\n",
    "\n",
    "\n",
    "        dribbling_home_players = []\n",
    "        dribbling_home_players.append(df.loc[index,'dribbling_home_player_1'])\n",
    "        dribbling_home_players.append(df.loc[index,'dribbling_home_player_2'])\n",
    "        dribbling_home_players.append(df.loc[index,'dribbling_home_player_3'])\n",
    "        dribbling_home_players.append(df.loc[index,'dribbling_home_player_4'])\n",
    "        dribbling_home_players.append(df.loc[index,'dribbling_home_player_5'])\n",
    "        dribbling_home_players.append(df.loc[index,'dribbling_home_player_6'])\n",
    "        dribbling_home_players.append(df.loc[index,'dribbling_home_player_7'])\n",
    "        dribbling_home_players.append(df.loc[index,'dribbling_home_player_8'])\n",
    "        dribbling_home_players.append(df.loc[index,'dribbling_home_player_9'])\n",
    "        dribbling_home_players.append(df.loc[index,'dribbling_home_player_10'])\n",
    "        dribbling_home_players.append(df.loc[index,'dribbling_home_player_11'])\n",
    "\n",
    "        dribbling_away_players = []\n",
    "        dribbling_away_players.append(df.loc[index,'dribbling_away_player_1'])\n",
    "        dribbling_away_players.append(df.loc[index,'dribbling_away_player_2'])\n",
    "        dribbling_away_players.append(df.loc[index,'dribbling_away_player_3'])\n",
    "        dribbling_away_players.append(df.loc[index,'dribbling_away_player_4'])\n",
    "        dribbling_away_players.append(df.loc[index,'dribbling_away_player_5'])\n",
    "        dribbling_away_players.append(df.loc[index,'dribbling_away_player_6'])\n",
    "        dribbling_away_players.append(df.loc[index,'dribbling_away_player_7'])\n",
    "        dribbling_away_players.append(df.loc[index,'dribbling_away_player_8'])\n",
    "        dribbling_away_players.append(df.loc[index,'dribbling_away_player_9'])\n",
    "        dribbling_away_players.append(df.loc[index,'dribbling_away_player_10'])\n",
    "        dribbling_away_players.append(df.loc[index,'dribbling_away_player_11'])\n",
    "\n",
    "        dribbling_matrix = []\n",
    "        for i in range(11):          \n",
    "            f =[]\n",
    "            for j in range(11):\n",
    "                f.append(dribbling_home_players[i]-dribbling_away_players[j])\n",
    "            dribbling_matrix.append(f)\n",
    "\n",
    "\n",
    "        free_kick_accuracy_home_players = []\n",
    "        free_kick_accuracy_home_players.append(df.loc[index,'free_kick_accuracy_home_player_1'])\n",
    "        free_kick_accuracy_home_players.append(df.loc[index,'free_kick_accuracy_home_player_2'])\n",
    "        free_kick_accuracy_home_players.append(df.loc[index,'free_kick_accuracy_home_player_3'])\n",
    "        free_kick_accuracy_home_players.append(df.loc[index,'free_kick_accuracy_home_player_4'])\n",
    "        free_kick_accuracy_home_players.append(df.loc[index,'free_kick_accuracy_home_player_5'])\n",
    "        free_kick_accuracy_home_players.append(df.loc[index,'free_kick_accuracy_home_player_6'])\n",
    "        free_kick_accuracy_home_players.append(df.loc[index,'free_kick_accuracy_home_player_7'])\n",
    "        free_kick_accuracy_home_players.append(df.loc[index,'free_kick_accuracy_home_player_8'])\n",
    "        free_kick_accuracy_home_players.append(df.loc[index,'free_kick_accuracy_home_player_9'])\n",
    "        free_kick_accuracy_home_players.append(df.loc[index,'free_kick_accuracy_home_player_10'])\n",
    "        free_kick_accuracy_home_players.append(df.loc[index,'free_kick_accuracy_home_player_11'])\n",
    "\n",
    "        free_kick_accuracy_away_players = []\n",
    "        free_kick_accuracy_away_players.append(df.loc[index,'free_kick_accuracy_away_player_1'])\n",
    "        free_kick_accuracy_away_players.append(df.loc[index,'free_kick_accuracy_away_player_2'])\n",
    "        free_kick_accuracy_away_players.append(df.loc[index,'free_kick_accuracy_away_player_3'])\n",
    "        free_kick_accuracy_away_players.append(df.loc[index,'free_kick_accuracy_away_player_4'])\n",
    "        free_kick_accuracy_away_players.append(df.loc[index,'free_kick_accuracy_away_player_5'])\n",
    "        free_kick_accuracy_away_players.append(df.loc[index,'free_kick_accuracy_away_player_6'])\n",
    "        free_kick_accuracy_away_players.append(df.loc[index,'free_kick_accuracy_away_player_7'])\n",
    "        free_kick_accuracy_away_players.append(df.loc[index,'free_kick_accuracy_away_player_8'])\n",
    "        free_kick_accuracy_away_players.append(df.loc[index,'free_kick_accuracy_away_player_9'])\n",
    "        free_kick_accuracy_away_players.append(df.loc[index,'free_kick_accuracy_away_player_10'])\n",
    "        free_kick_accuracy_away_players.append(df.loc[index,'free_kick_accuracy_away_player_11'])\n",
    "\n",
    "        free_kick_accuracy_matrix = []\n",
    "        for i in range(11):          \n",
    "            g =[]\n",
    "            for j in range(11):\n",
    "                g.append(free_kick_accuracy_home_players[i]-free_kick_accuracy_away_players[j])\n",
    "            free_kick_accuracy_matrix.append(g)\n",
    "\n",
    "        ball_control_home_players = []\n",
    "        ball_control_home_players.append(df.loc[index,'ball_control_home_player_1'])\n",
    "        ball_control_home_players.append(df.loc[index,'ball_control_home_player_2'])\n",
    "        ball_control_home_players.append(df.loc[index,'ball_control_home_player_3'])\n",
    "        ball_control_home_players.append(df.loc[index,'ball_control_home_player_4'])\n",
    "        ball_control_home_players.append(df.loc[index,'ball_control_home_player_5'])\n",
    "        ball_control_home_players.append(df.loc[index,'ball_control_home_player_6'])\n",
    "        ball_control_home_players.append(df.loc[index,'ball_control_home_player_7'])\n",
    "        ball_control_home_players.append(df.loc[index,'ball_control_home_player_8'])\n",
    "        ball_control_home_players.append(df.loc[index,'ball_control_home_player_9'])\n",
    "        ball_control_home_players.append(df.loc[index,'ball_control_home_player_10'])\n",
    "        ball_control_home_players.append(df.loc[index,'ball_control_home_player_11'])\n",
    "\n",
    "\n",
    "        ball_control_away_players = []\n",
    "        ball_control_away_players.append(df.loc[index,'ball_control_away_player_1'])\n",
    "        ball_control_away_players.append(df.loc[index,'ball_control_away_player_2'])\n",
    "        ball_control_away_players.append(df.loc[index,'ball_control_away_player_3'])\n",
    "        ball_control_away_players.append(df.loc[index,'ball_control_away_player_4'])\n",
    "        ball_control_away_players.append(df.loc[index,'ball_control_away_player_5'])\n",
    "        ball_control_away_players.append(df.loc[index,'ball_control_away_player_6'])\n",
    "        ball_control_away_players.append(df.loc[index,'ball_control_away_player_7'])\n",
    "        ball_control_away_players.append(df.loc[index,'ball_control_away_player_8'])\n",
    "        ball_control_away_players.append(df.loc[index,'ball_control_away_player_9'])\n",
    "        ball_control_away_players.append(df.loc[index,'ball_control_away_player_10'])\n",
    "        ball_control_away_players.append(df.loc[index,'ball_control_away_player_11'])\n",
    "\n",
    "\n",
    "        ball_control_matrix = []\n",
    "        for i in range(11):          \n",
    "            h =[]\n",
    "            for j in range(11):\n",
    "                h.append(ball_control_home_players[i]-ball_control_away_players[j])\n",
    "            ball_control_matrix.append(h)\n",
    "\n",
    "        sprint_speed_home_players = []\n",
    "        sprint_speed_home_players.append(df.loc[index,'sprint_speed_home_player_1'])\n",
    "        sprint_speed_home_players.append(df.loc[index,'sprint_speed_home_player_2'])\n",
    "        sprint_speed_home_players.append(df.loc[index,'sprint_speed_home_player_3'])\n",
    "        sprint_speed_home_players.append(df.loc[index,'sprint_speed_home_player_4'])\n",
    "        sprint_speed_home_players.append(df.loc[index,'sprint_speed_home_player_5'])\n",
    "        sprint_speed_home_players.append(df.loc[index,'sprint_speed_home_player_6'])\n",
    "        sprint_speed_home_players.append(df.loc[index,'sprint_speed_home_player_7'])\n",
    "        sprint_speed_home_players.append(df.loc[index,'sprint_speed_home_player_8'])\n",
    "        sprint_speed_home_players.append(df.loc[index,'sprint_speed_home_player_9'])\n",
    "        sprint_speed_home_players.append(df.loc[index,'sprint_speed_home_player_10'])\n",
    "        sprint_speed_home_players.append(df.loc[index,'sprint_speed_home_player_11'])\n",
    "\n",
    "\n",
    "        sprint_speed_away_players = []\n",
    "        sprint_speed_away_players.append(df.loc[index,'sprint_speed_away_player_1'])\n",
    "        sprint_speed_away_players.append(df.loc[index,'sprint_speed_away_player_2'])\n",
    "        sprint_speed_away_players.append(df.loc[index,'sprint_speed_away_player_3'])\n",
    "        sprint_speed_away_players.append(df.loc[index,'sprint_speed_away_player_4'])\n",
    "        sprint_speed_away_players.append(df.loc[index,'sprint_speed_away_player_5'])\n",
    "        sprint_speed_away_players.append(df.loc[index,'sprint_speed_away_player_6'])\n",
    "        sprint_speed_away_players.append(df.loc[index,'sprint_speed_away_player_7'])\n",
    "        sprint_speed_away_players.append(df.loc[index,'sprint_speed_away_player_8'])\n",
    "        sprint_speed_away_players.append(df.loc[index,'sprint_speed_away_player_9'])\n",
    "        sprint_speed_away_players.append(df.loc[index,'sprint_speed_away_player_10'])\n",
    "        sprint_speed_away_players.append(df.loc[index,'sprint_speed_away_player_11'])\n",
    "\n",
    "\n",
    "        sprint_speed_matrix = []\n",
    "        for i in range(11):          \n",
    "            k =[]\n",
    "            for j in range(11):\n",
    "                k.append(sprint_speed_home_players[i]-sprint_speed_away_players[j])\n",
    "            sprint_speed_matrix.append(k)\n",
    "\n",
    "        acceleration_home_players = []\n",
    "        acceleration_home_players.append(df.loc[index,'acceleration_home_player_1'])\n",
    "        acceleration_home_players.append(df.loc[index,'acceleration_home_player_2'])\n",
    "        acceleration_home_players.append(df.loc[index,'acceleration_home_player_3'])\n",
    "        acceleration_home_players.append(df.loc[index,'acceleration_home_player_4'])\n",
    "        acceleration_home_players.append(df.loc[index,'acceleration_home_player_5'])\n",
    "        acceleration_home_players.append(df.loc[index,'acceleration_home_player_6'])\n",
    "        acceleration_home_players.append(df.loc[index,'acceleration_home_player_7'])\n",
    "        acceleration_home_players.append(df.loc[index,'acceleration_home_player_8'])\n",
    "        acceleration_home_players.append(df.loc[index,'acceleration_home_player_9'])\n",
    "        acceleration_home_players.append(df.loc[index,'acceleration_home_player_10'])\n",
    "        acceleration_home_players.append(df.loc[index,'acceleration_home_player_11'])\n",
    "\n",
    "\n",
    "        acceleration_away_players = []\n",
    "        acceleration_away_players.append(df.loc[index,'acceleration_away_player_1'])\n",
    "        acceleration_away_players.append(df.loc[index,'acceleration_away_player_2'])\n",
    "        acceleration_away_players.append(df.loc[index,'acceleration_away_player_3'])\n",
    "        acceleration_away_players.append(df.loc[index,'acceleration_away_player_4'])\n",
    "        acceleration_away_players.append(df.loc[index,'acceleration_away_player_5'])\n",
    "        acceleration_away_players.append(df.loc[index,'acceleration_away_player_6'])\n",
    "        acceleration_away_players.append(df.loc[index,'acceleration_away_player_7'])\n",
    "        acceleration_away_players.append(df.loc[index,'acceleration_away_player_8'])\n",
    "        acceleration_away_players.append(df.loc[index,'acceleration_away_player_9'])\n",
    "        acceleration_away_players.append(df.loc[index,'acceleration_away_player_10'])\n",
    "        acceleration_away_players.append(df.loc[index,'acceleration_away_player_11'])\n",
    "\n",
    "\n",
    "        acceleration_matrix = []\n",
    "        for i in range(11):          \n",
    "            k =[]\n",
    "            for j in range(11):\n",
    "                k.append(acceleration_home_players[i]-acceleration_away_players[j])\n",
    "            acceleration_matrix.append(k)\n",
    "\n",
    "        strength_home_players = []\n",
    "        strength_home_players.append(df.loc[index,'strength_home_player_1'])\n",
    "        strength_home_players.append(df.loc[index,'strength_home_player_2'])\n",
    "        strength_home_players.append(df.loc[index,'strength_home_player_3'])\n",
    "        strength_home_players.append(df.loc[index,'strength_home_player_4'])\n",
    "        strength_home_players.append(df.loc[index,'strength_home_player_5'])\n",
    "        strength_home_players.append(df.loc[index,'strength_home_player_6'])\n",
    "        strength_home_players.append(df.loc[index,'strength_home_player_7'])\n",
    "        strength_home_players.append(df.loc[index,'strength_home_player_8'])\n",
    "        strength_home_players.append(df.loc[index,'strength_home_player_9'])\n",
    "        strength_home_players.append(df.loc[index,'strength_home_player_10'])\n",
    "        strength_home_players.append(df.loc[index,'strength_home_player_11'])\n",
    "\n",
    "\n",
    "        strength_away_players = []\n",
    "        strength_away_players.append(df.loc[index,'strength_away_player_1'])\n",
    "        strength_away_players.append(df.loc[index,'strength_away_player_2'])\n",
    "        strength_away_players.append(df.loc[index,'strength_away_player_3'])\n",
    "        strength_away_players.append(df.loc[index,'strength_away_player_4'])\n",
    "        strength_away_players.append(df.loc[index,'strength_away_player_5'])\n",
    "        strength_away_players.append(df.loc[index,'strength_away_player_6'])\n",
    "        strength_away_players.append(df.loc[index,'strength_away_player_7'])\n",
    "        strength_away_players.append(df.loc[index,'strength_away_player_8'])\n",
    "        strength_away_players.append(df.loc[index,'strength_away_player_9'])\n",
    "        strength_away_players.append(df.loc[index,'strength_away_player_10'])\n",
    "        strength_away_players.append(df.loc[index,'strength_away_player_11'])\n",
    "\n",
    "\n",
    "        strength_matrix = []\n",
    "        for i in range(11):          \n",
    "            k =[]\n",
    "            for j in range(11):\n",
    "                k.append(strength_home_players[i]-strength_away_players[j])\n",
    "            strength_matrix.append(k)\n",
    "\n",
    "        long_shots_home_players = []\n",
    "        long_shots_home_players.append(df.loc[index,'long_shots_home_player_1'])\n",
    "        long_shots_home_players.append(df.loc[index,'long_shots_home_player_2'])\n",
    "        long_shots_home_players.append(df.loc[index,'long_shots_home_player_3'])\n",
    "        long_shots_home_players.append(df.loc[index,'long_shots_home_player_4'])\n",
    "        long_shots_home_players.append(df.loc[index,'long_shots_home_player_5'])\n",
    "        long_shots_home_players.append(df.loc[index,'long_shots_home_player_6'])\n",
    "        long_shots_home_players.append(df.loc[index,'long_shots_home_player_7'])\n",
    "        long_shots_home_players.append(df.loc[index,'long_shots_home_player_8'])\n",
    "        long_shots_home_players.append(df.loc[index,'long_shots_home_player_9'])\n",
    "        long_shots_home_players.append(df.loc[index,'long_shots_home_player_10'])\n",
    "        long_shots_home_players.append(df.loc[index,'long_shots_home_player_11'])\n",
    "\n",
    "\n",
    "        long_shots_away_players = []\n",
    "        long_shots_away_players.append(df.loc[index,'long_shots_away_player_1'])\n",
    "        long_shots_away_players.append(df.loc[index,'long_shots_away_player_2'])\n",
    "        long_shots_away_players.append(df.loc[index,'long_shots_away_player_3'])\n",
    "        long_shots_away_players.append(df.loc[index,'long_shots_away_player_4'])\n",
    "        long_shots_away_players.append(df.loc[index,'long_shots_away_player_5'])\n",
    "        long_shots_away_players.append(df.loc[index,'long_shots_away_player_6'])\n",
    "        long_shots_away_players.append(df.loc[index,'long_shots_away_player_7'])\n",
    "        long_shots_away_players.append(df.loc[index,'long_shots_away_player_8'])\n",
    "        long_shots_away_players.append(df.loc[index,'long_shots_away_player_9'])\n",
    "        long_shots_away_players.append(df.loc[index,'long_shots_away_player_10'])\n",
    "        long_shots_away_players.append(df.loc[index,'long_shots_away_player_11'])\n",
    "\n",
    "\n",
    "        long_shots_matrix = []\n",
    "        for i in range(11):          \n",
    "            k =[]\n",
    "            for j in range(11):\n",
    "                k.append(long_shots_home_players[i]-long_shots_away_players[j])\n",
    "            long_shots_matrix.append(k)\n",
    "\n",
    "\n",
    "        aggression_home_players = []\n",
    "        aggression_home_players.append(df.loc[index,'aggression_home_player_1'])\n",
    "        aggression_home_players.append(df.loc[index,'aggression_home_player_2'])\n",
    "        aggression_home_players.append(df.loc[index,'aggression_home_player_3'])\n",
    "        aggression_home_players.append(df.loc[index,'aggression_home_player_4'])\n",
    "        aggression_home_players.append(df.loc[index,'aggression_home_player_5'])\n",
    "        aggression_home_players.append(df.loc[index,'aggression_home_player_6'])\n",
    "        aggression_home_players.append(df.loc[index,'aggression_home_player_7'])\n",
    "        aggression_home_players.append(df.loc[index,'aggression_home_player_8'])\n",
    "        aggression_home_players.append(df.loc[index,'aggression_home_player_9'])\n",
    "        aggression_home_players.append(df.loc[index,'aggression_home_player_10'])\n",
    "        aggression_home_players.append(df.loc[index,'aggression_home_player_11'])\n",
    "\n",
    "\n",
    "        aggression_away_players = []\n",
    "        aggression_away_players.append(df.loc[index,'aggression_away_player_1'])\n",
    "        aggression_away_players.append(df.loc[index,'aggression_away_player_2'])\n",
    "        aggression_away_players.append(df.loc[index,'aggression_away_player_3'])\n",
    "        aggression_away_players.append(df.loc[index,'aggression_away_player_4'])\n",
    "        aggression_away_players.append(df.loc[index,'aggression_away_player_5'])\n",
    "        aggression_away_players.append(df.loc[index,'aggression_away_player_6'])\n",
    "        aggression_away_players.append(df.loc[index,'aggression_away_player_7'])\n",
    "        aggression_away_players.append(df.loc[index,'aggression_away_player_8'])\n",
    "        aggression_away_players.append(df.loc[index,'aggression_away_player_9'])\n",
    "        aggression_away_players.append(df.loc[index,'aggression_away_player_10'])\n",
    "        aggression_away_players.append(df.loc[index,'aggression_away_player_11'])\n",
    "\n",
    "\n",
    "        aggression_matrix = []\n",
    "        for i in range(11):          \n",
    "            k =[]\n",
    "            for j in range(11):\n",
    "                k.append(aggression_home_players[i]-aggression_away_players[j])\n",
    "            aggression_matrix.append(k)\n",
    "\n",
    "\n",
    "        positioning_home_players = []\n",
    "        positioning_home_players.append(df.loc[index,'positioning_home_player_1'])\n",
    "        positioning_home_players.append(df.loc[index,'positioning_home_player_2'])\n",
    "        positioning_home_players.append(df.loc[index,'positioning_home_player_3'])\n",
    "        positioning_home_players.append(df.loc[index,'positioning_home_player_4'])\n",
    "        positioning_home_players.append(df.loc[index,'positioning_home_player_5'])\n",
    "        positioning_home_players.append(df.loc[index,'positioning_home_player_6'])\n",
    "        positioning_home_players.append(df.loc[index,'positioning_home_player_7'])\n",
    "        positioning_home_players.append(df.loc[index,'positioning_home_player_8'])\n",
    "        positioning_home_players.append(df.loc[index,'positioning_home_player_9'])\n",
    "        positioning_home_players.append(df.loc[index,'positioning_home_player_10'])\n",
    "        positioning_home_players.append(df.loc[index,'positioning_home_player_11'])\n",
    "\n",
    "\n",
    "        positioning_away_players = []\n",
    "        positioning_away_players.append(df.loc[index,'positioning_away_player_1'])\n",
    "        positioning_away_players.append(df.loc[index,'positioning_away_player_2'])\n",
    "        positioning_away_players.append(df.loc[index,'positioning_away_player_3'])\n",
    "        positioning_away_players.append(df.loc[index,'positioning_away_player_4'])\n",
    "        positioning_away_players.append(df.loc[index,'positioning_away_player_5'])\n",
    "        positioning_away_players.append(df.loc[index,'positioning_away_player_6'])\n",
    "        positioning_away_players.append(df.loc[index,'positioning_away_player_7'])\n",
    "        positioning_away_players.append(df.loc[index,'positioning_away_player_8'])\n",
    "        positioning_away_players.append(df.loc[index,'positioning_away_player_9'])\n",
    "        positioning_away_players.append(df.loc[index,'positioning_away_player_10'])\n",
    "        positioning_away_players.append(df.loc[index,'positioning_away_player_11'])\n",
    "\n",
    "\n",
    "        positioning_matrix = []\n",
    "        for i in range(11):          \n",
    "            k =[]\n",
    "            for j in range(11):\n",
    "                k.append(positioning_home_players[i]-positioning_away_players[j])\n",
    "            positioning_matrix.append(k)\n",
    "\n",
    "        interceptions_home_players = []\n",
    "        interceptions_home_players.append(df.loc[index,'interceptions_home_player_1'])\n",
    "        interceptions_home_players.append(df.loc[index,'interceptions_home_player_2'])\n",
    "        interceptions_home_players.append(df.loc[index,'interceptions_home_player_3'])\n",
    "        interceptions_home_players.append(df.loc[index,'interceptions_home_player_4'])\n",
    "        interceptions_home_players.append(df.loc[index,'interceptions_home_player_5'])\n",
    "        interceptions_home_players.append(df.loc[index,'interceptions_home_player_6'])\n",
    "        interceptions_home_players.append(df.loc[index,'interceptions_home_player_7'])\n",
    "        interceptions_home_players.append(df.loc[index,'interceptions_home_player_8'])\n",
    "        interceptions_home_players.append(df.loc[index,'interceptions_home_player_9'])\n",
    "        interceptions_home_players.append(df.loc[index,'interceptions_home_player_10'])\n",
    "        interceptions_home_players.append(df.loc[index,'interceptions_home_player_11'])\n",
    "\n",
    "\n",
    "        interceptions_away_players = []\n",
    "        interceptions_away_players.append(df.loc[index,'interceptions_away_player_1'])\n",
    "        interceptions_away_players.append(df.loc[index,'interceptions_away_player_2'])\n",
    "        interceptions_away_players.append(df.loc[index,'interceptions_away_player_3'])\n",
    "        interceptions_away_players.append(df.loc[index,'interceptions_away_player_4'])\n",
    "        interceptions_away_players.append(df.loc[index,'interceptions_away_player_5'])\n",
    "        interceptions_away_players.append(df.loc[index,'interceptions_away_player_6'])\n",
    "        interceptions_away_players.append(df.loc[index,'interceptions_away_player_7'])\n",
    "        interceptions_away_players.append(df.loc[index,'interceptions_away_player_8'])\n",
    "        interceptions_away_players.append(df.loc[index,'interceptions_away_player_9'])\n",
    "        interceptions_away_players.append(df.loc[index,'interceptions_away_player_10'])\n",
    "        interceptions_away_players.append(df.loc[index,'interceptions_away_player_11'])\n",
    "\n",
    "\n",
    "        interceptions_matrix = []\n",
    "        for i in range(11):          \n",
    "            k =[]\n",
    "            for j in range(11):\n",
    "                k.append(interceptions_home_players[i]-interceptions_away_players[j])\n",
    "            interceptions_matrix.append(k)\n",
    "\n",
    "        penalties_home_players = []\n",
    "        penalties_home_players.append(df.loc[index,'penalties_home_player_1'])\n",
    "        penalties_home_players.append(df.loc[index,'penalties_home_player_2'])\n",
    "        penalties_home_players.append(df.loc[index,'penalties_home_player_3'])\n",
    "        penalties_home_players.append(df.loc[index,'penalties_home_player_4'])\n",
    "        penalties_home_players.append(df.loc[index,'penalties_home_player_5'])\n",
    "        penalties_home_players.append(df.loc[index,'penalties_home_player_6'])\n",
    "        penalties_home_players.append(df.loc[index,'penalties_home_player_7'])\n",
    "        penalties_home_players.append(df.loc[index,'penalties_home_player_8'])\n",
    "        penalties_home_players.append(df.loc[index,'penalties_home_player_9'])\n",
    "        penalties_home_players.append(df.loc[index,'penalties_home_player_10'])\n",
    "        penalties_home_players.append(df.loc[index,'penalties_home_player_11'])\n",
    "\n",
    "\n",
    "        penalties_away_players = []\n",
    "        penalties_away_players.append(df.loc[index,'penalties_away_player_1'])\n",
    "        penalties_away_players.append(df.loc[index,'penalties_away_player_2'])\n",
    "        penalties_away_players.append(df.loc[index,'penalties_away_player_3'])\n",
    "        penalties_away_players.append(df.loc[index,'penalties_away_player_4'])\n",
    "        penalties_away_players.append(df.loc[index,'penalties_away_player_5'])\n",
    "        penalties_away_players.append(df.loc[index,'penalties_away_player_6'])\n",
    "        penalties_away_players.append(df.loc[index,'penalties_away_player_7'])\n",
    "        penalties_away_players.append(df.loc[index,'penalties_away_player_8'])\n",
    "        penalties_away_players.append(df.loc[index,'penalties_away_player_9'])\n",
    "        penalties_away_players.append(df.loc[index,'penalties_away_player_10'])\n",
    "        penalties_away_players.append(df.loc[index,'penalties_away_player_11'])\n",
    "\n",
    "\n",
    "        penalties_matrix = []\n",
    "        for i in range(11):          \n",
    "            k =[]\n",
    "            for j in range(11):\n",
    "                k.append(penalties_home_players[i]-penalties_away_players[j])\n",
    "            penalties_matrix.append(k)\n",
    "\n",
    "        marking_home_players = []\n",
    "        marking_home_players.append(df.loc[index,'marking_home_player_1'])\n",
    "        marking_home_players.append(df.loc[index,'marking_home_player_2'])\n",
    "        marking_home_players.append(df.loc[index,'marking_home_player_3'])\n",
    "        marking_home_players.append(df.loc[index,'marking_home_player_4'])\n",
    "        marking_home_players.append(df.loc[index,'marking_home_player_5'])\n",
    "        marking_home_players.append(df.loc[index,'marking_home_player_6'])\n",
    "        marking_home_players.append(df.loc[index,'marking_home_player_7'])\n",
    "        marking_home_players.append(df.loc[index,'marking_home_player_8'])\n",
    "        marking_home_players.append(df.loc[index,'marking_home_player_9'])\n",
    "        marking_home_players.append(df.loc[index,'marking_home_player_10'])\n",
    "        marking_home_players.append(df.loc[index,'marking_home_player_11'])\n",
    "\n",
    "\n",
    "        marking_away_players = []\n",
    "        marking_away_players.append(df.loc[index,'marking_away_player_1'])\n",
    "        marking_away_players.append(df.loc[index,'marking_away_player_2'])\n",
    "        marking_away_players.append(df.loc[index,'marking_away_player_3'])\n",
    "        marking_away_players.append(df.loc[index,'marking_away_player_4'])\n",
    "        marking_away_players.append(df.loc[index,'marking_away_player_5'])\n",
    "        marking_away_players.append(df.loc[index,'marking_away_player_6'])\n",
    "        marking_away_players.append(df.loc[index,'marking_away_player_7'])\n",
    "        marking_away_players.append(df.loc[index,'marking_away_player_8'])\n",
    "        marking_away_players.append(df.loc[index,'marking_away_player_9'])\n",
    "        marking_away_players.append(df.loc[index,'marking_away_player_10'])\n",
    "        marking_away_players.append(df.loc[index,'marking_away_player_11'])\n",
    "\n",
    "\n",
    "        marking_matrix = []\n",
    "        for i in range(11):          \n",
    "            k =[]\n",
    "            for j in range(11):\n",
    "                k.append(marking_home_players[i]-marking_away_players[j])\n",
    "            marking_matrix.append(k)\n",
    "\n",
    "\n",
    "        stamina_home_players = []\n",
    "        stamina_home_players.append(df.loc[index,'stamina_home_player_1'])\n",
    "        stamina_home_players.append(df.loc[index,'stamina_home_player_2'])\n",
    "        stamina_home_players.append(df.loc[index,'stamina_home_player_3'])\n",
    "        stamina_home_players.append(df.loc[index,'stamina_home_player_4'])\n",
    "        stamina_home_players.append(df.loc[index,'stamina_home_player_5'])\n",
    "        stamina_home_players.append(df.loc[index,'stamina_home_player_6'])\n",
    "        stamina_home_players.append(df.loc[index,'stamina_home_player_7'])\n",
    "        stamina_home_players.append(df.loc[index,'stamina_home_player_8'])\n",
    "        stamina_home_players.append(df.loc[index,'stamina_home_player_9'])\n",
    "        stamina_home_players.append(df.loc[index,'stamina_home_player_10'])\n",
    "        stamina_home_players.append(df.loc[index,'stamina_home_player_11'])\n",
    "\n",
    "\n",
    "        stamina_away_players = []\n",
    "        stamina_away_players.append(df.loc[index,'stamina_away_player_1'])\n",
    "        stamina_away_players.append(df.loc[index,'stamina_away_player_2'])\n",
    "        stamina_away_players.append(df.loc[index,'stamina_away_player_3'])\n",
    "        stamina_away_players.append(df.loc[index,'stamina_away_player_4'])\n",
    "        stamina_away_players.append(df.loc[index,'stamina_away_player_5'])\n",
    "        stamina_away_players.append(df.loc[index,'stamina_away_player_6'])\n",
    "        stamina_away_players.append(df.loc[index,'stamina_away_player_7'])\n",
    "        stamina_away_players.append(df.loc[index,'stamina_away_player_8'])\n",
    "        stamina_away_players.append(df.loc[index,'stamina_away_player_9'])\n",
    "        stamina_away_players.append(df.loc[index,'stamina_away_player_10'])\n",
    "        stamina_away_players.append(df.loc[index,'stamina_away_player_11'])\n",
    "\n",
    "\n",
    "        stamina_matrix = []\n",
    "        for i in range(11):          \n",
    "            k =[]\n",
    "            for j in range(11):\n",
    "                k.append(stamina_home_players[i]-stamina_away_players[j])\n",
    "            stamina_matrix.append(k)\n",
    "\n",
    "\n",
    "        shot_power_home_players = []\n",
    "        shot_power_home_players.append(df.loc[index,'shot_power_home_player_1'])\n",
    "        shot_power_home_players.append(df.loc[index,'shot_power_home_player_2'])\n",
    "        shot_power_home_players.append(df.loc[index,'shot_power_home_player_3'])\n",
    "        shot_power_home_players.append(df.loc[index,'shot_power_home_player_4'])\n",
    "        shot_power_home_players.append(df.loc[index,'shot_power_home_player_5'])\n",
    "        shot_power_home_players.append(df.loc[index,'shot_power_home_player_6'])\n",
    "        shot_power_home_players.append(df.loc[index,'shot_power_home_player_7'])\n",
    "        shot_power_home_players.append(df.loc[index,'shot_power_home_player_8'])\n",
    "        shot_power_home_players.append(df.loc[index,'shot_power_home_player_9'])\n",
    "        shot_power_home_players.append(df.loc[index,'shot_power_home_player_10'])\n",
    "        shot_power_home_players.append(df.loc[index,'shot_power_home_player_11'])\n",
    "\n",
    "\n",
    "        shot_power_away_players = []\n",
    "        shot_power_away_players.append(df.loc[index,'shot_power_away_player_1'])\n",
    "        shot_power_away_players.append(df.loc[index,'shot_power_away_player_2'])\n",
    "        shot_power_away_players.append(df.loc[index,'shot_power_away_player_3'])\n",
    "        shot_power_away_players.append(df.loc[index,'shot_power_away_player_4'])\n",
    "        shot_power_away_players.append(df.loc[index,'shot_power_away_player_5'])\n",
    "        shot_power_away_players.append(df.loc[index,'shot_power_away_player_6'])\n",
    "        shot_power_away_players.append(df.loc[index,'shot_power_away_player_7'])\n",
    "        shot_power_away_players.append(df.loc[index,'shot_power_away_player_8'])\n",
    "        shot_power_away_players.append(df.loc[index,'shot_power_away_player_9'])\n",
    "        shot_power_away_players.append(df.loc[index,'shot_power_away_player_10'])\n",
    "        shot_power_away_players.append(df.loc[index,'shot_power_away_player_11'])\n",
    "\n",
    "\n",
    "        shot_power_matrix = []\n",
    "        for i in range(11):          \n",
    "            k =[]\n",
    "            for j in range(11):\n",
    "                k.append(shot_power_home_players[i]-shot_power_away_players[j])\n",
    "            shot_power_matrix.append(k)\n",
    "\n",
    "        player_attributes_3D = []\n",
    "        player_attributes_3D.append(overall_rating_matrix)\n",
    "        player_attributes_3D.append(potential_matrix)\n",
    "        player_attributes_3D.append(crossing_matrix)\n",
    "        player_attributes_3D.append(finishing_matrix)\n",
    "        player_attributes_3D.append(heading_accuracy_matrix)\n",
    "        player_attributes_3D.append(dribbling_matrix)\n",
    "        player_attributes_3D.append(free_kick_accuracy_matrix)\n",
    "        player_attributes_3D.append(ball_control_matrix)\n",
    "        player_attributes_3D.append(sprint_speed_matrix)\n",
    "        player_attributes_3D.append(acceleration_matrix)\n",
    "        player_attributes_3D.append(strength_matrix)\n",
    "        player_attributes_3D.append(long_shots_matrix)\n",
    "        player_attributes_3D.append(aggression_matrix)\n",
    "        player_attributes_3D.append(positioning_matrix)\n",
    "        player_attributes_3D.append(interceptions_matrix)\n",
    "        player_attributes_3D.append(penalties_matrix)\n",
    "        player_attributes_3D.append(marking_matrix)\n",
    "        player_attributes_3D.append(stamina_matrix)\n",
    "        player_attributes_3D.append(shot_power_matrix)\n",
    "\n",
    "        data.append(player_attributes_3D)\n"
   ]
  },
  {
   "cell_type": "code",
   "execution_count": 15,
   "metadata": {},
   "outputs": [],
   "source": [
    "def teamfunction( df ):\n",
    "    for index, row in tqdm(df.iterrows()):\n",
    "        \n",
    "        home_team = []\n",
    "        home_team.append(df.loc[index,'buildUpPlaySpeed_home_team'])\n",
    "        home_team.append(df.loc[index,'buildUpPlayDribbling_home_team'])\n",
    "        home_team.append(df.loc[index,'buildUpPlayPassing_home_team'])\n",
    "        home_team.append(df.loc[index,'chanceCreationPassing_home_team'])\n",
    "        home_team.append(df.loc[index,'chanceCreationCrossing_home_team'])\n",
    "        home_team.append(df.loc[index,'chanceCreationShooting_home_team'])\n",
    "        home_team.append(df.loc[index,'defencePressure_home_team'])\n",
    "        home_team.append(df.loc[index,'defenceAggression_home_team'])\n",
    "        home_team.append(df.loc[index,'defenceTeamWidth_home_team'])\n",
    "\n",
    "\n",
    "        away_team = []\n",
    "        away_team.append(df.loc[index,'buildUpPlaySpeed_away_team'])\n",
    "        away_team.append(df.loc[index,'buildUpPlayDribbling_away_team'])\n",
    "        away_team.append(df.loc[index,'buildUpPlayPassing_away_team'])\n",
    "        away_team.append(df.loc[index,'chanceCreationPassing_away_team'])\n",
    "        away_team.append(df.loc[index,'chanceCreationCrossing_away_team'])\n",
    "        away_team.append(df.loc[index,'chanceCreationShooting_away_team'])\n",
    "        away_team.append(df.loc[index,'defencePressure_away_team'])\n",
    "        away_team.append(df.loc[index,'defenceAggression_away_team'])\n",
    "        away_team.append(df.loc[index,'defenceTeamWidth_away_team'])\n",
    "\n",
    "\n",
    "        team_matrix = []\n",
    "        for i in range(9):          \n",
    "            m =[]\n",
    "            for j in range(9):\n",
    "                m.append(home_team[i]-away_team[j])\n",
    "            team_matrix.append(m)\n",
    "\n",
    "        team_details.append(team_matrix)\n"
   ]
  },
  {
   "cell_type": "code",
   "execution_count": 8,
   "metadata": {},
   "outputs": [],
   "source": [
    "def otherfunction( df ):\n",
    "    for index, row in tqdm(df.iterrows()):\n",
    "\n",
    "        new_details = []\n",
    "        new_details.append(df.loc[index,'country_id'])\n",
    "        new_details.append(df.loc[index,'league_id'])\n",
    "        new_details.append(df.loc[index,'season'])\n",
    "        new_details.append(df.loc[index,'home_team_api_id'])\n",
    "        new_details.append(df.loc[index,'away_team_api_id'])\n",
    "#         new_details.append(df.loc[index,'home_player_1'])\n",
    "#         new_details.append(df.loc[index,'home_player_2'])\n",
    "#         new_details.append(df.loc[index,'home_player_3'])\n",
    "#         new_details.append(df.loc[index,'home_player_4'])\n",
    "#         new_details.append(df.loc[index,'home_player_5'])\n",
    "#         new_details.append(df.loc[index,'home_player_6'])\n",
    "#         new_details.append(df.loc[index,'home_player_7'])\n",
    "#         new_details.append(df.loc[index,'home_player_8'])\n",
    "#         new_details.append(df.loc[index,'home_player_9'])\n",
    "#         new_details.append(df.loc[index,'home_player_10'])\n",
    "#         new_details.append(df.loc[index,'home_player_11'])\n",
    "#         new_details.append(df.loc[index,'away_player_1'])\n",
    "#         new_details.append(df.loc[index,'away_player_2'])\n",
    "#         new_details.append(df.loc[index,'away_player_3'])\n",
    "#         new_details.append(df.loc[index,'away_player_4'])\n",
    "#         new_details.append(df.loc[index,'away_player_5'])\n",
    "#         new_details.append(df.loc[index,'away_player_6'])\n",
    "#         new_details.append(df.loc[index,'away_player_7'])\n",
    "#         new_details.append(df.loc[index,'away_player_8'])\n",
    "#         new_details.append(df.loc[index,'away_player_9'])\n",
    "#         new_details.append(df.loc[index,'away_player_10'])\n",
    "#         new_details.append(df.loc[index,'away_player_11'])\n",
    "\n",
    "        other_details.append(new_details)\n"
   ]
  },
  {
   "cell_type": "code",
   "execution_count": 9,
   "metadata": {},
   "outputs": [],
   "source": [
    "\n"
   ]
  },
  {
   "cell_type": "code",
   "execution_count": 16,
   "metadata": {},
   "outputs": [],
   "source": [
    "mod = nn.Sequential(\n",
    "    nn.Conv2d(in_channels=19, out_channels=1, kernel_size=1, stride=1)\n",
    ")\n"
   ]
  },
  {
   "cell_type": "code",
   "execution_count": 10,
   "metadata": {},
   "outputs": [],
   "source": [
    "X = df.drop(['result','date', 'home_team_goal','away_team_goal'], axis=1)\n",
    "y = df[['result']]\n",
    "RANDOM_SEED =42\n",
    "np.random.seed(RANDOM_SEED)\n",
    "torch.manual_seed(RANDOM_SEED)\n",
    "\n",
    "X_train, X_test, y_train, y_test =\\\n",
    "    train_test_split(X, y, test_size=0.2, random_state=RANDOM_SEED)"
   ]
  },
  {
   "cell_type": "code",
   "execution_count": 11,
   "metadata": {},
   "outputs": [
    {
     "data": {
      "text/plain": [
       "2.0    0.458637\n",
       "0.0    0.290715\n",
       "1.0    0.250647\n",
       "Name: result, dtype: float64"
      ]
     },
     "execution_count": 11,
     "metadata": {},
     "output_type": "execute_result"
    }
   ],
   "source": [
    "y_train.result.value_counts()/y_train.shape[0]"
   ]
  },
  {
   "cell_type": "code",
   "execution_count": 12,
   "metadata": {},
   "outputs": [
    {
     "data": {
      "text/plain": [
       "2.0    7795\n",
       "0.0    4941\n",
       "1.0    4260\n",
       "Name: result, dtype: int64"
      ]
     },
     "execution_count": 12,
     "metadata": {},
     "output_type": "execute_result"
    }
   ],
   "source": [
    "y_train.result.value_counts()"
   ]
  },
  {
   "cell_type": "code",
   "execution_count": 17,
   "metadata": {},
   "outputs": [
    {
     "name": "stderr",
     "output_type": "stream",
     "text": [
      "16996it [06:26, 43.99it/s]\n"
     ]
    }
   ],
   "source": [
    "data = []\n",
    "playerfunction( X_train )\n",
    "player_train_data = data\n",
    "Player_Train = torch.Tensor(np.array(player_train_data))"
   ]
  },
  {
   "cell_type": "code",
   "execution_count": 18,
   "metadata": {},
   "outputs": [
    {
     "data": {
      "text/plain": [
       "'torch.FloatTensor'"
      ]
     },
     "execution_count": 18,
     "metadata": {},
     "output_type": "execute_result"
    }
   ],
   "source": [
    "Player_Train.type()"
   ]
  },
  {
   "cell_type": "code",
   "execution_count": 19,
   "metadata": {},
   "outputs": [],
   "source": [
    "Player_Train = mod(Player_Train.view(Player_Train.shape[0],19,-1,1))\n"
   ]
  },
  {
   "cell_type": "code",
   "execution_count": 20,
   "metadata": {},
   "outputs": [
    {
     "data": {
      "text/plain": [
       "torch.Size([16996, 1, 121, 1])"
      ]
     },
     "execution_count": 20,
     "metadata": {},
     "output_type": "execute_result"
    }
   ],
   "source": [
    "Player_Train.size()"
   ]
  },
  {
   "cell_type": "code",
   "execution_count": 21,
   "metadata": {},
   "outputs": [
    {
     "name": "stderr",
     "output_type": "stream",
     "text": [
      "4250it [01:46, 39.79it/s]\n"
     ]
    }
   ],
   "source": [
    "data = []\n",
    "playerfunction( X_test )\n",
    "player_test_data = data\n",
    "Player_Test = torch.Tensor(np.array(player_test_data))"
   ]
  },
  {
   "cell_type": "code",
   "execution_count": 22,
   "metadata": {},
   "outputs": [
    {
     "data": {
      "text/plain": [
       "'torch.FloatTensor'"
      ]
     },
     "execution_count": 22,
     "metadata": {},
     "output_type": "execute_result"
    }
   ],
   "source": [
    "Player_Test.type()"
   ]
  },
  {
   "cell_type": "code",
   "execution_count": 23,
   "metadata": {},
   "outputs": [],
   "source": [
    "Player_Test = mod(Player_Test.view(Player_Test.shape[0],19,-1,1))"
   ]
  },
  {
   "cell_type": "code",
   "execution_count": 24,
   "metadata": {},
   "outputs": [
    {
     "data": {
      "text/plain": [
       "torch.Size([4250, 1, 121, 1])"
      ]
     },
     "execution_count": 24,
     "metadata": {},
     "output_type": "execute_result"
    }
   ],
   "source": [
    "Player_Test.size()"
   ]
  },
  {
   "cell_type": "code",
   "execution_count": 25,
   "metadata": {},
   "outputs": [
    {
     "name": "stderr",
     "output_type": "stream",
     "text": [
      "16996it [00:24, 704.66it/s]\n"
     ]
    }
   ],
   "source": [
    "team_details = []\n",
    "teamfunction( X_train )\n",
    "team_train_data = team_details\n",
    "Team_Train = torch.Tensor(np.array(team_train_data))"
   ]
  },
  {
   "cell_type": "code",
   "execution_count": 26,
   "metadata": {},
   "outputs": [
    {
     "data": {
      "text/plain": [
       "torch.Size([16996, 9, 9])"
      ]
     },
     "execution_count": 26,
     "metadata": {},
     "output_type": "execute_result"
    }
   ],
   "source": [
    "Team_Train.size()"
   ]
  },
  {
   "cell_type": "code",
   "execution_count": 28,
   "metadata": {},
   "outputs": [
    {
     "name": "stderr",
     "output_type": "stream",
     "text": [
      "4250it [00:06, 690.16it/s]\n"
     ]
    }
   ],
   "source": [
    "team_details = []\n",
    "teamfunction( X_test )\n",
    "team_test_data = team_details\n",
    "Team_Test = torch.Tensor(np.array(team_test_data))"
   ]
  },
  {
   "cell_type": "code",
   "execution_count": 29,
   "metadata": {},
   "outputs": [
    {
     "data": {
      "text/plain": [
       "torch.Size([4250, 9, 9])"
      ]
     },
     "execution_count": 29,
     "metadata": {},
     "output_type": "execute_result"
    }
   ],
   "source": [
    "Team_Test.size()"
   ]
  },
  {
   "cell_type": "code",
   "execution_count": 27,
   "metadata": {},
   "outputs": [
    {
     "name": "stderr",
     "output_type": "stream",
     "text": [
      "16996it [00:10, 1674.60it/s]\n"
     ]
    }
   ],
   "source": [
    "other_details = []\n",
    "otherfunction( X_train )\n",
    "other_train_data = other_details\n",
    "Other_Train = torch.Tensor(np.array(other_train_data))"
   ]
  },
  {
   "cell_type": "code",
   "execution_count": 30,
   "metadata": {},
   "outputs": [
    {
     "data": {
      "text/plain": [
       "torch.Size([16996, 5])"
      ]
     },
     "execution_count": 30,
     "metadata": {},
     "output_type": "execute_result"
    }
   ],
   "source": [
    "Other_Train.size()"
   ]
  },
  {
   "cell_type": "code",
   "execution_count": 31,
   "metadata": {},
   "outputs": [
    {
     "name": "stderr",
     "output_type": "stream",
     "text": [
      "4250it [00:02, 1603.85it/s]\n"
     ]
    }
   ],
   "source": [
    "other_details = []\n",
    "otherfunction( X_test )\n",
    "other_test_data = other_details\n",
    "Other_Test = torch.Tensor(np.array(other_test_data))"
   ]
  },
  {
   "cell_type": "code",
   "execution_count": 32,
   "metadata": {},
   "outputs": [
    {
     "data": {
      "text/plain": [
       "torch.Size([4250, 5])"
      ]
     },
     "execution_count": 32,
     "metadata": {},
     "output_type": "execute_result"
    }
   ],
   "source": [
    "Other_Test.size()"
   ]
  },
  {
   "cell_type": "code",
   "execution_count": 33,
   "metadata": {},
   "outputs": [],
   "source": [
    "y_train = torch.squeeze(torch.LongTensor(np.array(y_train)))"
   ]
  },
  {
   "cell_type": "code",
   "execution_count": 34,
   "metadata": {},
   "outputs": [
    {
     "data": {
      "text/plain": [
       "'torch.LongTensor'"
      ]
     },
     "execution_count": 34,
     "metadata": {},
     "output_type": "execute_result"
    }
   ],
   "source": [
    "y_train.type()"
   ]
  },
  {
   "cell_type": "code",
   "execution_count": 35,
   "metadata": {},
   "outputs": [
    {
     "data": {
      "text/plain": [
       "torch.Size([16996])"
      ]
     },
     "execution_count": 35,
     "metadata": {},
     "output_type": "execute_result"
    }
   ],
   "source": [
    "y_train.size()"
   ]
  },
  {
   "cell_type": "code",
   "execution_count": 36,
   "metadata": {},
   "outputs": [],
   "source": [
    "y_test = torch.squeeze(torch.LongTensor(np.array(y_test)))"
   ]
  },
  {
   "cell_type": "code",
   "execution_count": 37,
   "metadata": {},
   "outputs": [
    {
     "data": {
      "text/plain": [
       "'torch.LongTensor'"
      ]
     },
     "execution_count": 37,
     "metadata": {},
     "output_type": "execute_result"
    }
   ],
   "source": [
    "y_test.type()"
   ]
  },
  {
   "cell_type": "code",
   "execution_count": 38,
   "metadata": {},
   "outputs": [
    {
     "data": {
      "text/plain": [
       "torch.Size([4250])"
      ]
     },
     "execution_count": 38,
     "metadata": {},
     "output_type": "execute_result"
    }
   ],
   "source": [
    "y_test.size()"
   ]
  },
  {
   "cell_type": "code",
   "execution_count": 39,
   "metadata": {},
   "outputs": [
    {
     "data": {
      "text/plain": [
       "torch.Size([16996, 121])"
      ]
     },
     "execution_count": 39,
     "metadata": {},
     "output_type": "execute_result"
    }
   ],
   "source": [
    "Player_Train = torch.flatten(Player_Train, start_dim=1)\n",
    "Player_Train.size()\n"
   ]
  },
  {
   "cell_type": "code",
   "execution_count": 40,
   "metadata": {},
   "outputs": [
    {
     "data": {
      "text/plain": [
       "torch.Size([4250, 121])"
      ]
     },
     "execution_count": 40,
     "metadata": {},
     "output_type": "execute_result"
    }
   ],
   "source": [
    "Player_Test = torch.flatten(Player_Test, start_dim=1)\n",
    "Player_Test.size()"
   ]
  },
  {
   "cell_type": "code",
   "execution_count": 41,
   "metadata": {},
   "outputs": [],
   "source": [
    "Team_Train = torch.flatten(Team_Train, start_dim=1)\n",
    "Team_Test = torch.flatten(Team_Test, start_dim=1)"
   ]
  },
  {
   "cell_type": "code",
   "execution_count": 42,
   "metadata": {},
   "outputs": [
    {
     "data": {
      "text/plain": [
       "torch.Size([16996, 202])"
      ]
     },
     "execution_count": 42,
     "metadata": {},
     "output_type": "execute_result"
    }
   ],
   "source": [
    "X_Train_Data = torch.cat((Player_Train, Team_Train ), 1)\n",
    "X_Train_Data.size()"
   ]
  },
  {
   "cell_type": "code",
   "execution_count": 43,
   "metadata": {},
   "outputs": [
    {
     "data": {
      "text/plain": [
       "torch.Size([4250, 202])"
      ]
     },
     "execution_count": 43,
     "metadata": {},
     "output_type": "execute_result"
    }
   ],
   "source": [
    "X_Test_Data = torch.cat((Player_Test, Team_Test), 1)\n",
    "X_Test_Data.size()"
   ]
  },
  {
   "cell_type": "code",
   "execution_count": 44,
   "metadata": {},
   "outputs": [],
   "source": [
    "import torch\n",
    "from torch import nn, optim\n",
    "import torch.nn.functional as F\n",
    "\n",
    "#building neural network\n",
    "class Net(nn.Module):\n",
    "    def __init__(self):\n",
    "        super(Net, self).__init__()\n",
    "        self.fc1 = nn.Linear(202,128)\n",
    "        self.fc2 = nn.Linear(128,64)\n",
    "        self.fc3 = nn.Linear(64,32)\n",
    "        self.fc4 = nn.Linear(32,16)\n",
    "        self.fc5 = nn.Linear(16,3)\n",
    "        # Define proportion or neurons to dropout\n",
    "        self.dropout = nn.Dropout(0.5)\n",
    "        \n",
    "\n",
    "    \n",
    "    def forward(self, x):\n",
    "        x = F.relu(self.fc1(x))\n",
    "        x = F.relu(self.fc2(x))\n",
    "        x = self.dropout(x)\n",
    "        x = F.relu(self.fc3(x))\n",
    "        x = F.relu(self.fc4(x))\n",
    "        x = F.relu(self.fc5(x))\n",
    "        return x"
   ]
  },
  {
   "cell_type": "code",
   "execution_count": 45,
   "metadata": {},
   "outputs": [],
   "source": [
    "net = Net()"
   ]
  },
  {
   "cell_type": "code",
   "execution_count": 49,
   "metadata": {},
   "outputs": [],
   "source": [
    "#Training\n",
    "optimizer = optim.SGD(net.parameters(), lr=0.005)\n",
    "weights = [1/4941, 1/4260, 1/7795 ]\n",
    "class_weights = torch.FloatTensor(weights)\n",
    "criterion = nn.CrossEntropyLoss(weight=class_weights)\n",
    "\n",
    "#Doing it on GPU\n",
    "device = torch.device(\"cuda:0\" if torch.cuda.is_available() else \"cpu\")\n",
    "\n",
    "X_Train_Data = X_Train_Data.to(device)\n",
    "X_Test_Data = X_Test_Data.to(device)\n",
    "\n",
    "y_train = y_train.to(device)\n",
    "y_test = y_test.to(device)\n",
    "\n",
    "net = net.to(device)\n",
    "criterion = criterion.to(device)"
   ]
  },
  {
   "cell_type": "code",
   "execution_count": 50,
   "metadata": {},
   "outputs": [],
   "source": [
    "\n",
    "import torch.utils.data as data_utils\n",
    "\n",
    "train = data_utils.TensorDataset(X_Train_Data, y_train)\n",
    "train_loader = data_utils.DataLoader(train, batch_size=128, shuffle=True)"
   ]
  },
  {
   "cell_type": "code",
   "execution_count": 51,
   "metadata": {},
   "outputs": [],
   "source": [
    "\n",
    "test = data_utils.TensorDataset(X_Test_Data, y_test)\n",
    "test_loader = data_utils.DataLoader(test, batch_size=128, shuffle=True)"
   ]
  },
  {
   "cell_type": "code",
   "execution_count": 52,
   "metadata": {},
   "outputs": [
    {
     "name": "stdout",
     "output_type": "stream",
     "text": [
      "Epoch: 0/100   Training loss: 1.1057   Testing loss: 1.0863   Train accuracy: 0.4234   Test accuracy: 0.4734   Train F1 Score: 0.3412   Test F1 Score: 0.3389  \n",
      "Epoch: 1/100   Training loss: 1.0855   Testing loss: 1.0768   Train accuracy: 0.4459   Test accuracy: 0.4873   Train F1 Score: 0.3340   Test F1 Score: 0.3392  \n",
      "Epoch: 2/100   Training loss: 1.0762   Testing loss: 1.0703   Train accuracy: 0.4679   Test accuracy: 0.4920   Train F1 Score: 0.3344   Test F1 Score: 0.3287  \n",
      "Epoch: 3/100   Training loss: 1.0708   Testing loss: 1.0633   Train accuracy: 0.4806   Test accuracy: 0.4913   Train F1 Score: 0.3368   Test F1 Score: 0.3296  \n",
      "Epoch: 4/100   Training loss: 1.0672   Testing loss: 1.0604   Train accuracy: 0.4861   Test accuracy: 0.4929   Train F1 Score: 0.3358   Test F1 Score: 0.3332  \n",
      "Epoch: 5/100   Training loss: 1.0636   Testing loss: 1.0579   Train accuracy: 0.4896   Test accuracy: 0.4965   Train F1 Score: 0.3405   Test F1 Score: 0.3251  \n",
      "Epoch: 6/100   Training loss: 1.0591   Testing loss: 1.0545   Train accuracy: 0.4919   Test accuracy: 0.4925   Train F1 Score: 0.3414   Test F1 Score: 0.3291  \n",
      "Epoch: 7/100   Training loss: 1.0541   Testing loss: 1.0508   Train accuracy: 0.4941   Test accuracy: 0.4920   Train F1 Score: 0.3478   Test F1 Score: 0.3476  \n",
      "Epoch: 8/100   Training loss: 1.0533   Testing loss: 1.0484   Train accuracy: 0.4866   Test accuracy: 0.4859   Train F1 Score: 0.3506   Test F1 Score: 0.3561  \n",
      "Epoch: 9/100   Training loss: 1.0505   Testing loss: 1.0460   Train accuracy: 0.4831   Test accuracy: 0.4828   Train F1 Score: 0.3551   Test F1 Score: 0.3540  \n",
      "Epoch: 10/100   Training loss: 1.0501   Testing loss: 1.0440   Train accuracy: 0.4827   Test accuracy: 0.4840   Train F1 Score: 0.3544   Test F1 Score: 0.3644  \n",
      "Epoch: 11/100   Training loss: 1.0478   Testing loss: 1.0438   Train accuracy: 0.4745   Test accuracy: 0.4821   Train F1 Score: 0.3489   Test F1 Score: 0.3582  \n",
      "Epoch: 12/100   Training loss: 1.0458   Testing loss: 1.0444   Train accuracy: 0.4783   Test accuracy: 0.4800   Train F1 Score: 0.3542   Test F1 Score: 0.3544  \n",
      "Epoch: 13/100   Training loss: 1.0442   Testing loss: 1.0407   Train accuracy: 0.4753   Test accuracy: 0.4828   Train F1 Score: 0.3554   Test F1 Score: 0.3633  \n",
      "Epoch: 14/100   Training loss: 1.0418   Testing loss: 1.0414   Train accuracy: 0.4826   Test accuracy: 0.4788   Train F1 Score: 0.3588   Test F1 Score: 0.3623  \n",
      "Epoch: 15/100   Training loss: 1.0409   Testing loss: 1.0441   Train accuracy: 0.4841   Test accuracy: 0.4776   Train F1 Score: 0.3452   Test F1 Score: 0.3485  \n",
      "Epoch: 16/100   Training loss: 1.0420   Testing loss: 1.0404   Train accuracy: 0.4790   Test accuracy: 0.4795   Train F1 Score: 0.3575   Test F1 Score: 0.3470  \n",
      "Epoch: 17/100   Training loss: 1.0394   Testing loss: 1.0395   Train accuracy: 0.4808   Test accuracy: 0.4814   Train F1 Score: 0.3583   Test F1 Score: 0.3651  \n",
      "Epoch: 18/100   Training loss: 1.0407   Testing loss: 1.0400   Train accuracy: 0.4829   Test accuracy: 0.4868   Train F1 Score: 0.3505   Test F1 Score: 0.3566  \n",
      "Epoch: 19/100   Training loss: 1.0387   Testing loss: 1.0400   Train accuracy: 0.4846   Test accuracy: 0.4873   Train F1 Score: 0.3546   Test F1 Score: 0.3601  \n",
      "Epoch: 20/100   Training loss: 1.0370   Testing loss: 1.0406   Train accuracy: 0.4852   Test accuracy: 0.4889   Train F1 Score: 0.3559   Test F1 Score: 0.3714  \n",
      "Epoch: 21/100   Training loss: 1.0380   Testing loss: 1.0386   Train accuracy: 0.4862   Test accuracy: 0.4859   Train F1 Score: 0.3576   Test F1 Score: 0.3535  \n",
      "Epoch: 22/100   Training loss: 1.0370   Testing loss: 1.0400   Train accuracy: 0.4852   Test accuracy: 0.4852   Train F1 Score: 0.3553   Test F1 Score: 0.3626  \n",
      "Epoch: 23/100   Training loss: 1.0390   Testing loss: 1.0399   Train accuracy: 0.4808   Test accuracy: 0.4736   Train F1 Score: 0.3597   Test F1 Score: 0.3509  \n",
      "Epoch: 24/100   Training loss: 1.0363   Testing loss: 1.0385   Train accuracy: 0.4782   Test accuracy: 0.4816   Train F1 Score: 0.3524   Test F1 Score: 0.3677  \n",
      "Epoch: 25/100   Training loss: 1.0370   Testing loss: 1.0387   Train accuracy: 0.4871   Test accuracy: 0.4849   Train F1 Score: 0.3540   Test F1 Score: 0.3487  \n",
      "Epoch: 26/100   Training loss: 1.0381   Testing loss: 1.0408   Train accuracy: 0.4826   Test accuracy: 0.4842   Train F1 Score: 0.3566   Test F1 Score: 0.3556  \n",
      "Epoch: 27/100   Training loss: 1.0361   Testing loss: 1.0394   Train accuracy: 0.4852   Test accuracy: 0.4835   Train F1 Score: 0.3554   Test F1 Score: 0.3485  \n",
      "Epoch: 28/100   Training loss: 1.0361   Testing loss: 1.0399   Train accuracy: 0.4823   Test accuracy: 0.4833   Train F1 Score: 0.3493   Test F1 Score: 0.3436  \n",
      "Epoch: 29/100   Training loss: 1.0340   Testing loss: 1.0410   Train accuracy: 0.4844   Test accuracy: 0.4814   Train F1 Score: 0.3496   Test F1 Score: 0.3648  \n",
      "Epoch: 30/100   Training loss: 1.0331   Testing loss: 1.0414   Train accuracy: 0.4890   Test accuracy: 0.4831   Train F1 Score: 0.3540   Test F1 Score: 0.3618  \n",
      "Epoch: 31/100   Training loss: 1.0337   Testing loss: 1.0376   Train accuracy: 0.4846   Test accuracy: 0.4788   Train F1 Score: 0.3596   Test F1 Score: 0.3548  \n",
      "Epoch: 32/100   Training loss: 1.0347   Testing loss: 1.0397   Train accuracy: 0.4865   Test accuracy: 0.4795   Train F1 Score: 0.3511   Test F1 Score: 0.3558  \n",
      "Epoch: 33/100   Training loss: 1.0344   Testing loss: 1.0376   Train accuracy: 0.4852   Test accuracy: 0.4819   Train F1 Score: 0.3616   Test F1 Score: 0.3567  \n",
      "Epoch: 34/100   Training loss: 1.0350   Testing loss: 1.0401   Train accuracy: 0.4848   Test accuracy: 0.4793   Train F1 Score: 0.3580   Test F1 Score: 0.3594  \n",
      "Epoch: 35/100   Training loss: 1.0331   Testing loss: 1.0378   Train accuracy: 0.4876   Test accuracy: 0.4831   Train F1 Score: 0.3534   Test F1 Score: 0.3648  \n",
      "Epoch: 36/100   Training loss: 1.0323   Testing loss: 1.0385   Train accuracy: 0.4868   Test accuracy: 0.4795   Train F1 Score: 0.3557   Test F1 Score: 0.3567  \n",
      "Epoch: 37/100   Training loss: 1.0319   Testing loss: 1.0379   Train accuracy: 0.4896   Test accuracy: 0.4814   Train F1 Score: 0.3519   Test F1 Score: 0.3626  \n",
      "Epoch: 38/100   Training loss: 1.0314   Testing loss: 1.0392   Train accuracy: 0.4873   Test accuracy: 0.4793   Train F1 Score: 0.3591   Test F1 Score: 0.3554  \n",
      "Epoch: 39/100   Training loss: 1.0329   Testing loss: 1.0370   Train accuracy: 0.4864   Test accuracy: 0.4772   Train F1 Score: 0.3577   Test F1 Score: 0.3499  \n",
      "Epoch: 40/100   Training loss: 1.0316   Testing loss: 1.0376   Train accuracy: 0.4855   Test accuracy: 0.4798   Train F1 Score: 0.3502   Test F1 Score: 0.3460  \n",
      "Epoch: 41/100   Training loss: 1.0327   Testing loss: 1.0376   Train accuracy: 0.4832   Test accuracy: 0.4786   Train F1 Score: 0.3512   Test F1 Score: 0.3506  \n",
      "Epoch: 42/100   Training loss: 1.0319   Testing loss: 1.0381   Train accuracy: 0.4894   Test accuracy: 0.4776   Train F1 Score: 0.3519   Test F1 Score: 0.3515  \n",
      "Epoch: 43/100   Training loss: 1.0308   Testing loss: 1.0389   Train accuracy: 0.4875   Test accuracy: 0.4755   Train F1 Score: 0.3586   Test F1 Score: 0.3500  \n",
      "Epoch: 44/100   Training loss: 1.0306   Testing loss: 1.0357   Train accuracy: 0.4887   Test accuracy: 0.4774   Train F1 Score: 0.3529   Test F1 Score: 0.3554  \n",
      "Epoch: 45/100   Training loss: 1.0305   Testing loss: 1.0377   Train accuracy: 0.4889   Test accuracy: 0.4809   Train F1 Score: 0.3578   Test F1 Score: 0.3664  \n",
      "Epoch: 46/100   Training loss: 1.0310   Testing loss: 1.0381   Train accuracy: 0.4861   Test accuracy: 0.4772   Train F1 Score: 0.3536   Test F1 Score: 0.3604  \n",
      "Epoch: 47/100   Training loss: 1.0295   Testing loss: 1.0386   Train accuracy: 0.4885   Test accuracy: 0.4786   Train F1 Score: 0.3608   Test F1 Score: 0.3686  \n",
      "Epoch: 48/100   Training loss: 1.0318   Testing loss: 1.0395   Train accuracy: 0.4876   Test accuracy: 0.4795   Train F1 Score: 0.3533   Test F1 Score: 0.3559  \n",
      "Epoch: 49/100   Training loss: 1.0320   Testing loss: 1.0365   Train accuracy: 0.4866   Test accuracy: 0.4793   Train F1 Score: 0.3582   Test F1 Score: 0.3477  \n",
      "Epoch: 50/100   Training loss: 1.0301   Testing loss: 1.0373   Train accuracy: 0.4915   Test accuracy: 0.4788   Train F1 Score: 0.3511   Test F1 Score: 0.3574  \n"
     ]
    },
    {
     "name": "stdout",
     "output_type": "stream",
     "text": [
      "Epoch: 51/100   Training loss: 1.0299   Testing loss: 1.0381   Train accuracy: 0.4875   Test accuracy: 0.4786   Train F1 Score: 0.3615   Test F1 Score: 0.3567  \n",
      "Epoch: 52/100   Training loss: 1.0303   Testing loss: 1.0368   Train accuracy: 0.4892   Test accuracy: 0.4781   Train F1 Score: 0.3561   Test F1 Score: 0.3529  \n",
      "Epoch: 53/100   Training loss: 1.0298   Testing loss: 1.0358   Train accuracy: 0.4873   Test accuracy: 0.4769   Train F1 Score: 0.3527   Test F1 Score: 0.3552  \n",
      "Epoch: 54/100   Training loss: 1.0294   Testing loss: 1.0360   Train accuracy: 0.4889   Test accuracy: 0.4769   Train F1 Score: 0.3549   Test F1 Score: 0.3659  \n",
      "Epoch: 55/100   Training loss: 1.0284   Testing loss: 1.0349   Train accuracy: 0.4938   Test accuracy: 0.4772   Train F1 Score: 0.3560   Test F1 Score: 0.3546  \n",
      "Epoch: 56/100   Training loss: 1.0294   Testing loss: 1.0383   Train accuracy: 0.4888   Test accuracy: 0.4755   Train F1 Score: 0.3552   Test F1 Score: 0.3551  \n",
      "Epoch: 57/100   Training loss: 1.0285   Testing loss: 1.0392   Train accuracy: 0.4894   Test accuracy: 0.4751   Train F1 Score: 0.3541   Test F1 Score: 0.3430  \n",
      "Epoch: 58/100   Training loss: 1.0286   Testing loss: 1.0392   Train accuracy: 0.4881   Test accuracy: 0.4786   Train F1 Score: 0.3494   Test F1 Score: 0.3528  \n",
      "Epoch: 59/100   Training loss: 1.0288   Testing loss: 1.0370   Train accuracy: 0.4909   Test accuracy: 0.4776   Train F1 Score: 0.3600   Test F1 Score: 0.3644  \n",
      "Epoch: 60/100   Training loss: 1.0277   Testing loss: 1.0370   Train accuracy: 0.4919   Test accuracy: 0.4772   Train F1 Score: 0.3473   Test F1 Score: 0.3600  \n",
      "Epoch: 61/100   Training loss: 1.0281   Testing loss: 1.0357   Train accuracy: 0.4896   Test accuracy: 0.4802   Train F1 Score: 0.3579   Test F1 Score: 0.3689  \n",
      "Epoch: 62/100   Training loss: 1.0271   Testing loss: 1.0382   Train accuracy: 0.4919   Test accuracy: 0.4784   Train F1 Score: 0.3514   Test F1 Score: 0.3655  \n",
      "Epoch: 63/100   Training loss: 1.0279   Testing loss: 1.0365   Train accuracy: 0.4901   Test accuracy: 0.4774   Train F1 Score: 0.3522   Test F1 Score: 0.3520  \n",
      "Epoch: 64/100   Training loss: 1.0265   Testing loss: 1.0372   Train accuracy: 0.4878   Test accuracy: 0.4751   Train F1 Score: 0.3565   Test F1 Score: 0.3611  \n",
      "Epoch: 65/100   Training loss: 1.0277   Testing loss: 1.0365   Train accuracy: 0.4914   Test accuracy: 0.4772   Train F1 Score: 0.3530   Test F1 Score: 0.3468  \n",
      "Epoch: 66/100   Training loss: 1.0280   Testing loss: 1.0357   Train accuracy: 0.4894   Test accuracy: 0.4753   Train F1 Score: 0.3585   Test F1 Score: 0.3554  \n",
      "Epoch: 67/100   Training loss: 1.0269   Testing loss: 1.0354   Train accuracy: 0.4914   Test accuracy: 0.4776   Train F1 Score: 0.3500   Test F1 Score: 0.3568  \n",
      "Epoch: 68/100   Training loss: 1.0244   Testing loss: 1.0363   Train accuracy: 0.4955   Test accuracy: 0.4767   Train F1 Score: 0.3618   Test F1 Score: 0.3577  \n",
      "Epoch: 69/100   Training loss: 1.0268   Testing loss: 1.0360   Train accuracy: 0.4915   Test accuracy: 0.4760   Train F1 Score: 0.3548   Test F1 Score: 0.3425  \n",
      "Epoch: 70/100   Training loss: 1.0267   Testing loss: 1.0369   Train accuracy: 0.4915   Test accuracy: 0.4751   Train F1 Score: 0.3473   Test F1 Score: 0.3554  \n",
      "Epoch: 71/100   Training loss: 1.0270   Testing loss: 1.0350   Train accuracy: 0.4906   Test accuracy: 0.4713   Train F1 Score: 0.3537   Test F1 Score: 0.3433  \n",
      "Epoch: 72/100   Training loss: 1.0256   Testing loss: 1.0384   Train accuracy: 0.4891   Test accuracy: 0.4725   Train F1 Score: 0.3515   Test F1 Score: 0.3598  \n",
      "Epoch: 73/100   Training loss: 1.0250   Testing loss: 1.0357   Train accuracy: 0.4943   Test accuracy: 0.4715   Train F1 Score: 0.3527   Test F1 Score: 0.3531  \n",
      "Epoch: 74/100   Training loss: 1.0260   Testing loss: 1.0387   Train accuracy: 0.4920   Test accuracy: 0.4704   Train F1 Score: 0.3503   Test F1 Score: 0.3594  \n",
      "Epoch: 75/100   Training loss: 1.0262   Testing loss: 1.0398   Train accuracy: 0.4910   Test accuracy: 0.4746   Train F1 Score: 0.3573   Test F1 Score: 0.3595  \n",
      "Epoch: 76/100   Training loss: 1.0262   Testing loss: 1.0379   Train accuracy: 0.4940   Test accuracy: 0.4753   Train F1 Score: 0.3527   Test F1 Score: 0.3635  \n",
      "Epoch: 77/100   Training loss: 1.0266   Testing loss: 1.0372   Train accuracy: 0.4922   Test accuracy: 0.4755   Train F1 Score: 0.3561   Test F1 Score: 0.3690  \n",
      "Epoch: 78/100   Training loss: 1.0243   Testing loss: 1.0367   Train accuracy: 0.4958   Test accuracy: 0.4715   Train F1 Score: 0.3453   Test F1 Score: 0.3335  \n",
      "Epoch: 79/100   Training loss: 1.0249   Testing loss: 1.0361   Train accuracy: 0.4952   Test accuracy: 0.4708   Train F1 Score: 0.3545   Test F1 Score: 0.3467  \n",
      "Epoch: 80/100   Training loss: 1.0232   Testing loss: 1.0398   Train accuracy: 0.4947   Test accuracy: 0.4711   Train F1 Score: 0.3581   Test F1 Score: 0.3541  \n",
      "Epoch: 81/100   Training loss: 1.0221   Testing loss: 1.0365   Train accuracy: 0.4940   Test accuracy: 0.4729   Train F1 Score: 0.3567   Test F1 Score: 0.3508  \n",
      "Epoch: 82/100   Training loss: 1.0244   Testing loss: 1.0357   Train accuracy: 0.4933   Test accuracy: 0.4701   Train F1 Score: 0.3554   Test F1 Score: 0.3545  \n",
      "Epoch: 83/100   Training loss: 1.0233   Testing loss: 1.0367   Train accuracy: 0.4926   Test accuracy: 0.4734   Train F1 Score: 0.3540   Test F1 Score: 0.3451  \n",
      "Epoch: 84/100   Training loss: 1.0228   Testing loss: 1.0380   Train accuracy: 0.4909   Test accuracy: 0.4741   Train F1 Score: 0.3469   Test F1 Score: 0.3639  \n",
      "Epoch: 85/100   Training loss: 1.0235   Testing loss: 1.0384   Train accuracy: 0.4942   Test accuracy: 0.4708   Train F1 Score: 0.3530   Test F1 Score: 0.3551  \n",
      "Epoch: 86/100   Training loss: 1.0204   Testing loss: 1.0355   Train accuracy: 0.4984   Test accuracy: 0.4708   Train F1 Score: 0.3531   Test F1 Score: 0.3436  \n",
      "Epoch: 87/100   Training loss: 1.0224   Testing loss: 1.0369   Train accuracy: 0.4938   Test accuracy: 0.4727   Train F1 Score: 0.3562   Test F1 Score: 0.3573  \n",
      "Epoch: 88/100   Training loss: 1.0219   Testing loss: 1.0351   Train accuracy: 0.4943   Test accuracy: 0.4753   Train F1 Score: 0.3558   Test F1 Score: 0.3601  \n",
      "Epoch: 89/100   Training loss: 1.0218   Testing loss: 1.0367   Train accuracy: 0.4945   Test accuracy: 0.4739   Train F1 Score: 0.3494   Test F1 Score: 0.3568  \n",
      "Epoch: 90/100   Training loss: 1.0224   Testing loss: 1.0357   Train accuracy: 0.4969   Test accuracy: 0.4791   Train F1 Score: 0.3464   Test F1 Score: 0.3640  \n",
      "Epoch: 91/100   Training loss: 1.0213   Testing loss: 1.0400   Train accuracy: 0.4949   Test accuracy: 0.4694   Train F1 Score: 0.3566   Test F1 Score: 0.3503  \n",
      "Epoch: 92/100   Training loss: 1.0202   Testing loss: 1.0377   Train accuracy: 0.4961   Test accuracy: 0.4739   Train F1 Score: 0.3479   Test F1 Score: 0.3492  \n",
      "Epoch: 93/100   Training loss: 1.0190   Testing loss: 1.0390   Train accuracy: 0.4978   Test accuracy: 0.4689   Train F1 Score: 0.3578   Test F1 Score: 0.3480  \n",
      "Epoch: 94/100   Training loss: 1.0203   Testing loss: 1.0395   Train accuracy: 0.4965   Test accuracy: 0.4725   Train F1 Score: 0.3575   Test F1 Score: 0.3607  \n",
      "Epoch: 95/100   Training loss: 1.0185   Testing loss: 1.0369   Train accuracy: 0.4966   Test accuracy: 0.4727   Train F1 Score: 0.3530   Test F1 Score: 0.3366  \n",
      "Epoch: 96/100   Training loss: 1.0197   Testing loss: 1.0393   Train accuracy: 0.4988   Test accuracy: 0.4692   Train F1 Score: 0.3537   Test F1 Score: 0.3546  \n",
      "Epoch: 97/100   Training loss: 1.0201   Testing loss: 1.0378   Train accuracy: 0.4963   Test accuracy: 0.4751   Train F1 Score: 0.3567   Test F1 Score: 0.3511  \n",
      "Epoch: 98/100   Training loss: 1.0200   Testing loss: 1.0378   Train accuracy: 0.4988   Test accuracy: 0.4736   Train F1 Score: 0.3567   Test F1 Score: 0.3351  \n",
      "Epoch: 99/100   Training loss: 1.0193   Testing loss: 1.0368   Train accuracy: 0.4995   Test accuracy: 0.4729   Train F1 Score: 0.3529   Test F1 Score: 0.3465  \n"
     ]
    }
   ],
   "source": [
    "from sklearn.metrics import f1_score\n",
    "\n",
    "epochs = 100\n",
    "train_loss, val_loss = [], []\n",
    "accuracy_total_train, accuracy_total_val = [], []\n",
    "train_f1_scores, test_f1_scores = [], []\n",
    "\n",
    "for epoch in range(epochs):\n",
    "   \n",
    "    total_train_loss = 0\n",
    "    total_val_loss = 0\n",
    "    prediction_list_test = []\n",
    "    prediction_list_train = []\n",
    "    train_f1score = 0\n",
    "    test_f1score = 0\n",
    "\n",
    "    net.train()\n",
    "    \n",
    "    total = 0\n",
    "    # training our model\n",
    "    for idx, (x, y) in enumerate(train_loader):\n",
    "\n",
    "        optimizer.zero_grad()\n",
    "\n",
    "        pred = net(x)\n",
    "        loss = criterion(pred, y)\n",
    "        total_train_loss += loss.item()\n",
    "        loss.backward(retain_graph=True)\n",
    "        optimizer.step()\n",
    "\n",
    "        pred = torch.nn.functional.softmax(pred, dim=1)\n",
    "        for i, p in enumerate(pred):\n",
    "            if y[i] == torch.max(p.data, 0)[1]:\n",
    "                total = total + 1\n",
    "            y_prediction = torch.max(p.data, 0)[1]\n",
    "            prediction_list_train.append(y_prediction)\n",
    "                \n",
    "    accuracy_train = total / len(X_Train_Data)\n",
    "    accuracy_total_train.append(accuracy_train)\n",
    "\n",
    "    total_train_loss = total_train_loss / (idx + 1)\n",
    "    train_loss.append(total_train_loss)\n",
    "    \n",
    "    prediction_stacked_tensor = torch.stack(prediction_list_train)\n",
    "    train_f1score = f1_score(y_train, prediction_stacked_tensor, average='weighted')\n",
    "    train_f1_scores.append(train_f1score)\n",
    "    \n",
    "    # validating our model\n",
    "    net.eval()\n",
    "    total = 0\n",
    "    for idx, (x, y) in enumerate(test_loader):\n",
    "        pred = net(x)\n",
    "        loss = criterion(pred, y)\n",
    "        total_val_loss += loss.item()\n",
    "\n",
    "        pred = torch.nn.functional.softmax(pred, dim=1)\n",
    "        for i, p in enumerate(pred):\n",
    "            if y[i] == torch.max(p.data, 0)[1]:\n",
    "                total = total + 1\n",
    "            y_prediction = torch.max(p.data, 0)[1]\n",
    "            prediction_list_test.append(y_prediction)\n",
    "\n",
    "    accuracy_val = total / len(X_Test_Data)\n",
    "    accuracy_total_val.append(accuracy_val)\n",
    "    \n",
    "    prediction_stacked_tensor = torch.stack(prediction_list_test)\n",
    "    test_f1score = f1_score(y_test, prediction_stacked_tensor, average='weighted')\n",
    "    test_f1_scores.append(test_f1score)\n",
    "\n",
    "    total_val_loss = total_val_loss / (idx + 1)\n",
    "    val_loss.append(total_val_loss)\n",
    "\n",
    "    if epoch % 1 == 0:\n",
    "          print(\"Epoch: {}/{}  \".format(epoch, epochs),\n",
    "            \"Training loss: {:.4f}  \".format(total_train_loss),\n",
    "            \"Testing loss: {:.4f}  \".format(total_val_loss),\n",
    "            \"Train accuracy: {:.4f}  \".format(accuracy_train),\n",
    "            \"Test accuracy: {:.4f}  \".format(accuracy_val),\n",
    "            \"Train F1 Score: {:.4f}  \".format(train_f1score),\n",
    "            \"Test F1 Score: {:.4f}  \".format(test_f1score))"
   ]
  },
  {
   "cell_type": "code",
   "execution_count": 53,
   "metadata": {},
   "outputs": [
    {
     "data": {
      "image/png": "[encoded data removed]",
      "text/plain": [
       "<Figure size 432x288 with 1 Axes>"
      ]
     },
     "metadata": {
      "needs_background": "light"
     },
     "output_type": "display_data"
    }
   ],
   "source": [
    "plt.plot(train_f1_scores, label='Training f1-Scores')\n",
    "plt.plot(test_f1_scores, label='Testing f1-Scores')\n",
    "plt.legend()\n",
    "plt.grid()"
   ]
  },
  {
   "cell_type": "code",
   "execution_count": 54,
   "metadata": {},
   "outputs": [
    {
     "data": {
      "image/png": "[encoded data removed]",
      "text/plain": [
       "<Figure size 432x288 with 1 Axes>"
      ]
     },
     "metadata": {
      "needs_background": "light"
     },
     "output_type": "display_data"
    }
   ],
   "source": [
    "plt.plot(train_loss, label='Training loss')\n",
    "plt.plot(val_loss, label='Test loss')\n",
    "plt.legend()\n",
    "plt.grid()"
   ]
  },
  {
   "cell_type": "code",
   "execution_count": 55,
   "metadata": {},
   "outputs": [
    {
     "data": {
      "image/png": "[encoded data removed]",
      "text/plain": [
       "<Figure size 432x288 with 1 Axes>"
      ]
     },
     "metadata": {
      "needs_background": "light"
     },
     "output_type": "display_data"
    }
   ],
   "source": [
    "plt.plot(accuracy_total_train, label='Training Accuracy')\n",
    "plt.plot(accuracy_total_val, label='Test Accuracy')\n",
    "plt.legend()\n",
    "plt.grid()"
   ]
  },
  {
   "cell_type": "code",
   "execution_count": 103,
   "metadata": {},
   "outputs": [],
   "source": [
    "#saving the model\n",
    "\n",
    "MODEL_PATH = 'model.pth'\n",
    "torch.save(net, MODEL_PATH)"
   ]
  },
  {
   "cell_type": "code",
   "execution_count": 104,
   "metadata": {},
   "outputs": [],
   "source": [
    "net = torch.load(MODEL_PATH)"
   ]
  },
  {
   "cell_type": "code",
   "execution_count": 56,
   "metadata": {},
   "outputs": [],
   "source": [
    "#Evaluation\n",
    "classes = ['Loss','Draw','Win']\n",
    "predict_list = []\n",
    "y_pred = net(X_Test_Data)\n",
    "\n",
    "for i, p in enumerate(y_pred):\n",
    "    y_pred = torch.max(p.data, 0)[1]\n",
    "    predict_list.append(y_pred)\n",
    "stacked_tensor = torch.stack(predict_list)\n",
    "y_test = y_test.cpu()\n"
   ]
  },
  {
   "cell_type": "code",
   "execution_count": 57,
   "metadata": {},
   "outputs": [
    {
     "name": "stdout",
     "output_type": "stream",
     "text": [
      "              precision    recall  f1-score   support\n",
      "\n",
      "        Loss       0.45      0.50      0.48      1189\n",
      "        Draw       0.29      0.30      0.29      1102\n",
      "         Win       0.61      0.55      0.58      1959\n",
      "\n",
      "    accuracy                           0.47      4250\n",
      "   macro avg       0.45      0.45      0.45      4250\n",
      "weighted avg       0.48      0.47      0.48      4250\n",
      "\n"
     ]
    }
   ],
   "source": [
    "print(classification_report(y_test, stacked_tensor, target_names=classes))"
   ]
  },
  {
   "cell_type": "code",
   "execution_count": 58,
   "metadata": {},
   "outputs": [
    {
     "data": {
      "text/plain": [
       "Text(0.5, 15.0, 'Predicted label')"
      ]
     },
     "execution_count": 58,
     "metadata": {},
     "output_type": "execute_result"
    },
    {
     "data": {
      "image/png": "[encoded data removed]",
      "text/plain": [
       "<Figure size 432x288 with 2 Axes>"
      ]
     },
     "metadata": {
      "needs_background": "light"
     },
     "output_type": "display_data"
    }
   ],
   "source": [
    "cm = confusion_matrix(y_test, stacked_tensor)\n",
    "df_cm = pd.DataFrame(cm, index=classes, columns=classes)\n",
    "hmap = sns.heatmap(df_cm, annot=True, fmt=\"d\")\n",
    "hmap.yaxis.set_ticklabels(hmap.yaxis.get_ticklabels(), rotation=0, ha='right')\n",
    "hmap.xaxis.set_ticklabels(hmap.xaxis.get_ticklabels(), rotation=0, ha='right')\n",
    "plt.ylabel('True label')\n",
    "plt.xlabel('Predicted label')"
   ]
  },
  {
   "cell_type": "code",
   "execution_count": 59,
   "metadata": {},
   "outputs": [
    {
     "name": "stdout",
     "output_type": "stream",
     "text": [
      "Accuracy of the network on the 4250 matches: 47 %\n"
     ]
    }
   ],
   "source": [
    "correct = 0\n",
    "total = 0\n",
    "\n",
    "with torch.no_grad():\n",
    "    for i, (x, y) in enumerate(test_loader):\n",
    "        outputs = net(x)\n",
    "        _, predicted = torch.max(outputs.data, 1)\n",
    "        total += y.size(0)\n",
    "        correct += (predicted == y).sum().item()\n",
    "\n",
    "print('Accuracy of the network on the 4250 matches: %d %%' % (\n",
    "    100 * correct / total))\n"
   ]
  },
  {
   "cell_type": "code",
   "execution_count": null,
   "metadata": {},
   "outputs": [],
   "source": []
  }
 ],
 "metadata": {
  "kernelspec": {
   "display_name": "Python 3",
   "language": "python",
   "name": "python3"
  },
  "language_info": {
   "codemirror_mode": {
    "name": "ipython",
    "version": 3
   },
   "file_extension": ".py",
   "mimetype": "text/x-python",
   "name": "python",
   "nbconvert_exporter": "python",
   "pygments_lexer": "ipython3",
   "version": "3.8.5"
  }
 },
 "nbformat": 4,
 "nbformat_minor": 4
}
