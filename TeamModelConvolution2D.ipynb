{
 "cells": [
  {
   "cell_type": "code",
   "execution_count": 1,
   "metadata": {},
   "outputs": [],
   "source": [
    "import pandas as pd\n",
    "import seaborn as sns\n",
    "import numpy as np\n",
    "from tqdm import tqdm\n",
    "from pylab import rcParams\n",
    "import matplotlib.pyplot as plt\n",
    "from matplotlib import rc\n",
    "from torch import nn, optim\n",
    "import torch.nn.functional as F\n",
    "from sklearn.model_selection import train_test_split\n",
    "from sklearn.metrics import confusion_matrix, classification_report\n",
    "import torch\n",
    "\n",
    "df = pd.read_csv('UpdatedMatches.csv')\n",
    "data = []"
   ]
  },
  {
   "cell_type": "code",
   "execution_count": 2,
   "metadata": {},
   "outputs": [
    {
     "name": "stderr",
     "output_type": "stream",
     "text": [
      "C:\\Users\\herath\\anaconda3\\lib\\site-packages\\seaborn\\_decorators.py:36: FutureWarning: Pass the following variable as a keyword arg: x. From version 0.12, the only valid positional argument will be `data`, and passing other arguments without an explicit keyword will result in an error or misinterpretation.\n",
      "  warnings.warn(\n"
     ]
    },
    {
     "data": {
      "text/plain": [
       "<AxesSubplot:xlabel='result', ylabel='count'>"
      ]
     },
     "execution_count": 2,
     "metadata": {},
     "output_type": "execute_result"
    },
    {
     "data": {
      "image/png": "[encoded data removed]",
      "text/plain": [
       "<Figure size 432x288 with 1 Axes>"
      ]
     },
     "metadata": {
      "needs_background": "light"
     },
     "output_type": "display_data"
    }
   ],
   "source": [
    "df['season'].replace({'2008/2009':2008, '2009/2010':2009, '2010/2011':2010, '2011/2012':2011, '2012/2013':2012, '2013/2014':2013, '2014/2015':2014, '2015/2016':2015 },inplace=True)\n",
    "\n",
    "df[\"result\"] = np.nan\n",
    "for index, row in df.iterrows():\n",
    "    if df.loc[index,'home_team_goal'] == df.loc[index,'away_team_goal']:\n",
    "        df.loc[index,'result'] = 1\n",
    "    if df.loc[index,'home_team_goal'] > df.loc[index,'away_team_goal']:\n",
    "        df.loc[index,'result'] = 2\n",
    "    if df.loc[index,'home_team_goal'] < df.loc[index,'away_team_goal']:\n",
    "        df.loc[index,'result'] = 0\n",
    "        \n",
    "sns.countplot(df.result)"
   ]
  },
  {
   "cell_type": "code",
   "execution_count": 3,
   "metadata": {},
   "outputs": [
    {
     "data": {
      "text/plain": [
       "2.0    0.459098\n",
       "0.0    0.288525\n",
       "1.0    0.252377\n",
       "Name: result, dtype: float64"
      ]
     },
     "execution_count": 3,
     "metadata": {},
     "output_type": "execute_result"
    }
   ],
   "source": [
    "df.result.value_counts()/df.shape[0]"
   ]
  },
  {
   "cell_type": "code",
   "execution_count": 4,
   "metadata": {},
   "outputs": [],
   "source": [
    "from tqdm import tqdm\n",
    "\n",
    "def teamfunction( df ):\n",
    "    for index, row in tqdm(df.iterrows()):\n",
    "        \n",
    "        home_team = []\n",
    "        home_team.append(df.loc[index,'buildUpPlaySpeed_home_team'])\n",
    "        home_team.append(df.loc[index,'buildUpPlayDribbling_home_team'])\n",
    "        home_team.append(df.loc[index,'buildUpPlayPassing_home_team'])\n",
    "        home_team.append(df.loc[index,'chanceCreationPassing_home_team'])\n",
    "        home_team.append(df.loc[index,'chanceCreationCrossing_home_team'])\n",
    "        home_team.append(df.loc[index,'chanceCreationShooting_home_team'])\n",
    "        home_team.append(df.loc[index,'defencePressure_home_team'])\n",
    "        home_team.append(df.loc[index,'defenceAggression_home_team'])\n",
    "        home_team.append(df.loc[index,'defenceTeamWidth_home_team'])\n",
    "\n",
    "\n",
    "        away_team = []\n",
    "        away_team.append(df.loc[index,'buildUpPlaySpeed_away_team'])\n",
    "        away_team.append(df.loc[index,'buildUpPlayDribbling_away_team'])\n",
    "        away_team.append(df.loc[index,'buildUpPlayPassing_away_team'])\n",
    "        away_team.append(df.loc[index,'chanceCreationPassing_away_team'])\n",
    "        away_team.append(df.loc[index,'chanceCreationCrossing_away_team'])\n",
    "        away_team.append(df.loc[index,'chanceCreationShooting_away_team'])\n",
    "        away_team.append(df.loc[index,'defencePressure_away_team'])\n",
    "        away_team.append(df.loc[index,'defenceAggression_away_team'])\n",
    "        away_team.append(df.loc[index,'defenceTeamWidth_away_team'])\n",
    "\n",
    "\n",
    "        team_matrix = []\n",
    "        for i in range(9):          \n",
    "            m =[]\n",
    "            for j in range(9):\n",
    "                m.append(home_team[i]-away_team[j])\n",
    "            team_matrix.append(m)\n",
    "\n",
    "        team_details.append(team_matrix)\n"
   ]
  },
  {
   "cell_type": "code",
   "execution_count": 5,
   "metadata": {},
   "outputs": [],
   "source": [
    "X = df.drop(['result','date', 'home_team_goal','away_team_goal'], axis=1)\n",
    "y = df[['result']]\n",
    "RANDOM_SEED =42\n",
    "np.random.seed(RANDOM_SEED)\n",
    "torch.manual_seed(RANDOM_SEED)\n",
    "\n",
    "X_train, X_test, y_train, y_test =\\\n",
    "    train_test_split(X, y, test_size=0.2, random_state=RANDOM_SEED)"
   ]
  },
  {
   "cell_type": "code",
   "execution_count": 6,
   "metadata": {},
   "outputs": [
    {
     "data": {
      "text/plain": [
       "2.0    0.458637\n",
       "0.0    0.290715\n",
       "1.0    0.250647\n",
       "Name: result, dtype: float64"
      ]
     },
     "execution_count": 6,
     "metadata": {},
     "output_type": "execute_result"
    }
   ],
   "source": [
    "y_train.result.value_counts()/y_train.shape[0]"
   ]
  },
  {
   "cell_type": "code",
   "execution_count": 7,
   "metadata": {},
   "outputs": [
    {
     "data": {
      "text/plain": [
       "2.0    7795\n",
       "0.0    4941\n",
       "1.0    4260\n",
       "Name: result, dtype: int64"
      ]
     },
     "execution_count": 7,
     "metadata": {},
     "output_type": "execute_result"
    }
   ],
   "source": [
    "y_train.result.value_counts()"
   ]
  },
  {
   "cell_type": "code",
   "execution_count": 8,
   "metadata": {},
   "outputs": [
    {
     "name": "stderr",
     "output_type": "stream",
     "text": [
      "16996it [00:21, 775.07it/s]\n"
     ]
    }
   ],
   "source": [
    "team_details = []\n",
    "teamfunction( X_train )\n",
    "team_train_data = team_details\n",
    "Team_Train = torch.Tensor(np.array(team_train_data))"
   ]
  },
  {
   "cell_type": "code",
   "execution_count": 9,
   "metadata": {},
   "outputs": [
    {
     "data": {
      "text/plain": [
       "torch.Size([16996, 9, 9])"
      ]
     },
     "execution_count": 9,
     "metadata": {},
     "output_type": "execute_result"
    }
   ],
   "source": [
    "Team_Train.size()"
   ]
  },
  {
   "cell_type": "code",
   "execution_count": 10,
   "metadata": {},
   "outputs": [
    {
     "data": {
      "text/plain": [
       "'torch.FloatTensor'"
      ]
     },
     "execution_count": 10,
     "metadata": {},
     "output_type": "execute_result"
    }
   ],
   "source": [
    "Team_Train.type()"
   ]
  },
  {
   "cell_type": "code",
   "execution_count": 11,
   "metadata": {},
   "outputs": [
    {
     "name": "stderr",
     "output_type": "stream",
     "text": [
      "4250it [00:07, 536.98it/s]\n"
     ]
    }
   ],
   "source": [
    "team_details = []\n",
    "teamfunction( X_test )\n",
    "team_test_data = team_details\n",
    "Team_Test = torch.Tensor(np.array(team_test_data))"
   ]
  },
  {
   "cell_type": "code",
   "execution_count": 12,
   "metadata": {},
   "outputs": [
    {
     "data": {
      "text/plain": [
       "torch.Size([4250, 9, 9])"
      ]
     },
     "execution_count": 12,
     "metadata": {},
     "output_type": "execute_result"
    }
   ],
   "source": [
    "Team_Test.size()"
   ]
  },
  {
   "cell_type": "code",
   "execution_count": 13,
   "metadata": {},
   "outputs": [
    {
     "data": {
      "text/plain": [
       "'torch.FloatTensor'"
      ]
     },
     "execution_count": 13,
     "metadata": {},
     "output_type": "execute_result"
    }
   ],
   "source": [
    "Team_Test.type()"
   ]
  },
  {
   "cell_type": "code",
   "execution_count": 14,
   "metadata": {},
   "outputs": [
    {
     "data": {
      "text/plain": [
       "torch.Size([16996])"
      ]
     },
     "execution_count": 14,
     "metadata": {},
     "output_type": "execute_result"
    }
   ],
   "source": [
    "y_train = torch.squeeze(torch.LongTensor(np.array(y_train)))\n",
    "y_train.size()"
   ]
  },
  {
   "cell_type": "code",
   "execution_count": 15,
   "metadata": {},
   "outputs": [],
   "source": [
    "y_test = torch.squeeze(torch.LongTensor(np.array(y_test)))"
   ]
  },
  {
   "cell_type": "code",
   "execution_count": 16,
   "metadata": {},
   "outputs": [
    {
     "data": {
      "text/plain": [
       "torch.Size([4250])"
      ]
     },
     "execution_count": 16,
     "metadata": {},
     "output_type": "execute_result"
    }
   ],
   "source": [
    "y_test.size()"
   ]
  },
  {
   "cell_type": "code",
   "execution_count": 17,
   "metadata": {},
   "outputs": [
    {
     "data": {
      "text/plain": [
       "torch.Size([4250, 1, 9, 9])"
      ]
     },
     "execution_count": 17,
     "metadata": {},
     "output_type": "execute_result"
    }
   ],
   "source": [
    "Team_Train = Team_Train.unsqueeze(1)\n",
    "Team_Train.size()\n",
    "\n",
    "Team_Test = Team_Test.unsqueeze(1)\n",
    "Team_Test.size()"
   ]
  },
  {
   "cell_type": "code",
   "execution_count": 23,
   "metadata": {},
   "outputs": [],
   "source": [
    "import torch.utils.data as data_utils\n",
    "\n",
    "train = data_utils.TensorDataset(Team_Train, y_train)\n",
    "train_loader = data_utils.DataLoader(train, batch_size=128, shuffle=True)\n",
    "\n",
    "test = data_utils.TensorDataset(Team_Test, y_test)\n",
    "test_loader = data_utils.DataLoader(test, batch_size=128, shuffle=True)"
   ]
  },
  {
   "cell_type": "code",
   "execution_count": 24,
   "metadata": {},
   "outputs": [],
   "source": [
    "import torch\n",
    "from torch import nn\n",
    "from torch import optim\n",
    "import torch.nn.functional as F\n",
    "\n",
    "class Network(nn.Module):\n",
    "\n",
    "    def __init__(self):\n",
    "        super(Network, self).__init__()\n",
    "        # Convolutional Neural Network Layer \n",
    "        self.convolutaional_neural_network_layers = nn.Sequential(\n",
    "                # Here we are defining our 2D convolutional layers\n",
    "                # We can calculate the output size of each convolutional layer using the following formular\n",
    "                # outputOfEachConvLayer = [(in_channel + 2*padding - kernel_size) / stride] + 1\n",
    "                # We have in_channels=19 because our input is a 19 layer #D matrix\n",
    "                nn.Conv2d(in_channels=1, out_channels=4, kernel_size=1, stride=1), # (N, 19, 11, 11) \n",
    "                nn.ReLU(),\n",
    "                nn.BatchNorm2d(4), \n",
    "                # After the first convolutional layer the output of this layer is:\n",
    "                # [(9 + 2*0 - 1)/1] + 1 = 9.  \n",
    "          \n",
    "                # output of our second conv layer\n",
    "                nn.Conv2d(in_channels=4, out_channels=16, kernel_size=1, stride=1),\n",
    "                nn.ReLU(),\n",
    "                nn.BatchNorm2d(16),\n",
    "                # After the second convolutional layer the output of this layer is:\n",
    "                # [(9 + 2*0 - 1)/1] + 1 = 9.\n",
    "                \n",
    "                # output of our third conv layer\n",
    "                nn.Conv2d(in_channels=16, out_channels=64, kernel_size=1, stride=1),\n",
    "                nn.ReLU(),\n",
    "                nn.BatchNorm2d(64),\n",
    "                # After the second convolutional layer the output of this layer is:\n",
    "                # [(9 + 2*0 - 1)/1] + 1 = 9.\n",
    "            \n",
    "                #Average pooling layer\n",
    "                nn.AvgPool2d(9, stride=1) \n",
    "                #(N, 64, 11, 11) --> (N, 64, 1, 1)\n",
    "            \n",
    "        )\n",
    "\n",
    "        # Linear layer\n",
    "        self.linear_layers = nn.Sequential(\n",
    "                # We have the output_channel=64 of our second conv layer\n",
    "                nn.Linear(in_features=64, out_features=64),          \n",
    "                nn.ReLU(),\n",
    "                #apply dropout 0.2 \n",
    "                nn.Dropout(p=0.2),\n",
    "                nn.Linear(in_features=64, out_features=64),          \n",
    "                nn.ReLU(),\n",
    "                nn.Linear(in_features=64, out_features=64),          \n",
    "                nn.ReLU(),\n",
    "                nn.Linear(in_features=64, out_features=3)\n",
    "        )\n",
    "\n",
    "    # Defining the forward pass \n",
    "    def forward(self, x):\n",
    "        x = self.convolutaional_neural_network_layers(x)\n",
    "        # After we get the output of our convolutional layer we must flatten it or rearrange the output into a vector\n",
    "        x = x.view(x.size(0), -1)\n",
    "        # Then pass it through the linear layer\n",
    "        x = self.linear_layers(x)\n",
    "        return x"
   ]
  },
  {
   "cell_type": "code",
   "execution_count": 25,
   "metadata": {},
   "outputs": [],
   "source": [
    "#Doing it on GPU\n",
    "device = torch.device(\"cuda:0\" if torch.cuda.is_available() else \"cpu\")\n",
    "\n",
    "model = Network()\n",
    "model.to(device)\n",
    "\n",
    "Team_Train = Team_Train.to(device)\n",
    "Team_Test = Team_Test.to(device)\n",
    "\n",
    "y_train = y_train.to(device)\n",
    "y_test = y_test.to(device)"
   ]
  },
  {
   "cell_type": "code",
   "execution_count": 26,
   "metadata": {},
   "outputs": [],
   "source": [
    "optimizer = optim.SGD(model.parameters(), lr=0.001)\n",
    "weights = [1/4941, 1/4260, 1/7795 ]\n",
    "class_weights = torch.FloatTensor(weights)\n",
    "criterion = nn.CrossEntropyLoss(weight=class_weights)"
   ]
  },
  {
   "cell_type": "code",
   "execution_count": 27,
   "metadata": {},
   "outputs": [
    {
     "name": "stdout",
     "output_type": "stream",
     "text": [
      "Epoch: 0/250   Training loss: 1.0991   Testing loss: 1.0987   Train accuracy: 0.2510   Test accuracy: 0.2591   Train F1 Score: 0.1084   Test F1 Score: 0.1077  \n",
      "Epoch: 1/250   Training loss: 1.0990   Testing loss: 1.0985   Train accuracy: 0.2514   Test accuracy: 0.2588   Train F1 Score: 0.1109   Test F1 Score: 0.1085  \n",
      "Epoch: 2/250   Training loss: 1.0990   Testing loss: 1.0985   Train accuracy: 0.2509   Test accuracy: 0.2591   Train F1 Score: 0.1139   Test F1 Score: 0.1103  \n",
      "Epoch: 3/250   Training loss: 1.0990   Testing loss: 1.0986   Train accuracy: 0.2508   Test accuracy: 0.2598   Train F1 Score: 0.1170   Test F1 Score: 0.1118  \n",
      "Epoch: 4/250   Training loss: 1.0990   Testing loss: 1.0987   Train accuracy: 0.2525   Test accuracy: 0.2612   Train F1 Score: 0.1217   Test F1 Score: 0.1172  \n",
      "Epoch: 5/250   Training loss: 1.0989   Testing loss: 1.0987   Train accuracy: 0.2524   Test accuracy: 0.2614   Train F1 Score: 0.1228   Test F1 Score: 0.1188  \n",
      "Epoch: 6/250   Training loss: 1.0989   Testing loss: 1.0986   Train accuracy: 0.2536   Test accuracy: 0.2607   Train F1 Score: 0.1271   Test F1 Score: 0.1165  \n",
      "Epoch: 7/250   Training loss: 1.0989   Testing loss: 1.0986   Train accuracy: 0.2510   Test accuracy: 0.2621   Train F1 Score: 0.1336   Test F1 Score: 0.1204  \n",
      "Epoch: 8/250   Training loss: 1.0989   Testing loss: 1.0985   Train accuracy: 0.2533   Test accuracy: 0.2626   Train F1 Score: 0.1390   Test F1 Score: 0.1306  \n",
      "Epoch: 9/250   Training loss: 1.0989   Testing loss: 1.0986   Train accuracy: 0.2536   Test accuracy: 0.2647   Train F1 Score: 0.1459   Test F1 Score: 0.1339  \n",
      "Epoch: 10/250   Training loss: 1.0988   Testing loss: 1.0986   Train accuracy: 0.2568   Test accuracy: 0.2642   Train F1 Score: 0.1531   Test F1 Score: 0.1317  \n",
      "Epoch: 11/250   Training loss: 1.0989   Testing loss: 1.0986   Train accuracy: 0.2550   Test accuracy: 0.2619   Train F1 Score: 0.1544   Test F1 Score: 0.1378  \n",
      "Epoch: 12/250   Training loss: 1.0988   Testing loss: 1.0987   Train accuracy: 0.2559   Test accuracy: 0.2614   Train F1 Score: 0.1491   Test F1 Score: 0.1465  \n",
      "Epoch: 13/250   Training loss: 1.0987   Testing loss: 1.0986   Train accuracy: 0.2575   Test accuracy: 0.2595   Train F1 Score: 0.1580   Test F1 Score: 0.1399  \n",
      "Epoch: 14/250   Training loss: 1.0989   Testing loss: 1.0986   Train accuracy: 0.2542   Test accuracy: 0.2607   Train F1 Score: 0.1669   Test F1 Score: 0.1449  \n",
      "Epoch: 15/250   Training loss: 1.0988   Testing loss: 1.0986   Train accuracy: 0.2542   Test accuracy: 0.2621   Train F1 Score: 0.1702   Test F1 Score: 0.1460  \n",
      "Epoch: 16/250   Training loss: 1.0988   Testing loss: 1.0987   Train accuracy: 0.2578   Test accuracy: 0.2616   Train F1 Score: 0.1801   Test F1 Score: 0.1606  \n",
      "Epoch: 17/250   Training loss: 1.0988   Testing loss: 1.0986   Train accuracy: 0.2588   Test accuracy: 0.2619   Train F1 Score: 0.1883   Test F1 Score: 0.1621  \n",
      "Epoch: 18/250   Training loss: 1.0987   Testing loss: 1.0987   Train accuracy: 0.2653   Test accuracy: 0.2645   Train F1 Score: 0.2020   Test F1 Score: 0.1735  \n",
      "Epoch: 19/250   Training loss: 1.0987   Testing loss: 1.0986   Train accuracy: 0.2662   Test accuracy: 0.2666   Train F1 Score: 0.2136   Test F1 Score: 0.1926  \n",
      "Epoch: 20/250   Training loss: 1.0988   Testing loss: 1.0986   Train accuracy: 0.2678   Test accuracy: 0.2680   Train F1 Score: 0.2205   Test F1 Score: 0.1932  \n",
      "Epoch: 21/250   Training loss: 1.0987   Testing loss: 1.0986   Train accuracy: 0.2722   Test accuracy: 0.2696   Train F1 Score: 0.2201   Test F1 Score: 0.2123  \n",
      "Epoch: 22/250   Training loss: 1.0987   Testing loss: 1.0986   Train accuracy: 0.2780   Test accuracy: 0.2729   Train F1 Score: 0.2373   Test F1 Score: 0.2275  \n",
      "Epoch: 23/250   Training loss: 1.0987   Testing loss: 1.0986   Train accuracy: 0.2788   Test accuracy: 0.2776   Train F1 Score: 0.2546   Test F1 Score: 0.2234  \n",
      "Epoch: 24/250   Training loss: 1.0987   Testing loss: 1.0986   Train accuracy: 0.2857   Test accuracy: 0.2791   Train F1 Score: 0.2573   Test F1 Score: 0.2485  \n",
      "Epoch: 25/250   Training loss: 1.0987   Testing loss: 1.0986   Train accuracy: 0.2841   Test accuracy: 0.2845   Train F1 Score: 0.2653   Test F1 Score: 0.2630  \n",
      "Epoch: 26/250   Training loss: 1.0988   Testing loss: 1.0986   Train accuracy: 0.2842   Test accuracy: 0.2868   Train F1 Score: 0.2743   Test F1 Score: 0.2727  \n",
      "Epoch: 27/250   Training loss: 1.0987   Testing loss: 1.0986   Train accuracy: 0.2962   Test accuracy: 0.2927   Train F1 Score: 0.2829   Test F1 Score: 0.2975  \n",
      "Epoch: 28/250   Training loss: 1.0987   Testing loss: 1.0986   Train accuracy: 0.2956   Test accuracy: 0.2955   Train F1 Score: 0.2818   Test F1 Score: 0.2853  \n",
      "Epoch: 29/250   Training loss: 1.0988   Testing loss: 1.0986   Train accuracy: 0.3001   Test accuracy: 0.3012   Train F1 Score: 0.3074   Test F1 Score: 0.2849  \n",
      "Epoch: 30/250   Training loss: 1.0988   Testing loss: 1.0986   Train accuracy: 0.3000   Test accuracy: 0.3059   Train F1 Score: 0.3034   Test F1 Score: 0.3030  \n",
      "Epoch: 31/250   Training loss: 1.0987   Testing loss: 1.0987   Train accuracy: 0.3111   Test accuracy: 0.3082   Train F1 Score: 0.3116   Test F1 Score: 0.3147  \n",
      "Epoch: 32/250   Training loss: 1.0987   Testing loss: 1.0986   Train accuracy: 0.3104   Test accuracy: 0.3162   Train F1 Score: 0.3164   Test F1 Score: 0.3133  \n",
      "Epoch: 33/250   Training loss: 1.0987   Testing loss: 1.0986   Train accuracy: 0.3135   Test accuracy: 0.3259   Train F1 Score: 0.3258   Test F1 Score: 0.3364  \n",
      "Epoch: 34/250   Training loss: 1.0987   Testing loss: 1.0986   Train accuracy: 0.3161   Test accuracy: 0.3348   Train F1 Score: 0.3251   Test F1 Score: 0.3412  \n",
      "Epoch: 35/250   Training loss: 1.0987   Testing loss: 1.0986   Train accuracy: 0.3183   Test accuracy: 0.3362   Train F1 Score: 0.3266   Test F1 Score: 0.3264  \n",
      "Epoch: 36/250   Training loss: 1.0987   Testing loss: 1.0986   Train accuracy: 0.3245   Test accuracy: 0.3416   Train F1 Score: 0.3421   Test F1 Score: 0.3480  \n",
      "Epoch: 37/250   Training loss: 1.0987   Testing loss: 1.0986   Train accuracy: 0.3225   Test accuracy: 0.3431   Train F1 Score: 0.3361   Test F1 Score: 0.3397  \n",
      "Epoch: 38/250   Training loss: 1.0987   Testing loss: 1.0986   Train accuracy: 0.3337   Test accuracy: 0.3471   Train F1 Score: 0.3374   Test F1 Score: 0.3561  \n",
      "Epoch: 39/250   Training loss: 1.0986   Testing loss: 1.0986   Train accuracy: 0.3364   Test accuracy: 0.3515   Train F1 Score: 0.3414   Test F1 Score: 0.3551  \n",
      "Epoch: 40/250   Training loss: 1.0986   Testing loss: 1.0987   Train accuracy: 0.3428   Test accuracy: 0.3551   Train F1 Score: 0.3511   Test F1 Score: 0.3654  \n",
      "Epoch: 41/250   Training loss: 1.0987   Testing loss: 1.0986   Train accuracy: 0.3453   Test accuracy: 0.3539   Train F1 Score: 0.3486   Test F1 Score: 0.3578  \n",
      "Epoch: 42/250   Training loss: 1.0986   Testing loss: 1.0986   Train accuracy: 0.3391   Test accuracy: 0.3588   Train F1 Score: 0.3423   Test F1 Score: 0.3604  \n",
      "Epoch: 43/250   Training loss: 1.0987   Testing loss: 1.0986   Train accuracy: 0.3382   Test accuracy: 0.3600   Train F1 Score: 0.3477   Test F1 Score: 0.3570  \n",
      "Epoch: 44/250   Training loss: 1.0987   Testing loss: 1.0986   Train accuracy: 0.3374   Test accuracy: 0.3680   Train F1 Score: 0.3454   Test F1 Score: 0.3586  \n",
      "Epoch: 45/250   Training loss: 1.0986   Testing loss: 1.0986   Train accuracy: 0.3493   Test accuracy: 0.3656   Train F1 Score: 0.3551   Test F1 Score: 0.3651  \n",
      "Epoch: 46/250   Training loss: 1.0987   Testing loss: 1.0986   Train accuracy: 0.3550   Test accuracy: 0.3708   Train F1 Score: 0.3574   Test F1 Score: 0.3570  \n",
      "Epoch: 47/250   Training loss: 1.0987   Testing loss: 1.0986   Train accuracy: 0.3430   Test accuracy: 0.3769   Train F1 Score: 0.3537   Test F1 Score: 0.3661  \n",
      "Epoch: 48/250   Training loss: 1.0986   Testing loss: 1.0986   Train accuracy: 0.3559   Test accuracy: 0.3736   Train F1 Score: 0.3541   Test F1 Score: 0.3601  \n",
      "Epoch: 49/250   Training loss: 1.0987   Testing loss: 1.0986   Train accuracy: 0.3490   Test accuracy: 0.3774   Train F1 Score: 0.3603   Test F1 Score: 0.3750  \n",
      "Epoch: 50/250   Training loss: 1.0986   Testing loss: 1.0986   Train accuracy: 0.3568   Test accuracy: 0.3835   Train F1 Score: 0.3544   Test F1 Score: 0.3631  \n"
     ]
    },
    {
     "name": "stdout",
     "output_type": "stream",
     "text": [
      "Epoch: 51/250   Training loss: 1.0986   Testing loss: 1.0986   Train accuracy: 0.3555   Test accuracy: 0.3835   Train F1 Score: 0.3560   Test F1 Score: 0.3601  \n",
      "Epoch: 52/250   Training loss: 1.0986   Testing loss: 1.0986   Train accuracy: 0.3561   Test accuracy: 0.3856   Train F1 Score: 0.3571   Test F1 Score: 0.3653  \n",
      "Epoch: 53/250   Training loss: 1.0987   Testing loss: 1.0986   Train accuracy: 0.3571   Test accuracy: 0.3871   Train F1 Score: 0.3594   Test F1 Score: 0.3476  \n",
      "Epoch: 54/250   Training loss: 1.0986   Testing loss: 1.0986   Train accuracy: 0.3520   Test accuracy: 0.3901   Train F1 Score: 0.3542   Test F1 Score: 0.3691  \n",
      "Epoch: 55/250   Training loss: 1.0986   Testing loss: 1.0986   Train accuracy: 0.3674   Test accuracy: 0.3906   Train F1 Score: 0.3656   Test F1 Score: 0.3590  \n",
      "Epoch: 56/250   Training loss: 1.0986   Testing loss: 1.0986   Train accuracy: 0.3697   Test accuracy: 0.3951   Train F1 Score: 0.3595   Test F1 Score: 0.3613  \n",
      "Epoch: 57/250   Training loss: 1.0986   Testing loss: 1.0986   Train accuracy: 0.3619   Test accuracy: 0.3936   Train F1 Score: 0.3610   Test F1 Score: 0.3661  \n",
      "Epoch: 58/250   Training loss: 1.0986   Testing loss: 1.0986   Train accuracy: 0.3669   Test accuracy: 0.4002   Train F1 Score: 0.3613   Test F1 Score: 0.3632  \n",
      "Epoch: 59/250   Training loss: 1.0986   Testing loss: 1.0985   Train accuracy: 0.3649   Test accuracy: 0.4026   Train F1 Score: 0.3644   Test F1 Score: 0.3560  \n",
      "Epoch: 60/250   Training loss: 1.0986   Testing loss: 1.0985   Train accuracy: 0.3670   Test accuracy: 0.4028   Train F1 Score: 0.3586   Test F1 Score: 0.3651  \n",
      "Epoch: 61/250   Training loss: 1.0986   Testing loss: 1.0985   Train accuracy: 0.3690   Test accuracy: 0.4031   Train F1 Score: 0.3616   Test F1 Score: 0.3607  \n",
      "Epoch: 62/250   Training loss: 1.0986   Testing loss: 1.0985   Train accuracy: 0.3722   Test accuracy: 0.4068   Train F1 Score: 0.3555   Test F1 Score: 0.3618  \n",
      "Epoch: 63/250   Training loss: 1.0986   Testing loss: 1.0985   Train accuracy: 0.3767   Test accuracy: 0.4033   Train F1 Score: 0.3602   Test F1 Score: 0.3721  \n",
      "Epoch: 64/250   Training loss: 1.0985   Testing loss: 1.0985   Train accuracy: 0.3817   Test accuracy: 0.4031   Train F1 Score: 0.3577   Test F1 Score: 0.3666  \n",
      "Epoch: 65/250   Training loss: 1.0986   Testing loss: 1.0986   Train accuracy: 0.3726   Test accuracy: 0.4019   Train F1 Score: 0.3639   Test F1 Score: 0.3619  \n",
      "Epoch: 66/250   Training loss: 1.0986   Testing loss: 1.0985   Train accuracy: 0.3685   Test accuracy: 0.4021   Train F1 Score: 0.3604   Test F1 Score: 0.3677  \n",
      "Epoch: 67/250   Training loss: 1.0985   Testing loss: 1.0985   Train accuracy: 0.3780   Test accuracy: 0.4026   Train F1 Score: 0.3611   Test F1 Score: 0.3661  \n",
      "Epoch: 68/250   Training loss: 1.0986   Testing loss: 1.0985   Train accuracy: 0.3780   Test accuracy: 0.4052   Train F1 Score: 0.3640   Test F1 Score: 0.3676  \n",
      "Epoch: 69/250   Training loss: 1.0986   Testing loss: 1.0986   Train accuracy: 0.3771   Test accuracy: 0.4028   Train F1 Score: 0.3628   Test F1 Score: 0.3541  \n",
      "Epoch: 70/250   Training loss: 1.0985   Testing loss: 1.0985   Train accuracy: 0.3766   Test accuracy: 0.4045   Train F1 Score: 0.3597   Test F1 Score: 0.3816  \n",
      "Epoch: 71/250   Training loss: 1.0986   Testing loss: 1.0986   Train accuracy: 0.3751   Test accuracy: 0.4054   Train F1 Score: 0.3547   Test F1 Score: 0.3628  \n",
      "Epoch: 72/250   Training loss: 1.0986   Testing loss: 1.0986   Train accuracy: 0.3753   Test accuracy: 0.4019   Train F1 Score: 0.3584   Test F1 Score: 0.3704  \n",
      "Epoch: 73/250   Training loss: 1.0985   Testing loss: 1.0986   Train accuracy: 0.3746   Test accuracy: 0.3995   Train F1 Score: 0.3624   Test F1 Score: 0.3636  \n",
      "Epoch: 74/250   Training loss: 1.0986   Testing loss: 1.0986   Train accuracy: 0.3753   Test accuracy: 0.4040   Train F1 Score: 0.3602   Test F1 Score: 0.3609  \n",
      "Epoch: 75/250   Training loss: 1.0985   Testing loss: 1.0987   Train accuracy: 0.3786   Test accuracy: 0.4019   Train F1 Score: 0.3615   Test F1 Score: 0.3497  \n",
      "Epoch: 76/250   Training loss: 1.0986   Testing loss: 1.0985   Train accuracy: 0.3803   Test accuracy: 0.4066   Train F1 Score: 0.3632   Test F1 Score: 0.3558  \n",
      "Epoch: 77/250   Training loss: 1.0986   Testing loss: 1.0985   Train accuracy: 0.3790   Test accuracy: 0.4108   Train F1 Score: 0.3608   Test F1 Score: 0.3645  \n",
      "Epoch: 78/250   Training loss: 1.0985   Testing loss: 1.0985   Train accuracy: 0.3761   Test accuracy: 0.4111   Train F1 Score: 0.3614   Test F1 Score: 0.3623  \n",
      "Epoch: 79/250   Training loss: 1.0985   Testing loss: 1.0985   Train accuracy: 0.3826   Test accuracy: 0.4045   Train F1 Score: 0.3660   Test F1 Score: 0.3594  \n",
      "Epoch: 80/250   Training loss: 1.0985   Testing loss: 1.0986   Train accuracy: 0.3828   Test accuracy: 0.4054   Train F1 Score: 0.3630   Test F1 Score: 0.3657  \n",
      "Epoch: 81/250   Training loss: 1.0986   Testing loss: 1.0986   Train accuracy: 0.3784   Test accuracy: 0.4054   Train F1 Score: 0.3595   Test F1 Score: 0.3628  \n",
      "Epoch: 82/250   Training loss: 1.0986   Testing loss: 1.0986   Train accuracy: 0.3862   Test accuracy: 0.4075   Train F1 Score: 0.3633   Test F1 Score: 0.3501  \n",
      "Epoch: 83/250   Training loss: 1.0985   Testing loss: 1.0986   Train accuracy: 0.3790   Test accuracy: 0.4052   Train F1 Score: 0.3550   Test F1 Score: 0.3677  \n",
      "Epoch: 84/250   Training loss: 1.0985   Testing loss: 1.0986   Train accuracy: 0.3771   Test accuracy: 0.4151   Train F1 Score: 0.3559   Test F1 Score: 0.3590  \n",
      "Epoch: 85/250   Training loss: 1.0985   Testing loss: 1.0985   Train accuracy: 0.3829   Test accuracy: 0.4136   Train F1 Score: 0.3654   Test F1 Score: 0.3572  \n",
      "Epoch: 86/250   Training loss: 1.0985   Testing loss: 1.0985   Train accuracy: 0.3849   Test accuracy: 0.4155   Train F1 Score: 0.3647   Test F1 Score: 0.3533  \n",
      "Epoch: 87/250   Training loss: 1.0985   Testing loss: 1.0985   Train accuracy: 0.3870   Test accuracy: 0.4151   Train F1 Score: 0.3592   Test F1 Score: 0.3648  \n",
      "Epoch: 88/250   Training loss: 1.0985   Testing loss: 1.0985   Train accuracy: 0.3868   Test accuracy: 0.4136   Train F1 Score: 0.3594   Test F1 Score: 0.3602  \n",
      "Epoch: 89/250   Training loss: 1.0985   Testing loss: 1.0985   Train accuracy: 0.3863   Test accuracy: 0.4113   Train F1 Score: 0.3644   Test F1 Score: 0.3525  \n",
      "Epoch: 90/250   Training loss: 1.0985   Testing loss: 1.0985   Train accuracy: 0.3897   Test accuracy: 0.4139   Train F1 Score: 0.3649   Test F1 Score: 0.3551  \n",
      "Epoch: 91/250   Training loss: 1.0984   Testing loss: 1.0985   Train accuracy: 0.3887   Test accuracy: 0.4089   Train F1 Score: 0.3703   Test F1 Score: 0.3569  \n",
      "Epoch: 92/250   Training loss: 1.0985   Testing loss: 1.0986   Train accuracy: 0.3780   Test accuracy: 0.4106   Train F1 Score: 0.3635   Test F1 Score: 0.3678  \n",
      "Epoch: 93/250   Training loss: 1.0985   Testing loss: 1.0985   Train accuracy: 0.3848   Test accuracy: 0.4082   Train F1 Score: 0.3605   Test F1 Score: 0.3592  \n",
      "Epoch: 94/250   Training loss: 1.0985   Testing loss: 1.0986   Train accuracy: 0.3808   Test accuracy: 0.4087   Train F1 Score: 0.3624   Test F1 Score: 0.3596  \n",
      "Epoch: 95/250   Training loss: 1.0985   Testing loss: 1.0986   Train accuracy: 0.3866   Test accuracy: 0.4089   Train F1 Score: 0.3622   Test F1 Score: 0.3670  \n",
      "Epoch: 96/250   Training loss: 1.0985   Testing loss: 1.0986   Train accuracy: 0.3826   Test accuracy: 0.4096   Train F1 Score: 0.3607   Test F1 Score: 0.3655  \n",
      "Epoch: 97/250   Training loss: 1.0985   Testing loss: 1.0985   Train accuracy: 0.3834   Test accuracy: 0.4165   Train F1 Score: 0.3633   Test F1 Score: 0.3615  \n",
      "Epoch: 98/250   Training loss: 1.0984   Testing loss: 1.0985   Train accuracy: 0.3873   Test accuracy: 0.4165   Train F1 Score: 0.3656   Test F1 Score: 0.3669  \n",
      "Epoch: 99/250   Training loss: 1.0984   Testing loss: 1.0985   Train accuracy: 0.3861   Test accuracy: 0.4146   Train F1 Score: 0.3634   Test F1 Score: 0.3623  \n",
      "Epoch: 100/250   Training loss: 1.0985   Testing loss: 1.0986   Train accuracy: 0.3906   Test accuracy: 0.4089   Train F1 Score: 0.3666   Test F1 Score: 0.3636  \n",
      "Epoch: 101/250   Training loss: 1.0984   Testing loss: 1.0985   Train accuracy: 0.3916   Test accuracy: 0.4151   Train F1 Score: 0.3644   Test F1 Score: 0.3652  \n"
     ]
    },
    {
     "name": "stdout",
     "output_type": "stream",
     "text": [
      "Epoch: 102/250   Training loss: 1.0985   Testing loss: 1.0985   Train accuracy: 0.3849   Test accuracy: 0.4089   Train F1 Score: 0.3671   Test F1 Score: 0.3662  \n",
      "Epoch: 103/250   Training loss: 1.0984   Testing loss: 1.0985   Train accuracy: 0.3892   Test accuracy: 0.4151   Train F1 Score: 0.3644   Test F1 Score: 0.3640  \n",
      "Epoch: 104/250   Training loss: 1.0985   Testing loss: 1.0985   Train accuracy: 0.3854   Test accuracy: 0.4127   Train F1 Score: 0.3642   Test F1 Score: 0.3752  \n",
      "Epoch: 105/250   Training loss: 1.0984   Testing loss: 1.0984   Train accuracy: 0.3871   Test accuracy: 0.4136   Train F1 Score: 0.3643   Test F1 Score: 0.3611  \n",
      "Epoch: 106/250   Training loss: 1.0985   Testing loss: 1.0985   Train accuracy: 0.3836   Test accuracy: 0.4155   Train F1 Score: 0.3662   Test F1 Score: 0.3627  \n",
      "Epoch: 107/250   Training loss: 1.0984   Testing loss: 1.0984   Train accuracy: 0.3857   Test accuracy: 0.4141   Train F1 Score: 0.3599   Test F1 Score: 0.3695  \n",
      "Epoch: 108/250   Training loss: 1.0984   Testing loss: 1.0984   Train accuracy: 0.3884   Test accuracy: 0.4132   Train F1 Score: 0.3635   Test F1 Score: 0.3550  \n",
      "Epoch: 109/250   Training loss: 1.0984   Testing loss: 1.0985   Train accuracy: 0.3881   Test accuracy: 0.4146   Train F1 Score: 0.3600   Test F1 Score: 0.3561  \n",
      "Epoch: 110/250   Training loss: 1.0985   Testing loss: 1.0984   Train accuracy: 0.3854   Test accuracy: 0.4176   Train F1 Score: 0.3662   Test F1 Score: 0.3646  \n",
      "Epoch: 111/250   Training loss: 1.0984   Testing loss: 1.0984   Train accuracy: 0.3887   Test accuracy: 0.4139   Train F1 Score: 0.3693   Test F1 Score: 0.3578  \n",
      "Epoch: 112/250   Training loss: 1.0984   Testing loss: 1.0985   Train accuracy: 0.3862   Test accuracy: 0.4144   Train F1 Score: 0.3628   Test F1 Score: 0.3604  \n",
      "Epoch: 113/250   Training loss: 1.0985   Testing loss: 1.0984   Train accuracy: 0.3896   Test accuracy: 0.4125   Train F1 Score: 0.3653   Test F1 Score: 0.3610  \n",
      "Epoch: 114/250   Training loss: 1.0984   Testing loss: 1.0984   Train accuracy: 0.3897   Test accuracy: 0.4132   Train F1 Score: 0.3641   Test F1 Score: 0.3684  \n",
      "Epoch: 115/250   Training loss: 1.0985   Testing loss: 1.0984   Train accuracy: 0.3870   Test accuracy: 0.4125   Train F1 Score: 0.3671   Test F1 Score: 0.3581  \n",
      "Epoch: 116/250   Training loss: 1.0984   Testing loss: 1.0984   Train accuracy: 0.3831   Test accuracy: 0.4127   Train F1 Score: 0.3614   Test F1 Score: 0.3592  \n",
      "Epoch: 117/250   Training loss: 1.0984   Testing loss: 1.0985   Train accuracy: 0.3884   Test accuracy: 0.4094   Train F1 Score: 0.3682   Test F1 Score: 0.3526  \n",
      "Epoch: 118/250   Training loss: 1.0984   Testing loss: 1.0985   Train accuracy: 0.3923   Test accuracy: 0.4118   Train F1 Score: 0.3652   Test F1 Score: 0.3677  \n",
      "Epoch: 119/250   Training loss: 1.0984   Testing loss: 1.0985   Train accuracy: 0.3900   Test accuracy: 0.4106   Train F1 Score: 0.3630   Test F1 Score: 0.3506  \n",
      "Epoch: 120/250   Training loss: 1.0984   Testing loss: 1.0985   Train accuracy: 0.3867   Test accuracy: 0.4104   Train F1 Score: 0.3642   Test F1 Score: 0.3699  \n",
      "Epoch: 121/250   Training loss: 1.0984   Testing loss: 1.0985   Train accuracy: 0.3906   Test accuracy: 0.4141   Train F1 Score: 0.3638   Test F1 Score: 0.3631  \n",
      "Epoch: 122/250   Training loss: 1.0984   Testing loss: 1.0984   Train accuracy: 0.3833   Test accuracy: 0.4146   Train F1 Score: 0.3648   Test F1 Score: 0.3671  \n",
      "Epoch: 123/250   Training loss: 1.0984   Testing loss: 1.0985   Train accuracy: 0.3956   Test accuracy: 0.4049   Train F1 Score: 0.3645   Test F1 Score: 0.3705  \n",
      "Epoch: 124/250   Training loss: 1.0984   Testing loss: 1.0985   Train accuracy: 0.3910   Test accuracy: 0.4139   Train F1 Score: 0.3730   Test F1 Score: 0.3558  \n",
      "Epoch: 125/250   Training loss: 1.0984   Testing loss: 1.0984   Train accuracy: 0.3880   Test accuracy: 0.4160   Train F1 Score: 0.3630   Test F1 Score: 0.3627  \n",
      "Epoch: 126/250   Training loss: 1.0983   Testing loss: 1.0985   Train accuracy: 0.3915   Test accuracy: 0.4132   Train F1 Score: 0.3663   Test F1 Score: 0.3575  \n",
      "Epoch: 127/250   Training loss: 1.0984   Testing loss: 1.0984   Train accuracy: 0.3878   Test accuracy: 0.4141   Train F1 Score: 0.3672   Test F1 Score: 0.3617  \n",
      "Epoch: 128/250   Training loss: 1.0984   Testing loss: 1.0984   Train accuracy: 0.3887   Test accuracy: 0.4106   Train F1 Score: 0.3616   Test F1 Score: 0.3584  \n",
      "Epoch: 129/250   Training loss: 1.0984   Testing loss: 1.0985   Train accuracy: 0.3909   Test accuracy: 0.4089   Train F1 Score: 0.3647   Test F1 Score: 0.3604  \n",
      "Epoch: 130/250   Training loss: 1.0985   Testing loss: 1.0985   Train accuracy: 0.3890   Test accuracy: 0.4096   Train F1 Score: 0.3684   Test F1 Score: 0.3631  \n",
      "Epoch: 131/250   Training loss: 1.0983   Testing loss: 1.0984   Train accuracy: 0.3941   Test accuracy: 0.4118   Train F1 Score: 0.3638   Test F1 Score: 0.3712  \n",
      "Epoch: 132/250   Training loss: 1.0984   Testing loss: 1.0984   Train accuracy: 0.3946   Test accuracy: 0.4115   Train F1 Score: 0.3622   Test F1 Score: 0.3669  \n",
      "Epoch: 133/250   Training loss: 1.0984   Testing loss: 1.0984   Train accuracy: 0.3879   Test accuracy: 0.4120   Train F1 Score: 0.3670   Test F1 Score: 0.3530  \n",
      "Epoch: 134/250   Training loss: 1.0984   Testing loss: 1.0984   Train accuracy: 0.3955   Test accuracy: 0.4129   Train F1 Score: 0.3612   Test F1 Score: 0.3605  \n",
      "Epoch: 135/250   Training loss: 1.0983   Testing loss: 1.0985   Train accuracy: 0.3945   Test accuracy: 0.4035   Train F1 Score: 0.3603   Test F1 Score: 0.3625  \n",
      "Epoch: 136/250   Training loss: 1.0984   Testing loss: 1.0985   Train accuracy: 0.3973   Test accuracy: 0.4038   Train F1 Score: 0.3672   Test F1 Score: 0.3569  \n",
      "Epoch: 137/250   Training loss: 1.0984   Testing loss: 1.0985   Train accuracy: 0.3823   Test accuracy: 0.4054   Train F1 Score: 0.3628   Test F1 Score: 0.3565  \n",
      "Epoch: 138/250   Training loss: 1.0983   Testing loss: 1.0984   Train accuracy: 0.3863   Test accuracy: 0.4049   Train F1 Score: 0.3687   Test F1 Score: 0.3676  \n",
      "Epoch: 139/250   Training loss: 1.0983   Testing loss: 1.0985   Train accuracy: 0.3941   Test accuracy: 0.4113   Train F1 Score: 0.3625   Test F1 Score: 0.3528  \n",
      "Epoch: 140/250   Training loss: 1.0984   Testing loss: 1.0985   Train accuracy: 0.3913   Test accuracy: 0.3981   Train F1 Score: 0.3649   Test F1 Score: 0.3442  \n",
      "Epoch: 141/250   Training loss: 1.0984   Testing loss: 1.0985   Train accuracy: 0.3874   Test accuracy: 0.4031   Train F1 Score: 0.3670   Test F1 Score: 0.3556  \n",
      "Epoch: 142/250   Training loss: 1.0983   Testing loss: 1.0985   Train accuracy: 0.3930   Test accuracy: 0.4125   Train F1 Score: 0.3627   Test F1 Score: 0.3556  \n",
      "Epoch: 143/250   Training loss: 1.0983   Testing loss: 1.0984   Train accuracy: 0.3925   Test accuracy: 0.4153   Train F1 Score: 0.3615   Test F1 Score: 0.3575  \n",
      "Epoch: 144/250   Training loss: 1.0983   Testing loss: 1.0985   Train accuracy: 0.3885   Test accuracy: 0.4104   Train F1 Score: 0.3625   Test F1 Score: 0.3610  \n",
      "Epoch: 145/250   Training loss: 1.0983   Testing loss: 1.0984   Train accuracy: 0.3877   Test accuracy: 0.4054   Train F1 Score: 0.3595   Test F1 Score: 0.3550  \n",
      "Epoch: 146/250   Training loss: 1.0983   Testing loss: 1.0984   Train accuracy: 0.3982   Test accuracy: 0.4085   Train F1 Score: 0.3653   Test F1 Score: 0.3671  \n",
      "Epoch: 147/250   Training loss: 1.0983   Testing loss: 1.0985   Train accuracy: 0.3944   Test accuracy: 0.4099   Train F1 Score: 0.3643   Test F1 Score: 0.3502  \n",
      "Epoch: 148/250   Training loss: 1.0983   Testing loss: 1.0984   Train accuracy: 0.3969   Test accuracy: 0.4115   Train F1 Score: 0.3574   Test F1 Score: 0.3621  \n",
      "Epoch: 149/250   Training loss: 1.0982   Testing loss: 1.0984   Train accuracy: 0.3944   Test accuracy: 0.4094   Train F1 Score: 0.3626   Test F1 Score: 0.3577  \n",
      "Epoch: 150/250   Training loss: 1.0983   Testing loss: 1.0984   Train accuracy: 0.3930   Test accuracy: 0.4049   Train F1 Score: 0.3592   Test F1 Score: 0.3532  \n",
      "Epoch: 151/250   Training loss: 1.0983   Testing loss: 1.0984   Train accuracy: 0.3955   Test accuracy: 0.4096   Train F1 Score: 0.3617   Test F1 Score: 0.3636  \n",
      "Epoch: 152/250   Training loss: 1.0982   Testing loss: 1.0984   Train accuracy: 0.3922   Test accuracy: 0.4026   Train F1 Score: 0.3626   Test F1 Score: 0.3562  \n"
     ]
    },
    {
     "name": "stdout",
     "output_type": "stream",
     "text": [
      "Epoch: 153/250   Training loss: 1.0982   Testing loss: 1.0984   Train accuracy: 0.3910   Test accuracy: 0.4021   Train F1 Score: 0.3646   Test F1 Score: 0.3648  \n",
      "Epoch: 154/250   Training loss: 1.0983   Testing loss: 1.0983   Train accuracy: 0.3876   Test accuracy: 0.4101   Train F1 Score: 0.3644   Test F1 Score: 0.3606  \n",
      "Epoch: 155/250   Training loss: 1.0983   Testing loss: 1.0983   Train accuracy: 0.3947   Test accuracy: 0.4033   Train F1 Score: 0.3640   Test F1 Score: 0.3561  \n",
      "Epoch: 156/250   Training loss: 1.0983   Testing loss: 1.0984   Train accuracy: 0.3925   Test accuracy: 0.3988   Train F1 Score: 0.3560   Test F1 Score: 0.3626  \n",
      "Epoch: 157/250   Training loss: 1.0983   Testing loss: 1.0984   Train accuracy: 0.3946   Test accuracy: 0.3967   Train F1 Score: 0.3656   Test F1 Score: 0.3683  \n",
      "Epoch: 158/250   Training loss: 1.0983   Testing loss: 1.0984   Train accuracy: 0.3893   Test accuracy: 0.4059   Train F1 Score: 0.3645   Test F1 Score: 0.3475  \n",
      "Epoch: 159/250   Training loss: 1.0983   Testing loss: 1.0984   Train accuracy: 0.3907   Test accuracy: 0.4082   Train F1 Score: 0.3650   Test F1 Score: 0.3500  \n",
      "Epoch: 160/250   Training loss: 1.0983   Testing loss: 1.0984   Train accuracy: 0.3913   Test accuracy: 0.4024   Train F1 Score: 0.3647   Test F1 Score: 0.3641  \n",
      "Epoch: 161/250   Training loss: 1.0983   Testing loss: 1.0984   Train accuracy: 0.3984   Test accuracy: 0.4016   Train F1 Score: 0.3647   Test F1 Score: 0.3620  \n",
      "Epoch: 162/250   Training loss: 1.0982   Testing loss: 1.0984   Train accuracy: 0.3927   Test accuracy: 0.3981   Train F1 Score: 0.3635   Test F1 Score: 0.3617  \n",
      "Epoch: 163/250   Training loss: 1.0982   Testing loss: 1.0984   Train accuracy: 0.3872   Test accuracy: 0.4038   Train F1 Score: 0.3618   Test F1 Score: 0.3787  \n",
      "Epoch: 164/250   Training loss: 1.0983   Testing loss: 1.0984   Train accuracy: 0.3869   Test accuracy: 0.4073   Train F1 Score: 0.3587   Test F1 Score: 0.3546  \n",
      "Epoch: 165/250   Training loss: 1.0983   Testing loss: 1.0984   Train accuracy: 0.3867   Test accuracy: 0.4042   Train F1 Score: 0.3626   Test F1 Score: 0.3529  \n",
      "Epoch: 166/250   Training loss: 1.0982   Testing loss: 1.0984   Train accuracy: 0.3859   Test accuracy: 0.4059   Train F1 Score: 0.3631   Test F1 Score: 0.3581  \n",
      "Epoch: 167/250   Training loss: 1.0982   Testing loss: 1.0984   Train accuracy: 0.3832   Test accuracy: 0.4014   Train F1 Score: 0.3604   Test F1 Score: 0.3535  \n",
      "Epoch: 168/250   Training loss: 1.0982   Testing loss: 1.0983   Train accuracy: 0.3916   Test accuracy: 0.4073   Train F1 Score: 0.3593   Test F1 Score: 0.3548  \n",
      "Epoch: 169/250   Training loss: 1.0983   Testing loss: 1.0984   Train accuracy: 0.3879   Test accuracy: 0.4089   Train F1 Score: 0.3687   Test F1 Score: 0.3637  \n",
      "Epoch: 170/250   Training loss: 1.0983   Testing loss: 1.0984   Train accuracy: 0.3909   Test accuracy: 0.4073   Train F1 Score: 0.3627   Test F1 Score: 0.3740  \n",
      "Epoch: 171/250   Training loss: 1.0982   Testing loss: 1.0984   Train accuracy: 0.3910   Test accuracy: 0.4068   Train F1 Score: 0.3641   Test F1 Score: 0.3695  \n",
      "Epoch: 172/250   Training loss: 1.0983   Testing loss: 1.0984   Train accuracy: 0.3853   Test accuracy: 0.4094   Train F1 Score: 0.3641   Test F1 Score: 0.3740  \n",
      "Epoch: 173/250   Training loss: 1.0982   Testing loss: 1.0984   Train accuracy: 0.3890   Test accuracy: 0.4075   Train F1 Score: 0.3624   Test F1 Score: 0.3593  \n",
      "Epoch: 174/250   Training loss: 1.0983   Testing loss: 1.0984   Train accuracy: 0.3860   Test accuracy: 0.4035   Train F1 Score: 0.3608   Test F1 Score: 0.3586  \n",
      "Epoch: 175/250   Training loss: 1.0982   Testing loss: 1.0983   Train accuracy: 0.3858   Test accuracy: 0.4049   Train F1 Score: 0.3696   Test F1 Score: 0.3595  \n",
      "Epoch: 176/250   Training loss: 1.0982   Testing loss: 1.0984   Train accuracy: 0.3900   Test accuracy: 0.4089   Train F1 Score: 0.3648   Test F1 Score: 0.3572  \n",
      "Epoch: 177/250   Training loss: 1.0983   Testing loss: 1.0983   Train accuracy: 0.3856   Test accuracy: 0.4028   Train F1 Score: 0.3655   Test F1 Score: 0.3547  \n",
      "Epoch: 178/250   Training loss: 1.0982   Testing loss: 1.0985   Train accuracy: 0.3889   Test accuracy: 0.4038   Train F1 Score: 0.3633   Test F1 Score: 0.3587  \n",
      "Epoch: 179/250   Training loss: 1.0983   Testing loss: 1.0984   Train accuracy: 0.3930   Test accuracy: 0.4066   Train F1 Score: 0.3618   Test F1 Score: 0.3455  \n",
      "Epoch: 180/250   Training loss: 1.0982   Testing loss: 1.0985   Train accuracy: 0.3900   Test accuracy: 0.4002   Train F1 Score: 0.3646   Test F1 Score: 0.3528  \n",
      "Epoch: 181/250   Training loss: 1.0983   Testing loss: 1.0984   Train accuracy: 0.3936   Test accuracy: 0.4002   Train F1 Score: 0.3652   Test F1 Score: 0.3589  \n",
      "Epoch: 182/250   Training loss: 1.0982   Testing loss: 1.0985   Train accuracy: 0.3880   Test accuracy: 0.4014   Train F1 Score: 0.3611   Test F1 Score: 0.3608  \n",
      "Epoch: 183/250   Training loss: 1.0983   Testing loss: 1.0984   Train accuracy: 0.3895   Test accuracy: 0.4056   Train F1 Score: 0.3669   Test F1 Score: 0.3648  \n",
      "Epoch: 184/250   Training loss: 1.0982   Testing loss: 1.0983   Train accuracy: 0.3936   Test accuracy: 0.4134   Train F1 Score: 0.3593   Test F1 Score: 0.3566  \n",
      "Epoch: 185/250   Training loss: 1.0982   Testing loss: 1.0985   Train accuracy: 0.3927   Test accuracy: 0.4019   Train F1 Score: 0.3663   Test F1 Score: 0.3472  \n",
      "Epoch: 186/250   Training loss: 1.0982   Testing loss: 1.0984   Train accuracy: 0.3906   Test accuracy: 0.3972   Train F1 Score: 0.3638   Test F1 Score: 0.3464  \n",
      "Epoch: 187/250   Training loss: 1.0982   Testing loss: 1.0985   Train accuracy: 0.3952   Test accuracy: 0.4009   Train F1 Score: 0.3661   Test F1 Score: 0.3533  \n",
      "Epoch: 188/250   Training loss: 1.0982   Testing loss: 1.0984   Train accuracy: 0.3953   Test accuracy: 0.4009   Train F1 Score: 0.3674   Test F1 Score: 0.3618  \n",
      "Epoch: 189/250   Training loss: 1.0982   Testing loss: 1.0984   Train accuracy: 0.3921   Test accuracy: 0.3993   Train F1 Score: 0.3652   Test F1 Score: 0.3488  \n",
      "Epoch: 190/250   Training loss: 1.0982   Testing loss: 1.0983   Train accuracy: 0.3912   Test accuracy: 0.4038   Train F1 Score: 0.3562   Test F1 Score: 0.3580  \n",
      "Epoch: 191/250   Training loss: 1.0982   Testing loss: 1.0984   Train accuracy: 0.3929   Test accuracy: 0.3988   Train F1 Score: 0.3637   Test F1 Score: 0.3526  \n",
      "Epoch: 192/250   Training loss: 1.0982   Testing loss: 1.0984   Train accuracy: 0.3892   Test accuracy: 0.3955   Train F1 Score: 0.3756   Test F1 Score: 0.3557  \n",
      "Epoch: 193/250   Training loss: 1.0982   Testing loss: 1.0984   Train accuracy: 0.3950   Test accuracy: 0.3984   Train F1 Score: 0.3677   Test F1 Score: 0.3502  \n",
      "Epoch: 194/250   Training loss: 1.0982   Testing loss: 1.0984   Train accuracy: 0.3930   Test accuracy: 0.3976   Train F1 Score: 0.3622   Test F1 Score: 0.3571  \n",
      "Epoch: 195/250   Training loss: 1.0982   Testing loss: 1.0984   Train accuracy: 0.3908   Test accuracy: 0.4021   Train F1 Score: 0.3630   Test F1 Score: 0.3659  \n",
      "Epoch: 196/250   Training loss: 1.0982   Testing loss: 1.0984   Train accuracy: 0.3937   Test accuracy: 0.3969   Train F1 Score: 0.3651   Test F1 Score: 0.3542  \n",
      "Epoch: 197/250   Training loss: 1.0982   Testing loss: 1.0984   Train accuracy: 0.3933   Test accuracy: 0.3974   Train F1 Score: 0.3645   Test F1 Score: 0.3506  \n",
      "Epoch: 198/250   Training loss: 1.0982   Testing loss: 1.0984   Train accuracy: 0.3974   Test accuracy: 0.3972   Train F1 Score: 0.3641   Test F1 Score: 0.3592  \n",
      "Epoch: 199/250   Training loss: 1.0982   Testing loss: 1.0984   Train accuracy: 0.3960   Test accuracy: 0.4071   Train F1 Score: 0.3670   Test F1 Score: 0.3491  \n",
      "Epoch: 200/250   Training loss: 1.0982   Testing loss: 1.0984   Train accuracy: 0.3949   Test accuracy: 0.4009   Train F1 Score: 0.3673   Test F1 Score: 0.3401  \n",
      "Epoch: 201/250   Training loss: 1.0982   Testing loss: 1.0984   Train accuracy: 0.3934   Test accuracy: 0.4045   Train F1 Score: 0.3637   Test F1 Score: 0.3493  \n",
      "Epoch: 202/250   Training loss: 1.0981   Testing loss: 1.0984   Train accuracy: 0.3927   Test accuracy: 0.4040   Train F1 Score: 0.3677   Test F1 Score: 0.3556  \n",
      "Epoch: 203/250   Training loss: 1.0981   Testing loss: 1.0984   Train accuracy: 0.3920   Test accuracy: 0.3972   Train F1 Score: 0.3622   Test F1 Score: 0.3560  \n"
     ]
    },
    {
     "name": "stdout",
     "output_type": "stream",
     "text": [
      "Epoch: 204/250   Training loss: 1.0981   Testing loss: 1.0984   Train accuracy: 0.3940   Test accuracy: 0.3984   Train F1 Score: 0.3657   Test F1 Score: 0.3580  \n",
      "Epoch: 205/250   Training loss: 1.0981   Testing loss: 1.0984   Train accuracy: 0.3936   Test accuracy: 0.3981   Train F1 Score: 0.3685   Test F1 Score: 0.3438  \n",
      "Epoch: 206/250   Training loss: 1.0981   Testing loss: 1.0984   Train accuracy: 0.3926   Test accuracy: 0.3984   Train F1 Score: 0.3626   Test F1 Score: 0.3650  \n",
      "Epoch: 207/250   Training loss: 1.0981   Testing loss: 1.0984   Train accuracy: 0.3890   Test accuracy: 0.4045   Train F1 Score: 0.3639   Test F1 Score: 0.3465  \n",
      "Epoch: 208/250   Training loss: 1.0981   Testing loss: 1.0985   Train accuracy: 0.3984   Test accuracy: 0.3998   Train F1 Score: 0.3650   Test F1 Score: 0.3622  \n",
      "Epoch: 209/250   Training loss: 1.0981   Testing loss: 1.0983   Train accuracy: 0.3982   Test accuracy: 0.4031   Train F1 Score: 0.3617   Test F1 Score: 0.3502  \n",
      "Epoch: 210/250   Training loss: 1.0981   Testing loss: 1.0983   Train accuracy: 0.3970   Test accuracy: 0.4087   Train F1 Score: 0.3659   Test F1 Score: 0.3429  \n",
      "Epoch: 211/250   Training loss: 1.0982   Testing loss: 1.0983   Train accuracy: 0.3860   Test accuracy: 0.4101   Train F1 Score: 0.3625   Test F1 Score: 0.3567  \n",
      "Epoch: 212/250   Training loss: 1.0982   Testing loss: 1.0983   Train accuracy: 0.3913   Test accuracy: 0.4082   Train F1 Score: 0.3595   Test F1 Score: 0.3636  \n",
      "Epoch: 213/250   Training loss: 1.0981   Testing loss: 1.0983   Train accuracy: 0.3961   Test accuracy: 0.4042   Train F1 Score: 0.3655   Test F1 Score: 0.3400  \n",
      "Epoch: 214/250   Training loss: 1.0981   Testing loss: 1.0984   Train accuracy: 0.3934   Test accuracy: 0.4101   Train F1 Score: 0.3599   Test F1 Score: 0.3509  \n",
      "Epoch: 215/250   Training loss: 1.0981   Testing loss: 1.0983   Train accuracy: 0.3966   Test accuracy: 0.4078   Train F1 Score: 0.3634   Test F1 Score: 0.3632  \n",
      "Epoch: 216/250   Training loss: 1.0981   Testing loss: 1.0984   Train accuracy: 0.3933   Test accuracy: 0.4061   Train F1 Score: 0.3609   Test F1 Score: 0.3657  \n",
      "Epoch: 217/250   Training loss: 1.0981   Testing loss: 1.0983   Train accuracy: 0.3921   Test accuracy: 0.4026   Train F1 Score: 0.3627   Test F1 Score: 0.3563  \n",
      "Epoch: 218/250   Training loss: 1.0980   Testing loss: 1.0983   Train accuracy: 0.3983   Test accuracy: 0.4059   Train F1 Score: 0.3623   Test F1 Score: 0.3519  \n",
      "Epoch: 219/250   Training loss: 1.0981   Testing loss: 1.0984   Train accuracy: 0.3950   Test accuracy: 0.4068   Train F1 Score: 0.3640   Test F1 Score: 0.3496  \n",
      "Epoch: 220/250   Training loss: 1.0981   Testing loss: 1.0983   Train accuracy: 0.3958   Test accuracy: 0.4061   Train F1 Score: 0.3674   Test F1 Score: 0.3485  \n",
      "Epoch: 221/250   Training loss: 1.0980   Testing loss: 1.0984   Train accuracy: 0.3937   Test accuracy: 0.4080   Train F1 Score: 0.3627   Test F1 Score: 0.3539  \n",
      "Epoch: 222/250   Training loss: 1.0981   Testing loss: 1.0983   Train accuracy: 0.3907   Test accuracy: 0.4052   Train F1 Score: 0.3609   Test F1 Score: 0.3505  \n",
      "Epoch: 223/250   Training loss: 1.0981   Testing loss: 1.0983   Train accuracy: 0.3910   Test accuracy: 0.4094   Train F1 Score: 0.3650   Test F1 Score: 0.3624  \n",
      "Epoch: 224/250   Training loss: 1.0981   Testing loss: 1.0983   Train accuracy: 0.3912   Test accuracy: 0.4059   Train F1 Score: 0.3544   Test F1 Score: 0.3536  \n",
      "Epoch: 225/250   Training loss: 1.0981   Testing loss: 1.0984   Train accuracy: 0.3940   Test accuracy: 0.4082   Train F1 Score: 0.3664   Test F1 Score: 0.3505  \n",
      "Epoch: 226/250   Training loss: 1.0980   Testing loss: 1.0983   Train accuracy: 0.3943   Test accuracy: 0.4080   Train F1 Score: 0.3655   Test F1 Score: 0.3547  \n",
      "Epoch: 227/250   Training loss: 1.0982   Testing loss: 1.0983   Train accuracy: 0.3922   Test accuracy: 0.3918   Train F1 Score: 0.3586   Test F1 Score: 0.3610  \n",
      "Epoch: 228/250   Training loss: 1.0981   Testing loss: 1.0984   Train accuracy: 0.3898   Test accuracy: 0.3887   Train F1 Score: 0.3628   Test F1 Score: 0.3524  \n",
      "Epoch: 229/250   Training loss: 1.0980   Testing loss: 1.0984   Train accuracy: 0.3846   Test accuracy: 0.3882   Train F1 Score: 0.3648   Test F1 Score: 0.3436  \n",
      "Epoch: 230/250   Training loss: 1.0981   Testing loss: 1.0984   Train accuracy: 0.3888   Test accuracy: 0.3887   Train F1 Score: 0.3573   Test F1 Score: 0.3571  \n",
      "Epoch: 231/250   Training loss: 1.0980   Testing loss: 1.0984   Train accuracy: 0.3909   Test accuracy: 0.3894   Train F1 Score: 0.3583   Test F1 Score: 0.3543  \n",
      "Epoch: 232/250   Training loss: 1.0981   Testing loss: 1.0983   Train accuracy: 0.3919   Test accuracy: 0.3918   Train F1 Score: 0.3600   Test F1 Score: 0.3520  \n",
      "Epoch: 233/250   Training loss: 1.0981   Testing loss: 1.0984   Train accuracy: 0.3935   Test accuracy: 0.3901   Train F1 Score: 0.3613   Test F1 Score: 0.3605  \n",
      "Epoch: 234/250   Training loss: 1.0980   Testing loss: 1.0984   Train accuracy: 0.3929   Test accuracy: 0.3880   Train F1 Score: 0.3608   Test F1 Score: 0.3474  \n",
      "Epoch: 235/250   Training loss: 1.0981   Testing loss: 1.0984   Train accuracy: 0.3895   Test accuracy: 0.3906   Train F1 Score: 0.3604   Test F1 Score: 0.3474  \n",
      "Epoch: 236/250   Training loss: 1.0981   Testing loss: 1.0983   Train accuracy: 0.3903   Test accuracy: 0.3880   Train F1 Score: 0.3553   Test F1 Score: 0.3501  \n",
      "Epoch: 237/250   Training loss: 1.0980   Testing loss: 1.0984   Train accuracy: 0.3956   Test accuracy: 0.3885   Train F1 Score: 0.3547   Test F1 Score: 0.3466  \n",
      "Epoch: 238/250   Training loss: 1.0980   Testing loss: 1.0984   Train accuracy: 0.3929   Test accuracy: 0.3896   Train F1 Score: 0.3626   Test F1 Score: 0.3492  \n",
      "Epoch: 239/250   Training loss: 1.0980   Testing loss: 1.0984   Train accuracy: 0.3943   Test accuracy: 0.3915   Train F1 Score: 0.3579   Test F1 Score: 0.3475  \n",
      "Epoch: 240/250   Training loss: 1.0980   Testing loss: 1.0984   Train accuracy: 0.3928   Test accuracy: 0.3906   Train F1 Score: 0.3626   Test F1 Score: 0.3443  \n",
      "Epoch: 241/250   Training loss: 1.0980   Testing loss: 1.0984   Train accuracy: 0.3962   Test accuracy: 0.3904   Train F1 Score: 0.3567   Test F1 Score: 0.3605  \n",
      "Epoch: 242/250   Training loss: 1.0980   Testing loss: 1.0983   Train accuracy: 0.3970   Test accuracy: 0.3944   Train F1 Score: 0.3610   Test F1 Score: 0.3438  \n",
      "Epoch: 243/250   Training loss: 1.0979   Testing loss: 1.0983   Train accuracy: 0.3951   Test accuracy: 0.3901   Train F1 Score: 0.3617   Test F1 Score: 0.3400  \n",
      "Epoch: 244/250   Training loss: 1.0980   Testing loss: 1.0984   Train accuracy: 0.3964   Test accuracy: 0.3908   Train F1 Score: 0.3629   Test F1 Score: 0.3568  \n",
      "Epoch: 245/250   Training loss: 1.0979   Testing loss: 1.0983   Train accuracy: 0.3969   Test accuracy: 0.3894   Train F1 Score: 0.3599   Test F1 Score: 0.3441  \n",
      "Epoch: 246/250   Training loss: 1.0980   Testing loss: 1.0984   Train accuracy: 0.3991   Test accuracy: 0.3918   Train F1 Score: 0.3583   Test F1 Score: 0.3521  \n",
      "Epoch: 247/250   Training loss: 1.0979   Testing loss: 1.0983   Train accuracy: 0.3964   Test accuracy: 0.3915   Train F1 Score: 0.3532   Test F1 Score: 0.3430  \n",
      "Epoch: 248/250   Training loss: 1.0980   Testing loss: 1.0984   Train accuracy: 0.3955   Test accuracy: 0.3906   Train F1 Score: 0.3587   Test F1 Score: 0.3573  \n",
      "Epoch: 249/250   Training loss: 1.0980   Testing loss: 1.0984   Train accuracy: 0.3931   Test accuracy: 0.3908   Train F1 Score: 0.3621   Test F1 Score: 0.3517  \n"
     ]
    }
   ],
   "source": [
    "from sklearn.metrics import f1_score\n",
    "\n",
    "epochs = 250\n",
    "train_loss, val_loss = [], []\n",
    "accuracy_total_train, accuracy_total_val = [], []\n",
    "train_f1_scores, test_f1_scores = [], []\n",
    "\n",
    "for epoch in range(epochs):\n",
    "   \n",
    "    total_train_loss = 0\n",
    "    total_val_loss = 0\n",
    "    prediction_list_test = []\n",
    "    prediction_list_train = []\n",
    "    train_f1score = 0\n",
    "    test_f1score = 0\n",
    "\n",
    "    model.train()\n",
    "    \n",
    "    total = 0\n",
    "    # training our model\n",
    "    for idx, (x, y) in enumerate(train_loader):\n",
    "\n",
    "        optimizer.zero_grad()\n",
    "        pred = model(x)\n",
    "        loss = criterion(pred, y)\n",
    "        total_train_loss += loss.item()\n",
    "        loss.backward()\n",
    "        optimizer.step()\n",
    "\n",
    "        pred = torch.nn.functional.softmax(pred, dim=1)\n",
    "        for i, p in enumerate(pred):\n",
    "            if y[i] == torch.max(p.data, 0)[1]:\n",
    "                total = total + 1\n",
    "            y_prediction = torch.max(p.data, 0)[1]\n",
    "            prediction_list_train.append(y_prediction)\n",
    "                \n",
    "    accuracy_train = total / len(Team_Train)\n",
    "    accuracy_total_train.append(accuracy_train)\n",
    "\n",
    "    total_train_loss = total_train_loss / (idx + 1)\n",
    "    train_loss.append(total_train_loss)\n",
    "    \n",
    "    prediction_stacked_tensor = torch.stack(prediction_list_train)\n",
    "    train_f1score = f1_score(y_train, prediction_stacked_tensor, average='weighted')\n",
    "    train_f1_scores.append(train_f1score)\n",
    "    \n",
    "    # validating our model\n",
    "    model.eval()\n",
    "    total = 0\n",
    "    for idx, (x, y) in enumerate(test_loader):\n",
    "        pred = model(x)\n",
    "        loss = criterion(pred, y)\n",
    "        total_val_loss += loss.item()\n",
    "\n",
    "        pred = torch.nn.functional.softmax(pred, dim=1)\n",
    "        for i, p in enumerate(pred):\n",
    "            if y[i] == torch.max(p.data, 0)[1]:\n",
    "                total = total + 1\n",
    "            y_prediction = torch.max(p.data, 0)[1]\n",
    "            prediction_list_test.append(y_prediction)\n",
    "\n",
    "    accuracy_val = total / len(Team_Test)\n",
    "    accuracy_total_val.append(accuracy_val)\n",
    "    \n",
    "    prediction_stacked_tensor = torch.stack(prediction_list_test)\n",
    "    test_f1score = f1_score(y_test, prediction_stacked_tensor, average='weighted')\n",
    "    test_f1_scores.append(test_f1score)\n",
    "\n",
    "    total_val_loss = total_val_loss / (idx + 1)\n",
    "    val_loss.append(total_val_loss)\n",
    "\n",
    "    if epoch % 1 == 0:\n",
    "        print(\"Epoch: {}/{}  \".format(epoch, epochs),\n",
    "            \"Training loss: {:.4f}  \".format(total_train_loss),\n",
    "            \"Testing loss: {:.4f}  \".format(total_val_loss),\n",
    "            \"Train accuracy: {:.4f}  \".format(accuracy_train),\n",
    "            \"Test accuracy: {:.4f}  \".format(accuracy_val),\n",
    "            \"Train F1 Score: {:.4f}  \".format(train_f1score),\n",
    "            \"Test F1 Score: {:.4f}  \".format(test_f1score))"
   ]
  },
  {
   "cell_type": "code",
   "execution_count": 28,
   "metadata": {},
   "outputs": [
    {
     "data": {
      "image/png": "[encoded data removed]",
      "text/plain": [
       "<Figure size 432x288 with 1 Axes>"
      ]
     },
     "metadata": {
      "needs_background": "light"
     },
     "output_type": "display_data"
    }
   ],
   "source": [
    "plt.plot(train_f1_scores, label='Training f1-Scores')\n",
    "plt.plot(test_f1_scores, label='Testing f1-Scores')\n",
    "plt.legend()\n",
    "plt.grid()"
   ]
  },
  {
   "cell_type": "code",
   "execution_count": 29,
   "metadata": {},
   "outputs": [
    {
     "data": {
      "image/png": "[encoded data removed]",
      "text/plain": [
       "<Figure size 432x288 with 1 Axes>"
      ]
     },
     "metadata": {
      "needs_background": "light"
     },
     "output_type": "display_data"
    }
   ],
   "source": [
    "plt.plot(train_loss, label='Training loss')\n",
    "plt.plot(val_loss, label='Test loss')\n",
    "plt.legend()\n",
    "plt.grid()"
   ]
  },
  {
   "cell_type": "code",
   "execution_count": 30,
   "metadata": {},
   "outputs": [
    {
     "data": {
      "image/png": "[encoded data removed]",
      "text/plain": [
       "<Figure size 432x288 with 1 Axes>"
      ]
     },
     "metadata": {
      "needs_background": "light"
     },
     "output_type": "display_data"
    }
   ],
   "source": [
    "plt.plot(accuracy_total_train, label='Training Accuracy')\n",
    "plt.plot(accuracy_total_val, label='Test Accuracy')\n",
    "plt.legend()\n",
    "plt.grid()"
   ]
  },
  {
   "cell_type": "code",
   "execution_count": 31,
   "metadata": {},
   "outputs": [],
   "source": [
    "#saving the model\n",
    "\n",
    "MODEL_PATH = 'teammodel2D.pth'\n",
    "torch.save(model, MODEL_PATH)"
   ]
  },
  {
   "cell_type": "code",
   "execution_count": 32,
   "metadata": {},
   "outputs": [],
   "source": [
    "model = torch.load(MODEL_PATH)"
   ]
  },
  {
   "cell_type": "code",
   "execution_count": 34,
   "metadata": {},
   "outputs": [
    {
     "name": "stdout",
     "output_type": "stream",
     "text": [
      "              precision    recall  f1-score   support\n",
      "\n",
      "        Loss       0.29      0.37      0.32      1189\n",
      "        Draw       0.21      0.04      0.06      1102\n",
      "         Win       0.46      0.60      0.52      1959\n",
      "\n",
      "    accuracy                           0.39      4250\n",
      "   macro avg       0.32      0.34      0.30      4250\n",
      "weighted avg       0.35      0.39      0.35      4250\n",
      "\n"
     ]
    }
   ],
   "source": [
    "#Evaluation\n",
    "classes = ['Loss','Draw','Win']\n",
    "predict_list = []\n",
    "y_pred = model(Team_Test)\n",
    "\n",
    "for i, p in enumerate(y_pred):\n",
    "    y_pred = torch.max(p.data, 0)[1]\n",
    "    predict_list.append(y_pred)\n",
    "stacked_tensor = torch.stack(predict_list)\n",
    "y_test = y_test.cpu()\n",
    "\n",
    "print(classification_report(y_test, stacked_tensor, target_names=classes))"
   ]
  },
  {
   "cell_type": "code",
   "execution_count": 35,
   "metadata": {},
   "outputs": [
    {
     "data": {
      "text/plain": [
       "Text(0.5, 15.0, 'Predicted label')"
      ]
     },
     "execution_count": 35,
     "metadata": {},
     "output_type": "execute_result"
    },
    {
     "data": {
      "image/png": "[encoded data removed]",
      "text/plain": [
       "<Figure size 432x288 with 2 Axes>"
      ]
     },
     "metadata": {
      "needs_background": "light"
     },
     "output_type": "display_data"
    }
   ],
   "source": [
    "cm = confusion_matrix(y_test, stacked_tensor)\n",
    "df_cm = pd.DataFrame(cm, index=classes, columns=classes)\n",
    "hmap = sns.heatmap(df_cm, annot=True, fmt=\"d\")\n",
    "hmap.yaxis.set_ticklabels(hmap.yaxis.get_ticklabels(), rotation=0, ha='right')\n",
    "hmap.xaxis.set_ticklabels(hmap.xaxis.get_ticklabels(), rotation=0, ha='right')\n",
    "plt.ylabel('True label')\n",
    "plt.xlabel('Predicted label')"
   ]
  },
  {
   "cell_type": "code",
   "execution_count": 36,
   "metadata": {},
   "outputs": [
    {
     "name": "stdout",
     "output_type": "stream",
     "text": [
      "Accuracy of the network on the 4250 matches: 39 %\n"
     ]
    }
   ],
   "source": [
    "correct = 0\n",
    "total = 0\n",
    "\n",
    "with torch.no_grad():\n",
    "    for i, (x, y) in enumerate(test_loader):\n",
    "        outputs = model(x)\n",
    "        _, predicted = torch.max(outputs.data, 1)\n",
    "        total += y.size(0)\n",
    "        correct += (predicted == y).sum().item()\n",
    "\n",
    "print('Accuracy of the network on the 4250 matches: %d %%' % (\n",
    "    100 * correct / total))"
   ]
  },
  {
   "cell_type": "code",
   "execution_count": null,
   "metadata": {},
   "outputs": [],
   "source": []
  },
  {
   "cell_type": "code",
   "execution_count": null,
   "metadata": {},
   "outputs": [],
   "source": []
  },
  {
   "cell_type": "code",
   "execution_count": null,
   "metadata": {},
   "outputs": [],
   "source": []
  }
 ],
 "metadata": {
  "kernelspec": {
   "display_name": "Python 3",
   "language": "python",
   "name": "python3"
  },
  "language_info": {
   "codemirror_mode": {
    "name": "ipython",
    "version": 3
   },
   "file_extension": ".py",
   "mimetype": "text/x-python",
   "name": "python",
   "nbconvert_exporter": "python",
   "pygments_lexer": "ipython3",
   "version": "3.8.5"
  }
 },
 "nbformat": 4,
 "nbformat_minor": 4
}
