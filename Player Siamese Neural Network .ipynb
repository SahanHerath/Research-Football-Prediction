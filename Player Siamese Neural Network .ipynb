{
 "cells": [
  {
   "cell_type": "code",
   "execution_count": 1,
   "metadata": {},
   "outputs": [],
   "source": [
    "import pandas as pd\n",
    "import seaborn as sns\n",
    "import numpy as np\n",
    "from tqdm import tqdm\n",
    "from pylab import rcParams\n",
    "import matplotlib.pyplot as plt\n",
    "from matplotlib import rc\n",
    "from torch import nn, optim\n",
    "import torch.nn.functional as F\n",
    "from sklearn.model_selection import train_test_split\n",
    "from sklearn.metrics import confusion_matrix, classification_report\n",
    "import torch\n",
    "\n",
    "df = pd.read_csv('UpdatedMatches.csv')"
   ]
  },
  {
   "cell_type": "code",
   "execution_count": 2,
   "metadata": {},
   "outputs": [],
   "source": [
    "df['season'].replace({'2008/2009':2008, '2009/2010':2009, '2010/2011':2010, '2011/2012':2011, '2012/2013':2012, '2013/2014':2013, '2014/2015':2014, '2015/2016':2015 },inplace=True)\n",
    "\n",
    "df[\"result\"] = np.nan\n",
    "for index, row in df.iterrows():\n",
    "    if df.loc[index,'home_team_goal'] == df.loc[index,'away_team_goal']:\n",
    "        df.loc[index,'result'] = 1\n",
    "    if df.loc[index,'home_team_goal'] > df.loc[index,'away_team_goal']:\n",
    "        df.loc[index,'result'] = 2\n",
    "    if df.loc[index,'home_team_goal'] < df.loc[index,'away_team_goal']:\n",
    "        df.loc[index,'result'] = 0"
   ]
  },
  {
   "cell_type": "code",
   "execution_count": 3,
   "metadata": {},
   "outputs": [
    {
     "name": "stderr",
     "output_type": "stream",
     "text": [
      "C:\\Users\\herath\\anaconda3\\lib\\site-packages\\seaborn\\_decorators.py:36: FutureWarning: Pass the following variable as a keyword arg: x. From version 0.12, the only valid positional argument will be `data`, and passing other arguments without an explicit keyword will result in an error or misinterpretation.\n",
      "  warnings.warn(\n"
     ]
    },
    {
     "data": {
      "text/plain": [
       "<AxesSubplot:xlabel='result', ylabel='count'>"
      ]
     },
     "execution_count": 3,
     "metadata": {},
     "output_type": "execute_result"
    },
    {
     "data": {
      "image/png": "[encoded data removed]",
      "text/plain": [
       "<Figure size 432x288 with 1 Axes>"
      ]
     },
     "metadata": {
      "needs_background": "light"
     },
     "output_type": "display_data"
    }
   ],
   "source": [
    "sns.countplot(df.result)"
   ]
  },
  {
   "cell_type": "code",
   "execution_count": 4,
   "metadata": {},
   "outputs": [
    {
     "data": {
      "text/plain": [
       "2.0    0.459098\n",
       "0.0    0.288525\n",
       "1.0    0.252377\n",
       "Name: result, dtype: float64"
      ]
     },
     "execution_count": 4,
     "metadata": {},
     "output_type": "execute_result"
    }
   ],
   "source": [
    "df.result.value_counts()/df.shape[0]"
   ]
  },
  {
   "cell_type": "code",
   "execution_count": 34,
   "metadata": {},
   "outputs": [],
   "source": [
    "home_player_data = []\n",
    "away_player_data = []"
   ]
  },
  {
   "cell_type": "code",
   "execution_count": 35,
   "metadata": {},
   "outputs": [],
   "source": [
    "from tqdm import tqdm\n",
    "\n",
    "def playerfunction( df ):\n",
    "    for index, row in tqdm(df.iterrows()):\n",
    "        overall_rating_home_players = []\n",
    "        overall_rating_home_players.append(df.loc[index,'overall_rating_home_player_1'])\n",
    "        overall_rating_home_players.append(df.loc[index,'overall_rating_home_player_2'])\n",
    "        overall_rating_home_players.append(df.loc[index,'overall_rating_home_player_3'])\n",
    "        overall_rating_home_players.append(df.loc[index,'overall_rating_home_player_4'])\n",
    "        overall_rating_home_players.append(df.loc[index,'overall_rating_home_player_5'])\n",
    "        overall_rating_home_players.append(df.loc[index,'overall_rating_home_player_6'])\n",
    "        overall_rating_home_players.append(df.loc[index,'overall_rating_home_player_7'])\n",
    "        overall_rating_home_players.append(df.loc[index,'overall_rating_home_player_8'])\n",
    "        overall_rating_home_players.append(df.loc[index,'overall_rating_home_player_9'])\n",
    "        overall_rating_home_players.append(df.loc[index,'overall_rating_home_player_10'])\n",
    "        overall_rating_home_players.append(df.loc[index,'overall_rating_home_player_11'])\n",
    "\n",
    "        overall_rating_away_players = []\n",
    "        overall_rating_away_players.append(df.loc[index,'overall_rating_away_player_1'])\n",
    "        overall_rating_away_players.append(df.loc[index,'overall_rating_away_player_2'])\n",
    "        overall_rating_away_players.append(df.loc[index,'overall_rating_away_player_3'])\n",
    "        overall_rating_away_players.append(df.loc[index,'overall_rating_away_player_4'])\n",
    "        overall_rating_away_players.append(df.loc[index,'overall_rating_away_player_5'])\n",
    "        overall_rating_away_players.append(df.loc[index,'overall_rating_away_player_6'])\n",
    "        overall_rating_away_players.append(df.loc[index,'overall_rating_away_player_7'])\n",
    "        overall_rating_away_players.append(df.loc[index,'overall_rating_away_player_8'])\n",
    "        overall_rating_away_players.append(df.loc[index,'overall_rating_away_player_9'])\n",
    "        overall_rating_away_players.append(df.loc[index,'overall_rating_away_player_10'])\n",
    "        overall_rating_away_players.append(df.loc[index,'overall_rating_away_player_11'])\n",
    "\n",
    "\n",
    "        potential_home_players = []\n",
    "        potential_home_players.append(df.loc[index,'potential_home_player_1'])\n",
    "        potential_home_players.append(df.loc[index,'potential_home_player_2'])\n",
    "        potential_home_players.append(df.loc[index,'potential_home_player_3'])\n",
    "        potential_home_players.append(df.loc[index,'potential_home_player_4'])\n",
    "        potential_home_players.append(df.loc[index,'potential_home_player_5'])\n",
    "        potential_home_players.append(df.loc[index,'potential_home_player_6'])\n",
    "        potential_home_players.append(df.loc[index,'potential_home_player_7'])\n",
    "        potential_home_players.append(df.loc[index,'potential_home_player_8'])\n",
    "        potential_home_players.append(df.loc[index,'potential_home_player_9'])\n",
    "        potential_home_players.append(df.loc[index,'potential_home_player_10'])\n",
    "        potential_home_players.append(df.loc[index,'potential_home_player_11'])\n",
    "\n",
    "        potential_away_players = []\n",
    "        potential_away_players.append(df.loc[index,'potential_away_player_1'])\n",
    "        potential_away_players.append(df.loc[index,'potential_away_player_2'])\n",
    "        potential_away_players.append(df.loc[index,'potential_away_player_3'])\n",
    "        potential_away_players.append(df.loc[index,'potential_away_player_4'])\n",
    "        potential_away_players.append(df.loc[index,'potential_away_player_5'])\n",
    "        potential_away_players.append(df.loc[index,'potential_away_player_6'])\n",
    "        potential_away_players.append(df.loc[index,'potential_away_player_7'])\n",
    "        potential_away_players.append(df.loc[index,'potential_away_player_8'])\n",
    "        potential_away_players.append(df.loc[index,'potential_away_player_9'])\n",
    "        potential_away_players.append(df.loc[index,'potential_away_player_10'])\n",
    "        potential_away_players.append(df.loc[index,'potential_away_player_11'])\n",
    "\n",
    "        crossing_home_players = []\n",
    "        crossing_home_players.append(df.loc[index,'crossing_home_player_1'])\n",
    "        crossing_home_players.append(df.loc[index,'crossing_home_player_2'])\n",
    "        crossing_home_players.append(df.loc[index,'crossing_home_player_3'])\n",
    "        crossing_home_players.append(df.loc[index,'crossing_home_player_4'])\n",
    "        crossing_home_players.append(df.loc[index,'crossing_home_player_5'])\n",
    "        crossing_home_players.append(df.loc[index,'crossing_home_player_6'])\n",
    "        crossing_home_players.append(df.loc[index,'crossing_home_player_7'])\n",
    "        crossing_home_players.append(df.loc[index,'crossing_home_player_8'])\n",
    "        crossing_home_players.append(df.loc[index,'crossing_home_player_9'])\n",
    "        crossing_home_players.append(df.loc[index,'crossing_home_player_10'])\n",
    "        crossing_home_players.append(df.loc[index,'crossing_home_player_11'])\n",
    "\n",
    "        crossing_away_players = []\n",
    "        crossing_away_players.append(df.loc[index,'crossing_away_player_1'])\n",
    "        crossing_away_players.append(df.loc[index,'crossing_away_player_2'])\n",
    "        crossing_away_players.append(df.loc[index,'crossing_away_player_3'])\n",
    "        crossing_away_players.append(df.loc[index,'crossing_away_player_4'])\n",
    "        crossing_away_players.append(df.loc[index,'crossing_away_player_5'])\n",
    "        crossing_away_players.append(df.loc[index,'crossing_away_player_6'])\n",
    "        crossing_away_players.append(df.loc[index,'crossing_away_player_7'])\n",
    "        crossing_away_players.append(df.loc[index,'crossing_away_player_8'])\n",
    "        crossing_away_players.append(df.loc[index,'crossing_away_player_9'])\n",
    "        crossing_away_players.append(df.loc[index,'crossing_away_player_10'])\n",
    "        crossing_away_players.append(df.loc[index,'crossing_away_player_11'])\n",
    "\n",
    "        finishing_home_players = []\n",
    "        finishing_home_players.append(df.loc[index,'finishing_home_player_1'])\n",
    "        finishing_home_players.append(df.loc[index,'finishing_home_player_2'])\n",
    "        finishing_home_players.append(df.loc[index,'finishing_home_player_3'])\n",
    "        finishing_home_players.append(df.loc[index,'finishing_home_player_4'])\n",
    "        finishing_home_players.append(df.loc[index,'finishing_home_player_5'])\n",
    "        finishing_home_players.append(df.loc[index,'finishing_home_player_6'])\n",
    "        finishing_home_players.append(df.loc[index,'finishing_home_player_7'])\n",
    "        finishing_home_players.append(df.loc[index,'finishing_home_player_8'])\n",
    "        finishing_home_players.append(df.loc[index,'finishing_home_player_9'])\n",
    "        finishing_home_players.append(df.loc[index,'finishing_home_player_10'])\n",
    "        finishing_home_players.append(df.loc[index,'finishing_home_player_11'])\n",
    "\n",
    "        finishing_away_players = []\n",
    "        finishing_away_players.append(df.loc[index,'finishing_away_player_1'])\n",
    "        finishing_away_players.append(df.loc[index,'finishing_away_player_2'])\n",
    "        finishing_away_players.append(df.loc[index,'finishing_away_player_3'])\n",
    "        finishing_away_players.append(df.loc[index,'finishing_away_player_4'])\n",
    "        finishing_away_players.append(df.loc[index,'finishing_away_player_5'])\n",
    "        finishing_away_players.append(df.loc[index,'finishing_away_player_6'])\n",
    "        finishing_away_players.append(df.loc[index,'finishing_away_player_7'])\n",
    "        finishing_away_players.append(df.loc[index,'finishing_away_player_8'])\n",
    "        finishing_away_players.append(df.loc[index,'finishing_away_player_9'])\n",
    "        finishing_away_players.append(df.loc[index,'finishing_away_player_10'])\n",
    "        finishing_away_players.append(df.loc[index,'finishing_away_player_11'])\n",
    "\n",
    "\n",
    "        heading_accuracy_home_players = []\n",
    "        heading_accuracy_home_players.append(df.loc[index,'heading_accuracy_home_player_1'])\n",
    "        heading_accuracy_home_players.append(df.loc[index,'heading_accuracy_home_player_2'])\n",
    "        heading_accuracy_home_players.append(df.loc[index,'heading_accuracy_home_player_3'])\n",
    "        heading_accuracy_home_players.append(df.loc[index,'heading_accuracy_home_player_4'])\n",
    "        heading_accuracy_home_players.append(df.loc[index,'heading_accuracy_home_player_5'])\n",
    "        heading_accuracy_home_players.append(df.loc[index,'heading_accuracy_home_player_6'])\n",
    "        heading_accuracy_home_players.append(df.loc[index,'heading_accuracy_home_player_7'])\n",
    "        heading_accuracy_home_players.append(df.loc[index,'heading_accuracy_home_player_8'])\n",
    "        heading_accuracy_home_players.append(df.loc[index,'heading_accuracy_home_player_9'])\n",
    "        heading_accuracy_home_players.append(df.loc[index,'heading_accuracy_home_player_10'])\n",
    "        heading_accuracy_home_players.append(df.loc[index,'heading_accuracy_home_player_11'])\n",
    "\n",
    "        heading_accuracy_away_players = []\n",
    "        heading_accuracy_away_players.append(df.loc[index,'heading_accuracy_away_player_1'])\n",
    "        heading_accuracy_away_players.append(df.loc[index,'heading_accuracy_away_player_2'])\n",
    "        heading_accuracy_away_players.append(df.loc[index,'heading_accuracy_away_player_3'])\n",
    "        heading_accuracy_away_players.append(df.loc[index,'heading_accuracy_away_player_4'])\n",
    "        heading_accuracy_away_players.append(df.loc[index,'heading_accuracy_away_player_5'])\n",
    "        heading_accuracy_away_players.append(df.loc[index,'heading_accuracy_away_player_6'])\n",
    "        heading_accuracy_away_players.append(df.loc[index,'heading_accuracy_away_player_7'])\n",
    "        heading_accuracy_away_players.append(df.loc[index,'heading_accuracy_away_player_8'])\n",
    "        heading_accuracy_away_players.append(df.loc[index,'heading_accuracy_away_player_9'])\n",
    "        heading_accuracy_away_players.append(df.loc[index,'heading_accuracy_away_player_10'])\n",
    "        heading_accuracy_away_players.append(df.loc[index,'heading_accuracy_away_player_11'])\n",
    "\n",
    "\n",
    "        dribbling_home_players = []\n",
    "        dribbling_home_players.append(df.loc[index,'dribbling_home_player_1'])\n",
    "        dribbling_home_players.append(df.loc[index,'dribbling_home_player_2'])\n",
    "        dribbling_home_players.append(df.loc[index,'dribbling_home_player_3'])\n",
    "        dribbling_home_players.append(df.loc[index,'dribbling_home_player_4'])\n",
    "        dribbling_home_players.append(df.loc[index,'dribbling_home_player_5'])\n",
    "        dribbling_home_players.append(df.loc[index,'dribbling_home_player_6'])\n",
    "        dribbling_home_players.append(df.loc[index,'dribbling_home_player_7'])\n",
    "        dribbling_home_players.append(df.loc[index,'dribbling_home_player_8'])\n",
    "        dribbling_home_players.append(df.loc[index,'dribbling_home_player_9'])\n",
    "        dribbling_home_players.append(df.loc[index,'dribbling_home_player_10'])\n",
    "        dribbling_home_players.append(df.loc[index,'dribbling_home_player_11'])\n",
    "\n",
    "        dribbling_away_players = []\n",
    "        dribbling_away_players.append(df.loc[index,'dribbling_away_player_1'])\n",
    "        dribbling_away_players.append(df.loc[index,'dribbling_away_player_2'])\n",
    "        dribbling_away_players.append(df.loc[index,'dribbling_away_player_3'])\n",
    "        dribbling_away_players.append(df.loc[index,'dribbling_away_player_4'])\n",
    "        dribbling_away_players.append(df.loc[index,'dribbling_away_player_5'])\n",
    "        dribbling_away_players.append(df.loc[index,'dribbling_away_player_6'])\n",
    "        dribbling_away_players.append(df.loc[index,'dribbling_away_player_7'])\n",
    "        dribbling_away_players.append(df.loc[index,'dribbling_away_player_8'])\n",
    "        dribbling_away_players.append(df.loc[index,'dribbling_away_player_9'])\n",
    "        dribbling_away_players.append(df.loc[index,'dribbling_away_player_10'])\n",
    "        dribbling_away_players.append(df.loc[index,'dribbling_away_player_11'])\n",
    "\n",
    "\n",
    "        free_kick_accuracy_home_players = []\n",
    "        free_kick_accuracy_home_players.append(df.loc[index,'free_kick_accuracy_home_player_1'])\n",
    "        free_kick_accuracy_home_players.append(df.loc[index,'free_kick_accuracy_home_player_2'])\n",
    "        free_kick_accuracy_home_players.append(df.loc[index,'free_kick_accuracy_home_player_3'])\n",
    "        free_kick_accuracy_home_players.append(df.loc[index,'free_kick_accuracy_home_player_4'])\n",
    "        free_kick_accuracy_home_players.append(df.loc[index,'free_kick_accuracy_home_player_5'])\n",
    "        free_kick_accuracy_home_players.append(df.loc[index,'free_kick_accuracy_home_player_6'])\n",
    "        free_kick_accuracy_home_players.append(df.loc[index,'free_kick_accuracy_home_player_7'])\n",
    "        free_kick_accuracy_home_players.append(df.loc[index,'free_kick_accuracy_home_player_8'])\n",
    "        free_kick_accuracy_home_players.append(df.loc[index,'free_kick_accuracy_home_player_9'])\n",
    "        free_kick_accuracy_home_players.append(df.loc[index,'free_kick_accuracy_home_player_10'])\n",
    "        free_kick_accuracy_home_players.append(df.loc[index,'free_kick_accuracy_home_player_11'])\n",
    "\n",
    "        free_kick_accuracy_away_players = []\n",
    "        free_kick_accuracy_away_players.append(df.loc[index,'free_kick_accuracy_away_player_1'])\n",
    "        free_kick_accuracy_away_players.append(df.loc[index,'free_kick_accuracy_away_player_2'])\n",
    "        free_kick_accuracy_away_players.append(df.loc[index,'free_kick_accuracy_away_player_3'])\n",
    "        free_kick_accuracy_away_players.append(df.loc[index,'free_kick_accuracy_away_player_4'])\n",
    "        free_kick_accuracy_away_players.append(df.loc[index,'free_kick_accuracy_away_player_5'])\n",
    "        free_kick_accuracy_away_players.append(df.loc[index,'free_kick_accuracy_away_player_6'])\n",
    "        free_kick_accuracy_away_players.append(df.loc[index,'free_kick_accuracy_away_player_7'])\n",
    "        free_kick_accuracy_away_players.append(df.loc[index,'free_kick_accuracy_away_player_8'])\n",
    "        free_kick_accuracy_away_players.append(df.loc[index,'free_kick_accuracy_away_player_9'])\n",
    "        free_kick_accuracy_away_players.append(df.loc[index,'free_kick_accuracy_away_player_10'])\n",
    "        free_kick_accuracy_away_players.append(df.loc[index,'free_kick_accuracy_away_player_11'])\n",
    "\n",
    "\n",
    "        ball_control_home_players = []\n",
    "        ball_control_home_players.append(df.loc[index,'ball_control_home_player_1'])\n",
    "        ball_control_home_players.append(df.loc[index,'ball_control_home_player_2'])\n",
    "        ball_control_home_players.append(df.loc[index,'ball_control_home_player_3'])\n",
    "        ball_control_home_players.append(df.loc[index,'ball_control_home_player_4'])\n",
    "        ball_control_home_players.append(df.loc[index,'ball_control_home_player_5'])\n",
    "        ball_control_home_players.append(df.loc[index,'ball_control_home_player_6'])\n",
    "        ball_control_home_players.append(df.loc[index,'ball_control_home_player_7'])\n",
    "        ball_control_home_players.append(df.loc[index,'ball_control_home_player_8'])\n",
    "        ball_control_home_players.append(df.loc[index,'ball_control_home_player_9'])\n",
    "        ball_control_home_players.append(df.loc[index,'ball_control_home_player_10'])\n",
    "        ball_control_home_players.append(df.loc[index,'ball_control_home_player_11'])\n",
    "\n",
    "\n",
    "        ball_control_away_players = []\n",
    "        ball_control_away_players.append(df.loc[index,'ball_control_away_player_1'])\n",
    "        ball_control_away_players.append(df.loc[index,'ball_control_away_player_2'])\n",
    "        ball_control_away_players.append(df.loc[index,'ball_control_away_player_3'])\n",
    "        ball_control_away_players.append(df.loc[index,'ball_control_away_player_4'])\n",
    "        ball_control_away_players.append(df.loc[index,'ball_control_away_player_5'])\n",
    "        ball_control_away_players.append(df.loc[index,'ball_control_away_player_6'])\n",
    "        ball_control_away_players.append(df.loc[index,'ball_control_away_player_7'])\n",
    "        ball_control_away_players.append(df.loc[index,'ball_control_away_player_8'])\n",
    "        ball_control_away_players.append(df.loc[index,'ball_control_away_player_9'])\n",
    "        ball_control_away_players.append(df.loc[index,'ball_control_away_player_10'])\n",
    "        ball_control_away_players.append(df.loc[index,'ball_control_away_player_11'])\n",
    "\n",
    "\n",
    "        sprint_speed_home_players = []\n",
    "        sprint_speed_home_players.append(df.loc[index,'sprint_speed_home_player_1'])\n",
    "        sprint_speed_home_players.append(df.loc[index,'sprint_speed_home_player_2'])\n",
    "        sprint_speed_home_players.append(df.loc[index,'sprint_speed_home_player_3'])\n",
    "        sprint_speed_home_players.append(df.loc[index,'sprint_speed_home_player_4'])\n",
    "        sprint_speed_home_players.append(df.loc[index,'sprint_speed_home_player_5'])\n",
    "        sprint_speed_home_players.append(df.loc[index,'sprint_speed_home_player_6'])\n",
    "        sprint_speed_home_players.append(df.loc[index,'sprint_speed_home_player_7'])\n",
    "        sprint_speed_home_players.append(df.loc[index,'sprint_speed_home_player_8'])\n",
    "        sprint_speed_home_players.append(df.loc[index,'sprint_speed_home_player_9'])\n",
    "        sprint_speed_home_players.append(df.loc[index,'sprint_speed_home_player_10'])\n",
    "        sprint_speed_home_players.append(df.loc[index,'sprint_speed_home_player_11'])\n",
    "\n",
    "\n",
    "        sprint_speed_away_players = []\n",
    "        sprint_speed_away_players.append(df.loc[index,'sprint_speed_away_player_1'])\n",
    "        sprint_speed_away_players.append(df.loc[index,'sprint_speed_away_player_2'])\n",
    "        sprint_speed_away_players.append(df.loc[index,'sprint_speed_away_player_3'])\n",
    "        sprint_speed_away_players.append(df.loc[index,'sprint_speed_away_player_4'])\n",
    "        sprint_speed_away_players.append(df.loc[index,'sprint_speed_away_player_5'])\n",
    "        sprint_speed_away_players.append(df.loc[index,'sprint_speed_away_player_6'])\n",
    "        sprint_speed_away_players.append(df.loc[index,'sprint_speed_away_player_7'])\n",
    "        sprint_speed_away_players.append(df.loc[index,'sprint_speed_away_player_8'])\n",
    "        sprint_speed_away_players.append(df.loc[index,'sprint_speed_away_player_9'])\n",
    "        sprint_speed_away_players.append(df.loc[index,'sprint_speed_away_player_10'])\n",
    "        sprint_speed_away_players.append(df.loc[index,'sprint_speed_away_player_11'])\n",
    "\n",
    "\n",
    "        acceleration_home_players = []\n",
    "        acceleration_home_players.append(df.loc[index,'acceleration_home_player_1'])\n",
    "        acceleration_home_players.append(df.loc[index,'acceleration_home_player_2'])\n",
    "        acceleration_home_players.append(df.loc[index,'acceleration_home_player_3'])\n",
    "        acceleration_home_players.append(df.loc[index,'acceleration_home_player_4'])\n",
    "        acceleration_home_players.append(df.loc[index,'acceleration_home_player_5'])\n",
    "        acceleration_home_players.append(df.loc[index,'acceleration_home_player_6'])\n",
    "        acceleration_home_players.append(df.loc[index,'acceleration_home_player_7'])\n",
    "        acceleration_home_players.append(df.loc[index,'acceleration_home_player_8'])\n",
    "        acceleration_home_players.append(df.loc[index,'acceleration_home_player_9'])\n",
    "        acceleration_home_players.append(df.loc[index,'acceleration_home_player_10'])\n",
    "        acceleration_home_players.append(df.loc[index,'acceleration_home_player_11'])\n",
    "\n",
    "\n",
    "        acceleration_away_players = []\n",
    "        acceleration_away_players.append(df.loc[index,'acceleration_away_player_1'])\n",
    "        acceleration_away_players.append(df.loc[index,'acceleration_away_player_2'])\n",
    "        acceleration_away_players.append(df.loc[index,'acceleration_away_player_3'])\n",
    "        acceleration_away_players.append(df.loc[index,'acceleration_away_player_4'])\n",
    "        acceleration_away_players.append(df.loc[index,'acceleration_away_player_5'])\n",
    "        acceleration_away_players.append(df.loc[index,'acceleration_away_player_6'])\n",
    "        acceleration_away_players.append(df.loc[index,'acceleration_away_player_7'])\n",
    "        acceleration_away_players.append(df.loc[index,'acceleration_away_player_8'])\n",
    "        acceleration_away_players.append(df.loc[index,'acceleration_away_player_9'])\n",
    "        acceleration_away_players.append(df.loc[index,'acceleration_away_player_10'])\n",
    "        acceleration_away_players.append(df.loc[index,'acceleration_away_player_11'])\n",
    "\n",
    "\n",
    "        strength_home_players = []\n",
    "        strength_home_players.append(df.loc[index,'strength_home_player_1'])\n",
    "        strength_home_players.append(df.loc[index,'strength_home_player_2'])\n",
    "        strength_home_players.append(df.loc[index,'strength_home_player_3'])\n",
    "        strength_home_players.append(df.loc[index,'strength_home_player_4'])\n",
    "        strength_home_players.append(df.loc[index,'strength_home_player_5'])\n",
    "        strength_home_players.append(df.loc[index,'strength_home_player_6'])\n",
    "        strength_home_players.append(df.loc[index,'strength_home_player_7'])\n",
    "        strength_home_players.append(df.loc[index,'strength_home_player_8'])\n",
    "        strength_home_players.append(df.loc[index,'strength_home_player_9'])\n",
    "        strength_home_players.append(df.loc[index,'strength_home_player_10'])\n",
    "        strength_home_players.append(df.loc[index,'strength_home_player_11'])\n",
    "\n",
    "\n",
    "        strength_away_players = []\n",
    "        strength_away_players.append(df.loc[index,'strength_away_player_1'])\n",
    "        strength_away_players.append(df.loc[index,'strength_away_player_2'])\n",
    "        strength_away_players.append(df.loc[index,'strength_away_player_3'])\n",
    "        strength_away_players.append(df.loc[index,'strength_away_player_4'])\n",
    "        strength_away_players.append(df.loc[index,'strength_away_player_5'])\n",
    "        strength_away_players.append(df.loc[index,'strength_away_player_6'])\n",
    "        strength_away_players.append(df.loc[index,'strength_away_player_7'])\n",
    "        strength_away_players.append(df.loc[index,'strength_away_player_8'])\n",
    "        strength_away_players.append(df.loc[index,'strength_away_player_9'])\n",
    "        strength_away_players.append(df.loc[index,'strength_away_player_10'])\n",
    "        strength_away_players.append(df.loc[index,'strength_away_player_11'])\n",
    "\n",
    "\n",
    "        long_shots_home_players = []\n",
    "        long_shots_home_players.append(df.loc[index,'long_shots_home_player_1'])\n",
    "        long_shots_home_players.append(df.loc[index,'long_shots_home_player_2'])\n",
    "        long_shots_home_players.append(df.loc[index,'long_shots_home_player_3'])\n",
    "        long_shots_home_players.append(df.loc[index,'long_shots_home_player_4'])\n",
    "        long_shots_home_players.append(df.loc[index,'long_shots_home_player_5'])\n",
    "        long_shots_home_players.append(df.loc[index,'long_shots_home_player_6'])\n",
    "        long_shots_home_players.append(df.loc[index,'long_shots_home_player_7'])\n",
    "        long_shots_home_players.append(df.loc[index,'long_shots_home_player_8'])\n",
    "        long_shots_home_players.append(df.loc[index,'long_shots_home_player_9'])\n",
    "        long_shots_home_players.append(df.loc[index,'long_shots_home_player_10'])\n",
    "        long_shots_home_players.append(df.loc[index,'long_shots_home_player_11'])\n",
    "\n",
    "\n",
    "        long_shots_away_players = []\n",
    "        long_shots_away_players.append(df.loc[index,'long_shots_away_player_1'])\n",
    "        long_shots_away_players.append(df.loc[index,'long_shots_away_player_2'])\n",
    "        long_shots_away_players.append(df.loc[index,'long_shots_away_player_3'])\n",
    "        long_shots_away_players.append(df.loc[index,'long_shots_away_player_4'])\n",
    "        long_shots_away_players.append(df.loc[index,'long_shots_away_player_5'])\n",
    "        long_shots_away_players.append(df.loc[index,'long_shots_away_player_6'])\n",
    "        long_shots_away_players.append(df.loc[index,'long_shots_away_player_7'])\n",
    "        long_shots_away_players.append(df.loc[index,'long_shots_away_player_8'])\n",
    "        long_shots_away_players.append(df.loc[index,'long_shots_away_player_9'])\n",
    "        long_shots_away_players.append(df.loc[index,'long_shots_away_player_10'])\n",
    "        long_shots_away_players.append(df.loc[index,'long_shots_away_player_11'])\n",
    "\n",
    "\n",
    "\n",
    "        aggression_home_players = []\n",
    "        aggression_home_players.append(df.loc[index,'aggression_home_player_1'])\n",
    "        aggression_home_players.append(df.loc[index,'aggression_home_player_2'])\n",
    "        aggression_home_players.append(df.loc[index,'aggression_home_player_3'])\n",
    "        aggression_home_players.append(df.loc[index,'aggression_home_player_4'])\n",
    "        aggression_home_players.append(df.loc[index,'aggression_home_player_5'])\n",
    "        aggression_home_players.append(df.loc[index,'aggression_home_player_6'])\n",
    "        aggression_home_players.append(df.loc[index,'aggression_home_player_7'])\n",
    "        aggression_home_players.append(df.loc[index,'aggression_home_player_8'])\n",
    "        aggression_home_players.append(df.loc[index,'aggression_home_player_9'])\n",
    "        aggression_home_players.append(df.loc[index,'aggression_home_player_10'])\n",
    "        aggression_home_players.append(df.loc[index,'aggression_home_player_11'])\n",
    "\n",
    "\n",
    "        aggression_away_players = []\n",
    "        aggression_away_players.append(df.loc[index,'aggression_away_player_1'])\n",
    "        aggression_away_players.append(df.loc[index,'aggression_away_player_2'])\n",
    "        aggression_away_players.append(df.loc[index,'aggression_away_player_3'])\n",
    "        aggression_away_players.append(df.loc[index,'aggression_away_player_4'])\n",
    "        aggression_away_players.append(df.loc[index,'aggression_away_player_5'])\n",
    "        aggression_away_players.append(df.loc[index,'aggression_away_player_6'])\n",
    "        aggression_away_players.append(df.loc[index,'aggression_away_player_7'])\n",
    "        aggression_away_players.append(df.loc[index,'aggression_away_player_8'])\n",
    "        aggression_away_players.append(df.loc[index,'aggression_away_player_9'])\n",
    "        aggression_away_players.append(df.loc[index,'aggression_away_player_10'])\n",
    "        aggression_away_players.append(df.loc[index,'aggression_away_player_11'])\n",
    "\n",
    "\n",
    "\n",
    "        positioning_home_players = []\n",
    "        positioning_home_players.append(df.loc[index,'positioning_home_player_1'])\n",
    "        positioning_home_players.append(df.loc[index,'positioning_home_player_2'])\n",
    "        positioning_home_players.append(df.loc[index,'positioning_home_player_3'])\n",
    "        positioning_home_players.append(df.loc[index,'positioning_home_player_4'])\n",
    "        positioning_home_players.append(df.loc[index,'positioning_home_player_5'])\n",
    "        positioning_home_players.append(df.loc[index,'positioning_home_player_6'])\n",
    "        positioning_home_players.append(df.loc[index,'positioning_home_player_7'])\n",
    "        positioning_home_players.append(df.loc[index,'positioning_home_player_8'])\n",
    "        positioning_home_players.append(df.loc[index,'positioning_home_player_9'])\n",
    "        positioning_home_players.append(df.loc[index,'positioning_home_player_10'])\n",
    "        positioning_home_players.append(df.loc[index,'positioning_home_player_11'])\n",
    "\n",
    "\n",
    "        positioning_away_players = []\n",
    "        positioning_away_players.append(df.loc[index,'positioning_away_player_1'])\n",
    "        positioning_away_players.append(df.loc[index,'positioning_away_player_2'])\n",
    "        positioning_away_players.append(df.loc[index,'positioning_away_player_3'])\n",
    "        positioning_away_players.append(df.loc[index,'positioning_away_player_4'])\n",
    "        positioning_away_players.append(df.loc[index,'positioning_away_player_5'])\n",
    "        positioning_away_players.append(df.loc[index,'positioning_away_player_6'])\n",
    "        positioning_away_players.append(df.loc[index,'positioning_away_player_7'])\n",
    "        positioning_away_players.append(df.loc[index,'positioning_away_player_8'])\n",
    "        positioning_away_players.append(df.loc[index,'positioning_away_player_9'])\n",
    "        positioning_away_players.append(df.loc[index,'positioning_away_player_10'])\n",
    "        positioning_away_players.append(df.loc[index,'positioning_away_player_11'])\n",
    "\n",
    "\n",
    "        interceptions_home_players = []\n",
    "        interceptions_home_players.append(df.loc[index,'interceptions_home_player_1'])\n",
    "        interceptions_home_players.append(df.loc[index,'interceptions_home_player_2'])\n",
    "        interceptions_home_players.append(df.loc[index,'interceptions_home_player_3'])\n",
    "        interceptions_home_players.append(df.loc[index,'interceptions_home_player_4'])\n",
    "        interceptions_home_players.append(df.loc[index,'interceptions_home_player_5'])\n",
    "        interceptions_home_players.append(df.loc[index,'interceptions_home_player_6'])\n",
    "        interceptions_home_players.append(df.loc[index,'interceptions_home_player_7'])\n",
    "        interceptions_home_players.append(df.loc[index,'interceptions_home_player_8'])\n",
    "        interceptions_home_players.append(df.loc[index,'interceptions_home_player_9'])\n",
    "        interceptions_home_players.append(df.loc[index,'interceptions_home_player_10'])\n",
    "        interceptions_home_players.append(df.loc[index,'interceptions_home_player_11'])\n",
    "\n",
    "\n",
    "        interceptions_away_players = []\n",
    "        interceptions_away_players.append(df.loc[index,'interceptions_away_player_1'])\n",
    "        interceptions_away_players.append(df.loc[index,'interceptions_away_player_2'])\n",
    "        interceptions_away_players.append(df.loc[index,'interceptions_away_player_3'])\n",
    "        interceptions_away_players.append(df.loc[index,'interceptions_away_player_4'])\n",
    "        interceptions_away_players.append(df.loc[index,'interceptions_away_player_5'])\n",
    "        interceptions_away_players.append(df.loc[index,'interceptions_away_player_6'])\n",
    "        interceptions_away_players.append(df.loc[index,'interceptions_away_player_7'])\n",
    "        interceptions_away_players.append(df.loc[index,'interceptions_away_player_8'])\n",
    "        interceptions_away_players.append(df.loc[index,'interceptions_away_player_9'])\n",
    "        interceptions_away_players.append(df.loc[index,'interceptions_away_player_10'])\n",
    "        interceptions_away_players.append(df.loc[index,'interceptions_away_player_11'])\n",
    "\n",
    "\n",
    "        penalties_home_players = []\n",
    "        penalties_home_players.append(df.loc[index,'penalties_home_player_1'])\n",
    "        penalties_home_players.append(df.loc[index,'penalties_home_player_2'])\n",
    "        penalties_home_players.append(df.loc[index,'penalties_home_player_3'])\n",
    "        penalties_home_players.append(df.loc[index,'penalties_home_player_4'])\n",
    "        penalties_home_players.append(df.loc[index,'penalties_home_player_5'])\n",
    "        penalties_home_players.append(df.loc[index,'penalties_home_player_6'])\n",
    "        penalties_home_players.append(df.loc[index,'penalties_home_player_7'])\n",
    "        penalties_home_players.append(df.loc[index,'penalties_home_player_8'])\n",
    "        penalties_home_players.append(df.loc[index,'penalties_home_player_9'])\n",
    "        penalties_home_players.append(df.loc[index,'penalties_home_player_10'])\n",
    "        penalties_home_players.append(df.loc[index,'penalties_home_player_11'])\n",
    "\n",
    "\n",
    "        penalties_away_players = []\n",
    "        penalties_away_players.append(df.loc[index,'penalties_away_player_1'])\n",
    "        penalties_away_players.append(df.loc[index,'penalties_away_player_2'])\n",
    "        penalties_away_players.append(df.loc[index,'penalties_away_player_3'])\n",
    "        penalties_away_players.append(df.loc[index,'penalties_away_player_4'])\n",
    "        penalties_away_players.append(df.loc[index,'penalties_away_player_5'])\n",
    "        penalties_away_players.append(df.loc[index,'penalties_away_player_6'])\n",
    "        penalties_away_players.append(df.loc[index,'penalties_away_player_7'])\n",
    "        penalties_away_players.append(df.loc[index,'penalties_away_player_8'])\n",
    "        penalties_away_players.append(df.loc[index,'penalties_away_player_9'])\n",
    "        penalties_away_players.append(df.loc[index,'penalties_away_player_10'])\n",
    "        penalties_away_players.append(df.loc[index,'penalties_away_player_11'])\n",
    "\n",
    "\n",
    "        marking_home_players = []\n",
    "        marking_home_players.append(df.loc[index,'marking_home_player_1'])\n",
    "        marking_home_players.append(df.loc[index,'marking_home_player_2'])\n",
    "        marking_home_players.append(df.loc[index,'marking_home_player_3'])\n",
    "        marking_home_players.append(df.loc[index,'marking_home_player_4'])\n",
    "        marking_home_players.append(df.loc[index,'marking_home_player_5'])\n",
    "        marking_home_players.append(df.loc[index,'marking_home_player_6'])\n",
    "        marking_home_players.append(df.loc[index,'marking_home_player_7'])\n",
    "        marking_home_players.append(df.loc[index,'marking_home_player_8'])\n",
    "        marking_home_players.append(df.loc[index,'marking_home_player_9'])\n",
    "        marking_home_players.append(df.loc[index,'marking_home_player_10'])\n",
    "        marking_home_players.append(df.loc[index,'marking_home_player_11'])\n",
    "\n",
    "\n",
    "        marking_away_players = []\n",
    "        marking_away_players.append(df.loc[index,'marking_away_player_1'])\n",
    "        marking_away_players.append(df.loc[index,'marking_away_player_2'])\n",
    "        marking_away_players.append(df.loc[index,'marking_away_player_3'])\n",
    "        marking_away_players.append(df.loc[index,'marking_away_player_4'])\n",
    "        marking_away_players.append(df.loc[index,'marking_away_player_5'])\n",
    "        marking_away_players.append(df.loc[index,'marking_away_player_6'])\n",
    "        marking_away_players.append(df.loc[index,'marking_away_player_7'])\n",
    "        marking_away_players.append(df.loc[index,'marking_away_player_8'])\n",
    "        marking_away_players.append(df.loc[index,'marking_away_player_9'])\n",
    "        marking_away_players.append(df.loc[index,'marking_away_player_10'])\n",
    "        marking_away_players.append(df.loc[index,'marking_away_player_11'])\n",
    "\n",
    "\n",
    "\n",
    "        stamina_home_players = []\n",
    "        stamina_home_players.append(df.loc[index,'stamina_home_player_1'])\n",
    "        stamina_home_players.append(df.loc[index,'stamina_home_player_2'])\n",
    "        stamina_home_players.append(df.loc[index,'stamina_home_player_3'])\n",
    "        stamina_home_players.append(df.loc[index,'stamina_home_player_4'])\n",
    "        stamina_home_players.append(df.loc[index,'stamina_home_player_5'])\n",
    "        stamina_home_players.append(df.loc[index,'stamina_home_player_6'])\n",
    "        stamina_home_players.append(df.loc[index,'stamina_home_player_7'])\n",
    "        stamina_home_players.append(df.loc[index,'stamina_home_player_8'])\n",
    "        stamina_home_players.append(df.loc[index,'stamina_home_player_9'])\n",
    "        stamina_home_players.append(df.loc[index,'stamina_home_player_10'])\n",
    "        stamina_home_players.append(df.loc[index,'stamina_home_player_11'])\n",
    "\n",
    "\n",
    "        stamina_away_players = []\n",
    "        stamina_away_players.append(df.loc[index,'stamina_away_player_1'])\n",
    "        stamina_away_players.append(df.loc[index,'stamina_away_player_2'])\n",
    "        stamina_away_players.append(df.loc[index,'stamina_away_player_3'])\n",
    "        stamina_away_players.append(df.loc[index,'stamina_away_player_4'])\n",
    "        stamina_away_players.append(df.loc[index,'stamina_away_player_5'])\n",
    "        stamina_away_players.append(df.loc[index,'stamina_away_player_6'])\n",
    "        stamina_away_players.append(df.loc[index,'stamina_away_player_7'])\n",
    "        stamina_away_players.append(df.loc[index,'stamina_away_player_8'])\n",
    "        stamina_away_players.append(df.loc[index,'stamina_away_player_9'])\n",
    "        stamina_away_players.append(df.loc[index,'stamina_away_player_10'])\n",
    "        stamina_away_players.append(df.loc[index,'stamina_away_player_11'])\n",
    "\n",
    "\n",
    "        shot_power_home_players = []\n",
    "        shot_power_home_players.append(df.loc[index,'shot_power_home_player_1'])\n",
    "        shot_power_home_players.append(df.loc[index,'shot_power_home_player_2'])\n",
    "        shot_power_home_players.append(df.loc[index,'shot_power_home_player_3'])\n",
    "        shot_power_home_players.append(df.loc[index,'shot_power_home_player_4'])\n",
    "        shot_power_home_players.append(df.loc[index,'shot_power_home_player_5'])\n",
    "        shot_power_home_players.append(df.loc[index,'shot_power_home_player_6'])\n",
    "        shot_power_home_players.append(df.loc[index,'shot_power_home_player_7'])\n",
    "        shot_power_home_players.append(df.loc[index,'shot_power_home_player_8'])\n",
    "        shot_power_home_players.append(df.loc[index,'shot_power_home_player_9'])\n",
    "        shot_power_home_players.append(df.loc[index,'shot_power_home_player_10'])\n",
    "        shot_power_home_players.append(df.loc[index,'shot_power_home_player_11'])\n",
    "\n",
    "\n",
    "        shot_power_away_players = []\n",
    "        shot_power_away_players.append(df.loc[index,'shot_power_away_player_1'])\n",
    "        shot_power_away_players.append(df.loc[index,'shot_power_away_player_2'])\n",
    "        shot_power_away_players.append(df.loc[index,'shot_power_away_player_3'])\n",
    "        shot_power_away_players.append(df.loc[index,'shot_power_away_player_4'])\n",
    "        shot_power_away_players.append(df.loc[index,'shot_power_away_player_5'])\n",
    "        shot_power_away_players.append(df.loc[index,'shot_power_away_player_6'])\n",
    "        shot_power_away_players.append(df.loc[index,'shot_power_away_player_7'])\n",
    "        shot_power_away_players.append(df.loc[index,'shot_power_away_player_8'])\n",
    "        shot_power_away_players.append(df.loc[index,'shot_power_away_player_9'])\n",
    "        shot_power_away_players.append(df.loc[index,'shot_power_away_player_10'])\n",
    "        shot_power_away_players.append(df.loc[index,'shot_power_away_player_11'])\n",
    "\n",
    "        home_players = []\n",
    "        home_players.append(overall_rating_home_players)\n",
    "        home_players.append(potential_home_players)\n",
    "        home_players.append(crossing_home_players)\n",
    "        home_players.append(finishing_home_players)\n",
    "        home_players.append(heading_accuracy_home_players)\n",
    "        home_players.append(dribbling_home_players)\n",
    "        home_players.append(free_kick_accuracy_home_players)\n",
    "        home_players.append(ball_control_home_players)\n",
    "        home_players.append(sprint_speed_home_players)\n",
    "        home_players.append(acceleration_home_players)\n",
    "        home_players.append(strength_home_players)\n",
    "        home_players.append(long_shots_home_players)\n",
    "        home_players.append(aggression_home_players)\n",
    "        home_players.append(positioning_home_players)\n",
    "        home_players.append(interceptions_home_players)\n",
    "        home_players.append(penalties_home_players)\n",
    "        home_players.append(marking_home_players)\n",
    "        home_players.append(stamina_home_players)\n",
    "        home_players.append(shot_power_home_players)\n",
    "        \n",
    "        home_player_data.append(home_players)\n",
    "        \n",
    "        away_players = []\n",
    "        away_players.append(overall_rating_away_players)\n",
    "        away_players.append(potential_away_players)\n",
    "        away_players.append(crossing_away_players)\n",
    "        away_players.append(finishing_away_players)\n",
    "        away_players.append(heading_accuracy_away_players)\n",
    "        away_players.append(dribbling_away_players)\n",
    "        away_players.append(free_kick_accuracy_away_players)\n",
    "        away_players.append(ball_control_away_players)\n",
    "        away_players.append(sprint_speed_away_players)\n",
    "        away_players.append(acceleration_away_players)\n",
    "        away_players.append(strength_away_players)\n",
    "        away_players.append(long_shots_away_players)\n",
    "        away_players.append(aggression_away_players)\n",
    "        away_players.append(positioning_away_players)\n",
    "        away_players.append(interceptions_away_players)\n",
    "        away_players.append(penalties_away_players)\n",
    "        away_players.append(marking_away_players)\n",
    "        away_players.append(stamina_away_players)\n",
    "        away_players.append(shot_power_away_players)\n",
    "        \n",
    "        away_player_data.append(away_players)\n",
    "\n"
   ]
  },
  {
   "cell_type": "code",
   "execution_count": 36,
   "metadata": {},
   "outputs": [],
   "source": [
    "X = df.drop(['result','date', 'home_team_goal','away_team_goal'], axis=1)\n",
    "y = df[['result']]\n",
    "RANDOM_SEED =42\n",
    "np.random.seed(RANDOM_SEED)\n",
    "torch.manual_seed(RANDOM_SEED)\n",
    "\n",
    "X_train, X_test, y_train, y_test =\\\n",
    "    train_test_split(X, y, test_size=0.2, random_state=RANDOM_SEED)"
   ]
  },
  {
   "cell_type": "code",
   "execution_count": 37,
   "metadata": {},
   "outputs": [
    {
     "data": {
      "text/plain": [
       "2.0    0.458637\n",
       "0.0    0.290715\n",
       "1.0    0.250647\n",
       "Name: result, dtype: float64"
      ]
     },
     "execution_count": 37,
     "metadata": {},
     "output_type": "execute_result"
    }
   ],
   "source": [
    "y_train.result.value_counts()/y_train.shape[0]"
   ]
  },
  {
   "cell_type": "code",
   "execution_count": 38,
   "metadata": {},
   "outputs": [
    {
     "data": {
      "text/plain": [
       "2.0    7795\n",
       "0.0    4941\n",
       "1.0    4260\n",
       "Name: result, dtype: int64"
      ]
     },
     "execution_count": 38,
     "metadata": {},
     "output_type": "execute_result"
    }
   ],
   "source": [
    "y_train.result.value_counts()"
   ]
  },
  {
   "cell_type": "code",
   "execution_count": 39,
   "metadata": {},
   "outputs": [
    {
     "name": "stderr",
     "output_type": "stream",
     "text": [
      "16996it [05:26, 52.08it/s]\n"
     ]
    }
   ],
   "source": [
    "home_player_data = []\n",
    "away_player_data = []\n",
    "playerfunction( X_train )\n",
    "player_home_train_data = home_player_data\n",
    "Player_Home_Train = torch.Tensor(np.array(player_home_train_data))\n",
    "\n",
    "player_away_train_data = away_player_data\n",
    "Player_Away_Train = torch.Tensor(np.array(player_away_train_data))"
   ]
  },
  {
   "cell_type": "code",
   "execution_count": 40,
   "metadata": {},
   "outputs": [
    {
     "data": {
      "text/plain": [
       "'torch.FloatTensor'"
      ]
     },
     "execution_count": 40,
     "metadata": {},
     "output_type": "execute_result"
    }
   ],
   "source": [
    "Player_Home_Train.type()"
   ]
  },
  {
   "cell_type": "code",
   "execution_count": 41,
   "metadata": {},
   "outputs": [
    {
     "data": {
      "text/plain": [
       "torch.Size([16996, 19, 11])"
      ]
     },
     "execution_count": 41,
     "metadata": {},
     "output_type": "execute_result"
    }
   ],
   "source": [
    "Player_Home_Train.size()"
   ]
  },
  {
   "cell_type": "code",
   "execution_count": 42,
   "metadata": {},
   "outputs": [
    {
     "data": {
      "text/plain": [
       "'torch.FloatTensor'"
      ]
     },
     "execution_count": 42,
     "metadata": {},
     "output_type": "execute_result"
    }
   ],
   "source": [
    "Player_Away_Train.type()"
   ]
  },
  {
   "cell_type": "code",
   "execution_count": 43,
   "metadata": {},
   "outputs": [
    {
     "data": {
      "text/plain": [
       "torch.Size([16996, 19, 11])"
      ]
     },
     "execution_count": 43,
     "metadata": {},
     "output_type": "execute_result"
    }
   ],
   "source": [
    "Player_Away_Train.size()"
   ]
  },
  {
   "cell_type": "code",
   "execution_count": 44,
   "metadata": {},
   "outputs": [
    {
     "name": "stderr",
     "output_type": "stream",
     "text": [
      "4250it [01:20, 52.93it/s]\n"
     ]
    }
   ],
   "source": [
    "home_player_data = []\n",
    "away_player_data = []\n",
    "playerfunction( X_test )\n",
    "\n",
    "player_home_test_data = home_player_data\n",
    "Player_Home_Test = torch.Tensor(np.array(player_home_test_data))\n",
    "\n",
    "player_away_test_data = away_player_data\n",
    "Player_Away_Test = torch.Tensor(np.array(player_away_test_data))"
   ]
  },
  {
   "cell_type": "code",
   "execution_count": 45,
   "metadata": {},
   "outputs": [],
   "source": [
    "y_train = torch.squeeze(torch.LongTensor(np.array(y_train)))"
   ]
  },
  {
   "cell_type": "code",
   "execution_count": 51,
   "metadata": {},
   "outputs": [
    {
     "data": {
      "text/plain": [
       "'torch.LongTensor'"
      ]
     },
     "execution_count": 51,
     "metadata": {},
     "output_type": "execute_result"
    }
   ],
   "source": [
    "y_train.type()"
   ]
  },
  {
   "cell_type": "code",
   "execution_count": 50,
   "metadata": {},
   "outputs": [
    {
     "data": {
      "text/plain": [
       "torch.Size([16996])"
      ]
     },
     "execution_count": 50,
     "metadata": {},
     "output_type": "execute_result"
    }
   ],
   "source": [
    "y_train.size()"
   ]
  },
  {
   "cell_type": "code",
   "execution_count": 47,
   "metadata": {},
   "outputs": [],
   "source": [
    "y_test = torch.squeeze(torch.LongTensor(np.array(y_test)))"
   ]
  },
  {
   "cell_type": "code",
   "execution_count": 48,
   "metadata": {},
   "outputs": [
    {
     "data": {
      "text/plain": [
       "'torch.LongTensor'"
      ]
     },
     "execution_count": 48,
     "metadata": {},
     "output_type": "execute_result"
    }
   ],
   "source": [
    "y_test.type()"
   ]
  },
  {
   "cell_type": "code",
   "execution_count": 49,
   "metadata": {},
   "outputs": [
    {
     "data": {
      "text/plain": [
       "torch.Size([4250])"
      ]
     },
     "execution_count": 49,
     "metadata": {},
     "output_type": "execute_result"
    }
   ],
   "source": [
    "y_test.size()"
   ]
  },
  {
   "cell_type": "code",
   "execution_count": 53,
   "metadata": {},
   "outputs": [
    {
     "data": {
      "text/plain": [
       "torch.Size([16996, 1, 19, 11])"
      ]
     },
     "execution_count": 53,
     "metadata": {},
     "output_type": "execute_result"
    }
   ],
   "source": [
    "Player_Home_Train = Player_Home_Train.unsqueeze(1)\n",
    "Player_Home_Train.size()\n",
    "\n",
    "Player_Away_Train = Player_Away_Train.unsqueeze(1)\n",
    "Player_Away_Train.size()"
   ]
  },
  {
   "cell_type": "code",
   "execution_count": 54,
   "metadata": {},
   "outputs": [
    {
     "data": {
      "text/plain": [
       "torch.Size([4250, 1, 19, 11])"
      ]
     },
     "execution_count": 54,
     "metadata": {},
     "output_type": "execute_result"
    }
   ],
   "source": [
    "Player_Home_Test = Player_Home_Test.unsqueeze(1)\n",
    "Player_Home_Test.size()\n",
    "\n",
    "Player_Away_Test = Player_Away_Test.unsqueeze(1)\n",
    "Player_Away_Test.size()"
   ]
  },
  {
   "cell_type": "code",
   "execution_count": 86,
   "metadata": {},
   "outputs": [],
   "source": [
    "import torch.utils.data as data_utils\n",
    "\n",
    "train = data_utils.TensorDataset(Player_Home_Train, Player_Away_Train, y_train)\n",
    "train_loader = data_utils.DataLoader(train, batch_size=128, shuffle=True)\n",
    "\n",
    "test = data_utils.TensorDataset(Player_Home_Test, Player_Away_Test, y_test)\n",
    "test_loader = data_utils.DataLoader(test, batch_size=128, shuffle=True)"
   ]
  },
  {
   "cell_type": "code",
   "execution_count": 87,
   "metadata": {},
   "outputs": [],
   "source": [
    "import torch\n",
    "from torch import nn\n",
    "from torch import optim\n",
    "import torch.nn.functional as F\n",
    "\n",
    "class Network(nn.Module):\n",
    "\n",
    "    def __init__(self):\n",
    "        super(Network, self).__init__()\n",
    "        # Convolutional Neural Network Layer \n",
    "        self.convolutaional_neural_network_layers = nn.Sequential(\n",
    "                # Here we are defining our 2D convolutional layers\n",
    "                # We can calculate the output size of each convolutional layer using the following formular\n",
    "                # outputOfEachConvLayer = [(in_channel + 2*padding - kernel_size) / stride] + 1\n",
    "                # We have in_channels=19 because our input is a 19 layer #D matrix\n",
    "                nn.Conv2d(in_channels=1, out_channels=16, kernel_size=1, stride=1), # (N, 1, 19, 11) \n",
    "                nn.ReLU(),\n",
    "                nn.BatchNorm2d(16), \n",
    "                # After the first convolutional layer the output of this layer is:\n",
    "                # [(11 + 2*0 - 1)/1] + 1 = 11.\n",
    "                # [(19 + 2*0 - 1)/1] + 1 = 19\n",
    "          \n",
    "                # output of our second conv layer\n",
    "                nn.Conv2d(in_channels=16, out_channels=64, kernel_size=1, stride=1),\n",
    "                nn.ReLU(),\n",
    "                nn.BatchNorm2d(64),\n",
    "                # After the second convolutional layer the output of this layer is:\n",
    "                # [(11 + 2*0 - 1)/1] + 1 = 11.\n",
    "                # [(19 + 2*0 - 1)/1] + 1 = 19\n",
    "                \n",
    "                # output of our third conv layer\n",
    "                nn.Conv2d(in_channels=64, out_channels=64, kernel_size=1, stride=1),\n",
    "                nn.ReLU(),\n",
    "                nn.BatchNorm2d(64),\n",
    "                # After the second convolutional layer the output of this layer is:\n",
    "                # [(11 + 2*0 - 1)/1] + 1 = 11.\n",
    "                # [(19 + 2*0 - 1)/1] + 1 = 19\n",
    "            \n",
    "                #Average pooling layer\n",
    "                nn.AvgPool2d(11, stride=1) \n",
    "                #(N, 64, 19, 11) --> (N, 64, 9, 1)\n",
    "            \n",
    "        )\n",
    "\n",
    "        # Linear layer\n",
    "        self.linear_layers = nn.Sequential(\n",
    "                # We have the output_channel=64 of our second conv layer\n",
    "                nn.Linear(in_features=1152, out_features=1024),          \n",
    "                nn.ReLU(),\n",
    "                #apply dropout 0.2 \n",
    "                nn.Dropout(p=0.2),\n",
    "                nn.Linear(in_features=1024, out_features=1024),          \n",
    "                nn.ReLU(),\n",
    "                nn.Linear(in_features=1024, out_features=1024),          \n",
    "                nn.ReLU(),\n",
    "                nn.Linear(in_features=1024, out_features=3)\n",
    "        )\n",
    "        \n",
    "    # Defining the forward pass\n",
    "    def forward(self, x1, x2):\n",
    "        out1 = self.convolutaional_neural_network_layers(x1)\n",
    "        out2 = self.convolutaional_neural_network_layers(x2)\n",
    "        out1 = torch.flatten(out1, start_dim=1)\n",
    "        out2 = torch.flatten(out2, start_dim=1)\n",
    "        x = torch.cat((out1, out2 ), 1)\n",
    "        \n",
    "        # After we get the output of our convolutional layer we must flatten it or rearrange the output into a vector\n",
    "        x = x.view(x.size(0), -1)\n",
    "        # Then pass it through the linear layer\n",
    "        x = self.linear_layers(x)\n",
    "        return x"
   ]
  },
  {
   "cell_type": "code",
   "execution_count": 88,
   "metadata": {},
   "outputs": [],
   "source": [
    "#Doing it on GPU\n",
    "device = torch.device(\"cuda:0\" if torch.cuda.is_available() else \"cpu\")\n",
    "\n",
    "model = Network()\n",
    "model.to(device)\n",
    "\n",
    "Player_Home_Train = Player_Home_Train.to(device)\n",
    "Player_Away_Train = Player_Away_Train.to(device)\n",
    "Player_Away_Test = Player_Away_Test.to(device)\n",
    "Player_Home_Test = Player_Home_Test.to(device)\n",
    "\n",
    "y_train = y_train.to(device)\n",
    "y_test = y_test.to(device)"
   ]
  },
  {
   "cell_type": "code",
   "execution_count": 89,
   "metadata": {},
   "outputs": [],
   "source": [
    "optimizer = optim.SGD(model.parameters(), lr=0.001)\n",
    "weights = [1/4941, 1/4260, 1/7795 ]\n",
    "class_weights = torch.FloatTensor(weights)\n",
    "criterion = nn.CrossEntropyLoss(weight=class_weights)"
   ]
  },
  {
   "cell_type": "code",
   "execution_count": null,
   "metadata": {},
   "outputs": [
    {
     "name": "stdout",
     "output_type": "stream",
     "text": [
      "Epoch: 0/200   Training loss: 1.0985   Testing loss: 1.0987   Train accuracy: 0.2917   Test accuracy: 0.2819   Train F1 Score: 0.1389   Test F1 Score: 0.1317  \n",
      "Epoch: 1/200   Training loss: 1.0979   Testing loss: 1.0982   Train accuracy: 0.2923   Test accuracy: 0.2824   Train F1 Score: 0.1415   Test F1 Score: 0.1342  \n",
      "Epoch: 2/200   Training loss: 1.0974   Testing loss: 1.0977   Train accuracy: 0.2935   Test accuracy: 0.2845   Train F1 Score: 0.1471   Test F1 Score: 0.1451  \n",
      "Epoch: 3/200   Training loss: 1.0968   Testing loss: 1.0969   Train accuracy: 0.2990   Test accuracy: 0.2939   Train F1 Score: 0.1543   Test F1 Score: 0.1510  \n",
      "Epoch: 4/200   Training loss: 1.0963   Testing loss: 1.0968   Train accuracy: 0.3134   Test accuracy: 0.3002   Train F1 Score: 0.1779   Test F1 Score: 0.1653  \n",
      "Epoch: 5/200   Training loss: 1.0958   Testing loss: 1.0960   Train accuracy: 0.3433   Test accuracy: 0.3435   Train F1 Score: 0.2129   Test F1 Score: 0.2210  \n",
      "Epoch: 6/200   Training loss: 1.0953   Testing loss: 1.0958   Train accuracy: 0.3674   Test accuracy: 0.3614   Train F1 Score: 0.2428   Test F1 Score: 0.2398  \n",
      "Epoch: 7/200   Training loss: 1.0947   Testing loss: 1.0951   Train accuracy: 0.3910   Test accuracy: 0.3911   Train F1 Score: 0.2622   Test F1 Score: 0.2776  \n",
      "Epoch: 8/200   Training loss: 1.0942   Testing loss: 1.0938   Train accuracy: 0.4094   Test accuracy: 0.4228   Train F1 Score: 0.2898   Test F1 Score: 0.2867  \n",
      "Epoch: 9/200   Training loss: 1.0937   Testing loss: 1.0934   Train accuracy: 0.4251   Test accuracy: 0.4278   Train F1 Score: 0.2965   Test F1 Score: 0.2857  \n",
      "Epoch: 10/200   Training loss: 1.0931   Testing loss: 1.0936   Train accuracy: 0.4337   Test accuracy: 0.4285   Train F1 Score: 0.3140   Test F1 Score: 0.3040  \n",
      "Epoch: 11/200   Training loss: 1.0924   Testing loss: 1.0929   Train accuracy: 0.4433   Test accuracy: 0.4322   Train F1 Score: 0.3238   Test F1 Score: 0.3100  \n",
      "Epoch: 12/200   Training loss: 1.0919   Testing loss: 1.0920   Train accuracy: 0.4506   Test accuracy: 0.4398   Train F1 Score: 0.3245   Test F1 Score: 0.3208  \n",
      "Epoch: 13/200   Training loss: 1.0912   Testing loss: 1.0914   Train accuracy: 0.4582   Test accuracy: 0.4473   Train F1 Score: 0.3307   Test F1 Score: 0.3234  \n",
      "Epoch: 14/200   Training loss: 1.0905   Testing loss: 1.0907   Train accuracy: 0.4578   Test accuracy: 0.4555   Train F1 Score: 0.3294   Test F1 Score: 0.3263  \n",
      "Epoch: 15/200   Training loss: 1.0900   Testing loss: 1.0907   Train accuracy: 0.4626   Test accuracy: 0.4522   Train F1 Score: 0.3347   Test F1 Score: 0.3321  \n",
      "Epoch: 16/200   Training loss: 1.0893   Testing loss: 1.0899   Train accuracy: 0.4685   Test accuracy: 0.4569   Train F1 Score: 0.3290   Test F1 Score: 0.3274  \n",
      "Epoch: 17/200   Training loss: 1.0886   Testing loss: 1.0883   Train accuracy: 0.4689   Test accuracy: 0.4619   Train F1 Score: 0.3395   Test F1 Score: 0.3353  \n",
      "Epoch: 18/200   Training loss: 1.0878   Testing loss: 1.0877   Train accuracy: 0.4744   Test accuracy: 0.4642   Train F1 Score: 0.3346   Test F1 Score: 0.3395  \n",
      "Epoch: 19/200   Training loss: 1.0871   Testing loss: 1.0873   Train accuracy: 0.4752   Test accuracy: 0.4645   Train F1 Score: 0.3425   Test F1 Score: 0.3382  \n",
      "Epoch: 20/200   Training loss: 1.0862   Testing loss: 1.0878   Train accuracy: 0.4800   Test accuracy: 0.4624   Train F1 Score: 0.3438   Test F1 Score: 0.3384  \n",
      "Epoch: 21/200   Training loss: 1.0855   Testing loss: 1.0854   Train accuracy: 0.4816   Test accuracy: 0.4706   Train F1 Score: 0.3495   Test F1 Score: 0.3331  \n",
      "Epoch: 22/200   Training loss: 1.0846   Testing loss: 1.0844   Train accuracy: 0.4808   Test accuracy: 0.4736   Train F1 Score: 0.3484   Test F1 Score: 0.3347  \n",
      "Epoch: 23/200   Training loss: 1.0837   Testing loss: 1.0844   Train accuracy: 0.4788   Test accuracy: 0.4715   Train F1 Score: 0.3491   Test F1 Score: 0.3484  \n",
      "Epoch: 24/200   Training loss: 1.0828   Testing loss: 1.0825   Train accuracy: 0.4822   Test accuracy: 0.4736   Train F1 Score: 0.3502   Test F1 Score: 0.3473  \n",
      "Epoch: 25/200   Training loss: 1.0818   Testing loss: 1.0816   Train accuracy: 0.4840   Test accuracy: 0.4741   Train F1 Score: 0.3427   Test F1 Score: 0.3599  \n",
      "Epoch: 26/200   Training loss: 1.0809   Testing loss: 1.0806   Train accuracy: 0.4849   Test accuracy: 0.4767   Train F1 Score: 0.3511   Test F1 Score: 0.3423  \n",
      "Epoch: 27/200   Training loss: 1.0797   Testing loss: 1.0791   Train accuracy: 0.4847   Test accuracy: 0.4776   Train F1 Score: 0.3436   Test F1 Score: 0.3462  \n",
      "Epoch: 28/200   Training loss: 1.0786   Testing loss: 1.0767   Train accuracy: 0.4858   Test accuracy: 0.4800   Train F1 Score: 0.3495   Test F1 Score: 0.3447  \n",
      "Epoch: 29/200   Training loss: 1.0775   Testing loss: 1.0777   Train accuracy: 0.4865   Test accuracy: 0.4793   Train F1 Score: 0.3437   Test F1 Score: 0.3454  \n",
      "Epoch: 30/200   Training loss: 1.0766   Testing loss: 1.0761   Train accuracy: 0.4838   Test accuracy: 0.4814   Train F1 Score: 0.3452   Test F1 Score: 0.3456  \n",
      "Epoch: 31/200   Training loss: 1.0754   Testing loss: 1.0738   Train accuracy: 0.4882   Test accuracy: 0.4824   Train F1 Score: 0.3441   Test F1 Score: 0.3404  \n",
      "Epoch: 32/200   Training loss: 1.0740   Testing loss: 1.0728   Train accuracy: 0.4894   Test accuracy: 0.4824   Train F1 Score: 0.3456   Test F1 Score: 0.3575  \n",
      "Epoch: 33/200   Training loss: 1.0729   Testing loss: 1.0726   Train accuracy: 0.4899   Test accuracy: 0.4859   Train F1 Score: 0.3528   Test F1 Score: 0.3440  \n",
      "Epoch: 34/200   Training loss: 1.0714   Testing loss: 1.0708   Train accuracy: 0.4853   Test accuracy: 0.4868   Train F1 Score: 0.3480   Test F1 Score: 0.3576  \n",
      "Epoch: 35/200   Training loss: 1.0703   Testing loss: 1.0697   Train accuracy: 0.4903   Test accuracy: 0.4849   Train F1 Score: 0.3514   Test F1 Score: 0.3712  \n",
      "Epoch: 36/200   Training loss: 1.0689   Testing loss: 1.0680   Train accuracy: 0.4916   Test accuracy: 0.4866   Train F1 Score: 0.3474   Test F1 Score: 0.3633  \n",
      "Epoch: 37/200   Training loss: 1.0672   Testing loss: 1.0671   Train accuracy: 0.4908   Test accuracy: 0.4864   Train F1 Score: 0.3589   Test F1 Score: 0.3479  \n",
      "Epoch: 38/200   Training loss: 1.0659   Testing loss: 1.0655   Train accuracy: 0.4914   Test accuracy: 0.4878   Train F1 Score: 0.3550   Test F1 Score: 0.3664  \n",
      "Epoch: 39/200   Training loss: 1.0644   Testing loss: 1.0636   Train accuracy: 0.4896   Test accuracy: 0.4875   Train F1 Score: 0.3473   Test F1 Score: 0.3526  \n",
      "Epoch: 40/200   Training loss: 1.0628   Testing loss: 1.0638   Train accuracy: 0.4924   Test accuracy: 0.4875   Train F1 Score: 0.3485   Test F1 Score: 0.3524  \n",
      "Epoch: 41/200   Training loss: 1.0616   Testing loss: 1.0622   Train accuracy: 0.4885   Test accuracy: 0.4875   Train F1 Score: 0.3548   Test F1 Score: 0.3418  \n",
      "Epoch: 42/200   Training loss: 1.0597   Testing loss: 1.0608   Train accuracy: 0.4941   Test accuracy: 0.4882   Train F1 Score: 0.3536   Test F1 Score: 0.3577  \n",
      "Epoch: 43/200   Training loss: 1.0585   Testing loss: 1.0599   Train accuracy: 0.4912   Test accuracy: 0.4871   Train F1 Score: 0.3527   Test F1 Score: 0.3605  \n",
      "Epoch: 44/200   Training loss: 1.0568   Testing loss: 1.0551   Train accuracy: 0.4936   Test accuracy: 0.4892   Train F1 Score: 0.3425   Test F1 Score: 0.3406  \n",
      "Epoch: 45/200   Training loss: 1.0555   Testing loss: 1.0553   Train accuracy: 0.4931   Test accuracy: 0.4871   Train F1 Score: 0.3549   Test F1 Score: 0.3313  \n",
      "Epoch: 46/200   Training loss: 1.0538   Testing loss: 1.0523   Train accuracy: 0.4911   Test accuracy: 0.4904   Train F1 Score: 0.3472   Test F1 Score: 0.3411  \n",
      "Epoch: 47/200   Training loss: 1.0525   Testing loss: 1.0528   Train accuracy: 0.4918   Test accuracy: 0.4904   Train F1 Score: 0.3452   Test F1 Score: 0.3479  \n",
      "Epoch: 48/200   Training loss: 1.0509   Testing loss: 1.0510   Train accuracy: 0.4941   Test accuracy: 0.4899   Train F1 Score: 0.3544   Test F1 Score: 0.3614  \n",
      "Epoch: 49/200   Training loss: 1.0495   Testing loss: 1.0496   Train accuracy: 0.4936   Test accuracy: 0.4896   Train F1 Score: 0.3486   Test F1 Score: 0.3536  \n",
      "Epoch: 50/200   Training loss: 1.0480   Testing loss: 1.0494   Train accuracy: 0.4957   Test accuracy: 0.4892   Train F1 Score: 0.3528   Test F1 Score: 0.3539  \n"
     ]
    },
    {
     "name": "stdout",
     "output_type": "stream",
     "text": [
      "Epoch: 51/200   Training loss: 1.0469   Testing loss: 1.0468   Train accuracy: 0.4962   Test accuracy: 0.4915   Train F1 Score: 0.3476   Test F1 Score: 0.3519  \n",
      "Epoch: 52/200   Training loss: 1.0456   Testing loss: 1.0472   Train accuracy: 0.4963   Test accuracy: 0.4899   Train F1 Score: 0.3472   Test F1 Score: 0.3527  \n",
      "Epoch: 53/200   Training loss: 1.0441   Testing loss: 1.0455   Train accuracy: 0.4947   Test accuracy: 0.4927   Train F1 Score: 0.3535   Test F1 Score: 0.3593  \n",
      "Epoch: 54/200   Training loss: 1.0430   Testing loss: 1.0436   Train accuracy: 0.4922   Test accuracy: 0.4908   Train F1 Score: 0.3496   Test F1 Score: 0.3409  \n",
      "Epoch: 55/200   Training loss: 1.0415   Testing loss: 1.0435   Train accuracy: 0.4946   Test accuracy: 0.4887   Train F1 Score: 0.3522   Test F1 Score: 0.3586  \n",
      "Epoch: 56/200   Training loss: 1.0407   Testing loss: 1.0429   Train accuracy: 0.4941   Test accuracy: 0.4889   Train F1 Score: 0.3547   Test F1 Score: 0.3610  \n",
      "Epoch: 57/200   Training loss: 1.0400   Testing loss: 1.0425   Train accuracy: 0.4940   Test accuracy: 0.4901   Train F1 Score: 0.3522   Test F1 Score: 0.3572  \n",
      "Epoch: 58/200   Training loss: 1.0394   Testing loss: 1.0417   Train accuracy: 0.4941   Test accuracy: 0.4901   Train F1 Score: 0.3510   Test F1 Score: 0.3484  \n",
      "Epoch: 59/200   Training loss: 1.0381   Testing loss: 1.0396   Train accuracy: 0.4951   Test accuracy: 0.4901   Train F1 Score: 0.3513   Test F1 Score: 0.3466  \n",
      "Epoch: 60/200   Training loss: 1.0370   Testing loss: 1.0386   Train accuracy: 0.4945   Test accuracy: 0.4913   Train F1 Score: 0.3518   Test F1 Score: 0.3523  \n",
      "Epoch: 61/200   Training loss: 1.0362   Testing loss: 1.0377   Train accuracy: 0.4955   Test accuracy: 0.4934   Train F1 Score: 0.3485   Test F1 Score: 0.3434  \n",
      "Epoch: 62/200   Training loss: 1.0356   Testing loss: 1.0381   Train accuracy: 0.4966   Test accuracy: 0.4920   Train F1 Score: 0.3581   Test F1 Score: 0.3511  \n",
      "Epoch: 63/200   Training loss: 1.0351   Testing loss: 1.0360   Train accuracy: 0.4948   Test accuracy: 0.4896   Train F1 Score: 0.3587   Test F1 Score: 0.3444  \n",
      "Epoch: 64/200   Training loss: 1.0337   Testing loss: 1.0374   Train accuracy: 0.4966   Test accuracy: 0.4911   Train F1 Score: 0.3557   Test F1 Score: 0.3502  \n",
      "Epoch: 65/200   Training loss: 1.0341   Testing loss: 1.0356   Train accuracy: 0.4950   Test accuracy: 0.4906   Train F1 Score: 0.3510   Test F1 Score: 0.3587  \n",
      "Epoch: 66/200   Training loss: 1.0336   Testing loss: 1.0377   Train accuracy: 0.4929   Test accuracy: 0.4911   Train F1 Score: 0.3529   Test F1 Score: 0.3440  \n",
      "Epoch: 67/200   Training loss: 1.0330   Testing loss: 1.0387   Train accuracy: 0.4945   Test accuracy: 0.4896   Train F1 Score: 0.3560   Test F1 Score: 0.3646  \n",
      "Epoch: 68/200   Training loss: 1.0321   Testing loss: 1.0358   Train accuracy: 0.4974   Test accuracy: 0.4908   Train F1 Score: 0.3527   Test F1 Score: 0.3644  \n",
      "Epoch: 69/200   Training loss: 1.0317   Testing loss: 1.0325   Train accuracy: 0.4934   Test accuracy: 0.4904   Train F1 Score: 0.3529   Test F1 Score: 0.3622  \n",
      "Epoch: 70/200   Training loss: 1.0314   Testing loss: 1.0347   Train accuracy: 0.4939   Test accuracy: 0.4896   Train F1 Score: 0.3620   Test F1 Score: 0.3627  \n",
      "Epoch: 71/200   Training loss: 1.0306   Testing loss: 1.0337   Train accuracy: 0.4982   Test accuracy: 0.4894   Train F1 Score: 0.3499   Test F1 Score: 0.3407  \n",
      "Epoch: 72/200   Training loss: 1.0312   Testing loss: 1.0338   Train accuracy: 0.4945   Test accuracy: 0.4894   Train F1 Score: 0.3480   Test F1 Score: 0.3506  \n",
      "Epoch: 73/200   Training loss: 1.0305   Testing loss: 1.0352   Train accuracy: 0.4954   Test accuracy: 0.4899   Train F1 Score: 0.3552   Test F1 Score: 0.3592  \n",
      "Epoch: 74/200   Training loss: 1.0308   Testing loss: 1.0335   Train accuracy: 0.4951   Test accuracy: 0.4892   Train F1 Score: 0.3480   Test F1 Score: 0.3514  \n",
      "Epoch: 75/200   Training loss: 1.0303   Testing loss: 1.0322   Train accuracy: 0.4952   Test accuracy: 0.4882   Train F1 Score: 0.3532   Test F1 Score: 0.3560  \n",
      "Epoch: 76/200   Training loss: 1.0297   Testing loss: 1.0342   Train accuracy: 0.4961   Test accuracy: 0.4885   Train F1 Score: 0.3563   Test F1 Score: 0.3478  \n",
      "Epoch: 77/200   Training loss: 1.0297   Testing loss: 1.0314   Train accuracy: 0.4945   Test accuracy: 0.4871   Train F1 Score: 0.3495   Test F1 Score: 0.3560  \n",
      "Epoch: 78/200   Training loss: 1.0289   Testing loss: 1.0351   Train accuracy: 0.4945   Test accuracy: 0.4885   Train F1 Score: 0.3574   Test F1 Score: 0.3584  \n",
      "Epoch: 79/200   Training loss: 1.0294   Testing loss: 1.0336   Train accuracy: 0.4942   Test accuracy: 0.4896   Train F1 Score: 0.3540   Test F1 Score: 0.3582  \n",
      "Epoch: 80/200   Training loss: 1.0290   Testing loss: 1.0272   Train accuracy: 0.4955   Test accuracy: 0.4901   Train F1 Score: 0.3542   Test F1 Score: 0.3603  \n",
      "Epoch: 81/200   Training loss: 1.0291   Testing loss: 1.0344   Train accuracy: 0.4972   Test accuracy: 0.4899   Train F1 Score: 0.3535   Test F1 Score: 0.3521  \n",
      "Epoch: 82/200   Training loss: 1.0291   Testing loss: 1.0281   Train accuracy: 0.4941   Test accuracy: 0.4880   Train F1 Score: 0.3567   Test F1 Score: 0.3576  \n",
      "Epoch: 83/200   Training loss: 1.0285   Testing loss: 1.0323   Train accuracy: 0.4954   Test accuracy: 0.4896   Train F1 Score: 0.3548   Test F1 Score: 0.3414  \n",
      "Epoch: 84/200   Training loss: 1.0287   Testing loss: 1.0334   Train accuracy: 0.4932   Test accuracy: 0.4887   Train F1 Score: 0.3529   Test F1 Score: 0.3567  \n",
      "Epoch: 85/200   Training loss: 1.0289   Testing loss: 1.0306   Train accuracy: 0.4924   Test accuracy: 0.4894   Train F1 Score: 0.3489   Test F1 Score: 0.3536  \n",
      "Epoch: 86/200   Training loss: 1.0278   Testing loss: 1.0323   Train accuracy: 0.4946   Test accuracy: 0.4892   Train F1 Score: 0.3612   Test F1 Score: 0.3380  \n",
      "Epoch: 87/200   Training loss: 1.0282   Testing loss: 1.0306   Train accuracy: 0.4921   Test accuracy: 0.4882   Train F1 Score: 0.3537   Test F1 Score: 0.3532  \n",
      "Epoch: 88/200   Training loss: 1.0285   Testing loss: 1.0293   Train accuracy: 0.4920   Test accuracy: 0.4885   Train F1 Score: 0.3562   Test F1 Score: 0.3597  \n",
      "Epoch: 89/200   Training loss: 1.0279   Testing loss: 1.0290   Train accuracy: 0.4956   Test accuracy: 0.4885   Train F1 Score: 0.3532   Test F1 Score: 0.3485  \n",
      "Epoch: 90/200   Training loss: 1.0275   Testing loss: 1.0317   Train accuracy: 0.4950   Test accuracy: 0.4885   Train F1 Score: 0.3513   Test F1 Score: 0.3610  \n",
      "Epoch: 91/200   Training loss: 1.0278   Testing loss: 1.0312   Train accuracy: 0.4934   Test accuracy: 0.4885   Train F1 Score: 0.3469   Test F1 Score: 0.3574  \n",
      "Epoch: 92/200   Training loss: 1.0270   Testing loss: 1.0334   Train accuracy: 0.4951   Test accuracy: 0.4880   Train F1 Score: 0.3491   Test F1 Score: 0.3578  \n",
      "Epoch: 93/200   Training loss: 1.0277   Testing loss: 1.0344   Train accuracy: 0.4940   Test accuracy: 0.4878   Train F1 Score: 0.3531   Test F1 Score: 0.3523  \n",
      "Epoch: 94/200   Training loss: 1.0270   Testing loss: 1.0325   Train accuracy: 0.4936   Test accuracy: 0.4868   Train F1 Score: 0.3516   Test F1 Score: 0.3617  \n",
      "Epoch: 95/200   Training loss: 1.0267   Testing loss: 1.0301   Train accuracy: 0.4939   Test accuracy: 0.4878   Train F1 Score: 0.3465   Test F1 Score: 0.3626  \n",
      "Epoch: 96/200   Training loss: 1.0276   Testing loss: 1.0287   Train accuracy: 0.4938   Test accuracy: 0.4871   Train F1 Score: 0.3581   Test F1 Score: 0.3567  \n",
      "Epoch: 97/200   Training loss: 1.0268   Testing loss: 1.0316   Train accuracy: 0.4964   Test accuracy: 0.4885   Train F1 Score: 0.3555   Test F1 Score: 0.3405  \n",
      "Epoch: 98/200   Training loss: 1.0269   Testing loss: 1.0298   Train accuracy: 0.4963   Test accuracy: 0.4885   Train F1 Score: 0.3518   Test F1 Score: 0.3546  \n",
      "Epoch: 99/200   Training loss: 1.0269   Testing loss: 1.0291   Train accuracy: 0.4950   Test accuracy: 0.4859   Train F1 Score: 0.3507   Test F1 Score: 0.3636  \n",
      "Epoch: 100/200   Training loss: 1.0268   Testing loss: 1.0319   Train accuracy: 0.4959   Test accuracy: 0.4871   Train F1 Score: 0.3512   Test F1 Score: 0.3555  \n",
      "Epoch: 101/200   Training loss: 1.0270   Testing loss: 1.0319   Train accuracy: 0.4956   Test accuracy: 0.4892   Train F1 Score: 0.3577   Test F1 Score: 0.3567  \n"
     ]
    },
    {
     "name": "stdout",
     "output_type": "stream",
     "text": [
      "Epoch: 102/200   Training loss: 1.0270   Testing loss: 1.0297   Train accuracy: 0.4911   Test accuracy: 0.4871   Train F1 Score: 0.3470   Test F1 Score: 0.3502  \n",
      "Epoch: 103/200   Training loss: 1.0275   Testing loss: 1.0314   Train accuracy: 0.4927   Test accuracy: 0.4875   Train F1 Score: 0.3560   Test F1 Score: 0.3646  \n",
      "Epoch: 104/200   Training loss: 1.0272   Testing loss: 1.0298   Train accuracy: 0.4941   Test accuracy: 0.4861   Train F1 Score: 0.3501   Test F1 Score: 0.3565  \n",
      "Epoch: 105/200   Training loss: 1.0274   Testing loss: 1.0264   Train accuracy: 0.4921   Test accuracy: 0.4864   Train F1 Score: 0.3526   Test F1 Score: 0.3604  \n",
      "Epoch: 106/200   Training loss: 1.0265   Testing loss: 1.0305   Train accuracy: 0.4951   Test accuracy: 0.4868   Train F1 Score: 0.3512   Test F1 Score: 0.3570  \n",
      "Epoch: 107/200   Training loss: 1.0265   Testing loss: 1.0300   Train accuracy: 0.4936   Test accuracy: 0.4868   Train F1 Score: 0.3545   Test F1 Score: 0.3525  \n",
      "Epoch: 108/200   Training loss: 1.0267   Testing loss: 1.0317   Train accuracy: 0.4948   Test accuracy: 0.4854   Train F1 Score: 0.3501   Test F1 Score: 0.3549  \n",
      "Epoch: 109/200   Training loss: 1.0266   Testing loss: 1.0334   Train accuracy: 0.4934   Test accuracy: 0.4866   Train F1 Score: 0.3535   Test F1 Score: 0.3543  \n",
      "Epoch: 110/200   Training loss: 1.0261   Testing loss: 1.0316   Train accuracy: 0.4899   Test accuracy: 0.4875   Train F1 Score: 0.3522   Test F1 Score: 0.3664  \n",
      "Epoch: 111/200   Training loss: 1.0265   Testing loss: 1.0281   Train accuracy: 0.4935   Test accuracy: 0.4866   Train F1 Score: 0.3576   Test F1 Score: 0.3512  \n",
      "Epoch: 112/200   Training loss: 1.0268   Testing loss: 1.0308   Train accuracy: 0.4945   Test accuracy: 0.4868   Train F1 Score: 0.3558   Test F1 Score: 0.3521  \n",
      "Epoch: 113/200   Training loss: 1.0270   Testing loss: 1.0329   Train accuracy: 0.4914   Test accuracy: 0.4868   Train F1 Score: 0.3540   Test F1 Score: 0.3522  \n",
      "Epoch: 114/200   Training loss: 1.0270   Testing loss: 1.0298   Train accuracy: 0.4940   Test accuracy: 0.4856   Train F1 Score: 0.3606   Test F1 Score: 0.3527  \n",
      "Epoch: 115/200   Training loss: 1.0267   Testing loss: 1.0297   Train accuracy: 0.4927   Test accuracy: 0.4868   Train F1 Score: 0.3503   Test F1 Score: 0.3615  \n",
      "Epoch: 116/200   Training loss: 1.0263   Testing loss: 1.0332   Train accuracy: 0.4942   Test accuracy: 0.4866   Train F1 Score: 0.3567   Test F1 Score: 0.3467  \n",
      "Epoch: 117/200   Training loss: 1.0266   Testing loss: 1.0333   Train accuracy: 0.4911   Test accuracy: 0.4868   Train F1 Score: 0.3501   Test F1 Score: 0.3484  \n",
      "Epoch: 118/200   Training loss: 1.0264   Testing loss: 1.0324   Train accuracy: 0.4941   Test accuracy: 0.4864   Train F1 Score: 0.3504   Test F1 Score: 0.3505  \n",
      "Epoch: 119/200   Training loss: 1.0265   Testing loss: 1.0300   Train accuracy: 0.4932   Test accuracy: 0.4859   Train F1 Score: 0.3516   Test F1 Score: 0.3542  \n",
      "Epoch: 120/200   Training loss: 1.0263   Testing loss: 1.0326   Train accuracy: 0.4912   Test accuracy: 0.4871   Train F1 Score: 0.3557   Test F1 Score: 0.3477  \n",
      "Epoch: 121/200   Training loss: 1.0261   Testing loss: 1.0280   Train accuracy: 0.4951   Test accuracy: 0.4868   Train F1 Score: 0.3482   Test F1 Score: 0.3502  \n",
      "Epoch: 122/200   Training loss: 1.0273   Testing loss: 1.0306   Train accuracy: 0.4914   Test accuracy: 0.4866   Train F1 Score: 0.3534   Test F1 Score: 0.3596  \n",
      "Epoch: 123/200   Training loss: 1.0262   Testing loss: 1.0275   Train accuracy: 0.4947   Test accuracy: 0.4866   Train F1 Score: 0.3552   Test F1 Score: 0.3541  \n",
      "Epoch: 124/200   Training loss: 1.0262   Testing loss: 1.0295   Train accuracy: 0.4967   Test accuracy: 0.4866   Train F1 Score: 0.3566   Test F1 Score: 0.3561  \n",
      "Epoch: 125/200   Training loss: 1.0261   Testing loss: 1.0295   Train accuracy: 0.4934   Test accuracy: 0.4866   Train F1 Score: 0.3529   Test F1 Score: 0.3484  \n",
      "Epoch: 126/200   Training loss: 1.0264   Testing loss: 1.0317   Train accuracy: 0.4943   Test accuracy: 0.4868   Train F1 Score: 0.3532   Test F1 Score: 0.3482  \n",
      "Epoch: 127/200   Training loss: 1.0260   Testing loss: 1.0307   Train accuracy: 0.4918   Test accuracy: 0.4861   Train F1 Score: 0.3568   Test F1 Score: 0.3547  \n",
      "Epoch: 128/200   Training loss: 1.0264   Testing loss: 1.0307   Train accuracy: 0.4922   Test accuracy: 0.4882   Train F1 Score: 0.3443   Test F1 Score: 0.3588  \n",
      "Epoch: 129/200   Training loss: 1.0266   Testing loss: 1.0287   Train accuracy: 0.4949   Test accuracy: 0.4871   Train F1 Score: 0.3566   Test F1 Score: 0.3506  \n",
      "Epoch: 130/200   Training loss: 1.0261   Testing loss: 1.0288   Train accuracy: 0.4962   Test accuracy: 0.4866   Train F1 Score: 0.3546   Test F1 Score: 0.3523  \n",
      "Epoch: 131/200   Training loss: 1.0257   Testing loss: 1.0308   Train accuracy: 0.4941   Test accuracy: 0.4871   Train F1 Score: 0.3549   Test F1 Score: 0.3590  \n",
      "Epoch: 132/200   Training loss: 1.0264   Testing loss: 1.0291   Train accuracy: 0.4934   Test accuracy: 0.4868   Train F1 Score: 0.3563   Test F1 Score: 0.3637  \n",
      "Epoch: 133/200   Training loss: 1.0254   Testing loss: 1.0296   Train accuracy: 0.4928   Test accuracy: 0.4859   Train F1 Score: 0.3547   Test F1 Score: 0.3584  \n",
      "Epoch: 134/200   Training loss: 1.0259   Testing loss: 1.0267   Train accuracy: 0.4945   Test accuracy: 0.4880   Train F1 Score: 0.3598   Test F1 Score: 0.3459  \n",
      "Epoch: 135/200   Training loss: 1.0258   Testing loss: 1.0301   Train accuracy: 0.4933   Test accuracy: 0.4866   Train F1 Score: 0.3522   Test F1 Score: 0.3684  \n",
      "Epoch: 136/200   Training loss: 1.0254   Testing loss: 1.0292   Train accuracy: 0.4932   Test accuracy: 0.4868   Train F1 Score: 0.3466   Test F1 Score: 0.3558  \n",
      "Epoch: 137/200   Training loss: 1.0257   Testing loss: 1.0315   Train accuracy: 0.4948   Test accuracy: 0.4866   Train F1 Score: 0.3561   Test F1 Score: 0.3544  \n",
      "Epoch: 138/200   Training loss: 1.0261   Testing loss: 1.0314   Train accuracy: 0.4903   Test accuracy: 0.4868   Train F1 Score: 0.3576   Test F1 Score: 0.3450  \n",
      "Epoch: 139/200   Training loss: 1.0251   Testing loss: 1.0295   Train accuracy: 0.4935   Test accuracy: 0.4864   Train F1 Score: 0.3561   Test F1 Score: 0.3647  \n",
      "Epoch: 140/200   Training loss: 1.0259   Testing loss: 1.0297   Train accuracy: 0.4916   Test accuracy: 0.4873   Train F1 Score: 0.3560   Test F1 Score: 0.3474  \n",
      "Epoch: 141/200   Training loss: 1.0259   Testing loss: 1.0328   Train accuracy: 0.4934   Test accuracy: 0.4871   Train F1 Score: 0.3559   Test F1 Score: 0.3628  \n",
      "Epoch: 142/200   Training loss: 1.0263   Testing loss: 1.0314   Train accuracy: 0.4909   Test accuracy: 0.4878   Train F1 Score: 0.3454   Test F1 Score: 0.3470  \n",
      "Epoch: 143/200   Training loss: 1.0253   Testing loss: 1.0310   Train accuracy: 0.4921   Test accuracy: 0.4882   Train F1 Score: 0.3548   Test F1 Score: 0.3582  \n",
      "Epoch: 144/200   Training loss: 1.0259   Testing loss: 1.0303   Train accuracy: 0.4910   Test accuracy: 0.4868   Train F1 Score: 0.3522   Test F1 Score: 0.3516  \n",
      "Epoch: 145/200   Training loss: 1.0253   Testing loss: 1.0312   Train accuracy: 0.4942   Test accuracy: 0.4873   Train F1 Score: 0.3580   Test F1 Score: 0.3557  \n",
      "Epoch: 146/200   Training loss: 1.0254   Testing loss: 1.0284   Train accuracy: 0.4933   Test accuracy: 0.4871   Train F1 Score: 0.3537   Test F1 Score: 0.3450  \n",
      "Epoch: 147/200   Training loss: 1.0252   Testing loss: 1.0316   Train accuracy: 0.4923   Test accuracy: 0.4871   Train F1 Score: 0.3493   Test F1 Score: 0.3494  \n",
      "Epoch: 148/200   Training loss: 1.0251   Testing loss: 1.0304   Train accuracy: 0.4939   Test accuracy: 0.4878   Train F1 Score: 0.3491   Test F1 Score: 0.3612  \n",
      "Epoch: 149/200   Training loss: 1.0253   Testing loss: 1.0289   Train accuracy: 0.4928   Test accuracy: 0.4871   Train F1 Score: 0.3524   Test F1 Score: 0.3478  \n",
      "Epoch: 150/200   Training loss: 1.0254   Testing loss: 1.0293   Train accuracy: 0.4905   Test accuracy: 0.4871   Train F1 Score: 0.3564   Test F1 Score: 0.3469  \n",
      "Epoch: 151/200   Training loss: 1.0256   Testing loss: 1.0315   Train accuracy: 0.4901   Test accuracy: 0.4878   Train F1 Score: 0.3561   Test F1 Score: 0.3500  \n",
      "Epoch: 152/200   Training loss: 1.0250   Testing loss: 1.0294   Train accuracy: 0.4934   Test accuracy: 0.4880   Train F1 Score: 0.3521   Test F1 Score: 0.3465  \n"
     ]
    },
    {
     "name": "stdout",
     "output_type": "stream",
     "text": [
      "Epoch: 153/200   Training loss: 1.0259   Testing loss: 1.0294   Train accuracy: 0.4960   Test accuracy: 0.4873   Train F1 Score: 0.3559   Test F1 Score: 0.3650  \n",
      "Epoch: 154/200   Training loss: 1.0251   Testing loss: 1.0279   Train accuracy: 0.4939   Test accuracy: 0.4878   Train F1 Score: 0.3522   Test F1 Score: 0.3619  \n",
      "Epoch: 155/200   Training loss: 1.0254   Testing loss: 1.0314   Train accuracy: 0.4916   Test accuracy: 0.4861   Train F1 Score: 0.3572   Test F1 Score: 0.3592  \n",
      "Epoch: 156/200   Training loss: 1.0257   Testing loss: 1.0320   Train accuracy: 0.4924   Test accuracy: 0.4878   Train F1 Score: 0.3588   Test F1 Score: 0.3572  \n",
      "Epoch: 157/200   Training loss: 1.0247   Testing loss: 1.0275   Train accuracy: 0.4951   Test accuracy: 0.4868   Train F1 Score: 0.3513   Test F1 Score: 0.3573  \n",
      "Epoch: 158/200   Training loss: 1.0257   Testing loss: 1.0309   Train accuracy: 0.4953   Test accuracy: 0.4859   Train F1 Score: 0.3560   Test F1 Score: 0.3543  \n",
      "Epoch: 159/200   Training loss: 1.0258   Testing loss: 1.0300   Train accuracy: 0.4932   Test accuracy: 0.4866   Train F1 Score: 0.3560   Test F1 Score: 0.3553  \n",
      "Epoch: 160/200   Training loss: 1.0256   Testing loss: 1.0286   Train accuracy: 0.4916   Test accuracy: 0.4866   Train F1 Score: 0.3591   Test F1 Score: 0.3509  \n",
      "Epoch: 161/200   Training loss: 1.0256   Testing loss: 1.0273   Train accuracy: 0.4925   Test accuracy: 0.4854   Train F1 Score: 0.3589   Test F1 Score: 0.3476  \n",
      "Epoch: 162/200   Training loss: 1.0253   Testing loss: 1.0314   Train accuracy: 0.4898   Test accuracy: 0.4861   Train F1 Score: 0.3528   Test F1 Score: 0.3474  \n",
      "Epoch: 163/200   Training loss: 1.0256   Testing loss: 1.0306   Train accuracy: 0.4928   Test accuracy: 0.4856   Train F1 Score: 0.3529   Test F1 Score: 0.3625  \n",
      "Epoch: 164/200   Training loss: 1.0254   Testing loss: 1.0306   Train accuracy: 0.4910   Test accuracy: 0.4859   Train F1 Score: 0.3573   Test F1 Score: 0.3426  \n",
      "Epoch: 165/200   Training loss: 1.0249   Testing loss: 1.0293   Train accuracy: 0.4916   Test accuracy: 0.4859   Train F1 Score: 0.3576   Test F1 Score: 0.3609  \n",
      "Epoch: 166/200   Training loss: 1.0248   Testing loss: 1.0284   Train accuracy: 0.4934   Test accuracy: 0.4856   Train F1 Score: 0.3547   Test F1 Score: 0.3501  \n",
      "Epoch: 167/200   Training loss: 1.0257   Testing loss: 1.0300   Train accuracy: 0.4921   Test accuracy: 0.4847   Train F1 Score: 0.3593   Test F1 Score: 0.3616  \n",
      "Epoch: 168/200   Training loss: 1.0252   Testing loss: 1.0274   Train accuracy: 0.4907   Test accuracy: 0.4845   Train F1 Score: 0.3487   Test F1 Score: 0.3591  \n",
      "Epoch: 169/200   Training loss: 1.0253   Testing loss: 1.0294   Train accuracy: 0.4874   Test accuracy: 0.4859   Train F1 Score: 0.3608   Test F1 Score: 0.3390  \n",
      "Epoch: 170/200   Training loss: 1.0253   Testing loss: 1.0303   Train accuracy: 0.4914   Test accuracy: 0.4856   Train F1 Score: 0.3483   Test F1 Score: 0.3504  \n"
     ]
    }
   ],
   "source": [
    "from sklearn.metrics import f1_score\n",
    "\n",
    "epochs = 200\n",
    "train_loss, val_loss = [], []\n",
    "accuracy_total_train, accuracy_total_val = [], []\n",
    "train_f1_scores, test_f1_scores = [], []\n",
    "\n",
    "\n",
    "for epoch in range(epochs):\n",
    "   \n",
    "    total_train_loss = 0\n",
    "    total_val_loss = 0\n",
    "    prediction_list_test = []\n",
    "    prediction_list_train = []\n",
    "    train_f1score = 0\n",
    "    test_f1score = 0\n",
    "\n",
    "    model.train()\n",
    "    \n",
    "    total = 0\n",
    "    # training our model\n",
    "    for idx, (x1, x2, y) in enumerate(train_loader):\n",
    "\n",
    "        optimizer.zero_grad()\n",
    "        pred = model(x1, x2)\n",
    "        loss = criterion(pred, y)\n",
    "        total_train_loss += loss.item()\n",
    "\n",
    "        loss.backward()\n",
    "        optimizer.step()\n",
    "\n",
    "        pred = torch.nn.functional.softmax(pred, dim=1)\n",
    "        for i, p in enumerate(pred):\n",
    "            if y[i] == torch.max(p.data, 0)[1]:\n",
    "                total = total + 1\n",
    "            y_prediction = torch.max(p.data, 0)[1]\n",
    "            prediction_list_train.append(y_prediction)\n",
    "                \n",
    "    accuracy_train = total / len(train)\n",
    "    accuracy_total_train.append(accuracy_train)\n",
    "    \n",
    "    prediction_stacked_tensor = torch.stack(prediction_list_train)\n",
    "    train_f1score = f1_score(y_train, prediction_stacked_tensor, average='weighted')\n",
    "    train_f1_scores.append(train_f1score)\n",
    "\n",
    "    total_train_loss = total_train_loss / (idx + 1)\n",
    "    train_loss.append(total_train_loss)\n",
    "    \n",
    "    # validating our model\n",
    "    model.eval()\n",
    "    total = 0\n",
    "    for idx, (x1, x2, y) in enumerate(test_loader):\n",
    "        pred = model(x1, x2)\n",
    "        loss = criterion(pred, y)\n",
    "        total_val_loss += loss.item()\n",
    "\n",
    "        pred = torch.nn.functional.softmax(pred, dim=1)\n",
    "        for i, p in enumerate(pred):\n",
    "            if y[i] == torch.max(p.data, 0)[1]:\n",
    "                total = total + 1\n",
    "            y_prediction = torch.max(p.data, 0)[1]\n",
    "            prediction_list_test.append(y_prediction)\n",
    "        \n",
    "        \n",
    "    accuracy_val = total / len(test)\n",
    "    accuracy_total_val.append(accuracy_val)\n",
    "    prediction_stacked_tensor = torch.stack(prediction_list_test)\n",
    "    test_f1score = f1_score(y_test, prediction_stacked_tensor, average='weighted')\n",
    "    test_f1_scores.append(test_f1score)\n",
    "\n",
    "    total_val_loss = total_val_loss / (idx + 1)\n",
    "    val_loss.append(total_val_loss)\n",
    "\n",
    "    if epoch % 1 == 0:\n",
    "        print(\"Epoch: {}/{}  \".format(epoch, epochs),\n",
    "            \"Training loss: {:.4f}  \".format(total_train_loss),\n",
    "            \"Testing loss: {:.4f}  \".format(total_val_loss),\n",
    "            \"Train accuracy: {:.4f}  \".format(accuracy_train),\n",
    "            \"Test accuracy: {:.4f}  \".format(accuracy_val),\n",
    "            \"Train F1 Score: {:.4f}  \".format(train_f1score),\n",
    "            \"Test F1 Score: {:.4f}  \".format(test_f1score))"
   ]
  },
  {
   "cell_type": "code",
   "execution_count": 92,
   "metadata": {},
   "outputs": [
    {
     "data": {
      "image/png": "[encoded data removed]",
      "text/plain": [
       "<Figure size 432x288 with 1 Axes>"
      ]
     },
     "metadata": {
      "needs_background": "light"
     },
     "output_type": "display_data"
    }
   ],
   "source": [
    "plt.plot(train_f1_scores, label='Training f1-Scores')\n",
    "plt.plot(test_f1_scores, label='Testing f1-Scores')\n",
    "plt.legend()\n",
    "plt.grid()"
   ]
  },
  {
   "cell_type": "code",
   "execution_count": 93,
   "metadata": {},
   "outputs": [
    {
     "data": {
      "image/png": "[encoded data removed]",
      "text/plain": [
       "<Figure size 432x288 with 1 Axes>"
      ]
     },
     "metadata": {
      "needs_background": "light"
     },
     "output_type": "display_data"
    }
   ],
   "source": [
    "plt.plot(train_loss, label='Training loss')\n",
    "plt.plot(val_loss, label='Test loss')\n",
    "plt.legend()\n",
    "plt.grid()"
   ]
  },
  {
   "cell_type": "code",
   "execution_count": 94,
   "metadata": {},
   "outputs": [
    {
     "data": {
      "image/png": "[encoded data removed]",
      "text/plain": [
       "<Figure size 432x288 with 1 Axes>"
      ]
     },
     "metadata": {
      "needs_background": "light"
     },
     "output_type": "display_data"
    }
   ],
   "source": [
    "plt.plot(accuracy_total_train, label='Training Accuracy')\n",
    "plt.plot(accuracy_total_val, label='Test Accuracy')\n",
    "plt.legend()\n",
    "plt.grid()"
   ]
  },
  {
   "cell_type": "code",
   "execution_count": 95,
   "metadata": {},
   "outputs": [],
   "source": [
    "#saving the model\n",
    "\n",
    "MODEL_PATH = 'playerSiameseModel.pth'\n",
    "torch.save(model, MODEL_PATH)"
   ]
  },
  {
   "cell_type": "code",
   "execution_count": 96,
   "metadata": {},
   "outputs": [],
   "source": [
    "model = torch.load(MODEL_PATH)"
   ]
  },
  {
   "cell_type": "code",
   "execution_count": null,
   "metadata": {},
   "outputs": [],
   "source": [
    "#Evaluation\n",
    "classes = ['Loss','Draw','Win']\n",
    "predict_list = []\n",
    "y_pred = model(Player_Home_Test, Player_Away_Test)\n",
    "\n",
    "for i, p in enumerate(y_pred):\n",
    "    y_pred = torch.max(p.data, 0)[1]\n",
    "    predict_list.append(y_pred)\n",
    "stacked_tensor = torch.stack(predict_list)\n",
    "y_test = y_test.cpu()"
   ]
  },
  {
   "cell_type": "code",
   "execution_count": 103,
   "metadata": {},
   "outputs": [
    {
     "name": "stdout",
     "output_type": "stream",
     "text": [
      "              precision    recall  f1-score   support\n",
      "\n",
      "        Loss       0.44      0.56      0.50      1189\n",
      "        Draw       0.29      0.24      0.26      1102\n",
      "         Win       0.61      0.58      0.60      1959\n",
      "\n",
      "    accuracy                           0.49      4250\n",
      "   macro avg       0.45      0.46      0.45      4250\n",
      "weighted avg       0.48      0.49      0.48      4250\n",
      "\n"
     ]
    }
   ],
   "source": [
    "print(classification_report(y_test, stacked_tensor, target_names=classes))"
   ]
  },
  {
   "cell_type": "code",
   "execution_count": 104,
   "metadata": {},
   "outputs": [
    {
     "data": {
      "text/plain": [
       "Text(0.5, 15.0, 'Predicted label')"
      ]
     },
     "execution_count": 104,
     "metadata": {},
     "output_type": "execute_result"
    },
    {
     "data": {
      "image/png": "[encoded data removed]",
      "text/plain": [
       "<Figure size 432x288 with 2 Axes>"
      ]
     },
     "metadata": {
      "needs_background": "light"
     },
     "output_type": "display_data"
    }
   ],
   "source": [
    "cm = confusion_matrix(y_test, stacked_tensor)\n",
    "df_cm = pd.DataFrame(cm, index=classes, columns=classes)\n",
    "hmap = sns.heatmap(df_cm, annot=True, fmt=\"d\")\n",
    "hmap.yaxis.set_ticklabels(hmap.yaxis.get_ticklabels(), rotation=0, ha='right')\n",
    "hmap.xaxis.set_ticklabels(hmap.xaxis.get_ticklabels(), rotation=0, ha='right')\n",
    "plt.ylabel('True label')\n",
    "plt.xlabel('Predicted label')"
   ]
  },
  {
   "cell_type": "code",
   "execution_count": 106,
   "metadata": {},
   "outputs": [
    {
     "name": "stdout",
     "output_type": "stream",
     "text": [
      "Accuracy of the network on the 4250 matches: 48 %\n"
     ]
    }
   ],
   "source": [
    "correct = 0\n",
    "total = 0\n",
    "\n",
    "with torch.no_grad():\n",
    "    for i, (x1, x2, y) in enumerate(test_loader):\n",
    "        outputs = model(x1,x2)\n",
    "        _, predicted = torch.max(outputs.data, 1)\n",
    "        total += y.size(0)\n",
    "        correct += (predicted == y).sum().item()\n",
    "\n",
    "print('Accuracy of the network on the 4250 matches: %d %%' % (\n",
    "    100 * correct / total))"
   ]
  },
  {
   "cell_type": "code",
   "execution_count": null,
   "metadata": {},
   "outputs": [],
   "source": []
  }
 ],
 "metadata": {
  "kernelspec": {
   "display_name": "Python 3",
   "language": "python",
   "name": "python3"
  },
  "language_info": {
   "codemirror_mode": {
    "name": "ipython",
    "version": 3
   },
   "file_extension": ".py",
   "mimetype": "text/x-python",
   "name": "python",
   "nbconvert_exporter": "python",
   "pygments_lexer": "ipython3",
   "version": "3.8.5"
  }
 },
 "nbformat": 4,
 "nbformat_minor": 4
}
