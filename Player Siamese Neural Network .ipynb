{
 "cells": [
  {
   "cell_type": "code",
   "execution_count": 1,
   "metadata": {},
   "outputs": [],
   "source": [
    "import pandas as pd\n",
    "import seaborn as sns\n",
    "import numpy as np\n",
    "from tqdm import tqdm\n",
    "from pylab import rcParams\n",
    "import matplotlib.pyplot as plt\n",
    "from matplotlib import rc\n",
    "from torch import nn, optim\n",
    "import torch.nn.functional as F\n",
    "from sklearn.model_selection import train_test_split\n",
    "from sklearn.metrics import confusion_matrix, classification_report\n",
    "import torch\n",
    "\n",
    "df = pd.read_csv('UpdatedMatches.csv')"
   ]
  },
  {
   "cell_type": "code",
   "execution_count": 2,
   "metadata": {},
   "outputs": [],
   "source": [
    "df['season'].replace({'2008/2009':2008, '2009/2010':2009, '2010/2011':2010, '2011/2012':2011, '2012/2013':2012, '2013/2014':2013, '2014/2015':2014, '2015/2016':2015 },inplace=True)\n",
    "\n",
    "df[\"result\"] = np.nan\n",
    "for index, row in df.iterrows():\n",
    "    if df.loc[index,'home_team_goal'] == df.loc[index,'away_team_goal']:\n",
    "        df.loc[index,'result'] = 1\n",
    "    if df.loc[index,'home_team_goal'] > df.loc[index,'away_team_goal']:\n",
    "        df.loc[index,'result'] = 2\n",
    "    if df.loc[index,'home_team_goal'] < df.loc[index,'away_team_goal']:\n",
    "        df.loc[index,'result'] = 0"
   ]
  },
  {
   "cell_type": "code",
   "execution_count": 3,
   "metadata": {},
   "outputs": [
    {
     "name": "stderr",
     "output_type": "stream",
     "text": [
      "C:\\Users\\herath\\anaconda3\\lib\\site-packages\\seaborn\\_decorators.py:36: FutureWarning: Pass the following variable as a keyword arg: x. From version 0.12, the only valid positional argument will be `data`, and passing other arguments without an explicit keyword will result in an error or misinterpretation.\n",
      "  warnings.warn(\n"
     ]
    },
    {
     "data": {
      "text/plain": [
       "<AxesSubplot:xlabel='result', ylabel='count'>"
      ]
     },
     "execution_count": 3,
     "metadata": {},
     "output_type": "execute_result"
    },
    {
     "data": {
      "image/png": "[encoded data removed]",
      "text/plain": [
       "<Figure size 432x288 with 1 Axes>"
      ]
     },
     "metadata": {
      "needs_background": "light"
     },
     "output_type": "display_data"
    }
   ],
   "source": [
    "sns.countplot(df.result)"
   ]
  },
  {
   "cell_type": "code",
   "execution_count": 4,
   "metadata": {},
   "outputs": [
    {
     "data": {
      "text/plain": [
       "2.0    0.459098\n",
       "0.0    0.288525\n",
       "1.0    0.252377\n",
       "Name: result, dtype: float64"
      ]
     },
     "execution_count": 4,
     "metadata": {},
     "output_type": "execute_result"
    }
   ],
   "source": [
    "df.result.value_counts()/df.shape[0]"
   ]
  },
  {
   "cell_type": "code",
   "execution_count": 5,
   "metadata": {},
   "outputs": [],
   "source": [
    "home_player_data = []\n",
    "away_player_data = []"
   ]
  },
  {
   "cell_type": "code",
   "execution_count": 6,
   "metadata": {},
   "outputs": [],
   "source": [
    "from tqdm import tqdm\n",
    "\n",
    "def playerfunction( df ):\n",
    "    for index, row in tqdm(df.iterrows()):\n",
    "        overall_rating_home_players = []\n",
    "        overall_rating_home_players.append(df.loc[index,'overall_rating_home_player_1'])\n",
    "        overall_rating_home_players.append(df.loc[index,'overall_rating_home_player_2'])\n",
    "        overall_rating_home_players.append(df.loc[index,'overall_rating_home_player_3'])\n",
    "        overall_rating_home_players.append(df.loc[index,'overall_rating_home_player_4'])\n",
    "        overall_rating_home_players.append(df.loc[index,'overall_rating_home_player_5'])\n",
    "        overall_rating_home_players.append(df.loc[index,'overall_rating_home_player_6'])\n",
    "        overall_rating_home_players.append(df.loc[index,'overall_rating_home_player_7'])\n",
    "        overall_rating_home_players.append(df.loc[index,'overall_rating_home_player_8'])\n",
    "        overall_rating_home_players.append(df.loc[index,'overall_rating_home_player_9'])\n",
    "        overall_rating_home_players.append(df.loc[index,'overall_rating_home_player_10'])\n",
    "        overall_rating_home_players.append(df.loc[index,'overall_rating_home_player_11'])\n",
    "\n",
    "        overall_rating_away_players = []\n",
    "        overall_rating_away_players.append(df.loc[index,'overall_rating_away_player_1'])\n",
    "        overall_rating_away_players.append(df.loc[index,'overall_rating_away_player_2'])\n",
    "        overall_rating_away_players.append(df.loc[index,'overall_rating_away_player_3'])\n",
    "        overall_rating_away_players.append(df.loc[index,'overall_rating_away_player_4'])\n",
    "        overall_rating_away_players.append(df.loc[index,'overall_rating_away_player_5'])\n",
    "        overall_rating_away_players.append(df.loc[index,'overall_rating_away_player_6'])\n",
    "        overall_rating_away_players.append(df.loc[index,'overall_rating_away_player_7'])\n",
    "        overall_rating_away_players.append(df.loc[index,'overall_rating_away_player_8'])\n",
    "        overall_rating_away_players.append(df.loc[index,'overall_rating_away_player_9'])\n",
    "        overall_rating_away_players.append(df.loc[index,'overall_rating_away_player_10'])\n",
    "        overall_rating_away_players.append(df.loc[index,'overall_rating_away_player_11'])\n",
    "\n",
    "\n",
    "        potential_home_players = []\n",
    "        potential_home_players.append(df.loc[index,'potential_home_player_1'])\n",
    "        potential_home_players.append(df.loc[index,'potential_home_player_2'])\n",
    "        potential_home_players.append(df.loc[index,'potential_home_player_3'])\n",
    "        potential_home_players.append(df.loc[index,'potential_home_player_4'])\n",
    "        potential_home_players.append(df.loc[index,'potential_home_player_5'])\n",
    "        potential_home_players.append(df.loc[index,'potential_home_player_6'])\n",
    "        potential_home_players.append(df.loc[index,'potential_home_player_7'])\n",
    "        potential_home_players.append(df.loc[index,'potential_home_player_8'])\n",
    "        potential_home_players.append(df.loc[index,'potential_home_player_9'])\n",
    "        potential_home_players.append(df.loc[index,'potential_home_player_10'])\n",
    "        potential_home_players.append(df.loc[index,'potential_home_player_11'])\n",
    "\n",
    "        potential_away_players = []\n",
    "        potential_away_players.append(df.loc[index,'potential_away_player_1'])\n",
    "        potential_away_players.append(df.loc[index,'potential_away_player_2'])\n",
    "        potential_away_players.append(df.loc[index,'potential_away_player_3'])\n",
    "        potential_away_players.append(df.loc[index,'potential_away_player_4'])\n",
    "        potential_away_players.append(df.loc[index,'potential_away_player_5'])\n",
    "        potential_away_players.append(df.loc[index,'potential_away_player_6'])\n",
    "        potential_away_players.append(df.loc[index,'potential_away_player_7'])\n",
    "        potential_away_players.append(df.loc[index,'potential_away_player_8'])\n",
    "        potential_away_players.append(df.loc[index,'potential_away_player_9'])\n",
    "        potential_away_players.append(df.loc[index,'potential_away_player_10'])\n",
    "        potential_away_players.append(df.loc[index,'potential_away_player_11'])\n",
    "\n",
    "        crossing_home_players = []\n",
    "        crossing_home_players.append(df.loc[index,'crossing_home_player_1'])\n",
    "        crossing_home_players.append(df.loc[index,'crossing_home_player_2'])\n",
    "        crossing_home_players.append(df.loc[index,'crossing_home_player_3'])\n",
    "        crossing_home_players.append(df.loc[index,'crossing_home_player_4'])\n",
    "        crossing_home_players.append(df.loc[index,'crossing_home_player_5'])\n",
    "        crossing_home_players.append(df.loc[index,'crossing_home_player_6'])\n",
    "        crossing_home_players.append(df.loc[index,'crossing_home_player_7'])\n",
    "        crossing_home_players.append(df.loc[index,'crossing_home_player_8'])\n",
    "        crossing_home_players.append(df.loc[index,'crossing_home_player_9'])\n",
    "        crossing_home_players.append(df.loc[index,'crossing_home_player_10'])\n",
    "        crossing_home_players.append(df.loc[index,'crossing_home_player_11'])\n",
    "\n",
    "        crossing_away_players = []\n",
    "        crossing_away_players.append(df.loc[index,'crossing_away_player_1'])\n",
    "        crossing_away_players.append(df.loc[index,'crossing_away_player_2'])\n",
    "        crossing_away_players.append(df.loc[index,'crossing_away_player_3'])\n",
    "        crossing_away_players.append(df.loc[index,'crossing_away_player_4'])\n",
    "        crossing_away_players.append(df.loc[index,'crossing_away_player_5'])\n",
    "        crossing_away_players.append(df.loc[index,'crossing_away_player_6'])\n",
    "        crossing_away_players.append(df.loc[index,'crossing_away_player_7'])\n",
    "        crossing_away_players.append(df.loc[index,'crossing_away_player_8'])\n",
    "        crossing_away_players.append(df.loc[index,'crossing_away_player_9'])\n",
    "        crossing_away_players.append(df.loc[index,'crossing_away_player_10'])\n",
    "        crossing_away_players.append(df.loc[index,'crossing_away_player_11'])\n",
    "\n",
    "        finishing_home_players = []\n",
    "        finishing_home_players.append(df.loc[index,'finishing_home_player_1'])\n",
    "        finishing_home_players.append(df.loc[index,'finishing_home_player_2'])\n",
    "        finishing_home_players.append(df.loc[index,'finishing_home_player_3'])\n",
    "        finishing_home_players.append(df.loc[index,'finishing_home_player_4'])\n",
    "        finishing_home_players.append(df.loc[index,'finishing_home_player_5'])\n",
    "        finishing_home_players.append(df.loc[index,'finishing_home_player_6'])\n",
    "        finishing_home_players.append(df.loc[index,'finishing_home_player_7'])\n",
    "        finishing_home_players.append(df.loc[index,'finishing_home_player_8'])\n",
    "        finishing_home_players.append(df.loc[index,'finishing_home_player_9'])\n",
    "        finishing_home_players.append(df.loc[index,'finishing_home_player_10'])\n",
    "        finishing_home_players.append(df.loc[index,'finishing_home_player_11'])\n",
    "\n",
    "        finishing_away_players = []\n",
    "        finishing_away_players.append(df.loc[index,'finishing_away_player_1'])\n",
    "        finishing_away_players.append(df.loc[index,'finishing_away_player_2'])\n",
    "        finishing_away_players.append(df.loc[index,'finishing_away_player_3'])\n",
    "        finishing_away_players.append(df.loc[index,'finishing_away_player_4'])\n",
    "        finishing_away_players.append(df.loc[index,'finishing_away_player_5'])\n",
    "        finishing_away_players.append(df.loc[index,'finishing_away_player_6'])\n",
    "        finishing_away_players.append(df.loc[index,'finishing_away_player_7'])\n",
    "        finishing_away_players.append(df.loc[index,'finishing_away_player_8'])\n",
    "        finishing_away_players.append(df.loc[index,'finishing_away_player_9'])\n",
    "        finishing_away_players.append(df.loc[index,'finishing_away_player_10'])\n",
    "        finishing_away_players.append(df.loc[index,'finishing_away_player_11'])\n",
    "\n",
    "\n",
    "        heading_accuracy_home_players = []\n",
    "        heading_accuracy_home_players.append(df.loc[index,'heading_accuracy_home_player_1'])\n",
    "        heading_accuracy_home_players.append(df.loc[index,'heading_accuracy_home_player_2'])\n",
    "        heading_accuracy_home_players.append(df.loc[index,'heading_accuracy_home_player_3'])\n",
    "        heading_accuracy_home_players.append(df.loc[index,'heading_accuracy_home_player_4'])\n",
    "        heading_accuracy_home_players.append(df.loc[index,'heading_accuracy_home_player_5'])\n",
    "        heading_accuracy_home_players.append(df.loc[index,'heading_accuracy_home_player_6'])\n",
    "        heading_accuracy_home_players.append(df.loc[index,'heading_accuracy_home_player_7'])\n",
    "        heading_accuracy_home_players.append(df.loc[index,'heading_accuracy_home_player_8'])\n",
    "        heading_accuracy_home_players.append(df.loc[index,'heading_accuracy_home_player_9'])\n",
    "        heading_accuracy_home_players.append(df.loc[index,'heading_accuracy_home_player_10'])\n",
    "        heading_accuracy_home_players.append(df.loc[index,'heading_accuracy_home_player_11'])\n",
    "\n",
    "        heading_accuracy_away_players = []\n",
    "        heading_accuracy_away_players.append(df.loc[index,'heading_accuracy_away_player_1'])\n",
    "        heading_accuracy_away_players.append(df.loc[index,'heading_accuracy_away_player_2'])\n",
    "        heading_accuracy_away_players.append(df.loc[index,'heading_accuracy_away_player_3'])\n",
    "        heading_accuracy_away_players.append(df.loc[index,'heading_accuracy_away_player_4'])\n",
    "        heading_accuracy_away_players.append(df.loc[index,'heading_accuracy_away_player_5'])\n",
    "        heading_accuracy_away_players.append(df.loc[index,'heading_accuracy_away_player_6'])\n",
    "        heading_accuracy_away_players.append(df.loc[index,'heading_accuracy_away_player_7'])\n",
    "        heading_accuracy_away_players.append(df.loc[index,'heading_accuracy_away_player_8'])\n",
    "        heading_accuracy_away_players.append(df.loc[index,'heading_accuracy_away_player_9'])\n",
    "        heading_accuracy_away_players.append(df.loc[index,'heading_accuracy_away_player_10'])\n",
    "        heading_accuracy_away_players.append(df.loc[index,'heading_accuracy_away_player_11'])\n",
    "\n",
    "\n",
    "        dribbling_home_players = []\n",
    "        dribbling_home_players.append(df.loc[index,'dribbling_home_player_1'])\n",
    "        dribbling_home_players.append(df.loc[index,'dribbling_home_player_2'])\n",
    "        dribbling_home_players.append(df.loc[index,'dribbling_home_player_3'])\n",
    "        dribbling_home_players.append(df.loc[index,'dribbling_home_player_4'])\n",
    "        dribbling_home_players.append(df.loc[index,'dribbling_home_player_5'])\n",
    "        dribbling_home_players.append(df.loc[index,'dribbling_home_player_6'])\n",
    "        dribbling_home_players.append(df.loc[index,'dribbling_home_player_7'])\n",
    "        dribbling_home_players.append(df.loc[index,'dribbling_home_player_8'])\n",
    "        dribbling_home_players.append(df.loc[index,'dribbling_home_player_9'])\n",
    "        dribbling_home_players.append(df.loc[index,'dribbling_home_player_10'])\n",
    "        dribbling_home_players.append(df.loc[index,'dribbling_home_player_11'])\n",
    "\n",
    "        dribbling_away_players = []\n",
    "        dribbling_away_players.append(df.loc[index,'dribbling_away_player_1'])\n",
    "        dribbling_away_players.append(df.loc[index,'dribbling_away_player_2'])\n",
    "        dribbling_away_players.append(df.loc[index,'dribbling_away_player_3'])\n",
    "        dribbling_away_players.append(df.loc[index,'dribbling_away_player_4'])\n",
    "        dribbling_away_players.append(df.loc[index,'dribbling_away_player_5'])\n",
    "        dribbling_away_players.append(df.loc[index,'dribbling_away_player_6'])\n",
    "        dribbling_away_players.append(df.loc[index,'dribbling_away_player_7'])\n",
    "        dribbling_away_players.append(df.loc[index,'dribbling_away_player_8'])\n",
    "        dribbling_away_players.append(df.loc[index,'dribbling_away_player_9'])\n",
    "        dribbling_away_players.append(df.loc[index,'dribbling_away_player_10'])\n",
    "        dribbling_away_players.append(df.loc[index,'dribbling_away_player_11'])\n",
    "\n",
    "\n",
    "        free_kick_accuracy_home_players = []\n",
    "        free_kick_accuracy_home_players.append(df.loc[index,'free_kick_accuracy_home_player_1'])\n",
    "        free_kick_accuracy_home_players.append(df.loc[index,'free_kick_accuracy_home_player_2'])\n",
    "        free_kick_accuracy_home_players.append(df.loc[index,'free_kick_accuracy_home_player_3'])\n",
    "        free_kick_accuracy_home_players.append(df.loc[index,'free_kick_accuracy_home_player_4'])\n",
    "        free_kick_accuracy_home_players.append(df.loc[index,'free_kick_accuracy_home_player_5'])\n",
    "        free_kick_accuracy_home_players.append(df.loc[index,'free_kick_accuracy_home_player_6'])\n",
    "        free_kick_accuracy_home_players.append(df.loc[index,'free_kick_accuracy_home_player_7'])\n",
    "        free_kick_accuracy_home_players.append(df.loc[index,'free_kick_accuracy_home_player_8'])\n",
    "        free_kick_accuracy_home_players.append(df.loc[index,'free_kick_accuracy_home_player_9'])\n",
    "        free_kick_accuracy_home_players.append(df.loc[index,'free_kick_accuracy_home_player_10'])\n",
    "        free_kick_accuracy_home_players.append(df.loc[index,'free_kick_accuracy_home_player_11'])\n",
    "\n",
    "        free_kick_accuracy_away_players = []\n",
    "        free_kick_accuracy_away_players.append(df.loc[index,'free_kick_accuracy_away_player_1'])\n",
    "        free_kick_accuracy_away_players.append(df.loc[index,'free_kick_accuracy_away_player_2'])\n",
    "        free_kick_accuracy_away_players.append(df.loc[index,'free_kick_accuracy_away_player_3'])\n",
    "        free_kick_accuracy_away_players.append(df.loc[index,'free_kick_accuracy_away_player_4'])\n",
    "        free_kick_accuracy_away_players.append(df.loc[index,'free_kick_accuracy_away_player_5'])\n",
    "        free_kick_accuracy_away_players.append(df.loc[index,'free_kick_accuracy_away_player_6'])\n",
    "        free_kick_accuracy_away_players.append(df.loc[index,'free_kick_accuracy_away_player_7'])\n",
    "        free_kick_accuracy_away_players.append(df.loc[index,'free_kick_accuracy_away_player_8'])\n",
    "        free_kick_accuracy_away_players.append(df.loc[index,'free_kick_accuracy_away_player_9'])\n",
    "        free_kick_accuracy_away_players.append(df.loc[index,'free_kick_accuracy_away_player_10'])\n",
    "        free_kick_accuracy_away_players.append(df.loc[index,'free_kick_accuracy_away_player_11'])\n",
    "\n",
    "\n",
    "        ball_control_home_players = []\n",
    "        ball_control_home_players.append(df.loc[index,'ball_control_home_player_1'])\n",
    "        ball_control_home_players.append(df.loc[index,'ball_control_home_player_2'])\n",
    "        ball_control_home_players.append(df.loc[index,'ball_control_home_player_3'])\n",
    "        ball_control_home_players.append(df.loc[index,'ball_control_home_player_4'])\n",
    "        ball_control_home_players.append(df.loc[index,'ball_control_home_player_5'])\n",
    "        ball_control_home_players.append(df.loc[index,'ball_control_home_player_6'])\n",
    "        ball_control_home_players.append(df.loc[index,'ball_control_home_player_7'])\n",
    "        ball_control_home_players.append(df.loc[index,'ball_control_home_player_8'])\n",
    "        ball_control_home_players.append(df.loc[index,'ball_control_home_player_9'])\n",
    "        ball_control_home_players.append(df.loc[index,'ball_control_home_player_10'])\n",
    "        ball_control_home_players.append(df.loc[index,'ball_control_home_player_11'])\n",
    "\n",
    "\n",
    "        ball_control_away_players = []\n",
    "        ball_control_away_players.append(df.loc[index,'ball_control_away_player_1'])\n",
    "        ball_control_away_players.append(df.loc[index,'ball_control_away_player_2'])\n",
    "        ball_control_away_players.append(df.loc[index,'ball_control_away_player_3'])\n",
    "        ball_control_away_players.append(df.loc[index,'ball_control_away_player_4'])\n",
    "        ball_control_away_players.append(df.loc[index,'ball_control_away_player_5'])\n",
    "        ball_control_away_players.append(df.loc[index,'ball_control_away_player_6'])\n",
    "        ball_control_away_players.append(df.loc[index,'ball_control_away_player_7'])\n",
    "        ball_control_away_players.append(df.loc[index,'ball_control_away_player_8'])\n",
    "        ball_control_away_players.append(df.loc[index,'ball_control_away_player_9'])\n",
    "        ball_control_away_players.append(df.loc[index,'ball_control_away_player_10'])\n",
    "        ball_control_away_players.append(df.loc[index,'ball_control_away_player_11'])\n",
    "\n",
    "\n",
    "        sprint_speed_home_players = []\n",
    "        sprint_speed_home_players.append(df.loc[index,'sprint_speed_home_player_1'])\n",
    "        sprint_speed_home_players.append(df.loc[index,'sprint_speed_home_player_2'])\n",
    "        sprint_speed_home_players.append(df.loc[index,'sprint_speed_home_player_3'])\n",
    "        sprint_speed_home_players.append(df.loc[index,'sprint_speed_home_player_4'])\n",
    "        sprint_speed_home_players.append(df.loc[index,'sprint_speed_home_player_5'])\n",
    "        sprint_speed_home_players.append(df.loc[index,'sprint_speed_home_player_6'])\n",
    "        sprint_speed_home_players.append(df.loc[index,'sprint_speed_home_player_7'])\n",
    "        sprint_speed_home_players.append(df.loc[index,'sprint_speed_home_player_8'])\n",
    "        sprint_speed_home_players.append(df.loc[index,'sprint_speed_home_player_9'])\n",
    "        sprint_speed_home_players.append(df.loc[index,'sprint_speed_home_player_10'])\n",
    "        sprint_speed_home_players.append(df.loc[index,'sprint_speed_home_player_11'])\n",
    "\n",
    "\n",
    "        sprint_speed_away_players = []\n",
    "        sprint_speed_away_players.append(df.loc[index,'sprint_speed_away_player_1'])\n",
    "        sprint_speed_away_players.append(df.loc[index,'sprint_speed_away_player_2'])\n",
    "        sprint_speed_away_players.append(df.loc[index,'sprint_speed_away_player_3'])\n",
    "        sprint_speed_away_players.append(df.loc[index,'sprint_speed_away_player_4'])\n",
    "        sprint_speed_away_players.append(df.loc[index,'sprint_speed_away_player_5'])\n",
    "        sprint_speed_away_players.append(df.loc[index,'sprint_speed_away_player_6'])\n",
    "        sprint_speed_away_players.append(df.loc[index,'sprint_speed_away_player_7'])\n",
    "        sprint_speed_away_players.append(df.loc[index,'sprint_speed_away_player_8'])\n",
    "        sprint_speed_away_players.append(df.loc[index,'sprint_speed_away_player_9'])\n",
    "        sprint_speed_away_players.append(df.loc[index,'sprint_speed_away_player_10'])\n",
    "        sprint_speed_away_players.append(df.loc[index,'sprint_speed_away_player_11'])\n",
    "\n",
    "\n",
    "        acceleration_home_players = []\n",
    "        acceleration_home_players.append(df.loc[index,'acceleration_home_player_1'])\n",
    "        acceleration_home_players.append(df.loc[index,'acceleration_home_player_2'])\n",
    "        acceleration_home_players.append(df.loc[index,'acceleration_home_player_3'])\n",
    "        acceleration_home_players.append(df.loc[index,'acceleration_home_player_4'])\n",
    "        acceleration_home_players.append(df.loc[index,'acceleration_home_player_5'])\n",
    "        acceleration_home_players.append(df.loc[index,'acceleration_home_player_6'])\n",
    "        acceleration_home_players.append(df.loc[index,'acceleration_home_player_7'])\n",
    "        acceleration_home_players.append(df.loc[index,'acceleration_home_player_8'])\n",
    "        acceleration_home_players.append(df.loc[index,'acceleration_home_player_9'])\n",
    "        acceleration_home_players.append(df.loc[index,'acceleration_home_player_10'])\n",
    "        acceleration_home_players.append(df.loc[index,'acceleration_home_player_11'])\n",
    "\n",
    "\n",
    "        acceleration_away_players = []\n",
    "        acceleration_away_players.append(df.loc[index,'acceleration_away_player_1'])\n",
    "        acceleration_away_players.append(df.loc[index,'acceleration_away_player_2'])\n",
    "        acceleration_away_players.append(df.loc[index,'acceleration_away_player_3'])\n",
    "        acceleration_away_players.append(df.loc[index,'acceleration_away_player_4'])\n",
    "        acceleration_away_players.append(df.loc[index,'acceleration_away_player_5'])\n",
    "        acceleration_away_players.append(df.loc[index,'acceleration_away_player_6'])\n",
    "        acceleration_away_players.append(df.loc[index,'acceleration_away_player_7'])\n",
    "        acceleration_away_players.append(df.loc[index,'acceleration_away_player_8'])\n",
    "        acceleration_away_players.append(df.loc[index,'acceleration_away_player_9'])\n",
    "        acceleration_away_players.append(df.loc[index,'acceleration_away_player_10'])\n",
    "        acceleration_away_players.append(df.loc[index,'acceleration_away_player_11'])\n",
    "\n",
    "\n",
    "        strength_home_players = []\n",
    "        strength_home_players.append(df.loc[index,'strength_home_player_1'])\n",
    "        strength_home_players.append(df.loc[index,'strength_home_player_2'])\n",
    "        strength_home_players.append(df.loc[index,'strength_home_player_3'])\n",
    "        strength_home_players.append(df.loc[index,'strength_home_player_4'])\n",
    "        strength_home_players.append(df.loc[index,'strength_home_player_5'])\n",
    "        strength_home_players.append(df.loc[index,'strength_home_player_6'])\n",
    "        strength_home_players.append(df.loc[index,'strength_home_player_7'])\n",
    "        strength_home_players.append(df.loc[index,'strength_home_player_8'])\n",
    "        strength_home_players.append(df.loc[index,'strength_home_player_9'])\n",
    "        strength_home_players.append(df.loc[index,'strength_home_player_10'])\n",
    "        strength_home_players.append(df.loc[index,'strength_home_player_11'])\n",
    "\n",
    "\n",
    "        strength_away_players = []\n",
    "        strength_away_players.append(df.loc[index,'strength_away_player_1'])\n",
    "        strength_away_players.append(df.loc[index,'strength_away_player_2'])\n",
    "        strength_away_players.append(df.loc[index,'strength_away_player_3'])\n",
    "        strength_away_players.append(df.loc[index,'strength_away_player_4'])\n",
    "        strength_away_players.append(df.loc[index,'strength_away_player_5'])\n",
    "        strength_away_players.append(df.loc[index,'strength_away_player_6'])\n",
    "        strength_away_players.append(df.loc[index,'strength_away_player_7'])\n",
    "        strength_away_players.append(df.loc[index,'strength_away_player_8'])\n",
    "        strength_away_players.append(df.loc[index,'strength_away_player_9'])\n",
    "        strength_away_players.append(df.loc[index,'strength_away_player_10'])\n",
    "        strength_away_players.append(df.loc[index,'strength_away_player_11'])\n",
    "\n",
    "\n",
    "        long_shots_home_players = []\n",
    "        long_shots_home_players.append(df.loc[index,'long_shots_home_player_1'])\n",
    "        long_shots_home_players.append(df.loc[index,'long_shots_home_player_2'])\n",
    "        long_shots_home_players.append(df.loc[index,'long_shots_home_player_3'])\n",
    "        long_shots_home_players.append(df.loc[index,'long_shots_home_player_4'])\n",
    "        long_shots_home_players.append(df.loc[index,'long_shots_home_player_5'])\n",
    "        long_shots_home_players.append(df.loc[index,'long_shots_home_player_6'])\n",
    "        long_shots_home_players.append(df.loc[index,'long_shots_home_player_7'])\n",
    "        long_shots_home_players.append(df.loc[index,'long_shots_home_player_8'])\n",
    "        long_shots_home_players.append(df.loc[index,'long_shots_home_player_9'])\n",
    "        long_shots_home_players.append(df.loc[index,'long_shots_home_player_10'])\n",
    "        long_shots_home_players.append(df.loc[index,'long_shots_home_player_11'])\n",
    "\n",
    "\n",
    "        long_shots_away_players = []\n",
    "        long_shots_away_players.append(df.loc[index,'long_shots_away_player_1'])\n",
    "        long_shots_away_players.append(df.loc[index,'long_shots_away_player_2'])\n",
    "        long_shots_away_players.append(df.loc[index,'long_shots_away_player_3'])\n",
    "        long_shots_away_players.append(df.loc[index,'long_shots_away_player_4'])\n",
    "        long_shots_away_players.append(df.loc[index,'long_shots_away_player_5'])\n",
    "        long_shots_away_players.append(df.loc[index,'long_shots_away_player_6'])\n",
    "        long_shots_away_players.append(df.loc[index,'long_shots_away_player_7'])\n",
    "        long_shots_away_players.append(df.loc[index,'long_shots_away_player_8'])\n",
    "        long_shots_away_players.append(df.loc[index,'long_shots_away_player_9'])\n",
    "        long_shots_away_players.append(df.loc[index,'long_shots_away_player_10'])\n",
    "        long_shots_away_players.append(df.loc[index,'long_shots_away_player_11'])\n",
    "\n",
    "\n",
    "\n",
    "        aggression_home_players = []\n",
    "        aggression_home_players.append(df.loc[index,'aggression_home_player_1'])\n",
    "        aggression_home_players.append(df.loc[index,'aggression_home_player_2'])\n",
    "        aggression_home_players.append(df.loc[index,'aggression_home_player_3'])\n",
    "        aggression_home_players.append(df.loc[index,'aggression_home_player_4'])\n",
    "        aggression_home_players.append(df.loc[index,'aggression_home_player_5'])\n",
    "        aggression_home_players.append(df.loc[index,'aggression_home_player_6'])\n",
    "        aggression_home_players.append(df.loc[index,'aggression_home_player_7'])\n",
    "        aggression_home_players.append(df.loc[index,'aggression_home_player_8'])\n",
    "        aggression_home_players.append(df.loc[index,'aggression_home_player_9'])\n",
    "        aggression_home_players.append(df.loc[index,'aggression_home_player_10'])\n",
    "        aggression_home_players.append(df.loc[index,'aggression_home_player_11'])\n",
    "\n",
    "\n",
    "        aggression_away_players = []\n",
    "        aggression_away_players.append(df.loc[index,'aggression_away_player_1'])\n",
    "        aggression_away_players.append(df.loc[index,'aggression_away_player_2'])\n",
    "        aggression_away_players.append(df.loc[index,'aggression_away_player_3'])\n",
    "        aggression_away_players.append(df.loc[index,'aggression_away_player_4'])\n",
    "        aggression_away_players.append(df.loc[index,'aggression_away_player_5'])\n",
    "        aggression_away_players.append(df.loc[index,'aggression_away_player_6'])\n",
    "        aggression_away_players.append(df.loc[index,'aggression_away_player_7'])\n",
    "        aggression_away_players.append(df.loc[index,'aggression_away_player_8'])\n",
    "        aggression_away_players.append(df.loc[index,'aggression_away_player_9'])\n",
    "        aggression_away_players.append(df.loc[index,'aggression_away_player_10'])\n",
    "        aggression_away_players.append(df.loc[index,'aggression_away_player_11'])\n",
    "\n",
    "\n",
    "\n",
    "        positioning_home_players = []\n",
    "        positioning_home_players.append(df.loc[index,'positioning_home_player_1'])\n",
    "        positioning_home_players.append(df.loc[index,'positioning_home_player_2'])\n",
    "        positioning_home_players.append(df.loc[index,'positioning_home_player_3'])\n",
    "        positioning_home_players.append(df.loc[index,'positioning_home_player_4'])\n",
    "        positioning_home_players.append(df.loc[index,'positioning_home_player_5'])\n",
    "        positioning_home_players.append(df.loc[index,'positioning_home_player_6'])\n",
    "        positioning_home_players.append(df.loc[index,'positioning_home_player_7'])\n",
    "        positioning_home_players.append(df.loc[index,'positioning_home_player_8'])\n",
    "        positioning_home_players.append(df.loc[index,'positioning_home_player_9'])\n",
    "        positioning_home_players.append(df.loc[index,'positioning_home_player_10'])\n",
    "        positioning_home_players.append(df.loc[index,'positioning_home_player_11'])\n",
    "\n",
    "\n",
    "        positioning_away_players = []\n",
    "        positioning_away_players.append(df.loc[index,'positioning_away_player_1'])\n",
    "        positioning_away_players.append(df.loc[index,'positioning_away_player_2'])\n",
    "        positioning_away_players.append(df.loc[index,'positioning_away_player_3'])\n",
    "        positioning_away_players.append(df.loc[index,'positioning_away_player_4'])\n",
    "        positioning_away_players.append(df.loc[index,'positioning_away_player_5'])\n",
    "        positioning_away_players.append(df.loc[index,'positioning_away_player_6'])\n",
    "        positioning_away_players.append(df.loc[index,'positioning_away_player_7'])\n",
    "        positioning_away_players.append(df.loc[index,'positioning_away_player_8'])\n",
    "        positioning_away_players.append(df.loc[index,'positioning_away_player_9'])\n",
    "        positioning_away_players.append(df.loc[index,'positioning_away_player_10'])\n",
    "        positioning_away_players.append(df.loc[index,'positioning_away_player_11'])\n",
    "\n",
    "\n",
    "        interceptions_home_players = []\n",
    "        interceptions_home_players.append(df.loc[index,'interceptions_home_player_1'])\n",
    "        interceptions_home_players.append(df.loc[index,'interceptions_home_player_2'])\n",
    "        interceptions_home_players.append(df.loc[index,'interceptions_home_player_3'])\n",
    "        interceptions_home_players.append(df.loc[index,'interceptions_home_player_4'])\n",
    "        interceptions_home_players.append(df.loc[index,'interceptions_home_player_5'])\n",
    "        interceptions_home_players.append(df.loc[index,'interceptions_home_player_6'])\n",
    "        interceptions_home_players.append(df.loc[index,'interceptions_home_player_7'])\n",
    "        interceptions_home_players.append(df.loc[index,'interceptions_home_player_8'])\n",
    "        interceptions_home_players.append(df.loc[index,'interceptions_home_player_9'])\n",
    "        interceptions_home_players.append(df.loc[index,'interceptions_home_player_10'])\n",
    "        interceptions_home_players.append(df.loc[index,'interceptions_home_player_11'])\n",
    "\n",
    "\n",
    "        interceptions_away_players = []\n",
    "        interceptions_away_players.append(df.loc[index,'interceptions_away_player_1'])\n",
    "        interceptions_away_players.append(df.loc[index,'interceptions_away_player_2'])\n",
    "        interceptions_away_players.append(df.loc[index,'interceptions_away_player_3'])\n",
    "        interceptions_away_players.append(df.loc[index,'interceptions_away_player_4'])\n",
    "        interceptions_away_players.append(df.loc[index,'interceptions_away_player_5'])\n",
    "        interceptions_away_players.append(df.loc[index,'interceptions_away_player_6'])\n",
    "        interceptions_away_players.append(df.loc[index,'interceptions_away_player_7'])\n",
    "        interceptions_away_players.append(df.loc[index,'interceptions_away_player_8'])\n",
    "        interceptions_away_players.append(df.loc[index,'interceptions_away_player_9'])\n",
    "        interceptions_away_players.append(df.loc[index,'interceptions_away_player_10'])\n",
    "        interceptions_away_players.append(df.loc[index,'interceptions_away_player_11'])\n",
    "\n",
    "\n",
    "        penalties_home_players = []\n",
    "        penalties_home_players.append(df.loc[index,'penalties_home_player_1'])\n",
    "        penalties_home_players.append(df.loc[index,'penalties_home_player_2'])\n",
    "        penalties_home_players.append(df.loc[index,'penalties_home_player_3'])\n",
    "        penalties_home_players.append(df.loc[index,'penalties_home_player_4'])\n",
    "        penalties_home_players.append(df.loc[index,'penalties_home_player_5'])\n",
    "        penalties_home_players.append(df.loc[index,'penalties_home_player_6'])\n",
    "        penalties_home_players.append(df.loc[index,'penalties_home_player_7'])\n",
    "        penalties_home_players.append(df.loc[index,'penalties_home_player_8'])\n",
    "        penalties_home_players.append(df.loc[index,'penalties_home_player_9'])\n",
    "        penalties_home_players.append(df.loc[index,'penalties_home_player_10'])\n",
    "        penalties_home_players.append(df.loc[index,'penalties_home_player_11'])\n",
    "\n",
    "\n",
    "        penalties_away_players = []\n",
    "        penalties_away_players.append(df.loc[index,'penalties_away_player_1'])\n",
    "        penalties_away_players.append(df.loc[index,'penalties_away_player_2'])\n",
    "        penalties_away_players.append(df.loc[index,'penalties_away_player_3'])\n",
    "        penalties_away_players.append(df.loc[index,'penalties_away_player_4'])\n",
    "        penalties_away_players.append(df.loc[index,'penalties_away_player_5'])\n",
    "        penalties_away_players.append(df.loc[index,'penalties_away_player_6'])\n",
    "        penalties_away_players.append(df.loc[index,'penalties_away_player_7'])\n",
    "        penalties_away_players.append(df.loc[index,'penalties_away_player_8'])\n",
    "        penalties_away_players.append(df.loc[index,'penalties_away_player_9'])\n",
    "        penalties_away_players.append(df.loc[index,'penalties_away_player_10'])\n",
    "        penalties_away_players.append(df.loc[index,'penalties_away_player_11'])\n",
    "\n",
    "\n",
    "        marking_home_players = []\n",
    "        marking_home_players.append(df.loc[index,'marking_home_player_1'])\n",
    "        marking_home_players.append(df.loc[index,'marking_home_player_2'])\n",
    "        marking_home_players.append(df.loc[index,'marking_home_player_3'])\n",
    "        marking_home_players.append(df.loc[index,'marking_home_player_4'])\n",
    "        marking_home_players.append(df.loc[index,'marking_home_player_5'])\n",
    "        marking_home_players.append(df.loc[index,'marking_home_player_6'])\n",
    "        marking_home_players.append(df.loc[index,'marking_home_player_7'])\n",
    "        marking_home_players.append(df.loc[index,'marking_home_player_8'])\n",
    "        marking_home_players.append(df.loc[index,'marking_home_player_9'])\n",
    "        marking_home_players.append(df.loc[index,'marking_home_player_10'])\n",
    "        marking_home_players.append(df.loc[index,'marking_home_player_11'])\n",
    "\n",
    "\n",
    "        marking_away_players = []\n",
    "        marking_away_players.append(df.loc[index,'marking_away_player_1'])\n",
    "        marking_away_players.append(df.loc[index,'marking_away_player_2'])\n",
    "        marking_away_players.append(df.loc[index,'marking_away_player_3'])\n",
    "        marking_away_players.append(df.loc[index,'marking_away_player_4'])\n",
    "        marking_away_players.append(df.loc[index,'marking_away_player_5'])\n",
    "        marking_away_players.append(df.loc[index,'marking_away_player_6'])\n",
    "        marking_away_players.append(df.loc[index,'marking_away_player_7'])\n",
    "        marking_away_players.append(df.loc[index,'marking_away_player_8'])\n",
    "        marking_away_players.append(df.loc[index,'marking_away_player_9'])\n",
    "        marking_away_players.append(df.loc[index,'marking_away_player_10'])\n",
    "        marking_away_players.append(df.loc[index,'marking_away_player_11'])\n",
    "\n",
    "\n",
    "\n",
    "        stamina_home_players = []\n",
    "        stamina_home_players.append(df.loc[index,'stamina_home_player_1'])\n",
    "        stamina_home_players.append(df.loc[index,'stamina_home_player_2'])\n",
    "        stamina_home_players.append(df.loc[index,'stamina_home_player_3'])\n",
    "        stamina_home_players.append(df.loc[index,'stamina_home_player_4'])\n",
    "        stamina_home_players.append(df.loc[index,'stamina_home_player_5'])\n",
    "        stamina_home_players.append(df.loc[index,'stamina_home_player_6'])\n",
    "        stamina_home_players.append(df.loc[index,'stamina_home_player_7'])\n",
    "        stamina_home_players.append(df.loc[index,'stamina_home_player_8'])\n",
    "        stamina_home_players.append(df.loc[index,'stamina_home_player_9'])\n",
    "        stamina_home_players.append(df.loc[index,'stamina_home_player_10'])\n",
    "        stamina_home_players.append(df.loc[index,'stamina_home_player_11'])\n",
    "\n",
    "\n",
    "        stamina_away_players = []\n",
    "        stamina_away_players.append(df.loc[index,'stamina_away_player_1'])\n",
    "        stamina_away_players.append(df.loc[index,'stamina_away_player_2'])\n",
    "        stamina_away_players.append(df.loc[index,'stamina_away_player_3'])\n",
    "        stamina_away_players.append(df.loc[index,'stamina_away_player_4'])\n",
    "        stamina_away_players.append(df.loc[index,'stamina_away_player_5'])\n",
    "        stamina_away_players.append(df.loc[index,'stamina_away_player_6'])\n",
    "        stamina_away_players.append(df.loc[index,'stamina_away_player_7'])\n",
    "        stamina_away_players.append(df.loc[index,'stamina_away_player_8'])\n",
    "        stamina_away_players.append(df.loc[index,'stamina_away_player_9'])\n",
    "        stamina_away_players.append(df.loc[index,'stamina_away_player_10'])\n",
    "        stamina_away_players.append(df.loc[index,'stamina_away_player_11'])\n",
    "\n",
    "\n",
    "        shot_power_home_players = []\n",
    "        shot_power_home_players.append(df.loc[index,'shot_power_home_player_1'])\n",
    "        shot_power_home_players.append(df.loc[index,'shot_power_home_player_2'])\n",
    "        shot_power_home_players.append(df.loc[index,'shot_power_home_player_3'])\n",
    "        shot_power_home_players.append(df.loc[index,'shot_power_home_player_4'])\n",
    "        shot_power_home_players.append(df.loc[index,'shot_power_home_player_5'])\n",
    "        shot_power_home_players.append(df.loc[index,'shot_power_home_player_6'])\n",
    "        shot_power_home_players.append(df.loc[index,'shot_power_home_player_7'])\n",
    "        shot_power_home_players.append(df.loc[index,'shot_power_home_player_8'])\n",
    "        shot_power_home_players.append(df.loc[index,'shot_power_home_player_9'])\n",
    "        shot_power_home_players.append(df.loc[index,'shot_power_home_player_10'])\n",
    "        shot_power_home_players.append(df.loc[index,'shot_power_home_player_11'])\n",
    "\n",
    "\n",
    "        shot_power_away_players = []\n",
    "        shot_power_away_players.append(df.loc[index,'shot_power_away_player_1'])\n",
    "        shot_power_away_players.append(df.loc[index,'shot_power_away_player_2'])\n",
    "        shot_power_away_players.append(df.loc[index,'shot_power_away_player_3'])\n",
    "        shot_power_away_players.append(df.loc[index,'shot_power_away_player_4'])\n",
    "        shot_power_away_players.append(df.loc[index,'shot_power_away_player_5'])\n",
    "        shot_power_away_players.append(df.loc[index,'shot_power_away_player_6'])\n",
    "        shot_power_away_players.append(df.loc[index,'shot_power_away_player_7'])\n",
    "        shot_power_away_players.append(df.loc[index,'shot_power_away_player_8'])\n",
    "        shot_power_away_players.append(df.loc[index,'shot_power_away_player_9'])\n",
    "        shot_power_away_players.append(df.loc[index,'shot_power_away_player_10'])\n",
    "        shot_power_away_players.append(df.loc[index,'shot_power_away_player_11'])\n",
    "\n",
    "        home_players = []\n",
    "        home_players.append(overall_rating_home_players)\n",
    "        home_players.append(potential_home_players)\n",
    "        home_players.append(crossing_home_players)\n",
    "        home_players.append(finishing_home_players)\n",
    "        home_players.append(heading_accuracy_home_players)\n",
    "        home_players.append(dribbling_home_players)\n",
    "        home_players.append(free_kick_accuracy_home_players)\n",
    "        home_players.append(ball_control_home_players)\n",
    "        home_players.append(sprint_speed_home_players)\n",
    "        home_players.append(acceleration_home_players)\n",
    "        home_players.append(strength_home_players)\n",
    "        home_players.append(long_shots_home_players)\n",
    "        home_players.append(aggression_home_players)\n",
    "        home_players.append(positioning_home_players)\n",
    "        home_players.append(interceptions_home_players)\n",
    "        home_players.append(penalties_home_players)\n",
    "        home_players.append(marking_home_players)\n",
    "        home_players.append(stamina_home_players)\n",
    "        home_players.append(shot_power_home_players)\n",
    "        \n",
    "        home_player_data.append(home_players)\n",
    "        \n",
    "        away_players = []\n",
    "        away_players.append(overall_rating_away_players)\n",
    "        away_players.append(potential_away_players)\n",
    "        away_players.append(crossing_away_players)\n",
    "        away_players.append(finishing_away_players)\n",
    "        away_players.append(heading_accuracy_away_players)\n",
    "        away_players.append(dribbling_away_players)\n",
    "        away_players.append(free_kick_accuracy_away_players)\n",
    "        away_players.append(ball_control_away_players)\n",
    "        away_players.append(sprint_speed_away_players)\n",
    "        away_players.append(acceleration_away_players)\n",
    "        away_players.append(strength_away_players)\n",
    "        away_players.append(long_shots_away_players)\n",
    "        away_players.append(aggression_away_players)\n",
    "        away_players.append(positioning_away_players)\n",
    "        away_players.append(interceptions_away_players)\n",
    "        away_players.append(penalties_away_players)\n",
    "        away_players.append(marking_away_players)\n",
    "        away_players.append(stamina_away_players)\n",
    "        away_players.append(shot_power_away_players)\n",
    "        \n",
    "        away_player_data.append(away_players)\n",
    "\n"
   ]
  },
  {
   "cell_type": "code",
   "execution_count": 7,
   "metadata": {},
   "outputs": [],
   "source": [
    "X = df.drop(['result','date', 'home_team_goal','away_team_goal'], axis=1)\n",
    "y = df[['result']]\n",
    "RANDOM_SEED =42\n",
    "np.random.seed(RANDOM_SEED)\n",
    "torch.manual_seed(RANDOM_SEED)\n",
    "\n",
    "X_train, X_test, y_train, y_test =\\\n",
    "    train_test_split(X, y, test_size=0.2, random_state=RANDOM_SEED)"
   ]
  },
  {
   "cell_type": "code",
   "execution_count": 8,
   "metadata": {},
   "outputs": [
    {
     "data": {
      "text/plain": [
       "2.0    0.458637\n",
       "0.0    0.290715\n",
       "1.0    0.250647\n",
       "Name: result, dtype: float64"
      ]
     },
     "execution_count": 8,
     "metadata": {},
     "output_type": "execute_result"
    }
   ],
   "source": [
    "y_train.result.value_counts()/y_train.shape[0]"
   ]
  },
  {
   "cell_type": "code",
   "execution_count": 9,
   "metadata": {},
   "outputs": [
    {
     "data": {
      "text/plain": [
       "2.0    7795\n",
       "0.0    4941\n",
       "1.0    4260\n",
       "Name: result, dtype: int64"
      ]
     },
     "execution_count": 9,
     "metadata": {},
     "output_type": "execute_result"
    }
   ],
   "source": [
    "y_train.result.value_counts()"
   ]
  },
  {
   "cell_type": "code",
   "execution_count": 10,
   "metadata": {},
   "outputs": [
    {
     "name": "stderr",
     "output_type": "stream",
     "text": [
      "16996it [05:18, 53.40it/s] \n"
     ]
    }
   ],
   "source": [
    "home_player_data = []\n",
    "away_player_data = []\n",
    "playerfunction( X_train )\n",
    "player_home_train_data = home_player_data\n",
    "Player_Home_Train = torch.Tensor(np.array(player_home_train_data))\n",
    "\n",
    "player_away_train_data = away_player_data\n",
    "Player_Away_Train = torch.Tensor(np.array(player_away_train_data))"
   ]
  },
  {
   "cell_type": "code",
   "execution_count": 11,
   "metadata": {},
   "outputs": [
    {
     "data": {
      "text/plain": [
       "'torch.FloatTensor'"
      ]
     },
     "execution_count": 11,
     "metadata": {},
     "output_type": "execute_result"
    }
   ],
   "source": [
    "Player_Home_Train.type()"
   ]
  },
  {
   "cell_type": "code",
   "execution_count": 12,
   "metadata": {},
   "outputs": [
    {
     "data": {
      "text/plain": [
       "torch.Size([16996, 19, 11])"
      ]
     },
     "execution_count": 12,
     "metadata": {},
     "output_type": "execute_result"
    }
   ],
   "source": [
    "Player_Home_Train.size()"
   ]
  },
  {
   "cell_type": "code",
   "execution_count": 13,
   "metadata": {},
   "outputs": [
    {
     "data": {
      "text/plain": [
       "'torch.FloatTensor'"
      ]
     },
     "execution_count": 13,
     "metadata": {},
     "output_type": "execute_result"
    }
   ],
   "source": [
    "Player_Away_Train.type()"
   ]
  },
  {
   "cell_type": "code",
   "execution_count": 14,
   "metadata": {},
   "outputs": [
    {
     "data": {
      "text/plain": [
       "torch.Size([16996, 19, 11])"
      ]
     },
     "execution_count": 14,
     "metadata": {},
     "output_type": "execute_result"
    }
   ],
   "source": [
    "Player_Away_Train.size()"
   ]
  },
  {
   "cell_type": "code",
   "execution_count": 15,
   "metadata": {},
   "outputs": [
    {
     "name": "stderr",
     "output_type": "stream",
     "text": [
      "4250it [01:16, 55.72it/s] \n"
     ]
    }
   ],
   "source": [
    "home_player_data = []\n",
    "away_player_data = []\n",
    "playerfunction( X_test )\n",
    "\n",
    "player_home_test_data = home_player_data\n",
    "Player_Home_Test = torch.Tensor(np.array(player_home_test_data))\n",
    "\n",
    "player_away_test_data = away_player_data\n",
    "Player_Away_Test = torch.Tensor(np.array(player_away_test_data))"
   ]
  },
  {
   "cell_type": "code",
   "execution_count": 16,
   "metadata": {},
   "outputs": [],
   "source": [
    "y_train = torch.squeeze(torch.LongTensor(np.array(y_train)))"
   ]
  },
  {
   "cell_type": "code",
   "execution_count": 17,
   "metadata": {},
   "outputs": [
    {
     "data": {
      "text/plain": [
       "'torch.LongTensor'"
      ]
     },
     "execution_count": 17,
     "metadata": {},
     "output_type": "execute_result"
    }
   ],
   "source": [
    "y_train.type()"
   ]
  },
  {
   "cell_type": "code",
   "execution_count": 18,
   "metadata": {},
   "outputs": [
    {
     "data": {
      "text/plain": [
       "torch.Size([16996])"
      ]
     },
     "execution_count": 18,
     "metadata": {},
     "output_type": "execute_result"
    }
   ],
   "source": [
    "y_train.size()"
   ]
  },
  {
   "cell_type": "code",
   "execution_count": 19,
   "metadata": {},
   "outputs": [],
   "source": [
    "y_test = torch.squeeze(torch.LongTensor(np.array(y_test)))"
   ]
  },
  {
   "cell_type": "code",
   "execution_count": 20,
   "metadata": {},
   "outputs": [
    {
     "data": {
      "text/plain": [
       "'torch.LongTensor'"
      ]
     },
     "execution_count": 20,
     "metadata": {},
     "output_type": "execute_result"
    }
   ],
   "source": [
    "y_test.type()"
   ]
  },
  {
   "cell_type": "code",
   "execution_count": 21,
   "metadata": {},
   "outputs": [
    {
     "data": {
      "text/plain": [
       "torch.Size([4250])"
      ]
     },
     "execution_count": 21,
     "metadata": {},
     "output_type": "execute_result"
    }
   ],
   "source": [
    "y_test.size()"
   ]
  },
  {
   "cell_type": "code",
   "execution_count": 22,
   "metadata": {},
   "outputs": [
    {
     "data": {
      "text/plain": [
       "torch.Size([16996, 1, 19, 11])"
      ]
     },
     "execution_count": 22,
     "metadata": {},
     "output_type": "execute_result"
    }
   ],
   "source": [
    "Player_Home_Train = Player_Home_Train.unsqueeze(1)\n",
    "Player_Home_Train.size()\n",
    "\n",
    "Player_Away_Train = Player_Away_Train.unsqueeze(1)\n",
    "Player_Away_Train.size()"
   ]
  },
  {
   "cell_type": "code",
   "execution_count": 23,
   "metadata": {},
   "outputs": [
    {
     "data": {
      "text/plain": [
       "torch.Size([4250, 1, 19, 11])"
      ]
     },
     "execution_count": 23,
     "metadata": {},
     "output_type": "execute_result"
    }
   ],
   "source": [
    "Player_Home_Test = Player_Home_Test.unsqueeze(1)\n",
    "Player_Home_Test.size()\n",
    "\n",
    "Player_Away_Test = Player_Away_Test.unsqueeze(1)\n",
    "Player_Away_Test.size()"
   ]
  },
  {
   "cell_type": "code",
   "execution_count": 31,
   "metadata": {},
   "outputs": [],
   "source": [
    "import torch.utils.data as data_utils\n",
    "\n",
    "train = data_utils.TensorDataset(Player_Home_Train, Player_Away_Train, y_train)\n",
    "train_loader = data_utils.DataLoader(train, batch_size=256, shuffle=True)\n",
    "\n",
    "test = data_utils.TensorDataset(Player_Home_Test, Player_Away_Test, y_test)\n",
    "test_loader = data_utils.DataLoader(test, batch_size=256, shuffle=True)"
   ]
  },
  {
   "cell_type": "code",
   "execution_count": 34,
   "metadata": {},
   "outputs": [],
   "source": [
    "import torch\n",
    "from torch import nn\n",
    "from torch import optim\n",
    "import torch.nn.functional as F\n",
    "\n",
    "class Network(nn.Module):\n",
    "\n",
    "    def __init__(self):\n",
    "        super(Network, self).__init__()\n",
    "        # Convolutional Neural Network Layer \n",
    "        self.convolutaional_neural_network_layers = nn.Sequential(\n",
    "                # Here we are defining our 2D convolutional layers\n",
    "                # We can calculate the output size of each convolutional layer using the following formular\n",
    "                # outputOfEachConvLayer = [(in_channel + 2*padding - kernel_size) / stride] + 1\n",
    "                # We have in_channels=19 because our input is a 19 layer #D matrix\n",
    "                nn.Conv2d(in_channels=1, out_channels=16, kernel_size=1, stride=1), # (N, 1, 19, 11) \n",
    "                nn.ReLU(),\n",
    "                nn.BatchNorm2d(16), \n",
    "                # After the first convolutional layer the output of this layer is:\n",
    "                # [(11 + 2*0 - 1)/1] + 1 = 11.\n",
    "                # [(19 + 2*0 - 1)/1] + 1 = 19\n",
    "          \n",
    "                # output of our second conv layer\n",
    "                nn.Conv2d(in_channels=16, out_channels=64, kernel_size=1, stride=1),\n",
    "                nn.ReLU(),\n",
    "                nn.BatchNorm2d(64),\n",
    "                # After the second convolutional layer the output of this layer is:\n",
    "                # [(11 + 2*0 - 1)/1] + 1 = 11.\n",
    "                # [(19 + 2*0 - 1)/1] + 1 = 19\n",
    "                \n",
    "                # output of our third conv layer\n",
    "                nn.Conv2d(in_channels=64, out_channels=64, kernel_size=1, stride=1),\n",
    "                nn.ReLU(),\n",
    "                nn.BatchNorm2d(64),\n",
    "                # After the second convolutional layer the output of this layer is:\n",
    "                # [(11 + 2*0 - 1)/1] + 1 = 11.\n",
    "                # [(19 + 2*0 - 1)/1] + 1 = 19\n",
    "            \n",
    "                #Average pooling layer\n",
    "                nn.AvgPool2d((19,11), stride=1) \n",
    "                #(N, 64, 19, 11) --> (N, 64, 1, 1)\n",
    "            \n",
    "        )\n",
    "\n",
    "        # Linear layer\n",
    "        self.linear_layers = nn.Sequential(\n",
    "                # We have the output_channel=64 of our second conv layer\n",
    "                nn.Linear(in_features=128, out_features=128),          \n",
    "                nn.ReLU(),\n",
    "                #apply dropout 0.2 \n",
    "                nn.Dropout(p=0.3),\n",
    "                nn.Linear(in_features=128, out_features=128),          \n",
    "                nn.ReLU(),\n",
    "                nn.Linear(in_features=128, out_features=128),          \n",
    "                nn.ReLU(),\n",
    "                nn.Linear(in_features=128, out_features=3)\n",
    "        )\n",
    "        \n",
    "    # Defining the forward pass\n",
    "    def forward(self, x1, x2):\n",
    "        out1 = self.convolutaional_neural_network_layers(x1)\n",
    "        out2 = self.convolutaional_neural_network_layers(x2)\n",
    "        out1 = torch.flatten(out1, start_dim=1)\n",
    "        out2 = torch.flatten(out2, start_dim=1)\n",
    "        x = torch.cat((out1, out2 ), 1)\n",
    "        \n",
    "        # After we get the output of our convolutional layer we must flatten it or rearrange the output into a vector\n",
    "        x = x.view(x.size(0), -1)\n",
    "        # Then pass it through the linear layer\n",
    "        x = self.linear_layers(x)\n",
    "        return x"
   ]
  },
  {
   "cell_type": "code",
   "execution_count": 32,
   "metadata": {},
   "outputs": [],
   "source": [
    "#Doing it on GPU\n",
    "device = torch.device(\"cuda:0\" if torch.cuda.is_available() else \"cpu\")\n",
    "\n",
    "model = Network()\n",
    "model.to(device)\n",
    "\n",
    "Player_Home_Train = Player_Home_Train.to(device)\n",
    "Player_Away_Train = Player_Away_Train.to(device)\n",
    "Player_Away_Test = Player_Away_Test.to(device)\n",
    "Player_Home_Test = Player_Home_Test.to(device)\n",
    "\n",
    "y_train = y_train.to(device)\n",
    "y_test = y_test.to(device)"
   ]
  },
  {
   "cell_type": "code",
   "execution_count": 33,
   "metadata": {},
   "outputs": [],
   "source": [
    "optimizer = optim.SGD(model.parameters(), lr=0.001)\n",
    "weights = [1/4941, 1/4260, 1/7795 ]\n",
    "class_weights = torch.FloatTensor(weights)\n",
    "criterion = nn.CrossEntropyLoss(weight=class_weights)"
   ]
  },
  {
   "cell_type": "code",
   "execution_count": 35,
   "metadata": {},
   "outputs": [
    {
     "name": "stdout",
     "output_type": "stream",
     "text": [
      "Epoch: 0/200   Training loss: 1.0992   Testing loss: 1.0991   Train accuracy: 0.2822   Test accuracy: 0.2824   Train F1 Score: 0.1604   Test F1 Score: 0.1387  \n",
      "Epoch: 1/200   Training loss: 1.0990   Testing loss: 1.0990   Train accuracy: 0.2838   Test accuracy: 0.2821   Train F1 Score: 0.1603   Test F1 Score: 0.1424  \n",
      "Epoch: 2/200   Training loss: 1.0989   Testing loss: 1.0988   Train accuracy: 0.2851   Test accuracy: 0.2835   Train F1 Score: 0.1673   Test F1 Score: 0.1464  \n",
      "Epoch: 3/200   Training loss: 1.0988   Testing loss: 1.0988   Train accuracy: 0.2844   Test accuracy: 0.2824   Train F1 Score: 0.1667   Test F1 Score: 0.1423  \n",
      "Epoch: 4/200   Training loss: 1.0988   Testing loss: 1.0986   Train accuracy: 0.2841   Test accuracy: 0.2833   Train F1 Score: 0.1661   Test F1 Score: 0.1444  \n",
      "Epoch: 5/200   Training loss: 1.0986   Testing loss: 1.0986   Train accuracy: 0.2842   Test accuracy: 0.2835   Train F1 Score: 0.1710   Test F1 Score: 0.1521  \n",
      "Epoch: 6/200   Training loss: 1.0987   Testing loss: 1.0985   Train accuracy: 0.2821   Test accuracy: 0.2828   Train F1 Score: 0.1733   Test F1 Score: 0.1470  \n",
      "Epoch: 7/200   Training loss: 1.0986   Testing loss: 1.0984   Train accuracy: 0.2857   Test accuracy: 0.2859   Train F1 Score: 0.1694   Test F1 Score: 0.1464  \n",
      "Epoch: 8/200   Training loss: 1.0985   Testing loss: 1.0983   Train accuracy: 0.2828   Test accuracy: 0.2847   Train F1 Score: 0.1710   Test F1 Score: 0.1457  \n",
      "Epoch: 9/200   Training loss: 1.0983   Testing loss: 1.0981   Train accuracy: 0.2832   Test accuracy: 0.2812   Train F1 Score: 0.1736   Test F1 Score: 0.1626  \n",
      "Epoch: 10/200   Training loss: 1.0983   Testing loss: 1.0981   Train accuracy: 0.2858   Test accuracy: 0.2819   Train F1 Score: 0.1703   Test F1 Score: 0.1571  \n",
      "Epoch: 11/200   Training loss: 1.0982   Testing loss: 1.0980   Train accuracy: 0.2872   Test accuracy: 0.2821   Train F1 Score: 0.1722   Test F1 Score: 0.1555  \n",
      "Epoch: 12/200   Training loss: 1.0982   Testing loss: 1.0979   Train accuracy: 0.2875   Test accuracy: 0.2816   Train F1 Score: 0.1772   Test F1 Score: 0.1594  \n",
      "Epoch: 13/200   Training loss: 1.0980   Testing loss: 1.0978   Train accuracy: 0.2862   Test accuracy: 0.2828   Train F1 Score: 0.1787   Test F1 Score: 0.1540  \n",
      "Epoch: 14/200   Training loss: 1.0981   Testing loss: 1.0978   Train accuracy: 0.2837   Test accuracy: 0.2847   Train F1 Score: 0.1815   Test F1 Score: 0.1618  \n",
      "Epoch: 15/200   Training loss: 1.0979   Testing loss: 1.0976   Train accuracy: 0.2895   Test accuracy: 0.2845   Train F1 Score: 0.1858   Test F1 Score: 0.1704  \n",
      "Epoch: 16/200   Training loss: 1.0978   Testing loss: 1.0975   Train accuracy: 0.2894   Test accuracy: 0.2864   Train F1 Score: 0.1859   Test F1 Score: 0.1707  \n",
      "Epoch: 17/200   Training loss: 1.0978   Testing loss: 1.0974   Train accuracy: 0.2900   Test accuracy: 0.2871   Train F1 Score: 0.1837   Test F1 Score: 0.1669  \n",
      "Epoch: 18/200   Training loss: 1.0977   Testing loss: 1.0975   Train accuracy: 0.2884   Test accuracy: 0.2873   Train F1 Score: 0.1836   Test F1 Score: 0.1687  \n",
      "Epoch: 19/200   Training loss: 1.0976   Testing loss: 1.0974   Train accuracy: 0.2955   Test accuracy: 0.2906   Train F1 Score: 0.1939   Test F1 Score: 0.1720  \n",
      "Epoch: 20/200   Training loss: 1.0975   Testing loss: 1.0973   Train accuracy: 0.2947   Test accuracy: 0.2868   Train F1 Score: 0.1965   Test F1 Score: 0.1588  \n",
      "Epoch: 21/200   Training loss: 1.0975   Testing loss: 1.0972   Train accuracy: 0.2962   Test accuracy: 0.2972   Train F1 Score: 0.2009   Test F1 Score: 0.1804  \n",
      "Epoch: 22/200   Training loss: 1.0975   Testing loss: 1.0971   Train accuracy: 0.2985   Test accuracy: 0.3000   Train F1 Score: 0.1997   Test F1 Score: 0.1796  \n",
      "Epoch: 23/200   Training loss: 1.0974   Testing loss: 1.0969   Train accuracy: 0.3005   Test accuracy: 0.3162   Train F1 Score: 0.2051   Test F1 Score: 0.2027  \n",
      "Epoch: 24/200   Training loss: 1.0973   Testing loss: 1.0969   Train accuracy: 0.3032   Test accuracy: 0.3172   Train F1 Score: 0.2089   Test F1 Score: 0.1952  \n",
      "Epoch: 25/200   Training loss: 1.0972   Testing loss: 1.0970   Train accuracy: 0.3046   Test accuracy: 0.3268   Train F1 Score: 0.2144   Test F1 Score: 0.2141  \n",
      "Epoch: 26/200   Training loss: 1.0971   Testing loss: 1.0967   Train accuracy: 0.3146   Test accuracy: 0.3339   Train F1 Score: 0.2211   Test F1 Score: 0.2129  \n",
      "Epoch: 27/200   Training loss: 1.0970   Testing loss: 1.0967   Train accuracy: 0.3183   Test accuracy: 0.3353   Train F1 Score: 0.2189   Test F1 Score: 0.2207  \n",
      "Epoch: 28/200   Training loss: 1.0970   Testing loss: 1.0966   Train accuracy: 0.3210   Test accuracy: 0.3445   Train F1 Score: 0.2255   Test F1 Score: 0.2409  \n",
      "Epoch: 29/200   Training loss: 1.0970   Testing loss: 1.0966   Train accuracy: 0.3231   Test accuracy: 0.3492   Train F1 Score: 0.2324   Test F1 Score: 0.2399  \n",
      "Epoch: 30/200   Training loss: 1.0969   Testing loss: 1.0965   Train accuracy: 0.3315   Test accuracy: 0.3579   Train F1 Score: 0.2445   Test F1 Score: 0.2429  \n",
      "Epoch: 31/200   Training loss: 1.0968   Testing loss: 1.0964   Train accuracy: 0.3360   Test accuracy: 0.3551   Train F1 Score: 0.2472   Test F1 Score: 0.2468  \n",
      "Epoch: 32/200   Training loss: 1.0967   Testing loss: 1.0962   Train accuracy: 0.3412   Test accuracy: 0.3776   Train F1 Score: 0.2472   Test F1 Score: 0.2619  \n",
      "Epoch: 33/200   Training loss: 1.0966   Testing loss: 1.0962   Train accuracy: 0.3486   Test accuracy: 0.3769   Train F1 Score: 0.2550   Test F1 Score: 0.2804  \n",
      "Epoch: 34/200   Training loss: 1.0965   Testing loss: 1.0962   Train accuracy: 0.3516   Test accuracy: 0.3805   Train F1 Score: 0.2575   Test F1 Score: 0.2790  \n",
      "Epoch: 35/200   Training loss: 1.0964   Testing loss: 1.0961   Train accuracy: 0.3565   Test accuracy: 0.3953   Train F1 Score: 0.2722   Test F1 Score: 0.2831  \n",
      "Epoch: 36/200   Training loss: 1.0963   Testing loss: 1.0960   Train accuracy: 0.3577   Test accuracy: 0.4087   Train F1 Score: 0.2705   Test F1 Score: 0.3039  \n",
      "Epoch: 37/200   Training loss: 1.0964   Testing loss: 1.0960   Train accuracy: 0.3651   Test accuracy: 0.4035   Train F1 Score: 0.2802   Test F1 Score: 0.2909  \n",
      "Epoch: 38/200   Training loss: 1.0962   Testing loss: 1.0959   Train accuracy: 0.3746   Test accuracy: 0.4146   Train F1 Score: 0.2855   Test F1 Score: 0.2958  \n",
      "Epoch: 39/200   Training loss: 1.0962   Testing loss: 1.0958   Train accuracy: 0.3743   Test accuracy: 0.4245   Train F1 Score: 0.2892   Test F1 Score: 0.3155  \n",
      "Epoch: 40/200   Training loss: 1.0961   Testing loss: 1.0958   Train accuracy: 0.3807   Test accuracy: 0.4221   Train F1 Score: 0.2910   Test F1 Score: 0.2944  \n",
      "Epoch: 41/200   Training loss: 1.0960   Testing loss: 1.0956   Train accuracy: 0.3854   Test accuracy: 0.4292   Train F1 Score: 0.2997   Test F1 Score: 0.3250  \n",
      "Epoch: 42/200   Training loss: 1.0959   Testing loss: 1.0957   Train accuracy: 0.3906   Test accuracy: 0.4304   Train F1 Score: 0.3078   Test F1 Score: 0.3190  \n",
      "Epoch: 43/200   Training loss: 1.0959   Testing loss: 1.0955   Train accuracy: 0.3959   Test accuracy: 0.4414   Train F1 Score: 0.3016   Test F1 Score: 0.3089  \n",
      "Epoch: 44/200   Training loss: 1.0958   Testing loss: 1.0954   Train accuracy: 0.3970   Test accuracy: 0.4482   Train F1 Score: 0.3053   Test F1 Score: 0.3273  \n",
      "Epoch: 45/200   Training loss: 1.0958   Testing loss: 1.0953   Train accuracy: 0.4017   Test accuracy: 0.4475   Train F1 Score: 0.3088   Test F1 Score: 0.3291  \n",
      "Epoch: 46/200   Training loss: 1.0957   Testing loss: 1.0953   Train accuracy: 0.4040   Test accuracy: 0.4433   Train F1 Score: 0.3114   Test F1 Score: 0.3267  \n",
      "Epoch: 47/200   Training loss: 1.0956   Testing loss: 1.0952   Train accuracy: 0.4154   Test accuracy: 0.4591   Train F1 Score: 0.3159   Test F1 Score: 0.3406  \n",
      "Epoch: 48/200   Training loss: 1.0955   Testing loss: 1.0951   Train accuracy: 0.4198   Test accuracy: 0.4562   Train F1 Score: 0.3213   Test F1 Score: 0.3239  \n",
      "Epoch: 49/200   Training loss: 1.0955   Testing loss: 1.0950   Train accuracy: 0.4217   Test accuracy: 0.4558   Train F1 Score: 0.3247   Test F1 Score: 0.3276  \n",
      "Epoch: 50/200   Training loss: 1.0954   Testing loss: 1.0949   Train accuracy: 0.4242   Test accuracy: 0.4682   Train F1 Score: 0.3225   Test F1 Score: 0.3348  \n"
     ]
    },
    {
     "name": "stdout",
     "output_type": "stream",
     "text": [
      "Epoch: 51/200   Training loss: 1.0953   Testing loss: 1.0948   Train accuracy: 0.4228   Test accuracy: 0.4567   Train F1 Score: 0.3260   Test F1 Score: 0.3368  \n",
      "Epoch: 52/200   Training loss: 1.0952   Testing loss: 1.0948   Train accuracy: 0.4292   Test accuracy: 0.4593   Train F1 Score: 0.3298   Test F1 Score: 0.3244  \n",
      "Epoch: 53/200   Training loss: 1.0952   Testing loss: 1.0948   Train accuracy: 0.4330   Test accuracy: 0.4673   Train F1 Score: 0.3257   Test F1 Score: 0.3458  \n",
      "Epoch: 54/200   Training loss: 1.0951   Testing loss: 1.0945   Train accuracy: 0.4407   Test accuracy: 0.4760   Train F1 Score: 0.3379   Test F1 Score: 0.3436  \n",
      "Epoch: 55/200   Training loss: 1.0950   Testing loss: 1.0946   Train accuracy: 0.4345   Test accuracy: 0.4654   Train F1 Score: 0.3327   Test F1 Score: 0.3319  \n",
      "Epoch: 56/200   Training loss: 1.0949   Testing loss: 1.0944   Train accuracy: 0.4413   Test accuracy: 0.4767   Train F1 Score: 0.3393   Test F1 Score: 0.3434  \n",
      "Epoch: 57/200   Training loss: 1.0949   Testing loss: 1.0944   Train accuracy: 0.4477   Test accuracy: 0.4654   Train F1 Score: 0.3368   Test F1 Score: 0.3546  \n",
      "Epoch: 58/200   Training loss: 1.0948   Testing loss: 1.0942   Train accuracy: 0.4454   Test accuracy: 0.4767   Train F1 Score: 0.3425   Test F1 Score: 0.3478  \n",
      "Epoch: 59/200   Training loss: 1.0947   Testing loss: 1.0941   Train accuracy: 0.4450   Test accuracy: 0.4800   Train F1 Score: 0.3375   Test F1 Score: 0.3569  \n",
      "Epoch: 60/200   Training loss: 1.0946   Testing loss: 1.0941   Train accuracy: 0.4465   Test accuracy: 0.4739   Train F1 Score: 0.3411   Test F1 Score: 0.3543  \n",
      "Epoch: 61/200   Training loss: 1.0946   Testing loss: 1.0941   Train accuracy: 0.4523   Test accuracy: 0.4755   Train F1 Score: 0.3475   Test F1 Score: 0.3513  \n",
      "Epoch: 62/200   Training loss: 1.0944   Testing loss: 1.0940   Train accuracy: 0.4560   Test accuracy: 0.4729   Train F1 Score: 0.3402   Test F1 Score: 0.3439  \n",
      "Epoch: 63/200   Training loss: 1.0944   Testing loss: 1.0939   Train accuracy: 0.4573   Test accuracy: 0.4762   Train F1 Score: 0.3460   Test F1 Score: 0.3474  \n",
      "Epoch: 64/200   Training loss: 1.0944   Testing loss: 1.0937   Train accuracy: 0.4503   Test accuracy: 0.4722   Train F1 Score: 0.3501   Test F1 Score: 0.3408  \n",
      "Epoch: 65/200   Training loss: 1.0942   Testing loss: 1.0937   Train accuracy: 0.4538   Test accuracy: 0.4786   Train F1 Score: 0.3463   Test F1 Score: 0.3516  \n",
      "Epoch: 66/200   Training loss: 1.0942   Testing loss: 1.0936   Train accuracy: 0.4574   Test accuracy: 0.4715   Train F1 Score: 0.3530   Test F1 Score: 0.3446  \n",
      "Epoch: 67/200   Training loss: 1.0942   Testing loss: 1.0934   Train accuracy: 0.4602   Test accuracy: 0.4807   Train F1 Score: 0.3499   Test F1 Score: 0.3595  \n",
      "Epoch: 68/200   Training loss: 1.0941   Testing loss: 1.0933   Train accuracy: 0.4637   Test accuracy: 0.4859   Train F1 Score: 0.3498   Test F1 Score: 0.3536  \n",
      "Epoch: 69/200   Training loss: 1.0939   Testing loss: 1.0932   Train accuracy: 0.4629   Test accuracy: 0.4854   Train F1 Score: 0.3554   Test F1 Score: 0.3436  \n",
      "Epoch: 70/200   Training loss: 1.0939   Testing loss: 1.0933   Train accuracy: 0.4671   Test accuracy: 0.4824   Train F1 Score: 0.3473   Test F1 Score: 0.3339  \n",
      "Epoch: 71/200   Training loss: 1.0938   Testing loss: 1.0931   Train accuracy: 0.4674   Test accuracy: 0.4791   Train F1 Score: 0.3470   Test F1 Score: 0.3518  \n",
      "Epoch: 72/200   Training loss: 1.0936   Testing loss: 1.0931   Train accuracy: 0.4686   Test accuracy: 0.4854   Train F1 Score: 0.3579   Test F1 Score: 0.3513  \n",
      "Epoch: 73/200   Training loss: 1.0935   Testing loss: 1.0929   Train accuracy: 0.4733   Test accuracy: 0.4800   Train F1 Score: 0.3532   Test F1 Score: 0.3430  \n",
      "Epoch: 74/200   Training loss: 1.0934   Testing loss: 1.0929   Train accuracy: 0.4703   Test accuracy: 0.4824   Train F1 Score: 0.3532   Test F1 Score: 0.3468  \n",
      "Epoch: 75/200   Training loss: 1.0932   Testing loss: 1.0927   Train accuracy: 0.4727   Test accuracy: 0.4908   Train F1 Score: 0.3501   Test F1 Score: 0.3540  \n",
      "Epoch: 76/200   Training loss: 1.0933   Testing loss: 1.0927   Train accuracy: 0.4715   Test accuracy: 0.4824   Train F1 Score: 0.3524   Test F1 Score: 0.3572  \n",
      "Epoch: 77/200   Training loss: 1.0931   Testing loss: 1.0926   Train accuracy: 0.4756   Test accuracy: 0.4929   Train F1 Score: 0.3480   Test F1 Score: 0.3498  \n",
      "Epoch: 78/200   Training loss: 1.0931   Testing loss: 1.0925   Train accuracy: 0.4699   Test accuracy: 0.4840   Train F1 Score: 0.3571   Test F1 Score: 0.3554  \n",
      "Epoch: 79/200   Training loss: 1.0930   Testing loss: 1.0923   Train accuracy: 0.4724   Test accuracy: 0.4922   Train F1 Score: 0.3559   Test F1 Score: 0.3537  \n",
      "Epoch: 80/200   Training loss: 1.0929   Testing loss: 1.0923   Train accuracy: 0.4731   Test accuracy: 0.4896   Train F1 Score: 0.3501   Test F1 Score: 0.3457  \n",
      "Epoch: 81/200   Training loss: 1.0929   Testing loss: 1.0922   Train accuracy: 0.4720   Test accuracy: 0.4882   Train F1 Score: 0.3502   Test F1 Score: 0.3518  \n",
      "Epoch: 82/200   Training loss: 1.0927   Testing loss: 1.0920   Train accuracy: 0.4745   Test accuracy: 0.4913   Train F1 Score: 0.3504   Test F1 Score: 0.3514  \n",
      "Epoch: 83/200   Training loss: 1.0925   Testing loss: 1.0920   Train accuracy: 0.4772   Test accuracy: 0.4868   Train F1 Score: 0.3537   Test F1 Score: 0.3518  \n",
      "Epoch: 84/200   Training loss: 1.0926   Testing loss: 1.0918   Train accuracy: 0.4753   Test accuracy: 0.4899   Train F1 Score: 0.3471   Test F1 Score: 0.3561  \n",
      "Epoch: 85/200   Training loss: 1.0923   Testing loss: 1.0917   Train accuracy: 0.4802   Test accuracy: 0.4913   Train F1 Score: 0.3546   Test F1 Score: 0.3396  \n",
      "Epoch: 86/200   Training loss: 1.0923   Testing loss: 1.0917   Train accuracy: 0.4783   Test accuracy: 0.4932   Train F1 Score: 0.3522   Test F1 Score: 0.3548  \n",
      "Epoch: 87/200   Training loss: 1.0921   Testing loss: 1.0915   Train accuracy: 0.4808   Test accuracy: 0.4920   Train F1 Score: 0.3541   Test F1 Score: 0.3496  \n",
      "Epoch: 88/200   Training loss: 1.0921   Testing loss: 1.0914   Train accuracy: 0.4792   Test accuracy: 0.4927   Train F1 Score: 0.3497   Test F1 Score: 0.3393  \n",
      "Epoch: 89/200   Training loss: 1.0919   Testing loss: 1.0912   Train accuracy: 0.4782   Test accuracy: 0.4941   Train F1 Score: 0.3543   Test F1 Score: 0.3462  \n",
      "Epoch: 90/200   Training loss: 1.0918   Testing loss: 1.0912   Train accuracy: 0.4840   Test accuracy: 0.4878   Train F1 Score: 0.3528   Test F1 Score: 0.3445  \n",
      "Epoch: 91/200   Training loss: 1.0917   Testing loss: 1.0910   Train accuracy: 0.4858   Test accuracy: 0.4934   Train F1 Score: 0.3485   Test F1 Score: 0.3551  \n",
      "Epoch: 92/200   Training loss: 1.0918   Testing loss: 1.0910   Train accuracy: 0.4834   Test accuracy: 0.4887   Train F1 Score: 0.3530   Test F1 Score: 0.3440  \n",
      "Epoch: 93/200   Training loss: 1.0915   Testing loss: 1.0908   Train accuracy: 0.4822   Test accuracy: 0.4948   Train F1 Score: 0.3532   Test F1 Score: 0.3498  \n",
      "Epoch: 94/200   Training loss: 1.0914   Testing loss: 1.0907   Train accuracy: 0.4878   Test accuracy: 0.4929   Train F1 Score: 0.3534   Test F1 Score: 0.3507  \n",
      "Epoch: 95/200   Training loss: 1.0913   Testing loss: 1.0906   Train accuracy: 0.4877   Test accuracy: 0.4965   Train F1 Score: 0.3573   Test F1 Score: 0.3489  \n",
      "Epoch: 96/200   Training loss: 1.0912   Testing loss: 1.0904   Train accuracy: 0.4854   Test accuracy: 0.4991   Train F1 Score: 0.3438   Test F1 Score: 0.3405  \n",
      "Epoch: 97/200   Training loss: 1.0912   Testing loss: 1.0904   Train accuracy: 0.4837   Test accuracy: 0.4925   Train F1 Score: 0.3501   Test F1 Score: 0.3653  \n",
      "Epoch: 98/200   Training loss: 1.0908   Testing loss: 1.0903   Train accuracy: 0.4873   Test accuracy: 0.4967   Train F1 Score: 0.3488   Test F1 Score: 0.3538  \n",
      "Epoch: 99/200   Training loss: 1.0908   Testing loss: 1.0901   Train accuracy: 0.4915   Test accuracy: 0.4936   Train F1 Score: 0.3516   Test F1 Score: 0.3490  \n",
      "Epoch: 100/200   Training loss: 1.0908   Testing loss: 1.0901   Train accuracy: 0.4853   Test accuracy: 0.4948   Train F1 Score: 0.3554   Test F1 Score: 0.3586  \n",
      "Epoch: 101/200   Training loss: 1.0905   Testing loss: 1.0898   Train accuracy: 0.4906   Test accuracy: 0.4962   Train F1 Score: 0.3551   Test F1 Score: 0.3471  \n"
     ]
    },
    {
     "name": "stdout",
     "output_type": "stream",
     "text": [
      "Epoch: 102/200   Training loss: 1.0906   Testing loss: 1.0897   Train accuracy: 0.4855   Test accuracy: 0.4976   Train F1 Score: 0.3561   Test F1 Score: 0.3393  \n",
      "Epoch: 103/200   Training loss: 1.0904   Testing loss: 1.0895   Train accuracy: 0.4912   Test accuracy: 0.4936   Train F1 Score: 0.3520   Test F1 Score: 0.3483  \n",
      "Epoch: 104/200   Training loss: 1.0904   Testing loss: 1.0895   Train accuracy: 0.4898   Test accuracy: 0.4967   Train F1 Score: 0.3510   Test F1 Score: 0.3456  \n",
      "Epoch: 105/200   Training loss: 1.0903   Testing loss: 1.0894   Train accuracy: 0.4889   Test accuracy: 0.4981   Train F1 Score: 0.3476   Test F1 Score: 0.3661  \n",
      "Epoch: 106/200   Training loss: 1.0899   Testing loss: 1.0892   Train accuracy: 0.4934   Test accuracy: 0.4962   Train F1 Score: 0.3457   Test F1 Score: 0.3502  \n",
      "Epoch: 107/200   Training loss: 1.0899   Testing loss: 1.0890   Train accuracy: 0.4906   Test accuracy: 0.4958   Train F1 Score: 0.3500   Test F1 Score: 0.3562  \n",
      "Epoch: 108/200   Training loss: 1.0898   Testing loss: 1.0892   Train accuracy: 0.4919   Test accuracy: 0.4976   Train F1 Score: 0.3478   Test F1 Score: 0.3572  \n",
      "Epoch: 109/200   Training loss: 1.0897   Testing loss: 1.0888   Train accuracy: 0.4888   Test accuracy: 0.4979   Train F1 Score: 0.3554   Test F1 Score: 0.3559  \n",
      "Epoch: 110/200   Training loss: 1.0894   Testing loss: 1.0887   Train accuracy: 0.4911   Test accuracy: 0.4944   Train F1 Score: 0.3488   Test F1 Score: 0.3561  \n",
      "Epoch: 111/200   Training loss: 1.0893   Testing loss: 1.0886   Train accuracy: 0.4895   Test accuracy: 0.4986   Train F1 Score: 0.3514   Test F1 Score: 0.3490  \n",
      "Epoch: 112/200   Training loss: 1.0893   Testing loss: 1.0887   Train accuracy: 0.4892   Test accuracy: 0.4958   Train F1 Score: 0.3537   Test F1 Score: 0.3484  \n",
      "Epoch: 113/200   Training loss: 1.0890   Testing loss: 1.0882   Train accuracy: 0.4928   Test accuracy: 0.5000   Train F1 Score: 0.3475   Test F1 Score: 0.3472  \n",
      "Epoch: 114/200   Training loss: 1.0888   Testing loss: 1.0881   Train accuracy: 0.4944   Test accuracy: 0.4976   Train F1 Score: 0.3589   Test F1 Score: 0.3543  \n",
      "Epoch: 115/200   Training loss: 1.0889   Testing loss: 1.0881   Train accuracy: 0.4916   Test accuracy: 0.4962   Train F1 Score: 0.3456   Test F1 Score: 0.3332  \n",
      "Epoch: 116/200   Training loss: 1.0886   Testing loss: 1.0879   Train accuracy: 0.4929   Test accuracy: 0.4922   Train F1 Score: 0.3530   Test F1 Score: 0.3458  \n",
      "Epoch: 117/200   Training loss: 1.0885   Testing loss: 1.0877   Train accuracy: 0.4915   Test accuracy: 0.4965   Train F1 Score: 0.3487   Test F1 Score: 0.3518  \n",
      "Epoch: 118/200   Training loss: 1.0883   Testing loss: 1.0876   Train accuracy: 0.4927   Test accuracy: 0.4998   Train F1 Score: 0.3509   Test F1 Score: 0.3482  \n",
      "Epoch: 119/200   Training loss: 1.0882   Testing loss: 1.0876   Train accuracy: 0.4951   Test accuracy: 0.4955   Train F1 Score: 0.3500   Test F1 Score: 0.3387  \n",
      "Epoch: 120/200   Training loss: 1.0880   Testing loss: 1.0872   Train accuracy: 0.4919   Test accuracy: 0.5005   Train F1 Score: 0.3512   Test F1 Score: 0.3477  \n",
      "Epoch: 121/200   Training loss: 1.0879   Testing loss: 1.0872   Train accuracy: 0.4945   Test accuracy: 0.5014   Train F1 Score: 0.3508   Test F1 Score: 0.3447  \n",
      "Epoch: 122/200   Training loss: 1.0878   Testing loss: 1.0871   Train accuracy: 0.4933   Test accuracy: 0.4962   Train F1 Score: 0.3409   Test F1 Score: 0.3436  \n",
      "Epoch: 123/200   Training loss: 1.0876   Testing loss: 1.0869   Train accuracy: 0.4920   Test accuracy: 0.4974   Train F1 Score: 0.3425   Test F1 Score: 0.3438  \n",
      "Epoch: 124/200   Training loss: 1.0876   Testing loss: 1.0863   Train accuracy: 0.4949   Test accuracy: 0.4962   Train F1 Score: 0.3542   Test F1 Score: 0.3481  \n",
      "Epoch: 125/200   Training loss: 1.0873   Testing loss: 1.0864   Train accuracy: 0.4930   Test accuracy: 0.4974   Train F1 Score: 0.3526   Test F1 Score: 0.3636  \n",
      "Epoch: 126/200   Training loss: 1.0872   Testing loss: 1.0865   Train accuracy: 0.4938   Test accuracy: 0.5012   Train F1 Score: 0.3496   Test F1 Score: 0.3448  \n",
      "Epoch: 127/200   Training loss: 1.0871   Testing loss: 1.0859   Train accuracy: 0.4935   Test accuracy: 0.4969   Train F1 Score: 0.3429   Test F1 Score: 0.3576  \n",
      "Epoch: 128/200   Training loss: 1.0868   Testing loss: 1.0859   Train accuracy: 0.4956   Test accuracy: 0.4969   Train F1 Score: 0.3564   Test F1 Score: 0.3508  \n",
      "Epoch: 129/200   Training loss: 1.0867   Testing loss: 1.0856   Train accuracy: 0.4952   Test accuracy: 0.4960   Train F1 Score: 0.3533   Test F1 Score: 0.3518  \n",
      "Epoch: 130/200   Training loss: 1.0863   Testing loss: 1.0856   Train accuracy: 0.4957   Test accuracy: 0.4976   Train F1 Score: 0.3542   Test F1 Score: 0.3487  \n",
      "Epoch: 131/200   Training loss: 1.0862   Testing loss: 1.0854   Train accuracy: 0.4962   Test accuracy: 0.5002   Train F1 Score: 0.3534   Test F1 Score: 0.3542  \n",
      "Epoch: 132/200   Training loss: 1.0862   Testing loss: 1.0854   Train accuracy: 0.4938   Test accuracy: 0.5014   Train F1 Score: 0.3517   Test F1 Score: 0.3571  \n",
      "Epoch: 133/200   Training loss: 1.0860   Testing loss: 1.0852   Train accuracy: 0.4945   Test accuracy: 0.4953   Train F1 Score: 0.3467   Test F1 Score: 0.3521  \n",
      "Epoch: 134/200   Training loss: 1.0857   Testing loss: 1.0850   Train accuracy: 0.4989   Test accuracy: 0.5002   Train F1 Score: 0.3491   Test F1 Score: 0.3436  \n",
      "Epoch: 135/200   Training loss: 1.0857   Testing loss: 1.0848   Train accuracy: 0.4951   Test accuracy: 0.4986   Train F1 Score: 0.3522   Test F1 Score: 0.3542  \n",
      "Epoch: 136/200   Training loss: 1.0853   Testing loss: 1.0846   Train accuracy: 0.4970   Test accuracy: 0.4995   Train F1 Score: 0.3509   Test F1 Score: 0.3471  \n",
      "Epoch: 137/200   Training loss: 1.0851   Testing loss: 1.0844   Train accuracy: 0.4985   Test accuracy: 0.5012   Train F1 Score: 0.3518   Test F1 Score: 0.3494  \n",
      "Epoch: 138/200   Training loss: 1.0848   Testing loss: 1.0842   Train accuracy: 0.5032   Test accuracy: 0.4979   Train F1 Score: 0.3474   Test F1 Score: 0.3394  \n",
      "Epoch: 139/200   Training loss: 1.0848   Testing loss: 1.0840   Train accuracy: 0.4971   Test accuracy: 0.5002   Train F1 Score: 0.3461   Test F1 Score: 0.3482  \n",
      "Epoch: 140/200   Training loss: 1.0846   Testing loss: 1.0841   Train accuracy: 0.4978   Test accuracy: 0.5000   Train F1 Score: 0.3538   Test F1 Score: 0.3607  \n",
      "Epoch: 141/200   Training loss: 1.0846   Testing loss: 1.0835   Train accuracy: 0.4971   Test accuracy: 0.5016   Train F1 Score: 0.3494   Test F1 Score: 0.3428  \n",
      "Epoch: 142/200   Training loss: 1.0841   Testing loss: 1.0833   Train accuracy: 0.4975   Test accuracy: 0.4981   Train F1 Score: 0.3479   Test F1 Score: 0.3584  \n",
      "Epoch: 143/200   Training loss: 1.0841   Testing loss: 1.0832   Train accuracy: 0.4985   Test accuracy: 0.4981   Train F1 Score: 0.3524   Test F1 Score: 0.3378  \n",
      "Epoch: 144/200   Training loss: 1.0837   Testing loss: 1.0832   Train accuracy: 0.5001   Test accuracy: 0.4986   Train F1 Score: 0.3449   Test F1 Score: 0.3665  \n",
      "Epoch: 145/200   Training loss: 1.0837   Testing loss: 1.0827   Train accuracy: 0.4962   Test accuracy: 0.5002   Train F1 Score: 0.3480   Test F1 Score: 0.3489  \n",
      "Epoch: 146/200   Training loss: 1.0833   Testing loss: 1.0825   Train accuracy: 0.5003   Test accuracy: 0.5007   Train F1 Score: 0.3517   Test F1 Score: 0.3501  \n",
      "Epoch: 147/200   Training loss: 1.0833   Testing loss: 1.0822   Train accuracy: 0.4998   Test accuracy: 0.4993   Train F1 Score: 0.3531   Test F1 Score: 0.3489  \n",
      "Epoch: 148/200   Training loss: 1.0829   Testing loss: 1.0819   Train accuracy: 0.4997   Test accuracy: 0.4995   Train F1 Score: 0.3558   Test F1 Score: 0.3458  \n",
      "Epoch: 149/200   Training loss: 1.0828   Testing loss: 1.0819   Train accuracy: 0.5014   Test accuracy: 0.5042   Train F1 Score: 0.3489   Test F1 Score: 0.3551  \n",
      "Epoch: 150/200   Training loss: 1.0825   Testing loss: 1.0815   Train accuracy: 0.4970   Test accuracy: 0.5012   Train F1 Score: 0.3493   Test F1 Score: 0.3495  \n",
      "Epoch: 151/200   Training loss: 1.0822   Testing loss: 1.0815   Train accuracy: 0.5015   Test accuracy: 0.5009   Train F1 Score: 0.3454   Test F1 Score: 0.3381  \n",
      "Epoch: 152/200   Training loss: 1.0819   Testing loss: 1.0813   Train accuracy: 0.4999   Test accuracy: 0.5059   Train F1 Score: 0.3505   Test F1 Score: 0.3518  \n"
     ]
    },
    {
     "name": "stdout",
     "output_type": "stream",
     "text": [
      "Epoch: 153/200   Training loss: 1.0819   Testing loss: 1.0808   Train accuracy: 0.4983   Test accuracy: 0.5019   Train F1 Score: 0.3516   Test F1 Score: 0.3596  \n",
      "Epoch: 154/200   Training loss: 1.0816   Testing loss: 1.0808   Train accuracy: 0.4962   Test accuracy: 0.5002   Train F1 Score: 0.3435   Test F1 Score: 0.3460  \n",
      "Epoch: 155/200   Training loss: 1.0815   Testing loss: 1.0807   Train accuracy: 0.4992   Test accuracy: 0.5012   Train F1 Score: 0.3474   Test F1 Score: 0.3408  \n",
      "Epoch: 156/200   Training loss: 1.0811   Testing loss: 1.0800   Train accuracy: 0.4989   Test accuracy: 0.5031   Train F1 Score: 0.3494   Test F1 Score: 0.3492  \n",
      "Epoch: 157/200   Training loss: 1.0811   Testing loss: 1.0800   Train accuracy: 0.5005   Test accuracy: 0.4948   Train F1 Score: 0.3491   Test F1 Score: 0.3468  \n",
      "Epoch: 158/200   Training loss: 1.0805   Testing loss: 1.0798   Train accuracy: 0.5018   Test accuracy: 0.5014   Train F1 Score: 0.3481   Test F1 Score: 0.3485  \n",
      "Epoch: 159/200   Training loss: 1.0805   Testing loss: 1.0798   Train accuracy: 0.5014   Test accuracy: 0.5035   Train F1 Score: 0.3432   Test F1 Score: 0.3489  \n",
      "Epoch: 160/200   Training loss: 1.0803   Testing loss: 1.0791   Train accuracy: 0.4988   Test accuracy: 0.4965   Train F1 Score: 0.3458   Test F1 Score: 0.3436  \n",
      "Epoch: 161/200   Training loss: 1.0797   Testing loss: 1.0789   Train accuracy: 0.5024   Test accuracy: 0.4976   Train F1 Score: 0.3510   Test F1 Score: 0.3546  \n",
      "Epoch: 162/200   Training loss: 1.0795   Testing loss: 1.0787   Train accuracy: 0.4980   Test accuracy: 0.4986   Train F1 Score: 0.3405   Test F1 Score: 0.3516  \n",
      "Epoch: 163/200   Training loss: 1.0795   Testing loss: 1.0785   Train accuracy: 0.4976   Test accuracy: 0.5002   Train F1 Score: 0.3479   Test F1 Score: 0.3578  \n",
      "Epoch: 164/200   Training loss: 1.0792   Testing loss: 1.0783   Train accuracy: 0.5002   Test accuracy: 0.4988   Train F1 Score: 0.3498   Test F1 Score: 0.3553  \n",
      "Epoch: 165/200   Training loss: 1.0789   Testing loss: 1.0780   Train accuracy: 0.5012   Test accuracy: 0.4991   Train F1 Score: 0.3546   Test F1 Score: 0.3616  \n",
      "Epoch: 166/200   Training loss: 1.0785   Testing loss: 1.0776   Train accuracy: 0.5007   Test accuracy: 0.4998   Train F1 Score: 0.3477   Test F1 Score: 0.3465  \n",
      "Epoch: 167/200   Training loss: 1.0783   Testing loss: 1.0772   Train accuracy: 0.4982   Test accuracy: 0.4991   Train F1 Score: 0.3522   Test F1 Score: 0.3462  \n",
      "Epoch: 168/200   Training loss: 1.0781   Testing loss: 1.0770   Train accuracy: 0.4991   Test accuracy: 0.5000   Train F1 Score: 0.3500   Test F1 Score: 0.3419  \n",
      "Epoch: 169/200   Training loss: 1.0777   Testing loss: 1.0769   Train accuracy: 0.5024   Test accuracy: 0.4991   Train F1 Score: 0.3483   Test F1 Score: 0.3401  \n",
      "Epoch: 170/200   Training loss: 1.0776   Testing loss: 1.0766   Train accuracy: 0.4995   Test accuracy: 0.5000   Train F1 Score: 0.3456   Test F1 Score: 0.3543  \n",
      "Epoch: 171/200   Training loss: 1.0771   Testing loss: 1.0765   Train accuracy: 0.5026   Test accuracy: 0.4981   Train F1 Score: 0.3460   Test F1 Score: 0.3651  \n",
      "Epoch: 172/200   Training loss: 1.0773   Testing loss: 1.0759   Train accuracy: 0.5001   Test accuracy: 0.5007   Train F1 Score: 0.3512   Test F1 Score: 0.3487  \n",
      "Epoch: 173/200   Training loss: 1.0768   Testing loss: 1.0753   Train accuracy: 0.5004   Test accuracy: 0.5005   Train F1 Score: 0.3466   Test F1 Score: 0.3460  \n",
      "Epoch: 174/200   Training loss: 1.0763   Testing loss: 1.0757   Train accuracy: 0.4998   Test accuracy: 0.4998   Train F1 Score: 0.3472   Test F1 Score: 0.3468  \n",
      "Epoch: 175/200   Training loss: 1.0761   Testing loss: 1.0751   Train accuracy: 0.4991   Test accuracy: 0.4998   Train F1 Score: 0.3516   Test F1 Score: 0.3468  \n",
      "Epoch: 176/200   Training loss: 1.0759   Testing loss: 1.0747   Train accuracy: 0.4984   Test accuracy: 0.4967   Train F1 Score: 0.3480   Test F1 Score: 0.3504  \n",
      "Epoch: 177/200   Training loss: 1.0757   Testing loss: 1.0747   Train accuracy: 0.5008   Test accuracy: 0.4993   Train F1 Score: 0.3515   Test F1 Score: 0.3613  \n",
      "Epoch: 178/200   Training loss: 1.0752   Testing loss: 1.0743   Train accuracy: 0.4998   Test accuracy: 0.5012   Train F1 Score: 0.3516   Test F1 Score: 0.3392  \n",
      "Epoch: 179/200   Training loss: 1.0746   Testing loss: 1.0737   Train accuracy: 0.5002   Test accuracy: 0.4981   Train F1 Score: 0.3444   Test F1 Score: 0.3427  \n",
      "Epoch: 180/200   Training loss: 1.0745   Testing loss: 1.0735   Train accuracy: 0.5015   Test accuracy: 0.4988   Train F1 Score: 0.3477   Test F1 Score: 0.3471  \n",
      "Epoch: 181/200   Training loss: 1.0745   Testing loss: 1.0734   Train accuracy: 0.4998   Test accuracy: 0.4998   Train F1 Score: 0.3483   Test F1 Score: 0.3442  \n",
      "Epoch: 182/200   Training loss: 1.0739   Testing loss: 1.0731   Train accuracy: 0.5006   Test accuracy: 0.4995   Train F1 Score: 0.3459   Test F1 Score: 0.3619  \n",
      "Epoch: 183/200   Training loss: 1.0737   Testing loss: 1.0728   Train accuracy: 0.5025   Test accuracy: 0.4991   Train F1 Score: 0.3499   Test F1 Score: 0.3326  \n",
      "Epoch: 184/200   Training loss: 1.0732   Testing loss: 1.0721   Train accuracy: 0.4983   Test accuracy: 0.4979   Train F1 Score: 0.3481   Test F1 Score: 0.3503  \n",
      "Epoch: 185/200   Training loss: 1.0729   Testing loss: 1.0720   Train accuracy: 0.4991   Test accuracy: 0.4991   Train F1 Score: 0.3504   Test F1 Score: 0.3567  \n",
      "Epoch: 186/200   Training loss: 1.0725   Testing loss: 1.0718   Train accuracy: 0.4996   Test accuracy: 0.5002   Train F1 Score: 0.3485   Test F1 Score: 0.3501  \n",
      "Epoch: 187/200   Training loss: 1.0724   Testing loss: 1.0712   Train accuracy: 0.5001   Test accuracy: 0.5000   Train F1 Score: 0.3465   Test F1 Score: 0.3609  \n",
      "Epoch: 188/200   Training loss: 1.0720   Testing loss: 1.0710   Train accuracy: 0.5002   Test accuracy: 0.4995   Train F1 Score: 0.3459   Test F1 Score: 0.3426  \n",
      "Epoch: 189/200   Training loss: 1.0715   Testing loss: 1.0711   Train accuracy: 0.4996   Test accuracy: 0.5002   Train F1 Score: 0.3463   Test F1 Score: 0.3457  \n",
      "Epoch: 190/200   Training loss: 1.0713   Testing loss: 1.0703   Train accuracy: 0.4988   Test accuracy: 0.5005   Train F1 Score: 0.3505   Test F1 Score: 0.3543  \n",
      "Epoch: 191/200   Training loss: 1.0712   Testing loss: 1.0702   Train accuracy: 0.4981   Test accuracy: 0.5000   Train F1 Score: 0.3442   Test F1 Score: 0.3484  \n",
      "Epoch: 192/200   Training loss: 1.0706   Testing loss: 1.0696   Train accuracy: 0.5040   Test accuracy: 0.4991   Train F1 Score: 0.3439   Test F1 Score: 0.3448  \n",
      "Epoch: 193/200   Training loss: 1.0700   Testing loss: 1.0694   Train accuracy: 0.5009   Test accuracy: 0.4958   Train F1 Score: 0.3422   Test F1 Score: 0.3492  \n",
      "Epoch: 194/200   Training loss: 1.0698   Testing loss: 1.0687   Train accuracy: 0.4972   Test accuracy: 0.5007   Train F1 Score: 0.3502   Test F1 Score: 0.3547  \n",
      "Epoch: 195/200   Training loss: 1.0696   Testing loss: 1.0685   Train accuracy: 0.5001   Test accuracy: 0.4988   Train F1 Score: 0.3424   Test F1 Score: 0.3447  \n",
      "Epoch: 196/200   Training loss: 1.0692   Testing loss: 1.0683   Train accuracy: 0.5007   Test accuracy: 0.4972   Train F1 Score: 0.3471   Test F1 Score: 0.3505  \n",
      "Epoch: 197/200   Training loss: 1.0686   Testing loss: 1.0675   Train accuracy: 0.5014   Test accuracy: 0.4965   Train F1 Score: 0.3435   Test F1 Score: 0.3398  \n",
      "Epoch: 198/200   Training loss: 1.0678   Testing loss: 1.0676   Train accuracy: 0.5015   Test accuracy: 0.4988   Train F1 Score: 0.3497   Test F1 Score: 0.3520  \n",
      "Epoch: 199/200   Training loss: 1.0678   Testing loss: 1.0672   Train accuracy: 0.5015   Test accuracy: 0.4991   Train F1 Score: 0.3416   Test F1 Score: 0.3506  \n"
     ]
    }
   ],
   "source": [
    "from sklearn.metrics import f1_score\n",
    "\n",
    "epochs = 200\n",
    "train_loss, val_loss = [], []\n",
    "accuracy_total_train, accuracy_total_val = [], []\n",
    "train_f1_scores, test_f1_scores = [], []\n",
    "\n",
    "\n",
    "for epoch in range(epochs):\n",
    "   \n",
    "    total_train_loss = 0\n",
    "    total_val_loss = 0\n",
    "    prediction_list_test = []\n",
    "    prediction_list_train = []\n",
    "    train_f1score = 0\n",
    "    test_f1score = 0\n",
    "\n",
    "    model.train()\n",
    "    \n",
    "    total = 0\n",
    "    # training our model\n",
    "    for idx, (x1, x2, y) in enumerate(train_loader):\n",
    "\n",
    "        optimizer.zero_grad()\n",
    "        pred = model(x1, x2)\n",
    "        loss = criterion(pred, y)\n",
    "        total_train_loss += loss.item()\n",
    "\n",
    "        loss.backward()\n",
    "        optimizer.step()\n",
    "\n",
    "        pred = torch.nn.functional.softmax(pred, dim=1)\n",
    "        for i, p in enumerate(pred):\n",
    "            if y[i] == torch.max(p.data, 0)[1]:\n",
    "                total = total + 1\n",
    "            y_prediction = torch.max(p.data, 0)[1]\n",
    "            prediction_list_train.append(y_prediction)\n",
    "                \n",
    "    accuracy_train = total / len(train)\n",
    "    accuracy_total_train.append(accuracy_train)\n",
    "    \n",
    "    prediction_stacked_tensor = torch.stack(prediction_list_train)\n",
    "    train_f1score = f1_score(y_train, prediction_stacked_tensor, average='weighted')\n",
    "    train_f1_scores.append(train_f1score)\n",
    "\n",
    "    total_train_loss = total_train_loss / (idx + 1)\n",
    "    train_loss.append(total_train_loss)\n",
    "    \n",
    "    # validating our model\n",
    "    model.eval()\n",
    "    total = 0\n",
    "    for idx, (x1, x2, y) in enumerate(test_loader):\n",
    "        pred = model(x1, x2)\n",
    "        loss = criterion(pred, y)\n",
    "        total_val_loss += loss.item()\n",
    "\n",
    "        pred = torch.nn.functional.softmax(pred, dim=1)\n",
    "        for i, p in enumerate(pred):\n",
    "            if y[i] == torch.max(p.data, 0)[1]:\n",
    "                total = total + 1\n",
    "            y_prediction = torch.max(p.data, 0)[1]\n",
    "            prediction_list_test.append(y_prediction)\n",
    "        \n",
    "        \n",
    "    accuracy_val = total / len(test)\n",
    "    accuracy_total_val.append(accuracy_val)\n",
    "    prediction_stacked_tensor = torch.stack(prediction_list_test)\n",
    "    test_f1score = f1_score(y_test, prediction_stacked_tensor, average='weighted')\n",
    "    test_f1_scores.append(test_f1score)\n",
    "\n",
    "    total_val_loss = total_val_loss / (idx + 1)\n",
    "    val_loss.append(total_val_loss)\n",
    "\n",
    "    if epoch % 1 == 0:\n",
    "        print(\"Epoch: {}/{}  \".format(epoch, epochs),\n",
    "            \"Training loss: {:.4f}  \".format(total_train_loss),\n",
    "            \"Testing loss: {:.4f}  \".format(total_val_loss),\n",
    "            \"Train accuracy: {:.4f}  \".format(accuracy_train),\n",
    "            \"Test accuracy: {:.4f}  \".format(accuracy_val),\n",
    "            \"Train F1 Score: {:.4f}  \".format(train_f1score),\n",
    "            \"Test F1 Score: {:.4f}  \".format(test_f1score))"
   ]
  },
  {
   "cell_type": "code",
   "execution_count": 36,
   "metadata": {
    "scrolled": true
   },
   "outputs": [
    {
     "data": {
      "image/png": "[encoded data removed]",
      "text/plain": [
       "<Figure size 432x288 with 1 Axes>"
      ]
     },
     "metadata": {
      "needs_background": "light"
     },
     "output_type": "display_data"
    }
   ],
   "source": [
    "plt.plot(train_f1_scores, label='Training f1-Scores')\n",
    "plt.plot(test_f1_scores, label='Testing f1-Scores')\n",
    "plt.legend()\n",
    "plt.grid()"
   ]
  },
  {
   "cell_type": "code",
   "execution_count": 37,
   "metadata": {},
   "outputs": [
    {
     "data": {
      "image/png": "[encoded data removed]",
      "text/plain": [
       "<Figure size 432x288 with 1 Axes>"
      ]
     },
     "metadata": {
      "needs_background": "light"
     },
     "output_type": "display_data"
    }
   ],
   "source": [
    "plt.plot(train_loss, label='Training loss')\n",
    "plt.plot(val_loss, label='Test loss')\n",
    "plt.legend()\n",
    "plt.grid()"
   ]
  },
  {
   "cell_type": "code",
   "execution_count": 38,
   "metadata": {},
   "outputs": [
    {
     "data": {
      "image/png": "[encoded data removed]",
      "text/plain": [
       "<Figure size 432x288 with 1 Axes>"
      ]
     },
     "metadata": {
      "needs_background": "light"
     },
     "output_type": "display_data"
    }
   ],
   "source": [
    "plt.plot(accuracy_total_train, label='Training Accuracy')\n",
    "plt.plot(accuracy_total_val, label='Test Accuracy')\n",
    "plt.legend()\n",
    "plt.grid()"
   ]
  },
  {
   "cell_type": "code",
   "execution_count": null,
   "metadata": {},
   "outputs": [],
   "source": []
  },
  {
   "cell_type": "code",
   "execution_count": null,
   "metadata": {},
   "outputs": [],
   "source": []
  },
  {
   "cell_type": "code",
   "execution_count": 41,
   "metadata": {},
   "outputs": [],
   "source": [
    "#Evaluation\n",
    "classes = ['Loss','Draw','Win']\n",
    "predict_list = []\n",
    "y_pred = model(Player_Home_Test, Player_Away_Test)\n",
    "\n",
    "for i, p in enumerate(y_pred):\n",
    "    y_pred = torch.max(p.data, 0)[1]\n",
    "    predict_list.append(y_pred)\n",
    "stacked_tensor = torch.stack(predict_list)\n",
    "y_test = y_test.cpu()"
   ]
  },
  {
   "cell_type": "code",
   "execution_count": 42,
   "metadata": {},
   "outputs": [
    {
     "name": "stdout",
     "output_type": "stream",
     "text": [
      "              precision    recall  f1-score   support\n",
      "\n",
      "        Loss       0.43      0.59      0.50      1189\n",
      "        Draw       0.28      0.08      0.12      1102\n",
      "         Win       0.58      0.68      0.63      1959\n",
      "\n",
      "    accuracy                           0.50      4250\n",
      "   macro avg       0.43      0.45      0.42      4250\n",
      "weighted avg       0.46      0.50      0.46      4250\n",
      "\n"
     ]
    }
   ],
   "source": [
    "print(classification_report(y_test, stacked_tensor, target_names=classes))"
   ]
  },
  {
   "cell_type": "code",
   "execution_count": 43,
   "metadata": {},
   "outputs": [
    {
     "data": {
      "text/plain": [
       "Text(0.5, 15.0, 'Predicted label')"
      ]
     },
     "execution_count": 43,
     "metadata": {},
     "output_type": "execute_result"
    },
    {
     "data": {
      "image/png": "[encoded data removed]",
      "text/plain": [
       "<Figure size 432x288 with 2 Axes>"
      ]
     },
     "metadata": {
      "needs_background": "light"
     },
     "output_type": "display_data"
    }
   ],
   "source": [
    "cm = confusion_matrix(y_test, stacked_tensor)\n",
    "df_cm = pd.DataFrame(cm, index=classes, columns=classes)\n",
    "hmap = sns.heatmap(df_cm, annot=True, fmt=\"d\")\n",
    "hmap.yaxis.set_ticklabels(hmap.yaxis.get_ticklabels(), rotation=0, ha='right')\n",
    "hmap.xaxis.set_ticklabels(hmap.xaxis.get_ticklabels(), rotation=0, ha='right')\n",
    "plt.ylabel('True label')\n",
    "plt.xlabel('Predicted label')"
   ]
  },
  {
   "cell_type": "code",
   "execution_count": 45,
   "metadata": {},
   "outputs": [
    {
     "name": "stdout",
     "output_type": "stream",
     "text": [
      "Accuracy of the network on the 4250 matches: 49 %\n"
     ]
    }
   ],
   "source": [
    "correct = 0\n",
    "total = 0\n",
    "\n",
    "with torch.no_grad():\n",
    "    for i, (x1, x2, y) in enumerate(test_loader):\n",
    "        outputs = model(x1,x2)\n",
    "        _, predicted = torch.max(outputs.data, 1)\n",
    "        total += y.size(0)\n",
    "        correct += (predicted == y).sum().item()\n",
    "\n",
    "print('Accuracy of the network on the 4250 matches: %d %%' % (\n",
    "    100 * correct / total))"
   ]
  },
  {
   "cell_type": "code",
   "execution_count": null,
   "metadata": {},
   "outputs": [],
   "source": []
  }
 ],
 "metadata": {
  "kernelspec": {
   "display_name": "Python 3",
   "language": "python",
   "name": "python3"
  },
  "language_info": {
   "codemirror_mode": {
    "name": "ipython",
    "version": 3
   },
   "file_extension": ".py",
   "mimetype": "text/x-python",
   "name": "python",
   "nbconvert_exporter": "python",
   "pygments_lexer": "ipython3",
   "version": "3.8.5"
  }
 },
 "nbformat": 4,
 "nbformat_minor": 4
}
