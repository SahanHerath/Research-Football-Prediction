{
 "cells": [
  {
   "cell_type": "code",
   "execution_count": 1,
   "metadata": {},
   "outputs": [],
   "source": [
    "import pandas as pd\n",
    "import seaborn as sns\n",
    "import numpy as np\n",
    "from tqdm import tqdm\n",
    "from pylab import rcParams\n",
    "import matplotlib.pyplot as plt\n",
    "from matplotlib import rc\n",
    "from torch import nn, optim\n",
    "import torch.nn.functional as F\n",
    "from sklearn.model_selection import train_test_split\n",
    "from sklearn.metrics import confusion_matrix, classification_report\n",
    "import torch\n",
    "\n",
    "df = pd.read_csv('UpdatedMatches.csv')\n",
    "data = []"
   ]
  },
  {
   "cell_type": "code",
   "execution_count": 2,
   "metadata": {},
   "outputs": [],
   "source": [
    "df['season'].replace({'2008/2009':2008, '2009/2010':2009, '2010/2011':2010, '2011/2012':2011, '2012/2013':2012, '2013/2014':2013, '2014/2015':2014, '2015/2016':2015 },inplace=True)\n",
    "\n",
    "df[\"result\"] = np.nan\n",
    "for index, row in df.iterrows():\n",
    "    if df.loc[index,'home_team_goal'] == df.loc[index,'away_team_goal']:\n",
    "        df.loc[index,'result'] = 1\n",
    "    if df.loc[index,'home_team_goal'] > df.loc[index,'away_team_goal']:\n",
    "        df.loc[index,'result'] = 2\n",
    "    if df.loc[index,'home_team_goal'] < df.loc[index,'away_team_goal']:\n",
    "        df.loc[index,'result'] = 0"
   ]
  },
  {
   "cell_type": "code",
   "execution_count": 3,
   "metadata": {},
   "outputs": [
    {
     "name": "stderr",
     "output_type": "stream",
     "text": [
      "C:\\Users\\herath\\anaconda3\\lib\\site-packages\\seaborn\\_decorators.py:36: FutureWarning: Pass the following variable as a keyword arg: x. From version 0.12, the only valid positional argument will be `data`, and passing other arguments without an explicit keyword will result in an error or misinterpretation.\n",
      "  warnings.warn(\n"
     ]
    },
    {
     "data": {
      "text/plain": [
       "<AxesSubplot:xlabel='result', ylabel='count'>"
      ]
     },
     "execution_count": 3,
     "metadata": {},
     "output_type": "execute_result"
    },
    {
     "data": {
      "image/png": "[encoded data removed]",
      "text/plain": [
       "<Figure size 432x288 with 1 Axes>"
      ]
     },
     "metadata": {
      "needs_background": "light"
     },
     "output_type": "display_data"
    }
   ],
   "source": [
    "sns.countplot(df.result)"
   ]
  },
  {
   "cell_type": "code",
   "execution_count": 4,
   "metadata": {},
   "outputs": [
    {
     "data": {
      "text/plain": [
       "2.0    0.459098\n",
       "0.0    0.288525\n",
       "1.0    0.252377\n",
       "Name: result, dtype: float64"
      ]
     },
     "execution_count": 4,
     "metadata": {},
     "output_type": "execute_result"
    }
   ],
   "source": [
    "df.result.value_counts()/df.shape[0]"
   ]
  },
  {
   "cell_type": "code",
   "execution_count": 5,
   "metadata": {},
   "outputs": [],
   "source": [
    "from tqdm import tqdm\n",
    "\n",
    "def playerfunction( df ):\n",
    "    for index, row in tqdm(df.iterrows()):\n",
    "        overall_rating_home_players = []\n",
    "        overall_rating_home_players.append(df.loc[index,'overall_rating_home_player_1'])\n",
    "        overall_rating_home_players.append(df.loc[index,'overall_rating_home_player_2'])\n",
    "        overall_rating_home_players.append(df.loc[index,'overall_rating_home_player_3'])\n",
    "        overall_rating_home_players.append(df.loc[index,'overall_rating_home_player_4'])\n",
    "        overall_rating_home_players.append(df.loc[index,'overall_rating_home_player_5'])\n",
    "        overall_rating_home_players.append(df.loc[index,'overall_rating_home_player_6'])\n",
    "        overall_rating_home_players.append(df.loc[index,'overall_rating_home_player_7'])\n",
    "        overall_rating_home_players.append(df.loc[index,'overall_rating_home_player_8'])\n",
    "        overall_rating_home_players.append(df.loc[index,'overall_rating_home_player_9'])\n",
    "        overall_rating_home_players.append(df.loc[index,'overall_rating_home_player_10'])\n",
    "        overall_rating_home_players.append(df.loc[index,'overall_rating_home_player_11'])\n",
    "\n",
    "        overall_rating_away_players = []\n",
    "        overall_rating_away_players.append(df.loc[index,'overall_rating_away_player_1'])\n",
    "        overall_rating_away_players.append(df.loc[index,'overall_rating_away_player_2'])\n",
    "        overall_rating_away_players.append(df.loc[index,'overall_rating_away_player_3'])\n",
    "        overall_rating_away_players.append(df.loc[index,'overall_rating_away_player_4'])\n",
    "        overall_rating_away_players.append(df.loc[index,'overall_rating_away_player_5'])\n",
    "        overall_rating_away_players.append(df.loc[index,'overall_rating_away_player_6'])\n",
    "        overall_rating_away_players.append(df.loc[index,'overall_rating_away_player_7'])\n",
    "        overall_rating_away_players.append(df.loc[index,'overall_rating_away_player_8'])\n",
    "        overall_rating_away_players.append(df.loc[index,'overall_rating_away_player_9'])\n",
    "        overall_rating_away_players.append(df.loc[index,'overall_rating_away_player_10'])\n",
    "        overall_rating_away_players.append(df.loc[index,'overall_rating_away_player_11'])\n",
    "\n",
    "        overall_rating_matrix = []\n",
    "        for i in range(11):          \n",
    "            a =[]\n",
    "            for j in range(11):\n",
    "                a.append(overall_rating_home_players[i]-overall_rating_away_players[j])\n",
    "            overall_rating_matrix.append(a)\n",
    "\n",
    "        potential_home_players = []\n",
    "        potential_home_players.append(df.loc[index,'potential_home_player_1'])\n",
    "        potential_home_players.append(df.loc[index,'potential_home_player_2'])\n",
    "        potential_home_players.append(df.loc[index,'potential_home_player_3'])\n",
    "        potential_home_players.append(df.loc[index,'potential_home_player_4'])\n",
    "        potential_home_players.append(df.loc[index,'potential_home_player_5'])\n",
    "        potential_home_players.append(df.loc[index,'potential_home_player_6'])\n",
    "        potential_home_players.append(df.loc[index,'potential_home_player_7'])\n",
    "        potential_home_players.append(df.loc[index,'potential_home_player_8'])\n",
    "        potential_home_players.append(df.loc[index,'potential_home_player_9'])\n",
    "        potential_home_players.append(df.loc[index,'potential_home_player_10'])\n",
    "        potential_home_players.append(df.loc[index,'potential_home_player_11'])\n",
    "\n",
    "        potential_away_players = []\n",
    "        potential_away_players.append(df.loc[index,'potential_away_player_1'])\n",
    "        potential_away_players.append(df.loc[index,'potential_away_player_2'])\n",
    "        potential_away_players.append(df.loc[index,'potential_away_player_3'])\n",
    "        potential_away_players.append(df.loc[index,'potential_away_player_4'])\n",
    "        potential_away_players.append(df.loc[index,'potential_away_player_5'])\n",
    "        potential_away_players.append(df.loc[index,'potential_away_player_6'])\n",
    "        potential_away_players.append(df.loc[index,'potential_away_player_7'])\n",
    "        potential_away_players.append(df.loc[index,'potential_away_player_8'])\n",
    "        potential_away_players.append(df.loc[index,'potential_away_player_9'])\n",
    "        potential_away_players.append(df.loc[index,'potential_away_player_10'])\n",
    "        potential_away_players.append(df.loc[index,'potential_away_player_11'])\n",
    "\n",
    "        potential_matrix = []\n",
    "        for i in range(11):          \n",
    "            b =[]\n",
    "            for j in range(11):\n",
    "                b.append(potential_home_players[i]-potential_away_players[j])\n",
    "            potential_matrix.append(b)\n",
    "\n",
    "        crossing_home_players = []\n",
    "        crossing_home_players.append(df.loc[index,'crossing_home_player_1'])\n",
    "        crossing_home_players.append(df.loc[index,'crossing_home_player_2'])\n",
    "        crossing_home_players.append(df.loc[index,'crossing_home_player_3'])\n",
    "        crossing_home_players.append(df.loc[index,'crossing_home_player_4'])\n",
    "        crossing_home_players.append(df.loc[index,'crossing_home_player_5'])\n",
    "        crossing_home_players.append(df.loc[index,'crossing_home_player_6'])\n",
    "        crossing_home_players.append(df.loc[index,'crossing_home_player_7'])\n",
    "        crossing_home_players.append(df.loc[index,'crossing_home_player_8'])\n",
    "        crossing_home_players.append(df.loc[index,'crossing_home_player_9'])\n",
    "        crossing_home_players.append(df.loc[index,'crossing_home_player_10'])\n",
    "        crossing_home_players.append(df.loc[index,'crossing_home_player_11'])\n",
    "\n",
    "        crossing_away_players = []\n",
    "        crossing_away_players.append(df.loc[index,'crossing_away_player_1'])\n",
    "        crossing_away_players.append(df.loc[index,'crossing_away_player_2'])\n",
    "        crossing_away_players.append(df.loc[index,'crossing_away_player_3'])\n",
    "        crossing_away_players.append(df.loc[index,'crossing_away_player_4'])\n",
    "        crossing_away_players.append(df.loc[index,'crossing_away_player_5'])\n",
    "        crossing_away_players.append(df.loc[index,'crossing_away_player_6'])\n",
    "        crossing_away_players.append(df.loc[index,'crossing_away_player_7'])\n",
    "        crossing_away_players.append(df.loc[index,'crossing_away_player_8'])\n",
    "        crossing_away_players.append(df.loc[index,'crossing_away_player_9'])\n",
    "        crossing_away_players.append(df.loc[index,'crossing_away_player_10'])\n",
    "        crossing_away_players.append(df.loc[index,'crossing_away_player_11'])\n",
    "\n",
    "        crossing_matrix = []\n",
    "        for i in range(11):          \n",
    "            c =[]\n",
    "            for j in range(11):\n",
    "                c.append(crossing_home_players[i]-crossing_away_players[j])\n",
    "            crossing_matrix.append(c)\n",
    "\n",
    "        finishing_home_players = []\n",
    "        finishing_home_players.append(df.loc[index,'finishing_home_player_1'])\n",
    "        finishing_home_players.append(df.loc[index,'finishing_home_player_2'])\n",
    "        finishing_home_players.append(df.loc[index,'finishing_home_player_3'])\n",
    "        finishing_home_players.append(df.loc[index,'finishing_home_player_4'])\n",
    "        finishing_home_players.append(df.loc[index,'finishing_home_player_5'])\n",
    "        finishing_home_players.append(df.loc[index,'finishing_home_player_6'])\n",
    "        finishing_home_players.append(df.loc[index,'finishing_home_player_7'])\n",
    "        finishing_home_players.append(df.loc[index,'finishing_home_player_8'])\n",
    "        finishing_home_players.append(df.loc[index,'finishing_home_player_9'])\n",
    "        finishing_home_players.append(df.loc[index,'finishing_home_player_10'])\n",
    "        finishing_home_players.append(df.loc[index,'finishing_home_player_11'])\n",
    "\n",
    "        finishing_away_players = []\n",
    "        finishing_away_players.append(df.loc[index,'finishing_away_player_1'])\n",
    "        finishing_away_players.append(df.loc[index,'finishing_away_player_2'])\n",
    "        finishing_away_players.append(df.loc[index,'finishing_away_player_3'])\n",
    "        finishing_away_players.append(df.loc[index,'finishing_away_player_4'])\n",
    "        finishing_away_players.append(df.loc[index,'finishing_away_player_5'])\n",
    "        finishing_away_players.append(df.loc[index,'finishing_away_player_6'])\n",
    "        finishing_away_players.append(df.loc[index,'finishing_away_player_7'])\n",
    "        finishing_away_players.append(df.loc[index,'finishing_away_player_8'])\n",
    "        finishing_away_players.append(df.loc[index,'finishing_away_player_9'])\n",
    "        finishing_away_players.append(df.loc[index,'finishing_away_player_10'])\n",
    "        finishing_away_players.append(df.loc[index,'finishing_away_player_11'])\n",
    "\n",
    "        finishing_matrix = []\n",
    "        for i in range(11):          \n",
    "            d =[]\n",
    "            for j in range(11):\n",
    "                d.append(finishing_home_players[i]-finishing_away_players[j])\n",
    "            finishing_matrix.append(d)\n",
    "\n",
    "\n",
    "        heading_accuracy_home_players = []\n",
    "        heading_accuracy_home_players.append(df.loc[index,'heading_accuracy_home_player_1'])\n",
    "        heading_accuracy_home_players.append(df.loc[index,'heading_accuracy_home_player_2'])\n",
    "        heading_accuracy_home_players.append(df.loc[index,'heading_accuracy_home_player_3'])\n",
    "        heading_accuracy_home_players.append(df.loc[index,'heading_accuracy_home_player_4'])\n",
    "        heading_accuracy_home_players.append(df.loc[index,'heading_accuracy_home_player_5'])\n",
    "        heading_accuracy_home_players.append(df.loc[index,'heading_accuracy_home_player_6'])\n",
    "        heading_accuracy_home_players.append(df.loc[index,'heading_accuracy_home_player_7'])\n",
    "        heading_accuracy_home_players.append(df.loc[index,'heading_accuracy_home_player_8'])\n",
    "        heading_accuracy_home_players.append(df.loc[index,'heading_accuracy_home_player_9'])\n",
    "        heading_accuracy_home_players.append(df.loc[index,'heading_accuracy_home_player_10'])\n",
    "        heading_accuracy_home_players.append(df.loc[index,'heading_accuracy_home_player_11'])\n",
    "\n",
    "        heading_accuracy_away_players = []\n",
    "        heading_accuracy_away_players.append(df.loc[index,'heading_accuracy_away_player_1'])\n",
    "        heading_accuracy_away_players.append(df.loc[index,'heading_accuracy_away_player_2'])\n",
    "        heading_accuracy_away_players.append(df.loc[index,'heading_accuracy_away_player_3'])\n",
    "        heading_accuracy_away_players.append(df.loc[index,'heading_accuracy_away_player_4'])\n",
    "        heading_accuracy_away_players.append(df.loc[index,'heading_accuracy_away_player_5'])\n",
    "        heading_accuracy_away_players.append(df.loc[index,'heading_accuracy_away_player_6'])\n",
    "        heading_accuracy_away_players.append(df.loc[index,'heading_accuracy_away_player_7'])\n",
    "        heading_accuracy_away_players.append(df.loc[index,'heading_accuracy_away_player_8'])\n",
    "        heading_accuracy_away_players.append(df.loc[index,'heading_accuracy_away_player_9'])\n",
    "        heading_accuracy_away_players.append(df.loc[index,'heading_accuracy_away_player_10'])\n",
    "        heading_accuracy_away_players.append(df.loc[index,'heading_accuracy_away_player_11'])\n",
    "\n",
    "        heading_accuracy_matrix = []\n",
    "        for i in range(11):          \n",
    "            e =[]\n",
    "            for j in range(11):\n",
    "                e.append(heading_accuracy_home_players[i]-heading_accuracy_away_players[j])\n",
    "            heading_accuracy_matrix.append(e)\n",
    "\n",
    "\n",
    "        dribbling_home_players = []\n",
    "        dribbling_home_players.append(df.loc[index,'dribbling_home_player_1'])\n",
    "        dribbling_home_players.append(df.loc[index,'dribbling_home_player_2'])\n",
    "        dribbling_home_players.append(df.loc[index,'dribbling_home_player_3'])\n",
    "        dribbling_home_players.append(df.loc[index,'dribbling_home_player_4'])\n",
    "        dribbling_home_players.append(df.loc[index,'dribbling_home_player_5'])\n",
    "        dribbling_home_players.append(df.loc[index,'dribbling_home_player_6'])\n",
    "        dribbling_home_players.append(df.loc[index,'dribbling_home_player_7'])\n",
    "        dribbling_home_players.append(df.loc[index,'dribbling_home_player_8'])\n",
    "        dribbling_home_players.append(df.loc[index,'dribbling_home_player_9'])\n",
    "        dribbling_home_players.append(df.loc[index,'dribbling_home_player_10'])\n",
    "        dribbling_home_players.append(df.loc[index,'dribbling_home_player_11'])\n",
    "\n",
    "        dribbling_away_players = []\n",
    "        dribbling_away_players.append(df.loc[index,'dribbling_away_player_1'])\n",
    "        dribbling_away_players.append(df.loc[index,'dribbling_away_player_2'])\n",
    "        dribbling_away_players.append(df.loc[index,'dribbling_away_player_3'])\n",
    "        dribbling_away_players.append(df.loc[index,'dribbling_away_player_4'])\n",
    "        dribbling_away_players.append(df.loc[index,'dribbling_away_player_5'])\n",
    "        dribbling_away_players.append(df.loc[index,'dribbling_away_player_6'])\n",
    "        dribbling_away_players.append(df.loc[index,'dribbling_away_player_7'])\n",
    "        dribbling_away_players.append(df.loc[index,'dribbling_away_player_8'])\n",
    "        dribbling_away_players.append(df.loc[index,'dribbling_away_player_9'])\n",
    "        dribbling_away_players.append(df.loc[index,'dribbling_away_player_10'])\n",
    "        dribbling_away_players.append(df.loc[index,'dribbling_away_player_11'])\n",
    "\n",
    "        dribbling_matrix = []\n",
    "        for i in range(11):          \n",
    "            f =[]\n",
    "            for j in range(11):\n",
    "                f.append(dribbling_home_players[i]-dribbling_away_players[j])\n",
    "            dribbling_matrix.append(f)\n",
    "\n",
    "\n",
    "        free_kick_accuracy_home_players = []\n",
    "        free_kick_accuracy_home_players.append(df.loc[index,'free_kick_accuracy_home_player_1'])\n",
    "        free_kick_accuracy_home_players.append(df.loc[index,'free_kick_accuracy_home_player_2'])\n",
    "        free_kick_accuracy_home_players.append(df.loc[index,'free_kick_accuracy_home_player_3'])\n",
    "        free_kick_accuracy_home_players.append(df.loc[index,'free_kick_accuracy_home_player_4'])\n",
    "        free_kick_accuracy_home_players.append(df.loc[index,'free_kick_accuracy_home_player_5'])\n",
    "        free_kick_accuracy_home_players.append(df.loc[index,'free_kick_accuracy_home_player_6'])\n",
    "        free_kick_accuracy_home_players.append(df.loc[index,'free_kick_accuracy_home_player_7'])\n",
    "        free_kick_accuracy_home_players.append(df.loc[index,'free_kick_accuracy_home_player_8'])\n",
    "        free_kick_accuracy_home_players.append(df.loc[index,'free_kick_accuracy_home_player_9'])\n",
    "        free_kick_accuracy_home_players.append(df.loc[index,'free_kick_accuracy_home_player_10'])\n",
    "        free_kick_accuracy_home_players.append(df.loc[index,'free_kick_accuracy_home_player_11'])\n",
    "\n",
    "        free_kick_accuracy_away_players = []\n",
    "        free_kick_accuracy_away_players.append(df.loc[index,'free_kick_accuracy_away_player_1'])\n",
    "        free_kick_accuracy_away_players.append(df.loc[index,'free_kick_accuracy_away_player_2'])\n",
    "        free_kick_accuracy_away_players.append(df.loc[index,'free_kick_accuracy_away_player_3'])\n",
    "        free_kick_accuracy_away_players.append(df.loc[index,'free_kick_accuracy_away_player_4'])\n",
    "        free_kick_accuracy_away_players.append(df.loc[index,'free_kick_accuracy_away_player_5'])\n",
    "        free_kick_accuracy_away_players.append(df.loc[index,'free_kick_accuracy_away_player_6'])\n",
    "        free_kick_accuracy_away_players.append(df.loc[index,'free_kick_accuracy_away_player_7'])\n",
    "        free_kick_accuracy_away_players.append(df.loc[index,'free_kick_accuracy_away_player_8'])\n",
    "        free_kick_accuracy_away_players.append(df.loc[index,'free_kick_accuracy_away_player_9'])\n",
    "        free_kick_accuracy_away_players.append(df.loc[index,'free_kick_accuracy_away_player_10'])\n",
    "        free_kick_accuracy_away_players.append(df.loc[index,'free_kick_accuracy_away_player_11'])\n",
    "\n",
    "        free_kick_accuracy_matrix = []\n",
    "        for i in range(11):          \n",
    "            g =[]\n",
    "            for j in range(11):\n",
    "                g.append(free_kick_accuracy_home_players[i]-free_kick_accuracy_away_players[j])\n",
    "            free_kick_accuracy_matrix.append(g)\n",
    "\n",
    "        ball_control_home_players = []\n",
    "        ball_control_home_players.append(df.loc[index,'ball_control_home_player_1'])\n",
    "        ball_control_home_players.append(df.loc[index,'ball_control_home_player_2'])\n",
    "        ball_control_home_players.append(df.loc[index,'ball_control_home_player_3'])\n",
    "        ball_control_home_players.append(df.loc[index,'ball_control_home_player_4'])\n",
    "        ball_control_home_players.append(df.loc[index,'ball_control_home_player_5'])\n",
    "        ball_control_home_players.append(df.loc[index,'ball_control_home_player_6'])\n",
    "        ball_control_home_players.append(df.loc[index,'ball_control_home_player_7'])\n",
    "        ball_control_home_players.append(df.loc[index,'ball_control_home_player_8'])\n",
    "        ball_control_home_players.append(df.loc[index,'ball_control_home_player_9'])\n",
    "        ball_control_home_players.append(df.loc[index,'ball_control_home_player_10'])\n",
    "        ball_control_home_players.append(df.loc[index,'ball_control_home_player_11'])\n",
    "\n",
    "\n",
    "        ball_control_away_players = []\n",
    "        ball_control_away_players.append(df.loc[index,'ball_control_away_player_1'])\n",
    "        ball_control_away_players.append(df.loc[index,'ball_control_away_player_2'])\n",
    "        ball_control_away_players.append(df.loc[index,'ball_control_away_player_3'])\n",
    "        ball_control_away_players.append(df.loc[index,'ball_control_away_player_4'])\n",
    "        ball_control_away_players.append(df.loc[index,'ball_control_away_player_5'])\n",
    "        ball_control_away_players.append(df.loc[index,'ball_control_away_player_6'])\n",
    "        ball_control_away_players.append(df.loc[index,'ball_control_away_player_7'])\n",
    "        ball_control_away_players.append(df.loc[index,'ball_control_away_player_8'])\n",
    "        ball_control_away_players.append(df.loc[index,'ball_control_away_player_9'])\n",
    "        ball_control_away_players.append(df.loc[index,'ball_control_away_player_10'])\n",
    "        ball_control_away_players.append(df.loc[index,'ball_control_away_player_11'])\n",
    "\n",
    "\n",
    "        ball_control_matrix = []\n",
    "        for i in range(11):          \n",
    "            h =[]\n",
    "            for j in range(11):\n",
    "                h.append(ball_control_home_players[i]-ball_control_away_players[j])\n",
    "            ball_control_matrix.append(h)\n",
    "\n",
    "        sprint_speed_home_players = []\n",
    "        sprint_speed_home_players.append(df.loc[index,'sprint_speed_home_player_1'])\n",
    "        sprint_speed_home_players.append(df.loc[index,'sprint_speed_home_player_2'])\n",
    "        sprint_speed_home_players.append(df.loc[index,'sprint_speed_home_player_3'])\n",
    "        sprint_speed_home_players.append(df.loc[index,'sprint_speed_home_player_4'])\n",
    "        sprint_speed_home_players.append(df.loc[index,'sprint_speed_home_player_5'])\n",
    "        sprint_speed_home_players.append(df.loc[index,'sprint_speed_home_player_6'])\n",
    "        sprint_speed_home_players.append(df.loc[index,'sprint_speed_home_player_7'])\n",
    "        sprint_speed_home_players.append(df.loc[index,'sprint_speed_home_player_8'])\n",
    "        sprint_speed_home_players.append(df.loc[index,'sprint_speed_home_player_9'])\n",
    "        sprint_speed_home_players.append(df.loc[index,'sprint_speed_home_player_10'])\n",
    "        sprint_speed_home_players.append(df.loc[index,'sprint_speed_home_player_11'])\n",
    "\n",
    "\n",
    "        sprint_speed_away_players = []\n",
    "        sprint_speed_away_players.append(df.loc[index,'sprint_speed_away_player_1'])\n",
    "        sprint_speed_away_players.append(df.loc[index,'sprint_speed_away_player_2'])\n",
    "        sprint_speed_away_players.append(df.loc[index,'sprint_speed_away_player_3'])\n",
    "        sprint_speed_away_players.append(df.loc[index,'sprint_speed_away_player_4'])\n",
    "        sprint_speed_away_players.append(df.loc[index,'sprint_speed_away_player_5'])\n",
    "        sprint_speed_away_players.append(df.loc[index,'sprint_speed_away_player_6'])\n",
    "        sprint_speed_away_players.append(df.loc[index,'sprint_speed_away_player_7'])\n",
    "        sprint_speed_away_players.append(df.loc[index,'sprint_speed_away_player_8'])\n",
    "        sprint_speed_away_players.append(df.loc[index,'sprint_speed_away_player_9'])\n",
    "        sprint_speed_away_players.append(df.loc[index,'sprint_speed_away_player_10'])\n",
    "        sprint_speed_away_players.append(df.loc[index,'sprint_speed_away_player_11'])\n",
    "\n",
    "\n",
    "        sprint_speed_matrix = []\n",
    "        for i in range(11):          \n",
    "            k =[]\n",
    "            for j in range(11):\n",
    "                k.append(sprint_speed_home_players[i]-sprint_speed_away_players[j])\n",
    "            sprint_speed_matrix.append(k)\n",
    "\n",
    "        acceleration_home_players = []\n",
    "        acceleration_home_players.append(df.loc[index,'acceleration_home_player_1'])\n",
    "        acceleration_home_players.append(df.loc[index,'acceleration_home_player_2'])\n",
    "        acceleration_home_players.append(df.loc[index,'acceleration_home_player_3'])\n",
    "        acceleration_home_players.append(df.loc[index,'acceleration_home_player_4'])\n",
    "        acceleration_home_players.append(df.loc[index,'acceleration_home_player_5'])\n",
    "        acceleration_home_players.append(df.loc[index,'acceleration_home_player_6'])\n",
    "        acceleration_home_players.append(df.loc[index,'acceleration_home_player_7'])\n",
    "        acceleration_home_players.append(df.loc[index,'acceleration_home_player_8'])\n",
    "        acceleration_home_players.append(df.loc[index,'acceleration_home_player_9'])\n",
    "        acceleration_home_players.append(df.loc[index,'acceleration_home_player_10'])\n",
    "        acceleration_home_players.append(df.loc[index,'acceleration_home_player_11'])\n",
    "\n",
    "\n",
    "        acceleration_away_players = []\n",
    "        acceleration_away_players.append(df.loc[index,'acceleration_away_player_1'])\n",
    "        acceleration_away_players.append(df.loc[index,'acceleration_away_player_2'])\n",
    "        acceleration_away_players.append(df.loc[index,'acceleration_away_player_3'])\n",
    "        acceleration_away_players.append(df.loc[index,'acceleration_away_player_4'])\n",
    "        acceleration_away_players.append(df.loc[index,'acceleration_away_player_5'])\n",
    "        acceleration_away_players.append(df.loc[index,'acceleration_away_player_6'])\n",
    "        acceleration_away_players.append(df.loc[index,'acceleration_away_player_7'])\n",
    "        acceleration_away_players.append(df.loc[index,'acceleration_away_player_8'])\n",
    "        acceleration_away_players.append(df.loc[index,'acceleration_away_player_9'])\n",
    "        acceleration_away_players.append(df.loc[index,'acceleration_away_player_10'])\n",
    "        acceleration_away_players.append(df.loc[index,'acceleration_away_player_11'])\n",
    "\n",
    "\n",
    "        acceleration_matrix = []\n",
    "        for i in range(11):          \n",
    "            k =[]\n",
    "            for j in range(11):\n",
    "                k.append(acceleration_home_players[i]-acceleration_away_players[j])\n",
    "            acceleration_matrix.append(k)\n",
    "\n",
    "        strength_home_players = []\n",
    "        strength_home_players.append(df.loc[index,'strength_home_player_1'])\n",
    "        strength_home_players.append(df.loc[index,'strength_home_player_2'])\n",
    "        strength_home_players.append(df.loc[index,'strength_home_player_3'])\n",
    "        strength_home_players.append(df.loc[index,'strength_home_player_4'])\n",
    "        strength_home_players.append(df.loc[index,'strength_home_player_5'])\n",
    "        strength_home_players.append(df.loc[index,'strength_home_player_6'])\n",
    "        strength_home_players.append(df.loc[index,'strength_home_player_7'])\n",
    "        strength_home_players.append(df.loc[index,'strength_home_player_8'])\n",
    "        strength_home_players.append(df.loc[index,'strength_home_player_9'])\n",
    "        strength_home_players.append(df.loc[index,'strength_home_player_10'])\n",
    "        strength_home_players.append(df.loc[index,'strength_home_player_11'])\n",
    "\n",
    "\n",
    "        strength_away_players = []\n",
    "        strength_away_players.append(df.loc[index,'strength_away_player_1'])\n",
    "        strength_away_players.append(df.loc[index,'strength_away_player_2'])\n",
    "        strength_away_players.append(df.loc[index,'strength_away_player_3'])\n",
    "        strength_away_players.append(df.loc[index,'strength_away_player_4'])\n",
    "        strength_away_players.append(df.loc[index,'strength_away_player_5'])\n",
    "        strength_away_players.append(df.loc[index,'strength_away_player_6'])\n",
    "        strength_away_players.append(df.loc[index,'strength_away_player_7'])\n",
    "        strength_away_players.append(df.loc[index,'strength_away_player_8'])\n",
    "        strength_away_players.append(df.loc[index,'strength_away_player_9'])\n",
    "        strength_away_players.append(df.loc[index,'strength_away_player_10'])\n",
    "        strength_away_players.append(df.loc[index,'strength_away_player_11'])\n",
    "\n",
    "\n",
    "        strength_matrix = []\n",
    "        for i in range(11):          \n",
    "            k =[]\n",
    "            for j in range(11):\n",
    "                k.append(strength_home_players[i]-strength_away_players[j])\n",
    "            strength_matrix.append(k)\n",
    "\n",
    "        long_shots_home_players = []\n",
    "        long_shots_home_players.append(df.loc[index,'long_shots_home_player_1'])\n",
    "        long_shots_home_players.append(df.loc[index,'long_shots_home_player_2'])\n",
    "        long_shots_home_players.append(df.loc[index,'long_shots_home_player_3'])\n",
    "        long_shots_home_players.append(df.loc[index,'long_shots_home_player_4'])\n",
    "        long_shots_home_players.append(df.loc[index,'long_shots_home_player_5'])\n",
    "        long_shots_home_players.append(df.loc[index,'long_shots_home_player_6'])\n",
    "        long_shots_home_players.append(df.loc[index,'long_shots_home_player_7'])\n",
    "        long_shots_home_players.append(df.loc[index,'long_shots_home_player_8'])\n",
    "        long_shots_home_players.append(df.loc[index,'long_shots_home_player_9'])\n",
    "        long_shots_home_players.append(df.loc[index,'long_shots_home_player_10'])\n",
    "        long_shots_home_players.append(df.loc[index,'long_shots_home_player_11'])\n",
    "\n",
    "\n",
    "        long_shots_away_players = []\n",
    "        long_shots_away_players.append(df.loc[index,'long_shots_away_player_1'])\n",
    "        long_shots_away_players.append(df.loc[index,'long_shots_away_player_2'])\n",
    "        long_shots_away_players.append(df.loc[index,'long_shots_away_player_3'])\n",
    "        long_shots_away_players.append(df.loc[index,'long_shots_away_player_4'])\n",
    "        long_shots_away_players.append(df.loc[index,'long_shots_away_player_5'])\n",
    "        long_shots_away_players.append(df.loc[index,'long_shots_away_player_6'])\n",
    "        long_shots_away_players.append(df.loc[index,'long_shots_away_player_7'])\n",
    "        long_shots_away_players.append(df.loc[index,'long_shots_away_player_8'])\n",
    "        long_shots_away_players.append(df.loc[index,'long_shots_away_player_9'])\n",
    "        long_shots_away_players.append(df.loc[index,'long_shots_away_player_10'])\n",
    "        long_shots_away_players.append(df.loc[index,'long_shots_away_player_11'])\n",
    "\n",
    "\n",
    "        long_shots_matrix = []\n",
    "        for i in range(11):          \n",
    "            k =[]\n",
    "            for j in range(11):\n",
    "                k.append(long_shots_home_players[i]-long_shots_away_players[j])\n",
    "            long_shots_matrix.append(k)\n",
    "\n",
    "\n",
    "        aggression_home_players = []\n",
    "        aggression_home_players.append(df.loc[index,'aggression_home_player_1'])\n",
    "        aggression_home_players.append(df.loc[index,'aggression_home_player_2'])\n",
    "        aggression_home_players.append(df.loc[index,'aggression_home_player_3'])\n",
    "        aggression_home_players.append(df.loc[index,'aggression_home_player_4'])\n",
    "        aggression_home_players.append(df.loc[index,'aggression_home_player_5'])\n",
    "        aggression_home_players.append(df.loc[index,'aggression_home_player_6'])\n",
    "        aggression_home_players.append(df.loc[index,'aggression_home_player_7'])\n",
    "        aggression_home_players.append(df.loc[index,'aggression_home_player_8'])\n",
    "        aggression_home_players.append(df.loc[index,'aggression_home_player_9'])\n",
    "        aggression_home_players.append(df.loc[index,'aggression_home_player_10'])\n",
    "        aggression_home_players.append(df.loc[index,'aggression_home_player_11'])\n",
    "\n",
    "\n",
    "        aggression_away_players = []\n",
    "        aggression_away_players.append(df.loc[index,'aggression_away_player_1'])\n",
    "        aggression_away_players.append(df.loc[index,'aggression_away_player_2'])\n",
    "        aggression_away_players.append(df.loc[index,'aggression_away_player_3'])\n",
    "        aggression_away_players.append(df.loc[index,'aggression_away_player_4'])\n",
    "        aggression_away_players.append(df.loc[index,'aggression_away_player_5'])\n",
    "        aggression_away_players.append(df.loc[index,'aggression_away_player_6'])\n",
    "        aggression_away_players.append(df.loc[index,'aggression_away_player_7'])\n",
    "        aggression_away_players.append(df.loc[index,'aggression_away_player_8'])\n",
    "        aggression_away_players.append(df.loc[index,'aggression_away_player_9'])\n",
    "        aggression_away_players.append(df.loc[index,'aggression_away_player_10'])\n",
    "        aggression_away_players.append(df.loc[index,'aggression_away_player_11'])\n",
    "\n",
    "\n",
    "        aggression_matrix = []\n",
    "        for i in range(11):          \n",
    "            k =[]\n",
    "            for j in range(11):\n",
    "                k.append(aggression_home_players[i]-aggression_away_players[j])\n",
    "            aggression_matrix.append(k)\n",
    "\n",
    "\n",
    "        positioning_home_players = []\n",
    "        positioning_home_players.append(df.loc[index,'positioning_home_player_1'])\n",
    "        positioning_home_players.append(df.loc[index,'positioning_home_player_2'])\n",
    "        positioning_home_players.append(df.loc[index,'positioning_home_player_3'])\n",
    "        positioning_home_players.append(df.loc[index,'positioning_home_player_4'])\n",
    "        positioning_home_players.append(df.loc[index,'positioning_home_player_5'])\n",
    "        positioning_home_players.append(df.loc[index,'positioning_home_player_6'])\n",
    "        positioning_home_players.append(df.loc[index,'positioning_home_player_7'])\n",
    "        positioning_home_players.append(df.loc[index,'positioning_home_player_8'])\n",
    "        positioning_home_players.append(df.loc[index,'positioning_home_player_9'])\n",
    "        positioning_home_players.append(df.loc[index,'positioning_home_player_10'])\n",
    "        positioning_home_players.append(df.loc[index,'positioning_home_player_11'])\n",
    "\n",
    "\n",
    "        positioning_away_players = []\n",
    "        positioning_away_players.append(df.loc[index,'positioning_away_player_1'])\n",
    "        positioning_away_players.append(df.loc[index,'positioning_away_player_2'])\n",
    "        positioning_away_players.append(df.loc[index,'positioning_away_player_3'])\n",
    "        positioning_away_players.append(df.loc[index,'positioning_away_player_4'])\n",
    "        positioning_away_players.append(df.loc[index,'positioning_away_player_5'])\n",
    "        positioning_away_players.append(df.loc[index,'positioning_away_player_6'])\n",
    "        positioning_away_players.append(df.loc[index,'positioning_away_player_7'])\n",
    "        positioning_away_players.append(df.loc[index,'positioning_away_player_8'])\n",
    "        positioning_away_players.append(df.loc[index,'positioning_away_player_9'])\n",
    "        positioning_away_players.append(df.loc[index,'positioning_away_player_10'])\n",
    "        positioning_away_players.append(df.loc[index,'positioning_away_player_11'])\n",
    "\n",
    "\n",
    "        positioning_matrix = []\n",
    "        for i in range(11):          \n",
    "            k =[]\n",
    "            for j in range(11):\n",
    "                k.append(positioning_home_players[i]-positioning_away_players[j])\n",
    "            positioning_matrix.append(k)\n",
    "\n",
    "        interceptions_home_players = []\n",
    "        interceptions_home_players.append(df.loc[index,'interceptions_home_player_1'])\n",
    "        interceptions_home_players.append(df.loc[index,'interceptions_home_player_2'])\n",
    "        interceptions_home_players.append(df.loc[index,'interceptions_home_player_3'])\n",
    "        interceptions_home_players.append(df.loc[index,'interceptions_home_player_4'])\n",
    "        interceptions_home_players.append(df.loc[index,'interceptions_home_player_5'])\n",
    "        interceptions_home_players.append(df.loc[index,'interceptions_home_player_6'])\n",
    "        interceptions_home_players.append(df.loc[index,'interceptions_home_player_7'])\n",
    "        interceptions_home_players.append(df.loc[index,'interceptions_home_player_8'])\n",
    "        interceptions_home_players.append(df.loc[index,'interceptions_home_player_9'])\n",
    "        interceptions_home_players.append(df.loc[index,'interceptions_home_player_10'])\n",
    "        interceptions_home_players.append(df.loc[index,'interceptions_home_player_11'])\n",
    "\n",
    "\n",
    "        interceptions_away_players = []\n",
    "        interceptions_away_players.append(df.loc[index,'interceptions_away_player_1'])\n",
    "        interceptions_away_players.append(df.loc[index,'interceptions_away_player_2'])\n",
    "        interceptions_away_players.append(df.loc[index,'interceptions_away_player_3'])\n",
    "        interceptions_away_players.append(df.loc[index,'interceptions_away_player_4'])\n",
    "        interceptions_away_players.append(df.loc[index,'interceptions_away_player_5'])\n",
    "        interceptions_away_players.append(df.loc[index,'interceptions_away_player_6'])\n",
    "        interceptions_away_players.append(df.loc[index,'interceptions_away_player_7'])\n",
    "        interceptions_away_players.append(df.loc[index,'interceptions_away_player_8'])\n",
    "        interceptions_away_players.append(df.loc[index,'interceptions_away_player_9'])\n",
    "        interceptions_away_players.append(df.loc[index,'interceptions_away_player_10'])\n",
    "        interceptions_away_players.append(df.loc[index,'interceptions_away_player_11'])\n",
    "\n",
    "\n",
    "        interceptions_matrix = []\n",
    "        for i in range(11):          \n",
    "            k =[]\n",
    "            for j in range(11):\n",
    "                k.append(interceptions_home_players[i]-interceptions_away_players[j])\n",
    "            interceptions_matrix.append(k)\n",
    "\n",
    "        penalties_home_players = []\n",
    "        penalties_home_players.append(df.loc[index,'penalties_home_player_1'])\n",
    "        penalties_home_players.append(df.loc[index,'penalties_home_player_2'])\n",
    "        penalties_home_players.append(df.loc[index,'penalties_home_player_3'])\n",
    "        penalties_home_players.append(df.loc[index,'penalties_home_player_4'])\n",
    "        penalties_home_players.append(df.loc[index,'penalties_home_player_5'])\n",
    "        penalties_home_players.append(df.loc[index,'penalties_home_player_6'])\n",
    "        penalties_home_players.append(df.loc[index,'penalties_home_player_7'])\n",
    "        penalties_home_players.append(df.loc[index,'penalties_home_player_8'])\n",
    "        penalties_home_players.append(df.loc[index,'penalties_home_player_9'])\n",
    "        penalties_home_players.append(df.loc[index,'penalties_home_player_10'])\n",
    "        penalties_home_players.append(df.loc[index,'penalties_home_player_11'])\n",
    "\n",
    "\n",
    "        penalties_away_players = []\n",
    "        penalties_away_players.append(df.loc[index,'penalties_away_player_1'])\n",
    "        penalties_away_players.append(df.loc[index,'penalties_away_player_2'])\n",
    "        penalties_away_players.append(df.loc[index,'penalties_away_player_3'])\n",
    "        penalties_away_players.append(df.loc[index,'penalties_away_player_4'])\n",
    "        penalties_away_players.append(df.loc[index,'penalties_away_player_5'])\n",
    "        penalties_away_players.append(df.loc[index,'penalties_away_player_6'])\n",
    "        penalties_away_players.append(df.loc[index,'penalties_away_player_7'])\n",
    "        penalties_away_players.append(df.loc[index,'penalties_away_player_8'])\n",
    "        penalties_away_players.append(df.loc[index,'penalties_away_player_9'])\n",
    "        penalties_away_players.append(df.loc[index,'penalties_away_player_10'])\n",
    "        penalties_away_players.append(df.loc[index,'penalties_away_player_11'])\n",
    "\n",
    "\n",
    "        penalties_matrix = []\n",
    "        for i in range(11):          \n",
    "            k =[]\n",
    "            for j in range(11):\n",
    "                k.append(penalties_home_players[i]-penalties_away_players[j])\n",
    "            penalties_matrix.append(k)\n",
    "\n",
    "        marking_home_players = []\n",
    "        marking_home_players.append(df.loc[index,'marking_home_player_1'])\n",
    "        marking_home_players.append(df.loc[index,'marking_home_player_2'])\n",
    "        marking_home_players.append(df.loc[index,'marking_home_player_3'])\n",
    "        marking_home_players.append(df.loc[index,'marking_home_player_4'])\n",
    "        marking_home_players.append(df.loc[index,'marking_home_player_5'])\n",
    "        marking_home_players.append(df.loc[index,'marking_home_player_6'])\n",
    "        marking_home_players.append(df.loc[index,'marking_home_player_7'])\n",
    "        marking_home_players.append(df.loc[index,'marking_home_player_8'])\n",
    "        marking_home_players.append(df.loc[index,'marking_home_player_9'])\n",
    "        marking_home_players.append(df.loc[index,'marking_home_player_10'])\n",
    "        marking_home_players.append(df.loc[index,'marking_home_player_11'])\n",
    "\n",
    "\n",
    "        marking_away_players = []\n",
    "        marking_away_players.append(df.loc[index,'marking_away_player_1'])\n",
    "        marking_away_players.append(df.loc[index,'marking_away_player_2'])\n",
    "        marking_away_players.append(df.loc[index,'marking_away_player_3'])\n",
    "        marking_away_players.append(df.loc[index,'marking_away_player_4'])\n",
    "        marking_away_players.append(df.loc[index,'marking_away_player_5'])\n",
    "        marking_away_players.append(df.loc[index,'marking_away_player_6'])\n",
    "        marking_away_players.append(df.loc[index,'marking_away_player_7'])\n",
    "        marking_away_players.append(df.loc[index,'marking_away_player_8'])\n",
    "        marking_away_players.append(df.loc[index,'marking_away_player_9'])\n",
    "        marking_away_players.append(df.loc[index,'marking_away_player_10'])\n",
    "        marking_away_players.append(df.loc[index,'marking_away_player_11'])\n",
    "\n",
    "\n",
    "        marking_matrix = []\n",
    "        for i in range(11):          \n",
    "            k =[]\n",
    "            for j in range(11):\n",
    "                k.append(marking_home_players[i]-marking_away_players[j])\n",
    "            marking_matrix.append(k)\n",
    "\n",
    "\n",
    "        stamina_home_players = []\n",
    "        stamina_home_players.append(df.loc[index,'stamina_home_player_1'])\n",
    "        stamina_home_players.append(df.loc[index,'stamina_home_player_2'])\n",
    "        stamina_home_players.append(df.loc[index,'stamina_home_player_3'])\n",
    "        stamina_home_players.append(df.loc[index,'stamina_home_player_4'])\n",
    "        stamina_home_players.append(df.loc[index,'stamina_home_player_5'])\n",
    "        stamina_home_players.append(df.loc[index,'stamina_home_player_6'])\n",
    "        stamina_home_players.append(df.loc[index,'stamina_home_player_7'])\n",
    "        stamina_home_players.append(df.loc[index,'stamina_home_player_8'])\n",
    "        stamina_home_players.append(df.loc[index,'stamina_home_player_9'])\n",
    "        stamina_home_players.append(df.loc[index,'stamina_home_player_10'])\n",
    "        stamina_home_players.append(df.loc[index,'stamina_home_player_11'])\n",
    "\n",
    "\n",
    "        stamina_away_players = []\n",
    "        stamina_away_players.append(df.loc[index,'stamina_away_player_1'])\n",
    "        stamina_away_players.append(df.loc[index,'stamina_away_player_2'])\n",
    "        stamina_away_players.append(df.loc[index,'stamina_away_player_3'])\n",
    "        stamina_away_players.append(df.loc[index,'stamina_away_player_4'])\n",
    "        stamina_away_players.append(df.loc[index,'stamina_away_player_5'])\n",
    "        stamina_away_players.append(df.loc[index,'stamina_away_player_6'])\n",
    "        stamina_away_players.append(df.loc[index,'stamina_away_player_7'])\n",
    "        stamina_away_players.append(df.loc[index,'stamina_away_player_8'])\n",
    "        stamina_away_players.append(df.loc[index,'stamina_away_player_9'])\n",
    "        stamina_away_players.append(df.loc[index,'stamina_away_player_10'])\n",
    "        stamina_away_players.append(df.loc[index,'stamina_away_player_11'])\n",
    "\n",
    "\n",
    "        stamina_matrix = []\n",
    "        for i in range(11):          \n",
    "            k =[]\n",
    "            for j in range(11):\n",
    "                k.append(stamina_home_players[i]-stamina_away_players[j])\n",
    "            stamina_matrix.append(k)\n",
    "\n",
    "\n",
    "        shot_power_home_players = []\n",
    "        shot_power_home_players.append(df.loc[index,'shot_power_home_player_1'])\n",
    "        shot_power_home_players.append(df.loc[index,'shot_power_home_player_2'])\n",
    "        shot_power_home_players.append(df.loc[index,'shot_power_home_player_3'])\n",
    "        shot_power_home_players.append(df.loc[index,'shot_power_home_player_4'])\n",
    "        shot_power_home_players.append(df.loc[index,'shot_power_home_player_5'])\n",
    "        shot_power_home_players.append(df.loc[index,'shot_power_home_player_6'])\n",
    "        shot_power_home_players.append(df.loc[index,'shot_power_home_player_7'])\n",
    "        shot_power_home_players.append(df.loc[index,'shot_power_home_player_8'])\n",
    "        shot_power_home_players.append(df.loc[index,'shot_power_home_player_9'])\n",
    "        shot_power_home_players.append(df.loc[index,'shot_power_home_player_10'])\n",
    "        shot_power_home_players.append(df.loc[index,'shot_power_home_player_11'])\n",
    "\n",
    "\n",
    "        shot_power_away_players = []\n",
    "        shot_power_away_players.append(df.loc[index,'shot_power_away_player_1'])\n",
    "        shot_power_away_players.append(df.loc[index,'shot_power_away_player_2'])\n",
    "        shot_power_away_players.append(df.loc[index,'shot_power_away_player_3'])\n",
    "        shot_power_away_players.append(df.loc[index,'shot_power_away_player_4'])\n",
    "        shot_power_away_players.append(df.loc[index,'shot_power_away_player_5'])\n",
    "        shot_power_away_players.append(df.loc[index,'shot_power_away_player_6'])\n",
    "        shot_power_away_players.append(df.loc[index,'shot_power_away_player_7'])\n",
    "        shot_power_away_players.append(df.loc[index,'shot_power_away_player_8'])\n",
    "        shot_power_away_players.append(df.loc[index,'shot_power_away_player_9'])\n",
    "        shot_power_away_players.append(df.loc[index,'shot_power_away_player_10'])\n",
    "        shot_power_away_players.append(df.loc[index,'shot_power_away_player_11'])\n",
    "\n",
    "\n",
    "        shot_power_matrix = []\n",
    "        for i in range(11):          \n",
    "            k =[]\n",
    "            for j in range(11):\n",
    "                k.append(shot_power_home_players[i]-shot_power_away_players[j])\n",
    "            shot_power_matrix.append(k)\n",
    "\n",
    "        player_attributes_3D = []\n",
    "        player_attributes_3D.append(overall_rating_matrix)\n",
    "        player_attributes_3D.append(potential_matrix)\n",
    "        player_attributes_3D.append(crossing_matrix)\n",
    "        player_attributes_3D.append(finishing_matrix)\n",
    "        player_attributes_3D.append(heading_accuracy_matrix)\n",
    "        player_attributes_3D.append(dribbling_matrix)\n",
    "        player_attributes_3D.append(free_kick_accuracy_matrix)\n",
    "        player_attributes_3D.append(ball_control_matrix)\n",
    "        player_attributes_3D.append(sprint_speed_matrix)\n",
    "        player_attributes_3D.append(acceleration_matrix)\n",
    "        player_attributes_3D.append(strength_matrix)\n",
    "        player_attributes_3D.append(long_shots_matrix)\n",
    "        player_attributes_3D.append(aggression_matrix)\n",
    "        player_attributes_3D.append(positioning_matrix)\n",
    "        player_attributes_3D.append(interceptions_matrix)\n",
    "        player_attributes_3D.append(penalties_matrix)\n",
    "        player_attributes_3D.append(marking_matrix)\n",
    "        player_attributes_3D.append(stamina_matrix)\n",
    "        player_attributes_3D.append(shot_power_matrix)\n",
    "\n",
    "        data.append(player_attributes_3D)\n"
   ]
  },
  {
   "cell_type": "code",
   "execution_count": 6,
   "metadata": {},
   "outputs": [],
   "source": [
    "X = df.drop(['result','date', 'home_team_goal','away_team_goal'], axis=1)\n",
    "y = df[['result']]\n",
    "RANDOM_SEED =42\n",
    "np.random.seed(RANDOM_SEED)\n",
    "torch.manual_seed(RANDOM_SEED)\n",
    "\n",
    "X_train, X_test, y_train, y_test =\\\n",
    "    train_test_split(X, y, test_size=0.2, random_state=RANDOM_SEED)"
   ]
  },
  {
   "cell_type": "code",
   "execution_count": 7,
   "metadata": {},
   "outputs": [
    {
     "data": {
      "text/plain": [
       "2.0    0.458637\n",
       "0.0    0.290715\n",
       "1.0    0.250647\n",
       "Name: result, dtype: float64"
      ]
     },
     "execution_count": 7,
     "metadata": {},
     "output_type": "execute_result"
    }
   ],
   "source": [
    "y_train.result.value_counts()/y_train.shape[0]"
   ]
  },
  {
   "cell_type": "code",
   "execution_count": 9,
   "metadata": {},
   "outputs": [
    {
     "name": "stderr",
     "output_type": "stream",
     "text": [
      "16996it [05:35, 50.62it/s]\n"
     ]
    }
   ],
   "source": [
    "data = []\n",
    "playerfunction( X_train )\n",
    "player_train_data = data\n",
    "Player_Train = torch.Tensor(np.array(player_train_data))"
   ]
  },
  {
   "cell_type": "code",
   "execution_count": 10,
   "metadata": {},
   "outputs": [
    {
     "data": {
      "text/plain": [
       "'torch.FloatTensor'"
      ]
     },
     "execution_count": 10,
     "metadata": {},
     "output_type": "execute_result"
    }
   ],
   "source": [
    "Player_Train.type()"
   ]
  },
  {
   "cell_type": "code",
   "execution_count": 11,
   "metadata": {},
   "outputs": [
    {
     "data": {
      "text/plain": [
       "torch.Size([16996, 19, 11, 11])"
      ]
     },
     "execution_count": 11,
     "metadata": {},
     "output_type": "execute_result"
    }
   ],
   "source": [
    "Player_Train.size()"
   ]
  },
  {
   "cell_type": "code",
   "execution_count": 12,
   "metadata": {},
   "outputs": [
    {
     "name": "stderr",
     "output_type": "stream",
     "text": [
      "4250it [01:30, 46.93it/s]\n"
     ]
    }
   ],
   "source": [
    "data = []\n",
    "playerfunction( X_test )\n",
    "player_test_data = data\n",
    "Player_Test = torch.Tensor(np.array(player_test_data))"
   ]
  },
  {
   "cell_type": "code",
   "execution_count": 13,
   "metadata": {},
   "outputs": [
    {
     "data": {
      "text/plain": [
       "'torch.FloatTensor'"
      ]
     },
     "execution_count": 13,
     "metadata": {},
     "output_type": "execute_result"
    }
   ],
   "source": [
    "Player_Test.type()"
   ]
  },
  {
   "cell_type": "code",
   "execution_count": 14,
   "metadata": {},
   "outputs": [
    {
     "data": {
      "text/plain": [
       "torch.Size([4250, 19, 11, 11])"
      ]
     },
     "execution_count": 14,
     "metadata": {},
     "output_type": "execute_result"
    }
   ],
   "source": [
    "Player_Test.size()"
   ]
  },
  {
   "cell_type": "code",
   "execution_count": 15,
   "metadata": {},
   "outputs": [],
   "source": [
    "y_train = torch.LongTensor(np.array(y_train))"
   ]
  },
  {
   "cell_type": "code",
   "execution_count": 16,
   "metadata": {},
   "outputs": [],
   "source": [
    "y_train = torch.squeeze(y_train)"
   ]
  },
  {
   "cell_type": "code",
   "execution_count": 17,
   "metadata": {},
   "outputs": [
    {
     "data": {
      "text/plain": [
       "'torch.LongTensor'"
      ]
     },
     "execution_count": 17,
     "metadata": {},
     "output_type": "execute_result"
    }
   ],
   "source": [
    "y_train.type()"
   ]
  },
  {
   "cell_type": "code",
   "execution_count": 18,
   "metadata": {},
   "outputs": [
    {
     "data": {
      "text/plain": [
       "torch.Size([16996])"
      ]
     },
     "execution_count": 18,
     "metadata": {},
     "output_type": "execute_result"
    }
   ],
   "source": [
    "y_train.size()"
   ]
  },
  {
   "cell_type": "code",
   "execution_count": 19,
   "metadata": {},
   "outputs": [],
   "source": [
    "y_test = torch.squeeze(torch.LongTensor(np.array(y_test)))"
   ]
  },
  {
   "cell_type": "code",
   "execution_count": 20,
   "metadata": {},
   "outputs": [
    {
     "data": {
      "text/plain": [
       "torch.Size([4250])"
      ]
     },
     "execution_count": 20,
     "metadata": {},
     "output_type": "execute_result"
    }
   ],
   "source": [
    "y_test.size()"
   ]
  },
  {
   "cell_type": "code",
   "execution_count": 21,
   "metadata": {},
   "outputs": [
    {
     "data": {
      "text/plain": [
       "'torch.LongTensor'"
      ]
     },
     "execution_count": 21,
     "metadata": {},
     "output_type": "execute_result"
    }
   ],
   "source": [
    "y_test.type()"
   ]
  },
  {
   "cell_type": "code",
   "execution_count": 63,
   "metadata": {},
   "outputs": [],
   "source": [
    "import torch\n",
    "from torch import nn\n",
    "from torch import optim\n",
    "import torch.nn.functional as F\n",
    "\n",
    "class Network(nn.Module):\n",
    "\n",
    "    def __init__(self):\n",
    "        super(Network, self).__init__()\n",
    "        # Convolutional Neural Network Layer \n",
    "        self.convolutaional_neural_network_layers = nn.Sequential(\n",
    "                # Here we are defining our 2D convolutional layers\n",
    "                # We can calculate the output size of each convolutional layer using the following formular\n",
    "                # outputOfEachConvLayer = [(in_channel + 2*padding - kernel_size) / stride] + 1\n",
    "                # We have in_channels=1 because our input is a grayscale image\n",
    "                nn.Conv2d(in_channels=19, out_channels=64, kernel_size=1, stride=1), # (N, 1, 28, 28) \n",
    "                nn.ReLU(),\n",
    "                nn.BatchNorm2d(64), \n",
    "                # After the first convolutional layer the output of this layer is:\n",
    "                # [(11 + 2*1 - 3)/1] + 1 = 11.  \n",
    "                # Since we applied maxpooling with kernel_size=2 we have to divide by 2, so we get\n",
    "                # 11 / 2 = 5\n",
    "          \n",
    "                # output of our second conv layer\n",
    "                nn.Conv2d(in_channels=64, out_channels=64, kernel_size=1, stride=1),\n",
    "                nn.ReLU(),\n",
    "                nn.BatchNorm2d(64),\n",
    "                nn.Conv2d(in_channels=64, out_channels=64, kernel_size=1, stride=1),\n",
    "                nn.ReLU(),\n",
    "                nn.BatchNorm2d(64),\n",
    "                # After the second convolutional layer the output of this layer is:\n",
    "                # [(5 + 2*1 - 3)/1] + 1 = 5. \n",
    "                nn.AvgPool2d(11, stride=1) \n",
    "                # Since we applied maxpooling with kernel_size=2 we have to divide by 2, so we get\n",
    "                # 5 /2 = 2\n",
    "            \n",
    "        )\n",
    "\n",
    "        # Linear layer\n",
    "        self.linear_layers = nn.Sequential(\n",
    "                # We have the output_channel=24 of our second conv layer, and 3*3 is derived by the formular \n",
    "                # which is the output of each convolutional layer\n",
    "                nn.Linear(in_features=64, out_features=64),          \n",
    "                nn.ReLU(),\n",
    "                nn.Dropout(p=0.2),\n",
    "                nn.Linear(in_features=64, out_features=64),          \n",
    "                nn.ReLU(),\n",
    "                nn.Linear(in_features=64, out_features=64),          \n",
    "                nn.ReLU(),\n",
    "                nn.Linear(in_features=64, out_features=3)\n",
    "        )\n",
    "\n",
    "    # Defining the forward pass \n",
    "    def forward(self, x):\n",
    "        x = self.convolutaional_neural_network_layers(x)\n",
    "        # After we get the output of our convolutional layer we must flatten it or rearrange the output into a vector\n",
    "        x = x.view(x.size(0), -1)\n",
    "        # Then pass it through the linear layer\n",
    "        x = self.linear_layers(x)\n",
    "        return x"
   ]
  },
  {
   "cell_type": "code",
   "execution_count": 65,
   "metadata": {},
   "outputs": [],
   "source": [
    "#Doing it on GPU\n",
    "device = torch.device(\"cuda:0\" if torch.cuda.is_available() else \"cpu\")\n",
    "\n",
    "model = Network()\n",
    "model.to(device)\n",
    "\n",
    "Player_Train = Player_Train.to(device)\n",
    "Player_Test = Player_Test.to(device)\n",
    "\n",
    "y_train = y_train.to(device)\n",
    "y_test = y_test.to(device)\n"
   ]
  },
  {
   "cell_type": "code",
   "execution_count": 66,
   "metadata": {},
   "outputs": [],
   "source": [
    "import torch.utils.data as data_utils\n",
    "\n",
    "train = data_utils.TensorDataset(Player_Train, y_train)\n",
    "train_loader = data_utils.DataLoader(train, batch_size=128, shuffle=True)\n",
    "\n",
    "test = data_utils.TensorDataset(Player_Test, y_test)\n",
    "test_loader = data_utils.DataLoader(test, batch_size=128, shuffle=True)"
   ]
  },
  {
   "cell_type": "code",
   "execution_count": 67,
   "metadata": {},
   "outputs": [],
   "source": [
    "optimizer = optim.SGD(model.parameters(), lr=0.001)\n",
    "weights = [1/4941, 1/4260, 1/7795 ]\n",
    "#weights = [1, 1, 0.6 ]\n",
    "class_weights = torch.FloatTensor(weights)\n",
    "criterion = nn.CrossEntropyLoss(weight=class_weights)"
   ]
  },
  {
   "cell_type": "code",
   "execution_count": 68,
   "metadata": {},
   "outputs": [
    {
     "name": "stdout",
     "output_type": "stream",
     "text": [
      "Epoch: 0/200   Training loss: 1.1006   Testing loss: 1.1021   Train accuracy: 0.2907   Test accuracy: 0.2798   Train F1 Score: 0.1310   Test F1 Score: 0.1223  \n",
      "Epoch: 1/200   Training loss: 1.1004   Testing loss: 1.1019   Train accuracy: 0.2907   Test accuracy: 0.2798   Train F1 Score: 0.1310   Test F1 Score: 0.1223  \n",
      "Epoch: 2/200   Training loss: 1.1001   Testing loss: 1.1013   Train accuracy: 0.2907   Test accuracy: 0.2798   Train F1 Score: 0.1310   Test F1 Score: 0.1223  \n",
      "Epoch: 3/200   Training loss: 1.0999   Testing loss: 1.1016   Train accuracy: 0.2907   Test accuracy: 0.2798   Train F1 Score: 0.1310   Test F1 Score: 0.1223  \n",
      "Epoch: 4/200   Training loss: 1.0998   Testing loss: 1.1010   Train accuracy: 0.2907   Test accuracy: 0.2798   Train F1 Score: 0.1310   Test F1 Score: 0.1223  \n",
      "Epoch: 5/200   Training loss: 1.0995   Testing loss: 1.1008   Train accuracy: 0.2907   Test accuracy: 0.2798   Train F1 Score: 0.1310   Test F1 Score: 0.1223  \n",
      "Epoch: 6/200   Training loss: 1.0993   Testing loss: 1.1006   Train accuracy: 0.2907   Test accuracy: 0.2798   Train F1 Score: 0.1310   Test F1 Score: 0.1223  \n",
      "Epoch: 7/200   Training loss: 1.0992   Testing loss: 1.0999   Train accuracy: 0.2907   Test accuracy: 0.2798   Train F1 Score: 0.1310   Test F1 Score: 0.1223  \n",
      "Epoch: 8/200   Training loss: 1.0990   Testing loss: 1.1001   Train accuracy: 0.2907   Test accuracy: 0.2798   Train F1 Score: 0.1310   Test F1 Score: 0.1223  \n",
      "Epoch: 9/200   Training loss: 1.0988   Testing loss: 1.0997   Train accuracy: 0.2907   Test accuracy: 0.2798   Train F1 Score: 0.1310   Test F1 Score: 0.1223  \n",
      "Epoch: 10/200   Training loss: 1.0988   Testing loss: 1.0996   Train accuracy: 0.2907   Test accuracy: 0.2798   Train F1 Score: 0.1310   Test F1 Score: 0.1223  \n",
      "Epoch: 11/200   Training loss: 1.0986   Testing loss: 1.0994   Train accuracy: 0.2907   Test accuracy: 0.2798   Train F1 Score: 0.1310   Test F1 Score: 0.1223  \n",
      "Epoch: 12/200   Training loss: 1.0985   Testing loss: 1.0993   Train accuracy: 0.2907   Test accuracy: 0.2798   Train F1 Score: 0.1312   Test F1 Score: 0.1223  \n",
      "Epoch: 13/200   Training loss: 1.0984   Testing loss: 1.0992   Train accuracy: 0.2908   Test accuracy: 0.2798   Train F1 Score: 0.1312   Test F1 Score: 0.1223  \n",
      "Epoch: 14/200   Training loss: 1.0982   Testing loss: 1.0991   Train accuracy: 0.2908   Test accuracy: 0.2798   Train F1 Score: 0.1313   Test F1 Score: 0.1223  \n",
      "Epoch: 15/200   Training loss: 1.0981   Testing loss: 1.0987   Train accuracy: 0.2908   Test accuracy: 0.2795   Train F1 Score: 0.1332   Test F1 Score: 0.1228  \n",
      "Epoch: 16/200   Training loss: 1.0981   Testing loss: 1.0987   Train accuracy: 0.2911   Test accuracy: 0.2795   Train F1 Score: 0.1344   Test F1 Score: 0.1228  \n",
      "Epoch: 17/200   Training loss: 1.0979   Testing loss: 1.0986   Train accuracy: 0.2931   Test accuracy: 0.2805   Train F1 Score: 0.1367   Test F1 Score: 0.1237  \n",
      "Epoch: 18/200   Training loss: 1.0979   Testing loss: 1.0983   Train accuracy: 0.2938   Test accuracy: 0.2816   Train F1 Score: 0.1407   Test F1 Score: 0.1254  \n",
      "Epoch: 19/200   Training loss: 1.0978   Testing loss: 1.0984   Train accuracy: 0.3001   Test accuracy: 0.2833   Train F1 Score: 0.1464   Test F1 Score: 0.1318  \n",
      "Epoch: 20/200   Training loss: 1.0977   Testing loss: 1.0979   Train accuracy: 0.3050   Test accuracy: 0.2861   Train F1 Score: 0.1594   Test F1 Score: 0.1378  \n",
      "Epoch: 21/200   Training loss: 1.0976   Testing loss: 1.0980   Train accuracy: 0.3111   Test accuracy: 0.2946   Train F1 Score: 0.1705   Test F1 Score: 0.1473  \n",
      "Epoch: 22/200   Training loss: 1.0975   Testing loss: 1.0978   Train accuracy: 0.3192   Test accuracy: 0.3019   Train F1 Score: 0.1774   Test F1 Score: 0.1535  \n",
      "Epoch: 23/200   Training loss: 1.0975   Testing loss: 1.0978   Train accuracy: 0.3255   Test accuracy: 0.3129   Train F1 Score: 0.1939   Test F1 Score: 0.1688  \n",
      "Epoch: 24/200   Training loss: 1.0973   Testing loss: 1.0977   Train accuracy: 0.3444   Test accuracy: 0.3252   Train F1 Score: 0.2156   Test F1 Score: 0.1849  \n",
      "Epoch: 25/200   Training loss: 1.0973   Testing loss: 1.0976   Train accuracy: 0.3461   Test accuracy: 0.3416   Train F1 Score: 0.2208   Test F1 Score: 0.2072  \n",
      "Epoch: 26/200   Training loss: 1.0971   Testing loss: 1.0975   Train accuracy: 0.3577   Test accuracy: 0.3562   Train F1 Score: 0.2385   Test F1 Score: 0.2303  \n",
      "Epoch: 27/200   Training loss: 1.0971   Testing loss: 1.0974   Train accuracy: 0.3668   Test accuracy: 0.3751   Train F1 Score: 0.2446   Test F1 Score: 0.2330  \n",
      "Epoch: 28/200   Training loss: 1.0969   Testing loss: 1.0971   Train accuracy: 0.3755   Test accuracy: 0.3875   Train F1 Score: 0.2532   Test F1 Score: 0.2439  \n",
      "Epoch: 29/200   Training loss: 1.0969   Testing loss: 1.0972   Train accuracy: 0.3903   Test accuracy: 0.4016   Train F1 Score: 0.2701   Test F1 Score: 0.2594  \n",
      "Epoch: 30/200   Training loss: 1.0968   Testing loss: 1.0971   Train accuracy: 0.3977   Test accuracy: 0.4064   Train F1 Score: 0.2769   Test F1 Score: 0.2665  \n",
      "Epoch: 31/200   Training loss: 1.0967   Testing loss: 1.0969   Train accuracy: 0.4056   Test accuracy: 0.4191   Train F1 Score: 0.2921   Test F1 Score: 0.2859  \n",
      "Epoch: 32/200   Training loss: 1.0966   Testing loss: 1.0969   Train accuracy: 0.4130   Test accuracy: 0.4268   Train F1 Score: 0.2935   Test F1 Score: 0.2893  \n",
      "Epoch: 33/200   Training loss: 1.0965   Testing loss: 1.0967   Train accuracy: 0.4237   Test accuracy: 0.4358   Train F1 Score: 0.3015   Test F1 Score: 0.2970  \n",
      "Epoch: 34/200   Training loss: 1.0964   Testing loss: 1.0964   Train accuracy: 0.4277   Test accuracy: 0.4421   Train F1 Score: 0.3006   Test F1 Score: 0.2957  \n",
      "Epoch: 35/200   Training loss: 1.0964   Testing loss: 1.0965   Train accuracy: 0.4326   Test accuracy: 0.4428   Train F1 Score: 0.3073   Test F1 Score: 0.3024  \n",
      "Epoch: 36/200   Training loss: 1.0962   Testing loss: 1.0963   Train accuracy: 0.4372   Test accuracy: 0.4482   Train F1 Score: 0.3103   Test F1 Score: 0.3051  \n",
      "Epoch: 37/200   Training loss: 1.0962   Testing loss: 1.0962   Train accuracy: 0.4452   Test accuracy: 0.4504   Train F1 Score: 0.3192   Test F1 Score: 0.2976  \n",
      "Epoch: 38/200   Training loss: 1.0960   Testing loss: 1.0962   Train accuracy: 0.4464   Test accuracy: 0.4522   Train F1 Score: 0.3202   Test F1 Score: 0.3027  \n",
      "Epoch: 39/200   Training loss: 1.0958   Testing loss: 1.0960   Train accuracy: 0.4510   Test accuracy: 0.4560   Train F1 Score: 0.3229   Test F1 Score: 0.3230  \n",
      "Epoch: 40/200   Training loss: 1.0958   Testing loss: 1.0959   Train accuracy: 0.4540   Test accuracy: 0.4602   Train F1 Score: 0.3316   Test F1 Score: 0.3174  \n",
      "Epoch: 41/200   Training loss: 1.0956   Testing loss: 1.0958   Train accuracy: 0.4618   Test accuracy: 0.4607   Train F1 Score: 0.3259   Test F1 Score: 0.3233  \n",
      "Epoch: 42/200   Training loss: 1.0956   Testing loss: 1.0957   Train accuracy: 0.4608   Test accuracy: 0.4666   Train F1 Score: 0.3323   Test F1 Score: 0.3172  \n",
      "Epoch: 43/200   Training loss: 1.0954   Testing loss: 1.0955   Train accuracy: 0.4653   Test accuracy: 0.4734   Train F1 Score: 0.3355   Test F1 Score: 0.3199  \n",
      "Epoch: 44/200   Training loss: 1.0954   Testing loss: 1.0955   Train accuracy: 0.4670   Test accuracy: 0.4689   Train F1 Score: 0.3349   Test F1 Score: 0.3262  \n",
      "Epoch: 45/200   Training loss: 1.0952   Testing loss: 1.0952   Train accuracy: 0.4685   Test accuracy: 0.4753   Train F1 Score: 0.3388   Test F1 Score: 0.3229  \n",
      "Epoch: 46/200   Training loss: 1.0951   Testing loss: 1.0951   Train accuracy: 0.4725   Test accuracy: 0.4718   Train F1 Score: 0.3343   Test F1 Score: 0.3165  \n",
      "Epoch: 47/200   Training loss: 1.0949   Testing loss: 1.0949   Train accuracy: 0.4749   Test accuracy: 0.4739   Train F1 Score: 0.3293   Test F1 Score: 0.3233  \n",
      "Epoch: 48/200   Training loss: 1.0949   Testing loss: 1.0947   Train accuracy: 0.4739   Test accuracy: 0.4793   Train F1 Score: 0.3305   Test F1 Score: 0.3249  \n",
      "Epoch: 49/200   Training loss: 1.0947   Testing loss: 1.0947   Train accuracy: 0.4756   Test accuracy: 0.4814   Train F1 Score: 0.3313   Test F1 Score: 0.3187  \n",
      "Epoch: 50/200   Training loss: 1.0946   Testing loss: 1.0946   Train accuracy: 0.4812   Test accuracy: 0.4826   Train F1 Score: 0.3399   Test F1 Score: 0.3330  \n"
     ]
    },
    {
     "name": "stdout",
     "output_type": "stream",
     "text": [
      "Epoch: 51/200   Training loss: 1.0944   Testing loss: 1.0945   Train accuracy: 0.4792   Test accuracy: 0.4828   Train F1 Score: 0.3415   Test F1 Score: 0.3282  \n",
      "Epoch: 52/200   Training loss: 1.0943   Testing loss: 1.0943   Train accuracy: 0.4828   Test accuracy: 0.4833   Train F1 Score: 0.3344   Test F1 Score: 0.3286  \n",
      "Epoch: 53/200   Training loss: 1.0941   Testing loss: 1.0942   Train accuracy: 0.4861   Test accuracy: 0.4859   Train F1 Score: 0.3419   Test F1 Score: 0.3349  \n",
      "Epoch: 54/200   Training loss: 1.0940   Testing loss: 1.0940   Train accuracy: 0.4821   Test accuracy: 0.4866   Train F1 Score: 0.3390   Test F1 Score: 0.3311  \n",
      "Epoch: 55/200   Training loss: 1.0939   Testing loss: 1.0937   Train accuracy: 0.4843   Test accuracy: 0.4847   Train F1 Score: 0.3403   Test F1 Score: 0.3377  \n",
      "Epoch: 56/200   Training loss: 1.0937   Testing loss: 1.0937   Train accuracy: 0.4847   Test accuracy: 0.4873   Train F1 Score: 0.3356   Test F1 Score: 0.3271  \n",
      "Epoch: 57/200   Training loss: 1.0935   Testing loss: 1.0935   Train accuracy: 0.4881   Test accuracy: 0.4859   Train F1 Score: 0.3378   Test F1 Score: 0.3226  \n",
      "Epoch: 58/200   Training loss: 1.0934   Testing loss: 1.0933   Train accuracy: 0.4850   Test accuracy: 0.4885   Train F1 Score: 0.3391   Test F1 Score: 0.3327  \n",
      "Epoch: 59/200   Training loss: 1.0933   Testing loss: 1.0930   Train accuracy: 0.4852   Test accuracy: 0.4908   Train F1 Score: 0.3379   Test F1 Score: 0.3271  \n",
      "Epoch: 60/200   Training loss: 1.0931   Testing loss: 1.0929   Train accuracy: 0.4866   Test accuracy: 0.4894   Train F1 Score: 0.3400   Test F1 Score: 0.3275  \n",
      "Epoch: 61/200   Training loss: 1.0929   Testing loss: 1.0928   Train accuracy: 0.4908   Test accuracy: 0.4894   Train F1 Score: 0.3408   Test F1 Score: 0.3256  \n",
      "Epoch: 62/200   Training loss: 1.0927   Testing loss: 1.0924   Train accuracy: 0.4946   Test accuracy: 0.4915   Train F1 Score: 0.3430   Test F1 Score: 0.3231  \n",
      "Epoch: 63/200   Training loss: 1.0925   Testing loss: 1.0926   Train accuracy: 0.4922   Test accuracy: 0.4920   Train F1 Score: 0.3397   Test F1 Score: 0.3330  \n",
      "Epoch: 64/200   Training loss: 1.0923   Testing loss: 1.0922   Train accuracy: 0.4939   Test accuracy: 0.4918   Train F1 Score: 0.3435   Test F1 Score: 0.3336  \n",
      "Epoch: 65/200   Training loss: 1.0922   Testing loss: 1.0918   Train accuracy: 0.4916   Test accuracy: 0.4908   Train F1 Score: 0.3407   Test F1 Score: 0.3327  \n",
      "Epoch: 66/200   Training loss: 1.0920   Testing loss: 1.0919   Train accuracy: 0.4944   Test accuracy: 0.4915   Train F1 Score: 0.3378   Test F1 Score: 0.3341  \n",
      "Epoch: 67/200   Training loss: 1.0918   Testing loss: 1.0914   Train accuracy: 0.4941   Test accuracy: 0.4913   Train F1 Score: 0.3371   Test F1 Score: 0.3409  \n",
      "Epoch: 68/200   Training loss: 1.0915   Testing loss: 1.0915   Train accuracy: 0.4934   Test accuracy: 0.4915   Train F1 Score: 0.3377   Test F1 Score: 0.3239  \n",
      "Epoch: 69/200   Training loss: 1.0913   Testing loss: 1.0911   Train accuracy: 0.4931   Test accuracy: 0.4922   Train F1 Score: 0.3389   Test F1 Score: 0.3354  \n",
      "Epoch: 70/200   Training loss: 1.0911   Testing loss: 1.0908   Train accuracy: 0.4953   Test accuracy: 0.4927   Train F1 Score: 0.3334   Test F1 Score: 0.3331  \n",
      "Epoch: 71/200   Training loss: 1.0910   Testing loss: 1.0906   Train accuracy: 0.4959   Test accuracy: 0.4918   Train F1 Score: 0.3420   Test F1 Score: 0.3293  \n",
      "Epoch: 72/200   Training loss: 1.0907   Testing loss: 1.0904   Train accuracy: 0.4912   Test accuracy: 0.4936   Train F1 Score: 0.3403   Test F1 Score: 0.3319  \n",
      "Epoch: 73/200   Training loss: 1.0906   Testing loss: 1.0902   Train accuracy: 0.4973   Test accuracy: 0.4939   Train F1 Score: 0.3408   Test F1 Score: 0.3349  \n",
      "Epoch: 74/200   Training loss: 1.0902   Testing loss: 1.0897   Train accuracy: 0.4956   Test accuracy: 0.4941   Train F1 Score: 0.3388   Test F1 Score: 0.3352  \n",
      "Epoch: 75/200   Training loss: 1.0900   Testing loss: 1.0898   Train accuracy: 0.4935   Test accuracy: 0.4936   Train F1 Score: 0.3361   Test F1 Score: 0.3354  \n",
      "Epoch: 76/200   Training loss: 1.0897   Testing loss: 1.0894   Train accuracy: 0.4966   Test accuracy: 0.4958   Train F1 Score: 0.3349   Test F1 Score: 0.3408  \n",
      "Epoch: 77/200   Training loss: 1.0894   Testing loss: 1.0893   Train accuracy: 0.4972   Test accuracy: 0.4936   Train F1 Score: 0.3393   Test F1 Score: 0.3256  \n",
      "Epoch: 78/200   Training loss: 1.0891   Testing loss: 1.0891   Train accuracy: 0.4967   Test accuracy: 0.4953   Train F1 Score: 0.3388   Test F1 Score: 0.3260  \n",
      "Epoch: 79/200   Training loss: 1.0887   Testing loss: 1.0882   Train accuracy: 0.5000   Test accuracy: 0.4941   Train F1 Score: 0.3348   Test F1 Score: 0.3399  \n",
      "Epoch: 80/200   Training loss: 1.0886   Testing loss: 1.0884   Train accuracy: 0.4991   Test accuracy: 0.4946   Train F1 Score: 0.3392   Test F1 Score: 0.3308  \n",
      "Epoch: 81/200   Training loss: 1.0884   Testing loss: 1.0877   Train accuracy: 0.4974   Test accuracy: 0.4929   Train F1 Score: 0.3392   Test F1 Score: 0.3187  \n",
      "Epoch: 82/200   Training loss: 1.0880   Testing loss: 1.0877   Train accuracy: 0.4989   Test accuracy: 0.4936   Train F1 Score: 0.3361   Test F1 Score: 0.3282  \n",
      "Epoch: 83/200   Training loss: 1.0878   Testing loss: 1.0874   Train accuracy: 0.4981   Test accuracy: 0.4953   Train F1 Score: 0.3385   Test F1 Score: 0.3237  \n",
      "Epoch: 84/200   Training loss: 1.0874   Testing loss: 1.0873   Train accuracy: 0.5001   Test accuracy: 0.4958   Train F1 Score: 0.3368   Test F1 Score: 0.3315  \n",
      "Epoch: 85/200   Training loss: 1.0871   Testing loss: 1.0868   Train accuracy: 0.5004   Test accuracy: 0.4951   Train F1 Score: 0.3368   Test F1 Score: 0.3309  \n",
      "Epoch: 86/200   Training loss: 1.0867   Testing loss: 1.0862   Train accuracy: 0.4994   Test accuracy: 0.4955   Train F1 Score: 0.3313   Test F1 Score: 0.3365  \n",
      "Epoch: 87/200   Training loss: 1.0865   Testing loss: 1.0864   Train accuracy: 0.5006   Test accuracy: 0.4941   Train F1 Score: 0.3330   Test F1 Score: 0.3315  \n",
      "Epoch: 88/200   Training loss: 1.0861   Testing loss: 1.0856   Train accuracy: 0.4996   Test accuracy: 0.4958   Train F1 Score: 0.3346   Test F1 Score: 0.3286  \n",
      "Epoch: 89/200   Training loss: 1.0857   Testing loss: 1.0854   Train accuracy: 0.5021   Test accuracy: 0.4965   Train F1 Score: 0.3399   Test F1 Score: 0.3231  \n",
      "Epoch: 90/200   Training loss: 1.0852   Testing loss: 1.0846   Train accuracy: 0.5003   Test accuracy: 0.4951   Train F1 Score: 0.3330   Test F1 Score: 0.3191  \n",
      "Epoch: 91/200   Training loss: 1.0850   Testing loss: 1.0845   Train accuracy: 0.5000   Test accuracy: 0.4969   Train F1 Score: 0.3319   Test F1 Score: 0.3312  \n",
      "Epoch: 92/200   Training loss: 1.0846   Testing loss: 1.0843   Train accuracy: 0.4996   Test accuracy: 0.4967   Train F1 Score: 0.3369   Test F1 Score: 0.3337  \n",
      "Epoch: 93/200   Training loss: 1.0840   Testing loss: 1.0836   Train accuracy: 0.5015   Test accuracy: 0.4974   Train F1 Score: 0.3316   Test F1 Score: 0.3321  \n",
      "Epoch: 94/200   Training loss: 1.0837   Testing loss: 1.0836   Train accuracy: 0.5008   Test accuracy: 0.4962   Train F1 Score: 0.3351   Test F1 Score: 0.3291  \n",
      "Epoch: 95/200   Training loss: 1.0834   Testing loss: 1.0830   Train accuracy: 0.4991   Test accuracy: 0.4965   Train F1 Score: 0.3353   Test F1 Score: 0.3312  \n",
      "Epoch: 96/200   Training loss: 1.0830   Testing loss: 1.0825   Train accuracy: 0.5030   Test accuracy: 0.4969   Train F1 Score: 0.3344   Test F1 Score: 0.3213  \n",
      "Epoch: 97/200   Training loss: 1.0825   Testing loss: 1.0821   Train accuracy: 0.5020   Test accuracy: 0.4974   Train F1 Score: 0.3355   Test F1 Score: 0.3298  \n",
      "Epoch: 98/200   Training loss: 1.0819   Testing loss: 1.0813   Train accuracy: 0.5009   Test accuracy: 0.4991   Train F1 Score: 0.3347   Test F1 Score: 0.3298  \n",
      "Epoch: 99/200   Training loss: 1.0815   Testing loss: 1.0815   Train accuracy: 0.5012   Test accuracy: 0.4974   Train F1 Score: 0.3338   Test F1 Score: 0.3162  \n",
      "Epoch: 100/200   Training loss: 1.0808   Testing loss: 1.0808   Train accuracy: 0.5029   Test accuracy: 0.4929   Train F1 Score: 0.3372   Test F1 Score: 0.3286  \n",
      "Epoch: 101/200   Training loss: 1.0804   Testing loss: 1.0809   Train accuracy: 0.5019   Test accuracy: 0.4981   Train F1 Score: 0.3377   Test F1 Score: 0.3210  \n"
     ]
    },
    {
     "name": "stdout",
     "output_type": "stream",
     "text": [
      "Epoch: 102/200   Training loss: 1.0798   Testing loss: 1.0794   Train accuracy: 0.5031   Test accuracy: 0.4988   Train F1 Score: 0.3293   Test F1 Score: 0.3242  \n",
      "Epoch: 103/200   Training loss: 1.0794   Testing loss: 1.0787   Train accuracy: 0.5018   Test accuracy: 0.4972   Train F1 Score: 0.3330   Test F1 Score: 0.3220  \n",
      "Epoch: 104/200   Training loss: 1.0788   Testing loss: 1.0788   Train accuracy: 0.5020   Test accuracy: 0.4974   Train F1 Score: 0.3413   Test F1 Score: 0.3404  \n",
      "Epoch: 105/200   Training loss: 1.0783   Testing loss: 1.0777   Train accuracy: 0.5018   Test accuracy: 0.4972   Train F1 Score: 0.3346   Test F1 Score: 0.3243  \n",
      "Epoch: 106/200   Training loss: 1.0777   Testing loss: 1.0776   Train accuracy: 0.5032   Test accuracy: 0.4976   Train F1 Score: 0.3305   Test F1 Score: 0.3256  \n",
      "Epoch: 107/200   Training loss: 1.0773   Testing loss: 1.0761   Train accuracy: 0.5006   Test accuracy: 0.4979   Train F1 Score: 0.3354   Test F1 Score: 0.3217  \n",
      "Epoch: 108/200   Training loss: 1.0767   Testing loss: 1.0761   Train accuracy: 0.5028   Test accuracy: 0.4976   Train F1 Score: 0.3308   Test F1 Score: 0.3212  \n",
      "Epoch: 109/200   Training loss: 1.0758   Testing loss: 1.0755   Train accuracy: 0.5028   Test accuracy: 0.4981   Train F1 Score: 0.3302   Test F1 Score: 0.3309  \n",
      "Epoch: 110/200   Training loss: 1.0753   Testing loss: 1.0750   Train accuracy: 0.5031   Test accuracy: 0.4962   Train F1 Score: 0.3335   Test F1 Score: 0.3251  \n",
      "Epoch: 111/200   Training loss: 1.0747   Testing loss: 1.0745   Train accuracy: 0.5046   Test accuracy: 0.4972   Train F1 Score: 0.3363   Test F1 Score: 0.3301  \n",
      "Epoch: 112/200   Training loss: 1.0739   Testing loss: 1.0739   Train accuracy: 0.5054   Test accuracy: 0.4976   Train F1 Score: 0.3338   Test F1 Score: 0.3196  \n",
      "Epoch: 113/200   Training loss: 1.0732   Testing loss: 1.0730   Train accuracy: 0.5040   Test accuracy: 0.4979   Train F1 Score: 0.3308   Test F1 Score: 0.3268  \n",
      "Epoch: 114/200   Training loss: 1.0726   Testing loss: 1.0726   Train accuracy: 0.5035   Test accuracy: 0.4972   Train F1 Score: 0.3351   Test F1 Score: 0.3323  \n",
      "Epoch: 115/200   Training loss: 1.0717   Testing loss: 1.0713   Train accuracy: 0.5042   Test accuracy: 0.4965   Train F1 Score: 0.3315   Test F1 Score: 0.3316  \n",
      "Epoch: 116/200   Training loss: 1.0711   Testing loss: 1.0713   Train accuracy: 0.5038   Test accuracy: 0.4984   Train F1 Score: 0.3323   Test F1 Score: 0.3334  \n",
      "Epoch: 117/200   Training loss: 1.0704   Testing loss: 1.0698   Train accuracy: 0.5044   Test accuracy: 0.4972   Train F1 Score: 0.3326   Test F1 Score: 0.3233  \n",
      "Epoch: 118/200   Training loss: 1.0696   Testing loss: 1.0691   Train accuracy: 0.5044   Test accuracy: 0.4962   Train F1 Score: 0.3327   Test F1 Score: 0.3297  \n",
      "Epoch: 119/200   Training loss: 1.0687   Testing loss: 1.0678   Train accuracy: 0.5044   Test accuracy: 0.4976   Train F1 Score: 0.3329   Test F1 Score: 0.3302  \n",
      "Epoch: 120/200   Training loss: 1.0681   Testing loss: 1.0675   Train accuracy: 0.5021   Test accuracy: 0.4974   Train F1 Score: 0.3299   Test F1 Score: 0.3248  \n",
      "Epoch: 121/200   Training loss: 1.0672   Testing loss: 1.0671   Train accuracy: 0.5061   Test accuracy: 0.4960   Train F1 Score: 0.3323   Test F1 Score: 0.3242  \n",
      "Epoch: 122/200   Training loss: 1.0665   Testing loss: 1.0659   Train accuracy: 0.5053   Test accuracy: 0.4972   Train F1 Score: 0.3291   Test F1 Score: 0.3234  \n",
      "Epoch: 123/200   Training loss: 1.0655   Testing loss: 1.0643   Train accuracy: 0.5061   Test accuracy: 0.4981   Train F1 Score: 0.3364   Test F1 Score: 0.3339  \n",
      "Epoch: 124/200   Training loss: 1.0650   Testing loss: 1.0649   Train accuracy: 0.5030   Test accuracy: 0.4974   Train F1 Score: 0.3301   Test F1 Score: 0.3231  \n",
      "Epoch: 125/200   Training loss: 1.0645   Testing loss: 1.0643   Train accuracy: 0.5020   Test accuracy: 0.4946   Train F1 Score: 0.3343   Test F1 Score: 0.3245  \n",
      "Epoch: 126/200   Training loss: 1.0629   Testing loss: 1.0625   Train accuracy: 0.5069   Test accuracy: 0.4972   Train F1 Score: 0.3353   Test F1 Score: 0.3213  \n",
      "Epoch: 127/200   Training loss: 1.0621   Testing loss: 1.0612   Train accuracy: 0.5034   Test accuracy: 0.4974   Train F1 Score: 0.3324   Test F1 Score: 0.3236  \n",
      "Epoch: 128/200   Training loss: 1.0611   Testing loss: 1.0605   Train accuracy: 0.5041   Test accuracy: 0.4974   Train F1 Score: 0.3372   Test F1 Score: 0.3207  \n",
      "Epoch: 129/200   Training loss: 1.0599   Testing loss: 1.0598   Train accuracy: 0.5055   Test accuracy: 0.4965   Train F1 Score: 0.3342   Test F1 Score: 0.3286  \n",
      "Epoch: 130/200   Training loss: 1.0594   Testing loss: 1.0597   Train accuracy: 0.5054   Test accuracy: 0.4974   Train F1 Score: 0.3348   Test F1 Score: 0.3201  \n",
      "Epoch: 131/200   Training loss: 1.0585   Testing loss: 1.0584   Train accuracy: 0.5061   Test accuracy: 0.4972   Train F1 Score: 0.3279   Test F1 Score: 0.3276  \n",
      "Epoch: 132/200   Training loss: 1.0573   Testing loss: 1.0585   Train accuracy: 0.5072   Test accuracy: 0.4960   Train F1 Score: 0.3364   Test F1 Score: 0.3232  \n",
      "Epoch: 133/200   Training loss: 1.0567   Testing loss: 1.0570   Train accuracy: 0.5052   Test accuracy: 0.4972   Train F1 Score: 0.3345   Test F1 Score: 0.3206  \n",
      "Epoch: 134/200   Training loss: 1.0562   Testing loss: 1.0568   Train accuracy: 0.5045   Test accuracy: 0.4965   Train F1 Score: 0.3351   Test F1 Score: 0.3391  \n",
      "Epoch: 135/200   Training loss: 1.0553   Testing loss: 1.0544   Train accuracy: 0.5066   Test accuracy: 0.4991   Train F1 Score: 0.3360   Test F1 Score: 0.3336  \n",
      "Epoch: 136/200   Training loss: 1.0539   Testing loss: 1.0533   Train accuracy: 0.5052   Test accuracy: 0.4981   Train F1 Score: 0.3326   Test F1 Score: 0.3230  \n",
      "Epoch: 137/200   Training loss: 1.0529   Testing loss: 1.0528   Train accuracy: 0.5049   Test accuracy: 0.4936   Train F1 Score: 0.3337   Test F1 Score: 0.3218  \n",
      "Epoch: 138/200   Training loss: 1.0523   Testing loss: 1.0532   Train accuracy: 0.5052   Test accuracy: 0.4974   Train F1 Score: 0.3326   Test F1 Score: 0.3206  \n",
      "Epoch: 139/200   Training loss: 1.0515   Testing loss: 1.0509   Train accuracy: 0.5075   Test accuracy: 0.4925   Train F1 Score: 0.3411   Test F1 Score: 0.3212  \n",
      "Epoch: 140/200   Training loss: 1.0507   Testing loss: 1.0521   Train accuracy: 0.5051   Test accuracy: 0.4979   Train F1 Score: 0.3349   Test F1 Score: 0.3221  \n",
      "Epoch: 141/200   Training loss: 1.0491   Testing loss: 1.0505   Train accuracy: 0.5046   Test accuracy: 0.4981   Train F1 Score: 0.3347   Test F1 Score: 0.3314  \n",
      "Epoch: 142/200   Training loss: 1.0491   Testing loss: 1.0491   Train accuracy: 0.5033   Test accuracy: 0.5009   Train F1 Score: 0.3362   Test F1 Score: 0.3373  \n",
      "Epoch: 143/200   Training loss: 1.0477   Testing loss: 1.0486   Train accuracy: 0.5052   Test accuracy: 0.4974   Train F1 Score: 0.3336   Test F1 Score: 0.3368  \n",
      "Epoch: 144/200   Training loss: 1.0472   Testing loss: 1.0488   Train accuracy: 0.5050   Test accuracy: 0.4981   Train F1 Score: 0.3385   Test F1 Score: 0.3284  \n",
      "Epoch: 145/200   Training loss: 1.0463   Testing loss: 1.0472   Train accuracy: 0.5051   Test accuracy: 0.4911   Train F1 Score: 0.3343   Test F1 Score: 0.3389  \n",
      "Epoch: 146/200   Training loss: 1.0456   Testing loss: 1.0438   Train accuracy: 0.5055   Test accuracy: 0.4986   Train F1 Score: 0.3398   Test F1 Score: 0.3364  \n",
      "Epoch: 147/200   Training loss: 1.0448   Testing loss: 1.0463   Train accuracy: 0.5061   Test accuracy: 0.4962   Train F1 Score: 0.3327   Test F1 Score: 0.3425  \n",
      "Epoch: 148/200   Training loss: 1.0443   Testing loss: 1.0453   Train accuracy: 0.5039   Test accuracy: 0.4915   Train F1 Score: 0.3382   Test F1 Score: 0.3333  \n",
      "Epoch: 149/200   Training loss: 1.0435   Testing loss: 1.0420   Train accuracy: 0.5047   Test accuracy: 0.5002   Train F1 Score: 0.3372   Test F1 Score: 0.3310  \n",
      "Epoch: 150/200   Training loss: 1.0430   Testing loss: 1.0438   Train accuracy: 0.5046   Test accuracy: 0.4986   Train F1 Score: 0.3378   Test F1 Score: 0.3419  \n",
      "Epoch: 151/200   Training loss: 1.0424   Testing loss: 1.0421   Train accuracy: 0.5068   Test accuracy: 0.4979   Train F1 Score: 0.3414   Test F1 Score: 0.3348  \n",
      "Epoch: 152/200   Training loss: 1.0416   Testing loss: 1.0421   Train accuracy: 0.5065   Test accuracy: 0.4951   Train F1 Score: 0.3380   Test F1 Score: 0.3403  \n"
     ]
    },
    {
     "name": "stdout",
     "output_type": "stream",
     "text": [
      "Epoch: 153/200   Training loss: 1.0407   Testing loss: 1.0416   Train accuracy: 0.5070   Test accuracy: 0.4929   Train F1 Score: 0.3362   Test F1 Score: 0.3485  \n",
      "Epoch: 154/200   Training loss: 1.0398   Testing loss: 1.0403   Train accuracy: 0.5056   Test accuracy: 0.4953   Train F1 Score: 0.3395   Test F1 Score: 0.3424  \n",
      "Epoch: 155/200   Training loss: 1.0391   Testing loss: 1.0391   Train accuracy: 0.5032   Test accuracy: 0.4946   Train F1 Score: 0.3403   Test F1 Score: 0.3537  \n",
      "Epoch: 156/200   Training loss: 1.0391   Testing loss: 1.0426   Train accuracy: 0.5046   Test accuracy: 0.4925   Train F1 Score: 0.3404   Test F1 Score: 0.3326  \n",
      "Epoch: 157/200   Training loss: 1.0385   Testing loss: 1.0397   Train accuracy: 0.5036   Test accuracy: 0.4922   Train F1 Score: 0.3419   Test F1 Score: 0.3287  \n",
      "Epoch: 158/200   Training loss: 1.0377   Testing loss: 1.0405   Train accuracy: 0.5027   Test accuracy: 0.4922   Train F1 Score: 0.3369   Test F1 Score: 0.3460  \n",
      "Epoch: 159/200   Training loss: 1.0371   Testing loss: 1.0407   Train accuracy: 0.5034   Test accuracy: 0.4958   Train F1 Score: 0.3472   Test F1 Score: 0.3486  \n",
      "Epoch: 160/200   Training loss: 1.0370   Testing loss: 1.0378   Train accuracy: 0.5029   Test accuracy: 0.4922   Train F1 Score: 0.3433   Test F1 Score: 0.3381  \n",
      "Epoch: 161/200   Training loss: 1.0366   Testing loss: 1.0392   Train accuracy: 0.5041   Test accuracy: 0.4913   Train F1 Score: 0.3440   Test F1 Score: 0.3333  \n",
      "Epoch: 162/200   Training loss: 1.0370   Testing loss: 1.0369   Train accuracy: 0.5014   Test accuracy: 0.4922   Train F1 Score: 0.3447   Test F1 Score: 0.3340  \n",
      "Epoch: 163/200   Training loss: 1.0356   Testing loss: 1.0349   Train accuracy: 0.5059   Test accuracy: 0.4974   Train F1 Score: 0.3412   Test F1 Score: 0.3464  \n",
      "Epoch: 164/200   Training loss: 1.0350   Testing loss: 1.0359   Train accuracy: 0.5046   Test accuracy: 0.4972   Train F1 Score: 0.3462   Test F1 Score: 0.3558  \n",
      "Epoch: 165/200   Training loss: 1.0349   Testing loss: 1.0376   Train accuracy: 0.5058   Test accuracy: 0.4932   Train F1 Score: 0.3447   Test F1 Score: 0.3450  \n",
      "Epoch: 166/200   Training loss: 1.0346   Testing loss: 1.0362   Train accuracy: 0.5054   Test accuracy: 0.4925   Train F1 Score: 0.3422   Test F1 Score: 0.3364  \n",
      "Epoch: 167/200   Training loss: 1.0351   Testing loss: 1.0340   Train accuracy: 0.5033   Test accuracy: 0.4927   Train F1 Score: 0.3449   Test F1 Score: 0.3468  \n",
      "Epoch: 168/200   Training loss: 1.0341   Testing loss: 1.0361   Train accuracy: 0.5041   Test accuracy: 0.4939   Train F1 Score: 0.3448   Test F1 Score: 0.3397  \n",
      "Epoch: 169/200   Training loss: 1.0335   Testing loss: 1.0359   Train accuracy: 0.5006   Test accuracy: 0.4958   Train F1 Score: 0.3485   Test F1 Score: 0.3313  \n",
      "Epoch: 170/200   Training loss: 1.0334   Testing loss: 1.0333   Train accuracy: 0.5015   Test accuracy: 0.4972   Train F1 Score: 0.3463   Test F1 Score: 0.3317  \n",
      "Epoch: 171/200   Training loss: 1.0332   Testing loss: 1.0353   Train accuracy: 0.5012   Test accuracy: 0.4958   Train F1 Score: 0.3519   Test F1 Score: 0.3475  \n",
      "Epoch: 172/200   Training loss: 1.0328   Testing loss: 1.0349   Train accuracy: 0.5024   Test accuracy: 0.4904   Train F1 Score: 0.3463   Test F1 Score: 0.3310  \n",
      "Epoch: 173/200   Training loss: 1.0330   Testing loss: 1.0354   Train accuracy: 0.5025   Test accuracy: 0.4955   Train F1 Score: 0.3500   Test F1 Score: 0.3439  \n",
      "Epoch: 174/200   Training loss: 1.0323   Testing loss: 1.0318   Train accuracy: 0.5028   Test accuracy: 0.4932   Train F1 Score: 0.3526   Test F1 Score: 0.3438  \n",
      "Epoch: 175/200   Training loss: 1.0324   Testing loss: 1.0340   Train accuracy: 0.5049   Test accuracy: 0.4948   Train F1 Score: 0.3538   Test F1 Score: 0.3429  \n",
      "Epoch: 176/200   Training loss: 1.0324   Testing loss: 1.0328   Train accuracy: 0.4999   Test accuracy: 0.4906   Train F1 Score: 0.3477   Test F1 Score: 0.3500  \n",
      "Epoch: 177/200   Training loss: 1.0316   Testing loss: 1.0347   Train accuracy: 0.5036   Test accuracy: 0.4920   Train F1 Score: 0.3533   Test F1 Score: 0.3495  \n",
      "Epoch: 178/200   Training loss: 1.0323   Testing loss: 1.0363   Train accuracy: 0.5006   Test accuracy: 0.4913   Train F1 Score: 0.3440   Test F1 Score: 0.3544  \n",
      "Epoch: 179/200   Training loss: 1.0318   Testing loss: 1.0350   Train accuracy: 0.4996   Test accuracy: 0.4955   Train F1 Score: 0.3539   Test F1 Score: 0.3448  \n",
      "Epoch: 180/200   Training loss: 1.0317   Testing loss: 1.0343   Train accuracy: 0.5012   Test accuracy: 0.4946   Train F1 Score: 0.3495   Test F1 Score: 0.3447  \n",
      "Epoch: 181/200   Training loss: 1.0316   Testing loss: 1.0325   Train accuracy: 0.5013   Test accuracy: 0.4958   Train F1 Score: 0.3586   Test F1 Score: 0.3555  \n",
      "Epoch: 182/200   Training loss: 1.0306   Testing loss: 1.0322   Train accuracy: 0.5015   Test accuracy: 0.4913   Train F1 Score: 0.3489   Test F1 Score: 0.3538  \n",
      "Epoch: 183/200   Training loss: 1.0305   Testing loss: 1.0333   Train accuracy: 0.5005   Test accuracy: 0.4962   Train F1 Score: 0.3491   Test F1 Score: 0.3523  \n",
      "Epoch: 184/200   Training loss: 1.0306   Testing loss: 1.0331   Train accuracy: 0.5031   Test accuracy: 0.4922   Train F1 Score: 0.3541   Test F1 Score: 0.3511  \n",
      "Epoch: 185/200   Training loss: 1.0307   Testing loss: 1.0343   Train accuracy: 0.4992   Test accuracy: 0.4913   Train F1 Score: 0.3478   Test F1 Score: 0.3501  \n",
      "Epoch: 186/200   Training loss: 1.0301   Testing loss: 1.0325   Train accuracy: 0.4996   Test accuracy: 0.4887   Train F1 Score: 0.3527   Test F1 Score: 0.3451  \n",
      "Epoch: 187/200   Training loss: 1.0302   Testing loss: 1.0340   Train accuracy: 0.5011   Test accuracy: 0.4915   Train F1 Score: 0.3485   Test F1 Score: 0.3567  \n",
      "Epoch: 188/200   Training loss: 1.0304   Testing loss: 1.0350   Train accuracy: 0.5024   Test accuracy: 0.4939   Train F1 Score: 0.3529   Test F1 Score: 0.3472  \n",
      "Epoch: 189/200   Training loss: 1.0305   Testing loss: 1.0335   Train accuracy: 0.4999   Test accuracy: 0.4915   Train F1 Score: 0.3459   Test F1 Score: 0.3663  \n",
      "Epoch: 190/200   Training loss: 1.0299   Testing loss: 1.0341   Train accuracy: 0.5021   Test accuracy: 0.4901   Train F1 Score: 0.3480   Test F1 Score: 0.3613  \n",
      "Epoch: 191/200   Training loss: 1.0299   Testing loss: 1.0353   Train accuracy: 0.5010   Test accuracy: 0.4920   Train F1 Score: 0.3501   Test F1 Score: 0.3584  \n",
      "Epoch: 192/200   Training loss: 1.0295   Testing loss: 1.0311   Train accuracy: 0.5012   Test accuracy: 0.4920   Train F1 Score: 0.3513   Test F1 Score: 0.3497  \n",
      "Epoch: 193/200   Training loss: 1.0296   Testing loss: 1.0323   Train accuracy: 0.4999   Test accuracy: 0.4913   Train F1 Score: 0.3471   Test F1 Score: 0.3556  \n",
      "Epoch: 194/200   Training loss: 1.0303   Testing loss: 1.0331   Train accuracy: 0.5001   Test accuracy: 0.4906   Train F1 Score: 0.3529   Test F1 Score: 0.3521  \n",
      "Epoch: 195/200   Training loss: 1.0293   Testing loss: 1.0310   Train accuracy: 0.5014   Test accuracy: 0.4925   Train F1 Score: 0.3459   Test F1 Score: 0.3531  \n",
      "Epoch: 196/200   Training loss: 1.0291   Testing loss: 1.0334   Train accuracy: 0.5027   Test accuracy: 0.4899   Train F1 Score: 0.3616   Test F1 Score: 0.3478  \n",
      "Epoch: 197/200   Training loss: 1.0302   Testing loss: 1.0299   Train accuracy: 0.4995   Test accuracy: 0.4946   Train F1 Score: 0.3473   Test F1 Score: 0.3580  \n",
      "Epoch: 198/200   Training loss: 1.0298   Testing loss: 1.0301   Train accuracy: 0.4982   Test accuracy: 0.4906   Train F1 Score: 0.3504   Test F1 Score: 0.3531  \n",
      "Epoch: 199/200   Training loss: 1.0288   Testing loss: 1.0326   Train accuracy: 0.5014   Test accuracy: 0.4946   Train F1 Score: 0.3555   Test F1 Score: 0.3463  \n"
     ]
    }
   ],
   "source": [
    "from sklearn.metrics import f1_score\n",
    "\n",
    "epochs = 200\n",
    "train_loss, val_loss = [], []\n",
    "accuracy_total_train, accuracy_total_val = [], []\n",
    "train_f1_scores, test_f1_scores = [], []\n",
    "\n",
    "\n",
    "for epoch in range(epochs):\n",
    "   \n",
    "    total_train_loss = 0\n",
    "    total_val_loss = 0\n",
    "    prediction_list_test = []\n",
    "    prediction_list_train = []\n",
    "    train_f1score = 0\n",
    "    test_f1score = 0\n",
    "\n",
    "    model.train()\n",
    "    \n",
    "    total = 0\n",
    "    # training our model\n",
    "    for idx, (x, y) in enumerate(train_loader):\n",
    "\n",
    "        optimizer.zero_grad()\n",
    "        pred = model(x)\n",
    "        loss = criterion(pred, y)\n",
    "        total_train_loss += loss.item()\n",
    "\n",
    "        loss.backward()\n",
    "        optimizer.step()\n",
    "\n",
    "        pred = torch.nn.functional.softmax(pred, dim=1)\n",
    "        for i, p in enumerate(pred):\n",
    "            if y[i] == torch.max(p.data, 0)[1]:\n",
    "                total = total + 1\n",
    "            y_prediction = torch.max(p.data, 0)[1]\n",
    "            prediction_list_train.append(y_prediction)\n",
    "                \n",
    "    accuracy_train = total / len(train)\n",
    "    accuracy_total_train.append(accuracy_train)\n",
    "    \n",
    "    prediction_stacked_tensor = torch.stack(prediction_list_train)\n",
    "    train_f1score = f1_score(y_train, prediction_stacked_tensor, average='weighted')\n",
    "    train_f1_scores.append(train_f1score)\n",
    "\n",
    "    total_train_loss = total_train_loss / (idx + 1)\n",
    "    train_loss.append(total_train_loss)\n",
    "    \n",
    "    # validating our model\n",
    "    model.eval()\n",
    "    total = 0\n",
    "    for idx, (x, y) in enumerate(test_loader):\n",
    "        pred = model(x)\n",
    "        loss = criterion(pred, y)\n",
    "        total_val_loss += loss.item()\n",
    "\n",
    "        pred = torch.nn.functional.softmax(pred, dim=1)\n",
    "        for i, p in enumerate(pred):\n",
    "            if y[i] == torch.max(p.data, 0)[1]:\n",
    "                total = total + 1\n",
    "            y_prediction = torch.max(p.data, 0)[1]\n",
    "            prediction_list_test.append(y_prediction)\n",
    "        \n",
    "        \n",
    "    accuracy_val = total / len(test)\n",
    "    accuracy_total_val.append(accuracy_val)\n",
    "    prediction_stacked_tensor = torch.stack(prediction_list_test)\n",
    "    test_f1score = f1_score(y_test, prediction_stacked_tensor, average='weighted')\n",
    "    test_f1_scores.append(test_f1score)\n",
    "\n",
    "    total_val_loss = total_val_loss / (idx + 1)\n",
    "    val_loss.append(total_val_loss)\n",
    "\n",
    "    if epoch % 1 == 0:\n",
    "        print(\"Epoch: {}/{}  \".format(epoch, epochs),\n",
    "            \"Training loss: {:.4f}  \".format(total_train_loss),\n",
    "            \"Testing loss: {:.4f}  \".format(total_val_loss),\n",
    "            \"Train accuracy: {:.4f}  \".format(accuracy_train),\n",
    "            \"Test accuracy: {:.4f}  \".format(accuracy_val),\n",
    "            \"Train F1 Score: {:.4f}  \".format(train_f1score),\n",
    "            \"Test F1 Score: {:.4f}  \".format(test_f1score))"
   ]
  },
  {
   "cell_type": "code",
   "execution_count": 80,
   "metadata": {},
   "outputs": [
    {
     "data": {
      "image/png": "[encoded data removed]",
      "text/plain": [
       "<Figure size 432x288 with 1 Axes>"
      ]
     },
     "metadata": {
      "needs_background": "light"
     },
     "output_type": "display_data"
    }
   ],
   "source": [
    "plt.plot(train_f1_scores, label='Training f1-Scores')\n",
    "plt.plot(test_f1_scores, label='Testing f1-Scores')\n",
    "plt.legend()\n",
    "plt.grid()"
   ]
  },
  {
   "cell_type": "code",
   "execution_count": 81,
   "metadata": {},
   "outputs": [
    {
     "data": {
      "image/png": "[encoded data removed]",
      "text/plain": [
       "<Figure size 432x288 with 1 Axes>"
      ]
     },
     "metadata": {
      "needs_background": "light"
     },
     "output_type": "display_data"
    }
   ],
   "source": [
    "plt.plot(train_loss, label='Training loss')\n",
    "plt.plot(val_loss, label='Test loss')\n",
    "plt.legend()\n",
    "plt.grid()"
   ]
  },
  {
   "cell_type": "code",
   "execution_count": 82,
   "metadata": {},
   "outputs": [
    {
     "data": {
      "image/png": "[encoded data removed]",
      "text/plain": [
       "<Figure size 432x288 with 1 Axes>"
      ]
     },
     "metadata": {
      "needs_background": "light"
     },
     "output_type": "display_data"
    }
   ],
   "source": [
    "plt.plot(accuracy_total_train, label='Training Accuracy')\n",
    "plt.plot(accuracy_total_val, label='Test Accuracy')\n",
    "plt.legend()\n",
    "plt.grid()"
   ]
  },
  {
   "cell_type": "code",
   "execution_count": 83,
   "metadata": {},
   "outputs": [],
   "source": [
    "#saving the model\n",
    "\n",
    "MODEL_PATH = 'playermodel.pth'\n",
    "torch.save(model, MODEL_PATH)"
   ]
  },
  {
   "cell_type": "code",
   "execution_count": 84,
   "metadata": {},
   "outputs": [],
   "source": [
    "model = torch.load(MODEL_PATH)"
   ]
  },
  {
   "cell_type": "code",
   "execution_count": 76,
   "metadata": {},
   "outputs": [],
   "source": [
    "#Evaluation\n",
    "classes = ['Loss','Draw','Win']\n",
    "predict_list = []\n",
    "y_pred = model(Player_Test)\n",
    "\n",
    "for i, p in enumerate(y_pred):\n",
    "    y_pred = torch.max(p.data, 0)[1]\n",
    "    predict_list.append(y_pred)\n",
    "stacked_tensor = torch.stack(predict_list)\n",
    "y_test = y_test.cpu()"
   ]
  },
  {
   "cell_type": "code",
   "execution_count": 77,
   "metadata": {},
   "outputs": [
    {
     "name": "stdout",
     "output_type": "stream",
     "text": [
      "              precision    recall  f1-score   support\n",
      "\n",
      "        Loss       0.43      0.61      0.50      1189\n",
      "        Draw       0.29      0.13      0.18      1102\n",
      "         Win       0.60      0.63      0.61      1959\n",
      "\n",
      "    accuracy                           0.49      4250\n",
      "   macro avg       0.44      0.46      0.43      4250\n",
      "weighted avg       0.47      0.49      0.47      4250\n",
      "\n"
     ]
    }
   ],
   "source": [
    "print(classification_report(y_test, stacked_tensor, target_names=classes))"
   ]
  },
  {
   "cell_type": "code",
   "execution_count": 78,
   "metadata": {},
   "outputs": [
    {
     "data": {
      "text/plain": [
       "Text(0.5, 15.0, 'Predicted label')"
      ]
     },
     "execution_count": 78,
     "metadata": {},
     "output_type": "execute_result"
    },
    {
     "data": {
      "image/png": "[encoded data removed]",
      "text/plain": [
       "<Figure size 432x288 with 2 Axes>"
      ]
     },
     "metadata": {
      "needs_background": "light"
     },
     "output_type": "display_data"
    }
   ],
   "source": [
    "cm = confusion_matrix(y_test, stacked_tensor)\n",
    "df_cm = pd.DataFrame(cm, index=classes, columns=classes)\n",
    "hmap = sns.heatmap(df_cm, annot=True, fmt=\"d\")\n",
    "hmap.yaxis.set_ticklabels(hmap.yaxis.get_ticklabels(), rotation=0, ha='right')\n",
    "hmap.xaxis.set_ticklabels(hmap.xaxis.get_ticklabels(), rotation=0, ha='right')\n",
    "plt.ylabel('True label')\n",
    "plt.xlabel('Predicted label')"
   ]
  },
  {
   "cell_type": "code",
   "execution_count": 79,
   "metadata": {},
   "outputs": [
    {
     "name": "stdout",
     "output_type": "stream",
     "text": [
      "Accuracy of the network on the 4250 matches: 49 %\n"
     ]
    }
   ],
   "source": [
    "correct = 0\n",
    "total = 0\n",
    "\n",
    "with torch.no_grad():\n",
    "    for i, (x, y) in enumerate(test_loader):\n",
    "        outputs = model(x)\n",
    "        _, predicted = torch.max(outputs.data, 1)\n",
    "        total += y.size(0)\n",
    "        correct += (predicted == y).sum().item()\n",
    "\n",
    "print('Accuracy of the network on the 4250 matches: %d %%' % (\n",
    "    100 * correct / total))"
   ]
  },
  {
   "cell_type": "code",
   "execution_count": 8,
   "metadata": {},
   "outputs": [
    {
     "data": {
      "text/plain": [
       "2.0    7795\n",
       "0.0    4941\n",
       "1.0    4260\n",
       "Name: result, dtype: int64"
      ]
     },
     "execution_count": 8,
     "metadata": {},
     "output_type": "execute_result"
    }
   ],
   "source": [
    "y_train.result.value_counts()"
   ]
  },
  {
   "cell_type": "code",
   "execution_count": null,
   "metadata": {},
   "outputs": [],
   "source": []
  }
 ],
 "metadata": {
  "kernelspec": {
   "display_name": "Python 3",
   "language": "python",
   "name": "python3"
  },
  "language_info": {
   "codemirror_mode": {
    "name": "ipython",
    "version": 3
   },
   "file_extension": ".py",
   "mimetype": "text/x-python",
   "name": "python",
   "nbconvert_exporter": "python",
   "pygments_lexer": "ipython3",
   "version": "3.8.5"
  }
 },
 "nbformat": 4,
 "nbformat_minor": 4
}
