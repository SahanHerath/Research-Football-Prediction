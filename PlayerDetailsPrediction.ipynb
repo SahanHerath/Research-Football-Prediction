{
 "cells": [
  {
   "cell_type": "code",
   "execution_count": 2,
   "metadata": {},
   "outputs": [],
   "source": [
    "import pandas as pd\n",
    "import seaborn as sns\n",
    "import numpy as np\n",
    "from tqdm import tqdm\n",
    "from pylab import rcParams\n",
    "import matplotlib.pyplot as plt\n",
    "from matplotlib import rc\n",
    "from torch import nn, optim\n",
    "import torch.nn.functional as F\n",
    "from sklearn.model_selection import train_test_split\n",
    "from sklearn.metrics import confusion_matrix, classification_report\n",
    "import torch\n",
    "\n",
    "df = pd.read_csv('UpdatedMatches.csv')\n",
    "data = []"
   ]
  },
  {
   "cell_type": "code",
   "execution_count": 3,
   "metadata": {},
   "outputs": [],
   "source": [
    "df['season'].replace({'2008/2009':2008, '2009/2010':2009, '2010/2011':2010, '2011/2012':2011, '2012/2013':2012, '2013/2014':2013, '2014/2015':2014, '2015/2016':2015 },inplace=True)\n",
    "\n",
    "df[\"result\"] = np.nan\n",
    "for index, row in df.iterrows():\n",
    "    if df.loc[index,'home_team_goal'] == df.loc[index,'away_team_goal']:\n",
    "        df.loc[index,'result'] = 1\n",
    "    if df.loc[index,'home_team_goal'] > df.loc[index,'away_team_goal']:\n",
    "        df.loc[index,'result'] = 2\n",
    "    if df.loc[index,'home_team_goal'] < df.loc[index,'away_team_goal']:\n",
    "        df.loc[index,'result'] = 0"
   ]
  },
  {
   "cell_type": "code",
   "execution_count": 4,
   "metadata": {},
   "outputs": [
    {
     "name": "stderr",
     "output_type": "stream",
     "text": [
      "C:\\Users\\herath\\anaconda3\\lib\\site-packages\\seaborn\\_decorators.py:36: FutureWarning: Pass the following variable as a keyword arg: x. From version 0.12, the only valid positional argument will be `data`, and passing other arguments without an explicit keyword will result in an error or misinterpretation.\n",
      "  warnings.warn(\n"
     ]
    },
    {
     "data": {
      "text/plain": [
       "<AxesSubplot:xlabel='result', ylabel='count'>"
      ]
     },
     "execution_count": 4,
     "metadata": {},
     "output_type": "execute_result"
    },
    {
     "data": {
      "image/png": "[encoded data removed]",
      "text/plain": [
       "<Figure size 432x288 with 1 Axes>"
      ]
     },
     "metadata": {
      "needs_background": "light"
     },
     "output_type": "display_data"
    }
   ],
   "source": [
    "sns.countplot(df.result)"
   ]
  },
  {
   "cell_type": "code",
   "execution_count": 6,
   "metadata": {},
   "outputs": [
    {
     "data": {
      "text/plain": [
       "2.0    0.459098\n",
       "0.0    0.288525\n",
       "1.0    0.252377\n",
       "Name: result, dtype: float64"
      ]
     },
     "execution_count": 6,
     "metadata": {},
     "output_type": "execute_result"
    }
   ],
   "source": [
    "df.result.value_counts()/df.shape[0]"
   ]
  },
  {
   "cell_type": "code",
   "execution_count": 7,
   "metadata": {},
   "outputs": [],
   "source": [
    "from tqdm import tqdm\n",
    "\n",
    "def playerfunction( df ):\n",
    "    for index, row in tqdm(df.iterrows()):\n",
    "        overall_rating_home_players = []\n",
    "        overall_rating_home_players.append(df.loc[index,'overall_rating_home_player_1'])\n",
    "        overall_rating_home_players.append(df.loc[index,'overall_rating_home_player_2'])\n",
    "        overall_rating_home_players.append(df.loc[index,'overall_rating_home_player_3'])\n",
    "        overall_rating_home_players.append(df.loc[index,'overall_rating_home_player_4'])\n",
    "        overall_rating_home_players.append(df.loc[index,'overall_rating_home_player_5'])\n",
    "        overall_rating_home_players.append(df.loc[index,'overall_rating_home_player_6'])\n",
    "        overall_rating_home_players.append(df.loc[index,'overall_rating_home_player_7'])\n",
    "        overall_rating_home_players.append(df.loc[index,'overall_rating_home_player_8'])\n",
    "        overall_rating_home_players.append(df.loc[index,'overall_rating_home_player_9'])\n",
    "        overall_rating_home_players.append(df.loc[index,'overall_rating_home_player_10'])\n",
    "        overall_rating_home_players.append(df.loc[index,'overall_rating_home_player_11'])\n",
    "\n",
    "        overall_rating_away_players = []\n",
    "        overall_rating_away_players.append(df.loc[index,'overall_rating_away_player_1'])\n",
    "        overall_rating_away_players.append(df.loc[index,'overall_rating_away_player_2'])\n",
    "        overall_rating_away_players.append(df.loc[index,'overall_rating_away_player_3'])\n",
    "        overall_rating_away_players.append(df.loc[index,'overall_rating_away_player_4'])\n",
    "        overall_rating_away_players.append(df.loc[index,'overall_rating_away_player_5'])\n",
    "        overall_rating_away_players.append(df.loc[index,'overall_rating_away_player_6'])\n",
    "        overall_rating_away_players.append(df.loc[index,'overall_rating_away_player_7'])\n",
    "        overall_rating_away_players.append(df.loc[index,'overall_rating_away_player_8'])\n",
    "        overall_rating_away_players.append(df.loc[index,'overall_rating_away_player_9'])\n",
    "        overall_rating_away_players.append(df.loc[index,'overall_rating_away_player_10'])\n",
    "        overall_rating_away_players.append(df.loc[index,'overall_rating_away_player_11'])\n",
    "\n",
    "        overall_rating_matrix = []\n",
    "        for i in range(11):          \n",
    "            a =[]\n",
    "            for j in range(11):\n",
    "                a.append(overall_rating_home_players[i]-overall_rating_away_players[j])\n",
    "            overall_rating_matrix.append(a)\n",
    "\n",
    "        potential_home_players = []\n",
    "        potential_home_players.append(df.loc[index,'potential_home_player_1'])\n",
    "        potential_home_players.append(df.loc[index,'potential_home_player_2'])\n",
    "        potential_home_players.append(df.loc[index,'potential_home_player_3'])\n",
    "        potential_home_players.append(df.loc[index,'potential_home_player_4'])\n",
    "        potential_home_players.append(df.loc[index,'potential_home_player_5'])\n",
    "        potential_home_players.append(df.loc[index,'potential_home_player_6'])\n",
    "        potential_home_players.append(df.loc[index,'potential_home_player_7'])\n",
    "        potential_home_players.append(df.loc[index,'potential_home_player_8'])\n",
    "        potential_home_players.append(df.loc[index,'potential_home_player_9'])\n",
    "        potential_home_players.append(df.loc[index,'potential_home_player_10'])\n",
    "        potential_home_players.append(df.loc[index,'potential_home_player_11'])\n",
    "\n",
    "        potential_away_players = []\n",
    "        potential_away_players.append(df.loc[index,'potential_away_player_1'])\n",
    "        potential_away_players.append(df.loc[index,'potential_away_player_2'])\n",
    "        potential_away_players.append(df.loc[index,'potential_away_player_3'])\n",
    "        potential_away_players.append(df.loc[index,'potential_away_player_4'])\n",
    "        potential_away_players.append(df.loc[index,'potential_away_player_5'])\n",
    "        potential_away_players.append(df.loc[index,'potential_away_player_6'])\n",
    "        potential_away_players.append(df.loc[index,'potential_away_player_7'])\n",
    "        potential_away_players.append(df.loc[index,'potential_away_player_8'])\n",
    "        potential_away_players.append(df.loc[index,'potential_away_player_9'])\n",
    "        potential_away_players.append(df.loc[index,'potential_away_player_10'])\n",
    "        potential_away_players.append(df.loc[index,'potential_away_player_11'])\n",
    "\n",
    "        potential_matrix = []\n",
    "        for i in range(11):          \n",
    "            b =[]\n",
    "            for j in range(11):\n",
    "                b.append(potential_home_players[i]-potential_away_players[j])\n",
    "            potential_matrix.append(b)\n",
    "\n",
    "        crossing_home_players = []\n",
    "        crossing_home_players.append(df.loc[index,'crossing_home_player_1'])\n",
    "        crossing_home_players.append(df.loc[index,'crossing_home_player_2'])\n",
    "        crossing_home_players.append(df.loc[index,'crossing_home_player_3'])\n",
    "        crossing_home_players.append(df.loc[index,'crossing_home_player_4'])\n",
    "        crossing_home_players.append(df.loc[index,'crossing_home_player_5'])\n",
    "        crossing_home_players.append(df.loc[index,'crossing_home_player_6'])\n",
    "        crossing_home_players.append(df.loc[index,'crossing_home_player_7'])\n",
    "        crossing_home_players.append(df.loc[index,'crossing_home_player_8'])\n",
    "        crossing_home_players.append(df.loc[index,'crossing_home_player_9'])\n",
    "        crossing_home_players.append(df.loc[index,'crossing_home_player_10'])\n",
    "        crossing_home_players.append(df.loc[index,'crossing_home_player_11'])\n",
    "\n",
    "        crossing_away_players = []\n",
    "        crossing_away_players.append(df.loc[index,'crossing_away_player_1'])\n",
    "        crossing_away_players.append(df.loc[index,'crossing_away_player_2'])\n",
    "        crossing_away_players.append(df.loc[index,'crossing_away_player_3'])\n",
    "        crossing_away_players.append(df.loc[index,'crossing_away_player_4'])\n",
    "        crossing_away_players.append(df.loc[index,'crossing_away_player_5'])\n",
    "        crossing_away_players.append(df.loc[index,'crossing_away_player_6'])\n",
    "        crossing_away_players.append(df.loc[index,'crossing_away_player_7'])\n",
    "        crossing_away_players.append(df.loc[index,'crossing_away_player_8'])\n",
    "        crossing_away_players.append(df.loc[index,'crossing_away_player_9'])\n",
    "        crossing_away_players.append(df.loc[index,'crossing_away_player_10'])\n",
    "        crossing_away_players.append(df.loc[index,'crossing_away_player_11'])\n",
    "\n",
    "        crossing_matrix = []\n",
    "        for i in range(11):          \n",
    "            c =[]\n",
    "            for j in range(11):\n",
    "                c.append(crossing_home_players[i]-crossing_away_players[j])\n",
    "            crossing_matrix.append(c)\n",
    "\n",
    "        finishing_home_players = []\n",
    "        finishing_home_players.append(df.loc[index,'finishing_home_player_1'])\n",
    "        finishing_home_players.append(df.loc[index,'finishing_home_player_2'])\n",
    "        finishing_home_players.append(df.loc[index,'finishing_home_player_3'])\n",
    "        finishing_home_players.append(df.loc[index,'finishing_home_player_4'])\n",
    "        finishing_home_players.append(df.loc[index,'finishing_home_player_5'])\n",
    "        finishing_home_players.append(df.loc[index,'finishing_home_player_6'])\n",
    "        finishing_home_players.append(df.loc[index,'finishing_home_player_7'])\n",
    "        finishing_home_players.append(df.loc[index,'finishing_home_player_8'])\n",
    "        finishing_home_players.append(df.loc[index,'finishing_home_player_9'])\n",
    "        finishing_home_players.append(df.loc[index,'finishing_home_player_10'])\n",
    "        finishing_home_players.append(df.loc[index,'finishing_home_player_11'])\n",
    "\n",
    "        finishing_away_players = []\n",
    "        finishing_away_players.append(df.loc[index,'finishing_away_player_1'])\n",
    "        finishing_away_players.append(df.loc[index,'finishing_away_player_2'])\n",
    "        finishing_away_players.append(df.loc[index,'finishing_away_player_3'])\n",
    "        finishing_away_players.append(df.loc[index,'finishing_away_player_4'])\n",
    "        finishing_away_players.append(df.loc[index,'finishing_away_player_5'])\n",
    "        finishing_away_players.append(df.loc[index,'finishing_away_player_6'])\n",
    "        finishing_away_players.append(df.loc[index,'finishing_away_player_7'])\n",
    "        finishing_away_players.append(df.loc[index,'finishing_away_player_8'])\n",
    "        finishing_away_players.append(df.loc[index,'finishing_away_player_9'])\n",
    "        finishing_away_players.append(df.loc[index,'finishing_away_player_10'])\n",
    "        finishing_away_players.append(df.loc[index,'finishing_away_player_11'])\n",
    "\n",
    "        finishing_matrix = []\n",
    "        for i in range(11):          \n",
    "            d =[]\n",
    "            for j in range(11):\n",
    "                d.append(finishing_home_players[i]-finishing_away_players[j])\n",
    "            finishing_matrix.append(d)\n",
    "\n",
    "\n",
    "        heading_accuracy_home_players = []\n",
    "        heading_accuracy_home_players.append(df.loc[index,'heading_accuracy_home_player_1'])\n",
    "        heading_accuracy_home_players.append(df.loc[index,'heading_accuracy_home_player_2'])\n",
    "        heading_accuracy_home_players.append(df.loc[index,'heading_accuracy_home_player_3'])\n",
    "        heading_accuracy_home_players.append(df.loc[index,'heading_accuracy_home_player_4'])\n",
    "        heading_accuracy_home_players.append(df.loc[index,'heading_accuracy_home_player_5'])\n",
    "        heading_accuracy_home_players.append(df.loc[index,'heading_accuracy_home_player_6'])\n",
    "        heading_accuracy_home_players.append(df.loc[index,'heading_accuracy_home_player_7'])\n",
    "        heading_accuracy_home_players.append(df.loc[index,'heading_accuracy_home_player_8'])\n",
    "        heading_accuracy_home_players.append(df.loc[index,'heading_accuracy_home_player_9'])\n",
    "        heading_accuracy_home_players.append(df.loc[index,'heading_accuracy_home_player_10'])\n",
    "        heading_accuracy_home_players.append(df.loc[index,'heading_accuracy_home_player_11'])\n",
    "\n",
    "        heading_accuracy_away_players = []\n",
    "        heading_accuracy_away_players.append(df.loc[index,'heading_accuracy_away_player_1'])\n",
    "        heading_accuracy_away_players.append(df.loc[index,'heading_accuracy_away_player_2'])\n",
    "        heading_accuracy_away_players.append(df.loc[index,'heading_accuracy_away_player_3'])\n",
    "        heading_accuracy_away_players.append(df.loc[index,'heading_accuracy_away_player_4'])\n",
    "        heading_accuracy_away_players.append(df.loc[index,'heading_accuracy_away_player_5'])\n",
    "        heading_accuracy_away_players.append(df.loc[index,'heading_accuracy_away_player_6'])\n",
    "        heading_accuracy_away_players.append(df.loc[index,'heading_accuracy_away_player_7'])\n",
    "        heading_accuracy_away_players.append(df.loc[index,'heading_accuracy_away_player_8'])\n",
    "        heading_accuracy_away_players.append(df.loc[index,'heading_accuracy_away_player_9'])\n",
    "        heading_accuracy_away_players.append(df.loc[index,'heading_accuracy_away_player_10'])\n",
    "        heading_accuracy_away_players.append(df.loc[index,'heading_accuracy_away_player_11'])\n",
    "\n",
    "        heading_accuracy_matrix = []\n",
    "        for i in range(11):          \n",
    "            e =[]\n",
    "            for j in range(11):\n",
    "                e.append(heading_accuracy_home_players[i]-heading_accuracy_away_players[j])\n",
    "            heading_accuracy_matrix.append(e)\n",
    "\n",
    "\n",
    "        dribbling_home_players = []\n",
    "        dribbling_home_players.append(df.loc[index,'dribbling_home_player_1'])\n",
    "        dribbling_home_players.append(df.loc[index,'dribbling_home_player_2'])\n",
    "        dribbling_home_players.append(df.loc[index,'dribbling_home_player_3'])\n",
    "        dribbling_home_players.append(df.loc[index,'dribbling_home_player_4'])\n",
    "        dribbling_home_players.append(df.loc[index,'dribbling_home_player_5'])\n",
    "        dribbling_home_players.append(df.loc[index,'dribbling_home_player_6'])\n",
    "        dribbling_home_players.append(df.loc[index,'dribbling_home_player_7'])\n",
    "        dribbling_home_players.append(df.loc[index,'dribbling_home_player_8'])\n",
    "        dribbling_home_players.append(df.loc[index,'dribbling_home_player_9'])\n",
    "        dribbling_home_players.append(df.loc[index,'dribbling_home_player_10'])\n",
    "        dribbling_home_players.append(df.loc[index,'dribbling_home_player_11'])\n",
    "\n",
    "        dribbling_away_players = []\n",
    "        dribbling_away_players.append(df.loc[index,'dribbling_away_player_1'])\n",
    "        dribbling_away_players.append(df.loc[index,'dribbling_away_player_2'])\n",
    "        dribbling_away_players.append(df.loc[index,'dribbling_away_player_3'])\n",
    "        dribbling_away_players.append(df.loc[index,'dribbling_away_player_4'])\n",
    "        dribbling_away_players.append(df.loc[index,'dribbling_away_player_5'])\n",
    "        dribbling_away_players.append(df.loc[index,'dribbling_away_player_6'])\n",
    "        dribbling_away_players.append(df.loc[index,'dribbling_away_player_7'])\n",
    "        dribbling_away_players.append(df.loc[index,'dribbling_away_player_8'])\n",
    "        dribbling_away_players.append(df.loc[index,'dribbling_away_player_9'])\n",
    "        dribbling_away_players.append(df.loc[index,'dribbling_away_player_10'])\n",
    "        dribbling_away_players.append(df.loc[index,'dribbling_away_player_11'])\n",
    "\n",
    "        dribbling_matrix = []\n",
    "        for i in range(11):          \n",
    "            f =[]\n",
    "            for j in range(11):\n",
    "                f.append(dribbling_home_players[i]-dribbling_away_players[j])\n",
    "            dribbling_matrix.append(f)\n",
    "\n",
    "\n",
    "        free_kick_accuracy_home_players = []\n",
    "        free_kick_accuracy_home_players.append(df.loc[index,'free_kick_accuracy_home_player_1'])\n",
    "        free_kick_accuracy_home_players.append(df.loc[index,'free_kick_accuracy_home_player_2'])\n",
    "        free_kick_accuracy_home_players.append(df.loc[index,'free_kick_accuracy_home_player_3'])\n",
    "        free_kick_accuracy_home_players.append(df.loc[index,'free_kick_accuracy_home_player_4'])\n",
    "        free_kick_accuracy_home_players.append(df.loc[index,'free_kick_accuracy_home_player_5'])\n",
    "        free_kick_accuracy_home_players.append(df.loc[index,'free_kick_accuracy_home_player_6'])\n",
    "        free_kick_accuracy_home_players.append(df.loc[index,'free_kick_accuracy_home_player_7'])\n",
    "        free_kick_accuracy_home_players.append(df.loc[index,'free_kick_accuracy_home_player_8'])\n",
    "        free_kick_accuracy_home_players.append(df.loc[index,'free_kick_accuracy_home_player_9'])\n",
    "        free_kick_accuracy_home_players.append(df.loc[index,'free_kick_accuracy_home_player_10'])\n",
    "        free_kick_accuracy_home_players.append(df.loc[index,'free_kick_accuracy_home_player_11'])\n",
    "\n",
    "        free_kick_accuracy_away_players = []\n",
    "        free_kick_accuracy_away_players.append(df.loc[index,'free_kick_accuracy_away_player_1'])\n",
    "        free_kick_accuracy_away_players.append(df.loc[index,'free_kick_accuracy_away_player_2'])\n",
    "        free_kick_accuracy_away_players.append(df.loc[index,'free_kick_accuracy_away_player_3'])\n",
    "        free_kick_accuracy_away_players.append(df.loc[index,'free_kick_accuracy_away_player_4'])\n",
    "        free_kick_accuracy_away_players.append(df.loc[index,'free_kick_accuracy_away_player_5'])\n",
    "        free_kick_accuracy_away_players.append(df.loc[index,'free_kick_accuracy_away_player_6'])\n",
    "        free_kick_accuracy_away_players.append(df.loc[index,'free_kick_accuracy_away_player_7'])\n",
    "        free_kick_accuracy_away_players.append(df.loc[index,'free_kick_accuracy_away_player_8'])\n",
    "        free_kick_accuracy_away_players.append(df.loc[index,'free_kick_accuracy_away_player_9'])\n",
    "        free_kick_accuracy_away_players.append(df.loc[index,'free_kick_accuracy_away_player_10'])\n",
    "        free_kick_accuracy_away_players.append(df.loc[index,'free_kick_accuracy_away_player_11'])\n",
    "\n",
    "        free_kick_accuracy_matrix = []\n",
    "        for i in range(11):          \n",
    "            g =[]\n",
    "            for j in range(11):\n",
    "                g.append(free_kick_accuracy_home_players[i]-free_kick_accuracy_away_players[j])\n",
    "            free_kick_accuracy_matrix.append(g)\n",
    "\n",
    "        ball_control_home_players = []\n",
    "        ball_control_home_players.append(df.loc[index,'ball_control_home_player_1'])\n",
    "        ball_control_home_players.append(df.loc[index,'ball_control_home_player_2'])\n",
    "        ball_control_home_players.append(df.loc[index,'ball_control_home_player_3'])\n",
    "        ball_control_home_players.append(df.loc[index,'ball_control_home_player_4'])\n",
    "        ball_control_home_players.append(df.loc[index,'ball_control_home_player_5'])\n",
    "        ball_control_home_players.append(df.loc[index,'ball_control_home_player_6'])\n",
    "        ball_control_home_players.append(df.loc[index,'ball_control_home_player_7'])\n",
    "        ball_control_home_players.append(df.loc[index,'ball_control_home_player_8'])\n",
    "        ball_control_home_players.append(df.loc[index,'ball_control_home_player_9'])\n",
    "        ball_control_home_players.append(df.loc[index,'ball_control_home_player_10'])\n",
    "        ball_control_home_players.append(df.loc[index,'ball_control_home_player_11'])\n",
    "\n",
    "\n",
    "        ball_control_away_players = []\n",
    "        ball_control_away_players.append(df.loc[index,'ball_control_away_player_1'])\n",
    "        ball_control_away_players.append(df.loc[index,'ball_control_away_player_2'])\n",
    "        ball_control_away_players.append(df.loc[index,'ball_control_away_player_3'])\n",
    "        ball_control_away_players.append(df.loc[index,'ball_control_away_player_4'])\n",
    "        ball_control_away_players.append(df.loc[index,'ball_control_away_player_5'])\n",
    "        ball_control_away_players.append(df.loc[index,'ball_control_away_player_6'])\n",
    "        ball_control_away_players.append(df.loc[index,'ball_control_away_player_7'])\n",
    "        ball_control_away_players.append(df.loc[index,'ball_control_away_player_8'])\n",
    "        ball_control_away_players.append(df.loc[index,'ball_control_away_player_9'])\n",
    "        ball_control_away_players.append(df.loc[index,'ball_control_away_player_10'])\n",
    "        ball_control_away_players.append(df.loc[index,'ball_control_away_player_11'])\n",
    "\n",
    "\n",
    "        ball_control_matrix = []\n",
    "        for i in range(11):          \n",
    "            h =[]\n",
    "            for j in range(11):\n",
    "                h.append(ball_control_home_players[i]-ball_control_away_players[j])\n",
    "            ball_control_matrix.append(h)\n",
    "\n",
    "        sprint_speed_home_players = []\n",
    "        sprint_speed_home_players.append(df.loc[index,'sprint_speed_home_player_1'])\n",
    "        sprint_speed_home_players.append(df.loc[index,'sprint_speed_home_player_2'])\n",
    "        sprint_speed_home_players.append(df.loc[index,'sprint_speed_home_player_3'])\n",
    "        sprint_speed_home_players.append(df.loc[index,'sprint_speed_home_player_4'])\n",
    "        sprint_speed_home_players.append(df.loc[index,'sprint_speed_home_player_5'])\n",
    "        sprint_speed_home_players.append(df.loc[index,'sprint_speed_home_player_6'])\n",
    "        sprint_speed_home_players.append(df.loc[index,'sprint_speed_home_player_7'])\n",
    "        sprint_speed_home_players.append(df.loc[index,'sprint_speed_home_player_8'])\n",
    "        sprint_speed_home_players.append(df.loc[index,'sprint_speed_home_player_9'])\n",
    "        sprint_speed_home_players.append(df.loc[index,'sprint_speed_home_player_10'])\n",
    "        sprint_speed_home_players.append(df.loc[index,'sprint_speed_home_player_11'])\n",
    "\n",
    "\n",
    "        sprint_speed_away_players = []\n",
    "        sprint_speed_away_players.append(df.loc[index,'sprint_speed_away_player_1'])\n",
    "        sprint_speed_away_players.append(df.loc[index,'sprint_speed_away_player_2'])\n",
    "        sprint_speed_away_players.append(df.loc[index,'sprint_speed_away_player_3'])\n",
    "        sprint_speed_away_players.append(df.loc[index,'sprint_speed_away_player_4'])\n",
    "        sprint_speed_away_players.append(df.loc[index,'sprint_speed_away_player_5'])\n",
    "        sprint_speed_away_players.append(df.loc[index,'sprint_speed_away_player_6'])\n",
    "        sprint_speed_away_players.append(df.loc[index,'sprint_speed_away_player_7'])\n",
    "        sprint_speed_away_players.append(df.loc[index,'sprint_speed_away_player_8'])\n",
    "        sprint_speed_away_players.append(df.loc[index,'sprint_speed_away_player_9'])\n",
    "        sprint_speed_away_players.append(df.loc[index,'sprint_speed_away_player_10'])\n",
    "        sprint_speed_away_players.append(df.loc[index,'sprint_speed_away_player_11'])\n",
    "\n",
    "\n",
    "        sprint_speed_matrix = []\n",
    "        for i in range(11):          \n",
    "            k =[]\n",
    "            for j in range(11):\n",
    "                k.append(sprint_speed_home_players[i]-sprint_speed_away_players[j])\n",
    "            sprint_speed_matrix.append(k)\n",
    "\n",
    "        acceleration_home_players = []\n",
    "        acceleration_home_players.append(df.loc[index,'acceleration_home_player_1'])\n",
    "        acceleration_home_players.append(df.loc[index,'acceleration_home_player_2'])\n",
    "        acceleration_home_players.append(df.loc[index,'acceleration_home_player_3'])\n",
    "        acceleration_home_players.append(df.loc[index,'acceleration_home_player_4'])\n",
    "        acceleration_home_players.append(df.loc[index,'acceleration_home_player_5'])\n",
    "        acceleration_home_players.append(df.loc[index,'acceleration_home_player_6'])\n",
    "        acceleration_home_players.append(df.loc[index,'acceleration_home_player_7'])\n",
    "        acceleration_home_players.append(df.loc[index,'acceleration_home_player_8'])\n",
    "        acceleration_home_players.append(df.loc[index,'acceleration_home_player_9'])\n",
    "        acceleration_home_players.append(df.loc[index,'acceleration_home_player_10'])\n",
    "        acceleration_home_players.append(df.loc[index,'acceleration_home_player_11'])\n",
    "\n",
    "\n",
    "        acceleration_away_players = []\n",
    "        acceleration_away_players.append(df.loc[index,'acceleration_away_player_1'])\n",
    "        acceleration_away_players.append(df.loc[index,'acceleration_away_player_2'])\n",
    "        acceleration_away_players.append(df.loc[index,'acceleration_away_player_3'])\n",
    "        acceleration_away_players.append(df.loc[index,'acceleration_away_player_4'])\n",
    "        acceleration_away_players.append(df.loc[index,'acceleration_away_player_5'])\n",
    "        acceleration_away_players.append(df.loc[index,'acceleration_away_player_6'])\n",
    "        acceleration_away_players.append(df.loc[index,'acceleration_away_player_7'])\n",
    "        acceleration_away_players.append(df.loc[index,'acceleration_away_player_8'])\n",
    "        acceleration_away_players.append(df.loc[index,'acceleration_away_player_9'])\n",
    "        acceleration_away_players.append(df.loc[index,'acceleration_away_player_10'])\n",
    "        acceleration_away_players.append(df.loc[index,'acceleration_away_player_11'])\n",
    "\n",
    "\n",
    "        acceleration_matrix = []\n",
    "        for i in range(11):          \n",
    "            k =[]\n",
    "            for j in range(11):\n",
    "                k.append(acceleration_home_players[i]-acceleration_away_players[j])\n",
    "            acceleration_matrix.append(k)\n",
    "\n",
    "        strength_home_players = []\n",
    "        strength_home_players.append(df.loc[index,'strength_home_player_1'])\n",
    "        strength_home_players.append(df.loc[index,'strength_home_player_2'])\n",
    "        strength_home_players.append(df.loc[index,'strength_home_player_3'])\n",
    "        strength_home_players.append(df.loc[index,'strength_home_player_4'])\n",
    "        strength_home_players.append(df.loc[index,'strength_home_player_5'])\n",
    "        strength_home_players.append(df.loc[index,'strength_home_player_6'])\n",
    "        strength_home_players.append(df.loc[index,'strength_home_player_7'])\n",
    "        strength_home_players.append(df.loc[index,'strength_home_player_8'])\n",
    "        strength_home_players.append(df.loc[index,'strength_home_player_9'])\n",
    "        strength_home_players.append(df.loc[index,'strength_home_player_10'])\n",
    "        strength_home_players.append(df.loc[index,'strength_home_player_11'])\n",
    "\n",
    "\n",
    "        strength_away_players = []\n",
    "        strength_away_players.append(df.loc[index,'strength_away_player_1'])\n",
    "        strength_away_players.append(df.loc[index,'strength_away_player_2'])\n",
    "        strength_away_players.append(df.loc[index,'strength_away_player_3'])\n",
    "        strength_away_players.append(df.loc[index,'strength_away_player_4'])\n",
    "        strength_away_players.append(df.loc[index,'strength_away_player_5'])\n",
    "        strength_away_players.append(df.loc[index,'strength_away_player_6'])\n",
    "        strength_away_players.append(df.loc[index,'strength_away_player_7'])\n",
    "        strength_away_players.append(df.loc[index,'strength_away_player_8'])\n",
    "        strength_away_players.append(df.loc[index,'strength_away_player_9'])\n",
    "        strength_away_players.append(df.loc[index,'strength_away_player_10'])\n",
    "        strength_away_players.append(df.loc[index,'strength_away_player_11'])\n",
    "\n",
    "\n",
    "        strength_matrix = []\n",
    "        for i in range(11):          \n",
    "            k =[]\n",
    "            for j in range(11):\n",
    "                k.append(strength_home_players[i]-strength_away_players[j])\n",
    "            strength_matrix.append(k)\n",
    "\n",
    "        long_shots_home_players = []\n",
    "        long_shots_home_players.append(df.loc[index,'long_shots_home_player_1'])\n",
    "        long_shots_home_players.append(df.loc[index,'long_shots_home_player_2'])\n",
    "        long_shots_home_players.append(df.loc[index,'long_shots_home_player_3'])\n",
    "        long_shots_home_players.append(df.loc[index,'long_shots_home_player_4'])\n",
    "        long_shots_home_players.append(df.loc[index,'long_shots_home_player_5'])\n",
    "        long_shots_home_players.append(df.loc[index,'long_shots_home_player_6'])\n",
    "        long_shots_home_players.append(df.loc[index,'long_shots_home_player_7'])\n",
    "        long_shots_home_players.append(df.loc[index,'long_shots_home_player_8'])\n",
    "        long_shots_home_players.append(df.loc[index,'long_shots_home_player_9'])\n",
    "        long_shots_home_players.append(df.loc[index,'long_shots_home_player_10'])\n",
    "        long_shots_home_players.append(df.loc[index,'long_shots_home_player_11'])\n",
    "\n",
    "\n",
    "        long_shots_away_players = []\n",
    "        long_shots_away_players.append(df.loc[index,'long_shots_away_player_1'])\n",
    "        long_shots_away_players.append(df.loc[index,'long_shots_away_player_2'])\n",
    "        long_shots_away_players.append(df.loc[index,'long_shots_away_player_3'])\n",
    "        long_shots_away_players.append(df.loc[index,'long_shots_away_player_4'])\n",
    "        long_shots_away_players.append(df.loc[index,'long_shots_away_player_5'])\n",
    "        long_shots_away_players.append(df.loc[index,'long_shots_away_player_6'])\n",
    "        long_shots_away_players.append(df.loc[index,'long_shots_away_player_7'])\n",
    "        long_shots_away_players.append(df.loc[index,'long_shots_away_player_8'])\n",
    "        long_shots_away_players.append(df.loc[index,'long_shots_away_player_9'])\n",
    "        long_shots_away_players.append(df.loc[index,'long_shots_away_player_10'])\n",
    "        long_shots_away_players.append(df.loc[index,'long_shots_away_player_11'])\n",
    "\n",
    "\n",
    "        long_shots_matrix = []\n",
    "        for i in range(11):          \n",
    "            k =[]\n",
    "            for j in range(11):\n",
    "                k.append(long_shots_home_players[i]-long_shots_away_players[j])\n",
    "            long_shots_matrix.append(k)\n",
    "\n",
    "\n",
    "        aggression_home_players = []\n",
    "        aggression_home_players.append(df.loc[index,'aggression_home_player_1'])\n",
    "        aggression_home_players.append(df.loc[index,'aggression_home_player_2'])\n",
    "        aggression_home_players.append(df.loc[index,'aggression_home_player_3'])\n",
    "        aggression_home_players.append(df.loc[index,'aggression_home_player_4'])\n",
    "        aggression_home_players.append(df.loc[index,'aggression_home_player_5'])\n",
    "        aggression_home_players.append(df.loc[index,'aggression_home_player_6'])\n",
    "        aggression_home_players.append(df.loc[index,'aggression_home_player_7'])\n",
    "        aggression_home_players.append(df.loc[index,'aggression_home_player_8'])\n",
    "        aggression_home_players.append(df.loc[index,'aggression_home_player_9'])\n",
    "        aggression_home_players.append(df.loc[index,'aggression_home_player_10'])\n",
    "        aggression_home_players.append(df.loc[index,'aggression_home_player_11'])\n",
    "\n",
    "\n",
    "        aggression_away_players = []\n",
    "        aggression_away_players.append(df.loc[index,'aggression_away_player_1'])\n",
    "        aggression_away_players.append(df.loc[index,'aggression_away_player_2'])\n",
    "        aggression_away_players.append(df.loc[index,'aggression_away_player_3'])\n",
    "        aggression_away_players.append(df.loc[index,'aggression_away_player_4'])\n",
    "        aggression_away_players.append(df.loc[index,'aggression_away_player_5'])\n",
    "        aggression_away_players.append(df.loc[index,'aggression_away_player_6'])\n",
    "        aggression_away_players.append(df.loc[index,'aggression_away_player_7'])\n",
    "        aggression_away_players.append(df.loc[index,'aggression_away_player_8'])\n",
    "        aggression_away_players.append(df.loc[index,'aggression_away_player_9'])\n",
    "        aggression_away_players.append(df.loc[index,'aggression_away_player_10'])\n",
    "        aggression_away_players.append(df.loc[index,'aggression_away_player_11'])\n",
    "\n",
    "\n",
    "        aggression_matrix = []\n",
    "        for i in range(11):          \n",
    "            k =[]\n",
    "            for j in range(11):\n",
    "                k.append(aggression_home_players[i]-aggression_away_players[j])\n",
    "            aggression_matrix.append(k)\n",
    "\n",
    "\n",
    "        positioning_home_players = []\n",
    "        positioning_home_players.append(df.loc[index,'positioning_home_player_1'])\n",
    "        positioning_home_players.append(df.loc[index,'positioning_home_player_2'])\n",
    "        positioning_home_players.append(df.loc[index,'positioning_home_player_3'])\n",
    "        positioning_home_players.append(df.loc[index,'positioning_home_player_4'])\n",
    "        positioning_home_players.append(df.loc[index,'positioning_home_player_5'])\n",
    "        positioning_home_players.append(df.loc[index,'positioning_home_player_6'])\n",
    "        positioning_home_players.append(df.loc[index,'positioning_home_player_7'])\n",
    "        positioning_home_players.append(df.loc[index,'positioning_home_player_8'])\n",
    "        positioning_home_players.append(df.loc[index,'positioning_home_player_9'])\n",
    "        positioning_home_players.append(df.loc[index,'positioning_home_player_10'])\n",
    "        positioning_home_players.append(df.loc[index,'positioning_home_player_11'])\n",
    "\n",
    "\n",
    "        positioning_away_players = []\n",
    "        positioning_away_players.append(df.loc[index,'positioning_away_player_1'])\n",
    "        positioning_away_players.append(df.loc[index,'positioning_away_player_2'])\n",
    "        positioning_away_players.append(df.loc[index,'positioning_away_player_3'])\n",
    "        positioning_away_players.append(df.loc[index,'positioning_away_player_4'])\n",
    "        positioning_away_players.append(df.loc[index,'positioning_away_player_5'])\n",
    "        positioning_away_players.append(df.loc[index,'positioning_away_player_6'])\n",
    "        positioning_away_players.append(df.loc[index,'positioning_away_player_7'])\n",
    "        positioning_away_players.append(df.loc[index,'positioning_away_player_8'])\n",
    "        positioning_away_players.append(df.loc[index,'positioning_away_player_9'])\n",
    "        positioning_away_players.append(df.loc[index,'positioning_away_player_10'])\n",
    "        positioning_away_players.append(df.loc[index,'positioning_away_player_11'])\n",
    "\n",
    "\n",
    "        positioning_matrix = []\n",
    "        for i in range(11):          \n",
    "            k =[]\n",
    "            for j in range(11):\n",
    "                k.append(positioning_home_players[i]-positioning_away_players[j])\n",
    "            positioning_matrix.append(k)\n",
    "\n",
    "        interceptions_home_players = []\n",
    "        interceptions_home_players.append(df.loc[index,'interceptions_home_player_1'])\n",
    "        interceptions_home_players.append(df.loc[index,'interceptions_home_player_2'])\n",
    "        interceptions_home_players.append(df.loc[index,'interceptions_home_player_3'])\n",
    "        interceptions_home_players.append(df.loc[index,'interceptions_home_player_4'])\n",
    "        interceptions_home_players.append(df.loc[index,'interceptions_home_player_5'])\n",
    "        interceptions_home_players.append(df.loc[index,'interceptions_home_player_6'])\n",
    "        interceptions_home_players.append(df.loc[index,'interceptions_home_player_7'])\n",
    "        interceptions_home_players.append(df.loc[index,'interceptions_home_player_8'])\n",
    "        interceptions_home_players.append(df.loc[index,'interceptions_home_player_9'])\n",
    "        interceptions_home_players.append(df.loc[index,'interceptions_home_player_10'])\n",
    "        interceptions_home_players.append(df.loc[index,'interceptions_home_player_11'])\n",
    "\n",
    "\n",
    "        interceptions_away_players = []\n",
    "        interceptions_away_players.append(df.loc[index,'interceptions_away_player_1'])\n",
    "        interceptions_away_players.append(df.loc[index,'interceptions_away_player_2'])\n",
    "        interceptions_away_players.append(df.loc[index,'interceptions_away_player_3'])\n",
    "        interceptions_away_players.append(df.loc[index,'interceptions_away_player_4'])\n",
    "        interceptions_away_players.append(df.loc[index,'interceptions_away_player_5'])\n",
    "        interceptions_away_players.append(df.loc[index,'interceptions_away_player_6'])\n",
    "        interceptions_away_players.append(df.loc[index,'interceptions_away_player_7'])\n",
    "        interceptions_away_players.append(df.loc[index,'interceptions_away_player_8'])\n",
    "        interceptions_away_players.append(df.loc[index,'interceptions_away_player_9'])\n",
    "        interceptions_away_players.append(df.loc[index,'interceptions_away_player_10'])\n",
    "        interceptions_away_players.append(df.loc[index,'interceptions_away_player_11'])\n",
    "\n",
    "\n",
    "        interceptions_matrix = []\n",
    "        for i in range(11):          \n",
    "            k =[]\n",
    "            for j in range(11):\n",
    "                k.append(interceptions_home_players[i]-interceptions_away_players[j])\n",
    "            interceptions_matrix.append(k)\n",
    "\n",
    "        penalties_home_players = []\n",
    "        penalties_home_players.append(df.loc[index,'penalties_home_player_1'])\n",
    "        penalties_home_players.append(df.loc[index,'penalties_home_player_2'])\n",
    "        penalties_home_players.append(df.loc[index,'penalties_home_player_3'])\n",
    "        penalties_home_players.append(df.loc[index,'penalties_home_player_4'])\n",
    "        penalties_home_players.append(df.loc[index,'penalties_home_player_5'])\n",
    "        penalties_home_players.append(df.loc[index,'penalties_home_player_6'])\n",
    "        penalties_home_players.append(df.loc[index,'penalties_home_player_7'])\n",
    "        penalties_home_players.append(df.loc[index,'penalties_home_player_8'])\n",
    "        penalties_home_players.append(df.loc[index,'penalties_home_player_9'])\n",
    "        penalties_home_players.append(df.loc[index,'penalties_home_player_10'])\n",
    "        penalties_home_players.append(df.loc[index,'penalties_home_player_11'])\n",
    "\n",
    "\n",
    "        penalties_away_players = []\n",
    "        penalties_away_players.append(df.loc[index,'penalties_away_player_1'])\n",
    "        penalties_away_players.append(df.loc[index,'penalties_away_player_2'])\n",
    "        penalties_away_players.append(df.loc[index,'penalties_away_player_3'])\n",
    "        penalties_away_players.append(df.loc[index,'penalties_away_player_4'])\n",
    "        penalties_away_players.append(df.loc[index,'penalties_away_player_5'])\n",
    "        penalties_away_players.append(df.loc[index,'penalties_away_player_6'])\n",
    "        penalties_away_players.append(df.loc[index,'penalties_away_player_7'])\n",
    "        penalties_away_players.append(df.loc[index,'penalties_away_player_8'])\n",
    "        penalties_away_players.append(df.loc[index,'penalties_away_player_9'])\n",
    "        penalties_away_players.append(df.loc[index,'penalties_away_player_10'])\n",
    "        penalties_away_players.append(df.loc[index,'penalties_away_player_11'])\n",
    "\n",
    "\n",
    "        penalties_matrix = []\n",
    "        for i in range(11):          \n",
    "            k =[]\n",
    "            for j in range(11):\n",
    "                k.append(penalties_home_players[i]-penalties_away_players[j])\n",
    "            penalties_matrix.append(k)\n",
    "\n",
    "        marking_home_players = []\n",
    "        marking_home_players.append(df.loc[index,'marking_home_player_1'])\n",
    "        marking_home_players.append(df.loc[index,'marking_home_player_2'])\n",
    "        marking_home_players.append(df.loc[index,'marking_home_player_3'])\n",
    "        marking_home_players.append(df.loc[index,'marking_home_player_4'])\n",
    "        marking_home_players.append(df.loc[index,'marking_home_player_5'])\n",
    "        marking_home_players.append(df.loc[index,'marking_home_player_6'])\n",
    "        marking_home_players.append(df.loc[index,'marking_home_player_7'])\n",
    "        marking_home_players.append(df.loc[index,'marking_home_player_8'])\n",
    "        marking_home_players.append(df.loc[index,'marking_home_player_9'])\n",
    "        marking_home_players.append(df.loc[index,'marking_home_player_10'])\n",
    "        marking_home_players.append(df.loc[index,'marking_home_player_11'])\n",
    "\n",
    "\n",
    "        marking_away_players = []\n",
    "        marking_away_players.append(df.loc[index,'marking_away_player_1'])\n",
    "        marking_away_players.append(df.loc[index,'marking_away_player_2'])\n",
    "        marking_away_players.append(df.loc[index,'marking_away_player_3'])\n",
    "        marking_away_players.append(df.loc[index,'marking_away_player_4'])\n",
    "        marking_away_players.append(df.loc[index,'marking_away_player_5'])\n",
    "        marking_away_players.append(df.loc[index,'marking_away_player_6'])\n",
    "        marking_away_players.append(df.loc[index,'marking_away_player_7'])\n",
    "        marking_away_players.append(df.loc[index,'marking_away_player_8'])\n",
    "        marking_away_players.append(df.loc[index,'marking_away_player_9'])\n",
    "        marking_away_players.append(df.loc[index,'marking_away_player_10'])\n",
    "        marking_away_players.append(df.loc[index,'marking_away_player_11'])\n",
    "\n",
    "\n",
    "        marking_matrix = []\n",
    "        for i in range(11):          \n",
    "            k =[]\n",
    "            for j in range(11):\n",
    "                k.append(marking_home_players[i]-marking_away_players[j])\n",
    "            marking_matrix.append(k)\n",
    "\n",
    "\n",
    "        stamina_home_players = []\n",
    "        stamina_home_players.append(df.loc[index,'stamina_home_player_1'])\n",
    "        stamina_home_players.append(df.loc[index,'stamina_home_player_2'])\n",
    "        stamina_home_players.append(df.loc[index,'stamina_home_player_3'])\n",
    "        stamina_home_players.append(df.loc[index,'stamina_home_player_4'])\n",
    "        stamina_home_players.append(df.loc[index,'stamina_home_player_5'])\n",
    "        stamina_home_players.append(df.loc[index,'stamina_home_player_6'])\n",
    "        stamina_home_players.append(df.loc[index,'stamina_home_player_7'])\n",
    "        stamina_home_players.append(df.loc[index,'stamina_home_player_8'])\n",
    "        stamina_home_players.append(df.loc[index,'stamina_home_player_9'])\n",
    "        stamina_home_players.append(df.loc[index,'stamina_home_player_10'])\n",
    "        stamina_home_players.append(df.loc[index,'stamina_home_player_11'])\n",
    "\n",
    "\n",
    "        stamina_away_players = []\n",
    "        stamina_away_players.append(df.loc[index,'stamina_away_player_1'])\n",
    "        stamina_away_players.append(df.loc[index,'stamina_away_player_2'])\n",
    "        stamina_away_players.append(df.loc[index,'stamina_away_player_3'])\n",
    "        stamina_away_players.append(df.loc[index,'stamina_away_player_4'])\n",
    "        stamina_away_players.append(df.loc[index,'stamina_away_player_5'])\n",
    "        stamina_away_players.append(df.loc[index,'stamina_away_player_6'])\n",
    "        stamina_away_players.append(df.loc[index,'stamina_away_player_7'])\n",
    "        stamina_away_players.append(df.loc[index,'stamina_away_player_8'])\n",
    "        stamina_away_players.append(df.loc[index,'stamina_away_player_9'])\n",
    "        stamina_away_players.append(df.loc[index,'stamina_away_player_10'])\n",
    "        stamina_away_players.append(df.loc[index,'stamina_away_player_11'])\n",
    "\n",
    "\n",
    "        stamina_matrix = []\n",
    "        for i in range(11):          \n",
    "            k =[]\n",
    "            for j in range(11):\n",
    "                k.append(stamina_home_players[i]-stamina_away_players[j])\n",
    "            stamina_matrix.append(k)\n",
    "\n",
    "\n",
    "        shot_power_home_players = []\n",
    "        shot_power_home_players.append(df.loc[index,'shot_power_home_player_1'])\n",
    "        shot_power_home_players.append(df.loc[index,'shot_power_home_player_2'])\n",
    "        shot_power_home_players.append(df.loc[index,'shot_power_home_player_3'])\n",
    "        shot_power_home_players.append(df.loc[index,'shot_power_home_player_4'])\n",
    "        shot_power_home_players.append(df.loc[index,'shot_power_home_player_5'])\n",
    "        shot_power_home_players.append(df.loc[index,'shot_power_home_player_6'])\n",
    "        shot_power_home_players.append(df.loc[index,'shot_power_home_player_7'])\n",
    "        shot_power_home_players.append(df.loc[index,'shot_power_home_player_8'])\n",
    "        shot_power_home_players.append(df.loc[index,'shot_power_home_player_9'])\n",
    "        shot_power_home_players.append(df.loc[index,'shot_power_home_player_10'])\n",
    "        shot_power_home_players.append(df.loc[index,'shot_power_home_player_11'])\n",
    "\n",
    "\n",
    "        shot_power_away_players = []\n",
    "        shot_power_away_players.append(df.loc[index,'shot_power_away_player_1'])\n",
    "        shot_power_away_players.append(df.loc[index,'shot_power_away_player_2'])\n",
    "        shot_power_away_players.append(df.loc[index,'shot_power_away_player_3'])\n",
    "        shot_power_away_players.append(df.loc[index,'shot_power_away_player_4'])\n",
    "        shot_power_away_players.append(df.loc[index,'shot_power_away_player_5'])\n",
    "        shot_power_away_players.append(df.loc[index,'shot_power_away_player_6'])\n",
    "        shot_power_away_players.append(df.loc[index,'shot_power_away_player_7'])\n",
    "        shot_power_away_players.append(df.loc[index,'shot_power_away_player_8'])\n",
    "        shot_power_away_players.append(df.loc[index,'shot_power_away_player_9'])\n",
    "        shot_power_away_players.append(df.loc[index,'shot_power_away_player_10'])\n",
    "        shot_power_away_players.append(df.loc[index,'shot_power_away_player_11'])\n",
    "\n",
    "\n",
    "        shot_power_matrix = []\n",
    "        for i in range(11):          \n",
    "            k =[]\n",
    "            for j in range(11):\n",
    "                k.append(shot_power_home_players[i]-shot_power_away_players[j])\n",
    "            shot_power_matrix.append(k)\n",
    "\n",
    "        player_attributes_3D = []\n",
    "        player_attributes_3D.append(overall_rating_matrix)\n",
    "        player_attributes_3D.append(potential_matrix)\n",
    "        player_attributes_3D.append(crossing_matrix)\n",
    "        player_attributes_3D.append(finishing_matrix)\n",
    "        player_attributes_3D.append(heading_accuracy_matrix)\n",
    "        player_attributes_3D.append(dribbling_matrix)\n",
    "        player_attributes_3D.append(free_kick_accuracy_matrix)\n",
    "        player_attributes_3D.append(ball_control_matrix)\n",
    "        player_attributes_3D.append(sprint_speed_matrix)\n",
    "        player_attributes_3D.append(acceleration_matrix)\n",
    "        player_attributes_3D.append(strength_matrix)\n",
    "        player_attributes_3D.append(long_shots_matrix)\n",
    "        player_attributes_3D.append(aggression_matrix)\n",
    "        player_attributes_3D.append(positioning_matrix)\n",
    "        player_attributes_3D.append(interceptions_matrix)\n",
    "        player_attributes_3D.append(penalties_matrix)\n",
    "        player_attributes_3D.append(marking_matrix)\n",
    "        player_attributes_3D.append(stamina_matrix)\n",
    "        player_attributes_3D.append(shot_power_matrix)\n",
    "\n",
    "        data.append(player_attributes_3D)\n"
   ]
  },
  {
   "cell_type": "code",
   "execution_count": 8,
   "metadata": {},
   "outputs": [],
   "source": [
    "X = df.drop(['result','date', 'home_team_goal','away_team_goal'], axis=1)\n",
    "y = df[['result']]\n",
    "RANDOM_SEED =42\n",
    "np.random.seed(RANDOM_SEED)\n",
    "torch.manual_seed(RANDOM_SEED)\n",
    "\n",
    "X_train, X_test, y_train, y_test =\\\n",
    "    train_test_split(X, y, test_size=0.2, random_state=RANDOM_SEED)"
   ]
  },
  {
   "cell_type": "code",
   "execution_count": 9,
   "metadata": {},
   "outputs": [
    {
     "data": {
      "text/plain": [
       "2.0    0.458637\n",
       "0.0    0.290715\n",
       "1.0    0.250647\n",
       "Name: result, dtype: float64"
      ]
     },
     "execution_count": 9,
     "metadata": {},
     "output_type": "execute_result"
    }
   ],
   "source": [
    "y_train.result.value_counts()/y_train.shape[0]"
   ]
  },
  {
   "cell_type": "code",
   "execution_count": 10,
   "metadata": {},
   "outputs": [
    {
     "data": {
      "text/plain": [
       "2.0    7795\n",
       "0.0    4941\n",
       "1.0    4260\n",
       "Name: result, dtype: int64"
      ]
     },
     "execution_count": 10,
     "metadata": {},
     "output_type": "execute_result"
    }
   ],
   "source": [
    "y_train.result.value_counts()"
   ]
  },
  {
   "cell_type": "code",
   "execution_count": 11,
   "metadata": {},
   "outputs": [
    {
     "name": "stderr",
     "output_type": "stream",
     "text": [
      "16996it [06:16, 45.11it/s]\n"
     ]
    }
   ],
   "source": [
    "data = []\n",
    "playerfunction( X_train )\n",
    "player_train_data = data\n",
    "Player_Train = torch.Tensor(np.array(player_train_data))"
   ]
  },
  {
   "cell_type": "code",
   "execution_count": 12,
   "metadata": {},
   "outputs": [
    {
     "data": {
      "text/plain": [
       "'torch.FloatTensor'"
      ]
     },
     "execution_count": 12,
     "metadata": {},
     "output_type": "execute_result"
    }
   ],
   "source": [
    "Player_Train.type()"
   ]
  },
  {
   "cell_type": "code",
   "execution_count": 13,
   "metadata": {},
   "outputs": [
    {
     "data": {
      "text/plain": [
       "torch.Size([16996, 19, 11, 11])"
      ]
     },
     "execution_count": 13,
     "metadata": {},
     "output_type": "execute_result"
    }
   ],
   "source": [
    "Player_Train.size()"
   ]
  },
  {
   "cell_type": "code",
   "execution_count": 14,
   "metadata": {},
   "outputs": [
    {
     "name": "stderr",
     "output_type": "stream",
     "text": [
      "4250it [01:31, 46.63it/s]\n"
     ]
    }
   ],
   "source": [
    "data = []\n",
    "playerfunction( X_test )\n",
    "player_test_data = data\n",
    "Player_Test = torch.Tensor(np.array(player_test_data))"
   ]
  },
  {
   "cell_type": "code",
   "execution_count": 15,
   "metadata": {},
   "outputs": [
    {
     "data": {
      "text/plain": [
       "'torch.FloatTensor'"
      ]
     },
     "execution_count": 15,
     "metadata": {},
     "output_type": "execute_result"
    }
   ],
   "source": [
    "Player_Test.type()"
   ]
  },
  {
   "cell_type": "code",
   "execution_count": 16,
   "metadata": {},
   "outputs": [
    {
     "data": {
      "text/plain": [
       "torch.Size([4250, 19, 11, 11])"
      ]
     },
     "execution_count": 16,
     "metadata": {},
     "output_type": "execute_result"
    }
   ],
   "source": [
    "Player_Test.size()"
   ]
  },
  {
   "cell_type": "code",
   "execution_count": 17,
   "metadata": {},
   "outputs": [],
   "source": [
    "y_train = torch.LongTensor(np.array(y_train))"
   ]
  },
  {
   "cell_type": "code",
   "execution_count": 18,
   "metadata": {},
   "outputs": [],
   "source": [
    "y_train = torch.squeeze(y_train)"
   ]
  },
  {
   "cell_type": "code",
   "execution_count": 19,
   "metadata": {},
   "outputs": [
    {
     "data": {
      "text/plain": [
       "'torch.LongTensor'"
      ]
     },
     "execution_count": 19,
     "metadata": {},
     "output_type": "execute_result"
    }
   ],
   "source": [
    "y_train.type()"
   ]
  },
  {
   "cell_type": "code",
   "execution_count": 20,
   "metadata": {},
   "outputs": [
    {
     "data": {
      "text/plain": [
       "torch.Size([16996])"
      ]
     },
     "execution_count": 20,
     "metadata": {},
     "output_type": "execute_result"
    }
   ],
   "source": [
    "y_train.size()"
   ]
  },
  {
   "cell_type": "code",
   "execution_count": 21,
   "metadata": {},
   "outputs": [],
   "source": [
    "y_test = torch.squeeze(torch.LongTensor(np.array(y_test)))"
   ]
  },
  {
   "cell_type": "code",
   "execution_count": 22,
   "metadata": {},
   "outputs": [
    {
     "data": {
      "text/plain": [
       "torch.Size([4250])"
      ]
     },
     "execution_count": 22,
     "metadata": {},
     "output_type": "execute_result"
    }
   ],
   "source": [
    "y_test.size()"
   ]
  },
  {
   "cell_type": "code",
   "execution_count": 23,
   "metadata": {},
   "outputs": [
    {
     "data": {
      "text/plain": [
       "'torch.LongTensor'"
      ]
     },
     "execution_count": 23,
     "metadata": {},
     "output_type": "execute_result"
    }
   ],
   "source": [
    "y_test.type()"
   ]
  },
  {
   "cell_type": "code",
   "execution_count": 30,
   "metadata": {},
   "outputs": [],
   "source": [
    "import torch\n",
    "from torch import nn\n",
    "from torch import optim\n",
    "import torch.nn.functional as F\n",
    "\n",
    "class Network(nn.Module):\n",
    "\n",
    "    def __init__(self):\n",
    "        super(Network, self).__init__()\n",
    "        # Convolutional Neural Network Layer \n",
    "        self.convolutaional_neural_network_layers = nn.Sequential(\n",
    "                # Here we are defining our 2D convolutional layers\n",
    "                # We can calculate the output size of each convolutional layer using the following formular\n",
    "                # outputOfEachConvLayer = [(in_channel + 2*padding - kernel_size) / stride] + 1\n",
    "                # We have in_channels=19 because our input is a 19 layer #D matrix\n",
    "                nn.Conv2d(in_channels=19, out_channels=64, kernel_size=1, stride=1), # (N, 19, 11, 11) \n",
    "                nn.ReLU(),\n",
    "                nn.BatchNorm2d(64), \n",
    "                # After the first convolutional layer the output of this layer is:\n",
    "                # [(11 + 2*0 - 1)/1] + 1 = 11.  \n",
    "          \n",
    "                # output of our second conv layer\n",
    "                nn.Conv2d(in_channels=64, out_channels=64, kernel_size=1, stride=1),\n",
    "                nn.ReLU(),\n",
    "                nn.BatchNorm2d(64),\n",
    "                # After the second convolutional layer the output of this layer is:\n",
    "                # [(11 + 2*0 - 1)/1] + 1 = 11.\n",
    "                \n",
    "                # output of our third conv layer\n",
    "                nn.Conv2d(in_channels=64, out_channels=64, kernel_size=1, stride=1),\n",
    "                nn.ReLU(),\n",
    "                nn.BatchNorm2d(64),\n",
    "                # After the second convolutional layer the output of this layer is:\n",
    "                # [(11 + 2*0 - 1)/1] + 1 = 11.\n",
    "            \n",
    "                #Average pooling layer\n",
    "                nn.AvgPool2d(11, stride=1) \n",
    "                #(N, 64, 11, 11) --> (N, 64, 1, 1)\n",
    "            \n",
    "        )\n",
    "\n",
    "        # Linear layer\n",
    "        self.linear_layers = nn.Sequential(\n",
    "                # We have the output_channel=64 of our second conv layer\n",
    "                nn.Linear(in_features=64, out_features=64),          \n",
    "                nn.ReLU(),\n",
    "                #apply dropout 0.2 \n",
    "                nn.Dropout(p=0.2),\n",
    "                nn.Linear(in_features=64, out_features=64),          \n",
    "                nn.ReLU(),\n",
    "                nn.Linear(in_features=64, out_features=64),          \n",
    "                nn.ReLU(),\n",
    "                nn.Linear(in_features=64, out_features=3)\n",
    "        )\n",
    "\n",
    "    # Defining the forward pass \n",
    "    def forward(self, x):\n",
    "        x = self.convolutaional_neural_network_layers(x)\n",
    "        # After we get the output of our convolutional layer we must flatten it or rearrange the output into a vector\n",
    "        x = x.view(x.size(0), -1)\n",
    "        # Then pass it through the linear layer\n",
    "        x = self.linear_layers(x)\n",
    "        return x"
   ]
  },
  {
   "cell_type": "code",
   "execution_count": 31,
   "metadata": {},
   "outputs": [],
   "source": [
    "#Doing it on GPU\n",
    "device = torch.device(\"cuda:0\" if torch.cuda.is_available() else \"cpu\")\n",
    "\n",
    "model = Network()\n",
    "model.to(device)\n",
    "\n",
    "Player_Train = Player_Train.to(device)\n",
    "Player_Test = Player_Test.to(device)\n",
    "\n",
    "y_train = y_train.to(device)\n",
    "y_test = y_test.to(device)\n"
   ]
  },
  {
   "cell_type": "code",
   "execution_count": 32,
   "metadata": {},
   "outputs": [],
   "source": [
    "import torch.utils.data as data_utils\n",
    "\n",
    "train = data_utils.TensorDataset(Player_Train, y_train)\n",
    "train_loader = data_utils.DataLoader(train, batch_size=128, shuffle=True)\n",
    "\n",
    "test = data_utils.TensorDataset(Player_Test, y_test)\n",
    "test_loader = data_utils.DataLoader(test, batch_size=128, shuffle=True)"
   ]
  },
  {
   "cell_type": "code",
   "execution_count": 33,
   "metadata": {},
   "outputs": [],
   "source": [
    "optimizer = optim.SGD(model.parameters(), lr=0.001)\n",
    "weights = [1/4941, 1/4260, 1/7795 ]\n",
    "class_weights = torch.FloatTensor(weights)\n",
    "criterion = nn.CrossEntropyLoss(weight=class_weights)"
   ]
  },
  {
   "cell_type": "code",
   "execution_count": 34,
   "metadata": {},
   "outputs": [
    {
     "name": "stdout",
     "output_type": "stream",
     "text": [
      "Epoch: 0/200   Training loss: 1.1036   Testing loss: 1.1022   Train accuracy: 0.2506   Test accuracy: 0.2593   Train F1 Score: 0.1005   Test F1 Score: 0.1068  \n",
      "Epoch: 1/200   Training loss: 1.1030   Testing loss: 1.1012   Train accuracy: 0.2506   Test accuracy: 0.2593   Train F1 Score: 0.1005   Test F1 Score: 0.1068  \n",
      "Epoch: 2/200   Training loss: 1.1024   Testing loss: 1.1015   Train accuracy: 0.2506   Test accuracy: 0.2593   Train F1 Score: 0.1005   Test F1 Score: 0.1068  \n",
      "Epoch: 3/200   Training loss: 1.1019   Testing loss: 1.1009   Train accuracy: 0.2506   Test accuracy: 0.2593   Train F1 Score: 0.1005   Test F1 Score: 0.1068  \n",
      "Epoch: 4/200   Training loss: 1.1014   Testing loss: 1.1003   Train accuracy: 0.2506   Test accuracy: 0.2593   Train F1 Score: 0.1005   Test F1 Score: 0.1068  \n",
      "Epoch: 5/200   Training loss: 1.1011   Testing loss: 1.1003   Train accuracy: 0.2506   Test accuracy: 0.2593   Train F1 Score: 0.1005   Test F1 Score: 0.1068  \n",
      "Epoch: 6/200   Training loss: 1.1007   Testing loss: 1.1002   Train accuracy: 0.2506   Test accuracy: 0.2593   Train F1 Score: 0.1005   Test F1 Score: 0.1068  \n",
      "Epoch: 7/200   Training loss: 1.1005   Testing loss: 1.0998   Train accuracy: 0.2506   Test accuracy: 0.2593   Train F1 Score: 0.1005   Test F1 Score: 0.1068  \n",
      "Epoch: 8/200   Training loss: 1.1001   Testing loss: 1.0992   Train accuracy: 0.2506   Test accuracy: 0.2593   Train F1 Score: 0.1005   Test F1 Score: 0.1068  \n",
      "Epoch: 9/200   Training loss: 1.0999   Testing loss: 1.0990   Train accuracy: 0.2506   Test accuracy: 0.2593   Train F1 Score: 0.1005   Test F1 Score: 0.1068  \n",
      "Epoch: 10/200   Training loss: 1.0997   Testing loss: 1.0988   Train accuracy: 0.2506   Test accuracy: 0.2593   Train F1 Score: 0.1005   Test F1 Score: 0.1068  \n",
      "Epoch: 11/200   Training loss: 1.0995   Testing loss: 1.0988   Train accuracy: 0.2506   Test accuracy: 0.2593   Train F1 Score: 0.1005   Test F1 Score: 0.1068  \n",
      "Epoch: 12/200   Training loss: 1.0993   Testing loss: 1.0987   Train accuracy: 0.2506   Test accuracy: 0.2593   Train F1 Score: 0.1005   Test F1 Score: 0.1068  \n",
      "Epoch: 13/200   Training loss: 1.0992   Testing loss: 1.0982   Train accuracy: 0.2506   Test accuracy: 0.2593   Train F1 Score: 0.1005   Test F1 Score: 0.1068  \n",
      "Epoch: 14/200   Training loss: 1.0990   Testing loss: 1.0983   Train accuracy: 0.2506   Test accuracy: 0.2593   Train F1 Score: 0.1005   Test F1 Score: 0.1068  \n",
      "Epoch: 15/200   Training loss: 1.0988   Testing loss: 1.0984   Train accuracy: 0.2506   Test accuracy: 0.2593   Train F1 Score: 0.1005   Test F1 Score: 0.1068  \n",
      "Epoch: 16/200   Training loss: 1.0987   Testing loss: 1.0976   Train accuracy: 0.2506   Test accuracy: 0.2593   Train F1 Score: 0.1006   Test F1 Score: 0.1068  \n",
      "Epoch: 17/200   Training loss: 1.0986   Testing loss: 1.0980   Train accuracy: 0.2506   Test accuracy: 0.2593   Train F1 Score: 0.1006   Test F1 Score: 0.1068  \n",
      "Epoch: 18/200   Training loss: 1.0986   Testing loss: 1.0979   Train accuracy: 0.2506   Test accuracy: 0.2593   Train F1 Score: 0.1007   Test F1 Score: 0.1068  \n",
      "Epoch: 19/200   Training loss: 1.0984   Testing loss: 1.0979   Train accuracy: 0.2505   Test accuracy: 0.2593   Train F1 Score: 0.1007   Test F1 Score: 0.1068  \n",
      "Epoch: 20/200   Training loss: 1.0983   Testing loss: 1.0978   Train accuracy: 0.2506   Test accuracy: 0.2595   Train F1 Score: 0.1010   Test F1 Score: 0.1078  \n",
      "Epoch: 21/200   Training loss: 1.0982   Testing loss: 1.0976   Train accuracy: 0.2507   Test accuracy: 0.2595   Train F1 Score: 0.1020   Test F1 Score: 0.1076  \n",
      "Epoch: 22/200   Training loss: 1.0981   Testing loss: 1.0976   Train accuracy: 0.2508   Test accuracy: 0.2593   Train F1 Score: 0.1029   Test F1 Score: 0.1079  \n",
      "Epoch: 23/200   Training loss: 1.0980   Testing loss: 1.0975   Train accuracy: 0.2505   Test accuracy: 0.2593   Train F1 Score: 0.1036   Test F1 Score: 0.1105  \n",
      "Epoch: 24/200   Training loss: 1.0979   Testing loss: 1.0974   Train accuracy: 0.2508   Test accuracy: 0.2593   Train F1 Score: 0.1066   Test F1 Score: 0.1099  \n",
      "Epoch: 25/200   Training loss: 1.0979   Testing loss: 1.0975   Train accuracy: 0.2519   Test accuracy: 0.2600   Train F1 Score: 0.1065   Test F1 Score: 0.1156  \n",
      "Epoch: 26/200   Training loss: 1.0979   Testing loss: 1.0974   Train accuracy: 0.2517   Test accuracy: 0.2619   Train F1 Score: 0.1168   Test F1 Score: 0.1163  \n",
      "Epoch: 27/200   Training loss: 1.0977   Testing loss: 1.0973   Train accuracy: 0.2534   Test accuracy: 0.2616   Train F1 Score: 0.1203   Test F1 Score: 0.1188  \n",
      "Epoch: 28/200   Training loss: 1.0977   Testing loss: 1.0973   Train accuracy: 0.2561   Test accuracy: 0.2661   Train F1 Score: 0.1321   Test F1 Score: 0.1309  \n",
      "Epoch: 29/200   Training loss: 1.0976   Testing loss: 1.0972   Train accuracy: 0.2592   Test accuracy: 0.2720   Train F1 Score: 0.1362   Test F1 Score: 0.1348  \n",
      "Epoch: 30/200   Training loss: 1.0976   Testing loss: 1.0971   Train accuracy: 0.2654   Test accuracy: 0.2826   Train F1 Score: 0.1494   Test F1 Score: 0.1593  \n",
      "Epoch: 31/200   Training loss: 1.0975   Testing loss: 1.0970   Train accuracy: 0.2734   Test accuracy: 0.2901   Train F1 Score: 0.1660   Test F1 Score: 0.1671  \n",
      "Epoch: 32/200   Training loss: 1.0974   Testing loss: 1.0971   Train accuracy: 0.2807   Test accuracy: 0.3021   Train F1 Score: 0.1666   Test F1 Score: 0.1853  \n",
      "Epoch: 33/200   Training loss: 1.0973   Testing loss: 1.0970   Train accuracy: 0.2892   Test accuracy: 0.3118   Train F1 Score: 0.1905   Test F1 Score: 0.1914  \n",
      "Epoch: 34/200   Training loss: 1.0973   Testing loss: 1.0969   Train accuracy: 0.2988   Test accuracy: 0.3216   Train F1 Score: 0.2002   Test F1 Score: 0.2164  \n",
      "Epoch: 35/200   Training loss: 1.0972   Testing loss: 1.0969   Train accuracy: 0.3093   Test accuracy: 0.3294   Train F1 Score: 0.2179   Test F1 Score: 0.2184  \n",
      "Epoch: 36/200   Training loss: 1.0971   Testing loss: 1.0969   Train accuracy: 0.3172   Test accuracy: 0.3508   Train F1 Score: 0.2294   Test F1 Score: 0.2376  \n",
      "Epoch: 37/200   Training loss: 1.0971   Testing loss: 1.0969   Train accuracy: 0.3282   Test accuracy: 0.3619   Train F1 Score: 0.2437   Test F1 Score: 0.2571  \n",
      "Epoch: 38/200   Training loss: 1.0970   Testing loss: 1.0967   Train accuracy: 0.3413   Test accuracy: 0.3727   Train F1 Score: 0.2634   Test F1 Score: 0.2663  \n",
      "Epoch: 39/200   Training loss: 1.0969   Testing loss: 1.0966   Train accuracy: 0.3514   Test accuracy: 0.3826   Train F1 Score: 0.2669   Test F1 Score: 0.2762  \n",
      "Epoch: 40/200   Training loss: 1.0969   Testing loss: 1.0966   Train accuracy: 0.3572   Test accuracy: 0.3927   Train F1 Score: 0.2855   Test F1 Score: 0.2810  \n",
      "Epoch: 41/200   Training loss: 1.0968   Testing loss: 1.0965   Train accuracy: 0.3671   Test accuracy: 0.3967   Train F1 Score: 0.2871   Test F1 Score: 0.2977  \n",
      "Epoch: 42/200   Training loss: 1.0968   Testing loss: 1.0966   Train accuracy: 0.3701   Test accuracy: 0.4019   Train F1 Score: 0.2941   Test F1 Score: 0.3109  \n",
      "Epoch: 43/200   Training loss: 1.0968   Testing loss: 1.0963   Train accuracy: 0.3796   Test accuracy: 0.4045   Train F1 Score: 0.3022   Test F1 Score: 0.3062  \n",
      "Epoch: 44/200   Training loss: 1.0966   Testing loss: 1.0963   Train accuracy: 0.3874   Test accuracy: 0.4118   Train F1 Score: 0.3130   Test F1 Score: 0.3074  \n",
      "Epoch: 45/200   Training loss: 1.0966   Testing loss: 1.0963   Train accuracy: 0.3923   Test accuracy: 0.4195   Train F1 Score: 0.3092   Test F1 Score: 0.3224  \n",
      "Epoch: 46/200   Training loss: 1.0965   Testing loss: 1.0962   Train accuracy: 0.4019   Test accuracy: 0.4219   Train F1 Score: 0.3080   Test F1 Score: 0.3294  \n",
      "Epoch: 47/200   Training loss: 1.0965   Testing loss: 1.0961   Train accuracy: 0.4099   Test accuracy: 0.4247   Train F1 Score: 0.3270   Test F1 Score: 0.3361  \n",
      "Epoch: 48/200   Training loss: 1.0964   Testing loss: 1.0960   Train accuracy: 0.4069   Test accuracy: 0.4301   Train F1 Score: 0.3276   Test F1 Score: 0.3533  \n",
      "Epoch: 49/200   Training loss: 1.0963   Testing loss: 1.0960   Train accuracy: 0.4186   Test accuracy: 0.4391   Train F1 Score: 0.3365   Test F1 Score: 0.3423  \n",
      "Epoch: 50/200   Training loss: 1.0962   Testing loss: 1.0959   Train accuracy: 0.4228   Test accuracy: 0.4452   Train F1 Score: 0.3401   Test F1 Score: 0.3390  \n"
     ]
    },
    {
     "name": "stdout",
     "output_type": "stream",
     "text": [
      "Epoch: 51/200   Training loss: 1.0962   Testing loss: 1.0958   Train accuracy: 0.4263   Test accuracy: 0.4445   Train F1 Score: 0.3410   Test F1 Score: 0.3402  \n",
      "Epoch: 52/200   Training loss: 1.0960   Testing loss: 1.0957   Train accuracy: 0.4283   Test accuracy: 0.4506   Train F1 Score: 0.3448   Test F1 Score: 0.3511  \n",
      "Epoch: 53/200   Training loss: 1.0960   Testing loss: 1.0957   Train accuracy: 0.4346   Test accuracy: 0.4522   Train F1 Score: 0.3474   Test F1 Score: 0.3391  \n",
      "Epoch: 54/200   Training loss: 1.0959   Testing loss: 1.0955   Train accuracy: 0.4433   Test accuracy: 0.4574   Train F1 Score: 0.3481   Test F1 Score: 0.3574  \n",
      "Epoch: 55/200   Training loss: 1.0958   Testing loss: 1.0955   Train accuracy: 0.4490   Test accuracy: 0.4593   Train F1 Score: 0.3466   Test F1 Score: 0.3605  \n",
      "Epoch: 56/200   Training loss: 1.0957   Testing loss: 1.0954   Train accuracy: 0.4495   Test accuracy: 0.4645   Train F1 Score: 0.3488   Test F1 Score: 0.3492  \n",
      "Epoch: 57/200   Training loss: 1.0957   Testing loss: 1.0953   Train accuracy: 0.4487   Test accuracy: 0.4664   Train F1 Score: 0.3509   Test F1 Score: 0.3613  \n",
      "Epoch: 58/200   Training loss: 1.0955   Testing loss: 1.0951   Train accuracy: 0.4516   Test accuracy: 0.4649   Train F1 Score: 0.3555   Test F1 Score: 0.3632  \n",
      "Epoch: 59/200   Training loss: 1.0955   Testing loss: 1.0951   Train accuracy: 0.4569   Test accuracy: 0.4668   Train F1 Score: 0.3592   Test F1 Score: 0.3626  \n",
      "Epoch: 60/200   Training loss: 1.0953   Testing loss: 1.0950   Train accuracy: 0.4633   Test accuracy: 0.4704   Train F1 Score: 0.3583   Test F1 Score: 0.3625  \n",
      "Epoch: 61/200   Training loss: 1.0952   Testing loss: 1.0948   Train accuracy: 0.4613   Test accuracy: 0.4725   Train F1 Score: 0.3619   Test F1 Score: 0.3540  \n",
      "Epoch: 62/200   Training loss: 1.0952   Testing loss: 1.0949   Train accuracy: 0.4657   Test accuracy: 0.4748   Train F1 Score: 0.3549   Test F1 Score: 0.3724  \n",
      "Epoch: 63/200   Training loss: 1.0951   Testing loss: 1.0946   Train accuracy: 0.4645   Test accuracy: 0.4741   Train F1 Score: 0.3533   Test F1 Score: 0.3687  \n",
      "Epoch: 64/200   Training loss: 1.0950   Testing loss: 1.0946   Train accuracy: 0.4701   Test accuracy: 0.4758   Train F1 Score: 0.3573   Test F1 Score: 0.3538  \n",
      "Epoch: 65/200   Training loss: 1.0948   Testing loss: 1.0946   Train accuracy: 0.4685   Test accuracy: 0.4760   Train F1 Score: 0.3632   Test F1 Score: 0.3699  \n",
      "Epoch: 66/200   Training loss: 1.0947   Testing loss: 1.0944   Train accuracy: 0.4733   Test accuracy: 0.4798   Train F1 Score: 0.3554   Test F1 Score: 0.3674  \n",
      "Epoch: 67/200   Training loss: 1.0946   Testing loss: 1.0941   Train accuracy: 0.4701   Test accuracy: 0.4809   Train F1 Score: 0.3536   Test F1 Score: 0.3573  \n",
      "Epoch: 68/200   Training loss: 1.0945   Testing loss: 1.0942   Train accuracy: 0.4742   Test accuracy: 0.4864   Train F1 Score: 0.3660   Test F1 Score: 0.3765  \n",
      "Epoch: 69/200   Training loss: 1.0943   Testing loss: 1.0941   Train accuracy: 0.4765   Test accuracy: 0.4840   Train F1 Score: 0.3579   Test F1 Score: 0.3606  \n",
      "Epoch: 70/200   Training loss: 1.0943   Testing loss: 1.0938   Train accuracy: 0.4813   Test accuracy: 0.4859   Train F1 Score: 0.3571   Test F1 Score: 0.3550  \n",
      "Epoch: 71/200   Training loss: 1.0941   Testing loss: 1.0938   Train accuracy: 0.4800   Test accuracy: 0.4852   Train F1 Score: 0.3691   Test F1 Score: 0.3614  \n",
      "Epoch: 72/200   Training loss: 1.0940   Testing loss: 1.0938   Train accuracy: 0.4775   Test accuracy: 0.4875   Train F1 Score: 0.3585   Test F1 Score: 0.3613  \n",
      "Epoch: 73/200   Training loss: 1.0939   Testing loss: 1.0935   Train accuracy: 0.4793   Test accuracy: 0.4864   Train F1 Score: 0.3631   Test F1 Score: 0.3655  \n",
      "Epoch: 74/200   Training loss: 1.0937   Testing loss: 1.0934   Train accuracy: 0.4842   Test accuracy: 0.4889   Train F1 Score: 0.3638   Test F1 Score: 0.3651  \n",
      "Epoch: 75/200   Training loss: 1.0935   Testing loss: 1.0930   Train accuracy: 0.4864   Test accuracy: 0.4901   Train F1 Score: 0.3563   Test F1 Score: 0.3545  \n",
      "Epoch: 76/200   Training loss: 1.0934   Testing loss: 1.0929   Train accuracy: 0.4856   Test accuracy: 0.4904   Train F1 Score: 0.3593   Test F1 Score: 0.3486  \n",
      "Epoch: 77/200   Training loss: 1.0933   Testing loss: 1.0927   Train accuracy: 0.4868   Test accuracy: 0.4925   Train F1 Score: 0.3607   Test F1 Score: 0.3663  \n",
      "Epoch: 78/200   Training loss: 1.0931   Testing loss: 1.0928   Train accuracy: 0.4833   Test accuracy: 0.4932   Train F1 Score: 0.3619   Test F1 Score: 0.3592  \n",
      "Epoch: 79/200   Training loss: 1.0929   Testing loss: 1.0926   Train accuracy: 0.4881   Test accuracy: 0.4941   Train F1 Score: 0.3650   Test F1 Score: 0.3469  \n",
      "Epoch: 80/200   Training loss: 1.0928   Testing loss: 1.0924   Train accuracy: 0.4852   Test accuracy: 0.4934   Train F1 Score: 0.3575   Test F1 Score: 0.3491  \n",
      "Epoch: 81/200   Training loss: 1.0925   Testing loss: 1.0922   Train accuracy: 0.4900   Test accuracy: 0.4941   Train F1 Score: 0.3626   Test F1 Score: 0.3604  \n",
      "Epoch: 82/200   Training loss: 1.0924   Testing loss: 1.0918   Train accuracy: 0.4905   Test accuracy: 0.4932   Train F1 Score: 0.3591   Test F1 Score: 0.3545  \n",
      "Epoch: 83/200   Training loss: 1.0922   Testing loss: 1.0918   Train accuracy: 0.4873   Test accuracy: 0.4932   Train F1 Score: 0.3622   Test F1 Score: 0.3549  \n",
      "Epoch: 84/200   Training loss: 1.0921   Testing loss: 1.0915   Train accuracy: 0.4918   Test accuracy: 0.4936   Train F1 Score: 0.3676   Test F1 Score: 0.3558  \n",
      "Epoch: 85/200   Training loss: 1.0918   Testing loss: 1.0914   Train accuracy: 0.4906   Test accuracy: 0.4936   Train F1 Score: 0.3614   Test F1 Score: 0.3651  \n",
      "Epoch: 86/200   Training loss: 1.0916   Testing loss: 1.0913   Train accuracy: 0.4934   Test accuracy: 0.4965   Train F1 Score: 0.3619   Test F1 Score: 0.3563  \n",
      "Epoch: 87/200   Training loss: 1.0915   Testing loss: 1.0910   Train accuracy: 0.4915   Test accuracy: 0.4960   Train F1 Score: 0.3589   Test F1 Score: 0.3635  \n",
      "Epoch: 88/200   Training loss: 1.0912   Testing loss: 1.0910   Train accuracy: 0.4934   Test accuracy: 0.4967   Train F1 Score: 0.3585   Test F1 Score: 0.3550  \n",
      "Epoch: 89/200   Training loss: 1.0910   Testing loss: 1.0905   Train accuracy: 0.4926   Test accuracy: 0.4929   Train F1 Score: 0.3600   Test F1 Score: 0.3609  \n",
      "Epoch: 90/200   Training loss: 1.0908   Testing loss: 1.0905   Train accuracy: 0.4926   Test accuracy: 0.4946   Train F1 Score: 0.3536   Test F1 Score: 0.3542  \n",
      "Epoch: 91/200   Training loss: 1.0907   Testing loss: 1.0900   Train accuracy: 0.4912   Test accuracy: 0.4953   Train F1 Score: 0.3638   Test F1 Score: 0.3655  \n",
      "Epoch: 92/200   Training loss: 1.0905   Testing loss: 1.0899   Train accuracy: 0.4934   Test accuracy: 0.4965   Train F1 Score: 0.3610   Test F1 Score: 0.3557  \n",
      "Epoch: 93/200   Training loss: 1.0902   Testing loss: 1.0896   Train accuracy: 0.4952   Test accuracy: 0.4922   Train F1 Score: 0.3614   Test F1 Score: 0.3624  \n",
      "Epoch: 94/200   Training loss: 1.0898   Testing loss: 1.0893   Train accuracy: 0.4956   Test accuracy: 0.4915   Train F1 Score: 0.3620   Test F1 Score: 0.3547  \n",
      "Epoch: 95/200   Training loss: 1.0896   Testing loss: 1.0889   Train accuracy: 0.4919   Test accuracy: 0.4946   Train F1 Score: 0.3700   Test F1 Score: 0.3547  \n",
      "Epoch: 96/200   Training loss: 1.0893   Testing loss: 1.0888   Train accuracy: 0.4931   Test accuracy: 0.4920   Train F1 Score: 0.3608   Test F1 Score: 0.3415  \n",
      "Epoch: 97/200   Training loss: 1.0890   Testing loss: 1.0884   Train accuracy: 0.4949   Test accuracy: 0.4934   Train F1 Score: 0.3583   Test F1 Score: 0.3487  \n",
      "Epoch: 98/200   Training loss: 1.0887   Testing loss: 1.0882   Train accuracy: 0.4928   Test accuracy: 0.4913   Train F1 Score: 0.3592   Test F1 Score: 0.3517  \n",
      "Epoch: 99/200   Training loss: 1.0884   Testing loss: 1.0880   Train accuracy: 0.4921   Test accuracy: 0.4958   Train F1 Score: 0.3528   Test F1 Score: 0.3531  \n",
      "Epoch: 100/200   Training loss: 1.0883   Testing loss: 1.0879   Train accuracy: 0.4965   Test accuracy: 0.4929   Train F1 Score: 0.3513   Test F1 Score: 0.3584  \n",
      "Epoch: 101/200   Training loss: 1.0879   Testing loss: 1.0874   Train accuracy: 0.4963   Test accuracy: 0.4929   Train F1 Score: 0.3618   Test F1 Score: 0.3465  \n"
     ]
    },
    {
     "name": "stdout",
     "output_type": "stream",
     "text": [
      "Epoch: 102/200   Training loss: 1.0876   Testing loss: 1.0872   Train accuracy: 0.4950   Test accuracy: 0.4944   Train F1 Score: 0.3597   Test F1 Score: 0.3518  \n",
      "Epoch: 103/200   Training loss: 1.0872   Testing loss: 1.0866   Train accuracy: 0.4957   Test accuracy: 0.4934   Train F1 Score: 0.3559   Test F1 Score: 0.3440  \n",
      "Epoch: 104/200   Training loss: 1.0869   Testing loss: 1.0860   Train accuracy: 0.4980   Test accuracy: 0.4958   Train F1 Score: 0.3595   Test F1 Score: 0.3585  \n",
      "Epoch: 105/200   Training loss: 1.0865   Testing loss: 1.0860   Train accuracy: 0.4981   Test accuracy: 0.4927   Train F1 Score: 0.3509   Test F1 Score: 0.3459  \n",
      "Epoch: 106/200   Training loss: 1.0862   Testing loss: 1.0853   Train accuracy: 0.4958   Test accuracy: 0.4932   Train F1 Score: 0.3586   Test F1 Score: 0.3495  \n",
      "Epoch: 107/200   Training loss: 1.0858   Testing loss: 1.0851   Train accuracy: 0.4969   Test accuracy: 0.4951   Train F1 Score: 0.3513   Test F1 Score: 0.3535  \n",
      "Epoch: 108/200   Training loss: 1.0854   Testing loss: 1.0848   Train accuracy: 0.4964   Test accuracy: 0.4944   Train F1 Score: 0.3581   Test F1 Score: 0.3448  \n",
      "Epoch: 109/200   Training loss: 1.0849   Testing loss: 1.0845   Train accuracy: 0.4976   Test accuracy: 0.4918   Train F1 Score: 0.3538   Test F1 Score: 0.3497  \n",
      "Epoch: 110/200   Training loss: 1.0847   Testing loss: 1.0841   Train accuracy: 0.4982   Test accuracy: 0.4941   Train F1 Score: 0.3544   Test F1 Score: 0.3430  \n",
      "Epoch: 111/200   Training loss: 1.0843   Testing loss: 1.0834   Train accuracy: 0.4969   Test accuracy: 0.4946   Train F1 Score: 0.3558   Test F1 Score: 0.3447  \n",
      "Epoch: 112/200   Training loss: 1.0839   Testing loss: 1.0835   Train accuracy: 0.4967   Test accuracy: 0.4955   Train F1 Score: 0.3509   Test F1 Score: 0.3457  \n",
      "Epoch: 113/200   Training loss: 1.0834   Testing loss: 1.0824   Train accuracy: 0.4971   Test accuracy: 0.4960   Train F1 Score: 0.3593   Test F1 Score: 0.3533  \n",
      "Epoch: 114/200   Training loss: 1.0829   Testing loss: 1.0822   Train accuracy: 0.5004   Test accuracy: 0.4934   Train F1 Score: 0.3539   Test F1 Score: 0.3457  \n",
      "Epoch: 115/200   Training loss: 1.0825   Testing loss: 1.0814   Train accuracy: 0.4994   Test accuracy: 0.4939   Train F1 Score: 0.3501   Test F1 Score: 0.3371  \n",
      "Epoch: 116/200   Training loss: 1.0819   Testing loss: 1.0812   Train accuracy: 0.4979   Test accuracy: 0.4927   Train F1 Score: 0.3517   Test F1 Score: 0.3571  \n",
      "Epoch: 117/200   Training loss: 1.0815   Testing loss: 1.0804   Train accuracy: 0.4970   Test accuracy: 0.4929   Train F1 Score: 0.3558   Test F1 Score: 0.3497  \n",
      "Epoch: 118/200   Training loss: 1.0811   Testing loss: 1.0803   Train accuracy: 0.4985   Test accuracy: 0.4922   Train F1 Score: 0.3445   Test F1 Score: 0.3497  \n",
      "Epoch: 119/200   Training loss: 1.0805   Testing loss: 1.0796   Train accuracy: 0.4965   Test accuracy: 0.4944   Train F1 Score: 0.3544   Test F1 Score: 0.3526  \n",
      "Epoch: 120/200   Training loss: 1.0800   Testing loss: 1.0788   Train accuracy: 0.4972   Test accuracy: 0.4941   Train F1 Score: 0.3499   Test F1 Score: 0.3582  \n",
      "Epoch: 121/200   Training loss: 1.0794   Testing loss: 1.0787   Train accuracy: 0.4978   Test accuracy: 0.4932   Train F1 Score: 0.3482   Test F1 Score: 0.3372  \n",
      "Epoch: 122/200   Training loss: 1.0788   Testing loss: 1.0779   Train accuracy: 0.4994   Test accuracy: 0.4927   Train F1 Score: 0.3506   Test F1 Score: 0.3484  \n",
      "Epoch: 123/200   Training loss: 1.0782   Testing loss: 1.0769   Train accuracy: 0.4999   Test accuracy: 0.4929   Train F1 Score: 0.3488   Test F1 Score: 0.3363  \n",
      "Epoch: 124/200   Training loss: 1.0775   Testing loss: 1.0774   Train accuracy: 0.4986   Test accuracy: 0.4948   Train F1 Score: 0.3483   Test F1 Score: 0.3555  \n",
      "Epoch: 125/200   Training loss: 1.0771   Testing loss: 1.0754   Train accuracy: 0.4992   Test accuracy: 0.4941   Train F1 Score: 0.3457   Test F1 Score: 0.3475  \n",
      "Epoch: 126/200   Training loss: 1.0764   Testing loss: 1.0753   Train accuracy: 0.4976   Test accuracy: 0.4946   Train F1 Score: 0.3527   Test F1 Score: 0.3378  \n",
      "Epoch: 127/200   Training loss: 1.0759   Testing loss: 1.0748   Train accuracy: 0.4975   Test accuracy: 0.4932   Train F1 Score: 0.3550   Test F1 Score: 0.3582  \n",
      "Epoch: 128/200   Training loss: 1.0751   Testing loss: 1.0742   Train accuracy: 0.4992   Test accuracy: 0.4925   Train F1 Score: 0.3509   Test F1 Score: 0.3605  \n",
      "Epoch: 129/200   Training loss: 1.0742   Testing loss: 1.0737   Train accuracy: 0.4986   Test accuracy: 0.4951   Train F1 Score: 0.3502   Test F1 Score: 0.3457  \n",
      "Epoch: 130/200   Training loss: 1.0737   Testing loss: 1.0731   Train accuracy: 0.4977   Test accuracy: 0.4932   Train F1 Score: 0.3482   Test F1 Score: 0.3491  \n",
      "Epoch: 131/200   Training loss: 1.0732   Testing loss: 1.0722   Train accuracy: 0.4993   Test accuracy: 0.4922   Train F1 Score: 0.3476   Test F1 Score: 0.3402  \n",
      "Epoch: 132/200   Training loss: 1.0723   Testing loss: 1.0709   Train accuracy: 0.4986   Test accuracy: 0.4918   Train F1 Score: 0.3454   Test F1 Score: 0.3425  \n",
      "Epoch: 133/200   Training loss: 1.0715   Testing loss: 1.0714   Train accuracy: 0.4984   Test accuracy: 0.4955   Train F1 Score: 0.3492   Test F1 Score: 0.3437  \n",
      "Epoch: 134/200   Training loss: 1.0708   Testing loss: 1.0706   Train accuracy: 0.4985   Test accuracy: 0.4944   Train F1 Score: 0.3478   Test F1 Score: 0.3552  \n",
      "Epoch: 135/200   Training loss: 1.0699   Testing loss: 1.0691   Train accuracy: 0.4996   Test accuracy: 0.4944   Train F1 Score: 0.3465   Test F1 Score: 0.3384  \n",
      "Epoch: 136/200   Training loss: 1.0694   Testing loss: 1.0683   Train accuracy: 0.4954   Test accuracy: 0.4929   Train F1 Score: 0.3468   Test F1 Score: 0.3451  \n",
      "Epoch: 137/200   Training loss: 1.0684   Testing loss: 1.0683   Train accuracy: 0.5005   Test accuracy: 0.4922   Train F1 Score: 0.3488   Test F1 Score: 0.3583  \n",
      "Epoch: 138/200   Training loss: 1.0677   Testing loss: 1.0669   Train accuracy: 0.4968   Test accuracy: 0.4927   Train F1 Score: 0.3487   Test F1 Score: 0.3587  \n",
      "Epoch: 139/200   Training loss: 1.0668   Testing loss: 1.0660   Train accuracy: 0.4985   Test accuracy: 0.4941   Train F1 Score: 0.3511   Test F1 Score: 0.3461  \n",
      "Epoch: 140/200   Training loss: 1.0661   Testing loss: 1.0646   Train accuracy: 0.4975   Test accuracy: 0.4936   Train F1 Score: 0.3474   Test F1 Score: 0.3349  \n",
      "Epoch: 141/200   Training loss: 1.0652   Testing loss: 1.0646   Train accuracy: 0.4991   Test accuracy: 0.4915   Train F1 Score: 0.3477   Test F1 Score: 0.3464  \n",
      "Epoch: 142/200   Training loss: 1.0645   Testing loss: 1.0632   Train accuracy: 0.4982   Test accuracy: 0.4944   Train F1 Score: 0.3489   Test F1 Score: 0.3547  \n",
      "Epoch: 143/200   Training loss: 1.0631   Testing loss: 1.0627   Train accuracy: 0.4994   Test accuracy: 0.4915   Train F1 Score: 0.3497   Test F1 Score: 0.3430  \n",
      "Epoch: 144/200   Training loss: 1.0623   Testing loss: 1.0622   Train accuracy: 0.4988   Test accuracy: 0.4936   Train F1 Score: 0.3440   Test F1 Score: 0.3399  \n",
      "Epoch: 145/200   Training loss: 1.0618   Testing loss: 1.0611   Train accuracy: 0.4981   Test accuracy: 0.4929   Train F1 Score: 0.3504   Test F1 Score: 0.3451  \n",
      "Epoch: 146/200   Training loss: 1.0606   Testing loss: 1.0603   Train accuracy: 0.4976   Test accuracy: 0.4936   Train F1 Score: 0.3529   Test F1 Score: 0.3443  \n",
      "Epoch: 147/200   Training loss: 1.0596   Testing loss: 1.0578   Train accuracy: 0.4987   Test accuracy: 0.4908   Train F1 Score: 0.3462   Test F1 Score: 0.3369  \n",
      "Epoch: 148/200   Training loss: 1.0589   Testing loss: 1.0570   Train accuracy: 0.4979   Test accuracy: 0.4911   Train F1 Score: 0.3458   Test F1 Score: 0.3577  \n",
      "Epoch: 149/200   Training loss: 1.0575   Testing loss: 1.0560   Train accuracy: 0.4987   Test accuracy: 0.4911   Train F1 Score: 0.3507   Test F1 Score: 0.3609  \n",
      "Epoch: 150/200   Training loss: 1.0568   Testing loss: 1.0572   Train accuracy: 0.4994   Test accuracy: 0.4934   Train F1 Score: 0.3528   Test F1 Score: 0.3509  \n",
      "Epoch: 151/200   Training loss: 1.0561   Testing loss: 1.0553   Train accuracy: 0.4995   Test accuracy: 0.4913   Train F1 Score: 0.3443   Test F1 Score: 0.3453  \n",
      "Epoch: 152/200   Training loss: 1.0548   Testing loss: 1.0553   Train accuracy: 0.4986   Test accuracy: 0.4927   Train F1 Score: 0.3472   Test F1 Score: 0.3425  \n"
     ]
    },
    {
     "name": "stdout",
     "output_type": "stream",
     "text": [
      "Epoch: 153/200   Training loss: 1.0540   Testing loss: 1.0533   Train accuracy: 0.4984   Test accuracy: 0.4925   Train F1 Score: 0.3521   Test F1 Score: 0.3510  \n",
      "Epoch: 154/200   Training loss: 1.0532   Testing loss: 1.0525   Train accuracy: 0.4978   Test accuracy: 0.4925   Train F1 Score: 0.3535   Test F1 Score: 0.3347  \n",
      "Epoch: 155/200   Training loss: 1.0523   Testing loss: 1.0529   Train accuracy: 0.5010   Test accuracy: 0.4925   Train F1 Score: 0.3500   Test F1 Score: 0.3577  \n",
      "Epoch: 156/200   Training loss: 1.0510   Testing loss: 1.0507   Train accuracy: 0.5009   Test accuracy: 0.4929   Train F1 Score: 0.3460   Test F1 Score: 0.3349  \n",
      "Epoch: 157/200   Training loss: 1.0505   Testing loss: 1.0492   Train accuracy: 0.4980   Test accuracy: 0.4918   Train F1 Score: 0.3547   Test F1 Score: 0.3437  \n",
      "Epoch: 158/200   Training loss: 1.0495   Testing loss: 1.0484   Train accuracy: 0.4995   Test accuracy: 0.4929   Train F1 Score: 0.3485   Test F1 Score: 0.3481  \n",
      "Epoch: 159/200   Training loss: 1.0485   Testing loss: 1.0469   Train accuracy: 0.4993   Test accuracy: 0.4915   Train F1 Score: 0.3491   Test F1 Score: 0.3356  \n",
      "Epoch: 160/200   Training loss: 1.0475   Testing loss: 1.0467   Train accuracy: 0.4998   Test accuracy: 0.4927   Train F1 Score: 0.3484   Test F1 Score: 0.3464  \n",
      "Epoch: 161/200   Training loss: 1.0468   Testing loss: 1.0450   Train accuracy: 0.4980   Test accuracy: 0.4925   Train F1 Score: 0.3498   Test F1 Score: 0.3539  \n",
      "Epoch: 162/200   Training loss: 1.0459   Testing loss: 1.0467   Train accuracy: 0.4975   Test accuracy: 0.4918   Train F1 Score: 0.3473   Test F1 Score: 0.3527  \n",
      "Epoch: 163/200   Training loss: 1.0452   Testing loss: 1.0452   Train accuracy: 0.5006   Test accuracy: 0.4922   Train F1 Score: 0.3532   Test F1 Score: 0.3505  \n",
      "Epoch: 164/200   Training loss: 1.0444   Testing loss: 1.0433   Train accuracy: 0.4969   Test accuracy: 0.4922   Train F1 Score: 0.3495   Test F1 Score: 0.3537  \n",
      "Epoch: 165/200   Training loss: 1.0436   Testing loss: 1.0427   Train accuracy: 0.4979   Test accuracy: 0.4915   Train F1 Score: 0.3475   Test F1 Score: 0.3464  \n",
      "Epoch: 166/200   Training loss: 1.0423   Testing loss: 1.0440   Train accuracy: 0.5017   Test accuracy: 0.4920   Train F1 Score: 0.3490   Test F1 Score: 0.3493  \n",
      "Epoch: 167/200   Training loss: 1.0412   Testing loss: 1.0423   Train accuracy: 0.4999   Test accuracy: 0.4915   Train F1 Score: 0.3557   Test F1 Score: 0.3606  \n",
      "Epoch: 168/200   Training loss: 1.0411   Testing loss: 1.0423   Train accuracy: 0.5002   Test accuracy: 0.4913   Train F1 Score: 0.3541   Test F1 Score: 0.3404  \n",
      "Epoch: 169/200   Training loss: 1.0411   Testing loss: 1.0424   Train accuracy: 0.4993   Test accuracy: 0.4932   Train F1 Score: 0.3439   Test F1 Score: 0.3425  \n",
      "Epoch: 170/200   Training loss: 1.0397   Testing loss: 1.0395   Train accuracy: 0.4981   Test accuracy: 0.4908   Train F1 Score: 0.3582   Test F1 Score: 0.3487  \n",
      "Epoch: 171/200   Training loss: 1.0392   Testing loss: 1.0399   Train accuracy: 0.5011   Test accuracy: 0.4904   Train F1 Score: 0.3496   Test F1 Score: 0.3459  \n",
      "Epoch: 172/200   Training loss: 1.0384   Testing loss: 1.0395   Train accuracy: 0.5036   Test accuracy: 0.4915   Train F1 Score: 0.3495   Test F1 Score: 0.3512  \n",
      "Epoch: 173/200   Training loss: 1.0379   Testing loss: 1.0392   Train accuracy: 0.5001   Test accuracy: 0.4896   Train F1 Score: 0.3565   Test F1 Score: 0.3367  \n",
      "Epoch: 174/200   Training loss: 1.0378   Testing loss: 1.0406   Train accuracy: 0.4995   Test accuracy: 0.4920   Train F1 Score: 0.3515   Test F1 Score: 0.3463  \n",
      "Epoch: 175/200   Training loss: 1.0372   Testing loss: 1.0385   Train accuracy: 0.4995   Test accuracy: 0.4915   Train F1 Score: 0.3527   Test F1 Score: 0.3466  \n",
      "Epoch: 176/200   Training loss: 1.0367   Testing loss: 1.0356   Train accuracy: 0.4979   Test accuracy: 0.4896   Train F1 Score: 0.3578   Test F1 Score: 0.3585  \n",
      "Epoch: 177/200   Training loss: 1.0363   Testing loss: 1.0370   Train accuracy: 0.4991   Test accuracy: 0.4906   Train F1 Score: 0.3484   Test F1 Score: 0.3574  \n",
      "Epoch: 178/200   Training loss: 1.0356   Testing loss: 1.0361   Train accuracy: 0.4982   Test accuracy: 0.4932   Train F1 Score: 0.3460   Test F1 Score: 0.3551  \n",
      "Epoch: 179/200   Training loss: 1.0359   Testing loss: 1.0370   Train accuracy: 0.4965   Test accuracy: 0.4880   Train F1 Score: 0.3551   Test F1 Score: 0.3515  \n",
      "Epoch: 180/200   Training loss: 1.0347   Testing loss: 1.0352   Train accuracy: 0.4980   Test accuracy: 0.4962   Train F1 Score: 0.3515   Test F1 Score: 0.3523  \n",
      "Epoch: 181/200   Training loss: 1.0341   Testing loss: 1.0366   Train accuracy: 0.4986   Test accuracy: 0.4892   Train F1 Score: 0.3597   Test F1 Score: 0.3428  \n",
      "Epoch: 182/200   Training loss: 1.0336   Testing loss: 1.0364   Train accuracy: 0.4982   Test accuracy: 0.4927   Train F1 Score: 0.3573   Test F1 Score: 0.3591  \n",
      "Epoch: 183/200   Training loss: 1.0340   Testing loss: 1.0379   Train accuracy: 0.4980   Test accuracy: 0.4899   Train F1 Score: 0.3518   Test F1 Score: 0.3511  \n",
      "Epoch: 184/200   Training loss: 1.0330   Testing loss: 1.0337   Train accuracy: 0.4998   Test accuracy: 0.4925   Train F1 Score: 0.3524   Test F1 Score: 0.3546  \n",
      "Epoch: 185/200   Training loss: 1.0324   Testing loss: 1.0372   Train accuracy: 0.5002   Test accuracy: 0.4932   Train F1 Score: 0.3506   Test F1 Score: 0.3417  \n",
      "Epoch: 186/200   Training loss: 1.0324   Testing loss: 1.0371   Train accuracy: 0.4972   Test accuracy: 0.4899   Train F1 Score: 0.3515   Test F1 Score: 0.3594  \n",
      "Epoch: 187/200   Training loss: 1.0332   Testing loss: 1.0336   Train accuracy: 0.4993   Test accuracy: 0.4920   Train F1 Score: 0.3555   Test F1 Score: 0.3523  \n",
      "Epoch: 188/200   Training loss: 1.0323   Testing loss: 1.0332   Train accuracy: 0.4996   Test accuracy: 0.4918   Train F1 Score: 0.3528   Test F1 Score: 0.3580  \n",
      "Epoch: 189/200   Training loss: 1.0327   Testing loss: 1.0336   Train accuracy: 0.5011   Test accuracy: 0.4896   Train F1 Score: 0.3568   Test F1 Score: 0.3438  \n",
      "Epoch: 190/200   Training loss: 1.0327   Testing loss: 1.0344   Train accuracy: 0.4992   Test accuracy: 0.4918   Train F1 Score: 0.3568   Test F1 Score: 0.3540  \n",
      "Epoch: 191/200   Training loss: 1.0312   Testing loss: 1.0344   Train accuracy: 0.4983   Test accuracy: 0.4913   Train F1 Score: 0.3562   Test F1 Score: 0.3577  \n",
      "Epoch: 192/200   Training loss: 1.0318   Testing loss: 1.0341   Train accuracy: 0.4981   Test accuracy: 0.4922   Train F1 Score: 0.3554   Test F1 Score: 0.3437  \n",
      "Epoch: 193/200   Training loss: 1.0315   Testing loss: 1.0343   Train accuracy: 0.4954   Test accuracy: 0.4906   Train F1 Score: 0.3581   Test F1 Score: 0.3565  \n",
      "Epoch: 194/200   Training loss: 1.0320   Testing loss: 1.0352   Train accuracy: 0.4970   Test accuracy: 0.4906   Train F1 Score: 0.3557   Test F1 Score: 0.3555  \n",
      "Epoch: 195/200   Training loss: 1.0302   Testing loss: 1.0334   Train accuracy: 0.4991   Test accuracy: 0.4918   Train F1 Score: 0.3532   Test F1 Score: 0.3559  \n",
      "Epoch: 196/200   Training loss: 1.0316   Testing loss: 1.0316   Train accuracy: 0.4978   Test accuracy: 0.4904   Train F1 Score: 0.3535   Test F1 Score: 0.3613  \n",
      "Epoch: 197/200   Training loss: 1.0306   Testing loss: 1.0345   Train accuracy: 0.4975   Test accuracy: 0.4922   Train F1 Score: 0.3508   Test F1 Score: 0.3604  \n",
      "Epoch: 198/200   Training loss: 1.0302   Testing loss: 1.0341   Train accuracy: 0.4982   Test accuracy: 0.4885   Train F1 Score: 0.3567   Test F1 Score: 0.3544  \n",
      "Epoch: 199/200   Training loss: 1.0302   Testing loss: 1.0302   Train accuracy: 0.4977   Test accuracy: 0.4904   Train F1 Score: 0.3543   Test F1 Score: 0.3545  \n"
     ]
    }
   ],
   "source": [
    "from sklearn.metrics import f1_score\n",
    "\n",
    "epochs = 200\n",
    "train_loss, val_loss = [], []\n",
    "accuracy_total_train, accuracy_total_val = [], []\n",
    "train_f1_scores, test_f1_scores = [], []\n",
    "\n",
    "\n",
    "for epoch in range(epochs):\n",
    "   \n",
    "    total_train_loss = 0\n",
    "    total_val_loss = 0\n",
    "    prediction_list_test = []\n",
    "    prediction_list_train = []\n",
    "    train_f1score = 0\n",
    "    test_f1score = 0\n",
    "\n",
    "    model.train()\n",
    "    \n",
    "    total = 0\n",
    "    # training our model\n",
    "    for idx, (x, y) in enumerate(train_loader):\n",
    "\n",
    "        optimizer.zero_grad()\n",
    "        pred = model(x)\n",
    "        loss = criterion(pred, y)\n",
    "        total_train_loss += loss.item()\n",
    "\n",
    "        loss.backward()\n",
    "        optimizer.step()\n",
    "\n",
    "        pred = torch.nn.functional.softmax(pred, dim=1)\n",
    "        for i, p in enumerate(pred):\n",
    "            if y[i] == torch.max(p.data, 0)[1]:\n",
    "                total = total + 1\n",
    "            y_prediction = torch.max(p.data, 0)[1]\n",
    "            prediction_list_train.append(y_prediction)\n",
    "                \n",
    "    accuracy_train = total / len(train)\n",
    "    accuracy_total_train.append(accuracy_train)\n",
    "    \n",
    "    prediction_stacked_tensor = torch.stack(prediction_list_train)\n",
    "    train_f1score = f1_score(y_train, prediction_stacked_tensor, average='weighted')\n",
    "    train_f1_scores.append(train_f1score)\n",
    "\n",
    "    total_train_loss = total_train_loss / (idx + 1)\n",
    "    train_loss.append(total_train_loss)\n",
    "    \n",
    "    # validating our model\n",
    "    model.eval()\n",
    "    total = 0\n",
    "    for idx, (x, y) in enumerate(test_loader):\n",
    "        pred = model(x)\n",
    "        loss = criterion(pred, y)\n",
    "        total_val_loss += loss.item()\n",
    "\n",
    "        pred = torch.nn.functional.softmax(pred, dim=1)\n",
    "        for i, p in enumerate(pred):\n",
    "            if y[i] == torch.max(p.data, 0)[1]:\n",
    "                total = total + 1\n",
    "            y_prediction = torch.max(p.data, 0)[1]\n",
    "            prediction_list_test.append(y_prediction)\n",
    "        \n",
    "        \n",
    "    accuracy_val = total / len(test)\n",
    "    accuracy_total_val.append(accuracy_val)\n",
    "    prediction_stacked_tensor = torch.stack(prediction_list_test)\n",
    "    test_f1score = f1_score(y_test, prediction_stacked_tensor, average='weighted')\n",
    "    test_f1_scores.append(test_f1score)\n",
    "\n",
    "    total_val_loss = total_val_loss / (idx + 1)\n",
    "    val_loss.append(total_val_loss)\n",
    "\n",
    "    if epoch % 1 == 0:\n",
    "        print(\"Epoch: {}/{}  \".format(epoch, epochs),\n",
    "            \"Training loss: {:.4f}  \".format(total_train_loss),\n",
    "            \"Testing loss: {:.4f}  \".format(total_val_loss),\n",
    "            \"Train accuracy: {:.4f}  \".format(accuracy_train),\n",
    "            \"Test accuracy: {:.4f}  \".format(accuracy_val),\n",
    "            \"Train F1 Score: {:.4f}  \".format(train_f1score),\n",
    "            \"Test F1 Score: {:.4f}  \".format(test_f1score))"
   ]
  },
  {
   "cell_type": "code",
   "execution_count": 35,
   "metadata": {},
   "outputs": [
    {
     "data": {
      "image/png": "[encoded data removed]",
      "text/plain": [
       "<Figure size 432x288 with 1 Axes>"
      ]
     },
     "metadata": {
      "needs_background": "light"
     },
     "output_type": "display_data"
    }
   ],
   "source": [
    "plt.plot(train_f1_scores, label='Training f1-Scores')\n",
    "plt.plot(test_f1_scores, label='Testing f1-Scores')\n",
    "plt.legend()\n",
    "plt.grid()"
   ]
  },
  {
   "cell_type": "code",
   "execution_count": 36,
   "metadata": {},
   "outputs": [
    {
     "data": {
      "image/png": "[encoded data removed]",
      "text/plain": [
       "<Figure size 432x288 with 1 Axes>"
      ]
     },
     "metadata": {
      "needs_background": "light"
     },
     "output_type": "display_data"
    }
   ],
   "source": [
    "plt.plot(train_loss, label='Training loss')\n",
    "plt.plot(val_loss, label='Test loss')\n",
    "plt.legend()\n",
    "plt.grid()"
   ]
  },
  {
   "cell_type": "code",
   "execution_count": 37,
   "metadata": {},
   "outputs": [
    {
     "data": {
      "image/png": "[encoded data removed]",
      "text/plain": [
       "<Figure size 432x288 with 1 Axes>"
      ]
     },
     "metadata": {
      "needs_background": "light"
     },
     "output_type": "display_data"
    }
   ],
   "source": [
    "plt.plot(accuracy_total_train, label='Training Accuracy')\n",
    "plt.plot(accuracy_total_val, label='Test Accuracy')\n",
    "plt.legend()\n",
    "plt.grid()"
   ]
  },
  {
   "cell_type": "code",
   "execution_count": 38,
   "metadata": {},
   "outputs": [],
   "source": [
    "#saving the model\n",
    "\n",
    "MODEL_PATH = 'playermodel.pth'\n",
    "torch.save(model, MODEL_PATH)"
   ]
  },
  {
   "cell_type": "code",
   "execution_count": 39,
   "metadata": {},
   "outputs": [],
   "source": [
    "model = torch.load(MODEL_PATH)"
   ]
  },
  {
   "cell_type": "code",
   "execution_count": 40,
   "metadata": {},
   "outputs": [],
   "source": [
    "#Evaluation\n",
    "classes = ['Loss','Draw','Win']\n",
    "predict_list = []\n",
    "y_pred = model(Player_Test)\n",
    "\n",
    "for i, p in enumerate(y_pred):\n",
    "    y_pred = torch.max(p.data, 0)[1]\n",
    "    predict_list.append(y_pred)\n",
    "stacked_tensor = torch.stack(predict_list)\n",
    "y_test = y_test.cpu()"
   ]
  },
  {
   "cell_type": "code",
   "execution_count": 41,
   "metadata": {},
   "outputs": [
    {
     "name": "stdout",
     "output_type": "stream",
     "text": [
      "              precision    recall  f1-score   support\n",
      "\n",
      "        Loss       0.43      0.58      0.49      1189\n",
      "        Draw       0.29      0.15      0.20      1102\n",
      "         Win       0.60      0.63      0.61      1959\n",
      "\n",
      "    accuracy                           0.49      4250\n",
      "   macro avg       0.44      0.45      0.43      4250\n",
      "weighted avg       0.47      0.49      0.47      4250\n",
      "\n"
     ]
    }
   ],
   "source": [
    "print(classification_report(y_test, stacked_tensor, target_names=classes))"
   ]
  },
  {
   "cell_type": "code",
   "execution_count": 42,
   "metadata": {},
   "outputs": [
    {
     "data": {
      "text/plain": [
       "Text(0.5, 15.0, 'Predicted label')"
      ]
     },
     "execution_count": 42,
     "metadata": {},
     "output_type": "execute_result"
    },
    {
     "data": {
      "image/png": "[encoded data removed]",
      "text/plain": [
       "<Figure size 432x288 with 2 Axes>"
      ]
     },
     "metadata": {
      "needs_background": "light"
     },
     "output_type": "display_data"
    }
   ],
   "source": [
    "cm = confusion_matrix(y_test, stacked_tensor)\n",
    "df_cm = pd.DataFrame(cm, index=classes, columns=classes)\n",
    "hmap = sns.heatmap(df_cm, annot=True, fmt=\"d\")\n",
    "hmap.yaxis.set_ticklabels(hmap.yaxis.get_ticklabels(), rotation=0, ha='right')\n",
    "hmap.xaxis.set_ticklabels(hmap.xaxis.get_ticklabels(), rotation=0, ha='right')\n",
    "plt.ylabel('True label')\n",
    "plt.xlabel('Predicted label')"
   ]
  },
  {
   "cell_type": "code",
   "execution_count": 43,
   "metadata": {},
   "outputs": [
    {
     "name": "stdout",
     "output_type": "stream",
     "text": [
      "Accuracy of the network on the 4250 matches: 49 %\n"
     ]
    }
   ],
   "source": [
    "correct = 0\n",
    "total = 0\n",
    "\n",
    "with torch.no_grad():\n",
    "    for i, (x, y) in enumerate(test_loader):\n",
    "        outputs = model(x)\n",
    "        _, predicted = torch.max(outputs.data, 1)\n",
    "        total += y.size(0)\n",
    "        correct += (predicted == y).sum().item()\n",
    "\n",
    "print('Accuracy of the network on the 4250 matches: %d %%' % (\n",
    "    100 * correct / total))"
   ]
  },
  {
   "cell_type": "code",
   "execution_count": 45,
   "metadata": {},
   "outputs": [
    {
     "name": "stdout",
     "output_type": "stream",
     "text": [
      "Network(\n",
      "  (convolutaional_neural_network_layers): Sequential(\n",
      "    (0): Conv2d(19, 64, kernel_size=(1, 1), stride=(1, 1))\n",
      "    (1): ReLU()\n",
      "    (2): BatchNorm2d(64, eps=1e-05, momentum=0.1, affine=True, track_running_stats=True)\n",
      "    (3): Conv2d(64, 64, kernel_size=(1, 1), stride=(1, 1))\n",
      "    (4): ReLU()\n",
      "    (5): BatchNorm2d(64, eps=1e-05, momentum=0.1, affine=True, track_running_stats=True)\n",
      "    (6): Conv2d(64, 64, kernel_size=(1, 1), stride=(1, 1))\n",
      "    (7): ReLU()\n",
      "    (8): BatchNorm2d(64, eps=1e-05, momentum=0.1, affine=True, track_running_stats=True)\n",
      "    (9): AvgPool2d(kernel_size=11, stride=1, padding=0)\n",
      "  )\n",
      "  (linear_layers): Sequential(\n",
      "    (0): Linear(in_features=64, out_features=64, bias=True)\n",
      "    (1): ReLU()\n",
      "    (2): Dropout(p=0.2, inplace=False)\n",
      "    (3): Linear(in_features=64, out_features=64, bias=True)\n",
      "    (4): ReLU()\n",
      "    (5): Linear(in_features=64, out_features=64, bias=True)\n",
      "    (6): ReLU()\n",
      "    (7): Linear(in_features=64, out_features=3, bias=True)\n",
      "  )\n",
      ")\n"
     ]
    }
   ],
   "source": [
    "print(model)"
   ]
  },
  {
   "cell_type": "code",
   "execution_count": null,
   "metadata": {},
   "outputs": [],
   "source": []
  }
 ],
 "metadata": {
  "kernelspec": {
   "display_name": "Python 3",
   "language": "python",
   "name": "python3"
  },
  "language_info": {
   "codemirror_mode": {
    "name": "ipython",
    "version": 3
   },
   "file_extension": ".py",
   "mimetype": "text/x-python",
   "name": "python",
   "nbconvert_exporter": "python",
   "pygments_lexer": "ipython3",
   "version": "3.8.5"
  }
 },
 "nbformat": 4,
 "nbformat_minor": 4
}
